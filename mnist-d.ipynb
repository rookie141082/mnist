{
 "cells": [
  {
   "cell_type": "code",
   "execution_count": 1,
   "metadata": {},
   "outputs": [],
   "source": [
    "import numpy as np\n",
    "import tensorflow as tf\n",
    "from tensorflow.keras.datasets import mnist\n",
    "\n",
    "\n",
    "(x_train, y_train), (x_test, y_test) = mnist.load_data()\n",
    "\n",
    "x_train = x_train.reshape(-1, 28, 28, 1) / 255.0\n",
    "x_test = x_test.reshape(-1, 28, 28, 1) / 255.0\n",
    "\n",
    "def generate_random_number(number,x_data,y_data):\n",
    "    num_samples = number\n",
    "    data_numb=np.zeros((num_samples, 28, 100, 1), dtype=np.float32)\n",
    "    data_labe=np.zeros((num_samples, 5), dtype=np.int_)\n",
    "    for i in range(num_samples):\n",
    "        digit1 = np.random.randint(0, 10)\n",
    "        digit2 = np.random.randint(0, 10)\n",
    "        digit3 = np.random.randint(0, 10)\n",
    "        digit4 = np.random.randint(0, 10)\n",
    "        digit5 = np.random.randint(0, 10)\n",
    "\n",
    "\n",
    "        positions = np.random.choice([0, 1, 2], size=5)\n",
    "\n",
    "        canvas = np.zeros((28, 100, 1), dtype=np.float32)\n",
    "\n",
    "        lent_front = 0\n",
    "        for n, position in enumerate(positions):\n",
    "            digit = [digit1, digit2, digit3, digit4, digit5][n]\n",
    "            id=np.random.choice(y_data[y_data == digit])\n",
    "            if n==0:\n",
    "                lent_front = 28*n\n",
    "                x_data_front = np.zeros((28, lent_front, 1), dtype=np.float32)\n",
    "                x_data_after = np.zeros((28, 72-lent_front, 1), dtype=np.float32)\n",
    "            else:\n",
    "                numb=np.random.randint(8,18)\n",
    "                lent_front = lent_front+numb\n",
    "                x_data_front = np.zeros((28, lent_front, 1), dtype=np.float32)\n",
    "                x_data_after = np.zeros((28, 72-lent_front, 1), dtype=np.float32)\n",
    "            canvas_add = np.concatenate([x_data_front, x_data[id]], 1)\n",
    "            canvas_add = np.concatenate([canvas_add, x_data_after],  1)\n",
    "            canvas += canvas_add \n",
    "            data_labe[i][n]=y_data[id]\n",
    "        data_numb[i]=canvas \n",
    "    idx = list(range(len(data_numb)))\n",
    "    np.random.shuffle(idx)\n",
    "    data_numb = data_numb[idx]\n",
    "    data_labe = data_labe[idx]\n",
    "    print('end')\n",
    "    return data_numb, data_labe\n"
   ]
  },
  {
   "cell_type": "code",
   "execution_count": 2,
   "metadata": {},
   "outputs": [
    {
     "name": "stdout",
     "output_type": "stream",
     "text": [
      "end\n"
     ]
    }
   ],
   "source": [
    "x_data_random , y_data_random = generate_random_number(80000,x_train, y_train)"
   ]
  },
  {
   "cell_type": "code",
   "execution_count": 3,
   "metadata": {},
   "outputs": [],
   "source": [
    "x_train_ran , y_train_random = x_data_random[:60000] , y_data_random[:60000] \n",
    "x_test_ran , y_test_random = x_data_random[60000:70000] , y_data_random[60000:70000] \n",
    "x_verify_ran , y_verify_random = x_data_random[70000:] , y_data_random[70000:]  "
   ]
  },
  {
   "cell_type": "code",
   "execution_count": 74,
   "metadata": {},
   "outputs": [
    {
     "name": "stdout",
     "output_type": "stream",
     "text": [
      "Label:[2 1 0 1 0]\n"
     ]
    },
    {
     "data": {
      "image/png": "[encoded data removed]",
      "text/plain": [
       "<PIL.Image.Image image mode=L size=100x28>"
      ]
     },
     "metadata": {},
     "output_type": "display_data"
    }
   ],
   "source": [
    "from PIL import Image\n",
    "from IPython.display import display\n",
    "\n",
    "image_data = (np.squeeze(x_train_ran[0]) * 255).astype('uint8')\n",
    "image = Image.fromarray(image_data, 'L')\n",
    "\n",
    "title = f\"Label:{y_train_random[0]}\"\n",
    "print(title)\n",
    "display(image)"
   ]
  },
  {
   "cell_type": "code",
   "execution_count": 5,
   "metadata": {},
   "outputs": [
    {
     "name": "stdout",
     "output_type": "stream",
     "text": [
      "Epoch 1/40\n",
      "300/300 [==============================] - 82s 272ms/step - loss: 4.7274 - accuracy: 0.3474 - val_loss: 1.7945 - val_accuracy: 0.3887\n",
      "Epoch 2/40\n",
      "300/300 [==============================] - 88s 293ms/step - loss: 1.7372 - accuracy: 0.4106 - val_loss: 1.6386 - val_accuracy: 0.4605\n",
      "Epoch 3/40\n",
      "300/300 [==============================] - 88s 293ms/step - loss: 1.5742 - accuracy: 0.4991 - val_loss: 1.4549 - val_accuracy: 0.5635\n",
      "Epoch 4/40\n",
      "300/300 [==============================] - 84s 278ms/step - loss: 1.4134 - accuracy: 0.5996 - val_loss: 1.3304 - val_accuracy: 0.6367\n",
      "Epoch 5/40\n",
      "300/300 [==============================] - 86s 286ms/step - loss: 1.2910 - accuracy: 0.6703 - val_loss: 1.1957 - val_accuracy: 0.7265\n",
      "Epoch 6/40\n",
      "300/300 [==============================] - 84s 279ms/step - loss: 1.1967 - accuracy: 0.7255 - val_loss: 1.1133 - val_accuracy: 0.7811\n",
      "Epoch 7/40\n",
      "300/300 [==============================] - 84s 281ms/step - loss: 1.1248 - accuracy: 0.7564 - val_loss: 1.0530 - val_accuracy: 0.7784\n",
      "Epoch 8/40\n",
      "300/300 [==============================] - 84s 281ms/step - loss: 1.0728 - accuracy: 0.7700 - val_loss: 1.0130 - val_accuracy: 0.7867\n",
      "Epoch 9/40\n",
      "300/300 [==============================] - 84s 279ms/step - loss: 1.0362 - accuracy: 0.7802 - val_loss: 0.9867 - val_accuracy: 0.7910\n",
      "Epoch 10/40\n",
      "300/300 [==============================] - 81s 270ms/step - loss: 1.0115 - accuracy: 0.7829 - val_loss: 0.9703 - val_accuracy: 0.7924\n",
      "Epoch 11/40\n",
      "300/300 [==============================] - 88s 293ms/step - loss: 0.9914 - accuracy: 0.7872 - val_loss: 0.9553 - val_accuracy: 0.7938\n",
      "Epoch 12/40\n",
      "300/300 [==============================] - 82s 273ms/step - loss: 0.9740 - accuracy: 0.7882 - val_loss: 0.9382 - val_accuracy: 0.7942\n",
      "Epoch 13/40\n",
      "300/300 [==============================] - 82s 275ms/step - loss: 0.9997 - accuracy: 0.7849 - val_loss: 0.9170 - val_accuracy: 0.8031\n",
      "Epoch 14/40\n",
      "300/300 [==============================] - 82s 272ms/step - loss: 0.9366 - accuracy: 0.8339 - val_loss: 0.8980 - val_accuracy: 0.8281\n",
      "Epoch 15/40\n",
      "300/300 [==============================] - 81s 271ms/step - loss: 0.9081 - accuracy: 0.8783 - val_loss: 0.8790 - val_accuracy: 0.8838\n",
      "Epoch 16/40\n",
      "300/300 [==============================] - 82s 272ms/step - loss: 0.8945 - accuracy: 0.8975 - val_loss: 0.8616 - val_accuracy: 0.9532\n",
      "Epoch 17/40\n",
      "300/300 [==============================] - 85s 282ms/step - loss: 0.8662 - accuracy: 0.9580 - val_loss: 0.8126 - val_accuracy: 0.9912\n",
      "Epoch 18/40\n",
      "300/300 [==============================] - 85s 284ms/step - loss: 0.8324 - accuracy: 0.9797 - val_loss: 0.7990 - val_accuracy: 0.9927\n",
      "Epoch 19/40\n",
      "300/300 [==============================] - 84s 280ms/step - loss: 0.8113 - accuracy: 0.9843 - val_loss: 0.7685 - val_accuracy: 0.9932\n",
      "Epoch 20/40\n",
      "300/300 [==============================] - 84s 279ms/step - loss: 0.7811 - accuracy: 0.9872 - val_loss: 0.7461 - val_accuracy: 0.9946\n",
      "Epoch 21/40\n",
      "300/300 [==============================] - 83s 277ms/step - loss: 0.7596 - accuracy: 0.9884 - val_loss: 0.7299 - val_accuracy: 0.9954\n",
      "Epoch 22/40\n",
      "300/300 [==============================] - 83s 275ms/step - loss: 0.7462 - accuracy: 0.9906 - val_loss: 0.7203 - val_accuracy: 0.9964\n",
      "Epoch 23/40\n",
      "300/300 [==============================] - 82s 274ms/step - loss: 0.7355 - accuracy: 0.9912 - val_loss: 0.7168 - val_accuracy: 0.9952\n",
      "Epoch 24/40\n",
      "300/300 [==============================] - 82s 275ms/step - loss: 0.7306 - accuracy: 0.9912 - val_loss: 0.7052 - val_accuracy: 0.9974\n",
      "Epoch 25/40\n",
      "300/300 [==============================] - 82s 274ms/step - loss: 0.7217 - accuracy: 0.9921 - val_loss: 0.6994 - val_accuracy: 0.9979\n",
      "Epoch 26/40\n",
      "300/300 [==============================] - 82s 273ms/step - loss: 0.7141 - accuracy: 0.9928 - val_loss: 0.6917 - val_accuracy: 0.9972\n",
      "Epoch 27/40\n",
      "300/300 [==============================] - 82s 274ms/step - loss: 0.7069 - accuracy: 0.9939 - val_loss: 0.6884 - val_accuracy: 0.9977\n",
      "Epoch 28/40\n",
      "300/300 [==============================] - 85s 282ms/step - loss: 0.7080 - accuracy: 0.9931 - val_loss: 0.6863 - val_accuracy: 0.9982\n",
      "Epoch 29/40\n",
      "300/300 [==============================] - 94s 313ms/step - loss: 0.7022 - accuracy: 0.9945 - val_loss: 0.6838 - val_accuracy: 0.9985\n",
      "Epoch 30/40\n",
      "300/300 [==============================] - 104s 347ms/step - loss: 0.7427 - accuracy: 0.9829 - val_loss: 0.6843 - val_accuracy: 0.9978\n",
      "Epoch 31/40\n",
      "300/300 [==============================] - 94s 312ms/step - loss: 0.6942 - accuracy: 0.9952 - val_loss: 0.6772 - val_accuracy: 0.9984\n",
      "Epoch 32/40\n",
      "300/300 [==============================] - 97s 322ms/step - loss: 0.6920 - accuracy: 0.9951 - val_loss: 0.6759 - val_accuracy: 0.9984\n",
      "Epoch 33/40\n",
      "300/300 [==============================] - 94s 312ms/step - loss: 0.6877 - accuracy: 0.9951 - val_loss: 0.6699 - val_accuracy: 0.9983\n",
      "Epoch 34/40\n",
      "300/300 [==============================] - 87s 290ms/step - loss: 0.6849 - accuracy: 0.9954 - val_loss: 0.6703 - val_accuracy: 0.9985\n",
      "Epoch 35/40\n",
      "300/300 [==============================] - 86s 286ms/step - loss: 0.6829 - accuracy: 0.9957 - val_loss: 0.6677 - val_accuracy: 0.9989\n",
      "Epoch 36/40\n",
      "300/300 [==============================] - 112s 375ms/step - loss: 0.6835 - accuracy: 0.9952 - val_loss: 0.6670 - val_accuracy: 0.9987\n",
      "Epoch 37/40\n",
      "300/300 [==============================] - 108s 361ms/step - loss: 0.6815 - accuracy: 0.9955 - val_loss: 0.6662 - val_accuracy: 0.9981\n",
      "Epoch 38/40\n",
      "300/300 [==============================] - 95s 317ms/step - loss: 0.6807 - accuracy: 0.9957 - val_loss: 0.6662 - val_accuracy: 0.9988\n",
      "Epoch 39/40\n",
      "300/300 [==============================] - 84s 278ms/step - loss: 0.6785 - accuracy: 0.9961 - val_loss: 0.6647 - val_accuracy: 0.9987\n",
      "Epoch 40/40\n",
      "300/300 [==============================] - 85s 283ms/step - loss: 0.6766 - accuracy: 0.9962 - val_loss: 0.6677 - val_accuracy: 0.9977\n"
     ]
    }
   ],
   "source": [
    "import tensorflow as tf\n",
    "from tensorflow.keras.layers import Input, Conv2D, MaxPooling2D, Reshape, Dense, LSTM, Bidirectional\n",
    "from tensorflow.keras.models import Model\n",
    "from tensorflow import keras\n",
    "from tensorflow.keras.regularizers import l2\n",
    "from tensorflow.keras.callbacks import ReduceLROnPlateau \n",
    "\n",
    "input_shape = (28, 100, 1)\n",
    "\n",
    "#CNN\n",
    "input_img = Input(shape=input_shape, name=\"image\", dtype=\"float32\")\n",
    "x = Conv2D(32, (3, 3), activation='tanh', kernel_regularizer=l2(0.4))(input_img)\n",
    "x = MaxPooling2D((2, 2))(x)\n",
    "x = Conv2D(64, (3, 3), activation='tanh', kernel_regularizer=l2(0.4))(x)\n",
    "x = MaxPooling2D((2, 2))(x)\n",
    "x = Reshape(target_shape=(5, 1472))(x)\n",
    "\n",
    "#RNN\n",
    "x = Bidirectional(LSTM(128, return_sequences=True, dropout=0.4))(x)\n",
    "x = Bidirectional(LSTM(64, return_sequences=True, dropout=0.4))(x)\n",
    "\n",
    "output = Dense(10, activation=\"softmax\", kernel_regularizer=l2(0.4))(x) \n",
    "\n",
    "model = Model(inputs=input_img, outputs=output)\n",
    "\n",
    "model.compile(optimizer=keras.optimizers.Adam(learning_rate=0.001),\n",
    "              loss='sparse_categorical_crossentropy', \n",
    "              metrics=['accuracy'])#\n",
    "\n",
    "reduce_lr = ReduceLROnPlateau(patience =3, factor = 0.01, weightdecay = 0.05, verbose = 1) \n",
    "early_stopping = keras.callbacks.EarlyStopping(monitor=\"val_loss\", \n",
    "                                               patience=10, restore_best_weights=True)\n",
    "#train model\n",
    "history = model.fit(x_train_ran, y_train_random, epochs=40, verbose=1, batch_size=200, \n",
    "          validation_data=(x_verify_ran, y_verify_random), callbacks=[early_stopping, reduce_lr ])"
   ]
  },
  {
   "cell_type": "code",
   "execution_count": 6,
   "metadata": {},
   "outputs": [
    {
     "data": {
      "application/vnd.plotly.v1+json": {
       "config": {
        "plotlyServerURL": "https://plot.ly"
       },
       "data": [
        {
         "line": {
          "color": "blue"
         },
         "mode": "lines",
         "name": "Train",
         "type": "scatter",
         "x": [
          1,
          2,
          3,
          4,
          5,
          6,
          7,
          8,
          9,
          10,
          11,
          12,
          13,
          14,
          15,
          16,
          17,
          18,
          19,
          20,
          21,
          22,
          23,
          24,
          25,
          26,
          27,
          28,
          29,
          30,
          31,
          32,
          33,
          34,
          35,
          36,
          37,
          38,
          39,
          40
         ],
         "xaxis": "x",
         "y": [
          0.3473866581916809,
          0.4106200039386749,
          0.49908334016799927,
          0.599590003490448,
          0.6703400015830994,
          0.7254566550254822,
          0.7564233541488647,
          0.7699733376502991,
          0.7802266478538513,
          0.7829300165176392,
          0.7872099876403809,
          0.7881699800491333,
          0.78493332862854,
          0.833893358707428,
          0.8783166408538818,
          0.8974566459655762,
          0.9580166935920715,
          0.9796933531761169,
          0.9843166470527649,
          0.9872499704360962,
          0.9884099960327148,
          0.9906133413314819,
          0.9911699891090393,
          0.991236686706543,
          0.9920933246612549,
          0.9927966594696045,
          0.9938933253288269,
          0.9931433200836182,
          0.9944666624069214,
          0.98294997215271,
          0.9952133297920227,
          0.9951300024986267,
          0.9951033592224121,
          0.9954266548156738,
          0.9956633448600769,
          0.995199978351593,
          0.9955133199691772,
          0.9957333207130432,
          0.9960799813270569,
          0.9962266683578491
         ],
         "yaxis": "y"
        },
        {
         "line": {
          "color": "orange"
         },
         "mode": "lines",
         "name": "Validation",
         "type": "scatter",
         "x": [
          1,
          2,
          3,
          4,
          5,
          6,
          7,
          8,
          9,
          10,
          11,
          12,
          13,
          14,
          15,
          16,
          17,
          18,
          19,
          20,
          21,
          22,
          23,
          24,
          25,
          26,
          27,
          28,
          29,
          30,
          31,
          32,
          33,
          34,
          35,
          36,
          37,
          38,
          39,
          40
         ],
         "xaxis": "x",
         "y": [
          0.388700008392334,
          0.46050000190734863,
          0.563539981842041,
          0.6366999745368958,
          0.7264800071716309,
          0.7811400294303894,
          0.7784199714660645,
          0.7867199778556824,
          0.7910000085830688,
          0.7924200296401978,
          0.7938200235366821,
          0.7942399978637695,
          0.8031399846076965,
          0.8281000256538391,
          0.8838199973106384,
          0.953220009803772,
          0.9912199974060059,
          0.9927399754524231,
          0.9932000041007996,
          0.9946200251579285,
          0.9953600168228149,
          0.9963799715042114,
          0.9952399730682373,
          0.9973999857902527,
          0.9978799819946289,
          0.997160017490387,
          0.9977399706840515,
          0.9982200264930725,
          0.9984999895095825,
          0.9978200197219849,
          0.998420000076294,
          0.998420000076294,
          0.9983000159263611,
          0.9984599947929382,
          0.9988600015640259,
          0.9987199902534485,
          0.9981399774551392,
          0.9987800121307373,
          0.998740017414093,
          0.9977399706840515
         ],
         "yaxis": "y"
        },
        {
         "line": {
          "color": "blue"
         },
         "mode": "lines",
         "name": "Train",
         "showlegend": false,
         "type": "scatter",
         "x": [
          1,
          2,
          3,
          4,
          5,
          6,
          7,
          8,
          9,
          10,
          11,
          12,
          13,
          14,
          15,
          16,
          17,
          18,
          19,
          20,
          21,
          22,
          23,
          24,
          25,
          26,
          27,
          28,
          29,
          30,
          31,
          32,
          33,
          34,
          35,
          36,
          37,
          38,
          39,
          40
         ],
         "xaxis": "x2",
         "y": [
          4.7274394035339355,
          1.7371976375579834,
          1.574212670326233,
          1.4134035110473633,
          1.29096257686615,
          1.1967096328735352,
          1.1247825622558594,
          1.0727754831314087,
          1.0362467765808105,
          1.0114983320236206,
          0.991376519203186,
          0.9739952683448792,
          0.999677300453186,
          0.9366288185119629,
          0.9080780744552612,
          0.8944960832595825,
          0.8662234544754028,
          0.832427978515625,
          0.8113082051277161,
          0.7810937762260437,
          0.7595687508583069,
          0.7462460994720459,
          0.7355049848556519,
          0.7305931448936462,
          0.7216752171516418,
          0.7141240835189819,
          0.7069171071052551,
          0.7079991102218628,
          0.7021757364273071,
          0.7426817417144775,
          0.6942077279090881,
          0.692012369632721,
          0.6877257227897644,
          0.6849297285079956,
          0.6829261779785156,
          0.6835476756095886,
          0.6814624071121216,
          0.6807491779327393,
          0.678521990776062,
          0.6765880584716797
         ],
         "yaxis": "y2"
        },
        {
         "line": {
          "color": "orange"
         },
         "mode": "lines",
         "name": "Validation",
         "showlegend": false,
         "type": "scatter",
         "x": [
          1,
          2,
          3,
          4,
          5,
          6,
          7,
          8,
          9,
          10,
          11,
          12,
          13,
          14,
          15,
          16,
          17,
          18,
          19,
          20,
          21,
          22,
          23,
          24,
          25,
          26,
          27,
          28,
          29,
          30,
          31,
          32,
          33,
          34,
          35,
          36,
          37,
          38,
          39,
          40
         ],
         "xaxis": "x2",
         "y": [
          1.7945293188095093,
          1.6386222839355469,
          1.4549061059951782,
          1.3304462432861328,
          1.195730447769165,
          1.1132973432540894,
          1.053023099899292,
          1.0129725933074951,
          0.986656129360199,
          0.970297634601593,
          0.9552640914916992,
          0.9381680488586426,
          0.9169710874557495,
          0.8979933857917786,
          0.8789817094802856,
          0.8616337776184082,
          0.8126049041748047,
          0.7990093231201172,
          0.76852947473526,
          0.7460825443267822,
          0.7299487590789795,
          0.7202646136283875,
          0.7167515158653259,
          0.7052313089370728,
          0.6994290351867676,
          0.6916562914848328,
          0.6883628964424133,
          0.6863466501235962,
          0.6837612986564636,
          0.6843119859695435,
          0.677198588848114,
          0.6758654117584229,
          0.669917106628418,
          0.670305609703064,
          0.6677375435829163,
          0.6670448780059814,
          0.6661937236785889,
          0.6662008166313171,
          0.6646731495857239,
          0.6677274703979492
         ],
         "yaxis": "y2"
        }
       ],
       "layout": {
        "annotations": [
         {
          "font": {
           "size": 16
          },
          "showarrow": false,
          "text": "Model accuracy",
          "x": 0.225,
          "xanchor": "center",
          "xref": "paper",
          "y": 1,
          "yanchor": "bottom",
          "yref": "paper"
         },
         {
          "font": {
           "size": 16
          },
          "showarrow": false,
          "text": "Model loss",
          "x": 0.775,
          "xanchor": "center",
          "xref": "paper",
          "y": 1,
          "yanchor": "bottom",
          "yref": "paper"
         }
        ],
        "legend": {
         "x": 0.85,
         "y": 1
        },
        "template": {
         "data": {
          "bar": [
           {
            "error_x": {
             "color": "#2a3f5f"
            },
            "error_y": {
             "color": "#2a3f5f"
            },
            "marker": {
             "line": {
              "color": "#E5ECF6",
              "width": 0.5
             },
             "pattern": {
              "fillmode": "overlay",
              "size": 10,
              "solidity": 0.2
             }
            },
            "type": "bar"
           }
          ],
          "barpolar": [
           {
            "marker": {
             "line": {
              "color": "#E5ECF6",
              "width": 0.5
             },
             "pattern": {
              "fillmode": "overlay",
              "size": 10,
              "solidity": 0.2
             }
            },
            "type": "barpolar"
           }
          ],
          "carpet": [
           {
            "aaxis": {
             "endlinecolor": "#2a3f5f",
             "gridcolor": "white",
             "linecolor": "white",
             "minorgridcolor": "white",
             "startlinecolor": "#2a3f5f"
            },
            "baxis": {
             "endlinecolor": "#2a3f5f",
             "gridcolor": "white",
             "linecolor": "white",
             "minorgridcolor": "white",
             "startlinecolor": "#2a3f5f"
            },
            "type": "carpet"
           }
          ],
          "choropleth": [
           {
            "colorbar": {
             "outlinewidth": 0,
             "ticks": ""
            },
            "type": "choropleth"
           }
          ],
          "contour": [
           {
            "colorbar": {
             "outlinewidth": 0,
             "ticks": ""
            },
            "colorscale": [
             [
              0,
              "#0d0887"
             ],
             [
              0.1111111111111111,
              "#46039f"
             ],
             [
              0.2222222222222222,
              "#7201a8"
             ],
             [
              0.3333333333333333,
              "#9c179e"
             ],
             [
              0.4444444444444444,
              "#bd3786"
             ],
             [
              0.5555555555555556,
              "#d8576b"
             ],
             [
              0.6666666666666666,
              "#ed7953"
             ],
             [
              0.7777777777777778,
              "#fb9f3a"
             ],
             [
              0.8888888888888888,
              "#fdca26"
             ],
             [
              1,
              "#f0f921"
             ]
            ],
            "type": "contour"
           }
          ],
          "contourcarpet": [
           {
            "colorbar": {
             "outlinewidth": 0,
             "ticks": ""
            },
            "type": "contourcarpet"
           }
          ],
          "heatmap": [
           {
            "colorbar": {
             "outlinewidth": 0,
             "ticks": ""
            },
            "colorscale": [
             [
              0,
              "#0d0887"
             ],
             [
              0.1111111111111111,
              "#46039f"
             ],
             [
              0.2222222222222222,
              "#7201a8"
             ],
             [
              0.3333333333333333,
              "#9c179e"
             ],
             [
              0.4444444444444444,
              "#bd3786"
             ],
             [
              0.5555555555555556,
              "#d8576b"
             ],
             [
              0.6666666666666666,
              "#ed7953"
             ],
             [
              0.7777777777777778,
              "#fb9f3a"
             ],
             [
              0.8888888888888888,
              "#fdca26"
             ],
             [
              1,
              "#f0f921"
             ]
            ],
            "type": "heatmap"
           }
          ],
          "heatmapgl": [
           {
            "colorbar": {
             "outlinewidth": 0,
             "ticks": ""
            },
            "colorscale": [
             [
              0,
              "#0d0887"
             ],
             [
              0.1111111111111111,
              "#46039f"
             ],
             [
              0.2222222222222222,
              "#7201a8"
             ],
             [
              0.3333333333333333,
              "#9c179e"
             ],
             [
              0.4444444444444444,
              "#bd3786"
             ],
             [
              0.5555555555555556,
              "#d8576b"
             ],
             [
              0.6666666666666666,
              "#ed7953"
             ],
             [
              0.7777777777777778,
              "#fb9f3a"
             ],
             [
              0.8888888888888888,
              "#fdca26"
             ],
             [
              1,
              "#f0f921"
             ]
            ],
            "type": "heatmapgl"
           }
          ],
          "histogram": [
           {
            "marker": {
             "pattern": {
              "fillmode": "overlay",
              "size": 10,
              "solidity": 0.2
             }
            },
            "type": "histogram"
           }
          ],
          "histogram2d": [
           {
            "colorbar": {
             "outlinewidth": 0,
             "ticks": ""
            },
            "colorscale": [
             [
              0,
              "#0d0887"
             ],
             [
              0.1111111111111111,
              "#46039f"
             ],
             [
              0.2222222222222222,
              "#7201a8"
             ],
             [
              0.3333333333333333,
              "#9c179e"
             ],
             [
              0.4444444444444444,
              "#bd3786"
             ],
             [
              0.5555555555555556,
              "#d8576b"
             ],
             [
              0.6666666666666666,
              "#ed7953"
             ],
             [
              0.7777777777777778,
              "#fb9f3a"
             ],
             [
              0.8888888888888888,
              "#fdca26"
             ],
             [
              1,
              "#f0f921"
             ]
            ],
            "type": "histogram2d"
           }
          ],
          "histogram2dcontour": [
           {
            "colorbar": {
             "outlinewidth": 0,
             "ticks": ""
            },
            "colorscale": [
             [
              0,
              "#0d0887"
             ],
             [
              0.1111111111111111,
              "#46039f"
             ],
             [
              0.2222222222222222,
              "#7201a8"
             ],
             [
              0.3333333333333333,
              "#9c179e"
             ],
             [
              0.4444444444444444,
              "#bd3786"
             ],
             [
              0.5555555555555556,
              "#d8576b"
             ],
             [
              0.6666666666666666,
              "#ed7953"
             ],
             [
              0.7777777777777778,
              "#fb9f3a"
             ],
             [
              0.8888888888888888,
              "#fdca26"
             ],
             [
              1,
              "#f0f921"
             ]
            ],
            "type": "histogram2dcontour"
           }
          ],
          "mesh3d": [
           {
            "colorbar": {
             "outlinewidth": 0,
             "ticks": ""
            },
            "type": "mesh3d"
           }
          ],
          "parcoords": [
           {
            "line": {
             "colorbar": {
              "outlinewidth": 0,
              "ticks": ""
             }
            },
            "type": "parcoords"
           }
          ],
          "pie": [
           {
            "automargin": true,
            "type": "pie"
           }
          ],
          "scatter": [
           {
            "fillpattern": {
             "fillmode": "overlay",
             "size": 10,
             "solidity": 0.2
            },
            "type": "scatter"
           }
          ],
          "scatter3d": [
           {
            "line": {
             "colorbar": {
              "outlinewidth": 0,
              "ticks": ""
             }
            },
            "marker": {
             "colorbar": {
              "outlinewidth": 0,
              "ticks": ""
             }
            },
            "type": "scatter3d"
           }
          ],
          "scattercarpet": [
           {
            "marker": {
             "colorbar": {
              "outlinewidth": 0,
              "ticks": ""
             }
            },
            "type": "scattercarpet"
           }
          ],
          "scattergeo": [
           {
            "marker": {
             "colorbar": {
              "outlinewidth": 0,
              "ticks": ""
             }
            },
            "type": "scattergeo"
           }
          ],
          "scattergl": [
           {
            "marker": {
             "colorbar": {
              "outlinewidth": 0,
              "ticks": ""
             }
            },
            "type": "scattergl"
           }
          ],
          "scattermapbox": [
           {
            "marker": {
             "colorbar": {
              "outlinewidth": 0,
              "ticks": ""
             }
            },
            "type": "scattermapbox"
           }
          ],
          "scatterpolar": [
           {
            "marker": {
             "colorbar": {
              "outlinewidth": 0,
              "ticks": ""
             }
            },
            "type": "scatterpolar"
           }
          ],
          "scatterpolargl": [
           {
            "marker": {
             "colorbar": {
              "outlinewidth": 0,
              "ticks": ""
             }
            },
            "type": "scatterpolargl"
           }
          ],
          "scatterternary": [
           {
            "marker": {
             "colorbar": {
              "outlinewidth": 0,
              "ticks": ""
             }
            },
            "type": "scatterternary"
           }
          ],
          "surface": [
           {
            "colorbar": {
             "outlinewidth": 0,
             "ticks": ""
            },
            "colorscale": [
             [
              0,
              "#0d0887"
             ],
             [
              0.1111111111111111,
              "#46039f"
             ],
             [
              0.2222222222222222,
              "#7201a8"
             ],
             [
              0.3333333333333333,
              "#9c179e"
             ],
             [
              0.4444444444444444,
              "#bd3786"
             ],
             [
              0.5555555555555556,
              "#d8576b"
             ],
             [
              0.6666666666666666,
              "#ed7953"
             ],
             [
              0.7777777777777778,
              "#fb9f3a"
             ],
             [
              0.8888888888888888,
              "#fdca26"
             ],
             [
              1,
              "#f0f921"
             ]
            ],
            "type": "surface"
           }
          ],
          "table": [
           {
            "cells": {
             "fill": {
              "color": "#EBF0F8"
             },
             "line": {
              "color": "white"
             }
            },
            "header": {
             "fill": {
              "color": "#C8D4E3"
             },
             "line": {
              "color": "white"
             }
            },
            "type": "table"
           }
          ]
         },
         "layout": {
          "annotationdefaults": {
           "arrowcolor": "#2a3f5f",
           "arrowhead": 0,
           "arrowwidth": 1
          },
          "autotypenumbers": "strict",
          "coloraxis": {
           "colorbar": {
            "outlinewidth": 0,
            "ticks": ""
           }
          },
          "colorscale": {
           "diverging": [
            [
             0,
             "#8e0152"
            ],
            [
             0.1,
             "#c51b7d"
            ],
            [
             0.2,
             "#de77ae"
            ],
            [
             0.3,
             "#f1b6da"
            ],
            [
             0.4,
             "#fde0ef"
            ],
            [
             0.5,
             "#f7f7f7"
            ],
            [
             0.6,
             "#e6f5d0"
            ],
            [
             0.7,
             "#b8e186"
            ],
            [
             0.8,
             "#7fbc41"
            ],
            [
             0.9,
             "#4d9221"
            ],
            [
             1,
             "#276419"
            ]
           ],
           "sequential": [
            [
             0,
             "#0d0887"
            ],
            [
             0.1111111111111111,
             "#46039f"
            ],
            [
             0.2222222222222222,
             "#7201a8"
            ],
            [
             0.3333333333333333,
             "#9c179e"
            ],
            [
             0.4444444444444444,
             "#bd3786"
            ],
            [
             0.5555555555555556,
             "#d8576b"
            ],
            [
             0.6666666666666666,
             "#ed7953"
            ],
            [
             0.7777777777777778,
             "#fb9f3a"
            ],
            [
             0.8888888888888888,
             "#fdca26"
            ],
            [
             1,
             "#f0f921"
            ]
           ],
           "sequentialminus": [
            [
             0,
             "#0d0887"
            ],
            [
             0.1111111111111111,
             "#46039f"
            ],
            [
             0.2222222222222222,
             "#7201a8"
            ],
            [
             0.3333333333333333,
             "#9c179e"
            ],
            [
             0.4444444444444444,
             "#bd3786"
            ],
            [
             0.5555555555555556,
             "#d8576b"
            ],
            [
             0.6666666666666666,
             "#ed7953"
            ],
            [
             0.7777777777777778,
             "#fb9f3a"
            ],
            [
             0.8888888888888888,
             "#fdca26"
            ],
            [
             1,
             "#f0f921"
            ]
           ]
          },
          "colorway": [
           "#636efa",
           "#EF553B",
           "#00cc96",
           "#ab63fa",
           "#FFA15A",
           "#19d3f3",
           "#FF6692",
           "#B6E880",
           "#FF97FF",
           "#FECB52"
          ],
          "font": {
           "color": "#2a3f5f"
          },
          "geo": {
           "bgcolor": "white",
           "lakecolor": "white",
           "landcolor": "#E5ECF6",
           "showlakes": true,
           "showland": true,
           "subunitcolor": "white"
          },
          "hoverlabel": {
           "align": "left"
          },
          "hovermode": "closest",
          "mapbox": {
           "style": "light"
          },
          "paper_bgcolor": "white",
          "plot_bgcolor": "#E5ECF6",
          "polar": {
           "angularaxis": {
            "gridcolor": "white",
            "linecolor": "white",
            "ticks": ""
           },
           "bgcolor": "#E5ECF6",
           "radialaxis": {
            "gridcolor": "white",
            "linecolor": "white",
            "ticks": ""
           }
          },
          "scene": {
           "xaxis": {
            "backgroundcolor": "#E5ECF6",
            "gridcolor": "white",
            "gridwidth": 2,
            "linecolor": "white",
            "showbackground": true,
            "ticks": "",
            "zerolinecolor": "white"
           },
           "yaxis": {
            "backgroundcolor": "#E5ECF6",
            "gridcolor": "white",
            "gridwidth": 2,
            "linecolor": "white",
            "showbackground": true,
            "ticks": "",
            "zerolinecolor": "white"
           },
           "zaxis": {
            "backgroundcolor": "#E5ECF6",
            "gridcolor": "white",
            "gridwidth": 2,
            "linecolor": "white",
            "showbackground": true,
            "ticks": "",
            "zerolinecolor": "white"
           }
          },
          "shapedefaults": {
           "line": {
            "color": "#2a3f5f"
           }
          },
          "ternary": {
           "aaxis": {
            "gridcolor": "white",
            "linecolor": "white",
            "ticks": ""
           },
           "baxis": {
            "gridcolor": "white",
            "linecolor": "white",
            "ticks": ""
           },
           "bgcolor": "#E5ECF6",
           "caxis": {
            "gridcolor": "white",
            "linecolor": "white",
            "ticks": ""
           }
          },
          "title": {
           "x": 0.05
          },
          "xaxis": {
           "automargin": true,
           "gridcolor": "white",
           "linecolor": "white",
           "ticks": "",
           "title": {
            "standoff": 15
           },
           "zerolinecolor": "white",
           "zerolinewidth": 2
          },
          "yaxis": {
           "automargin": true,
           "gridcolor": "white",
           "linecolor": "white",
           "ticks": "",
           "title": {
            "standoff": 15
           },
           "zerolinecolor": "white",
           "zerolinewidth": 2
          }
         }
        },
        "title": {
         "text": "Model Training History"
        },
        "xaxis": {
         "anchor": "y",
         "domain": [
          0,
          0.45
         ],
         "title": {
          "text": "Epoch"
         }
        },
        "xaxis2": {
         "anchor": "y2",
         "domain": [
          0.55,
          1
         ]
        },
        "yaxis": {
         "anchor": "x",
         "domain": [
          0,
          1
         ],
         "title": {
          "text": "Value"
         }
        },
        "yaxis2": {
         "anchor": "x2",
         "domain": [
          0,
          1
         ]
        }
       }
      }
     },
     "metadata": {},
     "output_type": "display_data"
    }
   ],
   "source": [
    "import plotly.graph_objects as go\n",
    "from plotly.subplots import make_subplots\n",
    "\n",
    "fig = make_subplots(rows=1, cols=2, subplot_titles=(\"Model accuracy\", \"Model loss\"))\n",
    "\n",
    "# Add the first subplot for accuracy\n",
    "fig.add_trace(go.Scatter(x=list(range(1, len(history.history['accuracy']) + 1)),\n",
    "                         y=history.history['accuracy'], mode='lines',\n",
    "                         name='Train', line=dict(color='blue')), row=1, col=1)\n",
    "fig.add_trace(go.Scatter(x=list(range(1, len(history.history['val_accuracy']) + 1)),\n",
    "                         y=history.history['val_accuracy'], mode='lines',\n",
    "                         name='Validation', line=dict(color='orange')), row=1, col=1)\n",
    "\n",
    "# Add the second subplot for loss\n",
    "fig.add_trace(go.Scatter(x=list(range(1, len(history.history['loss']) + 1)),\n",
    "                         y=history.history['loss'], mode='lines',\n",
    "                         name='Train', line=dict(color='blue'), showlegend=False), row=1, col=2)\n",
    "fig.add_trace(go.Scatter(x=list(range(1, len(history.history['val_loss']) + 1)),\n",
    "                         y=history.history['val_loss'], mode='lines',\n",
    "                         name='Validation', line=dict(color='orange'), showlegend=False), row=1, col=2)\n",
    "\n",
    "fig.update_layout(title=\"Model Training History\",\n",
    "                  xaxis_title=\"Epoch\",\n",
    "                  yaxis_title=\"Value\",\n",
    "                  legend=dict(x=0.85, y=1))\n",
    "\n",
    "fig.show()"
   ]
  },
  {
   "cell_type": "code",
   "execution_count": 7,
   "metadata": {},
   "outputs": [
    {
     "name": "stdout",
     "output_type": "stream",
     "text": [
      "313/313 [==============================] - 6s 18ms/step - loss: 0.6671 - accuracy: 0.9974\n",
      "Test Accuracy: 99.74%\n"
     ]
    }
   ],
   "source": [
    "# Evaluate the model on the test dataset\n",
    "test_loss, test_accuracy = model.evaluate(x_test_ran, y_test_random)\n",
    "print(f'Test Accuracy: {test_accuracy * 100:.2f}%')"
   ]
  },
  {
   "cell_type": "code",
   "execution_count": 75,
   "metadata": {},
   "outputs": [
    {
     "name": "stdout",
     "output_type": "stream",
     "text": [
      "Label:[5 3 9 4 3]; Predicted:[5 3 9 4 3]\n"
     ]
    },
    {
     "data": {
      "image/png": "[encoded data removed]",
      "text/plain": [
       "<PIL.Image.Image image mode=L size=100x28>"
      ]
     },
     "metadata": {},
     "output_type": "display_data"
    }
   ],
   "source": [
    "from PIL import Image\n",
    "from IPython.display import display\n",
    "\n",
    "image_data = (np.squeeze(x_test_ran[0]) * 255).astype('uint8')\n",
    "image = Image.fromarray(image_data, 'L')\n",
    "\n",
    "title = f\"Label:{y_test_random[0]}; Predicted:{y_pred[0]}\"\n",
    "print(title)\n",
    "display(image)"
   ]
  },
  {
   "cell_type": "code",
   "execution_count": 70,
   "metadata": {},
   "outputs": [
    {
     "name": "stdout",
     "output_type": "stream",
     "text": [
      "100\n",
      "Images saved successfully.\n"
     ]
    }
   ],
   "source": [
    "from PIL import Image, ImageDraw, ImageFont\n",
    "import numpy as np\n",
    "\n",
    "id = list(range(len(x_test)))\n",
    "#打乱顺序\n",
    "np.random.shuffle(id)\n",
    "id_exam=id[:100]\n",
    "print(len(id_exam))\n",
    "for h in id_exam:\n",
    "    image_data = (np.squeeze(x_test_ran[h]) * 255).astype('uint8')\n",
    "    image = Image.fromarray(image_data, 'L')\n",
    "    draw = ImageDraw.Draw(image)\n",
    "    font = ImageFont.load_default() \n",
    "    title=f\"Lab_{y_test_random[h]}-Pre_{y_pred[h]}\"\n",
    "    name=title.replace(\" \", \"\")\n",
    "    name=name.replace(\"[\", \"\")\n",
    "    name=name.replace(\"]\", \"\")\n",
    "    file_name = \"E:/pythonfile/images/\"+name+\".png\"\n",
    "    image.save(file_name)\n",
    "\n",
    "print(\"Images saved successfully.\")"
   ]
  }
 ],
 "metadata": {
  "kernelspec": {
   "display_name": "anacondaTensorflow",
   "language": "python",
   "name": "python3"
  },
  "language_info": {
   "codemirror_mode": {
    "name": "ipython",
    "version": 3
   },
   "file_extension": ".py",
   "mimetype": "text/x-python",
   "name": "python",
   "nbconvert_exporter": "python",
   "pygments_lexer": "ipython3",
   "version": "3.8.17"
  }
 },
 "nbformat": 4,
 "nbformat_minor": 2
}
