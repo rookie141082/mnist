{
 "cells": [
  {
   "cell_type": "code",
   "execution_count": 13,
   "metadata": {},
   "outputs": [],
   "source": [
    "import cv2\n",
    "import numpy as np\n",
    "import pandas as pd\n",
    "filename = 'E:/pythonfile/recognition/handwritten_numbers/hw_numbers_dataset/'\n",
    "data = pd.read_csv( filename + 'annotation.csv')"
   ]
  },
  {
   "cell_type": "code",
   "execution_count": 104,
   "metadata": {},
   "outputs": [],
   "source": [
    "x_data = []#handwritten numbers dataset\n",
    "for i in range(len(data)):\n",
    "    img_dir = filename + data.loc[i, 'FileName'] + '.jpg'\n",
    "    image = cv2.imread(img_dir, cv2.IMREAD_GRAYSCALE)\n",
    "    image = image/255.\n",
    "    x_data.append(image)"
   ]
  },
  {
   "cell_type": "code",
   "execution_count": 105,
   "metadata": {},
   "outputs": [],
   "source": [
    "x_data = np.array(x_data).reshape(-1, 32, 64, 1)\n",
    "x_data = 1-x_data "
   ]
  },
  {
   "cell_type": "code",
   "execution_count": 106,
   "metadata": {},
   "outputs": [],
   "source": [
    "train_x =x_data[:60000]\n",
    "test_x= x_data[60000:80000]\n",
    "valid_x= x_data[80000:]"
   ]
  },
  {
   "cell_type": "code",
   "execution_count": 107,
   "metadata": {},
   "outputs": [],
   "source": [
    "train_size = 60000\n",
    "test_size= 20000\n",
    "valid_size= 20000"
   ]
  },
  {
   "cell_type": "code",
   "execution_count": 108,
   "metadata": {},
   "outputs": [],
   "source": [
    "alphabets = u\"0123456789.-\"\n",
    "max_str_len = 6 # max length of input labels\n",
    "num_of_characters = len(alphabets) + 1 # +1 for ctc pseudo blank\n",
    "num_of_timestamps = 64 # max length of predicted labels\n",
    "\n",
    "\n",
    "def label_to_num(label):\n",
    "    label_num = []\n",
    "    for ch in label:\n",
    "        label_num.append(alphabets.find(ch))\n",
    "        \n",
    "    return np.array(label_num)\n",
    "\n",
    "def num_to_label(num):\n",
    "    ret = \"\"\n",
    "    for ch in num:\n",
    "        if ch == 12:  # CTC Blank\n",
    "            break\n",
    "        else:\n",
    "            ret+=alphabets[ch]\n",
    "    return ret"
   ]
  },
  {
   "cell_type": "code",
   "execution_count": 19,
   "metadata": {},
   "outputs": [],
   "source": [
    "y_data = np.ones([len(data), max_str_len]) * -1\n",
    "y_data_lable = np.ones(len(data)) * -1\n",
    "for i in range(len(data)):\n",
    "    y_data[i, 0:len(str(data.loc[i, 'Value']))]= label_to_num(str(data.loc[i, 'Value'])) \n",
    "    y_data_lable[i] =str(data.loc[i, 'Value'])"
   ]
  },
  {
   "cell_type": "code",
   "execution_count": 20,
   "metadata": {},
   "outputs": [],
   "source": [
    "from keras.utils import to_categorical\n",
    "y_data_one = to_categorical(y_data, num_classes=num_of_characters)"
   ]
  },
  {
   "cell_type": "code",
   "execution_count": 21,
   "metadata": {},
   "outputs": [],
   "source": [
    "train_y, train_y_lable =y_data_one[:60000],y_data_lable[:60000]\n",
    "test_y, test_y_lable= y_data_one[60000:80000], y_data_lable[60000:80000]\n",
    "valid_y, valid_y_lable= y_data_one[80000:], y_data_lable[80000:]"
   ]
  },
  {
   "cell_type": "code",
   "execution_count": 109,
   "metadata": {},
   "outputs": [
    {
     "name": "stdout",
     "output_type": "stream",
     "text": [
      "Label:299.19\n"
     ]
    },
    {
     "data": {
      "image/png": "[encoded data removed]",
      "text/plain": [
       "<PIL.Image.Image image mode=L size=64x32>"
      ]
     },
     "metadata": {},
     "output_type": "display_data"
    },
    {
     "name": "stdout",
     "output_type": "stream",
     "text": [
      "Label:170.4\n"
     ]
    },
    {
     "data": {
      "image/png": "[encoded data removed]",
      "text/plain": [
       "<PIL.Image.Image image mode=L size=64x32>"
      ]
     },
     "metadata": {},
     "output_type": "display_data"
    },
    {
     "name": "stdout",
     "output_type": "stream",
     "text": [
      "Label:254.4\n"
     ]
    },
    {
     "data": {
      "image/png": "[encoded data removed]",
      "text/plain": [
       "<PIL.Image.Image image mode=L size=64x32>"
      ]
     },
     "metadata": {},
     "output_type": "display_data"
    },
    {
     "name": "stdout",
     "output_type": "stream",
     "text": [
      "Label:216.0\n"
     ]
    },
    {
     "data": {
      "image/png": "[encoded data removed]",
      "text/plain": [
       "<PIL.Image.Image image mode=L size=64x32>"
      ]
     },
     "metadata": {},
     "output_type": "display_data"
    },
    {
     "name": "stdout",
     "output_type": "stream",
     "text": [
      "Label:221.9\n"
     ]
    },
    {
     "data": {
      "image/png": "[encoded data removed]",
      "text/plain": [
       "<PIL.Image.Image image mode=L size=64x32>"
      ]
     },
     "metadata": {},
     "output_type": "display_data"
    },
    {
     "name": "stdout",
     "output_type": "stream",
     "text": [
      "Label:81.1\n"
     ]
    },
    {
     "data": {
      "image/png": "[encoded data removed]",
      "text/plain": [
       "<PIL.Image.Image image mode=L size=64x32>"
      ]
     },
     "metadata": {},
     "output_type": "display_data"
    },
    {
     "name": "stdout",
     "output_type": "stream",
     "text": [
      "Label:147.4\n"
     ]
    },
    {
     "data": {
      "image/png": "[encoded data removed]",
      "text/plain": [
       "<PIL.Image.Image image mode=L size=64x32>"
      ]
     },
     "metadata": {},
     "output_type": "display_data"
    },
    {
     "name": "stdout",
     "output_type": "stream",
     "text": [
      "Label:279.2\n"
     ]
    },
    {
     "data": {
      "image/png": "[encoded data removed]",
      "text/plain": [
       "<PIL.Image.Image image mode=L size=64x32>"
      ]
     },
     "metadata": {},
     "output_type": "display_data"
    },
    {
     "name": "stdout",
     "output_type": "stream",
     "text": [
      "Label:60.2\n"
     ]
    },
    {
     "data": {
      "image/png": "[encoded data removed]",
      "text/plain": [
       "<PIL.Image.Image image mode=L size=64x32>"
      ]
     },
     "metadata": {},
     "output_type": "display_data"
    },
    {
     "name": "stdout",
     "output_type": "stream",
     "text": [
      "Label:110.1\n"
     ]
    },
    {
     "data": {
      "image/png": "[encoded data removed]",
      "text/plain": [
       "<PIL.Image.Image image mode=L size=64x32>"
      ]
     },
     "metadata": {},
     "output_type": "display_data"
    }
   ],
   "source": [
    "from PIL import Image\n",
    "from IPython.display import display\n",
    "\n",
    "def image_see(n):\n",
    "    image_data = (np.squeeze(x_data[n]) * 255).astype('uint8')\n",
    "    image = Image.fromarray(image_data, 'L')\n",
    "    title = f\"Label:{data.loc[n,'Value']}\"\n",
    "    print(title)\n",
    "    display(image)\n",
    "for id_n in np.random.randint(0, len(data),10):\n",
    "    image_see(id_n)"
   ]
  },
  {
   "cell_type": "code",
   "execution_count": 110,
   "metadata": {},
   "outputs": [
    {
     "name": "stdout",
     "output_type": "stream",
     "text": [
      "Model: \"functional_5\"\n",
      "_________________________________________________________________\n",
      "Layer (type)                 Output Shape              Param #   \n",
      "=================================================================\n",
      "image (InputLayer)           [(None, 32, 64, 1)]       0         \n",
      "_________________________________________________________________\n",
      "conv2d_4 (Conv2D)            (None, 30, 62, 32)        320       \n",
      "_________________________________________________________________\n",
      "max_pooling2d_4 (MaxPooling2 (None, 15, 31, 32)        0         \n",
      "_________________________________________________________________\n",
      "conv2d_5 (Conv2D)            (None, 13, 29, 64)        18496     \n",
      "_________________________________________________________________\n",
      "max_pooling2d_5 (MaxPooling2 (None, 6, 14, 64)         0         \n",
      "_________________________________________________________________\n",
      "reshape_2 (Reshape)          (None, 6, 896)            0         \n",
      "_________________________________________________________________\n",
      "bidirectional_4 (Bidirection (None, 6, 256)            1049600   \n",
      "_________________________________________________________________\n",
      "bidirectional_5 (Bidirection (None, 6, 128)            164352    \n",
      "_________________________________________________________________\n",
      "dense_2 (Dense)              (None, 6, 13)             1677      \n",
      "=================================================================\n",
      "Total params: 1,234,445\n",
      "Trainable params: 1,234,445\n",
      "Non-trainable params: 0\n",
      "_________________________________________________________________\n"
     ]
    }
   ],
   "source": [
    "import tensorflow as tf\n",
    "from tensorflow.keras.layers import Input, Conv2D, MaxPooling2D, Reshape, Dense, LSTM, Bidirectional\n",
    "from tensorflow.keras.models import Model\n",
    "from tensorflow import keras\n",
    "from tensorflow.keras.regularizers import l2\n",
    "from tensorflow.keras.callbacks import ReduceLROnPlateau \n",
    "\n",
    "input_shape = (32, 64, 1)\n",
    "\n",
    "#CNN\n",
    "input_img = Input(shape=input_shape, name=\"image\", dtype=\"float32\")\n",
    "x = Conv2D(32, (3, 3), activation='tanh')(input_img)\n",
    "x = MaxPooling2D((2, 2))(x)\n",
    "x = Conv2D(64, (3, 3), activation='tanh')(x)\n",
    "x = MaxPooling2D((2, 2))(x)\n",
    "\n",
    "#conv_shape = x.get_shape()\n",
    "#x = Reshape(target_shape=(int(conv_shape[1]), int(conv_shape[2] * conv_shape[3])))(x)\n",
    "x = Reshape(target_shape=(6, 896))(x)\n",
    "#x = Dense(64, activation=\"softmax\")(x)\n",
    "\n",
    "#RNN\n",
    "x = Bidirectional(LSTM(128, return_sequences=True, dropout=0.25))(x)\n",
    "x = Bidirectional(LSTM(64, return_sequences=True, dropout=0.25))(x)\n",
    "\n",
    "output = Dense(13, activation=\"softmax\")(x) \n",
    "\n",
    "model = Model(inputs=input_img, outputs=output)\n",
    "\n",
    "model.compile(optimizer=keras.optimizers.Adam(learning_rate=0.00001),\n",
    "              loss='categorical_crossentropy', \n",
    "              metrics=['accuracy'])\n",
    "\n",
    "model.summary()"
   ]
  },
  {
   "cell_type": "code",
   "execution_count": 111,
   "metadata": {},
   "outputs": [
    {
     "name": "stdout",
     "output_type": "stream",
     "text": [
      "Epoch 1/50\n",
      "300/300 [==============================] - 73s 244ms/step - loss: 2.4016 - accuracy: 0.2883 - val_loss: 2.1549 - val_accuracy: 0.3334\n",
      "Epoch 2/50\n",
      "300/300 [==============================] - 72s 241ms/step - loss: 1.9937 - accuracy: 0.4118 - val_loss: 1.9021 - val_accuracy: 0.4233\n",
      "Epoch 3/50\n",
      "300/300 [==============================] - 72s 241ms/step - loss: 1.8577 - accuracy: 0.4277 - val_loss: 1.8273 - val_accuracy: 0.4315\n",
      "Epoch 4/50\n",
      "300/300 [==============================] - 71s 238ms/step - loss: 1.7983 - accuracy: 0.4328 - val_loss: 1.7837 - val_accuracy: 0.4337\n",
      "Epoch 5/50\n",
      "300/300 [==============================] - 71s 237ms/step - loss: 1.7577 - accuracy: 0.4357 - val_loss: 1.7464 - val_accuracy: 0.4369\n",
      "Epoch 6/50\n",
      "300/300 [==============================] - 71s 237ms/step - loss: 1.7272 - accuracy: 0.4381 - val_loss: 1.7160 - val_accuracy: 0.4406\n",
      "Epoch 7/50\n",
      "300/300 [==============================] - 73s 242ms/step - loss: 1.7019 - accuracy: 0.4408 - val_loss: 1.6872 - val_accuracy: 0.4439\n",
      "Epoch 8/50\n",
      "300/300 [==============================] - 70s 235ms/step - loss: 1.6804 - accuracy: 0.4427 - val_loss: 1.6622 - val_accuracy: 0.4461\n",
      "Epoch 9/50\n",
      "300/300 [==============================] - 71s 236ms/step - loss: 1.6605 - accuracy: 0.4451 - val_loss: 1.6406 - val_accuracy: 0.4492\n",
      "Epoch 10/50\n",
      "300/300 [==============================] - 71s 235ms/step - loss: 1.6414 - accuracy: 0.4473 - val_loss: 1.6208 - val_accuracy: 0.4512\n",
      "Epoch 11/50\n",
      "300/300 [==============================] - 71s 235ms/step - loss: 1.6233 - accuracy: 0.4506 - val_loss: 1.6024 - val_accuracy: 0.4544\n",
      "Epoch 12/50\n",
      "300/300 [==============================] - 71s 235ms/step - loss: 1.6068 - accuracy: 0.4528 - val_loss: 1.5864 - val_accuracy: 0.4578\n",
      "Epoch 13/50\n",
      "300/300 [==============================] - 71s 235ms/step - loss: 1.5923 - accuracy: 0.4554 - val_loss: 1.5752 - val_accuracy: 0.4586\n",
      "Epoch 14/50\n",
      "300/300 [==============================] - 71s 236ms/step - loss: 1.5780 - accuracy: 0.4591 - val_loss: 1.5643 - val_accuracy: 0.4612\n",
      "Epoch 15/50\n",
      "300/300 [==============================] - 71s 235ms/step - loss: 1.5663 - accuracy: 0.4614 - val_loss: 1.5539 - val_accuracy: 0.4666\n",
      "Epoch 16/50\n",
      "300/300 [==============================] - 69s 228ms/step - loss: 1.5544 - accuracy: 0.4655 - val_loss: 1.5389 - val_accuracy: 0.4729\n",
      "Epoch 17/50\n",
      "300/300 [==============================] - 68s 226ms/step - loss: 1.5435 - accuracy: 0.4691 - val_loss: 1.5306 - val_accuracy: 0.4764\n",
      "Epoch 18/50\n",
      "300/300 [==============================] - 68s 226ms/step - loss: 1.5318 - accuracy: 0.4723 - val_loss: 1.5235 - val_accuracy: 0.4785\n",
      "Epoch 19/50\n",
      "300/300 [==============================] - 68s 228ms/step - loss: 1.5223 - accuracy: 0.4761 - val_loss: 1.5182 - val_accuracy: 0.4799\n",
      "Epoch 20/50\n",
      "300/300 [==============================] - 68s 227ms/step - loss: 1.5117 - accuracy: 0.4793 - val_loss: 1.5080 - val_accuracy: 0.4807\n",
      "Epoch 21/50\n",
      "300/300 [==============================] - 68s 225ms/step - loss: 1.5024 - accuracy: 0.4815 - val_loss: 1.5015 - val_accuracy: 0.4813\n",
      "Epoch 22/50\n",
      "300/300 [==============================] - 68s 227ms/step - loss: 1.4916 - accuracy: 0.4848 - val_loss: 1.4967 - val_accuracy: 0.4823\n",
      "Epoch 23/50\n",
      "300/300 [==============================] - 68s 226ms/step - loss: 1.4826 - accuracy: 0.4866 - val_loss: 1.4917 - val_accuracy: 0.4813\n",
      "Epoch 24/50\n",
      "300/300 [==============================] - 68s 226ms/step - loss: 1.4750 - accuracy: 0.4881 - val_loss: 1.4866 - val_accuracy: 0.4817\n",
      "Epoch 25/50\n",
      "300/300 [==============================] - 68s 225ms/step - loss: 1.4656 - accuracy: 0.4905 - val_loss: 1.4828 - val_accuracy: 0.4830\n",
      "Epoch 26/50\n",
      "300/300 [==============================] - 68s 225ms/step - loss: 1.4585 - accuracy: 0.4929 - val_loss: 1.4801 - val_accuracy: 0.4824\n",
      "Epoch 27/50\n",
      "300/300 [==============================] - 68s 225ms/step - loss: 1.4505 - accuracy: 0.4949 - val_loss: 1.4761 - val_accuracy: 0.4833\n",
      "Epoch 28/50\n",
      "300/300 [==============================] - 68s 226ms/step - loss: 1.4438 - accuracy: 0.4971 - val_loss: 1.4758 - val_accuracy: 0.4821\n",
      "Epoch 29/50\n",
      "300/300 [==============================] - 68s 228ms/step - loss: 1.4366 - accuracy: 0.4987 - val_loss: 1.4701 - val_accuracy: 0.4835\n",
      "Epoch 30/50\n",
      "300/300 [==============================] - 68s 226ms/step - loss: 1.4308 - accuracy: 0.5001 - val_loss: 1.4679 - val_accuracy: 0.4836\n",
      "Epoch 31/50\n",
      "300/300 [==============================] - 68s 226ms/step - loss: 1.4233 - accuracy: 0.5022 - val_loss: 1.4667 - val_accuracy: 0.4837\n",
      "Epoch 32/50\n",
      "300/300 [==============================] - 68s 226ms/step - loss: 1.4176 - accuracy: 0.5043 - val_loss: 1.4632 - val_accuracy: 0.4851\n",
      "Epoch 33/50\n",
      "300/300 [==============================] - 68s 228ms/step - loss: 1.4111 - accuracy: 0.5056 - val_loss: 1.4618 - val_accuracy: 0.4853\n",
      "Epoch 34/50\n",
      "300/300 [==============================] - 68s 227ms/step - loss: 1.4057 - accuracy: 0.5076 - val_loss: 1.4599 - val_accuracy: 0.4854\n",
      "Epoch 35/50\n",
      "300/300 [==============================] - 68s 226ms/step - loss: 1.3993 - accuracy: 0.5093 - val_loss: 1.4593 - val_accuracy: 0.4863\n",
      "Epoch 36/50\n",
      "300/300 [==============================] - 68s 226ms/step - loss: 1.3945 - accuracy: 0.5100 - val_loss: 1.4566 - val_accuracy: 0.4862\n",
      "Epoch 37/50\n",
      "300/300 [==============================] - 68s 227ms/step - loss: 1.3892 - accuracy: 0.5121 - val_loss: 1.4521 - val_accuracy: 0.4886\n",
      "Epoch 38/50\n",
      "300/300 [==============================] - 68s 226ms/step - loss: 1.3837 - accuracy: 0.5140 - val_loss: 1.4504 - val_accuracy: 0.4889\n",
      "Epoch 39/50\n",
      "300/300 [==============================] - 68s 226ms/step - loss: 1.3796 - accuracy: 0.5148 - val_loss: 1.4454 - val_accuracy: 0.4909\n",
      "Epoch 40/50\n",
      "300/300 [==============================] - 68s 227ms/step - loss: 1.3745 - accuracy: 0.5164 - val_loss: 1.4447 - val_accuracy: 0.4918\n",
      "Epoch 41/50\n",
      "300/300 [==============================] - 68s 226ms/step - loss: 1.3696 - accuracy: 0.5178 - val_loss: 1.4443 - val_accuracy: 0.4918\n",
      "Epoch 42/50\n",
      "300/300 [==============================] - 68s 227ms/step - loss: 1.3646 - accuracy: 0.5199 - val_loss: 1.4446 - val_accuracy: 0.4918\n",
      "Epoch 43/50\n",
      "300/300 [==============================] - 68s 226ms/step - loss: 1.3609 - accuracy: 0.5198 - val_loss: 1.4389 - val_accuracy: 0.4936\n",
      "Epoch 44/50\n",
      "300/300 [==============================] - 67s 224ms/step - loss: 1.3563 - accuracy: 0.5220 - val_loss: 1.4367 - val_accuracy: 0.4954\n",
      "Epoch 45/50\n",
      "300/300 [==============================] - 68s 226ms/step - loss: 1.3518 - accuracy: 0.5230 - val_loss: 1.4318 - val_accuracy: 0.4969\n",
      "Epoch 46/50\n",
      "300/300 [==============================] - 69s 229ms/step - loss: 1.3472 - accuracy: 0.5253 - val_loss: 1.4334 - val_accuracy: 0.4969\n",
      "Epoch 47/50\n",
      "300/300 [==============================] - 68s 227ms/step - loss: 1.3436 - accuracy: 0.5261 - val_loss: 1.4277 - val_accuracy: 0.4989\n",
      "Epoch 48/50\n",
      "300/300 [==============================] - 68s 226ms/step - loss: 1.3384 - accuracy: 0.5277 - val_loss: 1.4276 - val_accuracy: 0.4993\n",
      "Epoch 49/50\n",
      "300/300 [==============================] - 68s 226ms/step - loss: 1.3355 - accuracy: 0.5284 - val_loss: 1.4263 - val_accuracy: 0.5001\n",
      "Epoch 50/50\n",
      "300/300 [==============================] - 68s 227ms/step - loss: 1.3322 - accuracy: 0.5296 - val_loss: 1.4232 - val_accuracy: 0.5012\n"
     ]
    }
   ],
   "source": [
    "reduce_lr = ReduceLROnPlateau(patience =3, factor = 0.01, weightdecay = 0.05, verbose = 1) \n",
    "early_stopping = keras.callbacks.EarlyStopping(monitor=\"val_loss\", \n",
    "                                               patience=10, restore_best_weights=True)\n",
    "#train model\n",
    "history1 = model.fit(train_x, train_y, epochs=50, verbose=1, batch_size=200, \n",
    "          validation_data=(valid_x, valid_y), callbacks=[early_stopping, reduce_lr ])"
   ]
  },
  {
   "cell_type": "code",
   "execution_count": 112,
   "metadata": {},
   "outputs": [
    {
     "data": {
      "application/vnd.plotly.v1+json": {
       "config": {
        "plotlyServerURL": "https://plot.ly"
       },
       "data": [
        {
         "line": {
          "color": "blue"
         },
         "mode": "lines",
         "name": "Train",
         "type": "scatter",
         "x": [
          1,
          2,
          3,
          4,
          5,
          6,
          7,
          8,
          9,
          10,
          11,
          12,
          13,
          14,
          15,
          16,
          17,
          18,
          19,
          20,
          21,
          22,
          23,
          24,
          25,
          26,
          27,
          28,
          29,
          30,
          31,
          32,
          33,
          34,
          35,
          36,
          37,
          38,
          39,
          40,
          41,
          42,
          43,
          44,
          45,
          46,
          47,
          48,
          49,
          50
         ],
         "xaxis": "x",
         "y": [
          0.2882833480834961,
          0.4118194580078125,
          0.42765554785728455,
          0.43278056383132935,
          0.43573054671287537,
          0.4381055533885956,
          0.44080832600593567,
          0.4427388906478882,
          0.4450500011444092,
          0.4473138749599457,
          0.45056667923927307,
          0.45280277729034424,
          0.45535001158714294,
          0.45908331871032715,
          0.4614250063896179,
          0.4655444324016571,
          0.46908333897590637,
          0.47229722142219543,
          0.4760805666446686,
          0.4793166518211365,
          0.48149165511131287,
          0.4848499894142151,
          0.4866222143173218,
          0.488097220659256,
          0.49053332209587097,
          0.4929249882698059,
          0.4948972165584564,
          0.4970666766166687,
          0.49874165654182434,
          0.5001194477081299,
          0.5021777749061584,
          0.5042555332183838,
          0.5055750012397766,
          0.5075500011444092,
          0.5093305706977844,
          0.5100444555282593,
          0.5120694637298584,
          0.51399165391922,
          0.5147749781608582,
          0.5163999795913696,
          0.5178138613700867,
          0.519902765750885,
          0.5198222398757935,
          0.5219555497169495,
          0.5229777693748474,
          0.5253166556358337,
          0.5260805487632751,
          0.5276666879653931,
          0.5284055471420288,
          0.5296055674552917
         ],
         "yaxis": "y"
        },
        {
         "line": {
          "color": "orange"
         },
         "mode": "lines",
         "name": "Validation",
         "type": "scatter",
         "x": [
          1,
          2,
          3,
          4,
          5,
          6,
          7,
          8,
          9,
          10,
          11,
          12,
          13,
          14,
          15,
          16,
          17,
          18,
          19,
          20,
          21,
          22,
          23,
          24,
          25,
          26,
          27,
          28,
          29,
          30,
          31,
          32,
          33,
          34,
          35,
          36,
          37,
          38,
          39,
          40,
          41,
          42,
          43,
          44,
          45,
          46,
          47,
          48,
          49,
          50
         ],
         "xaxis": "x",
         "y": [
          0.33344167470932007,
          0.42325833439826965,
          0.4314916729927063,
          0.43369999527931213,
          0.43693333864212036,
          0.4406000077724457,
          0.4439333379268646,
          0.44608333706855774,
          0.4492083191871643,
          0.45120832324028015,
          0.4544166624546051,
          0.4577749967575073,
          0.4585583209991455,
          0.4612250030040741,
          0.4666166603565216,
          0.4729333221912384,
          0.47639167308807373,
          0.47847500443458557,
          0.4799000024795532,
          0.4807416796684265,
          0.4813166558742523,
          0.48225831985473633,
          0.4812999963760376,
          0.48174166679382324,
          0.48299166560173035,
          0.48244166374206543,
          0.483308345079422,
          0.4821416735649109,
          0.48352500796318054,
          0.48362499475479126,
          0.48370832204818726,
          0.48506665229797363,
          0.4853000044822693,
          0.48539999127388,
          0.48630833625793457,
          0.4861583411693573,
          0.4886416792869568,
          0.48891666531562805,
          0.4909333288669586,
          0.49180832505226135,
          0.49179166555404663,
          0.4918416738510132,
          0.49361667037010193,
          0.49540001153945923,
          0.49693334102630615,
          0.4968583285808563,
          0.4988666772842407,
          0.4992833435535431,
          0.5001416802406311,
          0.5012416839599609
         ],
         "yaxis": "y"
        },
        {
         "line": {
          "color": "blue"
         },
         "mode": "lines",
         "name": "Train",
         "showlegend": false,
         "type": "scatter",
         "x": [
          1,
          2,
          3,
          4,
          5,
          6,
          7,
          8,
          9,
          10,
          11,
          12,
          13,
          14,
          15,
          16,
          17,
          18,
          19,
          20,
          21,
          22,
          23,
          24,
          25,
          26,
          27,
          28,
          29,
          30,
          31,
          32,
          33,
          34,
          35,
          36,
          37,
          38,
          39,
          40,
          41,
          42,
          43,
          44,
          45,
          46,
          47,
          48,
          49,
          50
         ],
         "xaxis": "x2",
         "y": [
          2.4016146659851074,
          1.993708848953247,
          1.857657790184021,
          1.7983428239822388,
          1.7577307224273682,
          1.7272392511367798,
          1.7018688917160034,
          1.6804327964782715,
          1.660468339920044,
          1.6414227485656738,
          1.6232503652572632,
          1.606777548789978,
          1.5922869443893433,
          1.577983021736145,
          1.5663158893585205,
          1.5544463396072388,
          1.5434794425964355,
          1.5317667722702026,
          1.5222535133361816,
          1.5116626024246216,
          1.5023554563522339,
          1.4915978908538818,
          1.4825917482376099,
          1.4749536514282227,
          1.4656119346618652,
          1.458479404449463,
          1.4504913091659546,
          1.443838357925415,
          1.4365718364715576,
          1.4308406114578247,
          1.4232524633407593,
          1.4175761938095093,
          1.4110767841339111,
          1.4057167768478394,
          1.3993383646011353,
          1.39451003074646,
          1.3891661167144775,
          1.3837367296218872,
          1.379571557044983,
          1.3744778633117676,
          1.3695600032806396,
          1.3645659685134888,
          1.3609455823898315,
          1.3563226461410522,
          1.3518264293670654,
          1.3472495079040527,
          1.3436299562454224,
          1.3384368419647217,
          1.335505723953247,
          1.332189679145813
         ],
         "yaxis": "y2"
        },
        {
         "line": {
          "color": "orange"
         },
         "mode": "lines",
         "name": "Validation",
         "showlegend": false,
         "type": "scatter",
         "x": [
          1,
          2,
          3,
          4,
          5,
          6,
          7,
          8,
          9,
          10,
          11,
          12,
          13,
          14,
          15,
          16,
          17,
          18,
          19,
          20,
          21,
          22,
          23,
          24,
          25,
          26,
          27,
          28,
          29,
          30,
          31,
          32,
          33,
          34,
          35,
          36,
          37,
          38,
          39,
          40,
          41,
          42,
          43,
          44,
          45,
          46,
          47,
          48,
          49,
          50
         ],
         "xaxis": "x2",
         "y": [
          2.1549434661865234,
          1.9021344184875488,
          1.8273181915283203,
          1.783703327178955,
          1.746434211730957,
          1.7160152196884155,
          1.6872271299362183,
          1.6621675491333008,
          1.6406158208847046,
          1.6207927465438843,
          1.6023648977279663,
          1.5863938331604004,
          1.575225591659546,
          1.5643186569213867,
          1.5539158582687378,
          1.538940191268921,
          1.530576467514038,
          1.5235068798065186,
          1.5181559324264526,
          1.5080032348632812,
          1.5015066862106323,
          1.4966531991958618,
          1.4916852712631226,
          1.4866089820861816,
          1.4827600717544556,
          1.4801160097122192,
          1.476148247718811,
          1.4757682085037231,
          1.470099925994873,
          1.4679135084152222,
          1.4666619300842285,
          1.463226079940796,
          1.4618054628372192,
          1.4599099159240723,
          1.4593350887298584,
          1.4566034078598022,
          1.452109694480896,
          1.4504283666610718,
          1.4454371929168701,
          1.4447352886199951,
          1.4442641735076904,
          1.4445685148239136,
          1.4388742446899414,
          1.4367278814315796,
          1.4318267107009888,
          1.4334417581558228,
          1.4276548624038696,
          1.4276422262191772,
          1.4262620210647583,
          1.4231739044189453
         ],
         "yaxis": "y2"
        }
       ],
       "layout": {
        "annotations": [
         {
          "font": {
           "size": 16
          },
          "showarrow": false,
          "text": "Model accuracy",
          "x": 0.225,
          "xanchor": "center",
          "xref": "paper",
          "y": 1,
          "yanchor": "bottom",
          "yref": "paper"
         },
         {
          "font": {
           "size": 16
          },
          "showarrow": false,
          "text": "Model loss",
          "x": 0.775,
          "xanchor": "center",
          "xref": "paper",
          "y": 1,
          "yanchor": "bottom",
          "yref": "paper"
         }
        ],
        "legend": {
         "x": 0.85,
         "y": 1
        },
        "template": {
         "data": {
          "bar": [
           {
            "error_x": {
             "color": "#2a3f5f"
            },
            "error_y": {
             "color": "#2a3f5f"
            },
            "marker": {
             "line": {
              "color": "#E5ECF6",
              "width": 0.5
             },
             "pattern": {
              "fillmode": "overlay",
              "size": 10,
              "solidity": 0.2
             }
            },
            "type": "bar"
           }
          ],
          "barpolar": [
           {
            "marker": {
             "line": {
              "color": "#E5ECF6",
              "width": 0.5
             },
             "pattern": {
              "fillmode": "overlay",
              "size": 10,
              "solidity": 0.2
             }
            },
            "type": "barpolar"
           }
          ],
          "carpet": [
           {
            "aaxis": {
             "endlinecolor": "#2a3f5f",
             "gridcolor": "white",
             "linecolor": "white",
             "minorgridcolor": "white",
             "startlinecolor": "#2a3f5f"
            },
            "baxis": {
             "endlinecolor": "#2a3f5f",
             "gridcolor": "white",
             "linecolor": "white",
             "minorgridcolor": "white",
             "startlinecolor": "#2a3f5f"
            },
            "type": "carpet"
           }
          ],
          "choropleth": [
           {
            "colorbar": {
             "outlinewidth": 0,
             "ticks": ""
            },
            "type": "choropleth"
           }
          ],
          "contour": [
           {
            "colorbar": {
             "outlinewidth": 0,
             "ticks": ""
            },
            "colorscale": [
             [
              0,
              "#0d0887"
             ],
             [
              0.1111111111111111,
              "#46039f"
             ],
             [
              0.2222222222222222,
              "#7201a8"
             ],
             [
              0.3333333333333333,
              "#9c179e"
             ],
             [
              0.4444444444444444,
              "#bd3786"
             ],
             [
              0.5555555555555556,
              "#d8576b"
             ],
             [
              0.6666666666666666,
              "#ed7953"
             ],
             [
              0.7777777777777778,
              "#fb9f3a"
             ],
             [
              0.8888888888888888,
              "#fdca26"
             ],
             [
              1,
              "#f0f921"
             ]
            ],
            "type": "contour"
           }
          ],
          "contourcarpet": [
           {
            "colorbar": {
             "outlinewidth": 0,
             "ticks": ""
            },
            "type": "contourcarpet"
           }
          ],
          "heatmap": [
           {
            "colorbar": {
             "outlinewidth": 0,
             "ticks": ""
            },
            "colorscale": [
             [
              0,
              "#0d0887"
             ],
             [
              0.1111111111111111,
              "#46039f"
             ],
             [
              0.2222222222222222,
              "#7201a8"
             ],
             [
              0.3333333333333333,
              "#9c179e"
             ],
             [
              0.4444444444444444,
              "#bd3786"
             ],
             [
              0.5555555555555556,
              "#d8576b"
             ],
             [
              0.6666666666666666,
              "#ed7953"
             ],
             [
              0.7777777777777778,
              "#fb9f3a"
             ],
             [
              0.8888888888888888,
              "#fdca26"
             ],
             [
              1,
              "#f0f921"
             ]
            ],
            "type": "heatmap"
           }
          ],
          "heatmapgl": [
           {
            "colorbar": {
             "outlinewidth": 0,
             "ticks": ""
            },
            "colorscale": [
             [
              0,
              "#0d0887"
             ],
             [
              0.1111111111111111,
              "#46039f"
             ],
             [
              0.2222222222222222,
              "#7201a8"
             ],
             [
              0.3333333333333333,
              "#9c179e"
             ],
             [
              0.4444444444444444,
              "#bd3786"
             ],
             [
              0.5555555555555556,
              "#d8576b"
             ],
             [
              0.6666666666666666,
              "#ed7953"
             ],
             [
              0.7777777777777778,
              "#fb9f3a"
             ],
             [
              0.8888888888888888,
              "#fdca26"
             ],
             [
              1,
              "#f0f921"
             ]
            ],
            "type": "heatmapgl"
           }
          ],
          "histogram": [
           {
            "marker": {
             "pattern": {
              "fillmode": "overlay",
              "size": 10,
              "solidity": 0.2
             }
            },
            "type": "histogram"
           }
          ],
          "histogram2d": [
           {
            "colorbar": {
             "outlinewidth": 0,
             "ticks": ""
            },
            "colorscale": [
             [
              0,
              "#0d0887"
             ],
             [
              0.1111111111111111,
              "#46039f"
             ],
             [
              0.2222222222222222,
              "#7201a8"
             ],
             [
              0.3333333333333333,
              "#9c179e"
             ],
             [
              0.4444444444444444,
              "#bd3786"
             ],
             [
              0.5555555555555556,
              "#d8576b"
             ],
             [
              0.6666666666666666,
              "#ed7953"
             ],
             [
              0.7777777777777778,
              "#fb9f3a"
             ],
             [
              0.8888888888888888,
              "#fdca26"
             ],
             [
              1,
              "#f0f921"
             ]
            ],
            "type": "histogram2d"
           }
          ],
          "histogram2dcontour": [
           {
            "colorbar": {
             "outlinewidth": 0,
             "ticks": ""
            },
            "colorscale": [
             [
              0,
              "#0d0887"
             ],
             [
              0.1111111111111111,
              "#46039f"
             ],
             [
              0.2222222222222222,
              "#7201a8"
             ],
             [
              0.3333333333333333,
              "#9c179e"
             ],
             [
              0.4444444444444444,
              "#bd3786"
             ],
             [
              0.5555555555555556,
              "#d8576b"
             ],
             [
              0.6666666666666666,
              "#ed7953"
             ],
             [
              0.7777777777777778,
              "#fb9f3a"
             ],
             [
              0.8888888888888888,
              "#fdca26"
             ],
             [
              1,
              "#f0f921"
             ]
            ],
            "type": "histogram2dcontour"
           }
          ],
          "mesh3d": [
           {
            "colorbar": {
             "outlinewidth": 0,
             "ticks": ""
            },
            "type": "mesh3d"
           }
          ],
          "parcoords": [
           {
            "line": {
             "colorbar": {
              "outlinewidth": 0,
              "ticks": ""
             }
            },
            "type": "parcoords"
           }
          ],
          "pie": [
           {
            "automargin": true,
            "type": "pie"
           }
          ],
          "scatter": [
           {
            "fillpattern": {
             "fillmode": "overlay",
             "size": 10,
             "solidity": 0.2
            },
            "type": "scatter"
           }
          ],
          "scatter3d": [
           {
            "line": {
             "colorbar": {
              "outlinewidth": 0,
              "ticks": ""
             }
            },
            "marker": {
             "colorbar": {
              "outlinewidth": 0,
              "ticks": ""
             }
            },
            "type": "scatter3d"
           }
          ],
          "scattercarpet": [
           {
            "marker": {
             "colorbar": {
              "outlinewidth": 0,
              "ticks": ""
             }
            },
            "type": "scattercarpet"
           }
          ],
          "scattergeo": [
           {
            "marker": {
             "colorbar": {
              "outlinewidth": 0,
              "ticks": ""
             }
            },
            "type": "scattergeo"
           }
          ],
          "scattergl": [
           {
            "marker": {
             "colorbar": {
              "outlinewidth": 0,
              "ticks": ""
             }
            },
            "type": "scattergl"
           }
          ],
          "scattermapbox": [
           {
            "marker": {
             "colorbar": {
              "outlinewidth": 0,
              "ticks": ""
             }
            },
            "type": "scattermapbox"
           }
          ],
          "scatterpolar": [
           {
            "marker": {
             "colorbar": {
              "outlinewidth": 0,
              "ticks": ""
             }
            },
            "type": "scatterpolar"
           }
          ],
          "scatterpolargl": [
           {
            "marker": {
             "colorbar": {
              "outlinewidth": 0,
              "ticks": ""
             }
            },
            "type": "scatterpolargl"
           }
          ],
          "scatterternary": [
           {
            "marker": {
             "colorbar": {
              "outlinewidth": 0,
              "ticks": ""
             }
            },
            "type": "scatterternary"
           }
          ],
          "surface": [
           {
            "colorbar": {
             "outlinewidth": 0,
             "ticks": ""
            },
            "colorscale": [
             [
              0,
              "#0d0887"
             ],
             [
              0.1111111111111111,
              "#46039f"
             ],
             [
              0.2222222222222222,
              "#7201a8"
             ],
             [
              0.3333333333333333,
              "#9c179e"
             ],
             [
              0.4444444444444444,
              "#bd3786"
             ],
             [
              0.5555555555555556,
              "#d8576b"
             ],
             [
              0.6666666666666666,
              "#ed7953"
             ],
             [
              0.7777777777777778,
              "#fb9f3a"
             ],
             [
              0.8888888888888888,
              "#fdca26"
             ],
             [
              1,
              "#f0f921"
             ]
            ],
            "type": "surface"
           }
          ],
          "table": [
           {
            "cells": {
             "fill": {
              "color": "#EBF0F8"
             },
             "line": {
              "color": "white"
             }
            },
            "header": {
             "fill": {
              "color": "#C8D4E3"
             },
             "line": {
              "color": "white"
             }
            },
            "type": "table"
           }
          ]
         },
         "layout": {
          "annotationdefaults": {
           "arrowcolor": "#2a3f5f",
           "arrowhead": 0,
           "arrowwidth": 1
          },
          "autotypenumbers": "strict",
          "coloraxis": {
           "colorbar": {
            "outlinewidth": 0,
            "ticks": ""
           }
          },
          "colorscale": {
           "diverging": [
            [
             0,
             "#8e0152"
            ],
            [
             0.1,
             "#c51b7d"
            ],
            [
             0.2,
             "#de77ae"
            ],
            [
             0.3,
             "#f1b6da"
            ],
            [
             0.4,
             "#fde0ef"
            ],
            [
             0.5,
             "#f7f7f7"
            ],
            [
             0.6,
             "#e6f5d0"
            ],
            [
             0.7,
             "#b8e186"
            ],
            [
             0.8,
             "#7fbc41"
            ],
            [
             0.9,
             "#4d9221"
            ],
            [
             1,
             "#276419"
            ]
           ],
           "sequential": [
            [
             0,
             "#0d0887"
            ],
            [
             0.1111111111111111,
             "#46039f"
            ],
            [
             0.2222222222222222,
             "#7201a8"
            ],
            [
             0.3333333333333333,
             "#9c179e"
            ],
            [
             0.4444444444444444,
             "#bd3786"
            ],
            [
             0.5555555555555556,
             "#d8576b"
            ],
            [
             0.6666666666666666,
             "#ed7953"
            ],
            [
             0.7777777777777778,
             "#fb9f3a"
            ],
            [
             0.8888888888888888,
             "#fdca26"
            ],
            [
             1,
             "#f0f921"
            ]
           ],
           "sequentialminus": [
            [
             0,
             "#0d0887"
            ],
            [
             0.1111111111111111,
             "#46039f"
            ],
            [
             0.2222222222222222,
             "#7201a8"
            ],
            [
             0.3333333333333333,
             "#9c179e"
            ],
            [
             0.4444444444444444,
             "#bd3786"
            ],
            [
             0.5555555555555556,
             "#d8576b"
            ],
            [
             0.6666666666666666,
             "#ed7953"
            ],
            [
             0.7777777777777778,
             "#fb9f3a"
            ],
            [
             0.8888888888888888,
             "#fdca26"
            ],
            [
             1,
             "#f0f921"
            ]
           ]
          },
          "colorway": [
           "#636efa",
           "#EF553B",
           "#00cc96",
           "#ab63fa",
           "#FFA15A",
           "#19d3f3",
           "#FF6692",
           "#B6E880",
           "#FF97FF",
           "#FECB52"
          ],
          "font": {
           "color": "#2a3f5f"
          },
          "geo": {
           "bgcolor": "white",
           "lakecolor": "white",
           "landcolor": "#E5ECF6",
           "showlakes": true,
           "showland": true,
           "subunitcolor": "white"
          },
          "hoverlabel": {
           "align": "left"
          },
          "hovermode": "closest",
          "mapbox": {
           "style": "light"
          },
          "paper_bgcolor": "white",
          "plot_bgcolor": "#E5ECF6",
          "polar": {
           "angularaxis": {
            "gridcolor": "white",
            "linecolor": "white",
            "ticks": ""
           },
           "bgcolor": "#E5ECF6",
           "radialaxis": {
            "gridcolor": "white",
            "linecolor": "white",
            "ticks": ""
           }
          },
          "scene": {
           "xaxis": {
            "backgroundcolor": "#E5ECF6",
            "gridcolor": "white",
            "gridwidth": 2,
            "linecolor": "white",
            "showbackground": true,
            "ticks": "",
            "zerolinecolor": "white"
           },
           "yaxis": {
            "backgroundcolor": "#E5ECF6",
            "gridcolor": "white",
            "gridwidth": 2,
            "linecolor": "white",
            "showbackground": true,
            "ticks": "",
            "zerolinecolor": "white"
           },
           "zaxis": {
            "backgroundcolor": "#E5ECF6",
            "gridcolor": "white",
            "gridwidth": 2,
            "linecolor": "white",
            "showbackground": true,
            "ticks": "",
            "zerolinecolor": "white"
           }
          },
          "shapedefaults": {
           "line": {
            "color": "#2a3f5f"
           }
          },
          "ternary": {
           "aaxis": {
            "gridcolor": "white",
            "linecolor": "white",
            "ticks": ""
           },
           "baxis": {
            "gridcolor": "white",
            "linecolor": "white",
            "ticks": ""
           },
           "bgcolor": "#E5ECF6",
           "caxis": {
            "gridcolor": "white",
            "linecolor": "white",
            "ticks": ""
           }
          },
          "title": {
           "x": 0.05
          },
          "xaxis": {
           "automargin": true,
           "gridcolor": "white",
           "linecolor": "white",
           "ticks": "",
           "title": {
            "standoff": 15
           },
           "zerolinecolor": "white",
           "zerolinewidth": 2
          },
          "yaxis": {
           "automargin": true,
           "gridcolor": "white",
           "linecolor": "white",
           "ticks": "",
           "title": {
            "standoff": 15
           },
           "zerolinecolor": "white",
           "zerolinewidth": 2
          }
         }
        },
        "title": {
         "text": "Model Training History"
        },
        "xaxis": {
         "anchor": "y",
         "domain": [
          0,
          0.45
         ],
         "title": {
          "text": "Epoch"
         }
        },
        "xaxis2": {
         "anchor": "y2",
         "domain": [
          0.55,
          1
         ]
        },
        "yaxis": {
         "anchor": "x",
         "domain": [
          0,
          1
         ],
         "title": {
          "text": "Value"
         }
        },
        "yaxis2": {
         "anchor": "x2",
         "domain": [
          0,
          1
         ]
        }
       }
      }
     },
     "metadata": {},
     "output_type": "display_data"
    }
   ],
   "source": [
    "import plotly.graph_objects as go\n",
    "from plotly.subplots import make_subplots\n",
    "\n",
    "fig = make_subplots(rows=1, cols=2, subplot_titles=(\"Model accuracy\", \"Model loss\"))\n",
    "\n",
    "# Add the first subplot for accuracy\n",
    "fig.add_trace(go.Scatter(x=list(range(1, len(history1.history['accuracy']) + 1)),\n",
    "                         y=history1.history['accuracy'], mode='lines',\n",
    "                         name='Train', line=dict(color='blue')), row=1, col=1)\n",
    "fig.add_trace(go.Scatter(x=list(range(1, len(history1.history['val_accuracy']) + 1)),\n",
    "                         y=history1.history['val_accuracy'], mode='lines',\n",
    "                         name='Validation', line=dict(color='orange')), row=1, col=1)\n",
    "\n",
    "# Add the second subplot for loss\n",
    "fig.add_trace(go.Scatter(x=list(range(1, len(history1.history['loss']) + 1)),\n",
    "                         y=history1.history['loss'], mode='lines',\n",
    "                         name='Train', line=dict(color='blue'), showlegend=False), row=1, col=2)\n",
    "fig.add_trace(go.Scatter(x=list(range(1, len(history1.history['val_loss']) + 1)),\n",
    "                         y=history1.history['val_loss'], mode='lines',\n",
    "                         name='Validation', line=dict(color='orange'), showlegend=False), row=1, col=2)\n",
    "\n",
    "fig.update_layout(title=\"Model Training History\",\n",
    "                  xaxis_title=\"Epoch\",\n",
    "                  yaxis_title=\"Value\",\n",
    "                  legend=dict(x=0.85, y=1))\n",
    "\n",
    "fig.show()"
   ]
  },
  {
   "cell_type": "code",
   "execution_count": 23,
   "metadata": {},
   "outputs": [
    {
     "name": "stdout",
     "output_type": "stream",
     "text": [
      "Epoch 1/100\n",
      "300/300 [==============================] - 86s 286ms/step - loss: 2.2648 - accuracy: 0.2794 - val_loss: 2.0419 - val_accuracy: 0.4283\n",
      "Epoch 2/100\n",
      "300/300 [==============================] - 72s 240ms/step - loss: 1.9818 - accuracy: 0.4246 - val_loss: 1.8895 - val_accuracy: 0.4325\n",
      "Epoch 3/100\n",
      "300/300 [==============================] - 72s 241ms/step - loss: 1.8854 - accuracy: 0.4318 - val_loss: 1.8181 - val_accuracy: 0.4409\n",
      "Epoch 4/100\n",
      "300/300 [==============================] - 72s 240ms/step - loss: 1.8311 - accuracy: 0.4351 - val_loss: 1.7757 - val_accuracy: 0.4390\n",
      "Epoch 5/100\n",
      "300/300 [==============================] - 72s 239ms/step - loss: 1.7936 - accuracy: 0.4361 - val_loss: 1.7485 - val_accuracy: 0.4403\n",
      "Epoch 6/100\n",
      "300/300 [==============================] - 72s 240ms/step - loss: 1.7645 - accuracy: 0.4362 - val_loss: 1.7270 - val_accuracy: 0.4415\n",
      "Epoch 7/100\n",
      "300/300 [==============================] - 72s 239ms/step - loss: 1.7411 - accuracy: 0.4370 - val_loss: 1.7117 - val_accuracy: 0.4428\n",
      "Epoch 8/100\n",
      "300/300 [==============================] - 72s 239ms/step - loss: 1.7201 - accuracy: 0.4381 - val_loss: 1.6924 - val_accuracy: 0.4426\n",
      "Epoch 9/100\n",
      "300/300 [==============================] - 72s 240ms/step - loss: 1.7033 - accuracy: 0.4393 - val_loss: 1.6809 - val_accuracy: 0.4439\n",
      "Epoch 10/100\n",
      "300/300 [==============================] - 72s 240ms/step - loss: 1.6873 - accuracy: 0.4406 - val_loss: 1.6654 - val_accuracy: 0.4444\n",
      "Epoch 11/100\n",
      "300/300 [==============================] - 72s 241ms/step - loss: 1.6740 - accuracy: 0.4425 - val_loss: 1.6536 - val_accuracy: 0.4461\n",
      "Epoch 12/100\n",
      "300/300 [==============================] - 72s 241ms/step - loss: 1.6609 - accuracy: 0.4439 - val_loss: 1.6419 - val_accuracy: 0.4490\n",
      "Epoch 13/100\n",
      "300/300 [==============================] - 70s 232ms/step - loss: 1.6500 - accuracy: 0.4466 - val_loss: 1.6306 - val_accuracy: 0.4538\n",
      "Epoch 14/100\n",
      "300/300 [==============================] - 69s 230ms/step - loss: 1.6394 - accuracy: 0.4477 - val_loss: 1.6214 - val_accuracy: 0.4589\n",
      "Epoch 15/100\n",
      "300/300 [==============================] - 69s 231ms/step - loss: 1.6291 - accuracy: 0.4506 - val_loss: 1.6097 - val_accuracy: 0.4608\n",
      "Epoch 16/100\n",
      "300/300 [==============================] - 69s 230ms/step - loss: 1.6202 - accuracy: 0.4524 - val_loss: 1.6022 - val_accuracy: 0.4647\n",
      "Epoch 17/100\n",
      "300/300 [==============================] - 69s 231ms/step - loss: 1.6110 - accuracy: 0.4541 - val_loss: 1.5896 - val_accuracy: 0.4647\n",
      "Epoch 18/100\n",
      "300/300 [==============================] - 69s 230ms/step - loss: 1.6021 - accuracy: 0.4561 - val_loss: 1.5801 - val_accuracy: 0.4685\n",
      "Epoch 19/100\n",
      "300/300 [==============================] - 69s 231ms/step - loss: 1.5925 - accuracy: 0.4580 - val_loss: 1.5712 - val_accuracy: 0.4681\n",
      "Epoch 20/100\n",
      "300/300 [==============================] - 69s 231ms/step - loss: 1.5831 - accuracy: 0.4599 - val_loss: 1.5596 - val_accuracy: 0.4715\n",
      "Epoch 21/100\n",
      "300/300 [==============================] - 69s 230ms/step - loss: 1.5732 - accuracy: 0.4627 - val_loss: 1.5482 - val_accuracy: 0.4737\n",
      "Epoch 22/100\n",
      "300/300 [==============================] - 69s 230ms/step - loss: 1.5646 - accuracy: 0.4643 - val_loss: 1.5437 - val_accuracy: 0.4739\n",
      "Epoch 23/100\n",
      "300/300 [==============================] - 69s 230ms/step - loss: 1.5562 - accuracy: 0.4656 - val_loss: 1.5327 - val_accuracy: 0.4759\n",
      "Epoch 24/100\n",
      "300/300 [==============================] - 69s 231ms/step - loss: 1.5475 - accuracy: 0.4680 - val_loss: 1.5255 - val_accuracy: 0.4769\n",
      "Epoch 25/100\n",
      "300/300 [==============================] - 69s 231ms/step - loss: 1.5401 - accuracy: 0.4696 - val_loss: 1.5175 - val_accuracy: 0.4778\n",
      "Epoch 26/100\n",
      "300/300 [==============================] - 69s 230ms/step - loss: 1.5332 - accuracy: 0.4712 - val_loss: 1.5071 - val_accuracy: 0.4796\n",
      "Epoch 27/100\n",
      "300/300 [==============================] - 69s 229ms/step - loss: 1.5264 - accuracy: 0.4723 - val_loss: 1.5026 - val_accuracy: 0.4794\n",
      "Epoch 28/100\n",
      "300/300 [==============================] - 69s 230ms/step - loss: 1.5199 - accuracy: 0.4736 - val_loss: 1.4985 - val_accuracy: 0.4793\n",
      "Epoch 29/100\n",
      "300/300 [==============================] - 69s 230ms/step - loss: 1.5133 - accuracy: 0.4756 - val_loss: 1.4918 - val_accuracy: 0.4805\n",
      "Epoch 30/100\n",
      "300/300 [==============================] - 69s 230ms/step - loss: 1.5065 - accuracy: 0.4777 - val_loss: 1.4931 - val_accuracy: 0.4794\n",
      "Epoch 31/100\n",
      "300/300 [==============================] - 69s 230ms/step - loss: 1.4994 - accuracy: 0.4791 - val_loss: 1.4803 - val_accuracy: 0.4809\n",
      "Epoch 32/100\n",
      "300/300 [==============================] - 69s 228ms/step - loss: 1.4932 - accuracy: 0.4806 - val_loss: 1.4783 - val_accuracy: 0.4808\n",
      "Epoch 33/100\n",
      "300/300 [==============================] - 69s 229ms/step - loss: 1.4867 - accuracy: 0.4825 - val_loss: 1.4743 - val_accuracy: 0.4823\n",
      "Epoch 34/100\n",
      "300/300 [==============================] - 69s 230ms/step - loss: 1.4807 - accuracy: 0.4837 - val_loss: 1.4674 - val_accuracy: 0.4833\n",
      "Epoch 35/100\n",
      "300/300 [==============================] - 69s 230ms/step - loss: 1.4738 - accuracy: 0.4856 - val_loss: 1.4742 - val_accuracy: 0.4818\n",
      "Epoch 36/100\n",
      "300/300 [==============================] - 69s 230ms/step - loss: 1.4672 - accuracy: 0.4872 - val_loss: 1.4592 - val_accuracy: 0.4853\n",
      "Epoch 37/100\n",
      "300/300 [==============================] - 69s 232ms/step - loss: 1.4604 - accuracy: 0.4892 - val_loss: 1.4591 - val_accuracy: 0.4854\n",
      "Epoch 38/100\n",
      "300/300 [==============================] - 69s 231ms/step - loss: 1.4545 - accuracy: 0.4907 - val_loss: 1.4536 - val_accuracy: 0.4855\n",
      "Epoch 39/100\n",
      "300/300 [==============================] - 69s 230ms/step - loss: 1.4482 - accuracy: 0.4923 - val_loss: 1.4464 - val_accuracy: 0.4870\n",
      "Epoch 40/100\n",
      "300/300 [==============================] - 69s 231ms/step - loss: 1.4420 - accuracy: 0.4946 - val_loss: 1.4412 - val_accuracy: 0.4885\n",
      "Epoch 41/100\n",
      "300/300 [==============================] - 69s 230ms/step - loss: 1.4364 - accuracy: 0.4955 - val_loss: 1.4384 - val_accuracy: 0.4884\n",
      "Epoch 42/100\n",
      "300/300 [==============================] - 69s 230ms/step - loss: 1.4300 - accuracy: 0.4974 - val_loss: 1.4335 - val_accuracy: 0.4896\n",
      "Epoch 43/100\n",
      "300/300 [==============================] - 69s 230ms/step - loss: 1.4248 - accuracy: 0.4994 - val_loss: 1.4352 - val_accuracy: 0.4897\n",
      "Epoch 44/100\n",
      "300/300 [==============================] - 69s 230ms/step - loss: 1.4192 - accuracy: 0.5009 - val_loss: 1.4291 - val_accuracy: 0.4913\n",
      "Epoch 45/100\n",
      "300/300 [==============================] - 69s 229ms/step - loss: 1.4142 - accuracy: 0.5020 - val_loss: 1.4271 - val_accuracy: 0.4922\n",
      "Epoch 46/100\n",
      "300/300 [==============================] - 69s 230ms/step - loss: 1.4089 - accuracy: 0.5044 - val_loss: 1.4245 - val_accuracy: 0.4939\n",
      "Epoch 47/100\n",
      "300/300 [==============================] - 73s 242ms/step - loss: 1.4048 - accuracy: 0.5056 - val_loss: 1.4205 - val_accuracy: 0.4947\n",
      "Epoch 48/100\n",
      "300/300 [==============================] - 71s 237ms/step - loss: 1.3987 - accuracy: 0.5070 - val_loss: 1.4225 - val_accuracy: 0.4949\n",
      "Epoch 49/100\n",
      "300/300 [==============================] - 71s 237ms/step - loss: 1.3953 - accuracy: 0.5081 - val_loss: 1.4197 - val_accuracy: 0.4954\n",
      "Epoch 50/100\n",
      "300/300 [==============================] - 71s 237ms/step - loss: 1.3905 - accuracy: 0.5092 - val_loss: 1.4150 - val_accuracy: 0.4973\n",
      "Epoch 51/100\n",
      "300/300 [==============================] - 71s 238ms/step - loss: 1.3860 - accuracy: 0.5109 - val_loss: 1.4126 - val_accuracy: 0.4981\n",
      "Epoch 52/100\n",
      "300/300 [==============================] - 71s 237ms/step - loss: 1.3811 - accuracy: 0.5124 - val_loss: 1.4084 - val_accuracy: 0.4998\n",
      "Epoch 53/100\n",
      "300/300 [==============================] - 71s 238ms/step - loss: 1.3772 - accuracy: 0.5132 - val_loss: 1.4091 - val_accuracy: 0.5002\n",
      "Epoch 54/100\n",
      "300/300 [==============================] - 72s 241ms/step - loss: 1.3731 - accuracy: 0.5153 - val_loss: 1.4094 - val_accuracy: 0.5005\n",
      "Epoch 55/100\n",
      "300/300 [==============================] - ETA: 0s - loss: 1.3690 - accuracy: 0.5159\n",
      "Epoch 00055: ReduceLROnPlateau reducing learning rate to 9.999999747378752e-08.\n",
      "300/300 [==============================] - 73s 243ms/step - loss: 1.3690 - accuracy: 0.5159 - val_loss: 1.4091 - val_accuracy: 0.5009\n",
      "Epoch 56/100\n",
      "300/300 [==============================] - 71s 238ms/step - loss: 1.3667 - accuracy: 0.5171 - val_loss: 1.4044 - val_accuracy: 0.5023\n",
      "Epoch 57/100\n",
      "300/300 [==============================] - 71s 238ms/step - loss: 1.3663 - accuracy: 0.5176 - val_loss: 1.4044 - val_accuracy: 0.5023\n",
      "Epoch 58/100\n",
      "300/300 [==============================] - 71s 237ms/step - loss: 1.3662 - accuracy: 0.5173 - val_loss: 1.4044 - val_accuracy: 0.5022\n",
      "Epoch 59/100\n",
      "300/300 [==============================] - 72s 238ms/step - loss: 1.3663 - accuracy: 0.5176 - val_loss: 1.4042 - val_accuracy: 0.5023\n",
      "Epoch 60/100\n",
      "300/300 [==============================] - 71s 237ms/step - loss: 1.3657 - accuracy: 0.5177 - val_loss: 1.4041 - val_accuracy: 0.5024\n",
      "Epoch 61/100\n",
      "300/300 [==============================] - 71s 237ms/step - loss: 1.3654 - accuracy: 0.5176 - val_loss: 1.4042 - val_accuracy: 0.5022\n",
      "Epoch 62/100\n",
      "300/300 [==============================] - ETA: 0s - loss: 1.3654 - accuracy: 0.5182\n",
      "Epoch 00062: ReduceLROnPlateau reducing learning rate to 9.99999940631824e-10.\n",
      "300/300 [==============================] - 71s 237ms/step - loss: 1.3654 - accuracy: 0.5182 - val_loss: 1.4042 - val_accuracy: 0.5023\n",
      "Epoch 63/100\n",
      "300/300 [==============================] - 72s 240ms/step - loss: 1.3657 - accuracy: 0.5176 - val_loss: 1.4042 - val_accuracy: 0.5023\n",
      "Epoch 64/100\n",
      "300/300 [==============================] - 71s 238ms/step - loss: 1.3657 - accuracy: 0.5176 - val_loss: 1.4042 - val_accuracy: 0.5023\n",
      "Epoch 65/100\n",
      "300/300 [==============================] - ETA: 0s - loss: 1.3650 - accuracy: 0.5181\n",
      "Epoch 00065: ReduceLROnPlateau reducing learning rate to 9.999999717180686e-12.\n",
      "300/300 [==============================] - 71s 236ms/step - loss: 1.3650 - accuracy: 0.5181 - val_loss: 1.4042 - val_accuracy: 0.5023\n",
      "Epoch 66/100\n",
      "300/300 [==============================] - 71s 237ms/step - loss: 1.3651 - accuracy: 0.5181 - val_loss: 1.4042 - val_accuracy: 0.5023\n",
      "Epoch 67/100\n",
      "300/300 [==============================] - 71s 237ms/step - loss: 1.3655 - accuracy: 0.5175 - val_loss: 1.4042 - val_accuracy: 0.5023\n",
      "Epoch 68/100\n",
      "300/300 [==============================] - ETA: 0s - loss: 1.3657 - accuracy: 0.5175\n",
      "Epoch 00068: ReduceLROnPlateau reducing learning rate to 9.999999960041973e-14.\n",
      "300/300 [==============================] - 69s 229ms/step - loss: 1.3657 - accuracy: 0.5175 - val_loss: 1.4042 - val_accuracy: 0.5023\n",
      "Epoch 69/100\n",
      "300/300 [==============================] - 69s 230ms/step - loss: 1.3659 - accuracy: 0.5174 - val_loss: 1.4042 - val_accuracy: 0.5023\n",
      "Epoch 70/100\n",
      "300/300 [==============================] - 70s 234ms/step - loss: 1.3647 - accuracy: 0.5172 - val_loss: 1.4042 - val_accuracy: 0.5023\n"
     ]
    }
   ],
   "source": [
    "reduce_lr = ReduceLROnPlateau(patience =3, factor = 0.01, weightdecay = 0.05, verbose = 1) \n",
    "early_stopping = keras.callbacks.EarlyStopping(monitor=\"val_loss\", \n",
    "                                               patience=10, restore_best_weights=True)\n",
    "#train model\n",
    "history2 = model.fit(train_x, train_y, epochs=100, verbose=1, batch_size=200, \n",
    "          validation_data=(valid_x, valid_y), callbacks=[early_stopping, reduce_lr ])"
   ]
  },
  {
   "cell_type": "code",
   "execution_count": 24,
   "metadata": {},
   "outputs": [
    {
     "data": {
      "application/vnd.plotly.v1+json": {
       "config": {
        "plotlyServerURL": "https://plot.ly"
       },
       "data": [
        {
         "line": {
          "color": "blue"
         },
         "mode": "lines",
         "name": "Train",
         "type": "scatter",
         "x": [
          1,
          2,
          3,
          4,
          5,
          6,
          7,
          8,
          9,
          10,
          11,
          12,
          13,
          14,
          15,
          16,
          17,
          18,
          19,
          20,
          21,
          22,
          23,
          24,
          25,
          26,
          27,
          28,
          29,
          30,
          31,
          32,
          33,
          34,
          35,
          36,
          37,
          38,
          39,
          40,
          41,
          42,
          43,
          44,
          45,
          46,
          47,
          48,
          49,
          50,
          51,
          52,
          53,
          54,
          55,
          56,
          57,
          58,
          59,
          60,
          61,
          62,
          63,
          64,
          65,
          66,
          67,
          68,
          69,
          70
         ],
         "xaxis": "x",
         "y": [
          0.2794416546821594,
          0.42458054423332214,
          0.43184998631477356,
          0.43513888120651245,
          0.43607500195503235,
          0.43622222542762756,
          0.4369666576385498,
          0.438097208738327,
          0.43929722905158997,
          0.4406388998031616,
          0.442466676235199,
          0.443880558013916,
          0.44658055901527405,
          0.44766390323638916,
          0.45063889026641846,
          0.45240554213523865,
          0.4540777802467346,
          0.45611944794654846,
          0.45796945691108704,
          0.45989999175071716,
          0.462716668844223,
          0.4642833471298218,
          0.46563056111335754,
          0.46802499890327454,
          0.469608336687088,
          0.47116389870643616,
          0.4722527861595154,
          0.4736277759075165,
          0.4756305515766144,
          0.4777138829231262,
          0.4791083335876465,
          0.48061665892601013,
          0.4825388789176941,
          0.4836583435535431,
          0.4855527877807617,
          0.4872361123561859,
          0.4891666769981384,
          0.4907083213329315,
          0.4923250079154968,
          0.4946361184120178,
          0.49553611874580383,
          0.4974055588245392,
          0.49942776560783386,
          0.5009416937828064,
          0.5019583106040955,
          0.5043916702270508,
          0.5055805444717407,
          0.5070194602012634,
          0.5081138610839844,
          0.5091833472251892,
          0.510908305644989,
          0.5124360918998718,
          0.5132389068603516,
          0.5153499841690063,
          0.5159444212913513,
          0.517133355140686,
          0.517644464969635,
          0.5172528028488159,
          0.5176194310188293,
          0.5176610946655273,
          0.5175777673721313,
          0.5182083249092102,
          0.5175833106040955,
          0.517602801322937,
          0.5181194543838501,
          0.5180805325508118,
          0.5175361037254333,
          0.517508327960968,
          0.5174000263214111,
          0.5171972513198853
         ],
         "yaxis": "y"
        },
        {
         "line": {
          "color": "orange"
         },
         "mode": "lines",
         "name": "Validation",
         "type": "scatter",
         "x": [
          1,
          2,
          3,
          4,
          5,
          6,
          7,
          8,
          9,
          10,
          11,
          12,
          13,
          14,
          15,
          16,
          17,
          18,
          19,
          20,
          21,
          22,
          23,
          24,
          25,
          26,
          27,
          28,
          29,
          30,
          31,
          32,
          33,
          34,
          35,
          36,
          37,
          38,
          39,
          40,
          41,
          42,
          43,
          44,
          45,
          46,
          47,
          48,
          49,
          50,
          51,
          52,
          53,
          54,
          55,
          56,
          57,
          58,
          59,
          60,
          61,
          62,
          63,
          64,
          65,
          66,
          67,
          68,
          69,
          70
         ],
         "xaxis": "x",
         "y": [
          0.42834165692329407,
          0.4324583411216736,
          0.44093334674835205,
          0.43896666169166565,
          0.4402916729450226,
          0.44153332710266113,
          0.4427666664123535,
          0.4426499903202057,
          0.44392499327659607,
          0.4444083273410797,
          0.446108341217041,
          0.44900834560394287,
          0.45375001430511475,
          0.45890000462532043,
          0.4608166813850403,
          0.46467500925064087,
          0.4647499918937683,
          0.4685499966144562,
          0.4681166708469391,
          0.4715000092983246,
          0.4736666679382324,
          0.4738583266735077,
          0.4759249985218048,
          0.47685834765434265,
          0.4778083264827728,
          0.4795583188533783,
          0.47938331961631775,
          0.4793166518211365,
          0.4805000126361847,
          0.47942501306533813,
          0.4809249937534332,
          0.4807833433151245,
          0.48231667280197144,
          0.483266681432724,
          0.4817666709423065,
          0.48526665568351746,
          0.48536667227745056,
          0.4854583442211151,
          0.48704999685287476,
          0.48849165439605713,
          0.4883750081062317,
          0.4896416664123535,
          0.48974165320396423,
          0.49129998683929443,
          0.49224168062210083,
          0.49391666054725647,
          0.49468332529067993,
          0.4948999881744385,
          0.49537500739097595,
          0.49729999899864197,
          0.49812498688697815,
          0.4997749924659729,
          0.5002333521842957,
          0.5005249977111816,
          0.5009166598320007,
          0.5023166537284851,
          0.5023166537284851,
          0.5021916627883911,
          0.5022916793823242,
          0.5023750066757202,
          0.5022249817848206,
          0.5023083090782166,
          0.5023083090782166,
          0.5023083090782166,
          0.5023249983787537,
          0.5023249983787537,
          0.5023249983787537,
          0.5023249983787537,
          0.5023249983787537,
          0.5023249983787537
         ],
         "yaxis": "y"
        },
        {
         "line": {
          "color": "blue"
         },
         "mode": "lines",
         "name": "Train",
         "showlegend": false,
         "type": "scatter",
         "x": [
          1,
          2,
          3,
          4,
          5,
          6,
          7,
          8,
          9,
          10,
          11,
          12,
          13,
          14,
          15,
          16,
          17,
          18,
          19,
          20,
          21,
          22,
          23,
          24,
          25,
          26,
          27,
          28,
          29,
          30,
          31,
          32,
          33,
          34,
          35,
          36,
          37,
          38,
          39,
          40,
          41,
          42,
          43,
          44,
          45,
          46,
          47,
          48,
          49,
          50,
          51,
          52,
          53,
          54,
          55,
          56,
          57,
          58,
          59,
          60,
          61,
          62,
          63,
          64,
          65,
          66,
          67,
          68,
          69,
          70
         ],
         "xaxis": "x2",
         "y": [
          2.264798879623413,
          1.9817509651184082,
          1.8853981494903564,
          1.8311123847961426,
          1.7936128377914429,
          1.7645429372787476,
          1.7410682439804077,
          1.7201452255249023,
          1.7032700777053833,
          1.6873425245285034,
          1.674018383026123,
          1.6609461307525635,
          1.650040864944458,
          1.6393986940383911,
          1.6291078329086304,
          1.6202290058135986,
          1.6110337972640991,
          1.6021348237991333,
          1.592536449432373,
          1.5831201076507568,
          1.5732074975967407,
          1.5646343231201172,
          1.55623459815979,
          1.5474658012390137,
          1.5400547981262207,
          1.5332214832305908,
          1.5264434814453125,
          1.5198920965194702,
          1.5132744312286377,
          1.5065406560897827,
          1.4994280338287354,
          1.493173360824585,
          1.4867274761199951,
          1.4807002544403076,
          1.4738025665283203,
          1.467226505279541,
          1.4604098796844482,
          1.454474687576294,
          1.4481873512268066,
          1.4420156478881836,
          1.4363658428192139,
          1.4299886226654053,
          1.4248303174972534,
          1.4192430973052979,
          1.4142180681228638,
          1.408917784690857,
          1.4047995805740356,
          1.3986647129058838,
          1.395336627960205,
          1.3905155658721924,
          1.3859596252441406,
          1.3811025619506836,
          1.377217173576355,
          1.3731203079223633,
          1.3689799308776855,
          1.3666656017303467,
          1.366269826889038,
          1.366207242012024,
          1.3662621974945068,
          1.3657200336456299,
          1.3653761148452759,
          1.3653757572174072,
          1.3656669855117798,
          1.3657156229019165,
          1.3650481700897217,
          1.3650754690170288,
          1.3655489683151245,
          1.365698218345642,
          1.3659132719039917,
          1.364733338356018
         ],
         "yaxis": "y2"
        },
        {
         "line": {
          "color": "orange"
         },
         "mode": "lines",
         "name": "Validation",
         "showlegend": false,
         "type": "scatter",
         "x": [
          1,
          2,
          3,
          4,
          5,
          6,
          7,
          8,
          9,
          10,
          11,
          12,
          13,
          14,
          15,
          16,
          17,
          18,
          19,
          20,
          21,
          22,
          23,
          24,
          25,
          26,
          27,
          28,
          29,
          30,
          31,
          32,
          33,
          34,
          35,
          36,
          37,
          38,
          39,
          40,
          41,
          42,
          43,
          44,
          45,
          46,
          47,
          48,
          49,
          50,
          51,
          52,
          53,
          54,
          55,
          56,
          57,
          58,
          59,
          60,
          61,
          62,
          63,
          64,
          65,
          66,
          67,
          68,
          69,
          70
         ],
         "xaxis": "x2",
         "y": [
          2.0419418811798096,
          1.8894994258880615,
          1.8181359767913818,
          1.775726556777954,
          1.7484705448150635,
          1.7269972562789917,
          1.7117111682891846,
          1.6924164295196533,
          1.68085777759552,
          1.6654245853424072,
          1.6535837650299072,
          1.6419212818145752,
          1.6305981874465942,
          1.6214326620101929,
          1.6097339391708374,
          1.6021798849105835,
          1.5895801782608032,
          1.5801124572753906,
          1.571218729019165,
          1.5595712661743164,
          1.5481771230697632,
          1.5436948537826538,
          1.5327452421188354,
          1.525469422340393,
          1.5174778699874878,
          1.5070688724517822,
          1.5025510787963867,
          1.498482346534729,
          1.4918385744094849,
          1.4931285381317139,
          1.4802861213684082,
          1.4782731533050537,
          1.47431480884552,
          1.4673752784729004,
          1.474199891090393,
          1.4591634273529053,
          1.4591290950775146,
          1.453629732131958,
          1.446439504623413,
          1.4412364959716797,
          1.4383718967437744,
          1.4335356950759888,
          1.4352352619171143,
          1.4291149377822876,
          1.4270687103271484,
          1.4245332479476929,
          1.4205044507980347,
          1.4224705696105957,
          1.4196563959121704,
          1.4149713516235352,
          1.4125714302062988,
          1.4083651304244995,
          1.4091148376464844,
          1.409354329109192,
          1.4090684652328491,
          1.4043841361999512,
          1.404418706893921,
          1.404369592666626,
          1.4042121171951294,
          1.4041240215301514,
          1.404227375984192,
          1.4041944742202759,
          1.4041950702667236,
          1.404194951057434,
          1.4041950702667236,
          1.4041950702667236,
          1.4041950702667236,
          1.4041950702667236,
          1.4041950702667236,
          1.4041950702667236
         ],
         "yaxis": "y2"
        }
       ],
       "layout": {
        "annotations": [
         {
          "font": {
           "size": 16
          },
          "showarrow": false,
          "text": "Model accuracy",
          "x": 0.225,
          "xanchor": "center",
          "xref": "paper",
          "y": 1,
          "yanchor": "bottom",
          "yref": "paper"
         },
         {
          "font": {
           "size": 16
          },
          "showarrow": false,
          "text": "Model loss",
          "x": 0.775,
          "xanchor": "center",
          "xref": "paper",
          "y": 1,
          "yanchor": "bottom",
          "yref": "paper"
         }
        ],
        "legend": {
         "x": 0.85,
         "y": 1
        },
        "template": {
         "data": {
          "bar": [
           {
            "error_x": {
             "color": "#2a3f5f"
            },
            "error_y": {
             "color": "#2a3f5f"
            },
            "marker": {
             "line": {
              "color": "#E5ECF6",
              "width": 0.5
             },
             "pattern": {
              "fillmode": "overlay",
              "size": 10,
              "solidity": 0.2
             }
            },
            "type": "bar"
           }
          ],
          "barpolar": [
           {
            "marker": {
             "line": {
              "color": "#E5ECF6",
              "width": 0.5
             },
             "pattern": {
              "fillmode": "overlay",
              "size": 10,
              "solidity": 0.2
             }
            },
            "type": "barpolar"
           }
          ],
          "carpet": [
           {
            "aaxis": {
             "endlinecolor": "#2a3f5f",
             "gridcolor": "white",
             "linecolor": "white",
             "minorgridcolor": "white",
             "startlinecolor": "#2a3f5f"
            },
            "baxis": {
             "endlinecolor": "#2a3f5f",
             "gridcolor": "white",
             "linecolor": "white",
             "minorgridcolor": "white",
             "startlinecolor": "#2a3f5f"
            },
            "type": "carpet"
           }
          ],
          "choropleth": [
           {
            "colorbar": {
             "outlinewidth": 0,
             "ticks": ""
            },
            "type": "choropleth"
           }
          ],
          "contour": [
           {
            "colorbar": {
             "outlinewidth": 0,
             "ticks": ""
            },
            "colorscale": [
             [
              0,
              "#0d0887"
             ],
             [
              0.1111111111111111,
              "#46039f"
             ],
             [
              0.2222222222222222,
              "#7201a8"
             ],
             [
              0.3333333333333333,
              "#9c179e"
             ],
             [
              0.4444444444444444,
              "#bd3786"
             ],
             [
              0.5555555555555556,
              "#d8576b"
             ],
             [
              0.6666666666666666,
              "#ed7953"
             ],
             [
              0.7777777777777778,
              "#fb9f3a"
             ],
             [
              0.8888888888888888,
              "#fdca26"
             ],
             [
              1,
              "#f0f921"
             ]
            ],
            "type": "contour"
           }
          ],
          "contourcarpet": [
           {
            "colorbar": {
             "outlinewidth": 0,
             "ticks": ""
            },
            "type": "contourcarpet"
           }
          ],
          "heatmap": [
           {
            "colorbar": {
             "outlinewidth": 0,
             "ticks": ""
            },
            "colorscale": [
             [
              0,
              "#0d0887"
             ],
             [
              0.1111111111111111,
              "#46039f"
             ],
             [
              0.2222222222222222,
              "#7201a8"
             ],
             [
              0.3333333333333333,
              "#9c179e"
             ],
             [
              0.4444444444444444,
              "#bd3786"
             ],
             [
              0.5555555555555556,
              "#d8576b"
             ],
             [
              0.6666666666666666,
              "#ed7953"
             ],
             [
              0.7777777777777778,
              "#fb9f3a"
             ],
             [
              0.8888888888888888,
              "#fdca26"
             ],
             [
              1,
              "#f0f921"
             ]
            ],
            "type": "heatmap"
           }
          ],
          "heatmapgl": [
           {
            "colorbar": {
             "outlinewidth": 0,
             "ticks": ""
            },
            "colorscale": [
             [
              0,
              "#0d0887"
             ],
             [
              0.1111111111111111,
              "#46039f"
             ],
             [
              0.2222222222222222,
              "#7201a8"
             ],
             [
              0.3333333333333333,
              "#9c179e"
             ],
             [
              0.4444444444444444,
              "#bd3786"
             ],
             [
              0.5555555555555556,
              "#d8576b"
             ],
             [
              0.6666666666666666,
              "#ed7953"
             ],
             [
              0.7777777777777778,
              "#fb9f3a"
             ],
             [
              0.8888888888888888,
              "#fdca26"
             ],
             [
              1,
              "#f0f921"
             ]
            ],
            "type": "heatmapgl"
           }
          ],
          "histogram": [
           {
            "marker": {
             "pattern": {
              "fillmode": "overlay",
              "size": 10,
              "solidity": 0.2
             }
            },
            "type": "histogram"
           }
          ],
          "histogram2d": [
           {
            "colorbar": {
             "outlinewidth": 0,
             "ticks": ""
            },
            "colorscale": [
             [
              0,
              "#0d0887"
             ],
             [
              0.1111111111111111,
              "#46039f"
             ],
             [
              0.2222222222222222,
              "#7201a8"
             ],
             [
              0.3333333333333333,
              "#9c179e"
             ],
             [
              0.4444444444444444,
              "#bd3786"
             ],
             [
              0.5555555555555556,
              "#d8576b"
             ],
             [
              0.6666666666666666,
              "#ed7953"
             ],
             [
              0.7777777777777778,
              "#fb9f3a"
             ],
             [
              0.8888888888888888,
              "#fdca26"
             ],
             [
              1,
              "#f0f921"
             ]
            ],
            "type": "histogram2d"
           }
          ],
          "histogram2dcontour": [
           {
            "colorbar": {
             "outlinewidth": 0,
             "ticks": ""
            },
            "colorscale": [
             [
              0,
              "#0d0887"
             ],
             [
              0.1111111111111111,
              "#46039f"
             ],
             [
              0.2222222222222222,
              "#7201a8"
             ],
             [
              0.3333333333333333,
              "#9c179e"
             ],
             [
              0.4444444444444444,
              "#bd3786"
             ],
             [
              0.5555555555555556,
              "#d8576b"
             ],
             [
              0.6666666666666666,
              "#ed7953"
             ],
             [
              0.7777777777777778,
              "#fb9f3a"
             ],
             [
              0.8888888888888888,
              "#fdca26"
             ],
             [
              1,
              "#f0f921"
             ]
            ],
            "type": "histogram2dcontour"
           }
          ],
          "mesh3d": [
           {
            "colorbar": {
             "outlinewidth": 0,
             "ticks": ""
            },
            "type": "mesh3d"
           }
          ],
          "parcoords": [
           {
            "line": {
             "colorbar": {
              "outlinewidth": 0,
              "ticks": ""
             }
            },
            "type": "parcoords"
           }
          ],
          "pie": [
           {
            "automargin": true,
            "type": "pie"
           }
          ],
          "scatter": [
           {
            "fillpattern": {
             "fillmode": "overlay",
             "size": 10,
             "solidity": 0.2
            },
            "type": "scatter"
           }
          ],
          "scatter3d": [
           {
            "line": {
             "colorbar": {
              "outlinewidth": 0,
              "ticks": ""
             }
            },
            "marker": {
             "colorbar": {
              "outlinewidth": 0,
              "ticks": ""
             }
            },
            "type": "scatter3d"
           }
          ],
          "scattercarpet": [
           {
            "marker": {
             "colorbar": {
              "outlinewidth": 0,
              "ticks": ""
             }
            },
            "type": "scattercarpet"
           }
          ],
          "scattergeo": [
           {
            "marker": {
             "colorbar": {
              "outlinewidth": 0,
              "ticks": ""
             }
            },
            "type": "scattergeo"
           }
          ],
          "scattergl": [
           {
            "marker": {
             "colorbar": {
              "outlinewidth": 0,
              "ticks": ""
             }
            },
            "type": "scattergl"
           }
          ],
          "scattermapbox": [
           {
            "marker": {
             "colorbar": {
              "outlinewidth": 0,
              "ticks": ""
             }
            },
            "type": "scattermapbox"
           }
          ],
          "scatterpolar": [
           {
            "marker": {
             "colorbar": {
              "outlinewidth": 0,
              "ticks": ""
             }
            },
            "type": "scatterpolar"
           }
          ],
          "scatterpolargl": [
           {
            "marker": {
             "colorbar": {
              "outlinewidth": 0,
              "ticks": ""
             }
            },
            "type": "scatterpolargl"
           }
          ],
          "scatterternary": [
           {
            "marker": {
             "colorbar": {
              "outlinewidth": 0,
              "ticks": ""
             }
            },
            "type": "scatterternary"
           }
          ],
          "surface": [
           {
            "colorbar": {
             "outlinewidth": 0,
             "ticks": ""
            },
            "colorscale": [
             [
              0,
              "#0d0887"
             ],
             [
              0.1111111111111111,
              "#46039f"
             ],
             [
              0.2222222222222222,
              "#7201a8"
             ],
             [
              0.3333333333333333,
              "#9c179e"
             ],
             [
              0.4444444444444444,
              "#bd3786"
             ],
             [
              0.5555555555555556,
              "#d8576b"
             ],
             [
              0.6666666666666666,
              "#ed7953"
             ],
             [
              0.7777777777777778,
              "#fb9f3a"
             ],
             [
              0.8888888888888888,
              "#fdca26"
             ],
             [
              1,
              "#f0f921"
             ]
            ],
            "type": "surface"
           }
          ],
          "table": [
           {
            "cells": {
             "fill": {
              "color": "#EBF0F8"
             },
             "line": {
              "color": "white"
             }
            },
            "header": {
             "fill": {
              "color": "#C8D4E3"
             },
             "line": {
              "color": "white"
             }
            },
            "type": "table"
           }
          ]
         },
         "layout": {
          "annotationdefaults": {
           "arrowcolor": "#2a3f5f",
           "arrowhead": 0,
           "arrowwidth": 1
          },
          "autotypenumbers": "strict",
          "coloraxis": {
           "colorbar": {
            "outlinewidth": 0,
            "ticks": ""
           }
          },
          "colorscale": {
           "diverging": [
            [
             0,
             "#8e0152"
            ],
            [
             0.1,
             "#c51b7d"
            ],
            [
             0.2,
             "#de77ae"
            ],
            [
             0.3,
             "#f1b6da"
            ],
            [
             0.4,
             "#fde0ef"
            ],
            [
             0.5,
             "#f7f7f7"
            ],
            [
             0.6,
             "#e6f5d0"
            ],
            [
             0.7,
             "#b8e186"
            ],
            [
             0.8,
             "#7fbc41"
            ],
            [
             0.9,
             "#4d9221"
            ],
            [
             1,
             "#276419"
            ]
           ],
           "sequential": [
            [
             0,
             "#0d0887"
            ],
            [
             0.1111111111111111,
             "#46039f"
            ],
            [
             0.2222222222222222,
             "#7201a8"
            ],
            [
             0.3333333333333333,
             "#9c179e"
            ],
            [
             0.4444444444444444,
             "#bd3786"
            ],
            [
             0.5555555555555556,
             "#d8576b"
            ],
            [
             0.6666666666666666,
             "#ed7953"
            ],
            [
             0.7777777777777778,
             "#fb9f3a"
            ],
            [
             0.8888888888888888,
             "#fdca26"
            ],
            [
             1,
             "#f0f921"
            ]
           ],
           "sequentialminus": [
            [
             0,
             "#0d0887"
            ],
            [
             0.1111111111111111,
             "#46039f"
            ],
            [
             0.2222222222222222,
             "#7201a8"
            ],
            [
             0.3333333333333333,
             "#9c179e"
            ],
            [
             0.4444444444444444,
             "#bd3786"
            ],
            [
             0.5555555555555556,
             "#d8576b"
            ],
            [
             0.6666666666666666,
             "#ed7953"
            ],
            [
             0.7777777777777778,
             "#fb9f3a"
            ],
            [
             0.8888888888888888,
             "#fdca26"
            ],
            [
             1,
             "#f0f921"
            ]
           ]
          },
          "colorway": [
           "#636efa",
           "#EF553B",
           "#00cc96",
           "#ab63fa",
           "#FFA15A",
           "#19d3f3",
           "#FF6692",
           "#B6E880",
           "#FF97FF",
           "#FECB52"
          ],
          "font": {
           "color": "#2a3f5f"
          },
          "geo": {
           "bgcolor": "white",
           "lakecolor": "white",
           "landcolor": "#E5ECF6",
           "showlakes": true,
           "showland": true,
           "subunitcolor": "white"
          },
          "hoverlabel": {
           "align": "left"
          },
          "hovermode": "closest",
          "mapbox": {
           "style": "light"
          },
          "paper_bgcolor": "white",
          "plot_bgcolor": "#E5ECF6",
          "polar": {
           "angularaxis": {
            "gridcolor": "white",
            "linecolor": "white",
            "ticks": ""
           },
           "bgcolor": "#E5ECF6",
           "radialaxis": {
            "gridcolor": "white",
            "linecolor": "white",
            "ticks": ""
           }
          },
          "scene": {
           "xaxis": {
            "backgroundcolor": "#E5ECF6",
            "gridcolor": "white",
            "gridwidth": 2,
            "linecolor": "white",
            "showbackground": true,
            "ticks": "",
            "zerolinecolor": "white"
           },
           "yaxis": {
            "backgroundcolor": "#E5ECF6",
            "gridcolor": "white",
            "gridwidth": 2,
            "linecolor": "white",
            "showbackground": true,
            "ticks": "",
            "zerolinecolor": "white"
           },
           "zaxis": {
            "backgroundcolor": "#E5ECF6",
            "gridcolor": "white",
            "gridwidth": 2,
            "linecolor": "white",
            "showbackground": true,
            "ticks": "",
            "zerolinecolor": "white"
           }
          },
          "shapedefaults": {
           "line": {
            "color": "#2a3f5f"
           }
          },
          "ternary": {
           "aaxis": {
            "gridcolor": "white",
            "linecolor": "white",
            "ticks": ""
           },
           "baxis": {
            "gridcolor": "white",
            "linecolor": "white",
            "ticks": ""
           },
           "bgcolor": "#E5ECF6",
           "caxis": {
            "gridcolor": "white",
            "linecolor": "white",
            "ticks": ""
           }
          },
          "title": {
           "x": 0.05
          },
          "xaxis": {
           "automargin": true,
           "gridcolor": "white",
           "linecolor": "white",
           "ticks": "",
           "title": {
            "standoff": 15
           },
           "zerolinecolor": "white",
           "zerolinewidth": 2
          },
          "yaxis": {
           "automargin": true,
           "gridcolor": "white",
           "linecolor": "white",
           "ticks": "",
           "title": {
            "standoff": 15
           },
           "zerolinecolor": "white",
           "zerolinewidth": 2
          }
         }
        },
        "title": {
         "text": "Model Training History"
        },
        "xaxis": {
         "anchor": "y",
         "domain": [
          0,
          0.45
         ],
         "title": {
          "text": "Epoch"
         }
        },
        "xaxis2": {
         "anchor": "y2",
         "domain": [
          0.55,
          1
         ]
        },
        "yaxis": {
         "anchor": "x",
         "domain": [
          0,
          1
         ],
         "title": {
          "text": "Value"
         }
        },
        "yaxis2": {
         "anchor": "x2",
         "domain": [
          0,
          1
         ]
        }
       }
      }
     },
     "metadata": {},
     "output_type": "display_data"
    }
   ],
   "source": [
    "import plotly.graph_objects as go\n",
    "from plotly.subplots import make_subplots\n",
    "\n",
    "fig = make_subplots(rows=1, cols=2, subplot_titles=(\"Model accuracy\", \"Model loss\"))\n",
    "\n",
    "# Add the first subplot for accuracy\n",
    "fig.add_trace(go.Scatter(x=list(range(1, len(history2.history['accuracy']) + 1)),\n",
    "                         y=history2.history['accuracy'], mode='lines',\n",
    "                         name='Train', line=dict(color='blue')), row=1, col=1)\n",
    "fig.add_trace(go.Scatter(x=list(range(1, len(history2.history['val_accuracy']) + 1)),\n",
    "                         y=history2.history['val_accuracy'], mode='lines',\n",
    "                         name='Validation', line=dict(color='orange')), row=1, col=1)\n",
    "\n",
    "# Add the second subplot for loss\n",
    "fig.add_trace(go.Scatter(x=list(range(1, len(history2.history['loss']) + 1)),\n",
    "                         y=history2.history['loss'], mode='lines',\n",
    "                         name='Train', line=dict(color='blue'), showlegend=False), row=1, col=2)\n",
    "fig.add_trace(go.Scatter(x=list(range(1, len(history2.history['val_loss']) + 1)),\n",
    "                         y=history2.history['val_loss'], mode='lines',\n",
    "                         name='Validation', line=dict(color='orange'), showlegend=False), row=1, col=2)\n",
    "\n",
    "fig.update_layout(title=\"Model Training History\",\n",
    "                  xaxis_title=\"Epoch\",\n",
    "                  yaxis_title=\"Value\",\n",
    "                  legend=dict(x=0.85, y=1))\n",
    "\n",
    "fig.show()"
   ]
  },
  {
   "cell_type": "code",
   "execution_count": 113,
   "metadata": {},
   "outputs": [
    {
     "name": "stdout",
     "output_type": "stream",
     "text": [
      "625/625 [==============================] - 15s 24ms/step - loss: 1.3150 - accuracy: 0.5352\n",
      "Test Accuracy: 53.52%\n"
     ]
    }
   ],
   "source": [
    "# Evaluate the model on the test dataset\n",
    "test_loss, test_accuracy = model.evaluate(test_x, test_y)\n",
    "print(f'Test Accuracy: {test_accuracy * 100:.2f}%')"
   ]
  },
  {
   "cell_type": "code",
   "execution_count": 114,
   "metadata": {},
   "outputs": [
    {
     "data": {
      "text/plain": [
       "(20000, 32, 64, 1)"
      ]
     },
     "execution_count": 114,
     "metadata": {},
     "output_type": "execute_result"
    }
   ],
   "source": [
    "test_x.shape"
   ]
  },
  {
   "cell_type": "code",
   "execution_count": 115,
   "metadata": {},
   "outputs": [],
   "source": [
    "#y_pred = model.predict(test_x) valid_x, valid_y\n",
    "y_pred = model.predict(test_x)\n",
    "y_pred = np.argmax(y_pred, axis=2)\n",
    "\n",
    "prediction = []\n",
    "for i in range(valid_size):\n",
    "    prediction.append(num_to_label(y_pred[i]))"
   ]
  },
  {
   "cell_type": "code",
   "execution_count": 116,
   "metadata": {},
   "outputs": [],
   "source": [
    "y_true = [str(test_y_lable[i])for i in range(len(test_y_lable))]"
   ]
  },
  {
   "cell_type": "code",
   "execution_count": null,
   "metadata": {},
   "outputs": [],
   "source": [
    "correct_char = 0\n",
    "total_char = 0\n",
    "correct = 0\n",
    "\n",
    "for i in range(valid_size):\n",
    "    pr = prediction[i]\n",
    "    tr = y_true[i]\n",
    "    total_char += len(tr)\n",
    "    \n",
    "    for j in range(min(len(tr), len(pr))):\n",
    "        if tr[j] == pr[j]:\n",
    "            correct_char += 1\n",
    "            \n",
    "    if pr == tr :\n",
    "        correct += 1 \n",
    "    \n",
    "#print('Correct characters predicted : %.2f%%' %(correct_char*100/total_char))\n",
    "#print('Correct words predicted      : %.2f%%' %(correct*100/valid_size))"
   ]
  },
  {
   "cell_type": "code",
   "execution_count": 118,
   "metadata": {},
   "outputs": [
    {
     "name": "stdout",
     "output_type": "stream",
     "text": [
      "Label:65.2; Predicted:24..3\n"
     ]
    },
    {
     "data": {
      "image/png": "[encoded data removed]",
      "text/plain": [
       "<PIL.Image.Image image mode=L size=64x32>"
      ]
     },
     "metadata": {},
     "output_type": "display_data"
    },
    {
     "name": "stdout",
     "output_type": "stream",
     "text": [
      "Label:52.3; Predicted:64.7\n"
     ]
    },
    {
     "data": {
      "image/png": "[encoded data removed]",
      "text/plain": [
       "<PIL.Image.Image image mode=L size=64x32>"
      ]
     },
     "metadata": {},
     "output_type": "display_data"
    },
    {
     "name": "stdout",
     "output_type": "stream",
     "text": [
      "Label:234.9; Predicted:224.8\n"
     ]
    },
    {
     "data": {
      "image/png": "[encoded data removed]",
      "text/plain": [
       "<PIL.Image.Image image mode=L size=64x32>"
      ]
     },
     "metadata": {},
     "output_type": "display_data"
    },
    {
     "name": "stdout",
     "output_type": "stream",
     "text": [
      "Label:251.7; Predicted:224.2\n"
     ]
    },
    {
     "data": {
      "image/png": "[encoded data removed]",
      "text/plain": [
       "<PIL.Image.Image image mode=L size=64x32>"
      ]
     },
     "metadata": {},
     "output_type": "display_data"
    },
    {
     "name": "stdout",
     "output_type": "stream",
     "text": [
      "Label:134.1; Predicted:250.0\n"
     ]
    },
    {
     "data": {
      "image/png": "[encoded data removed]",
      "text/plain": [
       "<PIL.Image.Image image mode=L size=64x32>"
      ]
     },
     "metadata": {},
     "output_type": "display_data"
    },
    {
     "name": "stdout",
     "output_type": "stream",
     "text": [
      "Label:162.1; Predicted:209.5\n"
     ]
    },
    {
     "data": {
      "image/png": "[encoded data removed]",
      "text/plain": [
       "<PIL.Image.Image image mode=L size=64x32>"
      ]
     },
     "metadata": {},
     "output_type": "display_data"
    },
    {
     "name": "stdout",
     "output_type": "stream",
     "text": [
      "Label:89.7; Predicted:89.7\n"
     ]
    },
    {
     "data": {
      "image/png": "[encoded data removed]",
      "text/plain": [
       "<PIL.Image.Image image mode=L size=64x32>"
      ]
     },
     "metadata": {},
     "output_type": "display_data"
    },
    {
     "name": "stdout",
     "output_type": "stream",
     "text": [
      "Label:318.1; Predicted:239.1\n"
     ]
    },
    {
     "data": {
      "image/png": "[encoded data removed]",
      "text/plain": [
       "<PIL.Image.Image image mode=L size=64x32>"
      ]
     },
     "metadata": {},
     "output_type": "display_data"
    },
    {
     "name": "stdout",
     "output_type": "stream",
     "text": [
      "Label:97.5; Predicted:69.0\n"
     ]
    },
    {
     "data": {
      "image/png": "[encoded data removed]",
      "text/plain": [
       "<PIL.Image.Image image mode=L size=64x32>"
      ]
     },
     "metadata": {},
     "output_type": "display_data"
    },
    {
     "name": "stdout",
     "output_type": "stream",
     "text": [
      "Label:91.7; Predicted:79.7\n"
     ]
    },
    {
     "data": {
      "image/png": "[encoded data removed]",
      "text/plain": [
       "<PIL.Image.Image image mode=L size=64x32>"
      ]
     },
     "metadata": {},
     "output_type": "display_data"
    }
   ],
   "source": [
    "for id_n in np.random.randint(0, len(test_y),10):\n",
    "    image_data = (np.squeeze(test_x_trn[id_n]) * 255).astype('uint8')\n",
    "    image = Image.fromarray(image_data, 'L')\n",
    "    title = f\"Label:{y_true[id_n]}; Predicted:{prediction[id_n]}\"\n",
    "    print(title)\n",
    "    display(image)"
   ]
  }
 ],
 "metadata": {
  "kernelspec": {
   "display_name": "anacondaTensorflow",
   "language": "python",
   "name": "python3"
  },
  "language_info": {
   "codemirror_mode": {
    "name": "ipython",
    "version": 3
   },
   "file_extension": ".py",
   "mimetype": "text/x-python",
   "name": "python",
   "nbconvert_exporter": "python",
   "pygments_lexer": "ipython3",
   "version": "3.8.17"
  }
 },
 "nbformat": 4,
 "nbformat_minor": 2
}
