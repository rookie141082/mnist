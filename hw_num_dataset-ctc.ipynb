{
 "cells": [
  {
   "cell_type": "code",
   "execution_count": 1,
   "metadata": {},
   "outputs": [],
   "source": [
    "import cv2\n",
    "import numpy as np\n",
    "import pandas as pd\n",
    "filename = 'E:/pythonfile/recognition/handwritten_numbers/hw_numbers_dataset/'\n",
    "data = pd.read_csv( filename + 'annotation.csv')\n"
   ]
  },
  {
   "cell_type": "code",
   "execution_count": 2,
   "metadata": {},
   "outputs": [],
   "source": [
    "\n",
    "x_data = [] #handwritten numbers dataset\n",
    "for i in range(len(data)):\n",
    "    img_dir = filename+data.loc[i, 'FileName']+'.jpg'\n",
    "    image = cv2.imread(img_dir, cv2.IMREAD_GRAYSCALE)\n",
    "    image = image/255.\n",
    "    x_data.append(image)\n"
   ]
  },
  {
   "cell_type": "code",
   "execution_count": 3,
   "metadata": {},
   "outputs": [],
   "source": [
    "x_data = np.array(x_data).reshape(-1, 32, 64, 1)"
   ]
  },
  {
   "cell_type": "code",
   "execution_count": 4,
   "metadata": {},
   "outputs": [],
   "source": [
    "train_x =x_data[:60000]\n",
    "test_x= x_data[60000:80000]\n",
    "valid_x= x_data[80000:]"
   ]
  },
  {
   "cell_type": "code",
   "execution_count": 5,
   "metadata": {},
   "outputs": [],
   "source": [
    "train_size = 60000\n",
    "test_size= 20000\n",
    "valid_size= 20000"
   ]
  },
  {
   "cell_type": "code",
   "execution_count": 6,
   "metadata": {},
   "outputs": [],
   "source": [
    "alphabets = u\"0123456789.-\"\n",
    "max_str_len = 6 # max length of input labels\n",
    "num_of_characters = len(alphabets) + 1 # +1 for ctc pseudo blank\n",
    "num_of_timestamps = 16 # max length of predicted labels\n",
    "\n",
    "\n",
    "def label_to_num(label):\n",
    "    label_num = []\n",
    "    for ch in label:\n",
    "        label_num.append(alphabets.find(ch))\n",
    "        \n",
    "    return np.array(label_num)\n",
    "\n",
    "def num_to_label(num):\n",
    "    ret = \"\"\n",
    "    for ch in num:\n",
    "        if ch == -1:  # CTC Blank\n",
    "            break\n",
    "        else:\n",
    "            ret+=alphabets[ch]\n",
    "    return ret"
   ]
  },
  {
   "cell_type": "code",
   "execution_count": 7,
   "metadata": {},
   "outputs": [
    {
     "name": "stdout",
     "output_type": "stream",
     "text": [
      "True label :  254.9 \n",
      "train_y :  [ 2.  5.  4. 10.  9. -1.] \n",
      "train_label_len :  [5.] \n",
      "train_input_len :  [16.]\n"
     ]
    }
   ],
   "source": [
    "train_y = np.ones([train_size, max_str_len]) * -1\n",
    "train_label_len = np.zeros([train_size, 1])\n",
    "train_input_len = np.ones([train_size, 1]) * num_of_timestamps\n",
    "train_output = np.zeros([train_size])\n",
    "\n",
    "for i in data.index[:train_size]:\n",
    "    train_label_len[i] = len(str(data.loc[i, 'Value']))\n",
    "    train_y[i, 0:len(str(data.loc[i, 'Value']))]= label_to_num(str(data.loc[i, 'Value']))  \n",
    "print('True label : ',data.loc[100, 'Value'] , '\\ntrain_y : ',train_y[100],\n",
    "      '\\ntrain_label_len : ',train_label_len[100],'\\ntrain_input_len : ',train_input_len[100]) "
   ]
  },
  {
   "cell_type": "code",
   "execution_count": 8,
   "metadata": {},
   "outputs": [
    {
     "name": "stdout",
     "output_type": "stream",
     "text": [
      "True label :  193.9 \n",
      "train_y :  [ 1.  9.  3. 10.  9. -1.] \n",
      "train_label_len :  [5.] \n",
      "train_input_len :  [16.]\n"
     ]
    }
   ],
   "source": [
    "test_y = np.ones([test_size, max_str_len]) * -1\n",
    "test_label_len = np.zeros([test_size, 1])\n",
    "test_input_len = np.ones([test_size, 1]) * num_of_timestamps\n",
    "test_output = np.zeros([test_size])\n",
    "\n",
    "for i in data.index[train_size:train_size+test_size]:\n",
    "    test_label_len[i-60000] = len(str(data.loc[i, 'Value']))\n",
    "    test_y[i-60000, 0:len(str(data.loc[i, 'Value']))]= label_to_num(str(data.loc[i, 'Value']))  \n",
    "print('True label : ',data.loc[60100, 'Value'] , '\\ntrain_y : ',test_y[100],\n",
    "      '\\ntrain_label_len : ',test_label_len[100],'\\ntrain_input_len : ',test_input_len[100]) "
   ]
  },
  {
   "cell_type": "code",
   "execution_count": 9,
   "metadata": {},
   "outputs": [
    {
     "name": "stdout",
     "output_type": "stream",
     "text": [
      "True label :  -63.0 \n",
      "train_y :  [11.  6.  3. 10.  0. -1.] \n",
      "train_label_len :  [5.] \n",
      "train_input_len :  [16.]\n"
     ]
    }
   ],
   "source": [
    "valid_y = np.ones([valid_size, max_str_len]) * -1\n",
    "valid_label_len = np.zeros([valid_size, 1])\n",
    "valid_input_len = np.ones([valid_size, 1]) * num_of_timestamps\n",
    "valid_output = np.zeros([valid_size])\n",
    "\n",
    "for i in data.index[train_size+test_size:]:\n",
    "    valid_label_len[i-80000] = len(str(data.loc[i, 'Value']))\n",
    "    valid_y[i-80000, 0:len(str(data.loc[i, 'Value']))]= label_to_num(str(data.loc[i, 'Value']))  \n",
    "print('True label : ',data.loc[80100, 'Value'] , '\\ntrain_y : ',valid_y[100],\n",
    "      '\\ntrain_label_len : ',valid_label_len[100],'\\ntrain_input_len : ',valid_input_len[100]) "
   ]
  },
  {
   "cell_type": "code",
   "execution_count": 10,
   "metadata": {},
   "outputs": [
    {
     "name": "stdout",
     "output_type": "stream",
     "text": [
      "Label:316.9\n"
     ]
    },
    {
     "data": {
      "image/png": "[encoded data removed]",
      "text/plain": [
       "<PIL.Image.Image image mode=L size=64x32>"
      ]
     },
     "metadata": {},
     "output_type": "display_data"
    },
    {
     "name": "stdout",
     "output_type": "stream",
     "text": [
      "Label:207.1\n"
     ]
    },
    {
     "data": {
      "image/png": "[encoded data removed]",
      "text/plain": [
       "<PIL.Image.Image image mode=L size=64x32>"
      ]
     },
     "metadata": {},
     "output_type": "display_data"
    },
    {
     "name": "stdout",
     "output_type": "stream",
     "text": [
      "Label:153.9\n"
     ]
    },
    {
     "data": {
      "image/png": "[encoded data removed]",
      "text/plain": [
       "<PIL.Image.Image image mode=L size=64x32>"
      ]
     },
     "metadata": {},
     "output_type": "display_data"
    },
    {
     "name": "stdout",
     "output_type": "stream",
     "text": [
      "Label:20.0\n"
     ]
    },
    {
     "data": {
      "image/png": "[encoded data removed]",
      "text/plain": [
       "<PIL.Image.Image image mode=L size=64x32>"
      ]
     },
     "metadata": {},
     "output_type": "display_data"
    },
    {
     "name": "stdout",
     "output_type": "stream",
     "text": [
      "Label:107.3\n"
     ]
    },
    {
     "data": {
      "image/png": "[encoded data removed]",
      "text/plain": [
       "<PIL.Image.Image image mode=L size=64x32>"
      ]
     },
     "metadata": {},
     "output_type": "display_data"
    },
    {
     "name": "stdout",
     "output_type": "stream",
     "text": [
      "Label:265.4\n"
     ]
    },
    {
     "data": {
      "image/png": "[encoded data removed]",
      "text/plain": [
       "<PIL.Image.Image image mode=L size=64x32>"
      ]
     },
     "metadata": {},
     "output_type": "display_data"
    },
    {
     "name": "stdout",
     "output_type": "stream",
     "text": [
      "Label:95.1\n"
     ]
    },
    {
     "data": {
      "image/png": "[encoded data removed]",
      "text/plain": [
       "<PIL.Image.Image image mode=L size=64x32>"
      ]
     },
     "metadata": {},
     "output_type": "display_data"
    },
    {
     "name": "stdout",
     "output_type": "stream",
     "text": [
      "Label:328.8\n"
     ]
    },
    {
     "data": {
      "image/png": "[encoded data removed]",
      "text/plain": [
       "<PIL.Image.Image image mode=L size=64x32>"
      ]
     },
     "metadata": {},
     "output_type": "display_data"
    },
    {
     "name": "stdout",
     "output_type": "stream",
     "text": [
      "Label:210.8\n"
     ]
    },
    {
     "data": {
      "image/png": "[encoded data removed]",
      "text/plain": [
       "<PIL.Image.Image image mode=L size=64x32>"
      ]
     },
     "metadata": {},
     "output_type": "display_data"
    },
    {
     "name": "stdout",
     "output_type": "stream",
     "text": [
      "Label:-72.5\n"
     ]
    },
    {
     "data": {
      "image/png": "[encoded data removed]",
      "text/plain": [
       "<PIL.Image.Image image mode=L size=64x32>"
      ]
     },
     "metadata": {},
     "output_type": "display_data"
    }
   ],
   "source": [
    "from PIL import Image\n",
    "from IPython.display import display\n",
    "\n",
    "def image_see(n):\n",
    "    image_data = (np.squeeze(x_data[n]) * 255).astype('uint8')\n",
    "    image = Image.fromarray(image_data, 'L')\n",
    "    title = f\"Label:{data.loc[n,'Value']}\"\n",
    "    print(title)\n",
    "    display(image)\n",
    "for id_n in np.random.randint(0, len(data),10):\n",
    "    image_see(id_n)\n"
   ]
  },
  {
   "cell_type": "code",
   "execution_count": 11,
   "metadata": {},
   "outputs": [
    {
     "name": "stdout",
     "output_type": "stream",
     "text": [
      "Model: \"functional_1\"\n",
      "_________________________________________________________________\n",
      "Layer (type)                 Output Shape              Param #   \n",
      "=================================================================\n",
      "input (InputLayer)           [(None, 32, 64, 1)]       0         \n",
      "_________________________________________________________________\n",
      "conv1 (Conv2D)               (None, 32, 64, 32)        320       \n",
      "_________________________________________________________________\n",
      "batch_normalization (BatchNo (None, 32, 64, 32)        128       \n",
      "_________________________________________________________________\n",
      "activation (Activation)      (None, 32, 64, 32)        0         \n",
      "_________________________________________________________________\n",
      "max1 (MaxPooling2D)          (None, 16, 32, 32)        0         \n",
      "_________________________________________________________________\n",
      "conv2 (Conv2D)               (None, 16, 32, 64)        18496     \n",
      "_________________________________________________________________\n",
      "batch_normalization_1 (Batch (None, 16, 32, 64)        256       \n",
      "_________________________________________________________________\n",
      "activation_1 (Activation)    (None, 16, 32, 64)        0         \n",
      "_________________________________________________________________\n",
      "max2 (MaxPooling2D)          (None, 8, 16, 64)         0         \n",
      "_________________________________________________________________\n",
      "dropout (Dropout)            (None, 8, 16, 64)         0         \n",
      "_________________________________________________________________\n",
      "conv3 (Conv2D)               (None, 8, 16, 128)        73856     \n",
      "_________________________________________________________________\n",
      "batch_normalization_2 (Batch (None, 8, 16, 128)        512       \n",
      "_________________________________________________________________\n",
      "activation_2 (Activation)    (None, 8, 16, 128)        0         \n",
      "_________________________________________________________________\n",
      "max3 (MaxPooling2D)          (None, 8, 8, 128)         0         \n",
      "_________________________________________________________________\n",
      "dropout_1 (Dropout)          (None, 8, 8, 128)         0         \n",
      "_________________________________________________________________\n",
      "reshape (Reshape)            (None, 16, 512)           0         \n",
      "_________________________________________________________________\n",
      "dense1 (Dense)               (None, 16, 64)            32832     \n",
      "_________________________________________________________________\n",
      "lstm1 (Bidirectional)        (None, 16, 256)           197632    \n",
      "_________________________________________________________________\n",
      "lstm2 (Bidirectional)        (None, 16, 128)           164352    \n",
      "_________________________________________________________________\n",
      "dense2 (Dense)               (None, 16, 13)            1677      \n",
      "_________________________________________________________________\n",
      "softmax (Activation)         (None, 16, 13)            0         \n",
      "=================================================================\n",
      "Total params: 490,061\n",
      "Trainable params: 489,613\n",
      "Non-trainable params: 448\n",
      "_________________________________________________________________\n"
     ]
    }
   ],
   "source": [
    "import tensorflow as tf\n",
    "from keras import backend as K\n",
    "from keras.models import Model\n",
    "from keras.layers import Input, Conv2D, MaxPooling2D, Reshape, Bidirectional, LSTM, Dense, Lambda, Activation, BatchNormalization, Dropout\n",
    "from keras.optimizers import Adam\n",
    "\n",
    "input_data = Input(shape=(32, 64, 1), name='input')\n",
    "\n",
    "inner = Conv2D(32, (3, 3), activation='relu', padding='same', name='conv1')(input_data)  \n",
    "inner = BatchNormalization()(inner)\n",
    "inner = Activation('relu')(inner)\n",
    "inner = MaxPooling2D(pool_size=(2, 2), name='max1')(inner)\n",
    "\n",
    "inner = Conv2D(64, (3, 3), activation='relu', padding='same', name='conv2')(inner)\n",
    "inner = BatchNormalization()(inner)\n",
    "inner = Activation('relu')(inner)\n",
    "inner = MaxPooling2D(pool_size=(2, 2), name='max2')(inner)\n",
    "inner = Dropout(0.3)(inner)\n",
    "\n",
    "inner = Conv2D(128, (3, 3), activation='relu', padding='same', name='conv3')(inner)\n",
    "inner = BatchNormalization()(inner)\n",
    "inner = Activation('relu')(inner)\n",
    "inner = MaxPooling2D(pool_size=(1, 2), name='max3')(inner)\n",
    "inner = Dropout(0.3)(inner)\n",
    "\n",
    "# CNN to RNN\n",
    "inner = Reshape(target_shape=((16,128*4)), name='reshape')(inner)\n",
    "inner = Dense(64, activation=\"softmax\", name='dense1')(inner)\n",
    "## RNN\n",
    "inner = Bidirectional(LSTM(128, return_sequences=True, dropout=0.25), name = 'lstm1')(inner)\n",
    "inner = Bidirectional(LSTM(64, return_sequences=True, dropout=0.25), name = 'lstm2')(inner)\n",
    "\n",
    "## OUTPUT\n",
    "inner = Dense(num_of_characters,name='dense2')(inner)\n",
    "y_pred = Activation('softmax', name='softmax')(inner)\n",
    "\n",
    "model = Model(inputs=input_data, outputs=y_pred)\n",
    "model.summary()"
   ]
  },
  {
   "cell_type": "code",
   "execution_count": 12,
   "metadata": {},
   "outputs": [],
   "source": [
    "# the ctc loss function\n",
    "def ctc_lambda_func(args):\n",
    "    y_pred, labels, input_length, label_length = args\n",
    "    # the 2 is critical here since the first couple outputs of the RNN\n",
    "    # tend to be garbage\n",
    "    #y_pred = y_pred[:, 2:, :]\n",
    "    return K.ctc_batch_cost(labels, y_pred, input_length, label_length)"
   ]
  },
  {
   "cell_type": "code",
   "execution_count": 13,
   "metadata": {},
   "outputs": [],
   "source": [
    "labels = Input(name='gtruth_labels', shape=[max_str_len], dtype='float32')\n",
    "input_length = Input(name='input_length', shape=[1], dtype='int64')\n",
    "label_length = Input(name='label_length', shape=[1], dtype='int64')\n",
    "\n",
    "ctc_loss = Lambda(ctc_lambda_func, output_shape=(1,), name='ctc')([y_pred, labels, input_length, label_length])\n",
    "model_final = Model(inputs=[input_data, labels, input_length, label_length], outputs=ctc_loss)"
   ]
  },
  {
   "cell_type": "code",
   "execution_count": 14,
   "metadata": {},
   "outputs": [
    {
     "name": "stdout",
     "output_type": "stream",
     "text": [
      "Epoch 1/100\n",
      "300/300 [==============================] - 177s 592ms/step - loss: 10.5362 - accuracy: 0.0000e+00 - val_loss: 9.1365 - val_accuracy: 0.0000e+00\n",
      "Epoch 2/100\n",
      "300/300 [==============================] - 179s 597ms/step - loss: 9.0457 - accuracy: 0.0000e+00 - val_loss: 8.8502 - val_accuracy: 0.0000e+00\n",
      "Epoch 3/100\n",
      "300/300 [==============================] - 179s 597ms/step - loss: 8.8813 - accuracy: 0.0000e+00 - val_loss: 8.7819 - val_accuracy: 0.0000e+00\n",
      "Epoch 4/100\n",
      "300/300 [==============================] - 177s 588ms/step - loss: 7.7663 - accuracy: 0.0000e+00 - val_loss: 8.8032 - val_accuracy: 0.0000e+00\n",
      "Epoch 5/100\n",
      "300/300 [==============================] - 176s 588ms/step - loss: 6.6092 - accuracy: 0.0000e+00 - val_loss: 6.9991 - val_accuracy: 0.0000e+00\n",
      "Epoch 6/100\n",
      "300/300 [==============================] - 172s 572ms/step - loss: 5.2410 - accuracy: 2.0000e-04 - val_loss: 4.9580 - val_accuracy: 0.0000e+00\n",
      "Epoch 7/100\n",
      "300/300 [==============================] - 175s 582ms/step - loss: 4.2535 - accuracy: 0.0066 - val_loss: 3.9855 - val_accuracy: 0.0047\n",
      "Epoch 8/100\n",
      "300/300 [==============================] - 175s 584ms/step - loss: 3.2799 - accuracy: 0.0222 - val_loss: 2.8189 - val_accuracy: 0.0482\n",
      "Epoch 9/100\n",
      "300/300 [==============================] - 176s 588ms/step - loss: 2.6871 - accuracy: 0.0887 - val_loss: 2.3269 - val_accuracy: 0.1350\n",
      "Epoch 10/100\n",
      "300/300 [==============================] - 175s 583ms/step - loss: 2.2827 - accuracy: 0.1987 - val_loss: 2.3432 - val_accuracy: 0.2329\n",
      "Epoch 11/100\n",
      "300/300 [==============================] - 175s 584ms/step - loss: 2.0101 - accuracy: 0.3009 - val_loss: 2.2468 - val_accuracy: 0.2594\n",
      "Epoch 12/100\n",
      "300/300 [==============================] - 168s 559ms/step - loss: 1.8115 - accuracy: 0.3708 - val_loss: 2.1701 - val_accuracy: 0.2819\n",
      "Epoch 13/100\n",
      "300/300 [==============================] - 168s 560ms/step - loss: 1.6296 - accuracy: 0.4417 - val_loss: 2.4281 - val_accuracy: 0.2725\n",
      "Epoch 14/100\n",
      "300/300 [==============================] - 166s 554ms/step - loss: 1.5036 - accuracy: 0.4881 - val_loss: 3.5574 - val_accuracy: 0.1530\n",
      "Epoch 15/100\n",
      "300/300 [==============================] - 166s 554ms/step - loss: 1.3884 - accuracy: 0.5276 - val_loss: 1.2441 - val_accuracy: 0.5709\n",
      "Epoch 16/100\n",
      "300/300 [==============================] - 166s 555ms/step - loss: 1.3000 - accuracy: 0.5635 - val_loss: 1.1271 - val_accuracy: 0.6138\n",
      "Epoch 17/100\n",
      "300/300 [==============================] - 166s 554ms/step - loss: 1.2265 - accuracy: 0.5913 - val_loss: 3.0834 - val_accuracy: 0.1611\n",
      "Epoch 18/100\n",
      "300/300 [==============================] - 167s 555ms/step - loss: 1.1645 - accuracy: 0.6097 - val_loss: 2.1421 - val_accuracy: 0.3904\n",
      "Epoch 19/100\n",
      "300/300 [==============================] - 168s 559ms/step - loss: 1.1079 - accuracy: 0.6322 - val_loss: 1.1662 - val_accuracy: 0.5935\n",
      "Epoch 20/100\n",
      "300/300 [==============================] - 166s 555ms/step - loss: 1.0585 - accuracy: 0.6473 - val_loss: 1.6477 - val_accuracy: 0.4576\n",
      "Epoch 21/100\n",
      "300/300 [==============================] - 165s 550ms/step - loss: 1.0241 - accuracy: 0.6601 - val_loss: 2.1607 - val_accuracy: 0.3275\n",
      "Epoch 22/100\n",
      "300/300 [==============================] - 166s 554ms/step - loss: 0.9798 - accuracy: 0.6737 - val_loss: 2.2485 - val_accuracy: 0.3435\n",
      "Epoch 23/100\n",
      "300/300 [==============================] - 166s 552ms/step - loss: 0.9509 - accuracy: 0.6851 - val_loss: 4.3685 - val_accuracy: 0.1018\n",
      "Epoch 24/100\n",
      "300/300 [==============================] - 166s 555ms/step - loss: 0.9178 - accuracy: 0.6979 - val_loss: 0.8735 - val_accuracy: 0.7103\n",
      "Epoch 25/100\n",
      "300/300 [==============================] - 167s 556ms/step - loss: 0.8855 - accuracy: 0.7073 - val_loss: 4.0125 - val_accuracy: 0.0771\n",
      "Epoch 26/100\n",
      "300/300 [==============================] - 166s 553ms/step - loss: 0.8550 - accuracy: 0.7166 - val_loss: 4.3881 - val_accuracy: 0.0589\n",
      "Epoch 27/100\n",
      "300/300 [==============================] - 166s 554ms/step - loss: 0.8301 - accuracy: 0.7266 - val_loss: 1.0765 - val_accuracy: 0.6392\n",
      "Epoch 28/100\n",
      "300/300 [==============================] - 166s 553ms/step - loss: 0.8116 - accuracy: 0.7322 - val_loss: 2.5816 - val_accuracy: 0.4044\n",
      "Epoch 29/100\n",
      "300/300 [==============================] - 166s 555ms/step - loss: 0.7928 - accuracy: 0.7381 - val_loss: 1.2049 - val_accuracy: 0.6278\n",
      "Epoch 30/100\n",
      "300/300 [==============================] - 167s 557ms/step - loss: 0.7744 - accuracy: 0.7437 - val_loss: 6.5848 - val_accuracy: 0.1045\n",
      "Epoch 31/100\n",
      "300/300 [==============================] - 166s 555ms/step - loss: 0.7498 - accuracy: 0.7511 - val_loss: 0.8986 - val_accuracy: 0.6860\n",
      "Epoch 32/100\n",
      "300/300 [==============================] - 166s 553ms/step - loss: 0.7425 - accuracy: 0.7564 - val_loss: 0.7681 - val_accuracy: 0.7546\n",
      "Epoch 33/100\n",
      "300/300 [==============================] - 166s 554ms/step - loss: 0.7152 - accuracy: 0.7629 - val_loss: 0.9068 - val_accuracy: 0.7188\n",
      "Epoch 34/100\n",
      "300/300 [==============================] - 166s 554ms/step - loss: 0.7046 - accuracy: 0.7674 - val_loss: 4.4164 - val_accuracy: 0.2612\n",
      "Epoch 35/100\n",
      "300/300 [==============================] - 167s 558ms/step - loss: 0.6882 - accuracy: 0.7728 - val_loss: 1.5595 - val_accuracy: 0.5431\n",
      "Epoch 36/100\n",
      "300/300 [==============================] - 166s 554ms/step - loss: 0.6854 - accuracy: 0.7732 - val_loss: 5.0279 - val_accuracy: 0.1273\n",
      "Epoch 37/100\n",
      "300/300 [==============================] - 166s 554ms/step - loss: 0.6632 - accuracy: 0.7796 - val_loss: 1.2142 - val_accuracy: 0.6170\n",
      "Epoch 38/100\n",
      "300/300 [==============================] - 166s 553ms/step - loss: 0.6464 - accuracy: 0.7881 - val_loss: 2.0903 - val_accuracy: 0.4189\n",
      "Epoch 39/100\n",
      "300/300 [==============================] - 166s 555ms/step - loss: 0.6429 - accuracy: 0.7889 - val_loss: 0.7964 - val_accuracy: 0.7610\n",
      "Epoch 40/100\n",
      "300/300 [==============================] - 167s 555ms/step - loss: 0.6311 - accuracy: 0.7930 - val_loss: 0.9954 - val_accuracy: 0.6773\n",
      "Epoch 41/100\n",
      "300/300 [==============================] - 168s 559ms/step - loss: 0.6205 - accuracy: 0.7954 - val_loss: 0.7180 - val_accuracy: 0.7732\n",
      "Epoch 42/100\n",
      "300/300 [==============================] - 167s 555ms/step - loss: 0.6117 - accuracy: 0.7965 - val_loss: 1.2960 - val_accuracy: 0.5615\n",
      "Epoch 43/100\n",
      "300/300 [==============================] - 166s 552ms/step - loss: 0.5966 - accuracy: 0.8029 - val_loss: 0.9522 - val_accuracy: 0.6751\n",
      "Epoch 44/100\n",
      "300/300 [==============================] - 166s 554ms/step - loss: 0.5879 - accuracy: 0.8026 - val_loss: 1.3939 - val_accuracy: 0.5842\n",
      "Epoch 45/100\n",
      "300/300 [==============================] - 166s 553ms/step - loss: 0.5742 - accuracy: 0.8105 - val_loss: 0.7606 - val_accuracy: 0.7567\n",
      "Epoch 46/100\n",
      "300/300 [==============================] - 167s 558ms/step - loss: 0.5722 - accuracy: 0.8122 - val_loss: 0.6364 - val_accuracy: 0.8235\n",
      "Epoch 47/100\n",
      "300/300 [==============================] - 166s 555ms/step - loss: 0.5645 - accuracy: 0.8131 - val_loss: 3.2427 - val_accuracy: 0.1646\n",
      "Epoch 48/100\n",
      "300/300 [==============================] - 166s 554ms/step - loss: 0.5524 - accuracy: 0.8171 - val_loss: 1.5678 - val_accuracy: 0.4633\n",
      "Epoch 49/100\n",
      "300/300 [==============================] - 165s 551ms/step - loss: 0.5507 - accuracy: 0.8171 - val_loss: 0.7262 - val_accuracy: 0.7564\n",
      "Epoch 50/100\n",
      "300/300 [==============================] - 166s 554ms/step - loss: 0.5443 - accuracy: 0.8189 - val_loss: 0.6695 - val_accuracy: 0.7983\n",
      "Epoch 51/100\n",
      "300/300 [==============================] - 167s 556ms/step - loss: 0.5349 - accuracy: 0.8210 - val_loss: 2.7270 - val_accuracy: 0.3810\n",
      "Epoch 52/100\n",
      "300/300 [==============================] - 166s 553ms/step - loss: 0.5335 - accuracy: 0.8213 - val_loss: 0.7226 - val_accuracy: 0.7770\n",
      "Epoch 53/100\n",
      "300/300 [==============================] - 166s 553ms/step - loss: 0.5116 - accuracy: 0.8278 - val_loss: 1.2078 - val_accuracy: 0.6230\n",
      "Epoch 54/100\n",
      "300/300 [==============================] - 165s 550ms/step - loss: 0.5121 - accuracy: 0.8287 - val_loss: 0.6305 - val_accuracy: 0.8089\n",
      "Epoch 55/100\n",
      "300/300 [==============================] - 166s 553ms/step - loss: 0.5144 - accuracy: 0.8304 - val_loss: 0.6097 - val_accuracy: 0.8238\n",
      "Epoch 56/100\n",
      "300/300 [==============================] - 166s 553ms/step - loss: 0.5067 - accuracy: 0.8319 - val_loss: 4.2021 - val_accuracy: 0.2970\n",
      "Epoch 57/100\n",
      "300/300 [==============================] - 167s 558ms/step - loss: 0.4995 - accuracy: 0.8319 - val_loss: 0.8448 - val_accuracy: 0.7167\n",
      "Epoch 58/100\n",
      "300/300 [==============================] - 166s 553ms/step - loss: 0.4972 - accuracy: 0.8358 - val_loss: 0.7133 - val_accuracy: 0.7558\n",
      "Epoch 59/100\n",
      "300/300 [==============================] - 166s 554ms/step - loss: 0.4894 - accuracy: 0.8354 - val_loss: 0.6260 - val_accuracy: 0.7990\n",
      "Epoch 60/100\n",
      "300/300 [==============================] - 166s 553ms/step - loss: 0.4788 - accuracy: 0.8385 - val_loss: 2.7317 - val_accuracy: 0.2715\n",
      "Epoch 61/100\n",
      "300/300 [==============================] - 166s 554ms/step - loss: 0.4701 - accuracy: 0.8411 - val_loss: 0.8704 - val_accuracy: 0.7501\n",
      "Epoch 62/100\n",
      "300/300 [==============================] - 168s 561ms/step - loss: 0.4746 - accuracy: 0.8404 - val_loss: 0.5674 - val_accuracy: 0.8285\n",
      "Epoch 63/100\n",
      "300/300 [==============================] - 167s 557ms/step - loss: 0.4599 - accuracy: 0.8451 - val_loss: 0.8069 - val_accuracy: 0.7548\n",
      "Epoch 64/100\n",
      "300/300 [==============================] - 167s 556ms/step - loss: 0.4600 - accuracy: 0.8457 - val_loss: 1.2678 - val_accuracy: 0.5436\n",
      "Epoch 65/100\n",
      "300/300 [==============================] - 166s 553ms/step - loss: 0.4457 - accuracy: 0.8495 - val_loss: 1.1044 - val_accuracy: 0.6320\n",
      "Epoch 66/100\n",
      "300/300 [==============================] - 168s 561ms/step - loss: 0.4436 - accuracy: 0.8519 - val_loss: 3.7312 - val_accuracy: 0.1529\n",
      "Epoch 67/100\n",
      "300/300 [==============================] - 174s 579ms/step - loss: 0.4360 - accuracy: 0.8534 - val_loss: 0.8044 - val_accuracy: 0.7760\n",
      "Epoch 68/100\n",
      "300/300 [==============================] - 176s 586ms/step - loss: 0.4476 - accuracy: 0.8485 - val_loss: 2.6412 - val_accuracy: 0.4275\n",
      "Epoch 69/100\n",
      "300/300 [==============================] - 176s 588ms/step - loss: 0.4387 - accuracy: 0.8520 - val_loss: 2.2449 - val_accuracy: 0.3864\n",
      "Epoch 70/100\n",
      "300/300 [==============================] - 176s 586ms/step - loss: 0.4354 - accuracy: 0.8534 - val_loss: 0.5681 - val_accuracy: 0.8440\n",
      "Epoch 71/100\n",
      "300/300 [==============================] - 176s 587ms/step - loss: 0.4288 - accuracy: 0.8540 - val_loss: 1.8464 - val_accuracy: 0.4489\n",
      "Epoch 72/100\n",
      "300/300 [==============================] - 170s 568ms/step - loss: 0.4348 - accuracy: 0.8512 - val_loss: 0.6759 - val_accuracy: 0.8085\n",
      "Epoch 73/100\n",
      "300/300 [==============================] - 168s 561ms/step - loss: 0.4212 - accuracy: 0.8550 - val_loss: 5.4724 - val_accuracy: 0.1696\n",
      "Epoch 74/100\n",
      "300/300 [==============================] - 166s 554ms/step - loss: 0.4177 - accuracy: 0.8578 - val_loss: 5.4087 - val_accuracy: 0.1053\n",
      "Epoch 75/100\n",
      "300/300 [==============================] - 166s 553ms/step - loss: 0.4149 - accuracy: 0.8575 - val_loss: 3.4276 - val_accuracy: 0.1882\n",
      "Epoch 76/100\n",
      "300/300 [==============================] - 166s 553ms/step - loss: 0.4033 - accuracy: 0.8629 - val_loss: 1.0530 - val_accuracy: 0.6621\n",
      "Epoch 77/100\n",
      "300/300 [==============================] - 165s 551ms/step - loss: 0.4024 - accuracy: 0.8644 - val_loss: 12.1695 - val_accuracy: 0.0179\n",
      "Epoch 78/100\n",
      "300/300 [==============================] - 166s 555ms/step - loss: 0.4023 - accuracy: 0.8636 - val_loss: 0.7031 - val_accuracy: 0.7846\n",
      "Epoch 79/100\n",
      "300/300 [==============================] - 167s 556ms/step - loss: 0.3977 - accuracy: 0.8638 - val_loss: 0.8009 - val_accuracy: 0.7638\n",
      "Epoch 80/100\n",
      "300/300 [==============================] - 166s 554ms/step - loss: 0.3906 - accuracy: 0.8688 - val_loss: 1.1191 - val_accuracy: 0.6611\n",
      "Epoch 81/100\n",
      "300/300 [==============================] - 166s 553ms/step - loss: 0.3912 - accuracy: 0.8680 - val_loss: 0.7643 - val_accuracy: 0.7524\n",
      "Epoch 82/100\n",
      "300/300 [==============================] - 166s 555ms/step - loss: 0.3870 - accuracy: 0.8679 - val_loss: 0.7754 - val_accuracy: 0.7662\n",
      "Epoch 83/100\n",
      "300/300 [==============================] - 166s 553ms/step - loss: 0.3848 - accuracy: 0.8688 - val_loss: 3.6441 - val_accuracy: 0.1683\n",
      "Epoch 84/100\n",
      "300/300 [==============================] - 167s 558ms/step - loss: 0.3812 - accuracy: 0.8711 - val_loss: 1.8902 - val_accuracy: 0.4198\n",
      "Epoch 85/100\n",
      "300/300 [==============================] - 166s 554ms/step - loss: 0.3869 - accuracy: 0.8694 - val_loss: 0.5153 - val_accuracy: 0.8493\n",
      "Epoch 86/100\n",
      "300/300 [==============================] - 166s 555ms/step - loss: 0.3750 - accuracy: 0.8712 - val_loss: 5.7425 - val_accuracy: 0.0774\n",
      "Epoch 87/100\n",
      "300/300 [==============================] - 166s 554ms/step - loss: 0.3756 - accuracy: 0.8711 - val_loss: 0.7658 - val_accuracy: 0.7325\n",
      "Epoch 88/100\n",
      "300/300 [==============================] - 166s 554ms/step - loss: 0.3751 - accuracy: 0.8696 - val_loss: 1.0064 - val_accuracy: 0.6837\n",
      "Epoch 89/100\n",
      "300/300 [==============================] - 167s 558ms/step - loss: 0.3954 - accuracy: 0.8656 - val_loss: 0.5125 - val_accuracy: 0.8617\n",
      "Epoch 90/100\n",
      "300/300 [==============================] - 166s 555ms/step - loss: 0.3584 - accuracy: 0.8751 - val_loss: 1.7898 - val_accuracy: 0.5459\n",
      "Epoch 91/100\n",
      "300/300 [==============================] - 166s 552ms/step - loss: 0.3663 - accuracy: 0.8736 - val_loss: 1.1430 - val_accuracy: 0.6046\n",
      "Epoch 92/100\n",
      "300/300 [==============================] - 165s 551ms/step - loss: 0.3565 - accuracy: 0.8786 - val_loss: 0.5291 - val_accuracy: 0.8601\n",
      "Epoch 93/100\n",
      "300/300 [==============================] - 166s 553ms/step - loss: 0.3583 - accuracy: 0.8757 - val_loss: 1.2931 - val_accuracy: 0.5974\n",
      "Epoch 94/100\n",
      "300/300 [==============================] - 167s 556ms/step - loss: 0.3454 - accuracy: 0.8827 - val_loss: 0.9477 - val_accuracy: 0.6918\n",
      "Epoch 95/100\n",
      "300/300 [==============================] - 166s 554ms/step - loss: 0.3533 - accuracy: 0.8770 - val_loss: 0.8239 - val_accuracy: 0.7570\n",
      "Epoch 96/100\n",
      "300/300 [==============================] - 169s 563ms/step - loss: 0.3582 - accuracy: 0.8762 - val_loss: 0.6307 - val_accuracy: 0.8094\n",
      "Epoch 97/100\n",
      "300/300 [==============================] - 166s 553ms/step - loss: 0.3370 - accuracy: 0.8841 - val_loss: 1.5921 - val_accuracy: 0.4992\n",
      "Epoch 98/100\n",
      "300/300 [==============================] - 167s 555ms/step - loss: 0.3512 - accuracy: 0.8795 - val_loss: 1.7286 - val_accuracy: 0.5580\n",
      "Epoch 99/100\n",
      "300/300 [==============================] - 165s 552ms/step - loss: 0.3578 - accuracy: 0.8749 - val_loss: 0.4714 - val_accuracy: 0.8675\n",
      "Epoch 100/100\n",
      "300/300 [==============================] - 167s 557ms/step - loss: 0.3423 - accuracy: 0.8799 - val_loss: 1.4091 - val_accuracy: 0.5721\n"
     ]
    }
   ],
   "source": [
    "# the loss calculation occurs elsewhere, so we use a dummy lambda function for the loss\n",
    "from tensorflow import keras\n",
    "model_final.compile(loss={'ctc': lambda y_true, y_pred: y_pred}, optimizer=keras.optimizers.Adam(learning_rate=0.001),\n",
    "                  metrics=['accuracy'])\n",
    "\n",
    "\n",
    "history = model_final.fit(x=[train_x, train_y, train_input_len, train_label_len], y=train_output, \n",
    "                validation_data=([test_x, test_y, test_input_len, test_label_len], test_output),\n",
    "                epochs=100, verbose=1, batch_size=200)"
   ]
  },
  {
   "cell_type": "code",
   "execution_count": 15,
   "metadata": {},
   "outputs": [
    {
     "data": {
      "application/vnd.plotly.v1+json": {
       "config": {
        "plotlyServerURL": "https://plot.ly"
       },
       "data": [
        {
         "line": {
          "color": "blue"
         },
         "mode": "lines",
         "name": "Train",
         "type": "scatter",
         "x": [
          1,
          2,
          3,
          4,
          5,
          6,
          7,
          8,
          9,
          10,
          11,
          12,
          13,
          14,
          15,
          16,
          17,
          18,
          19,
          20,
          21,
          22,
          23,
          24,
          25,
          26,
          27,
          28,
          29,
          30,
          31,
          32,
          33,
          34,
          35,
          36,
          37,
          38,
          39,
          40,
          41,
          42,
          43,
          44,
          45,
          46,
          47,
          48,
          49,
          50,
          51,
          52,
          53,
          54,
          55,
          56,
          57,
          58,
          59,
          60,
          61,
          62,
          63,
          64,
          65,
          66,
          67,
          68,
          69,
          70,
          71,
          72,
          73,
          74,
          75,
          76,
          77,
          78,
          79,
          80,
          81,
          82,
          83,
          84,
          85,
          86,
          87,
          88,
          89,
          90,
          91,
          92,
          93,
          94,
          95,
          96,
          97,
          98,
          99,
          100
         ],
         "xaxis": "x",
         "y": [
          0,
          0,
          0,
          0,
          0,
          0.00019999999494757503,
          0.006616666447371244,
          0.022183332592248917,
          0.08871666342020035,
          0.19869999587535858,
          0.30090001225471497,
          0.3708166778087616,
          0.4416666626930237,
          0.48811665177345276,
          0.527649998664856,
          0.5635166764259338,
          0.5912500023841858,
          0.6097333431243896,
          0.6322166919708252,
          0.647266685962677,
          0.6601499915122986,
          0.6736833453178406,
          0.6851000189781189,
          0.6979333162307739,
          0.7072833180427551,
          0.7165833115577698,
          0.7266166806221008,
          0.7322499752044678,
          0.7380833625793457,
          0.7436833381652832,
          0.7511166930198669,
          0.7563666701316833,
          0.7628666758537292,
          0.7674166560173035,
          0.7728166580200195,
          0.7731500267982483,
          0.7796499729156494,
          0.7880833148956299,
          0.7889333367347717,
          0.7929666638374329,
          0.7953500151634216,
          0.7965166568756104,
          0.8028666377067566,
          0.802566647529602,
          0.8104666471481323,
          0.8122000098228455,
          0.8130666613578796,
          0.8170666694641113,
          0.8170999884605408,
          0.8188666701316833,
          0.8210166692733765,
          0.8213000297546387,
          0.8277833461761475,
          0.8287333250045776,
          0.8304166793823242,
          0.8318833112716675,
          0.8318666815757751,
          0.8358166813850403,
          0.835433304309845,
          0.838450014591217,
          0.8411166667938232,
          0.8403666615486145,
          0.8450999855995178,
          0.8456666469573975,
          0.8494666814804077,
          0.8519166707992554,
          0.8534333109855652,
          0.8485333323478699,
          0.8520166873931885,
          0.8534166812896729,
          0.854033350944519,
          0.8511999845504761,
          0.8550333380699158,
          0.8578166961669922,
          0.8574833273887634,
          0.8629166483879089,
          0.8643500208854675,
          0.8635833263397217,
          0.8638333082199097,
          0.8687666654586792,
          0.8679500222206116,
          0.8679333329200745,
          0.8687666654586792,
          0.871066689491272,
          0.8694333434104919,
          0.8711666464805603,
          0.8710833191871643,
          0.8695833086967468,
          0.8655833601951599,
          0.8751333355903625,
          0.8736000061035156,
          0.878600001335144,
          0.8757333159446716,
          0.8827333450317383,
          0.876966655254364,
          0.8762166500091553,
          0.8840833306312561,
          0.8795166611671448,
          0.8748666644096375,
          0.879883348941803
         ],
         "yaxis": "y"
        },
        {
         "line": {
          "color": "orange"
         },
         "mode": "lines",
         "name": "Validation",
         "type": "scatter",
         "x": [
          1,
          2,
          3,
          4,
          5,
          6,
          7,
          8,
          9,
          10,
          11,
          12,
          13,
          14,
          15,
          16,
          17,
          18,
          19,
          20,
          21,
          22,
          23,
          24,
          25,
          26,
          27,
          28,
          29,
          30,
          31,
          32,
          33,
          34,
          35,
          36,
          37,
          38,
          39,
          40,
          41,
          42,
          43,
          44,
          45,
          46,
          47,
          48,
          49,
          50,
          51,
          52,
          53,
          54,
          55,
          56,
          57,
          58,
          59,
          60,
          61,
          62,
          63,
          64,
          65,
          66,
          67,
          68,
          69,
          70,
          71,
          72,
          73,
          74,
          75,
          76,
          77,
          78,
          79,
          80,
          81,
          82,
          83,
          84,
          85,
          86,
          87,
          88,
          89,
          90,
          91,
          92,
          93,
          94,
          95,
          96,
          97,
          98,
          99,
          100
         ],
         "xaxis": "x",
         "y": [
          0,
          0,
          0,
          0,
          0,
          0,
          0.004699999932199717,
          0.04820000007748604,
          0.1350499987602234,
          0.23285000026226044,
          0.25940001010894775,
          0.2819499969482422,
          0.2724500000476837,
          0.1529500037431717,
          0.570900022983551,
          0.6137999892234802,
          0.1611499935388565,
          0.3903999924659729,
          0.5934500098228455,
          0.4575999975204468,
          0.3275499939918518,
          0.3435499966144562,
          0.10175000131130219,
          0.7103000283241272,
          0.07705000042915344,
          0.05894999951124191,
          0.63919997215271,
          0.404449999332428,
          0.6277999877929688,
          0.10454999655485153,
          0.6859999895095825,
          0.7545999884605408,
          0.7188000082969666,
          0.2612000107765198,
          0.5430999994277954,
          0.12729999423027039,
          0.6170499920845032,
          0.41894999146461487,
          0.7610499858856201,
          0.6773499846458435,
          0.7732499837875366,
          0.5615000128746033,
          0.6751499772071838,
          0.5842000246047974,
          0.7567499876022339,
          0.8234500288963318,
          0.16464999318122864,
          0.4632999897003174,
          0.7563999891281128,
          0.79830002784729,
          0.38100001215934753,
          0.7770000100135803,
          0.62295001745224,
          0.808899998664856,
          0.8237500190734863,
          0.296999990940094,
          0.71670001745224,
          0.7557500004768372,
          0.799049973487854,
          0.27149999141693115,
          0.7501000165939331,
          0.8285499811172485,
          0.754800021648407,
          0.5436499714851379,
          0.6320499777793884,
          0.15285000205039978,
          0.7760499715805054,
          0.42750000953674316,
          0.38635000586509705,
          0.843999981880188,
          0.44885000586509705,
          0.8084999918937683,
          0.16955000162124634,
          0.10525000095367432,
          0.1881999969482422,
          0.6621000170707703,
          0.017899999395012856,
          0.7845500111579895,
          0.7638000249862671,
          0.661050021648407,
          0.7523999810218811,
          0.7662000060081482,
          0.1683499962091446,
          0.4198000133037567,
          0.8493499755859375,
          0.07739999890327454,
          0.732450008392334,
          0.6837499737739563,
          0.8616999983787537,
          0.5458999872207642,
          0.6046000123023987,
          0.8600500226020813,
          0.597350001335144,
          0.6917999982833862,
          0.7570499777793884,
          0.8094000220298767,
          0.4991999864578247,
          0.5580499768257141,
          0.8675000071525574,
          0.5720999836921692
         ],
         "yaxis": "y"
        },
        {
         "line": {
          "color": "blue"
         },
         "mode": "lines",
         "name": "Train",
         "showlegend": false,
         "type": "scatter",
         "x": [
          1,
          2,
          3,
          4,
          5,
          6,
          7,
          8,
          9,
          10,
          11,
          12,
          13,
          14,
          15,
          16,
          17,
          18,
          19,
          20,
          21,
          22,
          23,
          24,
          25,
          26,
          27,
          28,
          29,
          30,
          31,
          32,
          33,
          34,
          35,
          36,
          37,
          38,
          39,
          40,
          41,
          42,
          43,
          44,
          45,
          46,
          47,
          48,
          49,
          50,
          51,
          52,
          53,
          54,
          55,
          56,
          57,
          58,
          59,
          60,
          61,
          62,
          63,
          64,
          65,
          66,
          67,
          68,
          69,
          70,
          71,
          72,
          73,
          74,
          75,
          76,
          77,
          78,
          79,
          80,
          81,
          82,
          83,
          84,
          85,
          86,
          87,
          88,
          89,
          90,
          91,
          92,
          93,
          94,
          95,
          96,
          97,
          98,
          99,
          100
         ],
         "xaxis": "x2",
         "y": [
          10.536215782165527,
          9.045709609985352,
          8.881267547607422,
          7.766303539276123,
          6.609224796295166,
          5.2410125732421875,
          4.253522872924805,
          3.2798867225646973,
          2.687112331390381,
          2.2826647758483887,
          2.010146379470825,
          1.8115330934524536,
          1.629611849784851,
          1.503638505935669,
          1.3883566856384277,
          1.299990177154541,
          1.2265268564224243,
          1.1645219326019287,
          1.107870101928711,
          1.0584895610809326,
          1.0240787267684937,
          0.9797781705856323,
          0.9508690237998962,
          0.9178352355957031,
          0.885455846786499,
          0.8549580574035645,
          0.8301361203193665,
          0.8115705847740173,
          0.7928308844566345,
          0.7743870615959167,
          0.7497875094413757,
          0.7424909472465515,
          0.7152372002601624,
          0.7046464681625366,
          0.6882297992706299,
          0.6854445934295654,
          0.6632344126701355,
          0.6463679075241089,
          0.6429036855697632,
          0.6310920119285583,
          0.6205360293388367,
          0.6117136478424072,
          0.5966487526893616,
          0.5878536105155945,
          0.574205756187439,
          0.57215416431427,
          0.5644670128822327,
          0.5523934364318848,
          0.5507417321205139,
          0.5442631840705872,
          0.5348771214485168,
          0.5334622263908386,
          0.5116367340087891,
          0.5120887756347656,
          0.5143834352493286,
          0.5067334175109863,
          0.49945634603500366,
          0.4971764087677002,
          0.48943302035331726,
          0.4787580370903015,
          0.4701175093650818,
          0.47463715076446533,
          0.4598577916622162,
          0.4599989354610443,
          0.4457472860813141,
          0.44355103373527527,
          0.4360278844833374,
          0.4475932717323303,
          0.4387108385562897,
          0.435416579246521,
          0.42880013585090637,
          0.4348061978816986,
          0.42124706506729126,
          0.4177224338054657,
          0.41493573784828186,
          0.4033474326133728,
          0.4023609161376953,
          0.4023454487323761,
          0.39766788482666016,
          0.3906446397304535,
          0.3912239074707031,
          0.38701555132865906,
          0.38483789563179016,
          0.38119977712631226,
          0.38687863945961,
          0.3750007450580597,
          0.37562456727027893,
          0.3751346170902252,
          0.39535072445869446,
          0.35839009284973145,
          0.36629194021224976,
          0.35650548338890076,
          0.3582676351070404,
          0.345418781042099,
          0.353273868560791,
          0.3581920564174652,
          0.33701518177986145,
          0.3512164354324341,
          0.35779044032096863,
          0.3422607481479645
         ],
         "yaxis": "y2"
        },
        {
         "line": {
          "color": "orange"
         },
         "mode": "lines",
         "name": "Validation",
         "showlegend": false,
         "type": "scatter",
         "x": [
          1,
          2,
          3,
          4,
          5,
          6,
          7,
          8,
          9,
          10,
          11,
          12,
          13,
          14,
          15,
          16,
          17,
          18,
          19,
          20,
          21,
          22,
          23,
          24,
          25,
          26,
          27,
          28,
          29,
          30,
          31,
          32,
          33,
          34,
          35,
          36,
          37,
          38,
          39,
          40,
          41,
          42,
          43,
          44,
          45,
          46,
          47,
          48,
          49,
          50,
          51,
          52,
          53,
          54,
          55,
          56,
          57,
          58,
          59,
          60,
          61,
          62,
          63,
          64,
          65,
          66,
          67,
          68,
          69,
          70,
          71,
          72,
          73,
          74,
          75,
          76,
          77,
          78,
          79,
          80,
          81,
          82,
          83,
          84,
          85,
          86,
          87,
          88,
          89,
          90,
          91,
          92,
          93,
          94,
          95,
          96,
          97,
          98,
          99,
          100
         ],
         "xaxis": "x2",
         "y": [
          9.136547088623047,
          8.850160598754883,
          8.781893730163574,
          8.803152084350586,
          6.999059200286865,
          4.957985877990723,
          3.985506296157837,
          2.818941354751587,
          2.3269143104553223,
          2.343190908432007,
          2.2468056678771973,
          2.170118808746338,
          2.4280662536621094,
          3.5574331283569336,
          1.2440972328186035,
          1.127120852470398,
          3.083444833755493,
          2.1421303749084473,
          1.1662089824676514,
          1.6477007865905762,
          2.1607470512390137,
          2.248483896255493,
          4.368525981903076,
          0.8734510540962219,
          4.012517929077148,
          4.388072490692139,
          1.076473593711853,
          2.5816125869750977,
          1.2048835754394531,
          6.584751605987549,
          0.8986107707023621,
          0.7680748701095581,
          0.9067727327346802,
          4.416422367095947,
          1.5594834089279175,
          5.027880668640137,
          1.2142128944396973,
          2.0903403759002686,
          0.7963839769363403,
          0.9953833222389221,
          0.7179766893386841,
          1.2960323095321655,
          0.9521988034248352,
          1.3939294815063477,
          0.7605546116828918,
          0.6363842487335205,
          3.242722272872925,
          1.5678476095199585,
          0.7262430787086487,
          0.6695386171340942,
          2.726957082748413,
          0.7225757241249084,
          1.2078064680099487,
          0.6305096745491028,
          0.6096721291542053,
          4.202088832855225,
          0.844759464263916,
          0.7132612466812134,
          0.6260355710983276,
          2.7317471504211426,
          0.8704257607460022,
          0.5673575401306152,
          0.8068586587905884,
          1.2678273916244507,
          1.1044238805770874,
          3.731200695037842,
          0.8044303059577942,
          2.6412463188171387,
          2.244931936264038,
          0.568055272102356,
          1.8463789224624634,
          0.675856351852417,
          5.472407817840576,
          5.408746242523193,
          3.4275856018066406,
          1.053040862083435,
          12.169485092163086,
          0.7030627131462097,
          0.800891637802124,
          1.1190717220306396,
          0.7643285393714905,
          0.775399923324585,
          3.6441407203674316,
          1.8901909589767456,
          0.5152726173400879,
          5.742525100708008,
          0.7658368945121765,
          1.0063984394073486,
          0.5124666094779968,
          1.7898269891738892,
          1.14298415184021,
          0.5290629863739014,
          1.2930573225021362,
          0.9476792812347412,
          0.8238791823387146,
          0.6307038068771362,
          1.5921313762664795,
          1.7286450862884521,
          0.4713602066040039,
          1.4091485738754272
         ],
         "yaxis": "y2"
        }
       ],
       "layout": {
        "annotations": [
         {
          "font": {
           "size": 16
          },
          "showarrow": false,
          "text": "Model accuracy",
          "x": 0.225,
          "xanchor": "center",
          "xref": "paper",
          "y": 1,
          "yanchor": "bottom",
          "yref": "paper"
         },
         {
          "font": {
           "size": 16
          },
          "showarrow": false,
          "text": "Model loss",
          "x": 0.775,
          "xanchor": "center",
          "xref": "paper",
          "y": 1,
          "yanchor": "bottom",
          "yref": "paper"
         }
        ],
        "legend": {
         "x": 0.85,
         "y": 1
        },
        "template": {
         "data": {
          "bar": [
           {
            "error_x": {
             "color": "#2a3f5f"
            },
            "error_y": {
             "color": "#2a3f5f"
            },
            "marker": {
             "line": {
              "color": "#E5ECF6",
              "width": 0.5
             },
             "pattern": {
              "fillmode": "overlay",
              "size": 10,
              "solidity": 0.2
             }
            },
            "type": "bar"
           }
          ],
          "barpolar": [
           {
            "marker": {
             "line": {
              "color": "#E5ECF6",
              "width": 0.5
             },
             "pattern": {
              "fillmode": "overlay",
              "size": 10,
              "solidity": 0.2
             }
            },
            "type": "barpolar"
           }
          ],
          "carpet": [
           {
            "aaxis": {
             "endlinecolor": "#2a3f5f",
             "gridcolor": "white",
             "linecolor": "white",
             "minorgridcolor": "white",
             "startlinecolor": "#2a3f5f"
            },
            "baxis": {
             "endlinecolor": "#2a3f5f",
             "gridcolor": "white",
             "linecolor": "white",
             "minorgridcolor": "white",
             "startlinecolor": "#2a3f5f"
            },
            "type": "carpet"
           }
          ],
          "choropleth": [
           {
            "colorbar": {
             "outlinewidth": 0,
             "ticks": ""
            },
            "type": "choropleth"
           }
          ],
          "contour": [
           {
            "colorbar": {
             "outlinewidth": 0,
             "ticks": ""
            },
            "colorscale": [
             [
              0,
              "#0d0887"
             ],
             [
              0.1111111111111111,
              "#46039f"
             ],
             [
              0.2222222222222222,
              "#7201a8"
             ],
             [
              0.3333333333333333,
              "#9c179e"
             ],
             [
              0.4444444444444444,
              "#bd3786"
             ],
             [
              0.5555555555555556,
              "#d8576b"
             ],
             [
              0.6666666666666666,
              "#ed7953"
             ],
             [
              0.7777777777777778,
              "#fb9f3a"
             ],
             [
              0.8888888888888888,
              "#fdca26"
             ],
             [
              1,
              "#f0f921"
             ]
            ],
            "type": "contour"
           }
          ],
          "contourcarpet": [
           {
            "colorbar": {
             "outlinewidth": 0,
             "ticks": ""
            },
            "type": "contourcarpet"
           }
          ],
          "heatmap": [
           {
            "colorbar": {
             "outlinewidth": 0,
             "ticks": ""
            },
            "colorscale": [
             [
              0,
              "#0d0887"
             ],
             [
              0.1111111111111111,
              "#46039f"
             ],
             [
              0.2222222222222222,
              "#7201a8"
             ],
             [
              0.3333333333333333,
              "#9c179e"
             ],
             [
              0.4444444444444444,
              "#bd3786"
             ],
             [
              0.5555555555555556,
              "#d8576b"
             ],
             [
              0.6666666666666666,
              "#ed7953"
             ],
             [
              0.7777777777777778,
              "#fb9f3a"
             ],
             [
              0.8888888888888888,
              "#fdca26"
             ],
             [
              1,
              "#f0f921"
             ]
            ],
            "type": "heatmap"
           }
          ],
          "heatmapgl": [
           {
            "colorbar": {
             "outlinewidth": 0,
             "ticks": ""
            },
            "colorscale": [
             [
              0,
              "#0d0887"
             ],
             [
              0.1111111111111111,
              "#46039f"
             ],
             [
              0.2222222222222222,
              "#7201a8"
             ],
             [
              0.3333333333333333,
              "#9c179e"
             ],
             [
              0.4444444444444444,
              "#bd3786"
             ],
             [
              0.5555555555555556,
              "#d8576b"
             ],
             [
              0.6666666666666666,
              "#ed7953"
             ],
             [
              0.7777777777777778,
              "#fb9f3a"
             ],
             [
              0.8888888888888888,
              "#fdca26"
             ],
             [
              1,
              "#f0f921"
             ]
            ],
            "type": "heatmapgl"
           }
          ],
          "histogram": [
           {
            "marker": {
             "pattern": {
              "fillmode": "overlay",
              "size": 10,
              "solidity": 0.2
             }
            },
            "type": "histogram"
           }
          ],
          "histogram2d": [
           {
            "colorbar": {
             "outlinewidth": 0,
             "ticks": ""
            },
            "colorscale": [
             [
              0,
              "#0d0887"
             ],
             [
              0.1111111111111111,
              "#46039f"
             ],
             [
              0.2222222222222222,
              "#7201a8"
             ],
             [
              0.3333333333333333,
              "#9c179e"
             ],
             [
              0.4444444444444444,
              "#bd3786"
             ],
             [
              0.5555555555555556,
              "#d8576b"
             ],
             [
              0.6666666666666666,
              "#ed7953"
             ],
             [
              0.7777777777777778,
              "#fb9f3a"
             ],
             [
              0.8888888888888888,
              "#fdca26"
             ],
             [
              1,
              "#f0f921"
             ]
            ],
            "type": "histogram2d"
           }
          ],
          "histogram2dcontour": [
           {
            "colorbar": {
             "outlinewidth": 0,
             "ticks": ""
            },
            "colorscale": [
             [
              0,
              "#0d0887"
             ],
             [
              0.1111111111111111,
              "#46039f"
             ],
             [
              0.2222222222222222,
              "#7201a8"
             ],
             [
              0.3333333333333333,
              "#9c179e"
             ],
             [
              0.4444444444444444,
              "#bd3786"
             ],
             [
              0.5555555555555556,
              "#d8576b"
             ],
             [
              0.6666666666666666,
              "#ed7953"
             ],
             [
              0.7777777777777778,
              "#fb9f3a"
             ],
             [
              0.8888888888888888,
              "#fdca26"
             ],
             [
              1,
              "#f0f921"
             ]
            ],
            "type": "histogram2dcontour"
           }
          ],
          "mesh3d": [
           {
            "colorbar": {
             "outlinewidth": 0,
             "ticks": ""
            },
            "type": "mesh3d"
           }
          ],
          "parcoords": [
           {
            "line": {
             "colorbar": {
              "outlinewidth": 0,
              "ticks": ""
             }
            },
            "type": "parcoords"
           }
          ],
          "pie": [
           {
            "automargin": true,
            "type": "pie"
           }
          ],
          "scatter": [
           {
            "fillpattern": {
             "fillmode": "overlay",
             "size": 10,
             "solidity": 0.2
            },
            "type": "scatter"
           }
          ],
          "scatter3d": [
           {
            "line": {
             "colorbar": {
              "outlinewidth": 0,
              "ticks": ""
             }
            },
            "marker": {
             "colorbar": {
              "outlinewidth": 0,
              "ticks": ""
             }
            },
            "type": "scatter3d"
           }
          ],
          "scattercarpet": [
           {
            "marker": {
             "colorbar": {
              "outlinewidth": 0,
              "ticks": ""
             }
            },
            "type": "scattercarpet"
           }
          ],
          "scattergeo": [
           {
            "marker": {
             "colorbar": {
              "outlinewidth": 0,
              "ticks": ""
             }
            },
            "type": "scattergeo"
           }
          ],
          "scattergl": [
           {
            "marker": {
             "colorbar": {
              "outlinewidth": 0,
              "ticks": ""
             }
            },
            "type": "scattergl"
           }
          ],
          "scattermapbox": [
           {
            "marker": {
             "colorbar": {
              "outlinewidth": 0,
              "ticks": ""
             }
            },
            "type": "scattermapbox"
           }
          ],
          "scatterpolar": [
           {
            "marker": {
             "colorbar": {
              "outlinewidth": 0,
              "ticks": ""
             }
            },
            "type": "scatterpolar"
           }
          ],
          "scatterpolargl": [
           {
            "marker": {
             "colorbar": {
              "outlinewidth": 0,
              "ticks": ""
             }
            },
            "type": "scatterpolargl"
           }
          ],
          "scatterternary": [
           {
            "marker": {
             "colorbar": {
              "outlinewidth": 0,
              "ticks": ""
             }
            },
            "type": "scatterternary"
           }
          ],
          "surface": [
           {
            "colorbar": {
             "outlinewidth": 0,
             "ticks": ""
            },
            "colorscale": [
             [
              0,
              "#0d0887"
             ],
             [
              0.1111111111111111,
              "#46039f"
             ],
             [
              0.2222222222222222,
              "#7201a8"
             ],
             [
              0.3333333333333333,
              "#9c179e"
             ],
             [
              0.4444444444444444,
              "#bd3786"
             ],
             [
              0.5555555555555556,
              "#d8576b"
             ],
             [
              0.6666666666666666,
              "#ed7953"
             ],
             [
              0.7777777777777778,
              "#fb9f3a"
             ],
             [
              0.8888888888888888,
              "#fdca26"
             ],
             [
              1,
              "#f0f921"
             ]
            ],
            "type": "surface"
           }
          ],
          "table": [
           {
            "cells": {
             "fill": {
              "color": "#EBF0F8"
             },
             "line": {
              "color": "white"
             }
            },
            "header": {
             "fill": {
              "color": "#C8D4E3"
             },
             "line": {
              "color": "white"
             }
            },
            "type": "table"
           }
          ]
         },
         "layout": {
          "annotationdefaults": {
           "arrowcolor": "#2a3f5f",
           "arrowhead": 0,
           "arrowwidth": 1
          },
          "autotypenumbers": "strict",
          "coloraxis": {
           "colorbar": {
            "outlinewidth": 0,
            "ticks": ""
           }
          },
          "colorscale": {
           "diverging": [
            [
             0,
             "#8e0152"
            ],
            [
             0.1,
             "#c51b7d"
            ],
            [
             0.2,
             "#de77ae"
            ],
            [
             0.3,
             "#f1b6da"
            ],
            [
             0.4,
             "#fde0ef"
            ],
            [
             0.5,
             "#f7f7f7"
            ],
            [
             0.6,
             "#e6f5d0"
            ],
            [
             0.7,
             "#b8e186"
            ],
            [
             0.8,
             "#7fbc41"
            ],
            [
             0.9,
             "#4d9221"
            ],
            [
             1,
             "#276419"
            ]
           ],
           "sequential": [
            [
             0,
             "#0d0887"
            ],
            [
             0.1111111111111111,
             "#46039f"
            ],
            [
             0.2222222222222222,
             "#7201a8"
            ],
            [
             0.3333333333333333,
             "#9c179e"
            ],
            [
             0.4444444444444444,
             "#bd3786"
            ],
            [
             0.5555555555555556,
             "#d8576b"
            ],
            [
             0.6666666666666666,
             "#ed7953"
            ],
            [
             0.7777777777777778,
             "#fb9f3a"
            ],
            [
             0.8888888888888888,
             "#fdca26"
            ],
            [
             1,
             "#f0f921"
            ]
           ],
           "sequentialminus": [
            [
             0,
             "#0d0887"
            ],
            [
             0.1111111111111111,
             "#46039f"
            ],
            [
             0.2222222222222222,
             "#7201a8"
            ],
            [
             0.3333333333333333,
             "#9c179e"
            ],
            [
             0.4444444444444444,
             "#bd3786"
            ],
            [
             0.5555555555555556,
             "#d8576b"
            ],
            [
             0.6666666666666666,
             "#ed7953"
            ],
            [
             0.7777777777777778,
             "#fb9f3a"
            ],
            [
             0.8888888888888888,
             "#fdca26"
            ],
            [
             1,
             "#f0f921"
            ]
           ]
          },
          "colorway": [
           "#636efa",
           "#EF553B",
           "#00cc96",
           "#ab63fa",
           "#FFA15A",
           "#19d3f3",
           "#FF6692",
           "#B6E880",
           "#FF97FF",
           "#FECB52"
          ],
          "font": {
           "color": "#2a3f5f"
          },
          "geo": {
           "bgcolor": "white",
           "lakecolor": "white",
           "landcolor": "#E5ECF6",
           "showlakes": true,
           "showland": true,
           "subunitcolor": "white"
          },
          "hoverlabel": {
           "align": "left"
          },
          "hovermode": "closest",
          "mapbox": {
           "style": "light"
          },
          "paper_bgcolor": "white",
          "plot_bgcolor": "#E5ECF6",
          "polar": {
           "angularaxis": {
            "gridcolor": "white",
            "linecolor": "white",
            "ticks": ""
           },
           "bgcolor": "#E5ECF6",
           "radialaxis": {
            "gridcolor": "white",
            "linecolor": "white",
            "ticks": ""
           }
          },
          "scene": {
           "xaxis": {
            "backgroundcolor": "#E5ECF6",
            "gridcolor": "white",
            "gridwidth": 2,
            "linecolor": "white",
            "showbackground": true,
            "ticks": "",
            "zerolinecolor": "white"
           },
           "yaxis": {
            "backgroundcolor": "#E5ECF6",
            "gridcolor": "white",
            "gridwidth": 2,
            "linecolor": "white",
            "showbackground": true,
            "ticks": "",
            "zerolinecolor": "white"
           },
           "zaxis": {
            "backgroundcolor": "#E5ECF6",
            "gridcolor": "white",
            "gridwidth": 2,
            "linecolor": "white",
            "showbackground": true,
            "ticks": "",
            "zerolinecolor": "white"
           }
          },
          "shapedefaults": {
           "line": {
            "color": "#2a3f5f"
           }
          },
          "ternary": {
           "aaxis": {
            "gridcolor": "white",
            "linecolor": "white",
            "ticks": ""
           },
           "baxis": {
            "gridcolor": "white",
            "linecolor": "white",
            "ticks": ""
           },
           "bgcolor": "#E5ECF6",
           "caxis": {
            "gridcolor": "white",
            "linecolor": "white",
            "ticks": ""
           }
          },
          "title": {
           "x": 0.05
          },
          "xaxis": {
           "automargin": true,
           "gridcolor": "white",
           "linecolor": "white",
           "ticks": "",
           "title": {
            "standoff": 15
           },
           "zerolinecolor": "white",
           "zerolinewidth": 2
          },
          "yaxis": {
           "automargin": true,
           "gridcolor": "white",
           "linecolor": "white",
           "ticks": "",
           "title": {
            "standoff": 15
           },
           "zerolinecolor": "white",
           "zerolinewidth": 2
          }
         }
        },
        "title": {
         "text": "Model Training History"
        },
        "xaxis": {
         "anchor": "y",
         "domain": [
          0,
          0.45
         ],
         "title": {
          "text": "Epoch"
         }
        },
        "xaxis2": {
         "anchor": "y2",
         "domain": [
          0.55,
          1
         ]
        },
        "yaxis": {
         "anchor": "x",
         "domain": [
          0,
          1
         ],
         "title": {
          "text": "Value"
         }
        },
        "yaxis2": {
         "anchor": "x2",
         "domain": [
          0,
          1
         ]
        }
       }
      }
     },
     "metadata": {},
     "output_type": "display_data"
    }
   ],
   "source": [
    "import plotly.graph_objects as go\n",
    "from plotly.subplots import make_subplots\n",
    "\n",
    "fig = make_subplots(rows=1, cols=2, subplot_titles=(\"Model accuracy\", \"Model loss\"))\n",
    "\n",
    "# Add the first subplot for accuracy\n",
    "fig.add_trace(go.Scatter(x=list(range(1, len(history.history['accuracy']) + 1)),\n",
    "                         y=history.history['accuracy'], mode='lines',\n",
    "                         name='Train', line=dict(color='blue')), row=1, col=1)\n",
    "fig.add_trace(go.Scatter(x=list(range(1, len(history.history['val_accuracy']) + 1)),\n",
    "                         y=history.history['val_accuracy'], mode='lines',\n",
    "                         name='Validation', line=dict(color='orange')), row=1, col=1)\n",
    "\n",
    "# Add the second subplot for loss\n",
    "fig.add_trace(go.Scatter(x=list(range(1, len(history.history['loss']) + 1)),\n",
    "                         y=history.history['loss'], mode='lines',\n",
    "                         name='Train', line=dict(color='blue'), showlegend=False), row=1, col=2)\n",
    "fig.add_trace(go.Scatter(x=list(range(1, len(history.history['val_loss']) + 1)),\n",
    "                         y=history.history['val_loss'], mode='lines',\n",
    "                         name='Validation', line=dict(color='orange'), showlegend=False), row=1, col=2)\n",
    "\n",
    "fig.update_layout(title=\"Model Training History\",\n",
    "                  xaxis_title=\"Epoch\",\n",
    "                  yaxis_title=\"Value\",\n",
    "                  legend=dict(x=0.85, y=1))\n",
    "\n",
    "fig.show()"
   ]
  },
  {
   "cell_type": "code",
   "execution_count": 16,
   "metadata": {},
   "outputs": [
    {
     "name": "stdout",
     "output_type": "stream",
     "text": [
      "WARNING:tensorflow:From d:\\APP\\ANACONDA\\Anaconda3\\envs\\anacondaTensorflow\\lib\\site-packages\\tensorflow\\python\\util\\dispatch.py:201: sparse_to_dense (from tensorflow.python.ops.sparse_ops) is deprecated and will be removed in a future version.\n",
      "Instructions for updating:\n",
      "Create a `tf.sparse.SparseTensor` and use `tf.sparse.to_dense` instead.\n"
     ]
    }
   ],
   "source": [
    "preds = model.predict(valid_x)\n",
    "decoded = K.get_value(K.ctc_decode(preds, input_length=np.ones(preds.shape[0])*preds.shape[1], \n",
    "                                   greedy=True)[0][0])\n",
    "\n",
    "prediction = []\n",
    "for i in range(valid_size):\n",
    "    prediction.append(num_to_label(decoded[i]))"
   ]
  },
  {
   "cell_type": "code",
   "execution_count": 17,
   "metadata": {},
   "outputs": [],
   "source": [
    "y_true = []\n",
    "for i in range(20000):\n",
    "    y_true.append(str(data.loc[i+80000, 'Value']))"
   ]
  },
  {
   "cell_type": "code",
   "execution_count": 18,
   "metadata": {},
   "outputs": [
    {
     "name": "stdout",
     "output_type": "stream",
     "text": [
      "Correct characters predicted : 78.68%\n",
      "Correct words predicted      : 54.85%\n"
     ]
    }
   ],
   "source": [
    "correct_char = 0\n",
    "total_char = 0\n",
    "correct = 0\n",
    "\n",
    "for i in range(valid_size):\n",
    "    pr = prediction[i]\n",
    "    tr = y_true[i]\n",
    "    total_char += len(tr)\n",
    "    \n",
    "    for j in range(min(len(tr), len(pr))):\n",
    "        if tr[j] == pr[j]:\n",
    "            correct_char += 1\n",
    "            \n",
    "    if pr == tr :\n",
    "        correct += 1 \n",
    "    \n",
    "print('Correct characters predicted : %.2f%%' %(correct_char*100/total_char))\n",
    "print('Correct words predicted      : %.2f%%' %(correct*100/valid_size))"
   ]
  },
  {
   "cell_type": "code",
   "execution_count": 19,
   "metadata": {},
   "outputs": [
    {
     "name": "stdout",
     "output_type": "stream",
     "text": [
      "Label:332.0; Predicted:332.0\n"
     ]
    },
    {
     "data": {
      "image/png": "[encoded data removed]",
      "text/plain": [
       "<PIL.Image.Image image mode=L size=64x32>"
      ]
     },
     "metadata": {},
     "output_type": "display_data"
    },
    {
     "name": "stdout",
     "output_type": "stream",
     "text": [
      "Label:243.7; Predicted:243.7\n"
     ]
    },
    {
     "data": {
      "image/png": "[encoded data removed]",
      "text/plain": [
       "<PIL.Image.Image image mode=L size=64x32>"
      ]
     },
     "metadata": {},
     "output_type": "display_data"
    },
    {
     "name": "stdout",
     "output_type": "stream",
     "text": [
      "Label:126.5; Predicted:126.5\n"
     ]
    },
    {
     "data": {
      "image/png": "[encoded data removed]",
      "text/plain": [
       "<PIL.Image.Image image mode=L size=64x32>"
      ]
     },
     "metadata": {},
     "output_type": "display_data"
    },
    {
     "name": "stdout",
     "output_type": "stream",
     "text": [
      "Label:155.1; Predicted:151.1\n"
     ]
    },
    {
     "data": {
      "image/png": "[encoded data removed]",
      "text/plain": [
       "<PIL.Image.Image image mode=L size=64x32>"
      ]
     },
     "metadata": {},
     "output_type": "display_data"
    },
    {
     "name": "stdout",
     "output_type": "stream",
     "text": [
      "Label:15.7; Predicted:15.7\n"
     ]
    },
    {
     "data": {
      "image/png": "[encoded data removed]",
      "text/plain": [
       "<PIL.Image.Image image mode=L size=64x32>"
      ]
     },
     "metadata": {},
     "output_type": "display_data"
    },
    {
     "name": "stdout",
     "output_type": "stream",
     "text": [
      "Label:218.6; Predicted:286.6\n"
     ]
    },
    {
     "data": {
      "image/png": "[encoded data removed]",
      "text/plain": [
       "<PIL.Image.Image image mode=L size=64x32>"
      ]
     },
     "metadata": {},
     "output_type": "display_data"
    },
    {
     "name": "stdout",
     "output_type": "stream",
     "text": [
      "Label:319.5; Predicted:319.5\n"
     ]
    },
    {
     "data": {
      "image/png": "[encoded data removed]",
      "text/plain": [
       "<PIL.Image.Image image mode=L size=64x32>"
      ]
     },
     "metadata": {},
     "output_type": "display_data"
    },
    {
     "name": "stdout",
     "output_type": "stream",
     "text": [
      "Label:243.6; Predicted:243.6\n"
     ]
    },
    {
     "data": {
      "image/png": "[encoded data removed]",
      "text/plain": [
       "<PIL.Image.Image image mode=L size=64x32>"
      ]
     },
     "metadata": {},
     "output_type": "display_data"
    },
    {
     "name": "stdout",
     "output_type": "stream",
     "text": [
      "Label:350.6; Predicted:350.6\n"
     ]
    },
    {
     "data": {
      "image/png": "[encoded data removed]",
      "text/plain": [
       "<PIL.Image.Image image mode=L size=64x32>"
      ]
     },
     "metadata": {},
     "output_type": "display_data"
    },
    {
     "name": "stdout",
     "output_type": "stream",
     "text": [
      "Label:136.1; Predicted:136.1\n"
     ]
    },
    {
     "data": {
      "image/png": "[encoded data removed]",
      "text/plain": [
       "<PIL.Image.Image image mode=L size=64x32>"
      ]
     },
     "metadata": {},
     "output_type": "display_data"
    }
   ],
   "source": [
    "for id_n in np.random.randint(0, len(y_true),10):\n",
    "    image_data = (np.squeeze(valid_x[id_n]) * 255).astype('uint8')\n",
    "    image = Image.fromarray(image_data, 'L')\n",
    "    title = f\"Label:{y_true[id_n]}; Predicted:{prediction[id_n]}\"\n",
    "    print(title)\n",
    "    display(image)\n",
    "\n"
   ]
  }
 ],
 "metadata": {
  "kernelspec": {
   "display_name": "anacondaTensorflow",
   "language": "python",
   "name": "python3"
  },
  "language_info": {
   "codemirror_mode": {
    "name": "ipython",
    "version": 3
   },
   "file_extension": ".py",
   "mimetype": "text/x-python",
   "name": "python",
   "nbconvert_exporter": "python",
   "pygments_lexer": "ipython3",
   "version": "3.8.17"
  }
 },
 "nbformat": 4,
 "nbformat_minor": 2
}
