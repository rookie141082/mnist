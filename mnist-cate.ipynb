{
 "cells": [
  {
   "cell_type": "code",
   "execution_count": 1,
   "metadata": {},
   "outputs": [],
   "source": [
    "import numpy as np\n",
    "import tensorflow as tf\n",
    "from tensorflow.keras.datasets import mnist\n",
    "\n",
    "\n",
    "(x_train, y_train), (x_test, y_test) = mnist.load_data()\n",
    "\n",
    "x_train = x_train.reshape(-1, 28, 28, 1) / 255.0\n",
    "x_test = x_test.reshape(-1, 28, 28, 1) / 255.0\n",
    "\n",
    "def generate_random_number(number,x_data,y_data):\n",
    "    num_samples = number\n",
    "    data_numb=np.zeros((num_samples, 28, 100, 1), dtype = np.float32)\n",
    "    data_labe=np.empty((num_samples, 1), dtype = np.chararray)\n",
    "    for i in range(num_samples):\n",
    "        digit1 = np.random.choice(y_data)\n",
    "        digit2 = np.random.choice(y_data)\n",
    "        digit3 = np.random.choice(y_data)\n",
    "        digit4 = np.random.choice(y_data)\n",
    "        digit5 = np.random.choice(y_data)\n",
    "        \n",
    "        length = np.random.randint(1, 6)\n",
    "        canvas = np.zeros((28, 100, 1), dtype=np.float32)\n",
    "        labe = np.zeros(length,dtype=np.int_)\n",
    "        \n",
    "        lent_front = 0\n",
    "        for n in range(length):\n",
    "            digit_labe =[digit1, digit2, digit3, digit4, digit5]\n",
    "            digit = digit_labe[n]\n",
    "            id=np.random.choice(np.where(y_train == digit)[0])\n",
    "            if n==0:\n",
    "                lent_front = 28*n\n",
    "                x_data_front = np.zeros((28, lent_front, 1), dtype=np.float32)\n",
    "                x_data_after = np.zeros((28, 72-lent_front, 1), dtype=np.float32)\n",
    "            else:\n",
    "                numb=np.random.randint(8,18)\n",
    "                lent_front = lent_front+numb\n",
    "                x_data_front = np.zeros((28, lent_front, 1), dtype=np.float32)\n",
    "                x_data_after = np.zeros((28, 72-lent_front, 1), dtype=np.float32)\n",
    "            canvas_add = np.concatenate([x_data_front, x_data[id]], 1)\n",
    "            canvas_add = np.concatenate([canvas_add, x_data_after],  1)\n",
    "            canvas += canvas_add\n",
    "            labe[n] = y_data[id]\n",
    "            \n",
    "        datalabe = [str(x) for x in labe]\n",
    "        data_labe[i] = ''.join(datalabe)\n",
    "        data_numb[i]=canvas \n",
    "    print('end')\n",
    "    return data_numb, data_labe"
   ]
  },
  {
   "cell_type": "code",
   "execution_count": 2,
   "metadata": {},
   "outputs": [],
   "source": [
    "def get_label(y_lab):\n",
    "    max_length = max(len(sublist[0]) for sublist in y_lab)\n",
    "    lab_list = [[int(char) if len(char) == 1 else 11 for char in sublist[0]] + [10] * (max_length - len(sublist[0])) for sublist in y_lab]\n",
    "    lab = np.array(lab_list)\n",
    "    return lab"
   ]
  },
  {
   "cell_type": "code",
   "execution_count": 3,
   "metadata": {},
   "outputs": [
    {
     "name": "stdout",
     "output_type": "stream",
     "text": [
      "end\n"
     ]
    }
   ],
   "source": [
    "x_data_random , y_data_random = generate_random_number(100000,x_train, y_train)"
   ]
  },
  {
   "cell_type": "code",
   "execution_count": 4,
   "metadata": {},
   "outputs": [],
   "source": [
    "y_data_ran = get_label(y_data_random)"
   ]
  },
  {
   "cell_type": "code",
   "execution_count": 5,
   "metadata": {},
   "outputs": [],
   "source": [
    "from keras.utils import to_categorical\n",
    "y_data_ran = to_categorical(y_data_ran, num_classes=11)"
   ]
  },
  {
   "cell_type": "code",
   "execution_count": 6,
   "metadata": {},
   "outputs": [],
   "source": [
    "x_train_ran , y_train_ran,  y_train_random = x_data_random[:60000] , y_data_ran[:60000]  , y_data_random[:60000]\n",
    "x_test_ran , y_test_ran,  y_test_random= x_data_random[60000:80000] , y_data_ran[60000:80000] , y_data_random[60000:80000]\n",
    "x_verify_ran , y_verify_ran, y_verify_random = x_data_random[80000:] , y_data_ran[80000:] , y_data_random[80000:]"
   ]
  },
  {
   "cell_type": "code",
   "execution_count": 7,
   "metadata": {},
   "outputs": [
    {
     "name": "stdout",
     "output_type": "stream",
     "text": [
      "Label:35320\n"
     ]
    },
    {
     "data": {
      "image/png": "[encoded data removed]",
      "text/plain": [
       "<PIL.Image.Image image mode=L size=100x28>"
      ]
     },
     "metadata": {},
     "output_type": "display_data"
    },
    {
     "name": "stdout",
     "output_type": "stream",
     "text": [
      "Label:1\n"
     ]
    },
    {
     "data": {
      "image/png": "[encoded data removed]",
      "text/plain": [
       "<PIL.Image.Image image mode=L size=100x28>"
      ]
     },
     "metadata": {},
     "output_type": "display_data"
    },
    {
     "name": "stdout",
     "output_type": "stream",
     "text": [
      "Label:52335\n"
     ]
    },
    {
     "data": {
      "image/png": "[encoded data removed]",
      "text/plain": [
       "<PIL.Image.Image image mode=L size=100x28>"
      ]
     },
     "metadata": {},
     "output_type": "display_data"
    },
    {
     "name": "stdout",
     "output_type": "stream",
     "text": [
      "Label:0\n"
     ]
    },
    {
     "data": {
      "image/png": "[encoded data removed]",
      "text/plain": [
       "<PIL.Image.Image image mode=L size=100x28>"
      ]
     },
     "metadata": {},
     "output_type": "display_data"
    },
    {
     "name": "stdout",
     "output_type": "stream",
     "text": [
      "Label:5\n"
     ]
    },
    {
     "data": {
      "image/png": "[encoded data removed]",
      "text/plain": [
       "<PIL.Image.Image image mode=L size=100x28>"
      ]
     },
     "metadata": {},
     "output_type": "display_data"
    },
    {
     "name": "stdout",
     "output_type": "stream",
     "text": [
      "Label:43\n"
     ]
    },
    {
     "data": {
      "image/png": "[encoded data removed]",
      "text/plain": [
       "<PIL.Image.Image image mode=L size=100x28>"
      ]
     },
     "metadata": {},
     "output_type": "display_data"
    },
    {
     "name": "stdout",
     "output_type": "stream",
     "text": [
      "Label:07\n"
     ]
    },
    {
     "data": {
      "image/png": "[encoded data removed]",
      "text/plain": [
       "<PIL.Image.Image image mode=L size=100x28>"
      ]
     },
     "metadata": {},
     "output_type": "display_data"
    },
    {
     "name": "stdout",
     "output_type": "stream",
     "text": [
      "Label:98\n"
     ]
    },
    {
     "data": {
      "image/png": "[encoded data removed]",
      "text/plain": [
       "<PIL.Image.Image image mode=L size=100x28>"
      ]
     },
     "metadata": {},
     "output_type": "display_data"
    },
    {
     "name": "stdout",
     "output_type": "stream",
     "text": [
      "Label:2\n"
     ]
    },
    {
     "data": {
      "image/png": "[encoded data removed]",
      "text/plain": [
       "<PIL.Image.Image image mode=L size=100x28>"
      ]
     },
     "metadata": {},
     "output_type": "display_data"
    },
    {
     "name": "stdout",
     "output_type": "stream",
     "text": [
      "Label:487\n"
     ]
    },
    {
     "data": {
      "image/png": "[encoded data removed]",
      "text/plain": [
       "<PIL.Image.Image image mode=L size=100x28>"
      ]
     },
     "metadata": {},
     "output_type": "display_data"
    }
   ],
   "source": [
    "from PIL import Image\n",
    "from IPython.display import display\n",
    "\n",
    "def image_see(n):\n",
    "    image_data = (np.squeeze(x_train_ran[n]) * 255).astype('uint8')\n",
    "    image = Image.fromarray(image_data, 'L')\n",
    "    title = f\"Label:{y_train_random[n][0]}\"\n",
    "    print(title)\n",
    "    display(image)\n",
    "for id_n in np.random.randint(0, len(y_train_random),10):\n",
    "    image_see(id_n)\n",
    "\n"
   ]
  },
  {
   "cell_type": "code",
   "execution_count": 8,
   "metadata": {},
   "outputs": [
    {
     "name": "stdout",
     "output_type": "stream",
     "text": [
      "Model: \"functional_1\"\n",
      "_________________________________________________________________\n",
      "Layer (type)                 Output Shape              Param #   \n",
      "=================================================================\n",
      "image (InputLayer)           [(None, 28, 100, 1)]      0         \n",
      "_________________________________________________________________\n",
      "conv2d (Conv2D)              (None, 26, 98, 32)        320       \n",
      "_________________________________________________________________\n",
      "max_pooling2d (MaxPooling2D) (None, 13, 49, 32)        0         \n",
      "_________________________________________________________________\n",
      "conv2d_1 (Conv2D)            (None, 11, 47, 64)        18496     \n",
      "_________________________________________________________________\n",
      "max_pooling2d_1 (MaxPooling2 (None, 5, 23, 64)         0         \n",
      "_________________________________________________________________\n",
      "reshape (Reshape)            (None, 5, 1472)           0         \n",
      "_________________________________________________________________\n",
      "bidirectional (Bidirectional (None, 5, 256)            1639424   \n",
      "_________________________________________________________________\n",
      "bidirectional_1 (Bidirection (None, 5, 128)            164352    \n",
      "_________________________________________________________________\n",
      "dense (Dense)                (None, 5, 11)             1419      \n",
      "=================================================================\n",
      "Total params: 1,824,011\n",
      "Trainable params: 1,824,011\n",
      "Non-trainable params: 0\n",
      "_________________________________________________________________\n"
     ]
    }
   ],
   "source": [
    "import tensorflow as tf\n",
    "from tensorflow.keras.layers import Input, Conv2D, MaxPooling2D, Reshape, Dense, LSTM, Bidirectional\n",
    "from tensorflow.keras.models import Model\n",
    "from tensorflow import keras\n",
    "from tensorflow.keras.regularizers import l2\n",
    "from tensorflow.keras.callbacks import ReduceLROnPlateau \n",
    "\n",
    "input_shape = (28, 100, 1)\n",
    "\n",
    "#CNN\n",
    "input_img = Input(shape=input_shape, name=\"image\", dtype=\"float32\")\n",
    "x = Conv2D(32, (3, 3), activation='tanh')(input_img)\n",
    "x = MaxPooling2D((2, 2))(x)\n",
    "x = Conv2D(64, (3, 3), activation='tanh')(x)\n",
    "x = MaxPooling2D((2, 2))(x)\n",
    "x = Reshape(target_shape=(5, 1472))(x)\n",
    "\n",
    "#RNN\n",
    "x = Bidirectional(LSTM(128, return_sequences=True, dropout=0.25))(x)\n",
    "x = Bidirectional(LSTM(64, return_sequences=True, dropout=0.25))(x)\n",
    "\n",
    "output = Dense(11, activation=\"softmax\")(x) \n",
    "\n",
    "model = Model(inputs=input_img, outputs=output)\n",
    "\n",
    "model.compile(optimizer=keras.optimizers.Adam(learning_rate=0.01),\n",
    "              loss='categorical_crossentropy', \n",
    "              metrics=['accuracy'])\n",
    "\n",
    "model.summary()"
   ]
  },
  {
   "cell_type": "code",
   "execution_count": 9,
   "metadata": {},
   "outputs": [
    {
     "name": "stdout",
     "output_type": "stream",
     "text": [
      "Epoch 1/50\n",
      "300/300 [==============================] - 97s 325ms/step - loss: 1.0518 - accuracy: 0.6313 - val_loss: 0.6472 - val_accuracy: 0.7830\n",
      "Epoch 2/50\n",
      "300/300 [==============================] - 90s 299ms/step - loss: 0.5627 - accuracy: 0.8128 - val_loss: 0.4303 - val_accuracy: 0.8589\n",
      "Epoch 3/50\n",
      "300/300 [==============================] - 85s 283ms/step - loss: 0.4475 - accuracy: 0.8537 - val_loss: 0.3596 - val_accuracy: 0.8842\n",
      "Epoch 4/50\n",
      "300/300 [==============================] - 84s 281ms/step - loss: 0.4000 - accuracy: 0.8696 - val_loss: 0.3441 - val_accuracy: 0.8898\n",
      "Epoch 5/50\n",
      "300/300 [==============================] - 84s 280ms/step - loss: 0.3734 - accuracy: 0.8788 - val_loss: 0.3202 - val_accuracy: 0.8976\n",
      "Epoch 6/50\n",
      "300/300 [==============================] - 83s 277ms/step - loss: 0.3580 - accuracy: 0.8839 - val_loss: 0.3195 - val_accuracy: 0.8984\n",
      "Epoch 7/50\n",
      "300/300 [==============================] - 83s 278ms/step - loss: 0.3440 - accuracy: 0.8881 - val_loss: 0.3172 - val_accuracy: 0.8996\n",
      "Epoch 8/50\n",
      "300/300 [==============================] - 84s 279ms/step - loss: 0.3410 - accuracy: 0.8896 - val_loss: 0.3078 - val_accuracy: 0.9019\n",
      "Epoch 9/50\n",
      "300/300 [==============================] - 85s 283ms/step - loss: 0.3373 - accuracy: 0.8903 - val_loss: 0.2967 - val_accuracy: 0.9047\n",
      "Epoch 10/50\n",
      "300/300 [==============================] - 84s 281ms/step - loss: 0.3357 - accuracy: 0.8908 - val_loss: 0.2912 - val_accuracy: 0.9078\n",
      "Epoch 11/50\n",
      "300/300 [==============================] - 90s 299ms/step - loss: 0.3328 - accuracy: 0.8922 - val_loss: 0.2916 - val_accuracy: 0.9063\n",
      "Epoch 12/50\n",
      "300/300 [==============================] - 100s 333ms/step - loss: 0.3300 - accuracy: 0.8933 - val_loss: 0.2883 - val_accuracy: 0.9083\n",
      "Epoch 13/50\n",
      "300/300 [==============================] - 87s 291ms/step - loss: 0.3243 - accuracy: 0.8947 - val_loss: 0.3015 - val_accuracy: 0.9045\n",
      "Epoch 14/50\n",
      "300/300 [==============================] - 85s 284ms/step - loss: 0.3273 - accuracy: 0.8943 - val_loss: 0.2915 - val_accuracy: 0.9072\n",
      "Epoch 15/50\n",
      "300/300 [==============================] - 89s 296ms/step - loss: 0.3194 - accuracy: 0.8965 - val_loss: 0.2779 - val_accuracy: 0.9114\n",
      "Epoch 16/50\n",
      "300/300 [==============================] - 87s 289ms/step - loss: 0.3260 - accuracy: 0.8944 - val_loss: 0.2841 - val_accuracy: 0.9104\n",
      "Epoch 17/50\n",
      "300/300 [==============================] - 83s 278ms/step - loss: 0.3194 - accuracy: 0.8966 - val_loss: 0.2803 - val_accuracy: 0.9111\n",
      "Epoch 18/50\n",
      "300/300 [==============================] - ETA: 0s - loss: 0.3197 - accuracy: 0.8964\n",
      "Epoch 00018: ReduceLROnPlateau reducing learning rate to 9.999999776482583e-05.\n",
      "300/300 [==============================] - 83s 277ms/step - loss: 0.3197 - accuracy: 0.8964 - val_loss: 0.2859 - val_accuracy: 0.9099\n",
      "Epoch 19/50\n",
      "300/300 [==============================] - 83s 278ms/step - loss: 0.2967 - accuracy: 0.9036 - val_loss: 0.2657 - val_accuracy: 0.9153\n",
      "Epoch 20/50\n",
      "300/300 [==============================] - 83s 277ms/step - loss: 0.2826 - accuracy: 0.9082 - val_loss: 0.2611 - val_accuracy: 0.9167\n",
      "Epoch 21/50\n",
      "300/300 [==============================] - 86s 286ms/step - loss: 0.2767 - accuracy: 0.9101 - val_loss: 0.2581 - val_accuracy: 0.9180\n",
      "Epoch 22/50\n",
      "300/300 [==============================] - 87s 289ms/step - loss: 0.2725 - accuracy: 0.9117 - val_loss: 0.2555 - val_accuracy: 0.9188\n",
      "Epoch 23/50\n",
      "300/300 [==============================] - 91s 304ms/step - loss: 0.2693 - accuracy: 0.9128 - val_loss: 0.2529 - val_accuracy: 0.9193\n",
      "Epoch 24/50\n",
      "300/300 [==============================] - 89s 298ms/step - loss: 0.2689 - accuracy: 0.9129 - val_loss: 0.2511 - val_accuracy: 0.9197\n",
      "Epoch 25/50\n",
      "300/300 [==============================] - 92s 306ms/step - loss: 0.2652 - accuracy: 0.9144 - val_loss: 0.2497 - val_accuracy: 0.9203\n",
      "Epoch 26/50\n",
      "300/300 [==============================] - 93s 310ms/step - loss: 0.2618 - accuracy: 0.9155 - val_loss: 0.2488 - val_accuracy: 0.9208\n",
      "Epoch 27/50\n",
      "300/300 [==============================] - 94s 312ms/step - loss: 0.2605 - accuracy: 0.9159 - val_loss: 0.2476 - val_accuracy: 0.9208\n",
      "Epoch 28/50\n",
      "300/300 [==============================] - 83s 277ms/step - loss: 0.2567 - accuracy: 0.9173 - val_loss: 0.2464 - val_accuracy: 0.9218\n",
      "Epoch 29/50\n",
      "300/300 [==============================] - 84s 280ms/step - loss: 0.2564 - accuracy: 0.9164 - val_loss: 0.2450 - val_accuracy: 0.9221\n",
      "Epoch 30/50\n",
      "300/300 [==============================] - 83s 277ms/step - loss: 0.2551 - accuracy: 0.9174 - val_loss: 0.2441 - val_accuracy: 0.9223\n",
      "Epoch 31/50\n",
      "300/300 [==============================] - 83s 276ms/step - loss: 0.2516 - accuracy: 0.9180 - val_loss: 0.2429 - val_accuracy: 0.9230\n",
      "Epoch 32/50\n",
      "300/300 [==============================] - 86s 287ms/step - loss: 0.2511 - accuracy: 0.9191 - val_loss: 0.2416 - val_accuracy: 0.9231\n",
      "Epoch 33/50\n",
      "300/300 [==============================] - 84s 279ms/step - loss: 0.2512 - accuracy: 0.9190 - val_loss: 0.2409 - val_accuracy: 0.9233\n",
      "Epoch 34/50\n",
      "300/300 [==============================] - 83s 277ms/step - loss: 0.2490 - accuracy: 0.9195 - val_loss: 0.2400 - val_accuracy: 0.9233\n",
      "Epoch 35/50\n",
      "300/300 [==============================] - 85s 283ms/step - loss: 0.2482 - accuracy: 0.9199 - val_loss: 0.2394 - val_accuracy: 0.9237\n",
      "Epoch 36/50\n",
      "300/300 [==============================] - 84s 279ms/step - loss: 0.2471 - accuracy: 0.9200 - val_loss: 0.2390 - val_accuracy: 0.9240\n",
      "Epoch 37/50\n",
      "300/300 [==============================] - 84s 279ms/step - loss: 0.2449 - accuracy: 0.9204 - val_loss: 0.2383 - val_accuracy: 0.9242\n",
      "Epoch 38/50\n",
      "300/300 [==============================] - 83s 278ms/step - loss: 0.2450 - accuracy: 0.9209 - val_loss: 0.2376 - val_accuracy: 0.9245\n",
      "Epoch 39/50\n",
      "300/300 [==============================] - 83s 278ms/step - loss: 0.2433 - accuracy: 0.9214 - val_loss: 0.2374 - val_accuracy: 0.9243\n",
      "Epoch 40/50\n",
      "300/300 [==============================] - 84s 281ms/step - loss: 0.2434 - accuracy: 0.9215 - val_loss: 0.2366 - val_accuracy: 0.9246\n",
      "Epoch 41/50\n",
      "300/300 [==============================] - 83s 278ms/step - loss: 0.2420 - accuracy: 0.9216 - val_loss: 0.2360 - val_accuracy: 0.9247\n",
      "Epoch 42/50\n",
      "300/300 [==============================] - 84s 279ms/step - loss: 0.2407 - accuracy: 0.9218 - val_loss: 0.2360 - val_accuracy: 0.9246\n",
      "Epoch 43/50\n",
      "300/300 [==============================] - 84s 278ms/step - loss: 0.2404 - accuracy: 0.9217 - val_loss: 0.2350 - val_accuracy: 0.9250\n",
      "Epoch 44/50\n",
      "300/300 [==============================] - 84s 280ms/step - loss: 0.2412 - accuracy: 0.9218 - val_loss: 0.2352 - val_accuracy: 0.9251\n",
      "Epoch 45/50\n",
      "300/300 [==============================] - 84s 279ms/step - loss: 0.2382 - accuracy: 0.9231 - val_loss: 0.2345 - val_accuracy: 0.9254\n",
      "Epoch 46/50\n",
      "300/300 [==============================] - 84s 280ms/step - loss: 0.2379 - accuracy: 0.9233 - val_loss: 0.2335 - val_accuracy: 0.9257\n",
      "Epoch 47/50\n",
      "300/300 [==============================] - 84s 279ms/step - loss: 0.2372 - accuracy: 0.9231 - val_loss: 0.2332 - val_accuracy: 0.9258\n",
      "Epoch 48/50\n",
      "300/300 [==============================] - 86s 285ms/step - loss: 0.2369 - accuracy: 0.9237 - val_loss: 0.2331 - val_accuracy: 0.9262\n",
      "Epoch 49/50\n",
      "300/300 [==============================] - 97s 323ms/step - loss: 0.2354 - accuracy: 0.9242 - val_loss: 0.2326 - val_accuracy: 0.9261\n",
      "Epoch 50/50\n",
      "300/300 [==============================] - 90s 299ms/step - loss: 0.2363 - accuracy: 0.9233 - val_loss: 0.2321 - val_accuracy: 0.9262\n"
     ]
    }
   ],
   "source": [
    "reduce_lr = ReduceLROnPlateau(patience =3, factor = 0.01, weightdecay = 0.05, verbose = 1) \n",
    "early_stopping = keras.callbacks.EarlyStopping(monitor=\"val_loss\", \n",
    "                                               patience=10, restore_best_weights=True)\n",
    "#train model\n",
    "history = model.fit(x_train_ran, y_train_ran, epochs=50, verbose=1, batch_size=200, \n",
    "          validation_data=(x_verify_ran, y_verify_ran), callbacks=[early_stopping, reduce_lr ])"
   ]
  },
  {
   "cell_type": "code",
   "execution_count": 10,
   "metadata": {},
   "outputs": [
    {
     "data": {
      "application/vnd.plotly.v1+json": {
       "config": {
        "plotlyServerURL": "https://plot.ly"
       },
       "data": [
        {
         "line": {
          "color": "blue"
         },
         "mode": "lines",
         "name": "Train",
         "type": "scatter",
         "x": [
          1,
          2,
          3,
          4,
          5,
          6,
          7,
          8,
          9,
          10,
          11,
          12,
          13,
          14,
          15,
          16,
          17,
          18,
          19,
          20,
          21,
          22,
          23,
          24,
          25,
          26,
          27,
          28,
          29,
          30,
          31,
          32,
          33,
          34,
          35,
          36,
          37,
          38,
          39,
          40,
          41,
          42,
          43,
          44,
          45,
          46,
          47,
          48,
          49,
          50
         ],
         "xaxis": "x",
         "y": [
          0.6313366889953613,
          0.8128066658973694,
          0.8536933064460754,
          0.8695700168609619,
          0.878790020942688,
          0.883899986743927,
          0.8881466388702393,
          0.8896466493606567,
          0.8902900218963623,
          0.89083331823349,
          0.892216682434082,
          0.8933033347129822,
          0.8947266936302185,
          0.8942866921424866,
          0.8965100049972534,
          0.8943533301353455,
          0.8966166377067566,
          0.89642333984375,
          0.9036033153533936,
          0.9082066416740417,
          0.9101399779319763,
          0.9116500020027161,
          0.9128333330154419,
          0.9128666520118713,
          0.9144366383552551,
          0.9155300259590149,
          0.9159433245658875,
          0.9172833561897278,
          0.9164333343505859,
          0.9173700213432312,
          0.9179533123970032,
          0.9190866947174072,
          0.9189666509628296,
          0.9194533228874207,
          0.9199466705322266,
          0.9199566841125488,
          0.9203799962997437,
          0.920876681804657,
          0.9213533401489258,
          0.9214833378791809,
          0.9215533137321472,
          0.9217566847801208,
          0.9217166900634766,
          0.9218433499336243,
          0.9230666756629944,
          0.9233166575431824,
          0.9230666756629944,
          0.9236900210380554,
          0.9242033362388611,
          0.9233433604240417
         ],
         "yaxis": "y"
        },
        {
         "line": {
          "color": "orange"
         },
         "mode": "lines",
         "name": "Validation",
         "type": "scatter",
         "x": [
          1,
          2,
          3,
          4,
          5,
          6,
          7,
          8,
          9,
          10,
          11,
          12,
          13,
          14,
          15,
          16,
          17,
          18,
          19,
          20,
          21,
          22,
          23,
          24,
          25,
          26,
          27,
          28,
          29,
          30,
          31,
          32,
          33,
          34,
          35,
          36,
          37,
          38,
          39,
          40,
          41,
          42,
          43,
          44,
          45,
          46,
          47,
          48,
          49,
          50
         ],
         "xaxis": "x",
         "y": [
          0.7830299735069275,
          0.8588899970054626,
          0.8841500282287598,
          0.8898100256919861,
          0.8976100087165833,
          0.898360013961792,
          0.899590015411377,
          0.9019399881362915,
          0.904670000076294,
          0.9077900052070618,
          0.9063299894332886,
          0.9082800149917603,
          0.9045000076293945,
          0.9071699976921082,
          0.9113799929618835,
          0.9104499816894531,
          0.9111400246620178,
          0.9099299907684326,
          0.9152600169181824,
          0.916700005531311,
          0.9180200099945068,
          0.9188299775123596,
          0.9193199872970581,
          0.9197400212287903,
          0.9203299880027771,
          0.9207800030708313,
          0.9208300113677979,
          0.9217699766159058,
          0.9221199750900269,
          0.9223099946975708,
          0.9229999780654907,
          0.9231299757957458,
          0.9232800006866455,
          0.9232699871063232,
          0.9236500263214111,
          0.924019992351532,
          0.9241999983787537,
          0.9244599938392639,
          0.9242799878120422,
          0.9246299862861633,
          0.9246699810028076,
          0.9246199727058411,
          0.9250199794769287,
          0.9250500202178955,
          0.9253600239753723,
          0.9257000088691711,
          0.925790011882782,
          0.9262300133705139,
          0.926110029220581,
          0.9262199997901917
         ],
         "yaxis": "y"
        },
        {
         "line": {
          "color": "blue"
         },
         "mode": "lines",
         "name": "Train",
         "showlegend": false,
         "type": "scatter",
         "x": [
          1,
          2,
          3,
          4,
          5,
          6,
          7,
          8,
          9,
          10,
          11,
          12,
          13,
          14,
          15,
          16,
          17,
          18,
          19,
          20,
          21,
          22,
          23,
          24,
          25,
          26,
          27,
          28,
          29,
          30,
          31,
          32,
          33,
          34,
          35,
          36,
          37,
          38,
          39,
          40,
          41,
          42,
          43,
          44,
          45,
          46,
          47,
          48,
          49,
          50
         ],
         "xaxis": "x2",
         "y": [
          1.051771640777588,
          0.5626655220985413,
          0.44745972752571106,
          0.4000447690486908,
          0.37340211868286133,
          0.35798129439353943,
          0.34397682547569275,
          0.34104499220848083,
          0.337294340133667,
          0.3356568217277527,
          0.3328220248222351,
          0.32998085021972656,
          0.32427603006362915,
          0.32728052139282227,
          0.31935521960258484,
          0.3260093331336975,
          0.3193841874599457,
          0.319665789604187,
          0.2967143952846527,
          0.28257808089256287,
          0.2766721546649933,
          0.2725127935409546,
          0.2692546248435974,
          0.2688867151737213,
          0.2652088403701782,
          0.2617764174938202,
          0.2605286240577698,
          0.2567339241504669,
          0.25644949078559875,
          0.25512316823005676,
          0.25155654549598694,
          0.25105997920036316,
          0.25123313069343567,
          0.2489846795797348,
          0.2482060045003891,
          0.24712693691253662,
          0.24487340450286865,
          0.2450152486562729,
          0.24326521158218384,
          0.24339322745800018,
          0.2419845014810562,
          0.2406984567642212,
          0.2403663694858551,
          0.24122191965579987,
          0.2381904423236847,
          0.23792357742786407,
          0.2371545433998108,
          0.23685215413570404,
          0.235364630818367,
          0.23627573251724243
         ],
         "yaxis": "y2"
        },
        {
         "line": {
          "color": "orange"
         },
         "mode": "lines",
         "name": "Validation",
         "showlegend": false,
         "type": "scatter",
         "x": [
          1,
          2,
          3,
          4,
          5,
          6,
          7,
          8,
          9,
          10,
          11,
          12,
          13,
          14,
          15,
          16,
          17,
          18,
          19,
          20,
          21,
          22,
          23,
          24,
          25,
          26,
          27,
          28,
          29,
          30,
          31,
          32,
          33,
          34,
          35,
          36,
          37,
          38,
          39,
          40,
          41,
          42,
          43,
          44,
          45,
          46,
          47,
          48,
          49,
          50
         ],
         "xaxis": "x2",
         "y": [
          0.6472133994102478,
          0.43027666211128235,
          0.3595893085002899,
          0.34410420060157776,
          0.32018792629241943,
          0.3195483088493347,
          0.3172394335269928,
          0.3077920377254486,
          0.2967221140861511,
          0.29124361276626587,
          0.291591078042984,
          0.2882859408855438,
          0.3015335500240326,
          0.2915187180042267,
          0.2779492437839508,
          0.28414320945739746,
          0.2803053855895996,
          0.2858971655368805,
          0.26566004753112793,
          0.26109835505485535,
          0.2580939829349518,
          0.2554548382759094,
          0.2529110908508301,
          0.25110870599746704,
          0.24972385168075562,
          0.24878239631652832,
          0.24761465191841125,
          0.24641598761081696,
          0.24497570097446442,
          0.2440696805715561,
          0.24287660419940948,
          0.24160532653331757,
          0.24089714884757996,
          0.24004541337490082,
          0.2393806129693985,
          0.23902647197246552,
          0.2383051961660385,
          0.23757047951221466,
          0.2374407947063446,
          0.23661379516124725,
          0.2360328882932663,
          0.23596586287021637,
          0.23501677811145782,
          0.23524682223796844,
          0.23452426493167877,
          0.2335404008626938,
          0.2331574261188507,
          0.23311807215213776,
          0.23262101411819458,
          0.23211456835269928
         ],
         "yaxis": "y2"
        }
       ],
       "layout": {
        "annotations": [
         {
          "font": {
           "size": 16
          },
          "showarrow": false,
          "text": "Model accuracy",
          "x": 0.225,
          "xanchor": "center",
          "xref": "paper",
          "y": 1,
          "yanchor": "bottom",
          "yref": "paper"
         },
         {
          "font": {
           "size": 16
          },
          "showarrow": false,
          "text": "Model loss",
          "x": 0.775,
          "xanchor": "center",
          "xref": "paper",
          "y": 1,
          "yanchor": "bottom",
          "yref": "paper"
         }
        ],
        "legend": {
         "x": 0.85,
         "y": 1
        },
        "template": {
         "data": {
          "bar": [
           {
            "error_x": {
             "color": "#2a3f5f"
            },
            "error_y": {
             "color": "#2a3f5f"
            },
            "marker": {
             "line": {
              "color": "#E5ECF6",
              "width": 0.5
             },
             "pattern": {
              "fillmode": "overlay",
              "size": 10,
              "solidity": 0.2
             }
            },
            "type": "bar"
           }
          ],
          "barpolar": [
           {
            "marker": {
             "line": {
              "color": "#E5ECF6",
              "width": 0.5
             },
             "pattern": {
              "fillmode": "overlay",
              "size": 10,
              "solidity": 0.2
             }
            },
            "type": "barpolar"
           }
          ],
          "carpet": [
           {
            "aaxis": {
             "endlinecolor": "#2a3f5f",
             "gridcolor": "white",
             "linecolor": "white",
             "minorgridcolor": "white",
             "startlinecolor": "#2a3f5f"
            },
            "baxis": {
             "endlinecolor": "#2a3f5f",
             "gridcolor": "white",
             "linecolor": "white",
             "minorgridcolor": "white",
             "startlinecolor": "#2a3f5f"
            },
            "type": "carpet"
           }
          ],
          "choropleth": [
           {
            "colorbar": {
             "outlinewidth": 0,
             "ticks": ""
            },
            "type": "choropleth"
           }
          ],
          "contour": [
           {
            "colorbar": {
             "outlinewidth": 0,
             "ticks": ""
            },
            "colorscale": [
             [
              0,
              "#0d0887"
             ],
             [
              0.1111111111111111,
              "#46039f"
             ],
             [
              0.2222222222222222,
              "#7201a8"
             ],
             [
              0.3333333333333333,
              "#9c179e"
             ],
             [
              0.4444444444444444,
              "#bd3786"
             ],
             [
              0.5555555555555556,
              "#d8576b"
             ],
             [
              0.6666666666666666,
              "#ed7953"
             ],
             [
              0.7777777777777778,
              "#fb9f3a"
             ],
             [
              0.8888888888888888,
              "#fdca26"
             ],
             [
              1,
              "#f0f921"
             ]
            ],
            "type": "contour"
           }
          ],
          "contourcarpet": [
           {
            "colorbar": {
             "outlinewidth": 0,
             "ticks": ""
            },
            "type": "contourcarpet"
           }
          ],
          "heatmap": [
           {
            "colorbar": {
             "outlinewidth": 0,
             "ticks": ""
            },
            "colorscale": [
             [
              0,
              "#0d0887"
             ],
             [
              0.1111111111111111,
              "#46039f"
             ],
             [
              0.2222222222222222,
              "#7201a8"
             ],
             [
              0.3333333333333333,
              "#9c179e"
             ],
             [
              0.4444444444444444,
              "#bd3786"
             ],
             [
              0.5555555555555556,
              "#d8576b"
             ],
             [
              0.6666666666666666,
              "#ed7953"
             ],
             [
              0.7777777777777778,
              "#fb9f3a"
             ],
             [
              0.8888888888888888,
              "#fdca26"
             ],
             [
              1,
              "#f0f921"
             ]
            ],
            "type": "heatmap"
           }
          ],
          "heatmapgl": [
           {
            "colorbar": {
             "outlinewidth": 0,
             "ticks": ""
            },
            "colorscale": [
             [
              0,
              "#0d0887"
             ],
             [
              0.1111111111111111,
              "#46039f"
             ],
             [
              0.2222222222222222,
              "#7201a8"
             ],
             [
              0.3333333333333333,
              "#9c179e"
             ],
             [
              0.4444444444444444,
              "#bd3786"
             ],
             [
              0.5555555555555556,
              "#d8576b"
             ],
             [
              0.6666666666666666,
              "#ed7953"
             ],
             [
              0.7777777777777778,
              "#fb9f3a"
             ],
             [
              0.8888888888888888,
              "#fdca26"
             ],
             [
              1,
              "#f0f921"
             ]
            ],
            "type": "heatmapgl"
           }
          ],
          "histogram": [
           {
            "marker": {
             "pattern": {
              "fillmode": "overlay",
              "size": 10,
              "solidity": 0.2
             }
            },
            "type": "histogram"
           }
          ],
          "histogram2d": [
           {
            "colorbar": {
             "outlinewidth": 0,
             "ticks": ""
            },
            "colorscale": [
             [
              0,
              "#0d0887"
             ],
             [
              0.1111111111111111,
              "#46039f"
             ],
             [
              0.2222222222222222,
              "#7201a8"
             ],
             [
              0.3333333333333333,
              "#9c179e"
             ],
             [
              0.4444444444444444,
              "#bd3786"
             ],
             [
              0.5555555555555556,
              "#d8576b"
             ],
             [
              0.6666666666666666,
              "#ed7953"
             ],
             [
              0.7777777777777778,
              "#fb9f3a"
             ],
             [
              0.8888888888888888,
              "#fdca26"
             ],
             [
              1,
              "#f0f921"
             ]
            ],
            "type": "histogram2d"
           }
          ],
          "histogram2dcontour": [
           {
            "colorbar": {
             "outlinewidth": 0,
             "ticks": ""
            },
            "colorscale": [
             [
              0,
              "#0d0887"
             ],
             [
              0.1111111111111111,
              "#46039f"
             ],
             [
              0.2222222222222222,
              "#7201a8"
             ],
             [
              0.3333333333333333,
              "#9c179e"
             ],
             [
              0.4444444444444444,
              "#bd3786"
             ],
             [
              0.5555555555555556,
              "#d8576b"
             ],
             [
              0.6666666666666666,
              "#ed7953"
             ],
             [
              0.7777777777777778,
              "#fb9f3a"
             ],
             [
              0.8888888888888888,
              "#fdca26"
             ],
             [
              1,
              "#f0f921"
             ]
            ],
            "type": "histogram2dcontour"
           }
          ],
          "mesh3d": [
           {
            "colorbar": {
             "outlinewidth": 0,
             "ticks": ""
            },
            "type": "mesh3d"
           }
          ],
          "parcoords": [
           {
            "line": {
             "colorbar": {
              "outlinewidth": 0,
              "ticks": ""
             }
            },
            "type": "parcoords"
           }
          ],
          "pie": [
           {
            "automargin": true,
            "type": "pie"
           }
          ],
          "scatter": [
           {
            "fillpattern": {
             "fillmode": "overlay",
             "size": 10,
             "solidity": 0.2
            },
            "type": "scatter"
           }
          ],
          "scatter3d": [
           {
            "line": {
             "colorbar": {
              "outlinewidth": 0,
              "ticks": ""
             }
            },
            "marker": {
             "colorbar": {
              "outlinewidth": 0,
              "ticks": ""
             }
            },
            "type": "scatter3d"
           }
          ],
          "scattercarpet": [
           {
            "marker": {
             "colorbar": {
              "outlinewidth": 0,
              "ticks": ""
             }
            },
            "type": "scattercarpet"
           }
          ],
          "scattergeo": [
           {
            "marker": {
             "colorbar": {
              "outlinewidth": 0,
              "ticks": ""
             }
            },
            "type": "scattergeo"
           }
          ],
          "scattergl": [
           {
            "marker": {
             "colorbar": {
              "outlinewidth": 0,
              "ticks": ""
             }
            },
            "type": "scattergl"
           }
          ],
          "scattermapbox": [
           {
            "marker": {
             "colorbar": {
              "outlinewidth": 0,
              "ticks": ""
             }
            },
            "type": "scattermapbox"
           }
          ],
          "scatterpolar": [
           {
            "marker": {
             "colorbar": {
              "outlinewidth": 0,
              "ticks": ""
             }
            },
            "type": "scatterpolar"
           }
          ],
          "scatterpolargl": [
           {
            "marker": {
             "colorbar": {
              "outlinewidth": 0,
              "ticks": ""
             }
            },
            "type": "scatterpolargl"
           }
          ],
          "scatterternary": [
           {
            "marker": {
             "colorbar": {
              "outlinewidth": 0,
              "ticks": ""
             }
            },
            "type": "scatterternary"
           }
          ],
          "surface": [
           {
            "colorbar": {
             "outlinewidth": 0,
             "ticks": ""
            },
            "colorscale": [
             [
              0,
              "#0d0887"
             ],
             [
              0.1111111111111111,
              "#46039f"
             ],
             [
              0.2222222222222222,
              "#7201a8"
             ],
             [
              0.3333333333333333,
              "#9c179e"
             ],
             [
              0.4444444444444444,
              "#bd3786"
             ],
             [
              0.5555555555555556,
              "#d8576b"
             ],
             [
              0.6666666666666666,
              "#ed7953"
             ],
             [
              0.7777777777777778,
              "#fb9f3a"
             ],
             [
              0.8888888888888888,
              "#fdca26"
             ],
             [
              1,
              "#f0f921"
             ]
            ],
            "type": "surface"
           }
          ],
          "table": [
           {
            "cells": {
             "fill": {
              "color": "#EBF0F8"
             },
             "line": {
              "color": "white"
             }
            },
            "header": {
             "fill": {
              "color": "#C8D4E3"
             },
             "line": {
              "color": "white"
             }
            },
            "type": "table"
           }
          ]
         },
         "layout": {
          "annotationdefaults": {
           "arrowcolor": "#2a3f5f",
           "arrowhead": 0,
           "arrowwidth": 1
          },
          "autotypenumbers": "strict",
          "coloraxis": {
           "colorbar": {
            "outlinewidth": 0,
            "ticks": ""
           }
          },
          "colorscale": {
           "diverging": [
            [
             0,
             "#8e0152"
            ],
            [
             0.1,
             "#c51b7d"
            ],
            [
             0.2,
             "#de77ae"
            ],
            [
             0.3,
             "#f1b6da"
            ],
            [
             0.4,
             "#fde0ef"
            ],
            [
             0.5,
             "#f7f7f7"
            ],
            [
             0.6,
             "#e6f5d0"
            ],
            [
             0.7,
             "#b8e186"
            ],
            [
             0.8,
             "#7fbc41"
            ],
            [
             0.9,
             "#4d9221"
            ],
            [
             1,
             "#276419"
            ]
           ],
           "sequential": [
            [
             0,
             "#0d0887"
            ],
            [
             0.1111111111111111,
             "#46039f"
            ],
            [
             0.2222222222222222,
             "#7201a8"
            ],
            [
             0.3333333333333333,
             "#9c179e"
            ],
            [
             0.4444444444444444,
             "#bd3786"
            ],
            [
             0.5555555555555556,
             "#d8576b"
            ],
            [
             0.6666666666666666,
             "#ed7953"
            ],
            [
             0.7777777777777778,
             "#fb9f3a"
            ],
            [
             0.8888888888888888,
             "#fdca26"
            ],
            [
             1,
             "#f0f921"
            ]
           ],
           "sequentialminus": [
            [
             0,
             "#0d0887"
            ],
            [
             0.1111111111111111,
             "#46039f"
            ],
            [
             0.2222222222222222,
             "#7201a8"
            ],
            [
             0.3333333333333333,
             "#9c179e"
            ],
            [
             0.4444444444444444,
             "#bd3786"
            ],
            [
             0.5555555555555556,
             "#d8576b"
            ],
            [
             0.6666666666666666,
             "#ed7953"
            ],
            [
             0.7777777777777778,
             "#fb9f3a"
            ],
            [
             0.8888888888888888,
             "#fdca26"
            ],
            [
             1,
             "#f0f921"
            ]
           ]
          },
          "colorway": [
           "#636efa",
           "#EF553B",
           "#00cc96",
           "#ab63fa",
           "#FFA15A",
           "#19d3f3",
           "#FF6692",
           "#B6E880",
           "#FF97FF",
           "#FECB52"
          ],
          "font": {
           "color": "#2a3f5f"
          },
          "geo": {
           "bgcolor": "white",
           "lakecolor": "white",
           "landcolor": "#E5ECF6",
           "showlakes": true,
           "showland": true,
           "subunitcolor": "white"
          },
          "hoverlabel": {
           "align": "left"
          },
          "hovermode": "closest",
          "mapbox": {
           "style": "light"
          },
          "paper_bgcolor": "white",
          "plot_bgcolor": "#E5ECF6",
          "polar": {
           "angularaxis": {
            "gridcolor": "white",
            "linecolor": "white",
            "ticks": ""
           },
           "bgcolor": "#E5ECF6",
           "radialaxis": {
            "gridcolor": "white",
            "linecolor": "white",
            "ticks": ""
           }
          },
          "scene": {
           "xaxis": {
            "backgroundcolor": "#E5ECF6",
            "gridcolor": "white",
            "gridwidth": 2,
            "linecolor": "white",
            "showbackground": true,
            "ticks": "",
            "zerolinecolor": "white"
           },
           "yaxis": {
            "backgroundcolor": "#E5ECF6",
            "gridcolor": "white",
            "gridwidth": 2,
            "linecolor": "white",
            "showbackground": true,
            "ticks": "",
            "zerolinecolor": "white"
           },
           "zaxis": {
            "backgroundcolor": "#E5ECF6",
            "gridcolor": "white",
            "gridwidth": 2,
            "linecolor": "white",
            "showbackground": true,
            "ticks": "",
            "zerolinecolor": "white"
           }
          },
          "shapedefaults": {
           "line": {
            "color": "#2a3f5f"
           }
          },
          "ternary": {
           "aaxis": {
            "gridcolor": "white",
            "linecolor": "white",
            "ticks": ""
           },
           "baxis": {
            "gridcolor": "white",
            "linecolor": "white",
            "ticks": ""
           },
           "bgcolor": "#E5ECF6",
           "caxis": {
            "gridcolor": "white",
            "linecolor": "white",
            "ticks": ""
           }
          },
          "title": {
           "x": 0.05
          },
          "xaxis": {
           "automargin": true,
           "gridcolor": "white",
           "linecolor": "white",
           "ticks": "",
           "title": {
            "standoff": 15
           },
           "zerolinecolor": "white",
           "zerolinewidth": 2
          },
          "yaxis": {
           "automargin": true,
           "gridcolor": "white",
           "linecolor": "white",
           "ticks": "",
           "title": {
            "standoff": 15
           },
           "zerolinecolor": "white",
           "zerolinewidth": 2
          }
         }
        },
        "title": {
         "text": "Model Training History"
        },
        "xaxis": {
         "anchor": "y",
         "domain": [
          0,
          0.45
         ],
         "title": {
          "text": "Epoch"
         }
        },
        "xaxis2": {
         "anchor": "y2",
         "domain": [
          0.55,
          1
         ]
        },
        "yaxis": {
         "anchor": "x",
         "domain": [
          0,
          1
         ],
         "title": {
          "text": "Value"
         }
        },
        "yaxis2": {
         "anchor": "x2",
         "domain": [
          0,
          1
         ]
        }
       }
      }
     },
     "metadata": {},
     "output_type": "display_data"
    }
   ],
   "source": [
    "import plotly.graph_objects as go\n",
    "from plotly.subplots import make_subplots\n",
    "\n",
    "fig = make_subplots(rows=1, cols=2, subplot_titles=(\"Model accuracy\", \"Model loss\"))\n",
    "\n",
    "# Add the first subplot for accuracy\n",
    "fig.add_trace(go.Scatter(x=list(range(1, len(history.history['accuracy']) + 1)),\n",
    "                         y=history.history['accuracy'], mode='lines',\n",
    "                         name='Train', line=dict(color='blue')), row=1, col=1)\n",
    "fig.add_trace(go.Scatter(x=list(range(1, len(history.history['val_accuracy']) + 1)),\n",
    "                         y=history.history['val_accuracy'], mode='lines',\n",
    "                         name='Validation', line=dict(color='orange')), row=1, col=1)\n",
    "\n",
    "# Add the second subplot for loss\n",
    "fig.add_trace(go.Scatter(x=list(range(1, len(history.history['loss']) + 1)),\n",
    "                         y=history.history['loss'], mode='lines',\n",
    "                         name='Train', line=dict(color='blue'), showlegend=False), row=1, col=2)\n",
    "fig.add_trace(go.Scatter(x=list(range(1, len(history.history['val_loss']) + 1)),\n",
    "                         y=history.history['val_loss'], mode='lines',\n",
    "                         name='Validation', line=dict(color='orange'), showlegend=False), row=1, col=2)\n",
    "\n",
    "fig.update_layout(title=\"Model Training History\",\n",
    "                  xaxis_title=\"Epoch\",\n",
    "                  yaxis_title=\"Value\",\n",
    "                  legend=dict(x=0.85, y=1))\n",
    "\n",
    "fig.show()"
   ]
  },
  {
   "cell_type": "code",
   "execution_count": 11,
   "metadata": {},
   "outputs": [
    {
     "name": "stdout",
     "output_type": "stream",
     "text": [
      "625/625 [==============================] - 11s 18ms/step - loss: 0.2371 - accuracy: 0.9249\n",
      "Test Accuracy: 92.49%\n"
     ]
    }
   ],
   "source": [
    "# Evaluate the model on the test dataset\n",
    "test_loss, test_accuracy = model.evaluate(x_test_ran, y_test_ran)\n",
    "print(f'Test Accuracy: {test_accuracy * 100:.2f}%')"
   ]
  },
  {
   "cell_type": "code",
   "execution_count": 12,
   "metadata": {},
   "outputs": [],
   "source": [
    "y_pred = model.predict(x_test_ran) \n",
    "y_pred = np.argmax(y_pred, axis=2)"
   ]
  },
  {
   "cell_type": "code",
   "execution_count": 13,
   "metadata": {},
   "outputs": [],
   "source": [
    "str_arr = y_pred.astype(str)\n",
    "str_arr = np.where(str_arr == '10', '', str_arr)\n",
    "y_test_pred  = [''.join(row) for row in str_arr]\n",
    "y_test_pred  = np.array(y_test_pred)"
   ]
  },
  {
   "cell_type": "code",
   "execution_count": 14,
   "metadata": {},
   "outputs": [],
   "source": [
    "prediction = []\n",
    "for i in range(20000):\n",
    "    prediction.append(y_test_pred [i])"
   ]
  },
  {
   "cell_type": "code",
   "execution_count": 20,
   "metadata": {},
   "outputs": [],
   "source": [
    "y_true = []\n",
    "for i in range(20000):\n",
    "    y_true.append(y_test_random[i][0])"
   ]
  },
  {
   "cell_type": "code",
   "execution_count": 22,
   "metadata": {},
   "outputs": [
    {
     "name": "stdout",
     "output_type": "stream",
     "text": [
      "Correct characters predicted : 87.84%\n",
      "Correct words predicted      : 71.61%\n"
     ]
    }
   ],
   "source": [
    "correct_char = 0\n",
    "total_char = 0\n",
    "correct = 0\n",
    "valid_size=len(y_verify_random)\n",
    "\n",
    "for i in range(valid_size):\n",
    "    pr = prediction[i]\n",
    "    tr = y_true[i]\n",
    "    total_char += len(tr)\n",
    "    \n",
    "    for j in range(min(len(tr), len(pr))):\n",
    "        if tr[j] == pr[j]:\n",
    "            correct_char += 1\n",
    "            \n",
    "    if pr == tr :\n",
    "        correct += 1 \n",
    "    \n",
    "print('Correct characters predicted : %.2f%%' %(correct_char*100/total_char))\n",
    "print('Correct words predicted      : %.2f%%' %(correct*100/valid_size))"
   ]
  },
  {
   "cell_type": "code",
   "execution_count": 23,
   "metadata": {},
   "outputs": [
    {
     "name": "stdout",
     "output_type": "stream",
     "text": [
      "Label:016; Predicted:016\n"
     ]
    },
    {
     "data": {
      "image/png": "[encoded data removed]",
      "text/plain": [
       "<PIL.Image.Image image mode=L size=100x28>"
      ]
     },
     "metadata": {},
     "output_type": "display_data"
    },
    {
     "name": "stdout",
     "output_type": "stream",
     "text": [
      "Label:00036; Predicted:00031\n"
     ]
    },
    {
     "data": {
      "image/png": "[encoded data removed]",
      "text/plain": [
       "<PIL.Image.Image image mode=L size=100x28>"
      ]
     },
     "metadata": {},
     "output_type": "display_data"
    },
    {
     "name": "stdout",
     "output_type": "stream",
     "text": [
      "Label:97750; Predicted:97750\n"
     ]
    },
    {
     "data": {
      "image/png": "[encoded data removed]",
      "text/plain": [
       "<PIL.Image.Image image mode=L size=100x28>"
      ]
     },
     "metadata": {},
     "output_type": "display_data"
    },
    {
     "name": "stdout",
     "output_type": "stream",
     "text": [
      "Label:4; Predicted:4\n"
     ]
    },
    {
     "data": {
      "image/png": "[encoded data removed]",
      "text/plain": [
       "<PIL.Image.Image image mode=L size=100x28>"
      ]
     },
     "metadata": {},
     "output_type": "display_data"
    },
    {
     "name": "stdout",
     "output_type": "stream",
     "text": [
      "Label:222; Predicted:222\n"
     ]
    },
    {
     "data": {
      "image/png": "[encoded data removed]",
      "text/plain": [
       "<PIL.Image.Image image mode=L size=100x28>"
      ]
     },
     "metadata": {},
     "output_type": "display_data"
    },
    {
     "name": "stdout",
     "output_type": "stream",
     "text": [
      "Label:30969; Predicted:31968\n"
     ]
    },
    {
     "data": {
      "image/png": "[encoded data removed]",
      "text/plain": [
       "<PIL.Image.Image image mode=L size=100x28>"
      ]
     },
     "metadata": {},
     "output_type": "display_data"
    },
    {
     "name": "stdout",
     "output_type": "stream",
     "text": [
      "Label:235; Predicted:235\n"
     ]
    },
    {
     "data": {
      "image/png": "[encoded data removed]",
      "text/plain": [
       "<PIL.Image.Image image mode=L size=100x28>"
      ]
     },
     "metadata": {},
     "output_type": "display_data"
    },
    {
     "name": "stdout",
     "output_type": "stream",
     "text": [
      "Label:773; Predicted:773\n"
     ]
    },
    {
     "data": {
      "image/png": "[encoded data removed]",
      "text/plain": [
       "<PIL.Image.Image image mode=L size=100x28>"
      ]
     },
     "metadata": {},
     "output_type": "display_data"
    },
    {
     "name": "stdout",
     "output_type": "stream",
     "text": [
      "Label:0020; Predicted:0020\n"
     ]
    },
    {
     "data": {
      "image/png": "[encoded data removed]",
      "text/plain": [
       "<PIL.Image.Image image mode=L size=100x28>"
      ]
     },
     "metadata": {},
     "output_type": "display_data"
    },
    {
     "name": "stdout",
     "output_type": "stream",
     "text": [
      "Label:78; Predicted:98\n"
     ]
    },
    {
     "data": {
      "image/png": "[encoded data removed]",
      "text/plain": [
       "<PIL.Image.Image image mode=L size=100x28>"
      ]
     },
     "metadata": {},
     "output_type": "display_data"
    }
   ],
   "source": [
    "for id_n in np.random.randint(0, len(y_test_random),10):\n",
    "    image_data = (np.squeeze(x_test_ran[id_n]) * 255).astype('uint8')\n",
    "    image = Image.fromarray(image_data, 'L')\n",
    "    title = f\"Label:{y_test_random[id_n][0]}; Predicted:{y_test_pred[id_n]}\"\n",
    "    print(title)\n",
    "    display(image)"
   ]
  },
  {
   "cell_type": "code",
   "execution_count": 52,
   "metadata": {},
   "outputs": [
    {
     "name": "stdout",
     "output_type": "stream",
     "text": [
      "100\n",
      "Images saved successfully.\n"
     ]
    }
   ],
   "source": [
    "from PIL import Image, ImageDraw, ImageFont\n",
    "import numpy as np\n",
    "\n",
    "id = list(range(len(x_test)))\n",
    "\n",
    "np.random.shuffle(id)\n",
    "id_exam=id[:100]\n",
    "print(len(id_exam))\n",
    "for h in id_exam:\n",
    "    image_data = (np.squeeze(x_test_ran[h]) * 255).astype('uint8')\n",
    "    image = Image.fromarray(image_data, 'L')\n",
    "    draw = ImageDraw.Draw(image)\n",
    "    font = ImageFont.load_default() \n",
    "    title=f\"Lab_{y_test_random[h]}-Pre_{y_test_pred[h]}\"\n",
    "    name=title.replace(\" \", \"\")\n",
    "    name=name.replace(\"[\", \"\")\n",
    "    name=name.replace(\"]\", \"\")\n",
    "    file_name = \"E:/pythonfile/images-cate/\"+name+\".png\"\n",
    "    image.save(file_name)\n",
    "\n",
    "print(\"Images saved successfully.\")"
   ]
  }
 ],
 "metadata": {
  "kernelspec": {
   "display_name": "anacondaTensorflow",
   "language": "python",
   "name": "python3"
  },
  "language_info": {
   "codemirror_mode": {
    "name": "ipython",
    "version": 3
   },
   "file_extension": ".py",
   "mimetype": "text/x-python",
   "name": "python",
   "nbconvert_exporter": "python",
   "pygments_lexer": "ipython3",
   "version": "3.8.17"
  }
 },
 "nbformat": 4,
 "nbformat_minor": 2
}
