{
 "cells": [
  {
   "cell_type": "code",
   "execution_count": 1,
   "metadata": {},
   "outputs": [],
   "source": [
    "import numpy as np\n",
    "import tensorflow as tf\n",
    "from tensorflow.keras.datasets import mnist\n",
    "\n",
    "\n",
    "(x_train, y_train), (x_test, y_test) = mnist.load_data()\n",
    "\n",
    "x_train = x_train.reshape(-1, 28, 28, 1) / 255.0\n",
    "x_test = x_test.reshape(-1, 28, 28, 1) / 255.0\n",
    "\n",
    "def generate_random_number(number,x_data,y_data):\n",
    "    num_samples = number\n",
    "    data_numb=np.zeros((num_samples, 28, 100, 1), dtype = np.float32)\n",
    "    data_labe=np.empty((num_samples, 1), dtype = np.chararray)\n",
    "    for i in range(num_samples):\n",
    "        digit1 = np.random.choice(y_data)\n",
    "        digit2 = np.random.choice(y_data)\n",
    "        digit3 = np.random.choice(y_data)\n",
    "        digit4 = np.random.choice(y_data)\n",
    "        digit5 = np.random.choice(y_data)\n",
    "        \n",
    "        length = np.random.randint(1, 6)\n",
    "        canvas = np.zeros((28, 100, 1), dtype=np.float32)\n",
    "        labe = np.zeros(length,dtype=np.int_)\n",
    "        \n",
    "        lent_front = 0\n",
    "        for n in range(length):\n",
    "            digit_labe =[digit1, digit2, digit3, digit4, digit5]\n",
    "            digit = digit_labe[n]\n",
    "            id=np.random.choice(np.where(y_train == digit)[0])\n",
    "            if n==0:\n",
    "                lent_front = 28*n\n",
    "                x_data_front = np.zeros((28, lent_front, 1), dtype=np.float32)\n",
    "                x_data_after = np.zeros((28, 72-lent_front, 1), dtype=np.float32)\n",
    "            else:\n",
    "                numb=np.random.randint(8,18)\n",
    "                lent_front = lent_front+numb\n",
    "                x_data_front = np.zeros((28, lent_front, 1), dtype=np.float32)\n",
    "                x_data_after = np.zeros((28, 72-lent_front, 1), dtype=np.float32)\n",
    "            canvas_add = np.concatenate([x_data_front, x_data[id]], 1)\n",
    "            canvas_add = np.concatenate([canvas_add, x_data_after],  1)\n",
    "            canvas += canvas_add\n",
    "            labe[n] = y_data[id]\n",
    "            \n",
    "        datalabe = [str(x) for x in labe]\n",
    "        data_labe[i] = ''.join(datalabe)\n",
    "        data_numb[i]=canvas \n",
    "    print('end')\n",
    "    return data_numb, data_labe"
   ]
  },
  {
   "cell_type": "code",
   "execution_count": 2,
   "metadata": {},
   "outputs": [],
   "source": [
    "def get_label(y_lab):\n",
    "    max_length = max(len(sublist[0]) for sublist in y_lab)\n",
    "    lab_list = [[int(char) if len(char) == 1 else 11 for char in sublist[0]] + [10] * (max_length - len(sublist[0])) for sublist in y_lab]\n",
    "    lab = np.array(lab_list)\n",
    "    return lab"
   ]
  },
  {
   "cell_type": "code",
   "execution_count": 3,
   "metadata": {},
   "outputs": [
    {
     "name": "stdout",
     "output_type": "stream",
     "text": [
      "end\n"
     ]
    }
   ],
   "source": [
    "x_data_random , y_data_random = generate_random_number(100000,x_train, y_train)"
   ]
  },
  {
   "cell_type": "code",
   "execution_count": 4,
   "metadata": {},
   "outputs": [],
   "source": [
    "y_data_ran = get_label(y_data_random)"
   ]
  },
  {
   "cell_type": "code",
   "execution_count": 5,
   "metadata": {},
   "outputs": [],
   "source": [
    "from keras.utils import to_categorical\n",
    "y_data_ran = to_categorical(y_data_ran, num_classes=11)"
   ]
  },
  {
   "cell_type": "code",
   "execution_count": 6,
   "metadata": {},
   "outputs": [],
   "source": [
    "x_train_ran , y_train_ran,  y_train_random = x_data_random[:60000] , y_data_ran[:60000]  , y_data_random[:60000]\n",
    "x_test_ran , y_test_ran,  y_test_random= x_data_random[60000:80000] , y_data_ran[60000:80000] , y_data_random[60000:80000]\n",
    "x_verify_ran , y_verify_ran, y_verify_random = x_data_random[80000:] , y_data_ran[80000:] , y_data_random[80000:]"
   ]
  },
  {
   "cell_type": "code",
   "execution_count": 33,
   "metadata": {},
   "outputs": [
    {
     "name": "stdout",
     "output_type": "stream",
     "text": [
      "Label:['809']\n"
     ]
    },
    {
     "data": {
      "image/png": "[encoded data removed]",
      "text/plain": [
       "<PIL.Image.Image image mode=L size=100x28>"
      ]
     },
     "metadata": {},
     "output_type": "display_data"
    },
    {
     "name": "stdout",
     "output_type": "stream",
     "text": [
      "Label:['7']\n"
     ]
    },
    {
     "data": {
      "image/png": "[encoded data removed]",
      "text/plain": [
       "<PIL.Image.Image image mode=L size=100x28>"
      ]
     },
     "metadata": {},
     "output_type": "display_data"
    },
    {
     "name": "stdout",
     "output_type": "stream",
     "text": [
      "Label:['08590']\n"
     ]
    },
    {
     "data": {
      "image/png": "[encoded data removed]",
      "text/plain": [
       "<PIL.Image.Image image mode=L size=100x28>"
      ]
     },
     "metadata": {},
     "output_type": "display_data"
    },
    {
     "name": "stdout",
     "output_type": "stream",
     "text": [
      "Label:['76']\n"
     ]
    },
    {
     "data": {
      "image/png": "[encoded data removed]",
      "text/plain": [
       "<PIL.Image.Image image mode=L size=100x28>"
      ]
     },
     "metadata": {},
     "output_type": "display_data"
    },
    {
     "name": "stdout",
     "output_type": "stream",
     "text": [
      "Label:['7493']\n"
     ]
    },
    {
     "data": {
      "image/png": "[encoded data removed]",
      "text/plain": [
       "<PIL.Image.Image image mode=L size=100x28>"
      ]
     },
     "metadata": {},
     "output_type": "display_data"
    },
    {
     "name": "stdout",
     "output_type": "stream",
     "text": [
      "Label:['5']\n"
     ]
    },
    {
     "data": {
      "image/png": "[encoded data removed]",
      "text/plain": [
       "<PIL.Image.Image image mode=L size=100x28>"
      ]
     },
     "metadata": {},
     "output_type": "display_data"
    },
    {
     "name": "stdout",
     "output_type": "stream",
     "text": [
      "Label:['2']\n"
     ]
    },
    {
     "data": {
      "image/png": "[encoded data removed]",
      "text/plain": [
       "<PIL.Image.Image image mode=L size=100x28>"
      ]
     },
     "metadata": {},
     "output_type": "display_data"
    },
    {
     "name": "stdout",
     "output_type": "stream",
     "text": [
      "Label:['19009']\n"
     ]
    },
    {
     "data": {
      "image/png": "[encoded data removed]",
      "text/plain": [
       "<PIL.Image.Image image mode=L size=100x28>"
      ]
     },
     "metadata": {},
     "output_type": "display_data"
    },
    {
     "name": "stdout",
     "output_type": "stream",
     "text": [
      "Label:['6']\n"
     ]
    },
    {
     "data": {
      "image/png": "[encoded data removed]",
      "text/plain": [
       "<PIL.Image.Image image mode=L size=100x28>"
      ]
     },
     "metadata": {},
     "output_type": "display_data"
    },
    {
     "name": "stdout",
     "output_type": "stream",
     "text": [
      "Label:['72']\n"
     ]
    },
    {
     "data": {
      "image/png": "[encoded data removed]",
      "text/plain": [
       "<PIL.Image.Image image mode=L size=100x28>"
      ]
     },
     "metadata": {},
     "output_type": "display_data"
    }
   ],
   "source": [
    "from PIL import Image\n",
    "from IPython.display import display\n",
    "\n",
    "def image_see(n):\n",
    "    image_data = (np.squeeze(x_train_ran[n]) * 255).astype('uint8')\n",
    "    image = Image.fromarray(image_data, 'L')\n",
    "    title = f\"Label:{y_train_random[n]}\"\n",
    "    print(title)\n",
    "    display(image)\n",
    "for id_n in np.random.randint(0, len(y_train_random),10):\n",
    "    image_see(id_n)\n",
    "\n"
   ]
  },
  {
   "cell_type": "code",
   "execution_count": 56,
   "metadata": {},
   "outputs": [
    {
     "name": "stdout",
     "output_type": "stream",
     "text": [
      "Model: \"functional_3\"\n",
      "_________________________________________________________________\n",
      "Layer (type)                 Output Shape              Param #   \n",
      "=================================================================\n",
      "image (InputLayer)           [(None, 28, 100, 1)]      0         \n",
      "_________________________________________________________________\n",
      "conv2d_2 (Conv2D)            (None, 26, 98, 32)        320       \n",
      "_________________________________________________________________\n",
      "max_pooling2d_2 (MaxPooling2 (None, 13, 49, 32)        0         \n",
      "_________________________________________________________________\n",
      "conv2d_3 (Conv2D)            (None, 11, 47, 64)        18496     \n",
      "_________________________________________________________________\n",
      "max_pooling2d_3 (MaxPooling2 (None, 5, 23, 64)         0         \n",
      "_________________________________________________________________\n",
      "reshape_1 (Reshape)          (None, 5, 1472)           0         \n",
      "_________________________________________________________________\n",
      "bidirectional_2 (Bidirection (None, 5, 256)            1639424   \n",
      "_________________________________________________________________\n",
      "bidirectional_3 (Bidirection (None, 5, 128)            164352    \n",
      "_________________________________________________________________\n",
      "dense_1 (Dense)              (None, 5, 11)             1419      \n",
      "=================================================================\n",
      "Total params: 1,824,011\n",
      "Trainable params: 1,824,011\n",
      "Non-trainable params: 0\n",
      "_________________________________________________________________\n"
     ]
    }
   ],
   "source": [
    "import tensorflow as tf\n",
    "from tensorflow.keras.layers import Input, Conv2D, MaxPooling2D, Reshape, Dense, LSTM, Bidirectional\n",
    "from tensorflow.keras.models import Model\n",
    "from tensorflow import keras\n",
    "from tensorflow.keras.regularizers import l2\n",
    "from tensorflow.keras.callbacks import ReduceLROnPlateau \n",
    "\n",
    "input_shape = (28, 100, 1)\n",
    "\n",
    "#CNN\n",
    "input_img = Input(shape=input_shape, name=\"image\", dtype=\"float32\")\n",
    "x = Conv2D(32, (3, 3), activation='tanh')(input_img)\n",
    "x = MaxPooling2D((2, 2))(x)\n",
    "x = Conv2D(64, (3, 3), activation='tanh')(x)\n",
    "x = MaxPooling2D((2, 2))(x)\n",
    "x = Reshape(target_shape=(5, 1472))(x)\n",
    "\n",
    "#RNN\n",
    "x = Bidirectional(LSTM(128, return_sequences=True, dropout=0.25))(x)\n",
    "x = Bidirectional(LSTM(64, return_sequences=True, dropout=0.25))(x)\n",
    "\n",
    "output = Dense(11, activation=\"softmax\")(x) \n",
    "\n",
    "model = Model(inputs=input_img, outputs=output)\n",
    "\n",
    "model.compile(optimizer=keras.optimizers.Adam(learning_rate=0.01),\n",
    "              loss='categorical_crossentropy', \n",
    "              metrics=['accuracy'])\n",
    "\n",
    "model.summary()"
   ]
  },
  {
   "cell_type": "code",
   "execution_count": 8,
   "metadata": {},
   "outputs": [
    {
     "name": "stdout",
     "output_type": "stream",
     "text": [
      "Epoch 1/50\n",
      "300/300 [==============================] - 110s 367ms/step - loss: 1.0726 - accuracy: 0.6261 - val_loss: 0.6162 - val_accuracy: 0.7937\n",
      "Epoch 2/50\n",
      "300/300 [==============================] - 98s 326ms/step - loss: 0.5633 - accuracy: 0.8123 - val_loss: 0.4323 - val_accuracy: 0.8590\n",
      "Epoch 3/50\n",
      "300/300 [==============================] - 90s 299ms/step - loss: 0.4550 - accuracy: 0.8507 - val_loss: 0.3790 - val_accuracy: 0.8784\n",
      "Epoch 4/50\n",
      "300/300 [==============================] - 89s 298ms/step - loss: 0.4099 - accuracy: 0.8659 - val_loss: 0.3331 - val_accuracy: 0.8923\n",
      "Epoch 5/50\n",
      "300/300 [==============================] - 91s 304ms/step - loss: 0.3824 - accuracy: 0.8748 - val_loss: 0.3231 - val_accuracy: 0.8956\n",
      "Epoch 6/50\n",
      "300/300 [==============================] - 89s 298ms/step - loss: 0.3644 - accuracy: 0.8812 - val_loss: 0.3241 - val_accuracy: 0.8963\n",
      "Epoch 7/50\n",
      "300/300 [==============================] - 90s 299ms/step - loss: 0.3520 - accuracy: 0.8854 - val_loss: 0.3022 - val_accuracy: 0.9036\n",
      "Epoch 8/50\n",
      "300/300 [==============================] - 90s 299ms/step - loss: 0.3456 - accuracy: 0.8875 - val_loss: 0.3047 - val_accuracy: 0.9028\n",
      "Epoch 9/50\n",
      "300/300 [==============================] - 94s 312ms/step - loss: 0.3396 - accuracy: 0.8892 - val_loss: 0.2945 - val_accuracy: 0.9054\n",
      "Epoch 10/50\n",
      "300/300 [==============================] - 90s 301ms/step - loss: 0.3340 - accuracy: 0.8916 - val_loss: 0.2944 - val_accuracy: 0.9065\n",
      "Epoch 11/50\n",
      "300/300 [==============================] - 90s 300ms/step - loss: 0.3359 - accuracy: 0.8906 - val_loss: 0.2865 - val_accuracy: 0.9097\n",
      "Epoch 12/50\n",
      "300/300 [==============================] - 89s 297ms/step - loss: 0.3307 - accuracy: 0.8920 - val_loss: 0.2855 - val_accuracy: 0.9080\n",
      "Epoch 13/50\n",
      "300/300 [==============================] - 87s 288ms/step - loss: 0.3321 - accuracy: 0.8913 - val_loss: 0.2878 - val_accuracy: 0.9078\n",
      "Epoch 14/50\n",
      "300/300 [==============================] - 86s 288ms/step - loss: 0.3276 - accuracy: 0.8939 - val_loss: 0.2848 - val_accuracy: 0.9088\n",
      "Epoch 15/50\n",
      "300/300 [==============================] - 87s 289ms/step - loss: 0.3228 - accuracy: 0.8953 - val_loss: 0.3080 - val_accuracy: 0.9026\n",
      "Epoch 16/50\n",
      "300/300 [==============================] - 87s 289ms/step - loss: 0.3249 - accuracy: 0.8946 - val_loss: 0.2745 - val_accuracy: 0.9128\n",
      "Epoch 17/50\n",
      "300/300 [==============================] - 86s 288ms/step - loss: 0.3253 - accuracy: 0.8943 - val_loss: 0.3113 - val_accuracy: 0.9027\n",
      "Epoch 18/50\n",
      "300/300 [==============================] - 86s 288ms/step - loss: 0.3261 - accuracy: 0.8946 - val_loss: 0.2877 - val_accuracy: 0.9085\n",
      "Epoch 19/50\n",
      "300/300 [==============================] - ETA: 0s - loss: 0.3226 - accuracy: 0.8951\n",
      "Epoch 00019: ReduceLROnPlateau reducing learning rate to 9.999999776482583e-05.\n",
      "300/300 [==============================] - 87s 290ms/step - loss: 0.3226 - accuracy: 0.8951 - val_loss: 0.2820 - val_accuracy: 0.9109\n",
      "Epoch 20/50\n",
      "300/300 [==============================] - 86s 286ms/step - loss: 0.2974 - accuracy: 0.9035 - val_loss: 0.2639 - val_accuracy: 0.9167\n",
      "Epoch 21/50\n",
      "300/300 [==============================] - 95s 315ms/step - loss: 0.2837 - accuracy: 0.9078 - val_loss: 0.2593 - val_accuracy: 0.9177\n",
      "Epoch 22/50\n",
      "300/300 [==============================] - 97s 323ms/step - loss: 0.2778 - accuracy: 0.9097 - val_loss: 0.2560 - val_accuracy: 0.9187\n",
      "Epoch 23/50\n",
      "300/300 [==============================] - 94s 315ms/step - loss: 0.2735 - accuracy: 0.9112 - val_loss: 0.2534 - val_accuracy: 0.9201\n",
      "Epoch 24/50\n",
      "300/300 [==============================] - 90s 301ms/step - loss: 0.2701 - accuracy: 0.9123 - val_loss: 0.2514 - val_accuracy: 0.9208\n",
      "Epoch 25/50\n",
      "300/300 [==============================] - 93s 311ms/step - loss: 0.2668 - accuracy: 0.9130 - val_loss: 0.2501 - val_accuracy: 0.9211\n",
      "Epoch 26/50\n",
      "300/300 [==============================] - 90s 301ms/step - loss: 0.2650 - accuracy: 0.9141 - val_loss: 0.2485 - val_accuracy: 0.9221\n",
      "Epoch 27/50\n",
      "300/300 [==============================] - 91s 303ms/step - loss: 0.2628 - accuracy: 0.9144 - val_loss: 0.2474 - val_accuracy: 0.9226\n",
      "Epoch 28/50\n",
      "300/300 [==============================] - 90s 299ms/step - loss: 0.2600 - accuracy: 0.9157 - val_loss: 0.2460 - val_accuracy: 0.9226\n",
      "Epoch 29/50\n",
      "300/300 [==============================] - 92s 307ms/step - loss: 0.2588 - accuracy: 0.9157 - val_loss: 0.2453 - val_accuracy: 0.9229\n",
      "Epoch 30/50\n",
      "300/300 [==============================] - 89s 298ms/step - loss: 0.2582 - accuracy: 0.9161 - val_loss: 0.2447 - val_accuracy: 0.9230\n",
      "Epoch 31/50\n",
      "300/300 [==============================] - 91s 302ms/step - loss: 0.2568 - accuracy: 0.9157 - val_loss: 0.2435 - val_accuracy: 0.9236\n",
      "Epoch 32/50\n",
      "300/300 [==============================] - 90s 299ms/step - loss: 0.2550 - accuracy: 0.9167 - val_loss: 0.2426 - val_accuracy: 0.9234\n",
      "Epoch 33/50\n",
      "300/300 [==============================] - 90s 299ms/step - loss: 0.2534 - accuracy: 0.9176 - val_loss: 0.2420 - val_accuracy: 0.9238\n",
      "Epoch 34/50\n",
      "300/300 [==============================] - 88s 293ms/step - loss: 0.2518 - accuracy: 0.9183 - val_loss: 0.2414 - val_accuracy: 0.9237\n",
      "Epoch 35/50\n",
      "300/300 [==============================] - 88s 293ms/step - loss: 0.2512 - accuracy: 0.9187 - val_loss: 0.2406 - val_accuracy: 0.9240\n",
      "Epoch 36/50\n",
      "300/300 [==============================] - 89s 295ms/step - loss: 0.2500 - accuracy: 0.9190 - val_loss: 0.2401 - val_accuracy: 0.9237\n",
      "Epoch 37/50\n",
      "300/300 [==============================] - 88s 293ms/step - loss: 0.2479 - accuracy: 0.9193 - val_loss: 0.2391 - val_accuracy: 0.9243\n",
      "Epoch 38/50\n",
      "300/300 [==============================] - 88s 293ms/step - loss: 0.2468 - accuracy: 0.9202 - val_loss: 0.2386 - val_accuracy: 0.9243\n",
      "Epoch 39/50\n",
      "300/300 [==============================] - 89s 298ms/step - loss: 0.2470 - accuracy: 0.9198 - val_loss: 0.2380 - val_accuracy: 0.9247\n",
      "Epoch 40/50\n",
      "300/300 [==============================] - 88s 293ms/step - loss: 0.2464 - accuracy: 0.9202 - val_loss: 0.2375 - val_accuracy: 0.9250\n",
      "Epoch 41/50\n",
      "300/300 [==============================] - 88s 293ms/step - loss: 0.2443 - accuracy: 0.9205 - val_loss: 0.2366 - val_accuracy: 0.9250\n",
      "Epoch 42/50\n",
      "300/300 [==============================] - 88s 293ms/step - loss: 0.2434 - accuracy: 0.9213 - val_loss: 0.2365 - val_accuracy: 0.9255\n",
      "Epoch 43/50\n",
      "300/300 [==============================] - 88s 293ms/step - loss: 0.2427 - accuracy: 0.9210 - val_loss: 0.2362 - val_accuracy: 0.9257\n",
      "Epoch 44/50\n",
      "300/300 [==============================] - 86s 287ms/step - loss: 0.2409 - accuracy: 0.9216 - val_loss: 0.2353 - val_accuracy: 0.9256\n",
      "Epoch 45/50\n",
      "300/300 [==============================] - 86s 287ms/step - loss: 0.2412 - accuracy: 0.9212 - val_loss: 0.2347 - val_accuracy: 0.9257\n",
      "Epoch 46/50\n",
      "300/300 [==============================] - 87s 289ms/step - loss: 0.2400 - accuracy: 0.9216 - val_loss: 0.2347 - val_accuracy: 0.9259\n",
      "Epoch 47/50\n",
      "300/300 [==============================] - 86s 287ms/step - loss: 0.2402 - accuracy: 0.9219 - val_loss: 0.2344 - val_accuracy: 0.9260\n",
      "Epoch 48/50\n",
      "300/300 [==============================] - 86s 287ms/step - loss: 0.2373 - accuracy: 0.9230 - val_loss: 0.2336 - val_accuracy: 0.9264\n",
      "Epoch 49/50\n",
      "300/300 [==============================] - 87s 289ms/step - loss: 0.2384 - accuracy: 0.9225 - val_loss: 0.2331 - val_accuracy: 0.9262\n",
      "Epoch 50/50\n",
      "300/300 [==============================] - 86s 287ms/step - loss: 0.2373 - accuracy: 0.9229 - val_loss: 0.2326 - val_accuracy: 0.9264\n"
     ]
    }
   ],
   "source": [
    "reduce_lr = ReduceLROnPlateau(patience =3, factor = 0.01, weightdecay = 0.05, verbose = 1) \n",
    "early_stopping = keras.callbacks.EarlyStopping(monitor=\"val_loss\", \n",
    "                                               patience=10, restore_best_weights=True)\n",
    "#train model\n",
    "history = model.fit(x_train_ran, y_train_ran, epochs=50, verbose=1, batch_size=200, \n",
    "          validation_data=(x_verify_ran, y_verify_ran), callbacks=[early_stopping, reduce_lr ])"
   ]
  },
  {
   "cell_type": "code",
   "execution_count": 9,
   "metadata": {},
   "outputs": [
    {
     "data": {
      "application/vnd.plotly.v1+json": {
       "config": {
        "plotlyServerURL": "https://plot.ly"
       },
       "data": [
        {
         "line": {
          "color": "blue"
         },
         "mode": "lines",
         "name": "Train",
         "type": "scatter",
         "x": [
          1,
          2,
          3,
          4,
          5,
          6,
          7,
          8,
          9,
          10,
          11,
          12,
          13,
          14,
          15,
          16,
          17,
          18,
          19,
          20,
          21,
          22,
          23,
          24,
          25,
          26,
          27,
          28,
          29,
          30,
          31,
          32,
          33,
          34,
          35,
          36,
          37,
          38,
          39,
          40,
          41,
          42,
          43,
          44,
          45,
          46,
          47,
          48,
          49,
          50
         ],
         "xaxis": "x",
         "y": [
          0.6261266469955444,
          0.8123266696929932,
          0.8507333397865295,
          0.8658633232116699,
          0.8747866749763489,
          0.8812466859817505,
          0.8853966593742371,
          0.8874933123588562,
          0.8892199993133545,
          0.891569972038269,
          0.8905566930770874,
          0.8920266628265381,
          0.891343355178833,
          0.8938999772071838,
          0.8952900171279907,
          0.8946066498756409,
          0.8942833542823792,
          0.8946300148963928,
          0.8950933218002319,
          0.9034866690635681,
          0.907813310623169,
          0.9096699953079224,
          0.9111899733543396,
          0.9123366475105286,
          0.9130033254623413,
          0.9141299724578857,
          0.9143700003623962,
          0.9157466888427734,
          0.9157366752624512,
          0.9160966873168945,
          0.9156799912452698,
          0.9166566729545593,
          0.9175900220870972,
          0.9183300137519836,
          0.9187066555023193,
          0.9189599752426147,
          0.9192666411399841,
          0.920229971408844,
          0.9197800159454346,
          0.9201833605766296,
          0.9205266833305359,
          0.9212733507156372,
          0.9210233092308044,
          0.9216266870498657,
          0.9212499856948853,
          0.9216366410255432,
          0.9218966960906982,
          0.9229599833488464,
          0.9224633574485779,
          0.9229333400726318
         ],
         "yaxis": "y"
        },
        {
         "line": {
          "color": "orange"
         },
         "mode": "lines",
         "name": "Validation",
         "type": "scatter",
         "x": [
          1,
          2,
          3,
          4,
          5,
          6,
          7,
          8,
          9,
          10,
          11,
          12,
          13,
          14,
          15,
          16,
          17,
          18,
          19,
          20,
          21,
          22,
          23,
          24,
          25,
          26,
          27,
          28,
          29,
          30,
          31,
          32,
          33,
          34,
          35,
          36,
          37,
          38,
          39,
          40,
          41,
          42,
          43,
          44,
          45,
          46,
          47,
          48,
          49,
          50
         ],
         "xaxis": "x",
         "y": [
          0.7937300205230713,
          0.8590400218963623,
          0.8784099817276001,
          0.892300009727478,
          0.8956300020217896,
          0.8963099718093872,
          0.9036499857902527,
          0.9028000235557556,
          0.9053800106048584,
          0.9064800143241882,
          0.9096999764442444,
          0.9079800248146057,
          0.9077500104904175,
          0.908810019493103,
          0.9026100039482117,
          0.9128199815750122,
          0.9027000069618225,
          0.9085299968719482,
          0.9108700156211853,
          0.9166799783706665,
          0.91771000623703,
          0.9186999797821045,
          0.9200500249862671,
          0.9207800030708313,
          0.9211000204086304,
          0.9220600128173828,
          0.922569990158081,
          0.9226199984550476,
          0.9229400157928467,
          0.9230300188064575,
          0.9235600233078003,
          0.9234300255775452,
          0.9238499999046326,
          0.9237499833106995,
          0.9239500164985657,
          0.9236699938774109,
          0.924340009689331,
          0.9243299961090088,
          0.9246600270271301,
          0.9249899983406067,
          0.9249699711799622,
          0.9254900217056274,
          0.9257400035858154,
          0.9256299734115601,
          0.9256899952888489,
          0.9258999824523926,
          0.9259999990463257,
          0.9264199733734131,
          0.9261599779129028,
          0.9264400005340576
         ],
         "yaxis": "y"
        },
        {
         "line": {
          "color": "blue"
         },
         "mode": "lines",
         "name": "Train",
         "showlegend": false,
         "type": "scatter",
         "x": [
          1,
          2,
          3,
          4,
          5,
          6,
          7,
          8,
          9,
          10,
          11,
          12,
          13,
          14,
          15,
          16,
          17,
          18,
          19,
          20,
          21,
          22,
          23,
          24,
          25,
          26,
          27,
          28,
          29,
          30,
          31,
          32,
          33,
          34,
          35,
          36,
          37,
          38,
          39,
          40,
          41,
          42,
          43,
          44,
          45,
          46,
          47,
          48,
          49,
          50
         ],
         "xaxis": "x2",
         "y": [
          1.0726441144943237,
          0.5632548928260803,
          0.4550277590751648,
          0.4098600149154663,
          0.3823511302471161,
          0.3644372820854187,
          0.3520126938819885,
          0.3455609381198883,
          0.33956465125083923,
          0.3339894115924835,
          0.33593958616256714,
          0.33067089319229126,
          0.3321017324924469,
          0.3276132047176361,
          0.32275912165641785,
          0.3248565196990967,
          0.3252808153629303,
          0.3261397182941437,
          0.3226313292980194,
          0.29741370677948,
          0.2836696207523346,
          0.2778429687023163,
          0.273484468460083,
          0.2700553238391876,
          0.2667531371116638,
          0.26503100991249084,
          0.2627600133419037,
          0.2600082457065582,
          0.2587657570838928,
          0.2581847608089447,
          0.2567934989929199,
          0.25502973794937134,
          0.2534080147743225,
          0.2517911195755005,
          0.25119611620903015,
          0.24995388090610504,
          0.24789142608642578,
          0.24683840572834015,
          0.24697639048099518,
          0.2464340478181839,
          0.24432234466075897,
          0.24336908757686615,
          0.2427465170621872,
          0.2409338802099228,
          0.24124570190906525,
          0.23997439444065094,
          0.24023586511611938,
          0.2373383492231369,
          0.23843610286712646,
          0.23729979991912842
         ],
         "yaxis": "y2"
        },
        {
         "line": {
          "color": "orange"
         },
         "mode": "lines",
         "name": "Validation",
         "showlegend": false,
         "type": "scatter",
         "x": [
          1,
          2,
          3,
          4,
          5,
          6,
          7,
          8,
          9,
          10,
          11,
          12,
          13,
          14,
          15,
          16,
          17,
          18,
          19,
          20,
          21,
          22,
          23,
          24,
          25,
          26,
          27,
          28,
          29,
          30,
          31,
          32,
          33,
          34,
          35,
          36,
          37,
          38,
          39,
          40,
          41,
          42,
          43,
          44,
          45,
          46,
          47,
          48,
          49,
          50
         ],
         "xaxis": "x2",
         "y": [
          0.6162113547325134,
          0.4322904348373413,
          0.37902238965034485,
          0.3331465721130371,
          0.32307326793670654,
          0.32411277294158936,
          0.30224665999412537,
          0.30474045872688293,
          0.294510155916214,
          0.29435914754867554,
          0.2865426242351532,
          0.28547927737236023,
          0.2877728343009949,
          0.2848412096500397,
          0.3080446720123291,
          0.2745283544063568,
          0.3112882971763611,
          0.28768405318260193,
          0.28199759125709534,
          0.26392680406570435,
          0.2592826783657074,
          0.2559874951839447,
          0.253368079662323,
          0.2513529360294342,
          0.2500726282596588,
          0.24853044748306274,
          0.24739232659339905,
          0.24599000811576843,
          0.2453434020280838,
          0.24472443759441376,
          0.24346059560775757,
          0.2426362782716751,
          0.24204760789871216,
          0.24141652882099152,
          0.24059748649597168,
          0.24011024832725525,
          0.23910553753376007,
          0.2386256903409958,
          0.23795713484287262,
          0.23748251795768738,
          0.236578568816185,
          0.23651179671287537,
          0.2362082451581955,
          0.2353389859199524,
          0.23466867208480835,
          0.23471838235855103,
          0.2343766838312149,
          0.23362769186496735,
          0.23307128250598907,
          0.23259201645851135
         ],
         "yaxis": "y2"
        }
       ],
       "layout": {
        "annotations": [
         {
          "font": {
           "size": 16
          },
          "showarrow": false,
          "text": "Model accuracy",
          "x": 0.225,
          "xanchor": "center",
          "xref": "paper",
          "y": 1,
          "yanchor": "bottom",
          "yref": "paper"
         },
         {
          "font": {
           "size": 16
          },
          "showarrow": false,
          "text": "Model loss",
          "x": 0.775,
          "xanchor": "center",
          "xref": "paper",
          "y": 1,
          "yanchor": "bottom",
          "yref": "paper"
         }
        ],
        "legend": {
         "x": 0.85,
         "y": 1
        },
        "template": {
         "data": {
          "bar": [
           {
            "error_x": {
             "color": "#2a3f5f"
            },
            "error_y": {
             "color": "#2a3f5f"
            },
            "marker": {
             "line": {
              "color": "#E5ECF6",
              "width": 0.5
             },
             "pattern": {
              "fillmode": "overlay",
              "size": 10,
              "solidity": 0.2
             }
            },
            "type": "bar"
           }
          ],
          "barpolar": [
           {
            "marker": {
             "line": {
              "color": "#E5ECF6",
              "width": 0.5
             },
             "pattern": {
              "fillmode": "overlay",
              "size": 10,
              "solidity": 0.2
             }
            },
            "type": "barpolar"
           }
          ],
          "carpet": [
           {
            "aaxis": {
             "endlinecolor": "#2a3f5f",
             "gridcolor": "white",
             "linecolor": "white",
             "minorgridcolor": "white",
             "startlinecolor": "#2a3f5f"
            },
            "baxis": {
             "endlinecolor": "#2a3f5f",
             "gridcolor": "white",
             "linecolor": "white",
             "minorgridcolor": "white",
             "startlinecolor": "#2a3f5f"
            },
            "type": "carpet"
           }
          ],
          "choropleth": [
           {
            "colorbar": {
             "outlinewidth": 0,
             "ticks": ""
            },
            "type": "choropleth"
           }
          ],
          "contour": [
           {
            "colorbar": {
             "outlinewidth": 0,
             "ticks": ""
            },
            "colorscale": [
             [
              0,
              "#0d0887"
             ],
             [
              0.1111111111111111,
              "#46039f"
             ],
             [
              0.2222222222222222,
              "#7201a8"
             ],
             [
              0.3333333333333333,
              "#9c179e"
             ],
             [
              0.4444444444444444,
              "#bd3786"
             ],
             [
              0.5555555555555556,
              "#d8576b"
             ],
             [
              0.6666666666666666,
              "#ed7953"
             ],
             [
              0.7777777777777778,
              "#fb9f3a"
             ],
             [
              0.8888888888888888,
              "#fdca26"
             ],
             [
              1,
              "#f0f921"
             ]
            ],
            "type": "contour"
           }
          ],
          "contourcarpet": [
           {
            "colorbar": {
             "outlinewidth": 0,
             "ticks": ""
            },
            "type": "contourcarpet"
           }
          ],
          "heatmap": [
           {
            "colorbar": {
             "outlinewidth": 0,
             "ticks": ""
            },
            "colorscale": [
             [
              0,
              "#0d0887"
             ],
             [
              0.1111111111111111,
              "#46039f"
             ],
             [
              0.2222222222222222,
              "#7201a8"
             ],
             [
              0.3333333333333333,
              "#9c179e"
             ],
             [
              0.4444444444444444,
              "#bd3786"
             ],
             [
              0.5555555555555556,
              "#d8576b"
             ],
             [
              0.6666666666666666,
              "#ed7953"
             ],
             [
              0.7777777777777778,
              "#fb9f3a"
             ],
             [
              0.8888888888888888,
              "#fdca26"
             ],
             [
              1,
              "#f0f921"
             ]
            ],
            "type": "heatmap"
           }
          ],
          "heatmapgl": [
           {
            "colorbar": {
             "outlinewidth": 0,
             "ticks": ""
            },
            "colorscale": [
             [
              0,
              "#0d0887"
             ],
             [
              0.1111111111111111,
              "#46039f"
             ],
             [
              0.2222222222222222,
              "#7201a8"
             ],
             [
              0.3333333333333333,
              "#9c179e"
             ],
             [
              0.4444444444444444,
              "#bd3786"
             ],
             [
              0.5555555555555556,
              "#d8576b"
             ],
             [
              0.6666666666666666,
              "#ed7953"
             ],
             [
              0.7777777777777778,
              "#fb9f3a"
             ],
             [
              0.8888888888888888,
              "#fdca26"
             ],
             [
              1,
              "#f0f921"
             ]
            ],
            "type": "heatmapgl"
           }
          ],
          "histogram": [
           {
            "marker": {
             "pattern": {
              "fillmode": "overlay",
              "size": 10,
              "solidity": 0.2
             }
            },
            "type": "histogram"
           }
          ],
          "histogram2d": [
           {
            "colorbar": {
             "outlinewidth": 0,
             "ticks": ""
            },
            "colorscale": [
             [
              0,
              "#0d0887"
             ],
             [
              0.1111111111111111,
              "#46039f"
             ],
             [
              0.2222222222222222,
              "#7201a8"
             ],
             [
              0.3333333333333333,
              "#9c179e"
             ],
             [
              0.4444444444444444,
              "#bd3786"
             ],
             [
              0.5555555555555556,
              "#d8576b"
             ],
             [
              0.6666666666666666,
              "#ed7953"
             ],
             [
              0.7777777777777778,
              "#fb9f3a"
             ],
             [
              0.8888888888888888,
              "#fdca26"
             ],
             [
              1,
              "#f0f921"
             ]
            ],
            "type": "histogram2d"
           }
          ],
          "histogram2dcontour": [
           {
            "colorbar": {
             "outlinewidth": 0,
             "ticks": ""
            },
            "colorscale": [
             [
              0,
              "#0d0887"
             ],
             [
              0.1111111111111111,
              "#46039f"
             ],
             [
              0.2222222222222222,
              "#7201a8"
             ],
             [
              0.3333333333333333,
              "#9c179e"
             ],
             [
              0.4444444444444444,
              "#bd3786"
             ],
             [
              0.5555555555555556,
              "#d8576b"
             ],
             [
              0.6666666666666666,
              "#ed7953"
             ],
             [
              0.7777777777777778,
              "#fb9f3a"
             ],
             [
              0.8888888888888888,
              "#fdca26"
             ],
             [
              1,
              "#f0f921"
             ]
            ],
            "type": "histogram2dcontour"
           }
          ],
          "mesh3d": [
           {
            "colorbar": {
             "outlinewidth": 0,
             "ticks": ""
            },
            "type": "mesh3d"
           }
          ],
          "parcoords": [
           {
            "line": {
             "colorbar": {
              "outlinewidth": 0,
              "ticks": ""
             }
            },
            "type": "parcoords"
           }
          ],
          "pie": [
           {
            "automargin": true,
            "type": "pie"
           }
          ],
          "scatter": [
           {
            "fillpattern": {
             "fillmode": "overlay",
             "size": 10,
             "solidity": 0.2
            },
            "type": "scatter"
           }
          ],
          "scatter3d": [
           {
            "line": {
             "colorbar": {
              "outlinewidth": 0,
              "ticks": ""
             }
            },
            "marker": {
             "colorbar": {
              "outlinewidth": 0,
              "ticks": ""
             }
            },
            "type": "scatter3d"
           }
          ],
          "scattercarpet": [
           {
            "marker": {
             "colorbar": {
              "outlinewidth": 0,
              "ticks": ""
             }
            },
            "type": "scattercarpet"
           }
          ],
          "scattergeo": [
           {
            "marker": {
             "colorbar": {
              "outlinewidth": 0,
              "ticks": ""
             }
            },
            "type": "scattergeo"
           }
          ],
          "scattergl": [
           {
            "marker": {
             "colorbar": {
              "outlinewidth": 0,
              "ticks": ""
             }
            },
            "type": "scattergl"
           }
          ],
          "scattermapbox": [
           {
            "marker": {
             "colorbar": {
              "outlinewidth": 0,
              "ticks": ""
             }
            },
            "type": "scattermapbox"
           }
          ],
          "scatterpolar": [
           {
            "marker": {
             "colorbar": {
              "outlinewidth": 0,
              "ticks": ""
             }
            },
            "type": "scatterpolar"
           }
          ],
          "scatterpolargl": [
           {
            "marker": {
             "colorbar": {
              "outlinewidth": 0,
              "ticks": ""
             }
            },
            "type": "scatterpolargl"
           }
          ],
          "scatterternary": [
           {
            "marker": {
             "colorbar": {
              "outlinewidth": 0,
              "ticks": ""
             }
            },
            "type": "scatterternary"
           }
          ],
          "surface": [
           {
            "colorbar": {
             "outlinewidth": 0,
             "ticks": ""
            },
            "colorscale": [
             [
              0,
              "#0d0887"
             ],
             [
              0.1111111111111111,
              "#46039f"
             ],
             [
              0.2222222222222222,
              "#7201a8"
             ],
             [
              0.3333333333333333,
              "#9c179e"
             ],
             [
              0.4444444444444444,
              "#bd3786"
             ],
             [
              0.5555555555555556,
              "#d8576b"
             ],
             [
              0.6666666666666666,
              "#ed7953"
             ],
             [
              0.7777777777777778,
              "#fb9f3a"
             ],
             [
              0.8888888888888888,
              "#fdca26"
             ],
             [
              1,
              "#f0f921"
             ]
            ],
            "type": "surface"
           }
          ],
          "table": [
           {
            "cells": {
             "fill": {
              "color": "#EBF0F8"
             },
             "line": {
              "color": "white"
             }
            },
            "header": {
             "fill": {
              "color": "#C8D4E3"
             },
             "line": {
              "color": "white"
             }
            },
            "type": "table"
           }
          ]
         },
         "layout": {
          "annotationdefaults": {
           "arrowcolor": "#2a3f5f",
           "arrowhead": 0,
           "arrowwidth": 1
          },
          "autotypenumbers": "strict",
          "coloraxis": {
           "colorbar": {
            "outlinewidth": 0,
            "ticks": ""
           }
          },
          "colorscale": {
           "diverging": [
            [
             0,
             "#8e0152"
            ],
            [
             0.1,
             "#c51b7d"
            ],
            [
             0.2,
             "#de77ae"
            ],
            [
             0.3,
             "#f1b6da"
            ],
            [
             0.4,
             "#fde0ef"
            ],
            [
             0.5,
             "#f7f7f7"
            ],
            [
             0.6,
             "#e6f5d0"
            ],
            [
             0.7,
             "#b8e186"
            ],
            [
             0.8,
             "#7fbc41"
            ],
            [
             0.9,
             "#4d9221"
            ],
            [
             1,
             "#276419"
            ]
           ],
           "sequential": [
            [
             0,
             "#0d0887"
            ],
            [
             0.1111111111111111,
             "#46039f"
            ],
            [
             0.2222222222222222,
             "#7201a8"
            ],
            [
             0.3333333333333333,
             "#9c179e"
            ],
            [
             0.4444444444444444,
             "#bd3786"
            ],
            [
             0.5555555555555556,
             "#d8576b"
            ],
            [
             0.6666666666666666,
             "#ed7953"
            ],
            [
             0.7777777777777778,
             "#fb9f3a"
            ],
            [
             0.8888888888888888,
             "#fdca26"
            ],
            [
             1,
             "#f0f921"
            ]
           ],
           "sequentialminus": [
            [
             0,
             "#0d0887"
            ],
            [
             0.1111111111111111,
             "#46039f"
            ],
            [
             0.2222222222222222,
             "#7201a8"
            ],
            [
             0.3333333333333333,
             "#9c179e"
            ],
            [
             0.4444444444444444,
             "#bd3786"
            ],
            [
             0.5555555555555556,
             "#d8576b"
            ],
            [
             0.6666666666666666,
             "#ed7953"
            ],
            [
             0.7777777777777778,
             "#fb9f3a"
            ],
            [
             0.8888888888888888,
             "#fdca26"
            ],
            [
             1,
             "#f0f921"
            ]
           ]
          },
          "colorway": [
           "#636efa",
           "#EF553B",
           "#00cc96",
           "#ab63fa",
           "#FFA15A",
           "#19d3f3",
           "#FF6692",
           "#B6E880",
           "#FF97FF",
           "#FECB52"
          ],
          "font": {
           "color": "#2a3f5f"
          },
          "geo": {
           "bgcolor": "white",
           "lakecolor": "white",
           "landcolor": "#E5ECF6",
           "showlakes": true,
           "showland": true,
           "subunitcolor": "white"
          },
          "hoverlabel": {
           "align": "left"
          },
          "hovermode": "closest",
          "mapbox": {
           "style": "light"
          },
          "paper_bgcolor": "white",
          "plot_bgcolor": "#E5ECF6",
          "polar": {
           "angularaxis": {
            "gridcolor": "white",
            "linecolor": "white",
            "ticks": ""
           },
           "bgcolor": "#E5ECF6",
           "radialaxis": {
            "gridcolor": "white",
            "linecolor": "white",
            "ticks": ""
           }
          },
          "scene": {
           "xaxis": {
            "backgroundcolor": "#E5ECF6",
            "gridcolor": "white",
            "gridwidth": 2,
            "linecolor": "white",
            "showbackground": true,
            "ticks": "",
            "zerolinecolor": "white"
           },
           "yaxis": {
            "backgroundcolor": "#E5ECF6",
            "gridcolor": "white",
            "gridwidth": 2,
            "linecolor": "white",
            "showbackground": true,
            "ticks": "",
            "zerolinecolor": "white"
           },
           "zaxis": {
            "backgroundcolor": "#E5ECF6",
            "gridcolor": "white",
            "gridwidth": 2,
            "linecolor": "white",
            "showbackground": true,
            "ticks": "",
            "zerolinecolor": "white"
           }
          },
          "shapedefaults": {
           "line": {
            "color": "#2a3f5f"
           }
          },
          "ternary": {
           "aaxis": {
            "gridcolor": "white",
            "linecolor": "white",
            "ticks": ""
           },
           "baxis": {
            "gridcolor": "white",
            "linecolor": "white",
            "ticks": ""
           },
           "bgcolor": "#E5ECF6",
           "caxis": {
            "gridcolor": "white",
            "linecolor": "white",
            "ticks": ""
           }
          },
          "title": {
           "x": 0.05
          },
          "xaxis": {
           "automargin": true,
           "gridcolor": "white",
           "linecolor": "white",
           "ticks": "",
           "title": {
            "standoff": 15
           },
           "zerolinecolor": "white",
           "zerolinewidth": 2
          },
          "yaxis": {
           "automargin": true,
           "gridcolor": "white",
           "linecolor": "white",
           "ticks": "",
           "title": {
            "standoff": 15
           },
           "zerolinecolor": "white",
           "zerolinewidth": 2
          }
         }
        },
        "title": {
         "text": "Model Training History"
        },
        "xaxis": {
         "anchor": "y",
         "domain": [
          0,
          0.45
         ],
         "title": {
          "text": "Epoch"
         }
        },
        "xaxis2": {
         "anchor": "y2",
         "domain": [
          0.55,
          1
         ]
        },
        "yaxis": {
         "anchor": "x",
         "domain": [
          0,
          1
         ],
         "title": {
          "text": "Value"
         }
        },
        "yaxis2": {
         "anchor": "x2",
         "domain": [
          0,
          1
         ]
        }
       }
      }
     },
     "metadata": {},
     "output_type": "display_data"
    }
   ],
   "source": [
    "import plotly.graph_objects as go\n",
    "from plotly.subplots import make_subplots\n",
    "\n",
    "fig = make_subplots(rows=1, cols=2, subplot_titles=(\"Model accuracy\", \"Model loss\"))\n",
    "\n",
    "# Add the first subplot for accuracy\n",
    "fig.add_trace(go.Scatter(x=list(range(1, len(history.history['accuracy']) + 1)),\n",
    "                         y=history.history['accuracy'], mode='lines',\n",
    "                         name='Train', line=dict(color='blue')), row=1, col=1)\n",
    "fig.add_trace(go.Scatter(x=list(range(1, len(history.history['val_accuracy']) + 1)),\n",
    "                         y=history.history['val_accuracy'], mode='lines',\n",
    "                         name='Validation', line=dict(color='orange')), row=1, col=1)\n",
    "\n",
    "# Add the second subplot for loss\n",
    "fig.add_trace(go.Scatter(x=list(range(1, len(history.history['loss']) + 1)),\n",
    "                         y=history.history['loss'], mode='lines',\n",
    "                         name='Train', line=dict(color='blue'), showlegend=False), row=1, col=2)\n",
    "fig.add_trace(go.Scatter(x=list(range(1, len(history.history['val_loss']) + 1)),\n",
    "                         y=history.history['val_loss'], mode='lines',\n",
    "                         name='Validation', line=dict(color='orange'), showlegend=False), row=1, col=2)\n",
    "\n",
    "fig.update_layout(title=\"Model Training History\",\n",
    "                  xaxis_title=\"Epoch\",\n",
    "                  yaxis_title=\"Value\",\n",
    "                  legend=dict(x=0.85, y=1))\n",
    "\n",
    "fig.show()"
   ]
  },
  {
   "cell_type": "code",
   "execution_count": 10,
   "metadata": {},
   "outputs": [
    {
     "name": "stdout",
     "output_type": "stream",
     "text": [
      "625/625 [==============================] - 10s 16ms/step - loss: 0.2359 - accuracy: 0.9247\n",
      "Test Accuracy: 92.47%\n"
     ]
    }
   ],
   "source": [
    "# Evaluate the model on the test dataset\n",
    "test_loss, test_accuracy = model.evaluate(x_test_ran, y_test_ran)\n",
    "print(f'Test Accuracy: {test_accuracy * 100:.2f}%')"
   ]
  },
  {
   "cell_type": "code",
   "execution_count": 36,
   "metadata": {},
   "outputs": [],
   "source": [
    "y_pred = model.predict(x_test_ran) \n",
    "y_pred = np.argmax(y_pred, axis=2)\n",
    "y_ture = np.argmax(y_test_ran, axis=2)"
   ]
  },
  {
   "cell_type": "code",
   "execution_count": 53,
   "metadata": {},
   "outputs": [],
   "source": [
    "str_arr = y_pred.astype(str)\n",
    "str_arr = np.where(str_arr == '10', '', str_arr)\n",
    "y_test_pred  = [''.join(row) for row in str_arr]\n",
    "y_test_pred  = np.array(y_test_pred)"
   ]
  },
  {
   "cell_type": "code",
   "execution_count": 55,
   "metadata": {},
   "outputs": [
    {
     "name": "stdout",
     "output_type": "stream",
     "text": [
      "Label:['40071']; Predicted:40171\n"
     ]
    },
    {
     "data": {
      "image/png": "[encoded data removed]",
      "text/plain": [
       "<PIL.Image.Image image mode=L size=100x28>"
      ]
     },
     "metadata": {},
     "output_type": "display_data"
    },
    {
     "name": "stdout",
     "output_type": "stream",
     "text": [
      "Label:['1']; Predicted:1\n"
     ]
    },
    {
     "data": {
      "image/png": "[encoded data removed]",
      "text/plain": [
       "<PIL.Image.Image image mode=L size=100x28>"
      ]
     },
     "metadata": {},
     "output_type": "display_data"
    },
    {
     "name": "stdout",
     "output_type": "stream",
     "text": [
      "Label:['43']; Predicted:43\n"
     ]
    },
    {
     "data": {
      "image/png": "[encoded data removed]",
      "text/plain": [
       "<PIL.Image.Image image mode=L size=100x28>"
      ]
     },
     "metadata": {},
     "output_type": "display_data"
    },
    {
     "name": "stdout",
     "output_type": "stream",
     "text": [
      "Label:['616']; Predicted:616\n"
     ]
    },
    {
     "data": {
      "image/png": "[encoded data removed]",
      "text/plain": [
       "<PIL.Image.Image image mode=L size=100x28>"
      ]
     },
     "metadata": {},
     "output_type": "display_data"
    },
    {
     "name": "stdout",
     "output_type": "stream",
     "text": [
      "Label:['9']; Predicted:9\n"
     ]
    },
    {
     "data": {
      "image/png": "[encoded data removed]",
      "text/plain": [
       "<PIL.Image.Image image mode=L size=100x28>"
      ]
     },
     "metadata": {},
     "output_type": "display_data"
    },
    {
     "name": "stdout",
     "output_type": "stream",
     "text": [
      "Label:['84']; Predicted:84\n"
     ]
    },
    {
     "data": {
      "image/png": "[encoded data removed]",
      "text/plain": [
       "<PIL.Image.Image image mode=L size=100x28>"
      ]
     },
     "metadata": {},
     "output_type": "display_data"
    },
    {
     "name": "stdout",
     "output_type": "stream",
     "text": [
      "Label:['1']; Predicted:1\n"
     ]
    },
    {
     "data": {
      "image/png": "[encoded data removed]",
      "text/plain": [
       "<PIL.Image.Image image mode=L size=100x28>"
      ]
     },
     "metadata": {},
     "output_type": "display_data"
    },
    {
     "name": "stdout",
     "output_type": "stream",
     "text": [
      "Label:['54745']; Predicted:54745\n"
     ]
    },
    {
     "data": {
      "image/png": "[encoded data removed]",
      "text/plain": [
       "<PIL.Image.Image image mode=L size=100x28>"
      ]
     },
     "metadata": {},
     "output_type": "display_data"
    },
    {
     "name": "stdout",
     "output_type": "stream",
     "text": [
      "Label:['0']; Predicted:0\n"
     ]
    },
    {
     "data": {
      "image/png": "[encoded data removed]",
      "text/plain": [
       "<PIL.Image.Image image mode=L size=100x28>"
      ]
     },
     "metadata": {},
     "output_type": "display_data"
    },
    {
     "name": "stdout",
     "output_type": "stream",
     "text": [
      "Label:['84']; Predicted:84\n"
     ]
    },
    {
     "data": {
      "image/png": "[encoded data removed]",
      "text/plain": [
       "<PIL.Image.Image image mode=L size=100x28>"
      ]
     },
     "metadata": {},
     "output_type": "display_data"
    }
   ],
   "source": [
    "for id_n in np.random.randint(0, len(y_test_random),10):\n",
    "    image_data = (np.squeeze(x_test_ran[id_n]) * 255).astype('uint8')\n",
    "    image = Image.fromarray(image_data, 'L')\n",
    "    title = f\"Label:{y_test_random[id_n]}; Predicted:{y_test_pred[id_n]}\"\n",
    "    print(title)\n",
    "    display(image)"
   ]
  },
  {
   "cell_type": "code",
   "execution_count": 52,
   "metadata": {},
   "outputs": [
    {
     "name": "stdout",
     "output_type": "stream",
     "text": [
      "100\n",
      "Images saved successfully.\n"
     ]
    }
   ],
   "source": [
    "from PIL import Image, ImageDraw, ImageFont\n",
    "import numpy as np\n",
    "\n",
    "id = list(range(len(x_test)))\n",
    "\n",
    "np.random.shuffle(id)\n",
    "id_exam=id[:100]\n",
    "print(len(id_exam))\n",
    "for h in id_exam:\n",
    "    image_data = (np.squeeze(x_test_ran[h]) * 255).astype('uint8')\n",
    "    image = Image.fromarray(image_data, 'L')\n",
    "    draw = ImageDraw.Draw(image)\n",
    "    font = ImageFont.load_default() \n",
    "    title=f\"Lab_{y_test_random[h]}-Pre_{y_test_pred[h]}\"\n",
    "    name=title.replace(\" \", \"\")\n",
    "    name=name.replace(\"[\", \"\")\n",
    "    name=name.replace(\"]\", \"\")\n",
    "    file_name = \"E:/pythonfile/images-cate/\"+name+\".png\"\n",
    "    image.save(file_name)\n",
    "\n",
    "print(\"Images saved successfully.\")"
   ]
  }
 ],
 "metadata": {
  "kernelspec": {
   "display_name": "anacondaTensorflow",
   "language": "python",
   "name": "python3"
  },
  "language_info": {
   "codemirror_mode": {
    "name": "ipython",
    "version": 3
   },
   "file_extension": ".py",
   "mimetype": "text/x-python",
   "name": "python",
   "nbconvert_exporter": "python",
   "pygments_lexer": "ipython3",
   "version": "3.8.17"
  }
 },
 "nbformat": 4,
 "nbformat_minor": 2
}
