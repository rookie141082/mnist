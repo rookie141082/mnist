{
 "cells": [
  {
   "cell_type": "code",
   "execution_count": 1,
   "metadata": {},
   "outputs": [],
   "source": [
    "import numpy as np\n",
    "import tensorflow as tf\n",
    "from tensorflow.keras.datasets import mnist\n",
    "\n",
    "(x_train, y_train), (x_test, y_test) = mnist.load_data()\n",
    "\n",
    "x_train = x_train.reshape(-1, 28, 28, 1) / 255.0\n",
    "x_test = x_test.reshape(-1, 28, 28, 1) / 255.0\n",
    "\n",
    "def generate_random_number(number,x_data,y_data):\n",
    "    num_samples = number\n",
    "    data_numb=np.zeros((num_samples, 28, 100, 1), dtype = np.float32)\n",
    "    data_labe=np.empty((num_samples, 1), dtype = np.chararray)\n",
    "    for i in range(num_samples):\n",
    "        digit1 = np.random.choice(y_data)\n",
    "        digit2 = np.random.choice(y_data)\n",
    "        digit3 = np.random.choice(y_data)\n",
    "        digit4 = np.random.choice(y_data)\n",
    "        digit5 = np.random.choice(y_data)\n",
    "        \n",
    "        length = np.random.randint(1, 6)\n",
    "        canvas = np.zeros((28, 100, 1), dtype=np.float32)\n",
    "        labe = np.zeros(length,dtype=np.int_)\n",
    "        \n",
    "        lent_front = 0\n",
    "        for n in range(length):\n",
    "            digit_labe =[digit1, digit2, digit3, digit4, digit5]\n",
    "            digit = digit_labe[n]\n",
    "            id=np.random.choice(np.where(y_train == digit)[0])\n",
    "            if n==0:\n",
    "                lent_front = 28*n\n",
    "                x_data_front = np.zeros((28, lent_front, 1), dtype=np.float32)\n",
    "                x_data_after = np.zeros((28, 72-lent_front, 1), dtype=np.float32)\n",
    "            else:\n",
    "                numb=np.random.randint(8,18)\n",
    "                lent_front = lent_front+numb\n",
    "                x_data_front = np.zeros((28, lent_front, 1), dtype=np.float32)\n",
    "                x_data_after = np.zeros((28, 72-lent_front, 1), dtype=np.float32)\n",
    "            canvas_add = np.concatenate([x_data_front, x_data[id]], 1)\n",
    "            canvas_add = np.concatenate([canvas_add, x_data_after],  1)\n",
    "            canvas += canvas_add\n",
    "            labe[n] = y_data[id]\n",
    "            \n",
    "        datalabe = [str(x) for x in labe]\n",
    "        data_labe[i] = ''.join(datalabe)\n",
    "        data_numb[i]=canvas \n",
    "    print('end')\n",
    "    return data_numb, data_labe"
   ]
  },
  {
   "cell_type": "code",
   "execution_count": 2,
   "metadata": {},
   "outputs": [],
   "source": [
    "\n",
    "def get_label(y_lab):\n",
    "    max_length = max(len(sublist[0]) for sublist in y_lab)\n",
    "    lab_list = [[int(char) if len(char) == 1 else 11 for char in sublist[0]] + [10] * (max_length - len(sublist[0])) for sublist in y_lab]\n",
    "    lab = np.array(lab_list)\n",
    "    return lab"
   ]
  },
  {
   "cell_type": "code",
   "execution_count": 3,
   "metadata": {},
   "outputs": [
    {
     "name": "stdout",
     "output_type": "stream",
     "text": [
      "end\n"
     ]
    }
   ],
   "source": [
    "\n",
    "x_data_random , y_data_random = generate_random_number(100000,x_train, y_train)\n",
    "y_data_ran_ctc = get_label(y_data_random)"
   ]
  },
  {
   "cell_type": "code",
   "execution_count": 4,
   "metadata": {},
   "outputs": [],
   "source": [
    "from keras.utils import to_categorical\n",
    "y_data_ran = to_categorical(y_data_ran_ctc, num_classes=11)"
   ]
  },
  {
   "cell_type": "code",
   "execution_count": 5,
   "metadata": {},
   "outputs": [],
   "source": [
    "x_train_ran , y_train_ran, y_train_ran_ctc, y_train_random = x_data_random[:60000] , y_data_ran[:60000] , y_data_ran_ctc[:60000] , y_data_random[:60000]\n",
    "x_test_ran , y_test_ran, y_test_ran_ctc, y_test_random= x_data_random[60000:80000] , y_data_ran[60000:80000] , y_data_ran_ctc[60000:80000] , y_data_random[60000:80000]\n",
    "x_verify_ran , y_verify_ran, y_verify_ran_ctc, y_verify_random = x_data_random[80000:] , y_data_ran[80000:] , y_data_ran_ctc[80000:] , y_data_random[80000:]"
   ]
  },
  {
   "cell_type": "code",
   "execution_count": 40,
   "metadata": {},
   "outputs": [
    {
     "name": "stdout",
     "output_type": "stream",
     "text": [
      "Label:3\n"
     ]
    },
    {
     "data": {
      "image/png": "[encoded data removed]",
      "text/plain": [
       "<PIL.Image.Image image mode=L size=100x28>"
      ]
     },
     "metadata": {},
     "output_type": "display_data"
    },
    {
     "name": "stdout",
     "output_type": "stream",
     "text": [
      "Label:73\n"
     ]
    },
    {
     "data": {
      "image/png": "[encoded data removed]",
      "text/plain": [
       "<PIL.Image.Image image mode=L size=100x28>"
      ]
     },
     "metadata": {},
     "output_type": "display_data"
    },
    {
     "name": "stdout",
     "output_type": "stream",
     "text": [
      "Label:40776\n"
     ]
    },
    {
     "data": {
      "image/png": "[encoded data removed]",
      "text/plain": [
       "<PIL.Image.Image image mode=L size=100x28>"
      ]
     },
     "metadata": {},
     "output_type": "display_data"
    },
    {
     "name": "stdout",
     "output_type": "stream",
     "text": [
      "Label:1731\n"
     ]
    },
    {
     "data": {
      "image/png": "[encoded data removed]",
      "text/plain": [
       "<PIL.Image.Image image mode=L size=100x28>"
      ]
     },
     "metadata": {},
     "output_type": "display_data"
    },
    {
     "name": "stdout",
     "output_type": "stream",
     "text": [
      "Label:8227\n"
     ]
    },
    {
     "data": {
      "image/png": "[encoded data removed]",
      "text/plain": [
       "<PIL.Image.Image image mode=L size=100x28>"
      ]
     },
     "metadata": {},
     "output_type": "display_data"
    },
    {
     "name": "stdout",
     "output_type": "stream",
     "text": [
      "Label:343\n"
     ]
    },
    {
     "data": {
      "image/png": "[encoded data removed]",
      "text/plain": [
       "<PIL.Image.Image image mode=L size=100x28>"
      ]
     },
     "metadata": {},
     "output_type": "display_data"
    },
    {
     "name": "stdout",
     "output_type": "stream",
     "text": [
      "Label:60\n"
     ]
    },
    {
     "data": {
      "image/png": "[encoded data removed]",
      "text/plain": [
       "<PIL.Image.Image image mode=L size=100x28>"
      ]
     },
     "metadata": {},
     "output_type": "display_data"
    },
    {
     "name": "stdout",
     "output_type": "stream",
     "text": [
      "Label:09168\n"
     ]
    },
    {
     "data": {
      "image/png": "[encoded data removed]",
      "text/plain": [
       "<PIL.Image.Image image mode=L size=100x28>"
      ]
     },
     "metadata": {},
     "output_type": "display_data"
    },
    {
     "name": "stdout",
     "output_type": "stream",
     "text": [
      "Label:8\n"
     ]
    },
    {
     "data": {
      "image/png": "[encoded data removed]",
      "text/plain": [
       "<PIL.Image.Image image mode=L size=100x28>"
      ]
     },
     "metadata": {},
     "output_type": "display_data"
    },
    {
     "name": "stdout",
     "output_type": "stream",
     "text": [
      "Label:985\n"
     ]
    },
    {
     "data": {
      "image/png": "[encoded data removed]",
      "text/plain": [
       "<PIL.Image.Image image mode=L size=100x28>"
      ]
     },
     "metadata": {},
     "output_type": "display_data"
    }
   ],
   "source": [
    "from PIL import Image\n",
    "from IPython.display import display\n",
    "\n",
    "for id_n in np.random.randint(0, len(y_train_random),10):\n",
    "    image_data = (np.squeeze(x_train_ran[id_n]) * 255).astype('uint8')\n",
    "    image = Image.fromarray(image_data, 'L')\n",
    "    \n",
    "    title = f\"Label:{y_train_random[id_n][0]}\"\n",
    "    print(title)\n",
    "    display(image)"
   ]
  },
  {
   "cell_type": "code",
   "execution_count": 7,
   "metadata": {},
   "outputs": [],
   "source": [
    "max_str_len = 5 # max length of input labels\n",
    "num_of_characters = 11 # +1 for ctc pseudo blank\n",
    "num_of_timestamps = 28 # max length of predicted labels"
   ]
  },
  {
   "cell_type": "code",
   "execution_count": 8,
   "metadata": {},
   "outputs": [
    {
     "name": "stdout",
     "output_type": "stream",
     "text": [
      "True label :  ['51305'] \n",
      "train_y :  [5 1 3 0 5] \n",
      "train_label_len :  [5.] \n",
      "train_input_len :  [28.]\n"
     ]
    }
   ],
   "source": [
    "train_label_len = np.zeros([len(y_train_random), 1])\n",
    "train_input_len = np.ones([len(y_train_random), 1]) * num_of_timestamps\n",
    "train_output = np.zeros([len(y_train_random)])\n",
    "\n",
    "for i in range(len(y_train_random)):\n",
    "    train_label_len[i] = len(y_train_random[i][0]) \n",
    "\n",
    "print('True label : ',y_train_random[100] , '\\ntrain_y : ',y_train_ran_ctc[100],'\\ntrain_label_len : ',train_label_len [100], \n",
    "      '\\ntrain_input_len : ', train_input_len[100])"
   ]
  },
  {
   "cell_type": "code",
   "execution_count": 9,
   "metadata": {},
   "outputs": [
    {
     "name": "stdout",
     "output_type": "stream",
     "text": [
      "True label :  ['450'] \n",
      "train_y :  [ 4  5  0 10 10] \n",
      "train_label_len :  [3.] \n",
      "train_input_len :  [28.]\n"
     ]
    }
   ],
   "source": [
    "test_label_len = np.zeros([len(y_test_random), 1])\n",
    "#test_input_len = np.ones([len(y_test_random), 1]) * (num_of_timestamps-2)\n",
    "test_input_len = np.ones([len(y_test_random), 1]) * num_of_timestamps\n",
    "test_output = np.zeros([len(y_test_random)])\n",
    "\n",
    "for i in range(len(y_test_random)):\n",
    "    test_label_len[i] = len(y_test_random[i][0]) \n",
    "\n",
    "print('True label : ',y_test_random[10] , '\\ntrain_y : ',y_test_ran_ctc[10],'\\ntrain_label_len : ',test_label_len [10], \n",
    "      '\\ntrain_input_len : ', test_input_len[10])"
   ]
  },
  {
   "cell_type": "code",
   "execution_count": 10,
   "metadata": {},
   "outputs": [
    {
     "name": "stdout",
     "output_type": "stream",
     "text": [
      "True label :  ['6'] \n",
      "train_y :  [ 6 10 10 10 10] \n",
      "train_label_len :  [1.] \n",
      "train_input_len :  [28.]\n"
     ]
    }
   ],
   "source": [
    "verify_label_len = np.zeros([len(y_verify_random), 1])\n",
    "verify_input_len = np.ones([len(y_verify_random), 1]) * num_of_timestamps\n",
    "verify_output = np.zeros([len(y_verify_random)])\n",
    "\n",
    "for i in range(len(y_verify_random)):\n",
    "    verify_label_len[i] = len(y_verify_random[i][0]) \n",
    "\n",
    "print('True label : ',y_verify_random[1] , '\\ntrain_y : ',y_verify_ran_ctc[1],'\\ntrain_label_len : ',verify_label_len [1], \n",
    "      '\\ntrain_input_len : ', verify_input_len[1])"
   ]
  },
  {
   "cell_type": "code",
   "execution_count": 11,
   "metadata": {},
   "outputs": [
    {
     "name": "stdout",
     "output_type": "stream",
     "text": [
      "Model: \"functional_1\"\n",
      "_________________________________________________________________\n",
      "Layer (type)                 Output Shape              Param #   \n",
      "=================================================================\n",
      "input (InputLayer)           [(None, 28, 100, 1)]      0         \n",
      "_________________________________________________________________\n",
      "conv1 (Conv2D)               (None, 28, 100, 32)       320       \n",
      "_________________________________________________________________\n",
      "batch_normalization (BatchNo (None, 28, 100, 32)       128       \n",
      "_________________________________________________________________\n",
      "activation (Activation)      (None, 28, 100, 32)       0         \n",
      "_________________________________________________________________\n",
      "max1 (MaxPooling2D)          (None, 14, 50, 32)        0         \n",
      "_________________________________________________________________\n",
      "conv2 (Conv2D)               (None, 14, 50, 64)        18496     \n",
      "_________________________________________________________________\n",
      "batch_normalization_1 (Batch (None, 14, 50, 64)        256       \n",
      "_________________________________________________________________\n",
      "activation_1 (Activation)    (None, 14, 50, 64)        0         \n",
      "_________________________________________________________________\n",
      "max2 (MaxPooling2D)          (None, 7, 25, 64)         0         \n",
      "_________________________________________________________________\n",
      "dropout (Dropout)            (None, 7, 25, 64)         0         \n",
      "_________________________________________________________________\n",
      "reshape (Reshape)            (None, 28, 400)           0         \n",
      "_________________________________________________________________\n",
      "dense1 (Dense)               (None, 28, 64)            25664     \n",
      "_________________________________________________________________\n",
      "lstm1 (Bidirectional)        (None, 28, 256)           197632    \n",
      "_________________________________________________________________\n",
      "lstm2 (Bidirectional)        (None, 28, 128)           164352    \n",
      "_________________________________________________________________\n",
      "dense2 (Dense)               (None, 28, 11)            1419      \n",
      "_________________________________________________________________\n",
      "softmax (Activation)         (None, 28, 11)            0         \n",
      "=================================================================\n",
      "Total params: 408,267\n",
      "Trainable params: 408,075\n",
      "Non-trainable params: 192\n",
      "_________________________________________________________________\n"
     ]
    }
   ],
   "source": [
    "import tensorflow as tf\n",
    "from keras import backend as K\n",
    "from keras.models import Model\n",
    "from keras.layers import Input, Conv2D, MaxPooling2D, Reshape, Bidirectional, LSTM, Dense, Lambda, Activation, BatchNormalization, Dropout\n",
    "from keras.optimizers import Adam\n",
    "\n",
    "input_data = Input(shape=(28, 100, 1), name='input')\n",
    "\n",
    "inner = Conv2D(32, (3, 3), activation='relu', padding='same', name='conv1')(input_data)  \n",
    "inner = BatchNormalization()(inner)\n",
    "inner = Activation('relu')(inner)\n",
    "inner = MaxPooling2D(pool_size=(2, 2), name='max1')(inner)\n",
    "\n",
    "inner = Conv2D(64, (3, 3), activation='relu', padding='same', name='conv2')(inner)\n",
    "inner = BatchNormalization()(inner)\n",
    "inner = Activation('relu')(inner)\n",
    "inner = MaxPooling2D(pool_size=(2, 2), name='max2')(inner)\n",
    "inner = Dropout(0.3)(inner)\n",
    "\n",
    "\n",
    "\n",
    "# CNN to RNN\n",
    "inner = Reshape(target_shape=((28, 400)), name='reshape')(inner)\n",
    "inner = Dense(64, activation=\"softmax\", name='dense1')(inner)\n",
    "\n",
    "## RNN\n",
    "inner = Bidirectional(LSTM(128, return_sequences=True, dropout=0.25), name = 'lstm1')(inner)\n",
    "inner = Bidirectional(LSTM(64, return_sequences=True, dropout=0.25), name = 'lstm2')(inner)\n",
    "\n",
    "## OUTPUT\n",
    "inner = Dense(num_of_characters,name='dense2')(inner)\n",
    "y_pred = Activation('softmax', name='softmax')(inner)\n",
    "\n",
    "model = Model(inputs=input_data, outputs=y_pred)\n",
    "model.summary()"
   ]
  },
  {
   "cell_type": "code",
   "execution_count": 12,
   "metadata": {},
   "outputs": [],
   "source": [
    "# the ctc loss function\n",
    "def ctc_lambda_func(args):\n",
    "    y_pred, labels, input_length, label_length = args\n",
    "    # the 2 is critical here since the first couple outputs of the RNN\n",
    "    # tend to be garbage\n",
    "    #y_pred = y_pred[:, 2:, :]\n",
    "    return K.ctc_batch_cost(labels, y_pred, input_length, label_length)"
   ]
  },
  {
   "cell_type": "code",
   "execution_count": 13,
   "metadata": {},
   "outputs": [],
   "source": [
    "\n",
    "labels = Input(name='gtruth_labels', shape=[max_str_len], dtype='float32')\n",
    "input_length = Input(name='input_length', shape=[1], dtype='int64')\n",
    "label_length = Input(name='label_length', shape=[1], dtype='int64')\n",
    "\n",
    "ctc_loss = Lambda(ctc_lambda_func, output_shape=(1,), name='ctc')([y_pred, labels, input_length, label_length])\n",
    "model_final = Model(inputs=[input_data, labels, input_length, label_length], outputs=ctc_loss)"
   ]
  },
  {
   "cell_type": "code",
   "execution_count": 14,
   "metadata": {},
   "outputs": [
    {
     "name": "stdout",
     "output_type": "stream",
     "text": [
      "Epoch 1/100\n",
      "300/300 [==============================] - 214s 713ms/step - loss: 8.2956 - accuracy: 1.6667e-05 - val_loss: 7.0694 - val_accuracy: 0.0000e+00\n",
      "Epoch 2/100\n",
      "300/300 [==============================] - 224s 748ms/step - loss: 6.6306 - accuracy: 0.0192 - val_loss: 6.1939 - val_accuracy: 0.0349\n",
      "Epoch 3/100\n",
      "300/300 [==============================] - 208s 693ms/step - loss: 5.8519 - accuracy: 0.0498 - val_loss: 5.1140 - val_accuracy: 0.0812\n",
      "Epoch 4/100\n",
      "300/300 [==============================] - 213s 708ms/step - loss: 5.7389 - accuracy: 0.0632 - val_loss: 5.2145 - val_accuracy: 0.0892\n",
      "Epoch 5/100\n",
      "300/300 [==============================] - 203s 676ms/step - loss: 5.1086 - accuracy: 0.1233 - val_loss: 4.4891 - val_accuracy: 0.1557\n",
      "Epoch 6/100\n",
      "300/300 [==============================] - 199s 662ms/step - loss: 4.5617 - accuracy: 0.1480 - val_loss: 8.3029 - val_accuracy: 0.0046\n",
      "Epoch 7/100\n",
      "300/300 [==============================] - 198s 659ms/step - loss: 4.2326 - accuracy: 0.1658 - val_loss: 9.6459 - val_accuracy: 0.0010\n",
      "Epoch 8/100\n",
      "300/300 [==============================] - 198s 661ms/step - loss: 3.9745 - accuracy: 0.1838 - val_loss: 8.5961 - val_accuracy: 1.5000e-04\n",
      "Epoch 9/100\n",
      "300/300 [==============================] - 199s 663ms/step - loss: 3.7427 - accuracy: 0.2027 - val_loss: 3.8412 - val_accuracy: 0.1945\n",
      "Epoch 10/100\n",
      "300/300 [==============================] - 198s 661ms/step - loss: 3.4333 - accuracy: 0.2402 - val_loss: 3.8544 - val_accuracy: 0.1317\n",
      "Epoch 11/100\n",
      "300/300 [==============================] - 198s 659ms/step - loss: 3.0798 - accuracy: 0.2811 - val_loss: 2.6345 - val_accuracy: 0.3237\n",
      "Epoch 12/100\n",
      "300/300 [==============================] - 198s 659ms/step - loss: 2.6741 - accuracy: 0.3219 - val_loss: 2.6103 - val_accuracy: 0.2598\n",
      "Epoch 13/100\n",
      "300/300 [==============================] - 199s 662ms/step - loss: 2.3321 - accuracy: 0.3649 - val_loss: 1.7975 - val_accuracy: 0.4169\n",
      "Epoch 14/100\n",
      "300/300 [==============================] - 198s 659ms/step - loss: 2.0247 - accuracy: 0.4054 - val_loss: 1.7001 - val_accuracy: 0.4284\n",
      "Epoch 15/100\n",
      "300/300 [==============================] - 198s 660ms/step - loss: 1.7963 - accuracy: 0.4452 - val_loss: 1.2908 - val_accuracy: 0.5566\n",
      "Epoch 16/100\n",
      "300/300 [==============================] - 198s 659ms/step - loss: 1.6294 - accuracy: 0.4733 - val_loss: 1.1594 - val_accuracy: 0.5745\n",
      "Epoch 17/100\n",
      "300/300 [==============================] - 198s 660ms/step - loss: 1.5045 - accuracy: 0.4986 - val_loss: 1.1860 - val_accuracy: 0.5799\n",
      "Epoch 18/100\n",
      "300/300 [==============================] - 198s 660ms/step - loss: 1.4035 - accuracy: 0.5203 - val_loss: 1.0681 - val_accuracy: 0.6094\n",
      "Epoch 19/100\n",
      "300/300 [==============================] - 198s 660ms/step - loss: 1.3286 - accuracy: 0.5378 - val_loss: 1.0737 - val_accuracy: 0.6012\n",
      "Epoch 20/100\n",
      "300/300 [==============================] - 197s 658ms/step - loss: 1.2509 - accuracy: 0.5544 - val_loss: 4.5456 - val_accuracy: 0.0617\n",
      "Epoch 21/100\n",
      "300/300 [==============================] - 198s 659ms/step - loss: 1.1872 - accuracy: 0.5717 - val_loss: 0.9376 - val_accuracy: 0.6655\n",
      "Epoch 22/100\n",
      "300/300 [==============================] - 198s 660ms/step - loss: 1.1203 - accuracy: 0.5875 - val_loss: 0.8805 - val_accuracy: 0.6709\n",
      "Epoch 23/100\n",
      "300/300 [==============================] - 198s 661ms/step - loss: 1.0832 - accuracy: 0.5977 - val_loss: 0.8299 - val_accuracy: 0.6934\n",
      "Epoch 24/100\n",
      "300/300 [==============================] - 198s 661ms/step - loss: 1.0377 - accuracy: 0.6107 - val_loss: 0.8017 - val_accuracy: 0.6998\n",
      "Epoch 25/100\n",
      "300/300 [==============================] - 198s 659ms/step - loss: 1.0018 - accuracy: 0.6220 - val_loss: 0.8532 - val_accuracy: 0.6945\n",
      "Epoch 26/100\n",
      "300/300 [==============================] - 199s 662ms/step - loss: 0.9707 - accuracy: 0.6324 - val_loss: 0.8877 - val_accuracy: 0.6775\n",
      "Epoch 27/100\n",
      "300/300 [==============================] - 199s 664ms/step - loss: 0.9482 - accuracy: 0.6363 - val_loss: 0.7965 - val_accuracy: 0.7155\n",
      "Epoch 28/100\n",
      "300/300 [==============================] - 198s 659ms/step - loss: 0.9096 - accuracy: 0.6498 - val_loss: 0.8295 - val_accuracy: 0.6837\n",
      "Epoch 29/100\n",
      "300/300 [==============================] - 197s 658ms/step - loss: 0.9030 - accuracy: 0.6507 - val_loss: 0.7182 - val_accuracy: 0.7256\n",
      "Epoch 30/100\n",
      "300/300 [==============================] - 198s 659ms/step - loss: 0.8645 - accuracy: 0.6625 - val_loss: 0.7331 - val_accuracy: 0.7341\n",
      "Epoch 31/100\n",
      "300/300 [==============================] - 198s 662ms/step - loss: 0.8457 - accuracy: 0.6684 - val_loss: 0.6769 - val_accuracy: 0.7394\n",
      "Epoch 32/100\n",
      "300/300 [==============================] - 198s 659ms/step - loss: 0.8276 - accuracy: 0.6736 - val_loss: 2.9880 - val_accuracy: 0.3223\n",
      "Epoch 33/100\n",
      "300/300 [==============================] - 198s 661ms/step - loss: 0.8021 - accuracy: 0.6835 - val_loss: 0.6775 - val_accuracy: 0.7455\n",
      "Epoch 34/100\n",
      "300/300 [==============================] - 198s 659ms/step - loss: 0.7848 - accuracy: 0.6863 - val_loss: 0.6711 - val_accuracy: 0.7452\n",
      "Epoch 35/100\n",
      "300/300 [==============================] - 198s 659ms/step - loss: 0.7802 - accuracy: 0.6898 - val_loss: 0.6465 - val_accuracy: 0.7582\n",
      "Epoch 36/100\n",
      "300/300 [==============================] - 199s 664ms/step - loss: 0.7651 - accuracy: 0.6963 - val_loss: 0.6107 - val_accuracy: 0.7671\n",
      "Epoch 37/100\n",
      "300/300 [==============================] - 198s 661ms/step - loss: 0.7375 - accuracy: 0.7053 - val_loss: 0.6371 - val_accuracy: 0.7699\n",
      "Epoch 38/100\n",
      "300/300 [==============================] - 197s 657ms/step - loss: 0.7395 - accuracy: 0.7025 - val_loss: 0.6224 - val_accuracy: 0.7647\n",
      "Epoch 39/100\n",
      "300/300 [==============================] - 198s 660ms/step - loss: 0.7191 - accuracy: 0.7103 - val_loss: 0.6232 - val_accuracy: 0.7724\n",
      "Epoch 40/100\n",
      "300/300 [==============================] - 198s 661ms/step - loss: 0.7077 - accuracy: 0.7142 - val_loss: 0.6692 - val_accuracy: 0.7641\n",
      "Epoch 41/100\n",
      "300/300 [==============================] - 198s 660ms/step - loss: 0.6971 - accuracy: 0.7180 - val_loss: 0.5849 - val_accuracy: 0.7756\n",
      "Epoch 42/100\n",
      "300/300 [==============================] - 199s 662ms/step - loss: 0.6810 - accuracy: 0.7222 - val_loss: 0.5886 - val_accuracy: 0.7900\n",
      "Epoch 43/100\n",
      "300/300 [==============================] - 198s 661ms/step - loss: 0.6685 - accuracy: 0.7260 - val_loss: 0.6310 - val_accuracy: 0.7766\n",
      "Epoch 44/100\n",
      "300/300 [==============================] - 198s 660ms/step - loss: 0.6571 - accuracy: 0.7301 - val_loss: 0.5769 - val_accuracy: 0.7911\n",
      "Epoch 45/100\n",
      "300/300 [==============================] - 213s 709ms/step - loss: 0.6733 - accuracy: 0.7263 - val_loss: 0.8521 - val_accuracy: 0.6854\n",
      "Epoch 46/100\n",
      "300/300 [==============================] - 211s 702ms/step - loss: 0.6570 - accuracy: 0.7310 - val_loss: 0.6083 - val_accuracy: 0.7763\n",
      "Epoch 47/100\n",
      "300/300 [==============================] - 198s 660ms/step - loss: 0.6525 - accuracy: 0.7331 - val_loss: 0.6139 - val_accuracy: 0.7804\n",
      "Epoch 48/100\n",
      "300/300 [==============================] - 200s 665ms/step - loss: 0.6466 - accuracy: 0.7352 - val_loss: 0.6224 - val_accuracy: 0.7782\n",
      "Epoch 49/100\n",
      "300/300 [==============================] - 204s 679ms/step - loss: 0.6234 - accuracy: 0.7410 - val_loss: 0.5655 - val_accuracy: 0.7969\n",
      "Epoch 50/100\n",
      "300/300 [==============================] - 198s 660ms/step - loss: 0.6133 - accuracy: 0.7454 - val_loss: 0.5722 - val_accuracy: 0.7926\n",
      "Epoch 51/100\n",
      "300/300 [==============================] - 199s 663ms/step - loss: 0.6085 - accuracy: 0.7492 - val_loss: 0.5541 - val_accuracy: 0.7973\n",
      "Epoch 52/100\n",
      "300/300 [==============================] - 199s 664ms/step - loss: 0.5986 - accuracy: 0.7520 - val_loss: 0.5825 - val_accuracy: 0.7893\n",
      "Epoch 53/100\n",
      "300/300 [==============================] - 198s 660ms/step - loss: 0.6060 - accuracy: 0.7500 - val_loss: 0.5638 - val_accuracy: 0.7943\n",
      "Epoch 54/100\n",
      "300/300 [==============================] - 206s 687ms/step - loss: 0.5893 - accuracy: 0.7556 - val_loss: 0.5914 - val_accuracy: 0.7918\n",
      "Epoch 55/100\n",
      "300/300 [==============================] - 200s 666ms/step - loss: 0.5921 - accuracy: 0.7559 - val_loss: 0.6882 - val_accuracy: 0.7610\n",
      "Epoch 56/100\n",
      "300/300 [==============================] - 208s 693ms/step - loss: 0.5848 - accuracy: 0.7549 - val_loss: 0.5928 - val_accuracy: 0.7915\n",
      "Epoch 57/100\n",
      "300/300 [==============================] - 206s 687ms/step - loss: 0.5796 - accuracy: 0.7580 - val_loss: 0.6927 - val_accuracy: 0.7591\n",
      "Epoch 58/100\n",
      "300/300 [==============================] - 208s 693ms/step - loss: 0.5771 - accuracy: 0.7578 - val_loss: 0.5487 - val_accuracy: 0.8001\n",
      "Epoch 59/100\n",
      "300/300 [==============================] - 206s 687ms/step - loss: 0.5666 - accuracy: 0.7628 - val_loss: 0.5782 - val_accuracy: 0.7971\n",
      "Epoch 60/100\n",
      "300/300 [==============================] - 208s 693ms/step - loss: 0.5577 - accuracy: 0.7662 - val_loss: 0.5731 - val_accuracy: 0.7954\n",
      "Epoch 61/100\n",
      "300/300 [==============================] - 201s 669ms/step - loss: 0.5576 - accuracy: 0.7660 - val_loss: 0.5527 - val_accuracy: 0.8087\n",
      "Epoch 62/100\n",
      "300/300 [==============================] - 200s 665ms/step - loss: 0.5435 - accuracy: 0.7709 - val_loss: 0.5904 - val_accuracy: 0.7991\n",
      "Epoch 63/100\n",
      "300/300 [==============================] - 198s 659ms/step - loss: 0.5426 - accuracy: 0.7702 - val_loss: 0.5697 - val_accuracy: 0.7962\n",
      "Epoch 64/100\n",
      "300/300 [==============================] - 198s 659ms/step - loss: 0.5326 - accuracy: 0.7775 - val_loss: 0.5463 - val_accuracy: 0.8038\n",
      "Epoch 65/100\n",
      "300/300 [==============================] - 198s 660ms/step - loss: 0.5372 - accuracy: 0.7731 - val_loss: 0.5640 - val_accuracy: 0.8091\n",
      "Epoch 66/100\n",
      "300/300 [==============================] - 213s 710ms/step - loss: 0.5302 - accuracy: 0.7750 - val_loss: 0.7125 - val_accuracy: 0.7425\n",
      "Epoch 67/100\n",
      "300/300 [==============================] - 207s 690ms/step - loss: 0.5261 - accuracy: 0.7772 - val_loss: 0.5466 - val_accuracy: 0.8091\n",
      "Epoch 68/100\n",
      "300/300 [==============================] - 206s 686ms/step - loss: 0.5164 - accuracy: 0.7804 - val_loss: 0.6819 - val_accuracy: 0.7773\n",
      "Epoch 69/100\n",
      "300/300 [==============================] - 206s 686ms/step - loss: 0.5164 - accuracy: 0.7807 - val_loss: 0.5309 - val_accuracy: 0.8211\n",
      "Epoch 70/100\n",
      "300/300 [==============================] - 205s 684ms/step - loss: 0.5090 - accuracy: 0.7833 - val_loss: 0.5555 - val_accuracy: 0.8074\n",
      "Epoch 71/100\n",
      "300/300 [==============================] - 199s 664ms/step - loss: 0.5042 - accuracy: 0.7836 - val_loss: 0.6019 - val_accuracy: 0.7964\n",
      "Epoch 72/100\n",
      "300/300 [==============================] - 198s 661ms/step - loss: 0.5022 - accuracy: 0.7857 - val_loss: 0.5839 - val_accuracy: 0.8010\n",
      "Epoch 73/100\n",
      "300/300 [==============================] - 198s 660ms/step - loss: 0.4930 - accuracy: 0.7908 - val_loss: 0.5436 - val_accuracy: 0.8160\n",
      "Epoch 74/100\n",
      "300/300 [==============================] - 198s 661ms/step - loss: 0.4927 - accuracy: 0.7910 - val_loss: 0.5113 - val_accuracy: 0.8174\n",
      "Epoch 75/100\n",
      "300/300 [==============================] - 197s 658ms/step - loss: 0.4885 - accuracy: 0.7924 - val_loss: 0.5561 - val_accuracy: 0.8055\n",
      "Epoch 76/100\n",
      "300/300 [==============================] - 199s 663ms/step - loss: 0.4840 - accuracy: 0.7932 - val_loss: 0.6161 - val_accuracy: 0.7851\n",
      "Epoch 77/100\n",
      "300/300 [==============================] - 198s 661ms/step - loss: 0.4826 - accuracy: 0.7931 - val_loss: 0.5119 - val_accuracy: 0.8163\n",
      "Epoch 78/100\n",
      "300/300 [==============================] - 208s 692ms/step - loss: 0.4880 - accuracy: 0.7915 - val_loss: 0.5428 - val_accuracy: 0.8218\n",
      "Epoch 79/100\n",
      "300/300 [==============================] - 207s 691ms/step - loss: 0.4842 - accuracy: 0.7933 - val_loss: 0.5537 - val_accuracy: 0.8134\n",
      "Epoch 80/100\n",
      "300/300 [==============================] - 207s 691ms/step - loss: 0.4683 - accuracy: 0.7983 - val_loss: 0.5286 - val_accuracy: 0.8155\n",
      "Epoch 81/100\n",
      "300/300 [==============================] - 206s 688ms/step - loss: 0.4760 - accuracy: 0.7935 - val_loss: 0.5610 - val_accuracy: 0.8090\n",
      "Epoch 82/100\n",
      "300/300 [==============================] - 206s 687ms/step - loss: 0.4689 - accuracy: 0.7982 - val_loss: 0.5563 - val_accuracy: 0.8134\n",
      "Epoch 83/100\n",
      "300/300 [==============================] - 206s 685ms/step - loss: 0.4603 - accuracy: 0.8003 - val_loss: 0.5717 - val_accuracy: 0.8064\n",
      "Epoch 84/100\n",
      "300/300 [==============================] - 198s 660ms/step - loss: 0.4674 - accuracy: 0.8004 - val_loss: 0.5714 - val_accuracy: 0.8105\n",
      "Epoch 85/100\n",
      "300/300 [==============================] - 201s 669ms/step - loss: 0.4533 - accuracy: 0.8027 - val_loss: 0.5798 - val_accuracy: 0.8095\n",
      "Epoch 86/100\n",
      "300/300 [==============================] - 198s 660ms/step - loss: 0.4510 - accuracy: 0.8038 - val_loss: 0.5219 - val_accuracy: 0.8206\n",
      "Epoch 87/100\n",
      "300/300 [==============================] - 198s 659ms/step - loss: 0.4571 - accuracy: 0.8033 - val_loss: 0.6252 - val_accuracy: 0.7947\n",
      "Epoch 88/100\n",
      "300/300 [==============================] - 198s 660ms/step - loss: 0.4549 - accuracy: 0.8061 - val_loss: 0.5381 - val_accuracy: 0.8227\n",
      "Epoch 89/100\n",
      "300/300 [==============================] - 199s 665ms/step - loss: 0.4423 - accuracy: 0.8077 - val_loss: 0.5697 - val_accuracy: 0.8108\n",
      "Epoch 90/100\n",
      "300/300 [==============================] - 199s 663ms/step - loss: 0.4383 - accuracy: 0.8100 - val_loss: 0.5152 - val_accuracy: 0.8292\n",
      "Epoch 91/100\n",
      "300/300 [==============================] - 198s 661ms/step - loss: 0.4404 - accuracy: 0.8084 - val_loss: 0.5178 - val_accuracy: 0.8215\n",
      "Epoch 92/100\n",
      "300/300 [==============================] - 198s 660ms/step - loss: 0.4706 - accuracy: 0.7975 - val_loss: 0.5486 - val_accuracy: 0.8201\n",
      "Epoch 93/100\n",
      "300/300 [==============================] - 199s 662ms/step - loss: 0.4380 - accuracy: 0.8107 - val_loss: 0.5290 - val_accuracy: 0.8188\n",
      "Epoch 94/100\n",
      "300/300 [==============================] - 199s 662ms/step - loss: 0.4408 - accuracy: 0.8075 - val_loss: 0.4993 - val_accuracy: 0.8276\n",
      "Epoch 95/100\n",
      "300/300 [==============================] - 209s 696ms/step - loss: 0.4329 - accuracy: 0.8123 - val_loss: 0.5595 - val_accuracy: 0.8109\n",
      "Epoch 96/100\n",
      "300/300 [==============================] - 206s 687ms/step - loss: 0.4267 - accuracy: 0.8132 - val_loss: 0.5525 - val_accuracy: 0.8150\n",
      "Epoch 97/100\n",
      "300/300 [==============================] - 207s 689ms/step - loss: 0.4211 - accuracy: 0.8151 - val_loss: 0.5186 - val_accuracy: 0.8253\n",
      "Epoch 98/100\n",
      "300/300 [==============================] - 207s 691ms/step - loss: 0.4293 - accuracy: 0.8135 - val_loss: 2.7455 - val_accuracy: 0.3760\n",
      "Epoch 99/100\n",
      "300/300 [==============================] - 209s 695ms/step - loss: 0.4269 - accuracy: 0.8148 - val_loss: 0.5248 - val_accuracy: 0.8234\n",
      "Epoch 100/100\n",
      "300/300 [==============================] - 207s 691ms/step - loss: 0.4320 - accuracy: 0.8124 - val_loss: 0.5284 - val_accuracy: 0.8216\n"
     ]
    }
   ],
   "source": [
    "# the loss calculation occurs elsewhere, so we use a dummy lambda function for the loss\n",
    "from tensorflow import keras\n",
    "from tensorflow.keras.callbacks import ReduceLROnPlateau \n",
    "model_final.compile(loss={'ctc': lambda y_true, y_pred: y_pred}, optimizer=keras.optimizers.Adam(learning_rate=0.01),\n",
    "                  metrics=['accuracy'])\n",
    "\n",
    "\n",
    "history = model_final.fit(x=[x_train_ran, y_train_ran_ctc, train_input_len, train_label_len], y=train_output, \n",
    "                validation_data=([x_test_ran, y_test_ran_ctc, test_input_len, test_label_len], test_output),\n",
    "                epochs=100, verbose=1, batch_size=200)"
   ]
  },
  {
   "cell_type": "code",
   "execution_count": 15,
   "metadata": {},
   "outputs": [
    {
     "data": {
      "application/vnd.plotly.v1+json": {
       "config": {
        "plotlyServerURL": "https://plot.ly"
       },
       "data": [
        {
         "line": {
          "color": "blue"
         },
         "mode": "lines",
         "name": "Train",
         "type": "scatter",
         "x": [
          1,
          2,
          3,
          4,
          5,
          6,
          7,
          8,
          9,
          10,
          11,
          12,
          13,
          14,
          15,
          16,
          17,
          18,
          19,
          20,
          21,
          22,
          23,
          24,
          25,
          26,
          27,
          28,
          29,
          30,
          31,
          32,
          33,
          34,
          35,
          36,
          37,
          38,
          39,
          40,
          41,
          42,
          43,
          44,
          45,
          46,
          47,
          48,
          49,
          50,
          51,
          52,
          53,
          54,
          55,
          56,
          57,
          58,
          59,
          60,
          61,
          62,
          63,
          64,
          65,
          66,
          67,
          68,
          69,
          70,
          71,
          72,
          73,
          74,
          75,
          76,
          77,
          78,
          79,
          80,
          81,
          82,
          83,
          84,
          85,
          86,
          87,
          88,
          89,
          90,
          91,
          92,
          93,
          94,
          95,
          96,
          97,
          98,
          99,
          100
         ],
         "xaxis": "x",
         "y": [
          0.000016666666851961054,
          0.019200000911951065,
          0.04983333498239517,
          0.06318332999944687,
          0.12331666797399521,
          0.14801666140556335,
          0.1657666712999344,
          0.1837500035762787,
          0.20268332958221436,
          0.24018333852291107,
          0.28110000491142273,
          0.3218500018119812,
          0.3649333417415619,
          0.40543332695961,
          0.4452333450317383,
          0.47331666946411133,
          0.4985666573047638,
          0.5202500224113464,
          0.5378000140190125,
          0.5543833374977112,
          0.5716666579246521,
          0.5874500274658203,
          0.5976666808128357,
          0.6107166409492493,
          0.6219666600227356,
          0.6323666572570801,
          0.6362666487693787,
          0.6498000025749207,
          0.6507333517074585,
          0.6625499725341797,
          0.6684333086013794,
          0.6735833287239075,
          0.6834999918937683,
          0.6863166689872742,
          0.6897833347320557,
          0.696316659450531,
          0.7052833437919617,
          0.7024666666984558,
          0.710266649723053,
          0.7141833305358887,
          0.7179999947547913,
          0.722183346748352,
          0.7259500026702881,
          0.7301333546638489,
          0.7263166904449463,
          0.730983316898346,
          0.7330666780471802,
          0.7352333068847656,
          0.7409833073616028,
          0.7453833222389221,
          0.7491999864578247,
          0.7519833445549011,
          0.7499666810035706,
          0.7555999755859375,
          0.7558666467666626,
          0.7548999786376953,
          0.7579666376113892,
          0.7578166723251343,
          0.7628166675567627,
          0.7661833167076111,
          0.7659833431243896,
          0.7708666920661926,
          0.7702333331108093,
          0.7775499820709229,
          0.7731000185012817,
          0.7749666571617126,
          0.7771999835968018,
          0.7803666591644287,
          0.7807166576385498,
          0.7832666635513306,
          0.7836166620254517,
          0.7857166528701782,
          0.7908333539962769,
          0.7910333275794983,
          0.7923833131790161,
          0.7932000160217285,
          0.793066680431366,
          0.791450023651123,
          0.7933499813079834,
          0.7982500195503235,
          0.7934666872024536,
          0.7981833219528198,
          0.800266683101654,
          0.8004166483879089,
          0.8026666641235352,
          0.803766667842865,
          0.8033333420753479,
          0.8061166405677795,
          0.8077166676521301,
          0.8099666833877563,
          0.8084499835968018,
          0.7975333333015442,
          0.8107333183288574,
          0.807533323764801,
          0.8123000264167786,
          0.8131833076477051,
          0.8151166439056396,
          0.8134666681289673,
          0.8147500157356262,
          0.812416672706604
         ],
         "yaxis": "y"
        },
        {
         "line": {
          "color": "orange"
         },
         "mode": "lines",
         "name": "Validation",
         "type": "scatter",
         "x": [
          1,
          2,
          3,
          4,
          5,
          6,
          7,
          8,
          9,
          10,
          11,
          12,
          13,
          14,
          15,
          16,
          17,
          18,
          19,
          20,
          21,
          22,
          23,
          24,
          25,
          26,
          27,
          28,
          29,
          30,
          31,
          32,
          33,
          34,
          35,
          36,
          37,
          38,
          39,
          40,
          41,
          42,
          43,
          44,
          45,
          46,
          47,
          48,
          49,
          50,
          51,
          52,
          53,
          54,
          55,
          56,
          57,
          58,
          59,
          60,
          61,
          62,
          63,
          64,
          65,
          66,
          67,
          68,
          69,
          70,
          71,
          72,
          73,
          74,
          75,
          76,
          77,
          78,
          79,
          80,
          81,
          82,
          83,
          84,
          85,
          86,
          87,
          88,
          89,
          90,
          91,
          92,
          93,
          94,
          95,
          96,
          97,
          98,
          99,
          100
         ],
         "xaxis": "x",
         "y": [
          0,
          0.034949999302625656,
          0.08124999701976776,
          0.08919999748468399,
          0.15565000474452972,
          0.004550000187009573,
          0.0010000000474974513,
          0.0001500000071246177,
          0.19454999268054962,
          0.13169999420642853,
          0.3236500024795532,
          0.25984999537467957,
          0.4168500006198883,
          0.4283500015735626,
          0.5565999746322632,
          0.5745499730110168,
          0.5799499750137329,
          0.6094499826431274,
          0.6011999845504761,
          0.061650000512599945,
          0.6654999852180481,
          0.6709499955177307,
          0.6934499740600586,
          0.6998000144958496,
          0.6945499777793884,
          0.6775000095367432,
          0.715499997138977,
          0.683650016784668,
          0.725600004196167,
          0.7340999841690063,
          0.7394000291824341,
          0.32225000858306885,
          0.7455499768257141,
          0.745199978351593,
          0.7582499980926514,
          0.7670999765396118,
          0.7699499726295471,
          0.7646999955177307,
          0.7724000215530396,
          0.7640500068664551,
          0.7755500078201294,
          0.7899500131607056,
          0.7766000032424927,
          0.7911499738693237,
          0.6853500008583069,
          0.7762500047683716,
          0.7804499864578247,
          0.7781999707221985,
          0.7968999743461609,
          0.7925999760627747,
          0.7972999811172485,
          0.7892500162124634,
          0.7943000197410583,
          0.7918000221252441,
          0.7609999775886536,
          0.7915499806404114,
          0.7590500116348267,
          0.8000500202178955,
          0.7971000075340271,
          0.7954000234603882,
          0.8087499737739563,
          0.7990999817848206,
          0.7962499856948853,
          0.803849995136261,
          0.8090500235557556,
          0.7425000071525574,
          0.8090999722480774,
          0.7773000001907349,
          0.8210999965667725,
          0.8073999881744385,
          0.7963500022888184,
          0.8009999990463257,
          0.8160499930381775,
          0.8174499869346619,
          0.8054500222206116,
          0.7851499915122986,
          0.8162999749183655,
          0.8217999935150146,
          0.8133500218391418,
          0.8154500126838684,
          0.8090000152587891,
          0.8133500218391418,
          0.8064000010490417,
          0.8105499744415283,
          0.8095499873161316,
          0.8205500245094299,
          0.794700026512146,
          0.8226500153541565,
          0.8108000159263611,
          0.829200029373169,
          0.8215000033378601,
          0.8201000094413757,
          0.8188499808311462,
          0.8276000022888184,
          0.8108999729156494,
          0.8149999976158142,
          0.8252999782562256,
          0.37599998712539673,
          0.8233500123023987,
          0.8216000199317932
         ],
         "yaxis": "y"
        },
        {
         "line": {
          "color": "blue"
         },
         "mode": "lines",
         "name": "Train",
         "showlegend": false,
         "type": "scatter",
         "x": [
          1,
          2,
          3,
          4,
          5,
          6,
          7,
          8,
          9,
          10,
          11,
          12,
          13,
          14,
          15,
          16,
          17,
          18,
          19,
          20,
          21,
          22,
          23,
          24,
          25,
          26,
          27,
          28,
          29,
          30,
          31,
          32,
          33,
          34,
          35,
          36,
          37,
          38,
          39,
          40,
          41,
          42,
          43,
          44,
          45,
          46,
          47,
          48,
          49,
          50,
          51,
          52,
          53,
          54,
          55,
          56,
          57,
          58,
          59,
          60,
          61,
          62,
          63,
          64,
          65,
          66,
          67,
          68,
          69,
          70,
          71,
          72,
          73,
          74,
          75,
          76,
          77,
          78,
          79,
          80,
          81,
          82,
          83,
          84,
          85,
          86,
          87,
          88,
          89,
          90,
          91,
          92,
          93,
          94,
          95,
          96,
          97,
          98,
          99,
          100
         ],
         "xaxis": "x2",
         "y": [
          8.295550346374512,
          6.6305623054504395,
          5.85185432434082,
          5.738941192626953,
          5.108599662780762,
          4.5617218017578125,
          4.232551097869873,
          3.974459171295166,
          3.742713689804077,
          3.4332869052886963,
          3.0797791481018066,
          2.67406964302063,
          2.332120418548584,
          2.024671792984009,
          1.796326994895935,
          1.6294289827346802,
          1.5044941902160645,
          1.4034619331359863,
          1.328646183013916,
          1.250948190689087,
          1.1871790885925293,
          1.120293140411377,
          1.083216905593872,
          1.0376888513565063,
          1.0018336772918701,
          0.9706506133079529,
          0.9482337236404419,
          0.9096405506134033,
          0.9030213356018066,
          0.8644633889198303,
          0.8457345962524414,
          0.8275694251060486,
          0.8021103739738464,
          0.784760594367981,
          0.7801948189735413,
          0.7651015520095825,
          0.7374545931816101,
          0.7395464777946472,
          0.7191084623336792,
          0.7076963186264038,
          0.6970506906509399,
          0.6810072064399719,
          0.6685194373130798,
          0.6570672392845154,
          0.673301100730896,
          0.6570063233375549,
          0.6524813771247864,
          0.646608293056488,
          0.6234208345413208,
          0.6133355498313904,
          0.60845547914505,
          0.5986047387123108,
          0.6059719920158386,
          0.5892958045005798,
          0.5920627117156982,
          0.5848063826560974,
          0.5795783996582031,
          0.5770692825317383,
          0.5666110515594482,
          0.5576813817024231,
          0.5576028823852539,
          0.5435411930084229,
          0.5425857901573181,
          0.5325561761856079,
          0.5372055172920227,
          0.5301844477653503,
          0.5260983109474182,
          0.5163822770118713,
          0.5164126753807068,
          0.5090342164039612,
          0.5042385458946228,
          0.5021924376487732,
          0.492980033159256,
          0.492707759141922,
          0.4884619116783142,
          0.4839824140071869,
          0.4826177954673767,
          0.48796549439430237,
          0.48423317074775696,
          0.46826064586639404,
          0.4759543836116791,
          0.46893310546875,
          0.4603267014026642,
          0.46741485595703125,
          0.4533003568649292,
          0.45096829533576965,
          0.4570613205432892,
          0.45492789149284363,
          0.44231992959976196,
          0.4382648766040802,
          0.4404246509075165,
          0.47058308124542236,
          0.43804478645324707,
          0.4408203065395355,
          0.43291735649108887,
          0.426705539226532,
          0.4211393892765045,
          0.429291307926178,
          0.4268571734428406,
          0.4320087134838104
         ],
         "yaxis": "y2"
        },
        {
         "line": {
          "color": "orange"
         },
         "mode": "lines",
         "name": "Validation",
         "showlegend": false,
         "type": "scatter",
         "x": [
          1,
          2,
          3,
          4,
          5,
          6,
          7,
          8,
          9,
          10,
          11,
          12,
          13,
          14,
          15,
          16,
          17,
          18,
          19,
          20,
          21,
          22,
          23,
          24,
          25,
          26,
          27,
          28,
          29,
          30,
          31,
          32,
          33,
          34,
          35,
          36,
          37,
          38,
          39,
          40,
          41,
          42,
          43,
          44,
          45,
          46,
          47,
          48,
          49,
          50,
          51,
          52,
          53,
          54,
          55,
          56,
          57,
          58,
          59,
          60,
          61,
          62,
          63,
          64,
          65,
          66,
          67,
          68,
          69,
          70,
          71,
          72,
          73,
          74,
          75,
          76,
          77,
          78,
          79,
          80,
          81,
          82,
          83,
          84,
          85,
          86,
          87,
          88,
          89,
          90,
          91,
          92,
          93,
          94,
          95,
          96,
          97,
          98,
          99,
          100
         ],
         "xaxis": "x2",
         "y": [
          7.069390773773193,
          6.193907260894775,
          5.113992691040039,
          5.21448278427124,
          4.4891228675842285,
          8.302923202514648,
          9.645878791809082,
          8.59614372253418,
          3.8411848545074463,
          3.854424238204956,
          2.6344704627990723,
          2.6102921962738037,
          1.797460913658142,
          1.700139045715332,
          1.2908273935317993,
          1.159430980682373,
          1.1859593391418457,
          1.0681183338165283,
          1.073673129081726,
          4.545629501342773,
          0.9376230239868164,
          0.8805136680603027,
          0.8298754692077637,
          0.8017096519470215,
          0.8531873226165771,
          0.8876943588256836,
          0.7964879274368286,
          0.8294835686683655,
          0.7182343006134033,
          0.7331347465515137,
          0.6769353747367859,
          2.987962245941162,
          0.6774733662605286,
          0.6711364388465881,
          0.6464555859565735,
          0.6107092499732971,
          0.6371292471885681,
          0.6223785877227783,
          0.6232026219367981,
          0.6691856980323792,
          0.5849273204803467,
          0.5886147022247314,
          0.6309906244277954,
          0.5769068002700806,
          0.8521231412887573,
          0.6082682609558105,
          0.6138814091682434,
          0.6223732233047485,
          0.5655330419540405,
          0.5722189545631409,
          0.5540910959243774,
          0.5825421214103699,
          0.5637757778167725,
          0.591439425945282,
          0.6881542205810547,
          0.5927851796150208,
          0.6926665306091309,
          0.5486608147621155,
          0.5781530141830444,
          0.5730558633804321,
          0.5527345538139343,
          0.5903680920600891,
          0.5696985721588135,
          0.5463407039642334,
          0.564048171043396,
          0.712532103061676,
          0.5465788245201111,
          0.6819137930870056,
          0.5309383273124695,
          0.5555242896080017,
          0.601882815361023,
          0.5839270353317261,
          0.5436273217201233,
          0.511332631111145,
          0.5560721755027771,
          0.6161371469497681,
          0.5119252800941467,
          0.5427588820457458,
          0.5536564588546753,
          0.5286123752593994,
          0.5609840154647827,
          0.556265652179718,
          0.571728527545929,
          0.5714472532272339,
          0.5797863006591797,
          0.5218784809112549,
          0.6252356767654419,
          0.5380624532699585,
          0.5696842074394226,
          0.5151903033256531,
          0.5177836418151855,
          0.5485957860946655,
          0.5290037393569946,
          0.499266654253006,
          0.5594714879989624,
          0.5525087714195251,
          0.5186208486557007,
          2.745469570159912,
          0.5248091816902161,
          0.5284267663955688
         ],
         "yaxis": "y2"
        }
       ],
       "layout": {
        "annotations": [
         {
          "font": {
           "size": 16
          },
          "showarrow": false,
          "text": "Model accuracy",
          "x": 0.225,
          "xanchor": "center",
          "xref": "paper",
          "y": 1,
          "yanchor": "bottom",
          "yref": "paper"
         },
         {
          "font": {
           "size": 16
          },
          "showarrow": false,
          "text": "Model loss",
          "x": 0.775,
          "xanchor": "center",
          "xref": "paper",
          "y": 1,
          "yanchor": "bottom",
          "yref": "paper"
         }
        ],
        "legend": {
         "x": 0.85,
         "y": 1
        },
        "template": {
         "data": {
          "bar": [
           {
            "error_x": {
             "color": "#2a3f5f"
            },
            "error_y": {
             "color": "#2a3f5f"
            },
            "marker": {
             "line": {
              "color": "#E5ECF6",
              "width": 0.5
             },
             "pattern": {
              "fillmode": "overlay",
              "size": 10,
              "solidity": 0.2
             }
            },
            "type": "bar"
           }
          ],
          "barpolar": [
           {
            "marker": {
             "line": {
              "color": "#E5ECF6",
              "width": 0.5
             },
             "pattern": {
              "fillmode": "overlay",
              "size": 10,
              "solidity": 0.2
             }
            },
            "type": "barpolar"
           }
          ],
          "carpet": [
           {
            "aaxis": {
             "endlinecolor": "#2a3f5f",
             "gridcolor": "white",
             "linecolor": "white",
             "minorgridcolor": "white",
             "startlinecolor": "#2a3f5f"
            },
            "baxis": {
             "endlinecolor": "#2a3f5f",
             "gridcolor": "white",
             "linecolor": "white",
             "minorgridcolor": "white",
             "startlinecolor": "#2a3f5f"
            },
            "type": "carpet"
           }
          ],
          "choropleth": [
           {
            "colorbar": {
             "outlinewidth": 0,
             "ticks": ""
            },
            "type": "choropleth"
           }
          ],
          "contour": [
           {
            "colorbar": {
             "outlinewidth": 0,
             "ticks": ""
            },
            "colorscale": [
             [
              0,
              "#0d0887"
             ],
             [
              0.1111111111111111,
              "#46039f"
             ],
             [
              0.2222222222222222,
              "#7201a8"
             ],
             [
              0.3333333333333333,
              "#9c179e"
             ],
             [
              0.4444444444444444,
              "#bd3786"
             ],
             [
              0.5555555555555556,
              "#d8576b"
             ],
             [
              0.6666666666666666,
              "#ed7953"
             ],
             [
              0.7777777777777778,
              "#fb9f3a"
             ],
             [
              0.8888888888888888,
              "#fdca26"
             ],
             [
              1,
              "#f0f921"
             ]
            ],
            "type": "contour"
           }
          ],
          "contourcarpet": [
           {
            "colorbar": {
             "outlinewidth": 0,
             "ticks": ""
            },
            "type": "contourcarpet"
           }
          ],
          "heatmap": [
           {
            "colorbar": {
             "outlinewidth": 0,
             "ticks": ""
            },
            "colorscale": [
             [
              0,
              "#0d0887"
             ],
             [
              0.1111111111111111,
              "#46039f"
             ],
             [
              0.2222222222222222,
              "#7201a8"
             ],
             [
              0.3333333333333333,
              "#9c179e"
             ],
             [
              0.4444444444444444,
              "#bd3786"
             ],
             [
              0.5555555555555556,
              "#d8576b"
             ],
             [
              0.6666666666666666,
              "#ed7953"
             ],
             [
              0.7777777777777778,
              "#fb9f3a"
             ],
             [
              0.8888888888888888,
              "#fdca26"
             ],
             [
              1,
              "#f0f921"
             ]
            ],
            "type": "heatmap"
           }
          ],
          "heatmapgl": [
           {
            "colorbar": {
             "outlinewidth": 0,
             "ticks": ""
            },
            "colorscale": [
             [
              0,
              "#0d0887"
             ],
             [
              0.1111111111111111,
              "#46039f"
             ],
             [
              0.2222222222222222,
              "#7201a8"
             ],
             [
              0.3333333333333333,
              "#9c179e"
             ],
             [
              0.4444444444444444,
              "#bd3786"
             ],
             [
              0.5555555555555556,
              "#d8576b"
             ],
             [
              0.6666666666666666,
              "#ed7953"
             ],
             [
              0.7777777777777778,
              "#fb9f3a"
             ],
             [
              0.8888888888888888,
              "#fdca26"
             ],
             [
              1,
              "#f0f921"
             ]
            ],
            "type": "heatmapgl"
           }
          ],
          "histogram": [
           {
            "marker": {
             "pattern": {
              "fillmode": "overlay",
              "size": 10,
              "solidity": 0.2
             }
            },
            "type": "histogram"
           }
          ],
          "histogram2d": [
           {
            "colorbar": {
             "outlinewidth": 0,
             "ticks": ""
            },
            "colorscale": [
             [
              0,
              "#0d0887"
             ],
             [
              0.1111111111111111,
              "#46039f"
             ],
             [
              0.2222222222222222,
              "#7201a8"
             ],
             [
              0.3333333333333333,
              "#9c179e"
             ],
             [
              0.4444444444444444,
              "#bd3786"
             ],
             [
              0.5555555555555556,
              "#d8576b"
             ],
             [
              0.6666666666666666,
              "#ed7953"
             ],
             [
              0.7777777777777778,
              "#fb9f3a"
             ],
             [
              0.8888888888888888,
              "#fdca26"
             ],
             [
              1,
              "#f0f921"
             ]
            ],
            "type": "histogram2d"
           }
          ],
          "histogram2dcontour": [
           {
            "colorbar": {
             "outlinewidth": 0,
             "ticks": ""
            },
            "colorscale": [
             [
              0,
              "#0d0887"
             ],
             [
              0.1111111111111111,
              "#46039f"
             ],
             [
              0.2222222222222222,
              "#7201a8"
             ],
             [
              0.3333333333333333,
              "#9c179e"
             ],
             [
              0.4444444444444444,
              "#bd3786"
             ],
             [
              0.5555555555555556,
              "#d8576b"
             ],
             [
              0.6666666666666666,
              "#ed7953"
             ],
             [
              0.7777777777777778,
              "#fb9f3a"
             ],
             [
              0.8888888888888888,
              "#fdca26"
             ],
             [
              1,
              "#f0f921"
             ]
            ],
            "type": "histogram2dcontour"
           }
          ],
          "mesh3d": [
           {
            "colorbar": {
             "outlinewidth": 0,
             "ticks": ""
            },
            "type": "mesh3d"
           }
          ],
          "parcoords": [
           {
            "line": {
             "colorbar": {
              "outlinewidth": 0,
              "ticks": ""
             }
            },
            "type": "parcoords"
           }
          ],
          "pie": [
           {
            "automargin": true,
            "type": "pie"
           }
          ],
          "scatter": [
           {
            "fillpattern": {
             "fillmode": "overlay",
             "size": 10,
             "solidity": 0.2
            },
            "type": "scatter"
           }
          ],
          "scatter3d": [
           {
            "line": {
             "colorbar": {
              "outlinewidth": 0,
              "ticks": ""
             }
            },
            "marker": {
             "colorbar": {
              "outlinewidth": 0,
              "ticks": ""
             }
            },
            "type": "scatter3d"
           }
          ],
          "scattercarpet": [
           {
            "marker": {
             "colorbar": {
              "outlinewidth": 0,
              "ticks": ""
             }
            },
            "type": "scattercarpet"
           }
          ],
          "scattergeo": [
           {
            "marker": {
             "colorbar": {
              "outlinewidth": 0,
              "ticks": ""
             }
            },
            "type": "scattergeo"
           }
          ],
          "scattergl": [
           {
            "marker": {
             "colorbar": {
              "outlinewidth": 0,
              "ticks": ""
             }
            },
            "type": "scattergl"
           }
          ],
          "scattermapbox": [
           {
            "marker": {
             "colorbar": {
              "outlinewidth": 0,
              "ticks": ""
             }
            },
            "type": "scattermapbox"
           }
          ],
          "scatterpolar": [
           {
            "marker": {
             "colorbar": {
              "outlinewidth": 0,
              "ticks": ""
             }
            },
            "type": "scatterpolar"
           }
          ],
          "scatterpolargl": [
           {
            "marker": {
             "colorbar": {
              "outlinewidth": 0,
              "ticks": ""
             }
            },
            "type": "scatterpolargl"
           }
          ],
          "scatterternary": [
           {
            "marker": {
             "colorbar": {
              "outlinewidth": 0,
              "ticks": ""
             }
            },
            "type": "scatterternary"
           }
          ],
          "surface": [
           {
            "colorbar": {
             "outlinewidth": 0,
             "ticks": ""
            },
            "colorscale": [
             [
              0,
              "#0d0887"
             ],
             [
              0.1111111111111111,
              "#46039f"
             ],
             [
              0.2222222222222222,
              "#7201a8"
             ],
             [
              0.3333333333333333,
              "#9c179e"
             ],
             [
              0.4444444444444444,
              "#bd3786"
             ],
             [
              0.5555555555555556,
              "#d8576b"
             ],
             [
              0.6666666666666666,
              "#ed7953"
             ],
             [
              0.7777777777777778,
              "#fb9f3a"
             ],
             [
              0.8888888888888888,
              "#fdca26"
             ],
             [
              1,
              "#f0f921"
             ]
            ],
            "type": "surface"
           }
          ],
          "table": [
           {
            "cells": {
             "fill": {
              "color": "#EBF0F8"
             },
             "line": {
              "color": "white"
             }
            },
            "header": {
             "fill": {
              "color": "#C8D4E3"
             },
             "line": {
              "color": "white"
             }
            },
            "type": "table"
           }
          ]
         },
         "layout": {
          "annotationdefaults": {
           "arrowcolor": "#2a3f5f",
           "arrowhead": 0,
           "arrowwidth": 1
          },
          "autotypenumbers": "strict",
          "coloraxis": {
           "colorbar": {
            "outlinewidth": 0,
            "ticks": ""
           }
          },
          "colorscale": {
           "diverging": [
            [
             0,
             "#8e0152"
            ],
            [
             0.1,
             "#c51b7d"
            ],
            [
             0.2,
             "#de77ae"
            ],
            [
             0.3,
             "#f1b6da"
            ],
            [
             0.4,
             "#fde0ef"
            ],
            [
             0.5,
             "#f7f7f7"
            ],
            [
             0.6,
             "#e6f5d0"
            ],
            [
             0.7,
             "#b8e186"
            ],
            [
             0.8,
             "#7fbc41"
            ],
            [
             0.9,
             "#4d9221"
            ],
            [
             1,
             "#276419"
            ]
           ],
           "sequential": [
            [
             0,
             "#0d0887"
            ],
            [
             0.1111111111111111,
             "#46039f"
            ],
            [
             0.2222222222222222,
             "#7201a8"
            ],
            [
             0.3333333333333333,
             "#9c179e"
            ],
            [
             0.4444444444444444,
             "#bd3786"
            ],
            [
             0.5555555555555556,
             "#d8576b"
            ],
            [
             0.6666666666666666,
             "#ed7953"
            ],
            [
             0.7777777777777778,
             "#fb9f3a"
            ],
            [
             0.8888888888888888,
             "#fdca26"
            ],
            [
             1,
             "#f0f921"
            ]
           ],
           "sequentialminus": [
            [
             0,
             "#0d0887"
            ],
            [
             0.1111111111111111,
             "#46039f"
            ],
            [
             0.2222222222222222,
             "#7201a8"
            ],
            [
             0.3333333333333333,
             "#9c179e"
            ],
            [
             0.4444444444444444,
             "#bd3786"
            ],
            [
             0.5555555555555556,
             "#d8576b"
            ],
            [
             0.6666666666666666,
             "#ed7953"
            ],
            [
             0.7777777777777778,
             "#fb9f3a"
            ],
            [
             0.8888888888888888,
             "#fdca26"
            ],
            [
             1,
             "#f0f921"
            ]
           ]
          },
          "colorway": [
           "#636efa",
           "#EF553B",
           "#00cc96",
           "#ab63fa",
           "#FFA15A",
           "#19d3f3",
           "#FF6692",
           "#B6E880",
           "#FF97FF",
           "#FECB52"
          ],
          "font": {
           "color": "#2a3f5f"
          },
          "geo": {
           "bgcolor": "white",
           "lakecolor": "white",
           "landcolor": "#E5ECF6",
           "showlakes": true,
           "showland": true,
           "subunitcolor": "white"
          },
          "hoverlabel": {
           "align": "left"
          },
          "hovermode": "closest",
          "mapbox": {
           "style": "light"
          },
          "paper_bgcolor": "white",
          "plot_bgcolor": "#E5ECF6",
          "polar": {
           "angularaxis": {
            "gridcolor": "white",
            "linecolor": "white",
            "ticks": ""
           },
           "bgcolor": "#E5ECF6",
           "radialaxis": {
            "gridcolor": "white",
            "linecolor": "white",
            "ticks": ""
           }
          },
          "scene": {
           "xaxis": {
            "backgroundcolor": "#E5ECF6",
            "gridcolor": "white",
            "gridwidth": 2,
            "linecolor": "white",
            "showbackground": true,
            "ticks": "",
            "zerolinecolor": "white"
           },
           "yaxis": {
            "backgroundcolor": "#E5ECF6",
            "gridcolor": "white",
            "gridwidth": 2,
            "linecolor": "white",
            "showbackground": true,
            "ticks": "",
            "zerolinecolor": "white"
           },
           "zaxis": {
            "backgroundcolor": "#E5ECF6",
            "gridcolor": "white",
            "gridwidth": 2,
            "linecolor": "white",
            "showbackground": true,
            "ticks": "",
            "zerolinecolor": "white"
           }
          },
          "shapedefaults": {
           "line": {
            "color": "#2a3f5f"
           }
          },
          "ternary": {
           "aaxis": {
            "gridcolor": "white",
            "linecolor": "white",
            "ticks": ""
           },
           "baxis": {
            "gridcolor": "white",
            "linecolor": "white",
            "ticks": ""
           },
           "bgcolor": "#E5ECF6",
           "caxis": {
            "gridcolor": "white",
            "linecolor": "white",
            "ticks": ""
           }
          },
          "title": {
           "x": 0.05
          },
          "xaxis": {
           "automargin": true,
           "gridcolor": "white",
           "linecolor": "white",
           "ticks": "",
           "title": {
            "standoff": 15
           },
           "zerolinecolor": "white",
           "zerolinewidth": 2
          },
          "yaxis": {
           "automargin": true,
           "gridcolor": "white",
           "linecolor": "white",
           "ticks": "",
           "title": {
            "standoff": 15
           },
           "zerolinecolor": "white",
           "zerolinewidth": 2
          }
         }
        },
        "title": {
         "text": "Model Training History"
        },
        "xaxis": {
         "anchor": "y",
         "domain": [
          0,
          0.45
         ],
         "title": {
          "text": "Epoch"
         }
        },
        "xaxis2": {
         "anchor": "y2",
         "domain": [
          0.55,
          1
         ]
        },
        "yaxis": {
         "anchor": "x",
         "domain": [
          0,
          1
         ],
         "title": {
          "text": "Value"
         }
        },
        "yaxis2": {
         "anchor": "x2",
         "domain": [
          0,
          1
         ]
        }
       }
      }
     },
     "metadata": {},
     "output_type": "display_data"
    }
   ],
   "source": [
    "import plotly.graph_objects as go\n",
    "from plotly.subplots import make_subplots\n",
    "\n",
    "fig = make_subplots(rows=1, cols=2, subplot_titles=(\"Model accuracy\", \"Model loss\"))\n",
    "\n",
    "# Add the first subplot for accuracy\n",
    "fig.add_trace(go.Scatter(x=list(range(1, len(history.history['accuracy']) + 1)),\n",
    "                         y=history.history['accuracy'], mode='lines',\n",
    "                         name='Train', line=dict(color='blue')), row=1, col=1)\n",
    "fig.add_trace(go.Scatter(x=list(range(1, len(history.history['val_accuracy']) + 1)),\n",
    "                         y=history.history['val_accuracy'], mode='lines',\n",
    "                         name='Validation', line=dict(color='orange')), row=1, col=1)\n",
    "\n",
    "# Add the second subplot for loss\n",
    "fig.add_trace(go.Scatter(x=list(range(1, len(history.history['loss']) + 1)),\n",
    "                         y=history.history['loss'], mode='lines',\n",
    "                         name='Train', line=dict(color='blue'), showlegend=False), row=1, col=2)\n",
    "fig.add_trace(go.Scatter(x=list(range(1, len(history.history['val_loss']) + 1)),\n",
    "                         y=history.history['val_loss'], mode='lines',\n",
    "                         name='Validation', line=dict(color='orange'), showlegend=False), row=1, col=2)\n",
    "\n",
    "fig.update_layout(title=\"Model Training History\",\n",
    "                  xaxis_title=\"Epoch\",\n",
    "                  yaxis_title=\"Value\",\n",
    "                  legend=dict(x=0.85, y=1))\n",
    "\n",
    "fig.show()"
   ]
  },
  {
   "cell_type": "code",
   "execution_count": 16,
   "metadata": {},
   "outputs": [
    {
     "name": "stdout",
     "output_type": "stream",
     "text": [
      "WARNING:tensorflow:From d:\\APP\\ANACONDA\\Anaconda3\\envs\\anacondaTensorflow\\lib\\site-packages\\tensorflow\\python\\util\\dispatch.py:201: sparse_to_dense (from tensorflow.python.ops.sparse_ops) is deprecated and will be removed in a future version.\n",
      "Instructions for updating:\n",
      "Create a `tf.sparse.SparseTensor` and use `tf.sparse.to_dense` instead.\n"
     ]
    }
   ],
   "source": [
    "preds = model.predict(x_verify_ran)\n",
    "decoded = K.get_value(K.ctc_decode(preds, input_length=np.ones(preds.shape[0])*preds.shape[1], \n",
    "                                   greedy=True)[0][0])\n",
    "\n",
    "alphabets = u\"0123456789 \"\n",
    "\n",
    "def num_to_label(num):\n",
    "    ret = \"\"\n",
    "    for ch in num:\n",
    "        if ch == -1:  # CTC Blank\n",
    "            break\n",
    "        else:\n",
    "            ret+=alphabets[ch]\n",
    "    return ret\n",
    "\n",
    "prediction = []\n",
    "for i in range(len(y_verify_ran)):\n",
    "    prediction.append(num_to_label(decoded[i]))"
   ]
  },
  {
   "cell_type": "code",
   "execution_count": 35,
   "metadata": {},
   "outputs": [],
   "source": [
    "y_true = []\n",
    "for i in range(20000):\n",
    "    y_true.append(y_verify_random[i][0])"
   ]
  },
  {
   "cell_type": "code",
   "execution_count": 36,
   "metadata": {},
   "outputs": [
    {
     "name": "stdout",
     "output_type": "stream",
     "text": [
      "Correct characters predicted : 94.66%\n",
      "Correct words predicted      : 85.84%\n"
     ]
    }
   ],
   "source": [
    "correct_char = 0\n",
    "total_char = 0\n",
    "correct = 0\n",
    "valid_size=len(y_verify_random)\n",
    "\n",
    "for i in range(valid_size):\n",
    "    pr = prediction[i]\n",
    "    tr = y_true[i]\n",
    "    total_char += len(tr)\n",
    "    \n",
    "    for j in range(min(len(tr), len(pr))):\n",
    "        if tr[j] == pr[j]:\n",
    "            correct_char += 1\n",
    "            \n",
    "    if pr == tr :\n",
    "        correct += 1 \n",
    "    \n",
    "print('Correct characters predicted : %.2f%%' %(correct_char*100/total_char))\n",
    "print('Correct words predicted      : %.2f%%' %(correct*100/valid_size))"
   ]
  },
  {
   "cell_type": "code",
   "execution_count": 38,
   "metadata": {},
   "outputs": [
    {
     "name": "stdout",
     "output_type": "stream",
     "text": [
      "Label:118; Predicted:118\n"
     ]
    },
    {
     "data": {
      "image/png": "[encoded data removed]",
      "text/plain": [
       "<PIL.Image.Image image mode=L size=100x28>"
      ]
     },
     "metadata": {},
     "output_type": "display_data"
    },
    {
     "name": "stdout",
     "output_type": "stream",
     "text": [
      "Label:0811; Predicted:0811\n"
     ]
    },
    {
     "data": {
      "image/png": "[encoded data removed]",
      "text/plain": [
       "<PIL.Image.Image image mode=L size=100x28>"
      ]
     },
     "metadata": {},
     "output_type": "display_data"
    },
    {
     "name": "stdout",
     "output_type": "stream",
     "text": [
      "Label:9065; Predicted:9065\n"
     ]
    },
    {
     "data": {
      "image/png": "[encoded data removed]",
      "text/plain": [
       "<PIL.Image.Image image mode=L size=100x28>"
      ]
     },
     "metadata": {},
     "output_type": "display_data"
    },
    {
     "name": "stdout",
     "output_type": "stream",
     "text": [
      "Label:80; Predicted:80\n"
     ]
    },
    {
     "data": {
      "image/png": "[encoded data removed]",
      "text/plain": [
       "<PIL.Image.Image image mode=L size=100x28>"
      ]
     },
     "metadata": {},
     "output_type": "display_data"
    },
    {
     "name": "stdout",
     "output_type": "stream",
     "text": [
      "Label:4; Predicted:4\n"
     ]
    },
    {
     "data": {
      "image/png": "[encoded data removed]",
      "text/plain": [
       "<PIL.Image.Image image mode=L size=100x28>"
      ]
     },
     "metadata": {},
     "output_type": "display_data"
    },
    {
     "name": "stdout",
     "output_type": "stream",
     "text": [
      "Label:49543; Predicted:49593\n"
     ]
    },
    {
     "data": {
      "image/png": "[encoded data removed]",
      "text/plain": [
       "<PIL.Image.Image image mode=L size=100x28>"
      ]
     },
     "metadata": {},
     "output_type": "display_data"
    },
    {
     "name": "stdout",
     "output_type": "stream",
     "text": [
      "Label:533; Predicted:533\n"
     ]
    },
    {
     "data": {
      "image/png": "[encoded data removed]",
      "text/plain": [
       "<PIL.Image.Image image mode=L size=100x28>"
      ]
     },
     "metadata": {},
     "output_type": "display_data"
    },
    {
     "name": "stdout",
     "output_type": "stream",
     "text": [
      "Label:151; Predicted:251\n"
     ]
    },
    {
     "data": {
      "image/png": "[encoded data removed]",
      "text/plain": [
       "<PIL.Image.Image image mode=L size=100x28>"
      ]
     },
     "metadata": {},
     "output_type": "display_data"
    },
    {
     "name": "stdout",
     "output_type": "stream",
     "text": [
      "Label:1545; Predicted:1545\n"
     ]
    },
    {
     "data": {
      "image/png": "[encoded data removed]",
      "text/plain": [
       "<PIL.Image.Image image mode=L size=100x28>"
      ]
     },
     "metadata": {},
     "output_type": "display_data"
    },
    {
     "name": "stdout",
     "output_type": "stream",
     "text": [
      "Label:88; Predicted:88\n"
     ]
    },
    {
     "data": {
      "image/png": "[encoded data removed]",
      "text/plain": [
       "<PIL.Image.Image image mode=L size=100x28>"
      ]
     },
     "metadata": {},
     "output_type": "display_data"
    }
   ],
   "source": [
    "for id_n in np.random.randint(0, len(y_true),10):\n",
    "    image_data = (np.squeeze(x_verify_ran[id_n]) * 255).astype('uint8')\n",
    "    image = Image.fromarray(image_data, 'L')\n",
    "    title = f\"Label:{y_true[id_n]}; Predicted:{prediction[id_n]}\"\n",
    "    print(title)\n",
    "    display(image)"
   ]
  }
 ],
 "metadata": {
  "kernelspec": {
   "display_name": "anacondaTensorflow",
   "language": "python",
   "name": "python3"
  },
  "language_info": {
   "codemirror_mode": {
    "name": "ipython",
    "version": 3
   },
   "file_extension": ".py",
   "mimetype": "text/x-python",
   "name": "python",
   "nbconvert_exporter": "python",
   "pygments_lexer": "ipython3",
   "version": "3.8.17"
  }
 },
 "nbformat": 4,
 "nbformat_minor": 2
}
