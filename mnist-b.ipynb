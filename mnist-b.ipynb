{
 "cells": [
  {
   "cell_type": "code",
   "execution_count": 1,
   "metadata": {},
   "outputs": [
    {
     "name": "stderr",
     "output_type": "stream",
     "text": [
      "2023-10-03 06:23:21.273825: I tensorflow/core/platform/cpu_feature_guard.cc:182] This TensorFlow binary is optimized to use available CPU instructions in performance-critical operations.\n",
      "To enable the following instructions: AVX2 FMA, in other operations, rebuild TensorFlow with the appropriate compiler flags.\n",
      "2023-10-03 06:23:22.142146: W tensorflow/compiler/tf2tensorrt/utils/py_utils.cc:38] TF-TRT Warning: Could not find TensorRT\n"
     ]
    },
    {
     "name": "stdout",
     "output_type": "stream",
     "text": [
      "end\n",
      "end\n",
      "end\n"
     ]
    }
   ],
   "source": [
    "import numpy as np\n",
    "import tensorflow as tf\n",
    "from tensorflow.keras.layers import Input, Flatten, Dense, Conv2D, MaxPooling2D, Dropout, concatenate\n",
    "from tensorflow.keras.models import Model\n",
    "from tensorflow.keras.datasets import mnist\n",
    "from tensorflow.keras.utils import to_categorical\n",
    "\n",
    "# import MNIST\n",
    "(x_train, y_train), (x_test, y_test) = mnist.load_data()\n",
    "\n",
    "\n",
    "x_train = x_train.reshape(-1, 28, 28, 1) / 255.0\n",
    "x_test = x_test.reshape(-1, 28, 28, 1) / 255.0\n",
    "\n",
    "\n",
    "def generate_random_number(x_data,y_data):\n",
    "    num_samples = len(x_data)\n",
    "    data_numb=np.zeros((num_samples, 28, 140, 1), dtype=np.float32)\n",
    "    data_labe=np.zeros((num_samples, 5), dtype=np.int_)\n",
    "    for i in range(num_samples):\n",
    "        digit1 = np.random.randint(0, 10)\n",
    "        digit2 = np.random.randint(0, 10)\n",
    "        digit3 = np.random.randint(0, 10)\n",
    "        digit4 = np.random.randint(0, 10)\n",
    "        digit5 = np.random.randint(0, 10)\n",
    "\n",
    "        \n",
    "        positions = np.random.choice([0, 1, 2], size=5)  \n",
    "        canvas = np.zeros((28, 140, 1), dtype=np.float32)\n",
    "        lent_front = 0\n",
    "        for n, position in enumerate(positions):\n",
    "            digit = [digit1, digit2, digit3, digit4, digit5][n]\n",
    "            id=np.random.choice(y_data[y_data == digit])\n",
    "            if n==0:\n",
    "                lent_front = 28*n\n",
    "                x_data_front = np.zeros((28, lent_front, 1), dtype=np.float32)\n",
    "                x_data_after = np.zeros((28, 112-lent_front, 1), dtype=np.float32)\n",
    "            else:\n",
    "                numb=np.random.randint(8,20)\n",
    "                lent_front = lent_front+numb\n",
    "                x_data_front = np.zeros((28, lent_front, 1), dtype=np.float32)\n",
    "                x_data_after = np.zeros((28, 112-lent_front, 1), dtype=np.float32)\n",
    "            canvas_add = np.concatenate([x_data_front, x_data[id]], 1)\n",
    "            canvas_add = np.concatenate([canvas_add, x_data_after],  1)\n",
    "            canvas += canvas_add \n",
    "            data_labe[i][n]=y_data[id]\n",
    "        data_numb[i]=canvas \n",
    "    print('end')\n",
    "    return data_numb, data_labe\n",
    "\n",
    "\n",
    "x_train_random , y_train_random = generate_random_number(x_train, y_train)\n",
    "x_test_random , y_test_random = generate_random_number(x_test, y_test)\n",
    "x_verify_random , y_verify_random = generate_random_number(x_test, y_test)"
   ]
  },
  {
   "cell_type": "code",
   "execution_count": 2,
   "metadata": {},
   "outputs": [],
   "source": [
    "def trans (dat):\n",
    "    y_labe=np.zeros((len(dat), 1), dtype=np.int_)\n",
    "    for i in range(len(dat)):\n",
    "        y_labe[i]=''.join(str(j) for j in dat[i])\n",
    "   \n",
    "    return y_labe\n",
    "\n",
    "y_train_rand = trans(y_train_random)\n",
    "y_test_rand = trans(y_test_random)\n",
    "y_verify_rand = trans(y_verify_random)"
   ]
  },
  {
   "cell_type": "code",
   "execution_count": 3,
   "metadata": {},
   "outputs": [
    {
     "data": {
      "image/png": "[encoded data removed]",
      "text/plain": [
       "<Figure size 640x480 with 1 Axes>"
      ]
     },
     "metadata": {},
     "output_type": "display_data"
    }
   ],
   "source": [
    "\n",
    "import matplotlib.pyplot as plt\n",
    "plt.imshow(x_train_random[101], cmap='gray')\n",
    "plt.title(f\"Label: {y_train_rand[101]}\")\n",
    "plt.axis('off')\n",
    "\n",
    "plt.show()"
   ]
  },
  {
   "cell_type": "code",
   "execution_count": 4,
   "metadata": {},
   "outputs": [
    {
     "name": "stdout",
     "output_type": "stream",
     "text": [
      "(60000, 100000)\n"
     ]
    }
   ],
   "source": [
    "# -hot\n",
    "y_train_onehot = to_categorical(y_train_rand)\n",
    "y_test_onehot = to_categorical(y_test_rand)\n",
    "y_verify_onehot = to_categorical(y_verify_rand)\n",
    "print(y_train_onehot.shape)"
   ]
  },
  {
   "cell_type": "code",
   "execution_count": 17,
   "metadata": {},
   "outputs": [],
   "source": [
    "import numpy as np \n",
    "import matplotlib.pyplot as plt \n",
    "import tensorflow as tf \n",
    "# Conv2D MaxPooling2D Dropout Flatten Dense BN  GAP \n",
    "from tensorflow.keras.layers import Conv2D, MaxPooling2D, Dropout, Flatten, Dense, Layer, BatchNormalization, GlobalAveragePooling2D  \n",
    "from tensorflow.keras.optimizers import Adam \n",
    "from tensorflow.keras import Model, Input  \n",
    "from tensorflow.keras.callbacks import EarlyStopping, ReduceLROnPlateau \n",
    "\n",
    "#modle \n",
    "captcha = Input(shape=(28,140,1)) \n",
    "x = Conv2D(32, (5,5),padding='valid',activation='relu')(captcha) \n",
    "x = MaxPooling2D((2,2),padding='same')(x) \n",
    "x = Conv2D(64, (3,3),padding='same',activation='relu')(x) \n",
    "x = MaxPooling2D((2,2),padding='same')(x) \n",
    "x = Conv2D(128, (3,3),padding='same',activation='relu')(x) \n",
    "maxpool = MaxPooling2D((2,2),padding='same')(x) \n",
    "outputs = [] \n",
    "for i in range(5): \n",
    "    x = Conv2D(256, (3,3),padding='same',activation='relu')(maxpool) \n",
    "    x = MaxPooling2D((2,2),padding='same')(x) \n",
    "    x = Flatten()(x) \n",
    "    x = Dropout(0.5)(x) \n",
    "    x = BatchNormalization()(x) \n",
    "    x = Dense(64, activation='relu')(x) \n",
    "    x = Dropout(0.5)(x) \n",
    "    x = BatchNormalization()(x) \n",
    "    x = Dense(1, activation='softmax' , name=f'char_{i+1}')(x) \n",
    "    outputs.append(x) \n",
    "     \n",
    "model = Model(inputs = captcha , outputs=outputs) \n",
    "# ReduceLROnPlateau\n",
    "reduce_lr = ReduceLROnPlateau(patience =3, factor = 0.5,verbose = 1) \n",
    "model.compile(loss='categorical_crossentropy', optimizer=Adam(learning_rate=0.01), metrics=[\"accuracy\"]) "
   ]
  },
  {
   "cell_type": "code",
   "execution_count": 18,
   "metadata": {},
   "outputs": [
    {
     "name": "stdout",
     "output_type": "stream",
     "text": [
      "Epoch 1/20\n",
      "938/938 [==============================] - 31s 25ms/step - loss: 0.0000e+00 - char_1_loss: 0.0000e+00 - char_2_loss: 0.0000e+00 - char_3_loss: 0.0000e+00 - char_4_loss: 0.0000e+00 - char_5_loss: 0.0000e+00 - char_1_accuracy: 0.3000 - char_2_accuracy: 0.3006 - char_3_accuracy: 0.2976 - char_4_accuracy: 0.2999 - char_5_accuracy: 0.2977 - val_loss: 0.0000e+00 - val_char_1_loss: 0.0000e+00 - val_char_2_loss: 0.0000e+00 - val_char_3_loss: 0.0000e+00 - val_char_4_loss: 0.0000e+00 - val_char_5_loss: 0.0000e+00 - val_char_1_accuracy: 0.1985 - val_char_2_accuracy: 0.2061 - val_char_3_accuracy: 0.2022 - val_char_4_accuracy: 0.2009 - val_char_5_accuracy: 0.1931\n",
      "Epoch 2/20\n",
      "938/938 [==============================] - 23s 24ms/step - loss: 0.0000e+00 - char_1_loss: 0.0000e+00 - char_2_loss: 0.0000e+00 - char_3_loss: 0.0000e+00 - char_4_loss: 0.0000e+00 - char_5_loss: 0.0000e+00 - char_1_accuracy: 0.3000 - char_2_accuracy: 0.3006 - char_3_accuracy: 0.2976 - char_4_accuracy: 0.2999 - char_5_accuracy: 0.2977 - val_loss: 0.0000e+00 - val_char_1_loss: 0.0000e+00 - val_char_2_loss: 0.0000e+00 - val_char_3_loss: 0.0000e+00 - val_char_4_loss: 0.0000e+00 - val_char_5_loss: 0.0000e+00 - val_char_1_accuracy: 0.1985 - val_char_2_accuracy: 0.2061 - val_char_3_accuracy: 0.2022 - val_char_4_accuracy: 0.2009 - val_char_5_accuracy: 0.1931\n",
      "Epoch 3/20\n",
      "938/938 [==============================] - 23s 25ms/step - loss: 0.0000e+00 - char_1_loss: 0.0000e+00 - char_2_loss: 0.0000e+00 - char_3_loss: 0.0000e+00 - char_4_loss: 0.0000e+00 - char_5_loss: 0.0000e+00 - char_1_accuracy: 0.3000 - char_2_accuracy: 0.3006 - char_3_accuracy: 0.2976 - char_4_accuracy: 0.2999 - char_5_accuracy: 0.2977 - val_loss: 0.0000e+00 - val_char_1_loss: 0.0000e+00 - val_char_2_loss: 0.0000e+00 - val_char_3_loss: 0.0000e+00 - val_char_4_loss: 0.0000e+00 - val_char_5_loss: 0.0000e+00 - val_char_1_accuracy: 0.1985 - val_char_2_accuracy: 0.2061 - val_char_3_accuracy: 0.2022 - val_char_4_accuracy: 0.2009 - val_char_5_accuracy: 0.1931\n",
      "Epoch 4/20\n",
      "938/938 [==============================] - 23s 24ms/step - loss: 0.0000e+00 - char_1_loss: 0.0000e+00 - char_2_loss: 0.0000e+00 - char_3_loss: 0.0000e+00 - char_4_loss: 0.0000e+00 - char_5_loss: 0.0000e+00 - char_1_accuracy: 0.3000 - char_2_accuracy: 0.3006 - char_3_accuracy: 0.2976 - char_4_accuracy: 0.2999 - char_5_accuracy: 0.2977 - val_loss: 0.0000e+00 - val_char_1_loss: 0.0000e+00 - val_char_2_loss: 0.0000e+00 - val_char_3_loss: 0.0000e+00 - val_char_4_loss: 0.0000e+00 - val_char_5_loss: 0.0000e+00 - val_char_1_accuracy: 0.1985 - val_char_2_accuracy: 0.2061 - val_char_3_accuracy: 0.2022 - val_char_4_accuracy: 0.2009 - val_char_5_accuracy: 0.1931\n",
      "Epoch 5/20\n",
      "938/938 [==============================] - 23s 25ms/step - loss: 0.0000e+00 - char_1_loss: 0.0000e+00 - char_2_loss: 0.0000e+00 - char_3_loss: 0.0000e+00 - char_4_loss: 0.0000e+00 - char_5_loss: 0.0000e+00 - char_1_accuracy: 0.3000 - char_2_accuracy: 0.3006 - char_3_accuracy: 0.2976 - char_4_accuracy: 0.2999 - char_5_accuracy: 0.2977 - val_loss: 0.0000e+00 - val_char_1_loss: 0.0000e+00 - val_char_2_loss: 0.0000e+00 - val_char_3_loss: 0.0000e+00 - val_char_4_loss: 0.0000e+00 - val_char_5_loss: 0.0000e+00 - val_char_1_accuracy: 0.1985 - val_char_2_accuracy: 0.2061 - val_char_3_accuracy: 0.2022 - val_char_4_accuracy: 0.2009 - val_char_5_accuracy: 0.1931\n",
      "Epoch 6/20\n",
      "938/938 [==============================] - 23s 24ms/step - loss: 0.0000e+00 - char_1_loss: 0.0000e+00 - char_2_loss: 0.0000e+00 - char_3_loss: 0.0000e+00 - char_4_loss: 0.0000e+00 - char_5_loss: 0.0000e+00 - char_1_accuracy: 0.3000 - char_2_accuracy: 0.3006 - char_3_accuracy: 0.2976 - char_4_accuracy: 0.2999 - char_5_accuracy: 0.2977 - val_loss: 0.0000e+00 - val_char_1_loss: 0.0000e+00 - val_char_2_loss: 0.0000e+00 - val_char_3_loss: 0.0000e+00 - val_char_4_loss: 0.0000e+00 - val_char_5_loss: 0.0000e+00 - val_char_1_accuracy: 0.1985 - val_char_2_accuracy: 0.2061 - val_char_3_accuracy: 0.2022 - val_char_4_accuracy: 0.2009 - val_char_5_accuracy: 0.1931\n",
      "Epoch 7/20\n",
      "938/938 [==============================] - 23s 24ms/step - loss: 0.0000e+00 - char_1_loss: 0.0000e+00 - char_2_loss: 0.0000e+00 - char_3_loss: 0.0000e+00 - char_4_loss: 0.0000e+00 - char_5_loss: 0.0000e+00 - char_1_accuracy: 0.3000 - char_2_accuracy: 0.3006 - char_3_accuracy: 0.2976 - char_4_accuracy: 0.2999 - char_5_accuracy: 0.2977 - val_loss: 0.0000e+00 - val_char_1_loss: 0.0000e+00 - val_char_2_loss: 0.0000e+00 - val_char_3_loss: 0.0000e+00 - val_char_4_loss: 0.0000e+00 - val_char_5_loss: 0.0000e+00 - val_char_1_accuracy: 0.1985 - val_char_2_accuracy: 0.2061 - val_char_3_accuracy: 0.2022 - val_char_4_accuracy: 0.2009 - val_char_5_accuracy: 0.1931\n",
      "Epoch 8/20\n",
      "938/938 [==============================] - 23s 24ms/step - loss: 0.0000e+00 - char_1_loss: 0.0000e+00 - char_2_loss: 0.0000e+00 - char_3_loss: 0.0000e+00 - char_4_loss: 0.0000e+00 - char_5_loss: 0.0000e+00 - char_1_accuracy: 0.3000 - char_2_accuracy: 0.3006 - char_3_accuracy: 0.2976 - char_4_accuracy: 0.2999 - char_5_accuracy: 0.2977 - val_loss: 0.0000e+00 - val_char_1_loss: 0.0000e+00 - val_char_2_loss: 0.0000e+00 - val_char_3_loss: 0.0000e+00 - val_char_4_loss: 0.0000e+00 - val_char_5_loss: 0.0000e+00 - val_char_1_accuracy: 0.1985 - val_char_2_accuracy: 0.2061 - val_char_3_accuracy: 0.2022 - val_char_4_accuracy: 0.2009 - val_char_5_accuracy: 0.1931\n",
      "Epoch 9/20\n",
      "938/938 [==============================] - 23s 25ms/step - loss: 0.0000e+00 - char_1_loss: 0.0000e+00 - char_2_loss: 0.0000e+00 - char_3_loss: 0.0000e+00 - char_4_loss: 0.0000e+00 - char_5_loss: 0.0000e+00 - char_1_accuracy: 0.3000 - char_2_accuracy: 0.3006 - char_3_accuracy: 0.2976 - char_4_accuracy: 0.2999 - char_5_accuracy: 0.2977 - val_loss: 0.0000e+00 - val_char_1_loss: 0.0000e+00 - val_char_2_loss: 0.0000e+00 - val_char_3_loss: 0.0000e+00 - val_char_4_loss: 0.0000e+00 - val_char_5_loss: 0.0000e+00 - val_char_1_accuracy: 0.1985 - val_char_2_accuracy: 0.2061 - val_char_3_accuracy: 0.2022 - val_char_4_accuracy: 0.2009 - val_char_5_accuracy: 0.1931\n",
      "Epoch 10/20\n",
      "938/938 [==============================] - 22s 24ms/step - loss: 0.0000e+00 - char_1_loss: 0.0000e+00 - char_2_loss: 0.0000e+00 - char_3_loss: 0.0000e+00 - char_4_loss: 0.0000e+00 - char_5_loss: 0.0000e+00 - char_1_accuracy: 0.3000 - char_2_accuracy: 0.3006 - char_3_accuracy: 0.2976 - char_4_accuracy: 0.2999 - char_5_accuracy: 0.2977 - val_loss: 0.0000e+00 - val_char_1_loss: 0.0000e+00 - val_char_2_loss: 0.0000e+00 - val_char_3_loss: 0.0000e+00 - val_char_4_loss: 0.0000e+00 - val_char_5_loss: 0.0000e+00 - val_char_1_accuracy: 0.1985 - val_char_2_accuracy: 0.2061 - val_char_3_accuracy: 0.2022 - val_char_4_accuracy: 0.2009 - val_char_5_accuracy: 0.1931\n",
      "Epoch 11/20\n",
      "938/938 [==============================] - 23s 24ms/step - loss: 0.0000e+00 - char_1_loss: 0.0000e+00 - char_2_loss: 0.0000e+00 - char_3_loss: 0.0000e+00 - char_4_loss: 0.0000e+00 - char_5_loss: 0.0000e+00 - char_1_accuracy: 0.3000 - char_2_accuracy: 0.3006 - char_3_accuracy: 0.2976 - char_4_accuracy: 0.2999 - char_5_accuracy: 0.2977 - val_loss: 0.0000e+00 - val_char_1_loss: 0.0000e+00 - val_char_2_loss: 0.0000e+00 - val_char_3_loss: 0.0000e+00 - val_char_4_loss: 0.0000e+00 - val_char_5_loss: 0.0000e+00 - val_char_1_accuracy: 0.1985 - val_char_2_accuracy: 0.2061 - val_char_3_accuracy: 0.2022 - val_char_4_accuracy: 0.2009 - val_char_5_accuracy: 0.1931\n",
      "Epoch 12/20\n",
      "938/938 [==============================] - 22s 24ms/step - loss: 0.0000e+00 - char_1_loss: 0.0000e+00 - char_2_loss: 0.0000e+00 - char_3_loss: 0.0000e+00 - char_4_loss: 0.0000e+00 - char_5_loss: 0.0000e+00 - char_1_accuracy: 0.3000 - char_2_accuracy: 0.3006 - char_3_accuracy: 0.2976 - char_4_accuracy: 0.2999 - char_5_accuracy: 0.2977 - val_loss: 0.0000e+00 - val_char_1_loss: 0.0000e+00 - val_char_2_loss: 0.0000e+00 - val_char_3_loss: 0.0000e+00 - val_char_4_loss: 0.0000e+00 - val_char_5_loss: 0.0000e+00 - val_char_1_accuracy: 0.1985 - val_char_2_accuracy: 0.2061 - val_char_3_accuracy: 0.2022 - val_char_4_accuracy: 0.2009 - val_char_5_accuracy: 0.1931\n",
      "Epoch 13/20\n",
      "938/938 [==============================] - 23s 24ms/step - loss: 0.0000e+00 - char_1_loss: 0.0000e+00 - char_2_loss: 0.0000e+00 - char_3_loss: 0.0000e+00 - char_4_loss: 0.0000e+00 - char_5_loss: 0.0000e+00 - char_1_accuracy: 0.3000 - char_2_accuracy: 0.3006 - char_3_accuracy: 0.2976 - char_4_accuracy: 0.2999 - char_5_accuracy: 0.2977 - val_loss: 0.0000e+00 - val_char_1_loss: 0.0000e+00 - val_char_2_loss: 0.0000e+00 - val_char_3_loss: 0.0000e+00 - val_char_4_loss: 0.0000e+00 - val_char_5_loss: 0.0000e+00 - val_char_1_accuracy: 0.1985 - val_char_2_accuracy: 0.2061 - val_char_3_accuracy: 0.2022 - val_char_4_accuracy: 0.2009 - val_char_5_accuracy: 0.1931\n",
      "Epoch 14/20\n",
      "938/938 [==============================] - 22s 24ms/step - loss: 0.0000e+00 - char_1_loss: 0.0000e+00 - char_2_loss: 0.0000e+00 - char_3_loss: 0.0000e+00 - char_4_loss: 0.0000e+00 - char_5_loss: 0.0000e+00 - char_1_accuracy: 0.3000 - char_2_accuracy: 0.3006 - char_3_accuracy: 0.2976 - char_4_accuracy: 0.2999 - char_5_accuracy: 0.2977 - val_loss: 0.0000e+00 - val_char_1_loss: 0.0000e+00 - val_char_2_loss: 0.0000e+00 - val_char_3_loss: 0.0000e+00 - val_char_4_loss: 0.0000e+00 - val_char_5_loss: 0.0000e+00 - val_char_1_accuracy: 0.1985 - val_char_2_accuracy: 0.2061 - val_char_3_accuracy: 0.2022 - val_char_4_accuracy: 0.2009 - val_char_5_accuracy: 0.1931\n",
      "Epoch 15/20\n",
      "938/938 [==============================] - 22s 23ms/step - loss: 0.0000e+00 - char_1_loss: 0.0000e+00 - char_2_loss: 0.0000e+00 - char_3_loss: 0.0000e+00 - char_4_loss: 0.0000e+00 - char_5_loss: 0.0000e+00 - char_1_accuracy: 0.3000 - char_2_accuracy: 0.3006 - char_3_accuracy: 0.2976 - char_4_accuracy: 0.2999 - char_5_accuracy: 0.2977 - val_loss: 0.0000e+00 - val_char_1_loss: 0.0000e+00 - val_char_2_loss: 0.0000e+00 - val_char_3_loss: 0.0000e+00 - val_char_4_loss: 0.0000e+00 - val_char_5_loss: 0.0000e+00 - val_char_1_accuracy: 0.1985 - val_char_2_accuracy: 0.2061 - val_char_3_accuracy: 0.2022 - val_char_4_accuracy: 0.2009 - val_char_5_accuracy: 0.1931\n",
      "Epoch 16/20\n",
      "938/938 [==============================] - 23s 24ms/step - loss: 0.0000e+00 - char_1_loss: 0.0000e+00 - char_2_loss: 0.0000e+00 - char_3_loss: 0.0000e+00 - char_4_loss: 0.0000e+00 - char_5_loss: 0.0000e+00 - char_1_accuracy: 0.3000 - char_2_accuracy: 0.3006 - char_3_accuracy: 0.2976 - char_4_accuracy: 0.2999 - char_5_accuracy: 0.2977 - val_loss: 0.0000e+00 - val_char_1_loss: 0.0000e+00 - val_char_2_loss: 0.0000e+00 - val_char_3_loss: 0.0000e+00 - val_char_4_loss: 0.0000e+00 - val_char_5_loss: 0.0000e+00 - val_char_1_accuracy: 0.1985 - val_char_2_accuracy: 0.2061 - val_char_3_accuracy: 0.2022 - val_char_4_accuracy: 0.2009 - val_char_5_accuracy: 0.1931\n",
      "Epoch 17/20\n",
      "938/938 [==============================] - 22s 24ms/step - loss: 0.0000e+00 - char_1_loss: 0.0000e+00 - char_2_loss: 0.0000e+00 - char_3_loss: 0.0000e+00 - char_4_loss: 0.0000e+00 - char_5_loss: 0.0000e+00 - char_1_accuracy: 0.3000 - char_2_accuracy: 0.3006 - char_3_accuracy: 0.2976 - char_4_accuracy: 0.2999 - char_5_accuracy: 0.2977 - val_loss: 0.0000e+00 - val_char_1_loss: 0.0000e+00 - val_char_2_loss: 0.0000e+00 - val_char_3_loss: 0.0000e+00 - val_char_4_loss: 0.0000e+00 - val_char_5_loss: 0.0000e+00 - val_char_1_accuracy: 0.1985 - val_char_2_accuracy: 0.2061 - val_char_3_accuracy: 0.2022 - val_char_4_accuracy: 0.2009 - val_char_5_accuracy: 0.1931\n",
      "Epoch 18/20\n",
      "938/938 [==============================] - 22s 24ms/step - loss: 0.0000e+00 - char_1_loss: 0.0000e+00 - char_2_loss: 0.0000e+00 - char_3_loss: 0.0000e+00 - char_4_loss: 0.0000e+00 - char_5_loss: 0.0000e+00 - char_1_accuracy: 0.3000 - char_2_accuracy: 0.3006 - char_3_accuracy: 0.2976 - char_4_accuracy: 0.2999 - char_5_accuracy: 0.2977 - val_loss: 0.0000e+00 - val_char_1_loss: 0.0000e+00 - val_char_2_loss: 0.0000e+00 - val_char_3_loss: 0.0000e+00 - val_char_4_loss: 0.0000e+00 - val_char_5_loss: 0.0000e+00 - val_char_1_accuracy: 0.1985 - val_char_2_accuracy: 0.2061 - val_char_3_accuracy: 0.2022 - val_char_4_accuracy: 0.2009 - val_char_5_accuracy: 0.1931\n",
      "Epoch 19/20\n",
      "938/938 [==============================] - 23s 24ms/step - loss: 0.0000e+00 - char_1_loss: 0.0000e+00 - char_2_loss: 0.0000e+00 - char_3_loss: 0.0000e+00 - char_4_loss: 0.0000e+00 - char_5_loss: 0.0000e+00 - char_1_accuracy: 0.3000 - char_2_accuracy: 0.3006 - char_3_accuracy: 0.2976 - char_4_accuracy: 0.2999 - char_5_accuracy: 0.2977 - val_loss: 0.0000e+00 - val_char_1_loss: 0.0000e+00 - val_char_2_loss: 0.0000e+00 - val_char_3_loss: 0.0000e+00 - val_char_4_loss: 0.0000e+00 - val_char_5_loss: 0.0000e+00 - val_char_1_accuracy: 0.1985 - val_char_2_accuracy: 0.2061 - val_char_3_accuracy: 0.2022 - val_char_4_accuracy: 0.2009 - val_char_5_accuracy: 0.1931\n",
      "Epoch 20/20\n",
      "938/938 [==============================] - 22s 24ms/step - loss: 0.0000e+00 - char_1_loss: 0.0000e+00 - char_2_loss: 0.0000e+00 - char_3_loss: 0.0000e+00 - char_4_loss: 0.0000e+00 - char_5_loss: 0.0000e+00 - char_1_accuracy: 0.3000 - char_2_accuracy: 0.3006 - char_3_accuracy: 0.2976 - char_4_accuracy: 0.2999 - char_5_accuracy: 0.2977 - val_loss: 0.0000e+00 - val_char_1_loss: 0.0000e+00 - val_char_2_loss: 0.0000e+00 - val_char_3_loss: 0.0000e+00 - val_char_4_loss: 0.0000e+00 - val_char_5_loss: 0.0000e+00 - val_char_1_accuracy: 0.1985 - val_char_2_accuracy: 0.2061 - val_char_3_accuracy: 0.2022 - val_char_4_accuracy: 0.2009 - val_char_5_accuracy: 0.1931\n"
     ]
    }
   ],
   "source": [
    "history = model.fit(x_train_random, [y_train_random[:,i] for i in range(5)], \n",
    "                    batch_size=64, epochs=20, verbose=1, \n",
    "                    validation_data = (x_test_random, [y_test_random[:,i] for i in range(5)])\n",
    "                     #callbacks =[earlystopping,reduce_lr]\n",
    "                     )"
   ]
  }
 ],
 "metadata": {
  "kernelspec": {
   "display_name": "base",
   "language": "python",
   "name": "python3"
  },
  "language_info": {
   "codemirror_mode": {
    "name": "ipython",
    "version": 3
   },
   "file_extension": ".py",
   "mimetype": "text/x-python",
   "name": "python",
   "nbconvert_exporter": "python",
   "pygments_lexer": "ipython3",
   "version": "3.10.12"
  },
  "orig_nbformat": 4
 },
 "nbformat": 4,
 "nbformat_minor": 2
}
