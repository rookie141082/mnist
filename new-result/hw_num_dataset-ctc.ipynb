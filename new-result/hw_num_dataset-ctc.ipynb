{
 "cells": [
  {
   "cell_type": "code",
   "execution_count": 1,
   "metadata": {},
   "outputs": [],
   "source": [
    "import cv2\n",
    "import numpy as np\n",
    "import pandas as pd\n",
    "filename = 'E:/pythonfile/recognition/handwritten_numbers/hw_numbers_dataset/'\n",
    "data = pd.read_csv( filename + 'annotation.csv')\n"
   ]
  },
  {
   "cell_type": "code",
   "execution_count": 2,
   "metadata": {},
   "outputs": [],
   "source": [
    "\n",
    "x_data = [] #handwritten numbers dataset\n",
    "for i in range(len(data)):\n",
    "    img_dir = filename+data.loc[i, 'FileName']+'.jpg'\n",
    "    image = cv2.imread(img_dir, cv2.IMREAD_GRAYSCALE)\n",
    "    image = image/255.\n",
    "    x_data.append(image)\n"
   ]
  },
  {
   "cell_type": "code",
   "execution_count": 3,
   "metadata": {},
   "outputs": [],
   "source": [
    "x_data = np.array(x_data).reshape(-1, 32, 64, 1)"
   ]
  },
  {
   "cell_type": "code",
   "execution_count": 4,
   "metadata": {},
   "outputs": [],
   "source": [
    "train_x =x_data[:60000]\n",
    "test_x= x_data[60000:80000]\n",
    "valid_x= x_data[80000:]"
   ]
  },
  {
   "cell_type": "code",
   "execution_count": 5,
   "metadata": {},
   "outputs": [],
   "source": [
    "train_size = 60000\n",
    "test_size= 20000\n",
    "valid_size= 20000"
   ]
  },
  {
   "cell_type": "code",
   "execution_count": 6,
   "metadata": {},
   "outputs": [],
   "source": [
    "for i in range(len(data)):\n",
    "    data.loc[i,'Value'] = str(data.loc[i,'Value']).replace(\".\", \"\")"
   ]
  },
  {
   "cell_type": "code",
   "execution_count": 7,
   "metadata": {},
   "outputs": [],
   "source": [
    "str_len = []\n",
    "for i in range(len(data)):\n",
    "    str_len.append(len(data.loc[i,'Value']))"
   ]
  },
  {
   "cell_type": "code",
   "execution_count": 8,
   "metadata": {},
   "outputs": [],
   "source": [
    "alphabets = u\"0123456789-\"\n",
    "max_str_len = max(str_len) # max length of input labels 5\n",
    "num_of_characters = len(alphabets) + 1 # +1 for ctc pseudo blank\n",
    "num_of_timestamps = 64 # max length of predicted labels\n",
    "\n",
    "\n",
    "def label_to_num(label):\n",
    "    label_num = []\n",
    "    for ch in label:\n",
    "        label_num.append(alphabets.find(ch))\n",
    "        \n",
    "    return np.array(label_num)\n",
    "\n",
    "def num_to_label(num):\n",
    "    ret = \"\"\n",
    "    for ch in num:\n",
    "        if ch == -1:  # CTC Blank\n",
    "            break\n",
    "        else:\n",
    "            ret+=alphabets[ch]\n",
    "    return ret"
   ]
  },
  {
   "cell_type": "code",
   "execution_count": 9,
   "metadata": {},
   "outputs": [
    {
     "name": "stdout",
     "output_type": "stream",
     "text": [
      "True label :  2549 \n",
      "train_y :  [2. 5. 4. 9.] \n",
      "train_label_len :  [4.] \n",
      "train_input_len :  [64.]\n"
     ]
    }
   ],
   "source": [
    "train_y = np.ones([train_size, max_str_len]) * -1\n",
    "train_label_len = np.zeros([train_size, 1])\n",
    "train_input_len = np.ones([train_size, 1]) * num_of_timestamps\n",
    "train_output = np.zeros([train_size])\n",
    "\n",
    "for i in data.index[:train_size]:\n",
    "    train_label_len[i] = len(data.loc[i, 'Value'])\n",
    "    train_y[i, 0:len(data.loc[i, 'Value'])]= label_to_num(data.loc[i, 'Value'])\n",
    "\n",
    "train_y_ctc = [np.array(row)[:np.argmax(row == -1)] for row in train_y]\n",
    "\n",
    "print('True label : ',data.loc[100, 'Value'] , '\\ntrain_y : ',train_y_ctc[100],\n",
    "      '\\ntrain_label_len : ',train_label_len[100],'\\ntrain_input_len : ',train_input_len[100]) "
   ]
  },
  {
   "cell_type": "code",
   "execution_count": 10,
   "metadata": {},
   "outputs": [
    {
     "name": "stdout",
     "output_type": "stream",
     "text": [
      "True label :  1939 \n",
      "test_y :  [1. 9. 3. 9.] \n",
      "test_label_len :  [4.] \n",
      "test_input_len :  [64.]\n"
     ]
    }
   ],
   "source": [
    "test_y = np.ones([test_size, max_str_len]) * -1\n",
    "test_label_len = np.zeros([test_size, 1])\n",
    "test_input_len = np.ones([test_size, 1]) * num_of_timestamps\n",
    "test_output = np.zeros([test_size])\n",
    "\n",
    "for i in data.index[train_size:train_size+test_size]:\n",
    "    test_label_len[i-60000] = len(data.loc[i, 'Value'])\n",
    "    test_y[i-60000, 0:len(data.loc[i, 'Value'])]= label_to_num(data.loc[i, 'Value']) \n",
    "test_y_ctc = [np.array(row)[:np.argmax(row == -1)] for row in test_y]\n",
    "print('True label : ',data.loc[60100, 'Value'] , '\\ntest_y : ',test_y_ctc[100],\n",
    "      '\\ntest_label_len : ',test_label_len[100],'\\ntest_input_len : ',test_input_len[100]) "
   ]
  },
  {
   "cell_type": "code",
   "execution_count": 11,
   "metadata": {},
   "outputs": [
    {
     "name": "stdout",
     "output_type": "stream",
     "text": [
      "True label :  -630 \n",
      "verify_y :  [10.  6.  3.  0.] \n",
      "verify_label_len :  [4.] \n",
      "verify_input_len :  [64.]\n"
     ]
    }
   ],
   "source": [
    "valid_y = np.ones([valid_size, max_str_len]) * -1\n",
    "valid_label_len = np.zeros([valid_size, 1])\n",
    "valid_input_len = np.ones([valid_size, 1]) * num_of_timestamps\n",
    "valid_output = np.zeros([valid_size])\n",
    "\n",
    "for i in data.index[train_size+test_size:]:\n",
    "    valid_label_len[i-80000] = len(data.loc[i, 'Value'])\n",
    "    valid_y[i-80000, 0:len(data.loc[i, 'Value'])]= label_to_num(data.loc[i, 'Value']) \n",
    "valid_y_ctc = [np.array(row)[:np.argmax(row == -1)] for row in valid_y]\n",
    "print('True label : ',data.loc[80100, 'Value'] , '\\nverify_y : ',valid_y_ctc[100],\n",
    "      '\\nverify_label_len : ',valid_label_len[100],'\\nverify_input_len : ',valid_input_len[100]) "
   ]
  },
  {
   "cell_type": "code",
   "execution_count": 12,
   "metadata": {},
   "outputs": [
    {
     "name": "stdout",
     "output_type": "stream",
     "text": [
      "Label:1050\n"
     ]
    },
    {
     "data": {
      "image/png": "[encoded data removed]",
      "text/plain": [
       "<PIL.Image.Image image mode=L size=64x32>"
      ]
     },
     "metadata": {},
     "output_type": "display_data"
    },
    {
     "name": "stdout",
     "output_type": "stream",
     "text": [
      "Label:3495\n"
     ]
    },
    {
     "data": {
      "image/png": "[encoded data removed]",
      "text/plain": [
       "<PIL.Image.Image image mode=L size=64x32>"
      ]
     },
     "metadata": {},
     "output_type": "display_data"
    },
    {
     "name": "stdout",
     "output_type": "stream",
     "text": [
      "Label:1986\n"
     ]
    },
    {
     "data": {
      "image/png": "[encoded data removed]",
      "text/plain": [
       "<PIL.Image.Image image mode=L size=64x32>"
      ]
     },
     "metadata": {},
     "output_type": "display_data"
    },
    {
     "name": "stdout",
     "output_type": "stream",
     "text": [
      "Label:554\n"
     ]
    },
    {
     "data": {
      "image/png": "[encoded data removed]",
      "text/plain": [
       "<PIL.Image.Image image mode=L size=64x32>"
      ]
     },
     "metadata": {},
     "output_type": "display_data"
    },
    {
     "name": "stdout",
     "output_type": "stream",
     "text": [
      "Label:625\n"
     ]
    },
    {
     "data": {
      "image/png": "[encoded data removed]",
      "text/plain": [
       "<PIL.Image.Image image mode=L size=64x32>"
      ]
     },
     "metadata": {},
     "output_type": "display_data"
    },
    {
     "name": "stdout",
     "output_type": "stream",
     "text": [
      "Label:422\n"
     ]
    },
    {
     "data": {
      "image/png": "[encoded data removed]",
      "text/plain": [
       "<PIL.Image.Image image mode=L size=64x32>"
      ]
     },
     "metadata": {},
     "output_type": "display_data"
    },
    {
     "name": "stdout",
     "output_type": "stream",
     "text": [
      "Label:2810\n"
     ]
    },
    {
     "data": {
      "image/png": "[encoded data removed]",
      "text/plain": [
       "<PIL.Image.Image image mode=L size=64x32>"
      ]
     },
     "metadata": {},
     "output_type": "display_data"
    },
    {
     "name": "stdout",
     "output_type": "stream",
     "text": [
      "Label:1434\n"
     ]
    },
    {
     "data": {
      "image/png": "[encoded data removed]",
      "text/plain": [
       "<PIL.Image.Image image mode=L size=64x32>"
      ]
     },
     "metadata": {},
     "output_type": "display_data"
    },
    {
     "name": "stdout",
     "output_type": "stream",
     "text": [
      "Label:3369\n"
     ]
    },
    {
     "data": {
      "image/png": "[encoded data removed]",
      "text/plain": [
       "<PIL.Image.Image image mode=L size=64x32>"
      ]
     },
     "metadata": {},
     "output_type": "display_data"
    },
    {
     "name": "stdout",
     "output_type": "stream",
     "text": [
      "Label:3032\n"
     ]
    },
    {
     "data": {
      "image/png": "[encoded data removed]",
      "text/plain": [
       "<PIL.Image.Image image mode=L size=64x32>"
      ]
     },
     "metadata": {},
     "output_type": "display_data"
    }
   ],
   "source": [
    "from PIL import Image\n",
    "from IPython.display import display\n",
    "\n",
    "def image_see(n):\n",
    "    image_data = (np.squeeze(x_data[n]) * 255).astype('uint8')\n",
    "    image = Image.fromarray(image_data, 'L')\n",
    "    title = f\"Label:{data.loc[n,'Value']}\"\n",
    "    print(title)\n",
    "    display(image)\n",
    "for id_n in np.random.randint(0, len(data),10):\n",
    "    image_see(id_n)\n"
   ]
  },
  {
   "cell_type": "code",
   "execution_count": 13,
   "metadata": {},
   "outputs": [
    {
     "name": "stdout",
     "output_type": "stream",
     "text": [
      "Model: \"model\"\n",
      "_________________________________________________________________\n",
      "Layer (type)                 Output Shape              Param #   \n",
      "=================================================================\n",
      "input (InputLayer)           [(None, 32, 64, 1)]       0         \n",
      "_________________________________________________________________\n",
      "conv2d (Conv2D)              (None, 32, 64, 32)        320       \n",
      "_________________________________________________________________\n",
      "activation (Activation)      (None, 32, 64, 32)        0         \n",
      "_________________________________________________________________\n",
      "batch_normalization (BatchNo (None, 32, 64, 32)        128       \n",
      "_________________________________________________________________\n",
      "conv2d_1 (Conv2D)            (None, 32, 64, 64)        18496     \n",
      "_________________________________________________________________\n",
      "activation_1 (Activation)    (None, 32, 64, 64)        0         \n",
      "_________________________________________________________________\n",
      "batch_normalization_1 (Batch (None, 32, 64, 64)        256       \n",
      "_________________________________________________________________\n",
      "max3 (MaxPooling2D)          (None, 32, 32, 64)        0         \n",
      "_________________________________________________________________\n",
      "conv2d_2 (Conv2D)            (None, 32, 32, 64)        36928     \n",
      "_________________________________________________________________\n",
      "activation_2 (Activation)    (None, 32, 32, 64)        0         \n",
      "_________________________________________________________________\n",
      "batch_normalization_2 (Batch (None, 32, 32, 64)        256       \n",
      "_________________________________________________________________\n",
      "conv2d_3 (Conv2D)            (None, 32, 32, 128)       73856     \n",
      "_________________________________________________________________\n",
      "activation_3 (Activation)    (None, 32, 32, 128)       0         \n",
      "_________________________________________________________________\n",
      "batch_normalization_3 (Batch (None, 32, 32, 128)       512       \n",
      "_________________________________________________________________\n",
      "max4 (MaxPooling2D)          (None, 32, 16, 128)       0         \n",
      "_________________________________________________________________\n",
      "conv2d_4 (Conv2D)            (None, 32, 16, 128)       147584    \n",
      "_________________________________________________________________\n",
      "activation_4 (Activation)    (None, 32, 16, 128)       0         \n",
      "_________________________________________________________________\n",
      "batch_normalization_4 (Batch (None, 32, 16, 128)       512       \n",
      "_________________________________________________________________\n",
      "conv2d_5 (Conv2D)            (None, 32, 16, 256)       295168    \n",
      "_________________________________________________________________\n",
      "activation_5 (Activation)    (None, 32, 16, 256)       0         \n",
      "_________________________________________________________________\n",
      "batch_normalization_5 (Batch (None, 32, 16, 256)       1024      \n",
      "_________________________________________________________________\n",
      "max2 (MaxPooling2D)          (None, 32, 8, 256)        0         \n",
      "_________________________________________________________________\n",
      "dropout (Dropout)            (None, 32, 8, 256)        0         \n",
      "_________________________________________________________________\n",
      "reshape (Reshape)            (None, 64, 1024)          0         \n",
      "_________________________________________________________________\n",
      "dense1 (Dense)               (None, 64, 64)            65600     \n",
      "_________________________________________________________________\n",
      "lstm1 (Bidirectional)        (None, 64, 256)           197632    \n",
      "_________________________________________________________________\n",
      "lstm2 (Bidirectional)        (None, 64, 512)           1050624   \n",
      "_________________________________________________________________\n",
      "dense2 (Dense)               (None, 64, 12)            6156      \n",
      "_________________________________________________________________\n",
      "softmax (Activation)         (None, 64, 12)            0         \n",
      "=================================================================\n",
      "Total params: 1,895,052\n",
      "Trainable params: 1,893,708\n",
      "Non-trainable params: 1,344\n",
      "_________________________________________________________________\n"
     ]
    }
   ],
   "source": [
    "import tensorflow as tf\n",
    "\n",
    "from tensorflow.keras import regularizers\n",
    "from tensorflow.keras import backend as K\n",
    "from tensorflow.keras.models import Model\n",
    "from tensorflow.keras.layers import Input, Conv2D, MaxPooling2D, Reshape, Bidirectional, LSTM, Dense, Lambda, Activation, BatchNormalization, Dropout\n",
    "from tensorflow.keras.optimizers import Adam\n",
    "\n",
    "def ConvBlock(layout,filters):\n",
    "        inner = Conv2D(filters, (3, 3), activation='elu', padding='same')(layout)  \n",
    "        inner = Activation('elu')(inner)\n",
    "        layout = BatchNormalization()(inner)\n",
    "        return layout\n",
    "\n",
    "input_data = Input(shape=(32, 64, 1), name='input')\n",
    "\n",
    "inner = ConvBlock(input_data,32) \n",
    "#inner = ConvBlock(inner,32) \n",
    "#inner = MaxPooling2D(pool_size=(1, 2), name='max1')(inner)\n",
    "#inner = ConvBlock(inner,32) \n",
    "inner = ConvBlock(inner,64) \n",
    "inner = MaxPooling2D(pool_size=(1, 2), name='max3')(inner)\n",
    "inner = ConvBlock(inner,64) \n",
    "inner = ConvBlock(inner,128) \n",
    "inner = MaxPooling2D(pool_size=(1, 2), name='max4')(inner)\n",
    "inner = ConvBlock(inner,128)\n",
    "inner = ConvBlock(inner,256)  \n",
    "inner = MaxPooling2D(pool_size=(1, 2), name='max2')(inner)\n",
    "inner = Dropout(0.3)(inner)\n",
    "\n",
    "# CNN to RNN\n",
    "inner = Reshape(target_shape=((64,128*8)), name='reshape')(inner)\n",
    "inner = Dense(64, activation=\"softmax\", name='dense1')(inner)#\n",
    "\n",
    "## RNN\n",
    "inner = Bidirectional(LSTM(128, return_sequences=True, dropout=0.2), name = 'lstm1')(inner)\n",
    "inner = Bidirectional(LSTM(256, return_sequences=True, dropout=0.2), name = 'lstm2')(inner)\n",
    "\n",
    "## OUTPUT\n",
    "inner = Dense(num_of_characters,name='dense2')(inner)\n",
    "y_pred = Activation('softmax', name='softmax')(inner)\n",
    "\n",
    "model = Model(inputs=input_data, outputs=y_pred)\n",
    "model.summary()"
   ]
  },
  {
   "cell_type": "code",
   "execution_count": 14,
   "metadata": {},
   "outputs": [],
   "source": [
    "# the ctc loss function\n",
    "def ctc_lambda_func(args):\n",
    "    y_pred, labels, input_length, label_length = args\n",
    "    # the 2 is critical here since the first couple outputs of the RNN\n",
    "    # tend to be garbage\n",
    "    #y_pred = y_pred[:, 2:, :]\n",
    "    return K.ctc_batch_cost(labels, y_pred, input_length, label_length)"
   ]
  },
  {
   "cell_type": "code",
   "execution_count": 15,
   "metadata": {},
   "outputs": [],
   "source": [
    "labels = Input(name='gtruth_labels', shape=[max_str_len], dtype='float32')\n",
    "input_length = Input(name='input_length', shape=[1], dtype='int64')\n",
    "label_length = Input(name='label_length', shape=[1], dtype='int64')\n",
    "\n",
    "ctc_loss = Lambda(ctc_lambda_func, output_shape=(1,), name='ctc')([y_pred, labels, input_length, label_length])\n",
    "model_final = Model(inputs=[input_data, labels, input_length, label_length], outputs=ctc_loss)"
   ]
  },
  {
   "cell_type": "code",
   "execution_count": 16,
   "metadata": {},
   "outputs": [
    {
     "name": "stdout",
     "output_type": "stream",
     "text": [
      "Epoch 1/150\n",
      "3750/3750 [==============================] - 257s 67ms/step - loss: 8.6558 - accuracy: 0.0000e+00 - val_loss: 8.1920 - val_accuracy: 0.0000e+00\n",
      "Epoch 2/150\n",
      "3750/3750 [==============================] - 249s 66ms/step - loss: 7.5703 - accuracy: 0.0000e+00 - val_loss: 9.3982 - val_accuracy: 0.0000e+00\n",
      "Epoch 3/150\n",
      "3750/3750 [==============================] - 249s 66ms/step - loss: 6.6475 - accuracy: 0.0000e+00 - val_loss: 6.4480 - val_accuracy: 0.0000e+00\n",
      "Epoch 4/150\n",
      "3750/3750 [==============================] - 246s 66ms/step - loss: 5.6539 - accuracy: 0.0018 - val_loss: 8.7596 - val_accuracy: 0.0026\n",
      "Epoch 5/150\n",
      "3750/3750 [==============================] - 244s 65ms/step - loss: 4.4810 - accuracy: 0.0136 - val_loss: 3.8037 - val_accuracy: 0.0180\n",
      "Epoch 6/150\n",
      "3750/3750 [==============================] - 245s 65ms/step - loss: 3.1666 - accuracy: 0.0415 - val_loss: 2.5686 - val_accuracy: 0.1213\n",
      "Epoch 7/150\n",
      "3750/3750 [==============================] - 245s 65ms/step - loss: 1.6702 - accuracy: 0.4200 - val_loss: 1.5477 - val_accuracy: 0.5529\n",
      "Epoch 8/150\n",
      "3750/3750 [==============================] - 245s 65ms/step - loss: 1.2220 - accuracy: 0.6129 - val_loss: 1.3828 - val_accuracy: 0.6072\n",
      "Epoch 9/150\n",
      "3750/3750 [==============================] - 245s 65ms/step - loss: 1.0465 - accuracy: 0.6759 - val_loss: 1.0882 - val_accuracy: 0.7065\n",
      "Epoch 10/150\n",
      "3750/3750 [==============================] - 245s 65ms/step - loss: 0.9121 - accuracy: 0.7212 - val_loss: 2.0982 - val_accuracy: 0.5200\n",
      "Epoch 11/150\n",
      "3750/3750 [==============================] - 245s 65ms/step - loss: 0.8477 - accuracy: 0.7392 - val_loss: 0.9254 - val_accuracy: 0.7649\n",
      "Epoch 12/150\n",
      "3750/3750 [==============================] - 245s 65ms/step - loss: 0.7789 - accuracy: 0.7647 - val_loss: 0.9992 - val_accuracy: 0.7245\n",
      "Epoch 13/150\n",
      "3750/3750 [==============================] - 245s 65ms/step - loss: 0.7194 - accuracy: 0.7821 - val_loss: 0.9848 - val_accuracy: 0.7438\n",
      "Epoch 14/150\n",
      "3750/3750 [==============================] - 246s 66ms/step - loss: 0.6784 - accuracy: 0.7938 - val_loss: 0.8486 - val_accuracy: 0.7760\n",
      "Epoch 15/150\n",
      "3750/3750 [==============================] - 246s 66ms/step - loss: 0.6459 - accuracy: 0.8051 - val_loss: 0.8415 - val_accuracy: 0.7883\n",
      "Epoch 16/150\n",
      "3750/3750 [==============================] - 247s 66ms/step - loss: 0.6290 - accuracy: 0.8084 - val_loss: 0.8508 - val_accuracy: 0.7933\n",
      "Epoch 17/150\n",
      "3750/3750 [==============================] - 247s 66ms/step - loss: 0.5846 - accuracy: 0.8239 - val_loss: 0.7225 - val_accuracy: 0.8026\n",
      "Epoch 18/150\n",
      "3750/3750 [==============================] - 247s 66ms/step - loss: 0.5717 - accuracy: 0.8250 - val_loss: 0.7874 - val_accuracy: 0.7973\n",
      "Epoch 19/150\n",
      "3750/3750 [==============================] - 246s 66ms/step - loss: 0.5479 - accuracy: 0.8332 - val_loss: 0.9468 - val_accuracy: 0.7546\n",
      "Epoch 20/150\n",
      "3750/3750 [==============================] - 246s 66ms/step - loss: 0.5263 - accuracy: 0.8382 - val_loss: 0.6922 - val_accuracy: 0.8219\n",
      "Epoch 21/150\n",
      "3750/3750 [==============================] - 246s 66ms/step - loss: 0.4944 - accuracy: 0.8474 - val_loss: 0.7836 - val_accuracy: 0.7891\n",
      "Epoch 22/150\n",
      "3750/3750 [==============================] - 247s 66ms/step - loss: 0.4805 - accuracy: 0.8502 - val_loss: 0.8147 - val_accuracy: 0.8138\n",
      "Epoch 23/150\n",
      "3750/3750 [==============================] - 247s 66ms/step - loss: 0.4688 - accuracy: 0.8538 - val_loss: 0.7155 - val_accuracy: 0.8211\n",
      "Epoch 24/150\n",
      "3750/3750 [==============================] - 246s 66ms/step - loss: 0.4512 - accuracy: 0.8567 - val_loss: 0.7665 - val_accuracy: 0.8113\n",
      "Epoch 25/150\n",
      "3750/3750 [==============================] - 247s 66ms/step - loss: 0.4338 - accuracy: 0.8627 - val_loss: 0.6794 - val_accuracy: 0.8346\n",
      "Epoch 26/150\n",
      "3750/3750 [==============================] - 246s 66ms/step - loss: 0.4094 - accuracy: 0.8666 - val_loss: 0.6737 - val_accuracy: 0.8322\n",
      "Epoch 27/150\n",
      "3750/3750 [==============================] - 247s 66ms/step - loss: 0.3992 - accuracy: 0.8712 - val_loss: 0.6909 - val_accuracy: 0.8242\n",
      "Epoch 28/150\n",
      "3750/3750 [==============================] - 246s 66ms/step - loss: 0.3986 - accuracy: 0.8701 - val_loss: 0.6286 - val_accuracy: 0.8510\n",
      "Epoch 29/150\n",
      "3750/3750 [==============================] - 247s 66ms/step - loss: 0.3839 - accuracy: 0.8757 - val_loss: 0.6614 - val_accuracy: 0.8400\n",
      "Epoch 30/150\n",
      "3750/3750 [==============================] - 245s 65ms/step - loss: 0.3714 - accuracy: 0.8796 - val_loss: 0.8090 - val_accuracy: 0.8094\n",
      "Epoch 31/150\n",
      "3750/3750 [==============================] - 245s 65ms/step - loss: 0.3765 - accuracy: 0.8749 - val_loss: 0.6685 - val_accuracy: 0.8396\n",
      "Epoch 32/150\n",
      "3750/3750 [==============================] - 244s 65ms/step - loss: 0.3506 - accuracy: 0.8828 - val_loss: 0.6410 - val_accuracy: 0.8527\n",
      "Epoch 33/150\n",
      "3750/3750 [==============================] - 245s 65ms/step - loss: 0.3468 - accuracy: 0.8856 - val_loss: 0.8953 - val_accuracy: 0.7656\n",
      "Epoch 34/150\n",
      "3750/3750 [==============================] - 245s 65ms/step - loss: 0.3278 - accuracy: 0.8901 - val_loss: 0.8085 - val_accuracy: 0.7863\n",
      "Epoch 35/150\n",
      "3750/3750 [==============================] - 246s 65ms/step - loss: 0.3268 - accuracy: 0.8906 - val_loss: 0.6635 - val_accuracy: 0.8342\n",
      "Epoch 36/150\n",
      "3750/3750 [==============================] - 246s 66ms/step - loss: 0.3109 - accuracy: 0.8938 - val_loss: 0.8171 - val_accuracy: 0.8096\n",
      "Epoch 37/150\n",
      "3750/3750 [==============================] - 246s 66ms/step - loss: 0.3120 - accuracy: 0.8941 - val_loss: 0.6459 - val_accuracy: 0.8539\n",
      "Epoch 38/150\n",
      "3750/3750 [==============================] - 246s 66ms/step - loss: 0.2985 - accuracy: 0.8966 - val_loss: 0.7301 - val_accuracy: 0.8295\n",
      "Epoch 39/150\n",
      "3750/3750 [==============================] - 246s 66ms/step - loss: 0.2791 - accuracy: 0.9027 - val_loss: 0.7475 - val_accuracy: 0.8171\n",
      "Epoch 40/150\n",
      "3750/3750 [==============================] - 247s 66ms/step - loss: 0.2877 - accuracy: 0.8995 - val_loss: 0.6356 - val_accuracy: 0.8553\n",
      "Epoch 41/150\n",
      "3750/3750 [==============================] - 246s 66ms/step - loss: 0.2735 - accuracy: 0.9032 - val_loss: 0.7948 - val_accuracy: 0.8102\n",
      "Epoch 42/150\n",
      "3750/3750 [==============================] - 246s 66ms/step - loss: 0.2782 - accuracy: 0.9017 - val_loss: 0.6774 - val_accuracy: 0.8440\n",
      "Epoch 43/150\n",
      "3750/3750 [==============================] - 246s 66ms/step - loss: 0.2632 - accuracy: 0.9064 - val_loss: 0.7490 - val_accuracy: 0.8381\n",
      "Epoch 44/150\n",
      "3750/3750 [==============================] - 246s 66ms/step - loss: 0.2612 - accuracy: 0.9070 - val_loss: 0.6406 - val_accuracy: 0.8608\n",
      "Epoch 45/150\n",
      "3750/3750 [==============================] - 246s 66ms/step - loss: 0.2496 - accuracy: 0.9098 - val_loss: 0.6384 - val_accuracy: 0.8651\n",
      "Epoch 46/150\n",
      "3750/3750 [==============================] - 247s 66ms/step - loss: 0.2392 - accuracy: 0.9157 - val_loss: 0.6897 - val_accuracy: 0.8487\n",
      "Epoch 47/150\n",
      "3750/3750 [==============================] - 246s 66ms/step - loss: 0.2418 - accuracy: 0.9129 - val_loss: 0.6918 - val_accuracy: 0.8521\n",
      "Epoch 48/150\n",
      "3750/3750 [==============================] - 246s 66ms/step - loss: 0.2364 - accuracy: 0.9156 - val_loss: 0.6895 - val_accuracy: 0.8466\n",
      "Epoch 49/150\n",
      "3750/3750 [==============================] - 247s 66ms/step - loss: 0.2404 - accuracy: 0.9130 - val_loss: 0.6640 - val_accuracy: 0.8602\n",
      "Epoch 50/150\n",
      "3750/3750 [==============================] - 247s 66ms/step - loss: 0.2234 - accuracy: 0.9183 - val_loss: 0.6838 - val_accuracy: 0.8601\n",
      "Epoch 51/150\n",
      "3750/3750 [==============================] - 247s 66ms/step - loss: 0.2306 - accuracy: 0.9160 - val_loss: 0.6957 - val_accuracy: 0.8506\n",
      "Epoch 52/150\n",
      "3750/3750 [==============================] - 247s 66ms/step - loss: 0.2178 - accuracy: 0.9202 - val_loss: 0.6238 - val_accuracy: 0.8673\n",
      "Epoch 53/150\n",
      "3750/3750 [==============================] - 246s 66ms/step - loss: 0.2034 - accuracy: 0.9252 - val_loss: 0.6664 - val_accuracy: 0.8597\n",
      "Epoch 54/150\n",
      "3750/3750 [==============================] - 247s 66ms/step - loss: 0.2098 - accuracy: 0.9208 - val_loss: 1.2614 - val_accuracy: 0.7376\n",
      "Epoch 55/150\n",
      "3750/3750 [==============================] - 247s 66ms/step - loss: 0.2056 - accuracy: 0.9228 - val_loss: 0.7001 - val_accuracy: 0.8633\n",
      "Epoch 56/150\n",
      "3750/3750 [==============================] - 247s 66ms/step - loss: 0.2005 - accuracy: 0.9253 - val_loss: 0.6649 - val_accuracy: 0.8679\n",
      "Epoch 57/150\n",
      "3750/3750 [==============================] - 246s 66ms/step - loss: 0.1977 - accuracy: 0.9260 - val_loss: 1.0763 - val_accuracy: 0.7693\n",
      "Epoch 58/150\n",
      "3750/3750 [==============================] - 251s 67ms/step - loss: 0.1919 - accuracy: 0.9281 - val_loss: 0.7061 - val_accuracy: 0.8676\n",
      "Epoch 59/150\n",
      "3750/3750 [==============================] - 247s 66ms/step - loss: 0.1950 - accuracy: 0.9271 - val_loss: 0.7421 - val_accuracy: 0.8493\n",
      "Epoch 60/150\n",
      "3750/3750 [==============================] - 246s 66ms/step - loss: 0.1909 - accuracy: 0.9275 - val_loss: 0.7431 - val_accuracy: 0.8509\n",
      "Epoch 61/150\n",
      "3750/3750 [==============================] - 246s 66ms/step - loss: 0.1863 - accuracy: 0.9285 - val_loss: 0.6623 - val_accuracy: 0.8660\n",
      "Epoch 62/150\n",
      "3750/3750 [==============================] - 247s 66ms/step - loss: 0.1782 - accuracy: 0.9319 - val_loss: 0.7395 - val_accuracy: 0.8525\n",
      "Epoch 63/150\n",
      "3750/3750 [==============================] - 247s 66ms/step - loss: 0.1815 - accuracy: 0.9312 - val_loss: 0.6787 - val_accuracy: 0.8677\n",
      "Epoch 64/150\n",
      "3750/3750 [==============================] - 247s 66ms/step - loss: 0.1973 - accuracy: 0.9270 - val_loss: 0.6980 - val_accuracy: 0.8613\n",
      "Epoch 65/150\n",
      "3750/3750 [==============================] - 247s 66ms/step - loss: 0.1754 - accuracy: 0.9345 - val_loss: 0.6990 - val_accuracy: 0.8616\n",
      "Epoch 66/150\n",
      "3750/3750 [==============================] - 246s 66ms/step - loss: 0.1798 - accuracy: 0.9316 - val_loss: 0.7729 - val_accuracy: 0.8522\n",
      "Epoch 67/150\n",
      "3750/3750 [==============================] - 247s 66ms/step - loss: 0.1634 - accuracy: 0.9371 - val_loss: 0.7085 - val_accuracy: 0.8602\n",
      "Epoch 68/150\n",
      "3750/3750 [==============================] - 247s 66ms/step - loss: 0.1778 - accuracy: 0.9326 - val_loss: 0.6646 - val_accuracy: 0.8719\n",
      "Epoch 69/150\n",
      "3750/3750 [==============================] - 246s 66ms/step - loss: 0.1698 - accuracy: 0.9349 - val_loss: 0.7231 - val_accuracy: 0.8529\n",
      "Epoch 70/150\n",
      "3750/3750 [==============================] - 246s 66ms/step - loss: 0.1619 - accuracy: 0.9372 - val_loss: 0.7062 - val_accuracy: 0.8591\n",
      "Epoch 71/150\n",
      "3750/3750 [==============================] - 246s 66ms/step - loss: 0.1647 - accuracy: 0.9375 - val_loss: 0.6885 - val_accuracy: 0.8690\n",
      "Epoch 72/150\n",
      "3750/3750 [==============================] - 246s 66ms/step - loss: 0.1563 - accuracy: 0.9404 - val_loss: 0.7550 - val_accuracy: 0.8609\n",
      "Epoch 73/150\n",
      "3750/3750 [==============================] - 247s 66ms/step - loss: 0.1575 - accuracy: 0.9390 - val_loss: 0.6461 - val_accuracy: 0.8733\n",
      "Epoch 74/150\n",
      "3750/3750 [==============================] - 246s 66ms/step - loss: 0.1537 - accuracy: 0.9407 - val_loss: 0.6910 - val_accuracy: 0.8733\n",
      "Epoch 75/150\n",
      "3750/3750 [==============================] - 246s 66ms/step - loss: 0.1558 - accuracy: 0.9407 - val_loss: 0.8211 - val_accuracy: 0.8407\n",
      "Epoch 76/150\n",
      "3750/3750 [==============================] - 247s 66ms/step - loss: 0.1478 - accuracy: 0.9427 - val_loss: 0.7260 - val_accuracy: 0.8663\n",
      "Epoch 77/150\n",
      "3750/3750 [==============================] - 247s 66ms/step - loss: 0.1521 - accuracy: 0.9419 - val_loss: 0.8016 - val_accuracy: 0.8414\n",
      "Epoch 78/150\n",
      "3750/3750 [==============================] - 246s 66ms/step - loss: 0.1563 - accuracy: 0.9398 - val_loss: 0.6736 - val_accuracy: 0.8728\n",
      "Epoch 79/150\n",
      "3750/3750 [==============================] - 246s 66ms/step - loss: 0.1481 - accuracy: 0.9440 - val_loss: 0.7244 - val_accuracy: 0.8616\n",
      "Epoch 80/150\n",
      "3750/3750 [==============================] - 247s 66ms/step - loss: 0.1518 - accuracy: 0.9415 - val_loss: 0.6452 - val_accuracy: 0.8781\n",
      "Epoch 81/150\n",
      "3750/3750 [==============================] - 247s 66ms/step - loss: 0.1526 - accuracy: 0.9421 - val_loss: 0.7151 - val_accuracy: 0.8690\n",
      "Epoch 82/150\n",
      "3750/3750 [==============================] - 247s 66ms/step - loss: 0.1390 - accuracy: 0.9454 - val_loss: 0.7048 - val_accuracy: 0.8655\n",
      "Epoch 83/150\n",
      "3750/3750 [==============================] - 247s 66ms/step - loss: 0.1469 - accuracy: 0.9432 - val_loss: 0.7067 - val_accuracy: 0.8632\n",
      "Epoch 84/150\n",
      "3750/3750 [==============================] - 245s 65ms/step - loss: 0.1410 - accuracy: 0.9453 - val_loss: 0.7155 - val_accuracy: 0.8710\n",
      "Epoch 85/150\n",
      "3750/3750 [==============================] - 245s 65ms/step - loss: 0.1398 - accuracy: 0.9457 - val_loss: 0.7549 - val_accuracy: 0.8642\n",
      "Epoch 86/150\n",
      "3750/3750 [==============================] - 245s 65ms/step - loss: 0.1321 - accuracy: 0.9493 - val_loss: 0.7191 - val_accuracy: 0.8636\n",
      "Epoch 87/150\n",
      "3750/3750 [==============================] - 247s 66ms/step - loss: 0.1331 - accuracy: 0.9477 - val_loss: 0.7346 - val_accuracy: 0.8609\n",
      "Epoch 88/150\n",
      "3750/3750 [==============================] - 247s 66ms/step - loss: 0.1433 - accuracy: 0.9452 - val_loss: 0.7658 - val_accuracy: 0.8586\n",
      "Epoch 89/150\n",
      "3750/3750 [==============================] - 246s 66ms/step - loss: 0.1380 - accuracy: 0.9472 - val_loss: 0.7652 - val_accuracy: 0.8573\n",
      "Epoch 90/150\n",
      "3750/3750 [==============================] - 247s 66ms/step - loss: 0.1307 - accuracy: 0.9491 - val_loss: 1.0126 - val_accuracy: 0.8181\n",
      "Epoch 91/150\n",
      "3750/3750 [==============================] - 247s 66ms/step - loss: 0.1374 - accuracy: 0.9480 - val_loss: 0.6924 - val_accuracy: 0.8712\n",
      "Epoch 92/150\n",
      "3750/3750 [==============================] - 246s 66ms/step - loss: 0.1358 - accuracy: 0.9475 - val_loss: 0.7397 - val_accuracy: 0.8594\n",
      "Epoch 93/150\n",
      "3750/3750 [==============================] - 245s 65ms/step - loss: 0.1321 - accuracy: 0.9495 - val_loss: 0.7191 - val_accuracy: 0.8715\n",
      "Epoch 94/150\n",
      "3750/3750 [==============================] - 242s 64ms/step - loss: 0.1267 - accuracy: 0.9505 - val_loss: 0.7022 - val_accuracy: 0.8675\n",
      "Epoch 95/150\n",
      "3750/3750 [==============================] - 239s 64ms/step - loss: 0.1291 - accuracy: 0.9501 - val_loss: 0.7838 - val_accuracy: 0.8543\n",
      "Epoch 96/150\n",
      "3750/3750 [==============================] - 241s 64ms/step - loss: 0.1609 - accuracy: 0.9410 - val_loss: 0.7024 - val_accuracy: 0.8755\n",
      "Epoch 97/150\n",
      "3750/3750 [==============================] - 242s 65ms/step - loss: 0.1172 - accuracy: 0.9535 - val_loss: 0.7362 - val_accuracy: 0.8651\n",
      "Epoch 98/150\n",
      "3750/3750 [==============================] - 248s 66ms/step - loss: 0.1195 - accuracy: 0.9529 - val_loss: 0.8413 - val_accuracy: 0.8393\n",
      "Epoch 99/150\n",
      "3750/3750 [==============================] - 248s 66ms/step - loss: 0.1240 - accuracy: 0.9511 - val_loss: 2.3344 - val_accuracy: 0.6492\n",
      "Epoch 100/150\n",
      "3750/3750 [==============================] - 248s 66ms/step - loss: 0.1310 - accuracy: 0.9497 - val_loss: 0.7388 - val_accuracy: 0.8717\n",
      "Epoch 101/150\n",
      "3750/3750 [==============================] - 248s 66ms/step - loss: 0.1236 - accuracy: 0.9524 - val_loss: 0.6931 - val_accuracy: 0.8762\n",
      "Epoch 102/150\n",
      "3750/3750 [==============================] - 248s 66ms/step - loss: 0.1308 - accuracy: 0.9496 - val_loss: 0.7115 - val_accuracy: 0.8729\n",
      "Epoch 103/150\n",
      "3750/3750 [==============================] - 248s 66ms/step - loss: 0.1284 - accuracy: 0.9496 - val_loss: 0.7103 - val_accuracy: 0.8726\n",
      "Epoch 104/150\n",
      "3750/3750 [==============================] - 248s 66ms/step - loss: 0.1273 - accuracy: 0.9512 - val_loss: 0.6913 - val_accuracy: 0.8733\n",
      "Epoch 105/150\n",
      "3750/3750 [==============================] - 248s 66ms/step - loss: 0.1212 - accuracy: 0.9529 - val_loss: 0.7233 - val_accuracy: 0.8651\n",
      "Epoch 106/150\n",
      "3750/3750 [==============================] - 249s 66ms/step - loss: 0.1156 - accuracy: 0.9553 - val_loss: 0.7489 - val_accuracy: 0.8656\n",
      "Epoch 107/150\n",
      "3750/3750 [==============================] - 248s 66ms/step - loss: 0.1161 - accuracy: 0.9542 - val_loss: 0.7208 - val_accuracy: 0.8732\n",
      "Epoch 108/150\n",
      "3750/3750 [==============================] - 248s 66ms/step - loss: 0.1195 - accuracy: 0.9549 - val_loss: 0.7285 - val_accuracy: 0.8711\n",
      "Epoch 109/150\n",
      "3750/3750 [==============================] - 248s 66ms/step - loss: 0.1226 - accuracy: 0.9542 - val_loss: 0.7345 - val_accuracy: 0.8681\n",
      "Epoch 110/150\n",
      "3750/3750 [==============================] - 248s 66ms/step - loss: 0.1152 - accuracy: 0.9548 - val_loss: 0.7421 - val_accuracy: 0.8626\n",
      "Epoch 111/150\n",
      "3750/3750 [==============================] - 248s 66ms/step - loss: 0.1142 - accuracy: 0.9555 - val_loss: 0.7479 - val_accuracy: 0.8702\n",
      "Epoch 112/150\n",
      "3750/3750 [==============================] - 248s 66ms/step - loss: 0.1115 - accuracy: 0.9567 - val_loss: 0.7441 - val_accuracy: 0.8727\n",
      "Epoch 113/150\n",
      "3750/3750 [==============================] - 248s 66ms/step - loss: 0.1098 - accuracy: 0.9565 - val_loss: 0.7169 - val_accuracy: 0.8757\n",
      "Epoch 114/150\n",
      "3750/3750 [==============================] - 247s 66ms/step - loss: 0.1151 - accuracy: 0.9568 - val_loss: 0.7555 - val_accuracy: 0.8659\n",
      "Epoch 115/150\n",
      "3750/3750 [==============================] - 248s 66ms/step - loss: 0.1125 - accuracy: 0.9557 - val_loss: 0.7413 - val_accuracy: 0.8668\n",
      "Epoch 116/150\n",
      "3750/3750 [==============================] - 247s 66ms/step - loss: 0.1190 - accuracy: 0.9534 - val_loss: 0.7149 - val_accuracy: 0.8719\n",
      "Epoch 117/150\n",
      "3750/3750 [==============================] - 248s 66ms/step - loss: 0.1148 - accuracy: 0.9548 - val_loss: 0.7007 - val_accuracy: 0.8744\n",
      "Epoch 118/150\n",
      "3750/3750 [==============================] - 248s 66ms/step - loss: 0.1115 - accuracy: 0.9572 - val_loss: 0.7222 - val_accuracy: 0.8692\n",
      "Epoch 119/150\n",
      "3750/3750 [==============================] - 248s 66ms/step - loss: 0.1127 - accuracy: 0.9567 - val_loss: 0.7439 - val_accuracy: 0.8676\n",
      "Epoch 120/150\n",
      "3750/3750 [==============================] - 248s 66ms/step - loss: 0.1078 - accuracy: 0.9593 - val_loss: 0.7106 - val_accuracy: 0.8740\n",
      "Epoch 121/150\n",
      "3750/3750 [==============================] - 249s 66ms/step - loss: 0.1107 - accuracy: 0.9571 - val_loss: 0.7061 - val_accuracy: 0.8744\n",
      "Epoch 122/150\n",
      "3750/3750 [==============================] - 248s 66ms/step - loss: 0.1090 - accuracy: 0.9590 - val_loss: 0.7381 - val_accuracy: 0.8716\n",
      "Epoch 123/150\n",
      "3750/3750 [==============================] - 248s 66ms/step - loss: 0.1065 - accuracy: 0.9579 - val_loss: 0.7590 - val_accuracy: 0.8670\n",
      "Epoch 124/150\n",
      "3750/3750 [==============================] - 248s 66ms/step - loss: 0.1056 - accuracy: 0.9597 - val_loss: 0.6964 - val_accuracy: 0.8742\n",
      "Epoch 125/150\n",
      "3750/3750 [==============================] - 248s 66ms/step - loss: 0.1069 - accuracy: 0.9579 - val_loss: 0.7176 - val_accuracy: 0.8769\n",
      "Epoch 126/150\n",
      "3750/3750 [==============================] - 248s 66ms/step - loss: 0.1055 - accuracy: 0.9596 - val_loss: 0.7059 - val_accuracy: 0.8788\n",
      "Epoch 127/150\n",
      "3750/3750 [==============================] - 248s 66ms/step - loss: 0.1172 - accuracy: 0.9550 - val_loss: 0.7306 - val_accuracy: 0.8690\n",
      "Epoch 128/150\n",
      "3750/3750 [==============================] - 248s 66ms/step - loss: 0.1234 - accuracy: 0.9538 - val_loss: 0.7253 - val_accuracy: 0.8733\n",
      "Epoch 129/150\n",
      "3750/3750 [==============================] - 248s 66ms/step - loss: 0.1040 - accuracy: 0.9585 - val_loss: 0.7424 - val_accuracy: 0.8731\n",
      "Epoch 130/150\n",
      "3750/3750 [==============================] - 249s 66ms/step - loss: 0.1084 - accuracy: 0.9584 - val_loss: 0.7119 - val_accuracy: 0.8747\n",
      "Epoch 131/150\n",
      "3750/3750 [==============================] - 250s 67ms/step - loss: 0.1108 - accuracy: 0.9585 - val_loss: 1.2091 - val_accuracy: 0.7919\n",
      "Epoch 132/150\n",
      "3750/3750 [==============================] - 249s 66ms/step - loss: 0.1103 - accuracy: 0.9564 - val_loss: 0.7251 - val_accuracy: 0.8731\n",
      "Epoch 133/150\n",
      "3750/3750 [==============================] - 249s 66ms/step - loss: 0.1148 - accuracy: 0.9563 - val_loss: 0.7216 - val_accuracy: 0.8720\n",
      "Epoch 134/150\n",
      "3750/3750 [==============================] - 249s 66ms/step - loss: 0.1028 - accuracy: 0.9599 - val_loss: 0.7313 - val_accuracy: 0.8745\n",
      "Epoch 135/150\n",
      "3750/3750 [==============================] - 247s 66ms/step - loss: 0.1090 - accuracy: 0.9579 - val_loss: 0.7828 - val_accuracy: 0.8648\n",
      "Epoch 136/150\n",
      "3750/3750 [==============================] - 247s 66ms/step - loss: 0.1023 - accuracy: 0.9598 - val_loss: 0.7355 - val_accuracy: 0.8708\n",
      "Epoch 137/150\n",
      "3750/3750 [==============================] - 247s 66ms/step - loss: 0.1011 - accuracy: 0.9605 - val_loss: 0.7459 - val_accuracy: 0.8794\n",
      "Epoch 138/150\n",
      "3750/3750 [==============================] - 247s 66ms/step - loss: 0.0995 - accuracy: 0.9604 - val_loss: 0.8690 - val_accuracy: 0.8482\n",
      "Epoch 139/150\n",
      "3750/3750 [==============================] - 247s 66ms/step - loss: 0.1008 - accuracy: 0.9616 - val_loss: 0.7181 - val_accuracy: 0.8720\n",
      "Epoch 140/150\n",
      "3750/3750 [==============================] - 247s 66ms/step - loss: 0.1045 - accuracy: 0.9620 - val_loss: 0.7184 - val_accuracy: 0.8775\n",
      "Epoch 141/150\n",
      "3750/3750 [==============================] - 241s 64ms/step - loss: 0.1015 - accuracy: 0.9609 - val_loss: 0.7358 - val_accuracy: 0.8702\n",
      "Epoch 142/150\n",
      "3750/3750 [==============================] - 237s 63ms/step - loss: 0.0987 - accuracy: 0.9611 - val_loss: 0.6901 - val_accuracy: 0.8785\n",
      "Epoch 143/150\n",
      "3750/3750 [==============================] - 241s 64ms/step - loss: 0.0990 - accuracy: 0.9617 - val_loss: 0.7597 - val_accuracy: 0.8695\n",
      "Epoch 144/150\n",
      "3750/3750 [==============================] - 238s 63ms/step - loss: 0.0987 - accuracy: 0.9623 - val_loss: 0.7210 - val_accuracy: 0.8784\n",
      "Epoch 145/150\n",
      "3750/3750 [==============================] - 249s 67ms/step - loss: 0.1020 - accuracy: 0.9613 - val_loss: 0.7005 - val_accuracy: 0.8791\n",
      "Epoch 146/150\n",
      "3750/3750 [==============================] - 249s 66ms/step - loss: 0.1037 - accuracy: 0.9605 - val_loss: 0.7473 - val_accuracy: 0.8766\n",
      "Epoch 147/150\n",
      "3750/3750 [==============================] - 249s 66ms/step - loss: 0.0993 - accuracy: 0.9615 - val_loss: 0.7516 - val_accuracy: 0.8723\n",
      "Epoch 148/150\n",
      "3750/3750 [==============================] - 249s 66ms/step - loss: 0.0995 - accuracy: 0.9617 - val_loss: 0.7715 - val_accuracy: 0.8727\n",
      "Epoch 149/150\n",
      "3750/3750 [==============================] - 250s 67ms/step - loss: 0.0964 - accuracy: 0.9627 - val_loss: 0.7980 - val_accuracy: 0.8658\n",
      "Epoch 150/150\n",
      "3750/3750 [==============================] - 249s 66ms/step - loss: 0.0940 - accuracy: 0.9635 - val_loss: 0.7419 - val_accuracy: 0.8724\n"
     ]
    }
   ],
   "source": [
    "from tensorflow import keras\n",
    "K.clear_session()\n",
    "model_final.compile(loss={'ctc': lambda y_true, y_pred: y_pred}, optimizer=keras.optimizers.Adam(learning_rate=0.001),\n",
    "                  metrics=['accuracy'])#, dtype='float16'\n",
    "\n",
    "\n",
    "history = model_final.fit(x=[train_x, train_y, train_input_len, train_label_len], y=train_output, \n",
    "                validation_data=([test_x, test_y, test_input_len, test_label_len], test_output),\n",
    "                epochs=150, batch_size=16)"
   ]
  },
  {
   "cell_type": "code",
   "execution_count": 17,
   "metadata": {},
   "outputs": [
    {
     "data": {
      "application/vnd.plotly.v1+json": {
       "config": {
        "plotlyServerURL": "https://plot.ly"
       },
       "data": [
        {
         "line": {
          "color": "blue"
         },
         "mode": "lines",
         "name": "Train",
         "type": "scatter",
         "x": [
          1,
          2,
          3,
          4,
          5,
          6,
          7,
          8,
          9,
          10,
          11,
          12,
          13,
          14,
          15,
          16,
          17,
          18,
          19,
          20,
          21,
          22,
          23,
          24,
          25,
          26,
          27,
          28,
          29,
          30,
          31,
          32,
          33,
          34,
          35,
          36,
          37,
          38,
          39,
          40,
          41,
          42,
          43,
          44,
          45,
          46,
          47,
          48,
          49,
          50,
          51,
          52,
          53,
          54,
          55,
          56,
          57,
          58,
          59,
          60,
          61,
          62,
          63,
          64,
          65,
          66,
          67,
          68,
          69,
          70,
          71,
          72,
          73,
          74,
          75,
          76,
          77,
          78,
          79,
          80,
          81,
          82,
          83,
          84,
          85,
          86,
          87,
          88,
          89,
          90,
          91,
          92,
          93,
          94,
          95,
          96,
          97,
          98,
          99,
          100,
          101,
          102,
          103,
          104,
          105,
          106,
          107,
          108,
          109,
          110,
          111,
          112,
          113,
          114,
          115,
          116,
          117,
          118,
          119,
          120,
          121,
          122,
          123,
          124,
          125,
          126,
          127,
          128,
          129,
          130,
          131,
          132,
          133,
          134,
          135,
          136,
          137,
          138,
          139,
          140,
          141,
          142,
          143,
          144,
          145,
          146,
          147,
          148,
          149,
          150
         ],
         "xaxis": "x",
         "y": [
          0,
          0,
          0,
          0.0018166666850447655,
          0.013566666282713413,
          0.041450001299381256,
          0.419950008392334,
          0.6129000186920166,
          0.6758666634559631,
          0.7211999893188477,
          0.7391666769981384,
          0.7647166848182678,
          0.7820500135421753,
          0.7937999963760376,
          0.8050500154495239,
          0.8083666563034058,
          0.8239499926567078,
          0.8250166773796082,
          0.8331666588783264,
          0.8381666541099548,
          0.84743332862854,
          0.8501833081245422,
          0.853766679763794,
          0.8567333221435547,
          0.8627166748046875,
          0.8666333556175232,
          0.8711833357810974,
          0.8701000213623047,
          0.8756666779518127,
          0.8795999884605408,
          0.8748666644096375,
          0.8827999830245972,
          0.8855833411216736,
          0.8901333212852478,
          0.8906000256538391,
          0.8938000202178955,
          0.8940666913986206,
          0.8966166377067566,
          0.9026666879653931,
          0.8994500041007996,
          0.9031999707221985,
          0.9017333388328552,
          0.9064499735832214,
          0.9070000052452087,
          0.9098166823387146,
          0.9156666398048401,
          0.9129499793052673,
          0.9156333208084106,
          0.913016676902771,
          0.9182666540145874,
          0.9160000085830688,
          0.9202166795730591,
          0.9252166748046875,
          0.9207500219345093,
          0.9228166937828064,
          0.9253166913986206,
          0.9259666800498962,
          0.9281333088874817,
          0.927133321762085,
          0.9274500012397766,
          0.9284999966621399,
          0.9319499731063843,
          0.9312166571617126,
          0.9270166754722595,
          0.9345333576202393,
          0.9315666556358337,
          0.9370833039283752,
          0.9325833320617676,
          0.9349333047866821,
          0.9372333288192749,
          0.9374666810035706,
          0.9403666853904724,
          0.9389833211898804,
          0.9407166838645935,
          0.9406833052635193,
          0.9426666498184204,
          0.9418666958808899,
          0.9398499727249146,
          0.944016695022583,
          0.9415000081062317,
          0.9420833587646484,
          0.9454166889190674,
          0.9432166814804077,
          0.9453333616256714,
          0.9456666707992554,
          0.9492666721343994,
          0.947700023651123,
          0.9451666474342346,
          0.9471666812896729,
          0.9491166472434998,
          0.947950005531311,
          0.9474666714668274,
          0.9495333433151245,
          0.9504500031471252,
          0.9500666856765747,
          0.9409833550453186,
          0.9535499811172485,
          0.9528666734695435,
          0.9511333107948303,
          0.9497166872024536,
          0.9524166584014893,
          0.9496166706085205,
          0.949566662311554,
          0.9512166380882263,
          0.95291668176651,
          0.9552833437919617,
          0.9542333483695984,
          0.9549333453178406,
          0.9542499780654907,
          0.954800009727478,
          0.9555000066757202,
          0.9567000269889832,
          0.956516683101654,
          0.956766664981842,
          0.9557499885559082,
          0.9533833265304565,
          0.9547500014305115,
          0.9571833610534668,
          0.9567166566848755,
          0.9592666625976562,
          0.9571166634559631,
          0.9590333104133606,
          0.9579333066940308,
          0.9596999883651733,
          0.957883358001709,
          0.9596166610717773,
          0.9549833536148071,
          0.9538166522979736,
          0.9584500193595886,
          0.9584333300590515,
          0.9585166573524475,
          0.9564333558082581,
          0.956250011920929,
          0.9598666429519653,
          0.9578999876976013,
          0.9598166942596436,
          0.9604666829109192,
          0.9604166746139526,
          0.961566686630249,
          0.9619500041007996,
          0.9608666896820068,
          0.9610999822616577,
          0.9616833329200745,
          0.9623000025749207,
          0.9613000154495239,
          0.9604833126068115,
          0.9614999890327454,
          0.9616833329200745,
          0.9627166390419006,
          0.9635499715805054
         ],
         "yaxis": "y"
        },
        {
         "line": {
          "color": "orange"
         },
         "mode": "lines",
         "name": "Validation",
         "type": "scatter",
         "x": [
          1,
          2,
          3,
          4,
          5,
          6,
          7,
          8,
          9,
          10,
          11,
          12,
          13,
          14,
          15,
          16,
          17,
          18,
          19,
          20,
          21,
          22,
          23,
          24,
          25,
          26,
          27,
          28,
          29,
          30,
          31,
          32,
          33,
          34,
          35,
          36,
          37,
          38,
          39,
          40,
          41,
          42,
          43,
          44,
          45,
          46,
          47,
          48,
          49,
          50,
          51,
          52,
          53,
          54,
          55,
          56,
          57,
          58,
          59,
          60,
          61,
          62,
          63,
          64,
          65,
          66,
          67,
          68,
          69,
          70,
          71,
          72,
          73,
          74,
          75,
          76,
          77,
          78,
          79,
          80,
          81,
          82,
          83,
          84,
          85,
          86,
          87,
          88,
          89,
          90,
          91,
          92,
          93,
          94,
          95,
          96,
          97,
          98,
          99,
          100,
          101,
          102,
          103,
          104,
          105,
          106,
          107,
          108,
          109,
          110,
          111,
          112,
          113,
          114,
          115,
          116,
          117,
          118,
          119,
          120,
          121,
          122,
          123,
          124,
          125,
          126,
          127,
          128,
          129,
          130,
          131,
          132,
          133,
          134,
          135,
          136,
          137,
          138,
          139,
          140,
          141,
          142,
          143,
          144,
          145,
          146,
          147,
          148,
          149,
          150
         ],
         "xaxis": "x",
         "y": [
          0,
          0,
          0,
          0.0026000000070780516,
          0.01795000024139881,
          0.12129999697208405,
          0.5529000163078308,
          0.6071500182151794,
          0.7064999938011169,
          0.5200499892234802,
          0.7648500204086304,
          0.7245000004768372,
          0.7437999844551086,
          0.7760499715805054,
          0.7882500290870667,
          0.7933499813079834,
          0.802649974822998,
          0.7973499894142151,
          0.7546499967575073,
          0.8218500018119812,
          0.7890999913215637,
          0.8138499855995178,
          0.8210999965667725,
          0.8113499879837036,
          0.8345500230789185,
          0.8322499990463257,
          0.8242499828338623,
          0.8509500026702881,
          0.8399999737739563,
          0.8094000220298767,
          0.8396000266075134,
          0.8526999950408936,
          0.7655500173568726,
          0.786300003528595,
          0.8341500163078308,
          0.8095999956130981,
          0.8539000153541565,
          0.8295000195503235,
          0.8170999884605408,
          0.8553000092506409,
          0.8101500272750854,
          0.8440499901771545,
          0.8380500078201294,
          0.8607500195503235,
          0.8650500178337097,
          0.8486999869346619,
          0.8521000146865845,
          0.8465999960899353,
          0.8601999878883362,
          0.8600500226020813,
          0.850600004196167,
          0.8672500252723694,
          0.8597000241279602,
          0.7375500202178955,
          0.8632500171661377,
          0.8678500056266785,
          0.769349992275238,
          0.8676499724388123,
          0.8493499755859375,
          0.8508999943733215,
          0.8659999966621399,
          0.8525000214576721,
          0.8676999807357788,
          0.861299991607666,
          0.8615999817848206,
          0.8521999716758728,
          0.8602499961853027,
          0.8719499707221985,
          0.8529000282287598,
          0.8591499924659729,
          0.8690000176429749,
          0.8609499931335449,
          0.8732500076293945,
          0.8732500076293945,
          0.840749979019165,
          0.866349995136261,
          0.8414499759674072,
          0.8727999925613403,
          0.8615999817848206,
          0.8780999779701233,
          0.8689500093460083,
          0.8654500246047974,
          0.8632000088691711,
          0.8709999918937683,
          0.8641999959945679,
          0.8636000156402588,
          0.8608999848365784,
          0.8585500121116638,
          0.8572999835014343,
          0.8180999755859375,
          0.8712000250816345,
          0.8594499826431274,
          0.8715000152587891,
          0.8675000071525574,
          0.8543499708175659,
          0.8755499720573425,
          0.865149974822998,
          0.8392999768257141,
          0.649150013923645,
          0.8716999888420105,
          0.8762000203132629,
          0.8729000091552734,
          0.8725500106811523,
          0.8732500076293945,
          0.8650500178337097,
          0.8655999898910522,
          0.873199999332428,
          0.8711000084877014,
          0.8680999875068665,
          0.8625500202178955,
          0.8702499866485596,
          0.8727499842643738,
          0.8756999969482422,
          0.8659499883651733,
          0.8668000102043152,
          0.8718500137329102,
          0.8743500113487244,
          0.8691999912261963,
          0.8675500154495239,
          0.8740000128746033,
          0.8744000196456909,
          0.8715999722480774,
          0.8669999837875366,
          0.8742499947547913,
          0.8769000172615051,
          0.878849983215332,
          0.8689500093460083,
          0.8732500076293945,
          0.8731499910354614,
          0.8747000098228455,
          0.791949987411499,
          0.8730999827384949,
          0.8720499873161316,
          0.8744999766349792,
          0.8648499846458435,
          0.8708000183105469,
          0.8793500065803528,
          0.8481500148773193,
          0.871999979019165,
          0.8774999976158142,
          0.8702499866485596,
          0.8784999847412109,
          0.8695499897003174,
          0.8784000277519226,
          0.8791499733924866,
          0.876550018787384,
          0.8722500205039978,
          0.8726999759674072,
          0.8658499717712402,
          0.8724499940872192
         ],
         "yaxis": "y"
        },
        {
         "line": {
          "color": "blue"
         },
         "mode": "lines",
         "name": "Train",
         "showlegend": false,
         "type": "scatter",
         "x": [
          1,
          2,
          3,
          4,
          5,
          6,
          7,
          8,
          9,
          10,
          11,
          12,
          13,
          14,
          15,
          16,
          17,
          18,
          19,
          20,
          21,
          22,
          23,
          24,
          25,
          26,
          27,
          28,
          29,
          30,
          31,
          32,
          33,
          34,
          35,
          36,
          37,
          38,
          39,
          40,
          41,
          42,
          43,
          44,
          45,
          46,
          47,
          48,
          49,
          50,
          51,
          52,
          53,
          54,
          55,
          56,
          57,
          58,
          59,
          60,
          61,
          62,
          63,
          64,
          65,
          66,
          67,
          68,
          69,
          70,
          71,
          72,
          73,
          74,
          75,
          76,
          77,
          78,
          79,
          80,
          81,
          82,
          83,
          84,
          85,
          86,
          87,
          88,
          89,
          90,
          91,
          92,
          93,
          94,
          95,
          96,
          97,
          98,
          99,
          100,
          101,
          102,
          103,
          104,
          105,
          106,
          107,
          108,
          109,
          110,
          111,
          112,
          113,
          114,
          115,
          116,
          117,
          118,
          119,
          120,
          121,
          122,
          123,
          124,
          125,
          126,
          127,
          128,
          129,
          130,
          131,
          132,
          133,
          134,
          135,
          136,
          137,
          138,
          139,
          140,
          141,
          142,
          143,
          144,
          145,
          146,
          147,
          148,
          149,
          150
         ],
         "xaxis": "x2",
         "y": [
          8.655750274658203,
          7.570322513580322,
          6.647504806518555,
          5.653852462768555,
          4.481004238128662,
          3.1666111946105957,
          1.6701587438583374,
          1.2219789028167725,
          1.0465234518051147,
          0.9120509028434753,
          0.8477409482002258,
          0.7788876891136169,
          0.7193905115127563,
          0.67838054895401,
          0.6458515524864197,
          0.628964364528656,
          0.584575355052948,
          0.571657121181488,
          0.5478516817092896,
          0.5262855887413025,
          0.4944304823875427,
          0.4804840087890625,
          0.46882668137550354,
          0.45123451948165894,
          0.4337537884712219,
          0.4093853533267975,
          0.3992117941379547,
          0.3986033499240875,
          0.38391780853271484,
          0.37137681245803833,
          0.3764655590057373,
          0.35056838393211365,
          0.3468405604362488,
          0.32777512073516846,
          0.3267850875854492,
          0.3108806312084198,
          0.3120260536670685,
          0.29850339889526367,
          0.27909716963768005,
          0.2876668870449066,
          0.27353668212890625,
          0.27816787362098694,
          0.2631654441356659,
          0.2612133026123047,
          0.24963130056858063,
          0.23918016254901886,
          0.24179747700691223,
          0.23638944327831268,
          0.24035684764385223,
          0.2234225869178772,
          0.230582132935524,
          0.21783630549907684,
          0.20339970290660858,
          0.209848091006279,
          0.20555523037910461,
          0.20046751201152802,
          0.19774410128593445,
          0.1918693631887436,
          0.19495587050914764,
          0.19094409048557281,
          0.1862696260213852,
          0.17819344997406006,
          0.18149717152118683,
          0.1972970962524414,
          0.17539158463478088,
          0.17977240681648254,
          0.16344556212425232,
          0.17775967717170715,
          0.16981910169124603,
          0.16187997162342072,
          0.16470035910606384,
          0.15626758337020874,
          0.1575099229812622,
          0.15371794998645782,
          0.1557650864124298,
          0.14780136942863464,
          0.15209773182868958,
          0.15634755790233612,
          0.14809675514698029,
          0.15176405012607574,
          0.15256059169769287,
          0.13897326588630676,
          0.14692260324954987,
          0.14097554981708527,
          0.13975518941879272,
          0.1321149617433548,
          0.13309025764465332,
          0.14334501326084137,
          0.13804446160793304,
          0.13066020607948303,
          0.1374368667602539,
          0.1358245313167572,
          0.13207502663135529,
          0.12667018175125122,
          0.1291133165359497,
          0.1608985811471939,
          0.11723273992538452,
          0.11946450918912888,
          0.1240130364894867,
          0.13100919127464294,
          0.12357523292303085,
          0.13075773417949677,
          0.1284286379814148,
          0.12733648717403412,
          0.12124480307102203,
          0.11556994915008545,
          0.1160537600517273,
          0.11950863897800446,
          0.12257314473390579,
          0.11521542817354202,
          0.1142129972577095,
          0.1115267276763916,
          0.10978921502828598,
          0.11511678993701935,
          0.11249957233667374,
          0.1190275028347969,
          0.11484287679195404,
          0.11149272322654724,
          0.11267190426588058,
          0.10780662298202515,
          0.11069466918706894,
          0.10901135951280594,
          0.1065029427409172,
          0.10564041137695312,
          0.10692449659109116,
          0.10549881309270859,
          0.1171899363398552,
          0.12339120358228683,
          0.10401412099599838,
          0.10841407626867294,
          0.11080387234687805,
          0.11025816947221756,
          0.11478187143802643,
          0.10279232263565063,
          0.1090051457285881,
          0.10226212441921234,
          0.1010836586356163,
          0.09946002811193466,
          0.10080156475305557,
          0.1044641062617302,
          0.10149478167295456,
          0.09872328490018845,
          0.098995141685009,
          0.09871190786361694,
          0.1020410880446434,
          0.10374034196138382,
          0.09934462606906891,
          0.09946413338184357,
          0.0963946059346199,
          0.09400250762701035
         ],
         "yaxis": "y2"
        },
        {
         "line": {
          "color": "orange"
         },
         "mode": "lines",
         "name": "Validation",
         "showlegend": false,
         "type": "scatter",
         "x": [
          1,
          2,
          3,
          4,
          5,
          6,
          7,
          8,
          9,
          10,
          11,
          12,
          13,
          14,
          15,
          16,
          17,
          18,
          19,
          20,
          21,
          22,
          23,
          24,
          25,
          26,
          27,
          28,
          29,
          30,
          31,
          32,
          33,
          34,
          35,
          36,
          37,
          38,
          39,
          40,
          41,
          42,
          43,
          44,
          45,
          46,
          47,
          48,
          49,
          50,
          51,
          52,
          53,
          54,
          55,
          56,
          57,
          58,
          59,
          60,
          61,
          62,
          63,
          64,
          65,
          66,
          67,
          68,
          69,
          70,
          71,
          72,
          73,
          74,
          75,
          76,
          77,
          78,
          79,
          80,
          81,
          82,
          83,
          84,
          85,
          86,
          87,
          88,
          89,
          90,
          91,
          92,
          93,
          94,
          95,
          96,
          97,
          98,
          99,
          100,
          101,
          102,
          103,
          104,
          105,
          106,
          107,
          108,
          109,
          110,
          111,
          112,
          113,
          114,
          115,
          116,
          117,
          118,
          119,
          120,
          121,
          122,
          123,
          124,
          125,
          126,
          127,
          128,
          129,
          130,
          131,
          132,
          133,
          134,
          135,
          136,
          137,
          138,
          139,
          140,
          141,
          142,
          143,
          144,
          145,
          146,
          147,
          148,
          149,
          150
         ],
         "xaxis": "x2",
         "y": [
          8.19201946258545,
          9.398244857788086,
          6.447966575622559,
          8.759625434875488,
          3.80368709564209,
          2.568601608276367,
          1.5476884841918945,
          1.3828037977218628,
          1.0881794691085815,
          2.0982022285461426,
          0.9254473447799683,
          0.9992218017578125,
          0.9848206043243408,
          0.8485798835754395,
          0.8415118455886841,
          0.8507999181747437,
          0.7224907875061035,
          0.7873534560203552,
          0.9468443393707275,
          0.6922109723091125,
          0.7835748791694641,
          0.8146721720695496,
          0.7154881358146667,
          0.7664634585380554,
          0.6793875694274902,
          0.6737008094787598,
          0.690885066986084,
          0.6285592913627625,
          0.6613924503326416,
          0.8090304136276245,
          0.668513834476471,
          0.6409561634063721,
          0.8952938318252563,
          0.8084647059440613,
          0.6634528040885925,
          0.8171042203903198,
          0.6459083557128906,
          0.7300910353660583,
          0.747474730014801,
          0.6356320381164551,
          0.7947527170181274,
          0.6774256229400635,
          0.748953640460968,
          0.6406251192092896,
          0.6384354829788208,
          0.6897262930870056,
          0.6918284893035889,
          0.6895056366920471,
          0.663994312286377,
          0.6837776899337769,
          0.6957195997238159,
          0.623791515827179,
          0.6664157509803772,
          1.2614445686340332,
          0.7001112103462219,
          0.6649370789527893,
          1.0762561559677124,
          0.7060729265213013,
          0.7420583963394165,
          0.7430516481399536,
          0.6623296141624451,
          0.7394551634788513,
          0.678746223449707,
          0.6979875564575195,
          0.6989937424659729,
          0.7729207277297974,
          0.7085372805595398,
          0.6645638942718506,
          0.7231090068817139,
          0.7061824798583984,
          0.6884844303131104,
          0.7549931406974792,
          0.6461347341537476,
          0.6909580826759338,
          0.8211308717727661,
          0.7260173559188843,
          0.80158931016922,
          0.6735856533050537,
          0.7244276404380798,
          0.6452214121818542,
          0.7151060104370117,
          0.7048240303993225,
          0.7066670060157776,
          0.7154975533485413,
          0.7549277544021606,
          0.7190867066383362,
          0.7345889210700989,
          0.7658243179321289,
          0.7651811242103577,
          1.0125958919525146,
          0.6924448013305664,
          0.7397294044494629,
          0.719146192073822,
          0.7022353410720825,
          0.7838351130485535,
          0.7024050354957581,
          0.7362350225448608,
          0.8412859439849854,
          2.334378242492676,
          0.7388290762901306,
          0.6931055188179016,
          0.7114775776863098,
          0.7102608680725098,
          0.6912882924079895,
          0.7232598662376404,
          0.7488870024681091,
          0.7208316326141357,
          0.7284918427467346,
          0.7344702482223511,
          0.7420648336410522,
          0.7479360103607178,
          0.7440531253814697,
          0.7168896794319153,
          0.7555394768714905,
          0.7412887215614319,
          0.7148507833480835,
          0.7006714940071106,
          0.722242534160614,
          0.7439168691635132,
          0.7105967998504639,
          0.7060795426368713,
          0.73807692527771,
          0.7590345740318298,
          0.6964318156242371,
          0.7175918221473694,
          0.70592200756073,
          0.7305631637573242,
          0.7252786159515381,
          0.7424031496047974,
          0.7118786573410034,
          1.2090812921524048,
          0.7250871062278748,
          0.7216051816940308,
          0.7312703132629395,
          0.7827920913696289,
          0.7355151772499084,
          0.7458734512329102,
          0.8690031170845032,
          0.7181028127670288,
          0.7184469699859619,
          0.7357978224754333,
          0.6900724768638611,
          0.759706437587738,
          0.7209751009941101,
          0.7004957795143127,
          0.7472671866416931,
          0.7516021728515625,
          0.7715357542037964,
          0.7980344891548157,
          0.7418674826622009
         ],
         "yaxis": "y2"
        }
       ],
       "layout": {
        "annotations": [
         {
          "font": {
           "size": 16
          },
          "showarrow": false,
          "text": "Model accuracy",
          "x": 0.225,
          "xanchor": "center",
          "xref": "paper",
          "y": 1,
          "yanchor": "bottom",
          "yref": "paper"
         },
         {
          "font": {
           "size": 16
          },
          "showarrow": false,
          "text": "Model loss",
          "x": 0.775,
          "xanchor": "center",
          "xref": "paper",
          "y": 1,
          "yanchor": "bottom",
          "yref": "paper"
         }
        ],
        "legend": {
         "x": 0.85,
         "y": 1
        },
        "template": {
         "data": {
          "bar": [
           {
            "error_x": {
             "color": "#2a3f5f"
            },
            "error_y": {
             "color": "#2a3f5f"
            },
            "marker": {
             "line": {
              "color": "#E5ECF6",
              "width": 0.5
             },
             "pattern": {
              "fillmode": "overlay",
              "size": 10,
              "solidity": 0.2
             }
            },
            "type": "bar"
           }
          ],
          "barpolar": [
           {
            "marker": {
             "line": {
              "color": "#E5ECF6",
              "width": 0.5
             },
             "pattern": {
              "fillmode": "overlay",
              "size": 10,
              "solidity": 0.2
             }
            },
            "type": "barpolar"
           }
          ],
          "carpet": [
           {
            "aaxis": {
             "endlinecolor": "#2a3f5f",
             "gridcolor": "white",
             "linecolor": "white",
             "minorgridcolor": "white",
             "startlinecolor": "#2a3f5f"
            },
            "baxis": {
             "endlinecolor": "#2a3f5f",
             "gridcolor": "white",
             "linecolor": "white",
             "minorgridcolor": "white",
             "startlinecolor": "#2a3f5f"
            },
            "type": "carpet"
           }
          ],
          "choropleth": [
           {
            "colorbar": {
             "outlinewidth": 0,
             "ticks": ""
            },
            "type": "choropleth"
           }
          ],
          "contour": [
           {
            "colorbar": {
             "outlinewidth": 0,
             "ticks": ""
            },
            "colorscale": [
             [
              0,
              "#0d0887"
             ],
             [
              0.1111111111111111,
              "#46039f"
             ],
             [
              0.2222222222222222,
              "#7201a8"
             ],
             [
              0.3333333333333333,
              "#9c179e"
             ],
             [
              0.4444444444444444,
              "#bd3786"
             ],
             [
              0.5555555555555556,
              "#d8576b"
             ],
             [
              0.6666666666666666,
              "#ed7953"
             ],
             [
              0.7777777777777778,
              "#fb9f3a"
             ],
             [
              0.8888888888888888,
              "#fdca26"
             ],
             [
              1,
              "#f0f921"
             ]
            ],
            "type": "contour"
           }
          ],
          "contourcarpet": [
           {
            "colorbar": {
             "outlinewidth": 0,
             "ticks": ""
            },
            "type": "contourcarpet"
           }
          ],
          "heatmap": [
           {
            "colorbar": {
             "outlinewidth": 0,
             "ticks": ""
            },
            "colorscale": [
             [
              0,
              "#0d0887"
             ],
             [
              0.1111111111111111,
              "#46039f"
             ],
             [
              0.2222222222222222,
              "#7201a8"
             ],
             [
              0.3333333333333333,
              "#9c179e"
             ],
             [
              0.4444444444444444,
              "#bd3786"
             ],
             [
              0.5555555555555556,
              "#d8576b"
             ],
             [
              0.6666666666666666,
              "#ed7953"
             ],
             [
              0.7777777777777778,
              "#fb9f3a"
             ],
             [
              0.8888888888888888,
              "#fdca26"
             ],
             [
              1,
              "#f0f921"
             ]
            ],
            "type": "heatmap"
           }
          ],
          "heatmapgl": [
           {
            "colorbar": {
             "outlinewidth": 0,
             "ticks": ""
            },
            "colorscale": [
             [
              0,
              "#0d0887"
             ],
             [
              0.1111111111111111,
              "#46039f"
             ],
             [
              0.2222222222222222,
              "#7201a8"
             ],
             [
              0.3333333333333333,
              "#9c179e"
             ],
             [
              0.4444444444444444,
              "#bd3786"
             ],
             [
              0.5555555555555556,
              "#d8576b"
             ],
             [
              0.6666666666666666,
              "#ed7953"
             ],
             [
              0.7777777777777778,
              "#fb9f3a"
             ],
             [
              0.8888888888888888,
              "#fdca26"
             ],
             [
              1,
              "#f0f921"
             ]
            ],
            "type": "heatmapgl"
           }
          ],
          "histogram": [
           {
            "marker": {
             "pattern": {
              "fillmode": "overlay",
              "size": 10,
              "solidity": 0.2
             }
            },
            "type": "histogram"
           }
          ],
          "histogram2d": [
           {
            "colorbar": {
             "outlinewidth": 0,
             "ticks": ""
            },
            "colorscale": [
             [
              0,
              "#0d0887"
             ],
             [
              0.1111111111111111,
              "#46039f"
             ],
             [
              0.2222222222222222,
              "#7201a8"
             ],
             [
              0.3333333333333333,
              "#9c179e"
             ],
             [
              0.4444444444444444,
              "#bd3786"
             ],
             [
              0.5555555555555556,
              "#d8576b"
             ],
             [
              0.6666666666666666,
              "#ed7953"
             ],
             [
              0.7777777777777778,
              "#fb9f3a"
             ],
             [
              0.8888888888888888,
              "#fdca26"
             ],
             [
              1,
              "#f0f921"
             ]
            ],
            "type": "histogram2d"
           }
          ],
          "histogram2dcontour": [
           {
            "colorbar": {
             "outlinewidth": 0,
             "ticks": ""
            },
            "colorscale": [
             [
              0,
              "#0d0887"
             ],
             [
              0.1111111111111111,
              "#46039f"
             ],
             [
              0.2222222222222222,
              "#7201a8"
             ],
             [
              0.3333333333333333,
              "#9c179e"
             ],
             [
              0.4444444444444444,
              "#bd3786"
             ],
             [
              0.5555555555555556,
              "#d8576b"
             ],
             [
              0.6666666666666666,
              "#ed7953"
             ],
             [
              0.7777777777777778,
              "#fb9f3a"
             ],
             [
              0.8888888888888888,
              "#fdca26"
             ],
             [
              1,
              "#f0f921"
             ]
            ],
            "type": "histogram2dcontour"
           }
          ],
          "mesh3d": [
           {
            "colorbar": {
             "outlinewidth": 0,
             "ticks": ""
            },
            "type": "mesh3d"
           }
          ],
          "parcoords": [
           {
            "line": {
             "colorbar": {
              "outlinewidth": 0,
              "ticks": ""
             }
            },
            "type": "parcoords"
           }
          ],
          "pie": [
           {
            "automargin": true,
            "type": "pie"
           }
          ],
          "scatter": [
           {
            "fillpattern": {
             "fillmode": "overlay",
             "size": 10,
             "solidity": 0.2
            },
            "type": "scatter"
           }
          ],
          "scatter3d": [
           {
            "line": {
             "colorbar": {
              "outlinewidth": 0,
              "ticks": ""
             }
            },
            "marker": {
             "colorbar": {
              "outlinewidth": 0,
              "ticks": ""
             }
            },
            "type": "scatter3d"
           }
          ],
          "scattercarpet": [
           {
            "marker": {
             "colorbar": {
              "outlinewidth": 0,
              "ticks": ""
             }
            },
            "type": "scattercarpet"
           }
          ],
          "scattergeo": [
           {
            "marker": {
             "colorbar": {
              "outlinewidth": 0,
              "ticks": ""
             }
            },
            "type": "scattergeo"
           }
          ],
          "scattergl": [
           {
            "marker": {
             "colorbar": {
              "outlinewidth": 0,
              "ticks": ""
             }
            },
            "type": "scattergl"
           }
          ],
          "scattermapbox": [
           {
            "marker": {
             "colorbar": {
              "outlinewidth": 0,
              "ticks": ""
             }
            },
            "type": "scattermapbox"
           }
          ],
          "scatterpolar": [
           {
            "marker": {
             "colorbar": {
              "outlinewidth": 0,
              "ticks": ""
             }
            },
            "type": "scatterpolar"
           }
          ],
          "scatterpolargl": [
           {
            "marker": {
             "colorbar": {
              "outlinewidth": 0,
              "ticks": ""
             }
            },
            "type": "scatterpolargl"
           }
          ],
          "scatterternary": [
           {
            "marker": {
             "colorbar": {
              "outlinewidth": 0,
              "ticks": ""
             }
            },
            "type": "scatterternary"
           }
          ],
          "surface": [
           {
            "colorbar": {
             "outlinewidth": 0,
             "ticks": ""
            },
            "colorscale": [
             [
              0,
              "#0d0887"
             ],
             [
              0.1111111111111111,
              "#46039f"
             ],
             [
              0.2222222222222222,
              "#7201a8"
             ],
             [
              0.3333333333333333,
              "#9c179e"
             ],
             [
              0.4444444444444444,
              "#bd3786"
             ],
             [
              0.5555555555555556,
              "#d8576b"
             ],
             [
              0.6666666666666666,
              "#ed7953"
             ],
             [
              0.7777777777777778,
              "#fb9f3a"
             ],
             [
              0.8888888888888888,
              "#fdca26"
             ],
             [
              1,
              "#f0f921"
             ]
            ],
            "type": "surface"
           }
          ],
          "table": [
           {
            "cells": {
             "fill": {
              "color": "#EBF0F8"
             },
             "line": {
              "color": "white"
             }
            },
            "header": {
             "fill": {
              "color": "#C8D4E3"
             },
             "line": {
              "color": "white"
             }
            },
            "type": "table"
           }
          ]
         },
         "layout": {
          "annotationdefaults": {
           "arrowcolor": "#2a3f5f",
           "arrowhead": 0,
           "arrowwidth": 1
          },
          "autotypenumbers": "strict",
          "coloraxis": {
           "colorbar": {
            "outlinewidth": 0,
            "ticks": ""
           }
          },
          "colorscale": {
           "diverging": [
            [
             0,
             "#8e0152"
            ],
            [
             0.1,
             "#c51b7d"
            ],
            [
             0.2,
             "#de77ae"
            ],
            [
             0.3,
             "#f1b6da"
            ],
            [
             0.4,
             "#fde0ef"
            ],
            [
             0.5,
             "#f7f7f7"
            ],
            [
             0.6,
             "#e6f5d0"
            ],
            [
             0.7,
             "#b8e186"
            ],
            [
             0.8,
             "#7fbc41"
            ],
            [
             0.9,
             "#4d9221"
            ],
            [
             1,
             "#276419"
            ]
           ],
           "sequential": [
            [
             0,
             "#0d0887"
            ],
            [
             0.1111111111111111,
             "#46039f"
            ],
            [
             0.2222222222222222,
             "#7201a8"
            ],
            [
             0.3333333333333333,
             "#9c179e"
            ],
            [
             0.4444444444444444,
             "#bd3786"
            ],
            [
             0.5555555555555556,
             "#d8576b"
            ],
            [
             0.6666666666666666,
             "#ed7953"
            ],
            [
             0.7777777777777778,
             "#fb9f3a"
            ],
            [
             0.8888888888888888,
             "#fdca26"
            ],
            [
             1,
             "#f0f921"
            ]
           ],
           "sequentialminus": [
            [
             0,
             "#0d0887"
            ],
            [
             0.1111111111111111,
             "#46039f"
            ],
            [
             0.2222222222222222,
             "#7201a8"
            ],
            [
             0.3333333333333333,
             "#9c179e"
            ],
            [
             0.4444444444444444,
             "#bd3786"
            ],
            [
             0.5555555555555556,
             "#d8576b"
            ],
            [
             0.6666666666666666,
             "#ed7953"
            ],
            [
             0.7777777777777778,
             "#fb9f3a"
            ],
            [
             0.8888888888888888,
             "#fdca26"
            ],
            [
             1,
             "#f0f921"
            ]
           ]
          },
          "colorway": [
           "#636efa",
           "#EF553B",
           "#00cc96",
           "#ab63fa",
           "#FFA15A",
           "#19d3f3",
           "#FF6692",
           "#B6E880",
           "#FF97FF",
           "#FECB52"
          ],
          "font": {
           "color": "#2a3f5f"
          },
          "geo": {
           "bgcolor": "white",
           "lakecolor": "white",
           "landcolor": "#E5ECF6",
           "showlakes": true,
           "showland": true,
           "subunitcolor": "white"
          },
          "hoverlabel": {
           "align": "left"
          },
          "hovermode": "closest",
          "mapbox": {
           "style": "light"
          },
          "paper_bgcolor": "white",
          "plot_bgcolor": "#E5ECF6",
          "polar": {
           "angularaxis": {
            "gridcolor": "white",
            "linecolor": "white",
            "ticks": ""
           },
           "bgcolor": "#E5ECF6",
           "radialaxis": {
            "gridcolor": "white",
            "linecolor": "white",
            "ticks": ""
           }
          },
          "scene": {
           "xaxis": {
            "backgroundcolor": "#E5ECF6",
            "gridcolor": "white",
            "gridwidth": 2,
            "linecolor": "white",
            "showbackground": true,
            "ticks": "",
            "zerolinecolor": "white"
           },
           "yaxis": {
            "backgroundcolor": "#E5ECF6",
            "gridcolor": "white",
            "gridwidth": 2,
            "linecolor": "white",
            "showbackground": true,
            "ticks": "",
            "zerolinecolor": "white"
           },
           "zaxis": {
            "backgroundcolor": "#E5ECF6",
            "gridcolor": "white",
            "gridwidth": 2,
            "linecolor": "white",
            "showbackground": true,
            "ticks": "",
            "zerolinecolor": "white"
           }
          },
          "shapedefaults": {
           "line": {
            "color": "#2a3f5f"
           }
          },
          "ternary": {
           "aaxis": {
            "gridcolor": "white",
            "linecolor": "white",
            "ticks": ""
           },
           "baxis": {
            "gridcolor": "white",
            "linecolor": "white",
            "ticks": ""
           },
           "bgcolor": "#E5ECF6",
           "caxis": {
            "gridcolor": "white",
            "linecolor": "white",
            "ticks": ""
           }
          },
          "title": {
           "x": 0.05
          },
          "xaxis": {
           "automargin": true,
           "gridcolor": "white",
           "linecolor": "white",
           "ticks": "",
           "title": {
            "standoff": 15
           },
           "zerolinecolor": "white",
           "zerolinewidth": 2
          },
          "yaxis": {
           "automargin": true,
           "gridcolor": "white",
           "linecolor": "white",
           "ticks": "",
           "title": {
            "standoff": 15
           },
           "zerolinecolor": "white",
           "zerolinewidth": 2
          }
         }
        },
        "title": {
         "text": "Model Training History"
        },
        "xaxis": {
         "anchor": "y",
         "domain": [
          0,
          0.45
         ],
         "title": {
          "text": "Epoch"
         }
        },
        "xaxis2": {
         "anchor": "y2",
         "domain": [
          0.55,
          1
         ]
        },
        "yaxis": {
         "anchor": "x",
         "domain": [
          0,
          1
         ],
         "title": {
          "text": "Value"
         }
        },
        "yaxis2": {
         "anchor": "x2",
         "domain": [
          0,
          1
         ]
        }
       }
      }
     },
     "metadata": {},
     "output_type": "display_data"
    }
   ],
   "source": [
    "import plotly.graph_objects as go\n",
    "from plotly.subplots import make_subplots\n",
    "\n",
    "fig = make_subplots(rows=1, cols=2, subplot_titles=(\"Model accuracy\", \"Model loss\"))\n",
    "\n",
    "# Add the first subplot for accuracy\n",
    "fig.add_trace(go.Scatter(x=list(range(1, len(history.history['accuracy']) + 1)),\n",
    "                         y=history.history['accuracy'], mode='lines',\n",
    "                         name='Train', line=dict(color='blue')), row=1, col=1)\n",
    "fig.add_trace(go.Scatter(x=list(range(1, len(history.history['val_accuracy']) + 1)),\n",
    "                         y=history.history['val_accuracy'], mode='lines',\n",
    "                         name='Validation', line=dict(color='orange')), row=1, col=1)\n",
    "\n",
    "# Add the second subplot for loss\n",
    "fig.add_trace(go.Scatter(x=list(range(1, len(history.history['loss']) + 1)),\n",
    "                         y=history.history['loss'], mode='lines',\n",
    "                         name='Train', line=dict(color='blue'), showlegend=False), row=1, col=2)\n",
    "fig.add_trace(go.Scatter(x=list(range(1, len(history.history['val_loss']) + 1)),\n",
    "                         y=history.history['val_loss'], mode='lines',\n",
    "                         name='Validation', line=dict(color='orange'), showlegend=False), row=1, col=2)\n",
    "\n",
    "fig.update_layout(title=\"Model Training History\",\n",
    "                  xaxis_title=\"Epoch\",\n",
    "                  yaxis_title=\"Value\",\n",
    "                  legend=dict(x=0.85, y=1))\n",
    "\n",
    "fig.show()"
   ]
  },
  {
   "cell_type": "code",
   "execution_count": 25,
   "metadata": {},
   "outputs": [
    {
     "name": "stdout",
     "output_type": "stream",
     "text": [
      "Epoch 1/150\n",
      "3750/3750 [==============================] - 241s 62ms/step - loss: 7.8187 - accuracy: 0.0000e+00 - val_loss: 11.6567 - val_accuracy: 0.0000e+00\n",
      "Epoch 2/150\n",
      "3750/3750 [==============================] - 228s 61ms/step - loss: 4.5072 - accuracy: 0.0180 - val_loss: 4.0782 - val_accuracy: 0.0263\n",
      "Epoch 3/150\n",
      "3750/3750 [==============================] - 227s 61ms/step - loss: 2.3999 - accuracy: 0.2000 - val_loss: 4.9982 - val_accuracy: 0.0801\n",
      "Epoch 4/150\n",
      "3750/3750 [==============================] - 227s 61ms/step - loss: 1.6449 - accuracy: 0.4557 - val_loss: 3.0353 - val_accuracy: 0.2552\n",
      "Epoch 5/150\n",
      "3750/3750 [==============================] - 226s 60ms/step - loss: 1.2768 - accuracy: 0.5979 - val_loss: 1.2688 - val_accuracy: 0.6163\n",
      "Epoch 6/150\n",
      "3750/3750 [==============================] - 226s 60ms/step - loss: 1.0730 - accuracy: 0.6672 - val_loss: 5.3877 - val_accuracy: 0.0339\n",
      "Epoch 7/150\n",
      "3750/3750 [==============================] - 226s 60ms/step - loss: 0.9633 - accuracy: 0.7041 - val_loss: 0.9988 - val_accuracy: 0.7122\n",
      "Epoch 8/150\n",
      "3750/3750 [==============================] - 225s 60ms/step - loss: 0.8381 - accuracy: 0.7419 - val_loss: 1.2398 - val_accuracy: 0.6671\n",
      "Epoch 9/150\n",
      "3750/3750 [==============================] - 231s 62ms/step - loss: 0.7667 - accuracy: 0.7644 - val_loss: 0.9414 - val_accuracy: 0.7301\n",
      "Epoch 10/150\n",
      "3750/3750 [==============================] - 226s 60ms/step - loss: 0.6990 - accuracy: 0.7880 - val_loss: 1.9719 - val_accuracy: 0.5523\n",
      "Epoch 11/150\n",
      "3750/3750 [==============================] - 227s 61ms/step - loss: 0.6492 - accuracy: 0.8042 - val_loss: 1.1324 - val_accuracy: 0.6862\n",
      "Epoch 12/150\n",
      "3750/3750 [==============================] - 226s 60ms/step - loss: 0.6151 - accuracy: 0.8106 - val_loss: 1.5020 - val_accuracy: 0.6137\n",
      "Epoch 13/150\n",
      "3750/3750 [==============================] - 227s 60ms/step - loss: 0.5818 - accuracy: 0.8229 - val_loss: 0.7712 - val_accuracy: 0.7959\n",
      "Epoch 14/150\n",
      "3750/3750 [==============================] - 226s 60ms/step - loss: 0.5429 - accuracy: 0.8321 - val_loss: 0.8171 - val_accuracy: 0.7826\n",
      "Epoch 15/150\n",
      "3750/3750 [==============================] - 226s 60ms/step - loss: 0.5044 - accuracy: 0.8423 - val_loss: 1.0135 - val_accuracy: 0.7290\n",
      "Epoch 16/150\n",
      "3750/3750 [==============================] - 226s 60ms/step - loss: 0.4796 - accuracy: 0.8511 - val_loss: 0.6698 - val_accuracy: 0.8197\n",
      "Epoch 17/150\n",
      "3750/3750 [==============================] - 227s 60ms/step - loss: 0.4543 - accuracy: 0.8573 - val_loss: 1.0069 - val_accuracy: 0.7575\n",
      "Epoch 18/150\n",
      "3750/3750 [==============================] - 226s 60ms/step - loss: 0.4343 - accuracy: 0.8640 - val_loss: 0.7437 - val_accuracy: 0.8087\n",
      "Epoch 19/150\n",
      "3750/3750 [==============================] - 226s 60ms/step - loss: 0.4176 - accuracy: 0.8679 - val_loss: 4.1315 - val_accuracy: 0.2307\n",
      "Epoch 20/150\n",
      "3750/3750 [==============================] - 227s 60ms/step - loss: 0.3996 - accuracy: 0.8736 - val_loss: 0.6072 - val_accuracy: 0.8424\n",
      "Epoch 21/150\n",
      "3750/3750 [==============================] - 227s 60ms/step - loss: 0.3773 - accuracy: 0.8795 - val_loss: 0.5965 - val_accuracy: 0.8492\n",
      "Epoch 22/150\n",
      "3750/3750 [==============================] - 227s 60ms/step - loss: 0.3628 - accuracy: 0.8813 - val_loss: 0.6079 - val_accuracy: 0.8478\n",
      "Epoch 23/150\n",
      "3750/3750 [==============================] - 227s 60ms/step - loss: 0.3488 - accuracy: 0.8873 - val_loss: 0.5933 - val_accuracy: 0.8458\n",
      "Epoch 24/150\n",
      "3750/3750 [==============================] - 226s 60ms/step - loss: 0.3405 - accuracy: 0.8891 - val_loss: 0.6038 - val_accuracy: 0.8503\n",
      "Epoch 25/150\n",
      "3750/3750 [==============================] - 226s 60ms/step - loss: 0.3183 - accuracy: 0.8936 - val_loss: 0.6178 - val_accuracy: 0.8517\n",
      "Epoch 26/150\n",
      "3750/3750 [==============================] - 227s 60ms/step - loss: 0.3127 - accuracy: 0.8975 - val_loss: 0.6638 - val_accuracy: 0.8443\n",
      "Epoch 27/150\n",
      "3750/3750 [==============================] - 227s 60ms/step - loss: 0.3021 - accuracy: 0.8983 - val_loss: 0.6673 - val_accuracy: 0.8392\n",
      "Epoch 28/150\n",
      "3750/3750 [==============================] - 227s 61ms/step - loss: 0.2882 - accuracy: 0.9020 - val_loss: 2.5481 - val_accuracy: 0.5367\n",
      "Epoch 29/150\n",
      "3750/3750 [==============================] - 226s 60ms/step - loss: 0.2802 - accuracy: 0.9042 - val_loss: 1.1613 - val_accuracy: 0.7268\n",
      "Epoch 30/150\n",
      "3750/3750 [==============================] - 227s 60ms/step - loss: 0.2668 - accuracy: 0.9088 - val_loss: 1.0792 - val_accuracy: 0.7699\n",
      "Epoch 31/150\n",
      "3750/3750 [==============================] - 227s 60ms/step - loss: 0.2627 - accuracy: 0.9087 - val_loss: 0.5484 - val_accuracy: 0.8701\n",
      "Epoch 32/150\n",
      "3750/3750 [==============================] - 227s 60ms/step - loss: 0.2447 - accuracy: 0.9139 - val_loss: 0.5678 - val_accuracy: 0.8676\n",
      "Epoch 33/150\n",
      "3750/3750 [==============================] - 227s 61ms/step - loss: 0.2398 - accuracy: 0.9156 - val_loss: 0.5964 - val_accuracy: 0.8615\n",
      "Epoch 34/150\n",
      "3750/3750 [==============================] - 227s 61ms/step - loss: 0.2180 - accuracy: 0.9212 - val_loss: 0.5404 - val_accuracy: 0.8772\n",
      "Epoch 35/150\n",
      "3750/3750 [==============================] - 227s 60ms/step - loss: 0.2230 - accuracy: 0.9197 - val_loss: 0.6197 - val_accuracy: 0.8573\n",
      "Epoch 36/150\n",
      "3750/3750 [==============================] - 229s 61ms/step - loss: 0.2271 - accuracy: 0.9186 - val_loss: 0.5785 - val_accuracy: 0.8687\n",
      "Epoch 37/150\n",
      "3750/3750 [==============================] - 228s 61ms/step - loss: 0.2060 - accuracy: 0.9255 - val_loss: 0.7098 - val_accuracy: 0.8307\n",
      "Epoch 38/150\n",
      "3750/3750 [==============================] - 226s 60ms/step - loss: 0.2061 - accuracy: 0.9257 - val_loss: 0.6166 - val_accuracy: 0.8627\n",
      "Epoch 39/150\n",
      "3750/3750 [==============================] - 226s 60ms/step - loss: 0.1965 - accuracy: 0.9275 - val_loss: 0.6083 - val_accuracy: 0.8674\n",
      "Epoch 40/150\n",
      "3750/3750 [==============================] - 227s 60ms/step - loss: 0.1936 - accuracy: 0.9299 - val_loss: 0.6034 - val_accuracy: 0.8744\n",
      "Epoch 41/150\n",
      "3750/3750 [==============================] - 226s 60ms/step - loss: 0.1850 - accuracy: 0.9308 - val_loss: 0.6292 - val_accuracy: 0.8641\n",
      "Epoch 42/150\n",
      "3750/3750 [==============================] - 227s 60ms/step - loss: 0.1773 - accuracy: 0.9351 - val_loss: 0.5794 - val_accuracy: 0.8745\n",
      "Epoch 43/150\n",
      "3750/3750 [==============================] - 226s 60ms/step - loss: 0.1737 - accuracy: 0.9347 - val_loss: 4.5460 - val_accuracy: 0.4049\n",
      "Epoch 44/150\n",
      "3750/3750 [==============================] - 227s 60ms/step - loss: 0.1678 - accuracy: 0.9370 - val_loss: 0.9157 - val_accuracy: 0.7764\n",
      "Epoch 45/150\n",
      "3750/3750 [==============================] - 227s 60ms/step - loss: 0.1660 - accuracy: 0.9375 - val_loss: 0.6203 - val_accuracy: 0.8730\n",
      "Epoch 46/150\n",
      "3750/3750 [==============================] - 226s 60ms/step - loss: 0.1642 - accuracy: 0.9381 - val_loss: 0.6569 - val_accuracy: 0.8681\n",
      "Epoch 47/150\n",
      "3750/3750 [==============================] - 226s 60ms/step - loss: 0.1589 - accuracy: 0.9404 - val_loss: 0.5900 - val_accuracy: 0.8780\n",
      "Epoch 48/150\n",
      "3750/3750 [==============================] - 226s 60ms/step - loss: 0.1501 - accuracy: 0.9416 - val_loss: 6.3494 - val_accuracy: 0.1952\n",
      "Epoch 49/150\n",
      "3750/3750 [==============================] - 226s 60ms/step - loss: 0.1466 - accuracy: 0.9426 - val_loss: 0.6138 - val_accuracy: 0.8745\n",
      "Epoch 50/150\n",
      "3750/3750 [==============================] - 226s 60ms/step - loss: 0.1403 - accuracy: 0.9445 - val_loss: 0.5613 - val_accuracy: 0.8822\n",
      "Epoch 51/150\n",
      "3750/3750 [==============================] - 226s 60ms/step - loss: 0.1373 - accuracy: 0.9474 - val_loss: 0.6016 - val_accuracy: 0.8813\n",
      "Epoch 52/150\n",
      "3750/3750 [==============================] - 227s 61ms/step - loss: 0.1321 - accuracy: 0.9487 - val_loss: 0.6374 - val_accuracy: 0.8685\n",
      "Epoch 53/150\n",
      "3750/3750 [==============================] - 227s 60ms/step - loss: 0.1292 - accuracy: 0.9486 - val_loss: 0.5879 - val_accuracy: 0.8814\n",
      "Epoch 54/150\n",
      "3750/3750 [==============================] - 227s 60ms/step - loss: 0.1284 - accuracy: 0.9499 - val_loss: 0.6494 - val_accuracy: 0.8716\n",
      "Epoch 55/150\n",
      "3750/3750 [==============================] - 226s 60ms/step - loss: 0.1237 - accuracy: 0.9518 - val_loss: 0.6230 - val_accuracy: 0.8784\n",
      "Epoch 56/150\n",
      "3750/3750 [==============================] - 226s 60ms/step - loss: 0.1219 - accuracy: 0.9530 - val_loss: 0.6207 - val_accuracy: 0.8763\n",
      "Epoch 57/150\n",
      "3750/3750 [==============================] - 227s 60ms/step - loss: 0.1232 - accuracy: 0.9523 - val_loss: 0.7477 - val_accuracy: 0.8494\n",
      "Epoch 58/150\n",
      "3750/3750 [==============================] - 227s 60ms/step - loss: 0.1154 - accuracy: 0.9542 - val_loss: 0.6110 - val_accuracy: 0.8806\n",
      "Epoch 59/150\n",
      "3750/3750 [==============================] - 226s 60ms/step - loss: 0.1049 - accuracy: 0.9580 - val_loss: 0.5812 - val_accuracy: 0.8844\n",
      "Epoch 60/150\n",
      "3750/3750 [==============================] - 227s 61ms/step - loss: 0.1047 - accuracy: 0.9581 - val_loss: 0.5691 - val_accuracy: 0.8899\n",
      "Epoch 61/150\n",
      "3750/3750 [==============================] - 227s 60ms/step - loss: 0.1005 - accuracy: 0.9602 - val_loss: 0.5861 - val_accuracy: 0.8882\n",
      "Epoch 62/150\n",
      "3750/3750 [==============================] - 227s 60ms/step - loss: 0.1002 - accuracy: 0.9606 - val_loss: 0.6715 - val_accuracy: 0.8787\n",
      "Epoch 63/150\n",
      "3750/3750 [==============================] - 227s 60ms/step - loss: 0.0994 - accuracy: 0.9610 - val_loss: 0.6095 - val_accuracy: 0.8868\n",
      "Epoch 64/150\n",
      "3750/3750 [==============================] - 227s 60ms/step - loss: 0.0976 - accuracy: 0.9620 - val_loss: 0.6738 - val_accuracy: 0.8751\n",
      "Epoch 65/150\n",
      "3750/3750 [==============================] - 227s 60ms/step - loss: 0.0922 - accuracy: 0.9630 - val_loss: 0.6119 - val_accuracy: 0.8891\n",
      "Epoch 66/150\n",
      "3750/3750 [==============================] - 227s 60ms/step - loss: 0.0926 - accuracy: 0.9637 - val_loss: 0.5893 - val_accuracy: 0.8898\n",
      "Epoch 67/150\n",
      "3750/3750 [==============================] - 227s 60ms/step - loss: 0.0947 - accuracy: 0.9625 - val_loss: 0.5947 - val_accuracy: 0.8897\n",
      "Epoch 68/150\n",
      "3750/3750 [==============================] - 227s 61ms/step - loss: 0.0829 - accuracy: 0.9668 - val_loss: 0.6340 - val_accuracy: 0.8860\n",
      "Epoch 69/150\n",
      "3750/3750 [==============================] - 227s 60ms/step - loss: 0.0869 - accuracy: 0.9649 - val_loss: 0.6391 - val_accuracy: 0.8896\n",
      "Epoch 70/150\n",
      "3750/3750 [==============================] - 226s 60ms/step - loss: 0.0778 - accuracy: 0.9689 - val_loss: 0.6389 - val_accuracy: 0.8913\n",
      "Epoch 71/150\n",
      "3750/3750 [==============================] - 227s 60ms/step - loss: 0.0833 - accuracy: 0.9675 - val_loss: 0.6713 - val_accuracy: 0.8839\n",
      "Epoch 72/150\n",
      "3750/3750 [==============================] - 227s 61ms/step - loss: 0.0775 - accuracy: 0.9687 - val_loss: 0.7015 - val_accuracy: 0.8800\n",
      "Epoch 73/150\n",
      "3750/3750 [==============================] - 227s 60ms/step - loss: 0.0778 - accuracy: 0.9693 - val_loss: 0.6966 - val_accuracy: 0.8870\n",
      "Epoch 74/150\n",
      "3750/3750 [==============================] - 227s 61ms/step - loss: 0.0785 - accuracy: 0.9688 - val_loss: 0.6268 - val_accuracy: 0.8945\n",
      "Epoch 75/150\n",
      "3750/3750 [==============================] - 227s 60ms/step - loss: 0.0696 - accuracy: 0.9715 - val_loss: 0.6420 - val_accuracy: 0.8874\n",
      "Epoch 76/150\n",
      "3750/3750 [==============================] - 227s 61ms/step - loss: 0.0671 - accuracy: 0.9736 - val_loss: 0.8085 - val_accuracy: 0.8566\n",
      "Epoch 77/150\n",
      "3750/3750 [==============================] - 228s 61ms/step - loss: 0.0664 - accuracy: 0.9737 - val_loss: 0.6781 - val_accuracy: 0.8803\n",
      "Epoch 78/150\n",
      "3750/3750 [==============================] - 227s 60ms/step - loss: 0.0660 - accuracy: 0.9735 - val_loss: 0.6439 - val_accuracy: 0.8891\n",
      "Epoch 79/150\n",
      "3750/3750 [==============================] - 227s 61ms/step - loss: 0.0629 - accuracy: 0.9746 - val_loss: 0.6667 - val_accuracy: 0.8923\n",
      "Epoch 80/150\n",
      "3750/3750 [==============================] - 227s 61ms/step - loss: 0.0650 - accuracy: 0.9744 - val_loss: 0.7866 - val_accuracy: 0.8640\n",
      "Epoch 81/150\n",
      "3750/3750 [==============================] - 227s 61ms/step - loss: 0.0612 - accuracy: 0.9755 - val_loss: 0.6723 - val_accuracy: 0.8895\n",
      "Epoch 82/150\n",
      "3750/3750 [==============================] - 227s 61ms/step - loss: 0.0608 - accuracy: 0.9761 - val_loss: 0.6121 - val_accuracy: 0.9001\n",
      "Epoch 83/150\n",
      "3750/3750 [==============================] - 227s 61ms/step - loss: 0.0565 - accuracy: 0.9777 - val_loss: 0.6242 - val_accuracy: 0.8978\n",
      "Epoch 84/150\n",
      "3750/3750 [==============================] - 228s 61ms/step - loss: 0.0597 - accuracy: 0.9764 - val_loss: 0.6031 - val_accuracy: 0.9029\n",
      "Epoch 85/150\n",
      "3750/3750 [==============================] - 227s 61ms/step - loss: 0.0541 - accuracy: 0.9784 - val_loss: 0.6558 - val_accuracy: 0.8956\n",
      "Epoch 86/150\n",
      "3750/3750 [==============================] - 227s 61ms/step - loss: 0.0584 - accuracy: 0.9769 - val_loss: 0.6560 - val_accuracy: 0.8940\n",
      "Epoch 87/150\n",
      "3750/3750 [==============================] - 227s 60ms/step - loss: 0.0577 - accuracy: 0.9774 - val_loss: 0.6575 - val_accuracy: 0.8903\n",
      "Epoch 88/150\n",
      "3750/3750 [==============================] - 227s 61ms/step - loss: 0.0531 - accuracy: 0.9787 - val_loss: 0.6556 - val_accuracy: 0.8904\n",
      "Epoch 89/150\n",
      "3750/3750 [==============================] - 227s 61ms/step - loss: 0.2095 - accuracy: 0.9337 - val_loss: 0.6129 - val_accuracy: 0.8806\n",
      "Epoch 90/150\n",
      "3750/3750 [==============================] - 230s 61ms/step - loss: 0.0994 - accuracy: 0.9613 - val_loss: 0.5651 - val_accuracy: 0.8986\n",
      "Epoch 91/150\n",
      "3750/3750 [==============================] - 229s 61ms/step - loss: 0.0501 - accuracy: 0.9795 - val_loss: 0.5514 - val_accuracy: 0.9086\n",
      "Epoch 92/150\n",
      "3750/3750 [==============================] - 242s 65ms/step - loss: 0.0467 - accuracy: 0.9809 - val_loss: 1.0141 - val_accuracy: 0.8224\n",
      "Epoch 93/150\n",
      "3750/3750 [==============================] - 229s 61ms/step - loss: 0.0549 - accuracy: 0.9783 - val_loss: 0.6073 - val_accuracy: 0.8999\n",
      "Epoch 94/150\n",
      "3750/3750 [==============================] - 228s 61ms/step - loss: 0.0555 - accuracy: 0.9782 - val_loss: 0.6216 - val_accuracy: 0.8939\n",
      "Epoch 95/150\n",
      "3750/3750 [==============================] - 229s 61ms/step - loss: 0.0530 - accuracy: 0.9787 - val_loss: 0.5724 - val_accuracy: 0.9057\n",
      "Epoch 96/150\n",
      "3750/3750 [==============================] - 230s 61ms/step - loss: 0.0415 - accuracy: 0.9840 - val_loss: 0.5869 - val_accuracy: 0.9068\n",
      "Epoch 97/150\n",
      "3750/3750 [==============================] - 229s 61ms/step - loss: 0.0444 - accuracy: 0.9815 - val_loss: 0.6442 - val_accuracy: 0.9000\n",
      "Epoch 98/150\n",
      "3750/3750 [==============================] - 230s 61ms/step - loss: 0.0526 - accuracy: 0.9797 - val_loss: 0.6317 - val_accuracy: 0.8984\n",
      "Epoch 99/150\n",
      "3750/3750 [==============================] - 230s 61ms/step - loss: 0.0476 - accuracy: 0.9807 - val_loss: 0.6888 - val_accuracy: 0.8914\n",
      "Epoch 100/150\n",
      "3750/3750 [==============================] - 230s 61ms/step - loss: 0.0484 - accuracy: 0.9811 - val_loss: 0.6197 - val_accuracy: 0.9046\n",
      "Epoch 101/150\n",
      "3750/3750 [==============================] - 229s 61ms/step - loss: 0.0476 - accuracy: 0.9815 - val_loss: 0.6146 - val_accuracy: 0.9089\n",
      "Epoch 102/150\n",
      "3750/3750 [==============================] - 229s 61ms/step - loss: 0.0507 - accuracy: 0.9796 - val_loss: 0.6359 - val_accuracy: 0.9006\n",
      "Epoch 103/150\n",
      "3750/3750 [==============================] - 229s 61ms/step - loss: 0.0461 - accuracy: 0.9813 - val_loss: 0.6076 - val_accuracy: 0.9033\n",
      "Epoch 104/150\n",
      "3750/3750 [==============================] - 227s 60ms/step - loss: 0.0460 - accuracy: 0.9815 - val_loss: 0.6473 - val_accuracy: 0.9005\n",
      "Epoch 105/150\n",
      "3750/3750 [==============================] - 227s 61ms/step - loss: 0.0466 - accuracy: 0.9822 - val_loss: 0.6377 - val_accuracy: 0.9025\n",
      "Epoch 106/150\n",
      "3750/3750 [==============================] - 227s 61ms/step - loss: 0.0473 - accuracy: 0.9813 - val_loss: 0.6113 - val_accuracy: 0.9049\n",
      "Epoch 107/150\n",
      "3750/3750 [==============================] - 227s 60ms/step - loss: 0.0461 - accuracy: 0.9816 - val_loss: 0.6531 - val_accuracy: 0.9010\n",
      "Epoch 108/150\n",
      "3750/3750 [==============================] - 227s 61ms/step - loss: 0.0480 - accuracy: 0.9818 - val_loss: 0.6144 - val_accuracy: 0.9004\n",
      "Epoch 109/150\n",
      "3750/3750 [==============================] - 227s 60ms/step - loss: 0.0429 - accuracy: 0.9827 - val_loss: 0.8605 - val_accuracy: 0.8594\n",
      "Epoch 110/150\n",
      "3750/3750 [==============================] - 227s 61ms/step - loss: 0.0449 - accuracy: 0.9829 - val_loss: 0.6096 - val_accuracy: 0.9015\n",
      "Epoch 111/150\n",
      "3750/3750 [==============================] - 227s 60ms/step - loss: 0.0416 - accuracy: 0.9839 - val_loss: 0.6506 - val_accuracy: 0.8996\n",
      "Epoch 112/150\n",
      "3750/3750 [==============================] - 227s 61ms/step - loss: 0.0432 - accuracy: 0.9825 - val_loss: 0.7238 - val_accuracy: 0.8903\n",
      "Epoch 113/150\n",
      "3750/3750 [==============================] - 227s 61ms/step - loss: 0.0427 - accuracy: 0.9829 - val_loss: 0.6472 - val_accuracy: 0.8985\n",
      "Epoch 114/150\n",
      "3750/3750 [==============================] - 227s 61ms/step - loss: 0.0407 - accuracy: 0.9841 - val_loss: 0.5905 - val_accuracy: 0.9117\n",
      "Epoch 115/150\n",
      "3750/3750 [==============================] - 229s 61ms/step - loss: 0.0407 - accuracy: 0.9836 - val_loss: 0.6199 - val_accuracy: 0.9056\n",
      "Epoch 116/150\n",
      "3750/3750 [==============================] - 227s 61ms/step - loss: 0.0384 - accuracy: 0.9849 - val_loss: 0.6208 - val_accuracy: 0.9054\n",
      "Epoch 117/150\n",
      "3750/3750 [==============================] - 227s 61ms/step - loss: 0.0415 - accuracy: 0.9841 - val_loss: 0.7102 - val_accuracy: 0.8788\n",
      "Epoch 118/150\n",
      "3750/3750 [==============================] - 227s 61ms/step - loss: 0.0428 - accuracy: 0.9838 - val_loss: 0.6132 - val_accuracy: 0.9051\n",
      "Epoch 119/150\n",
      "3750/3750 [==============================] - 227s 61ms/step - loss: 0.0403 - accuracy: 0.9848 - val_loss: 0.6361 - val_accuracy: 0.9020\n",
      "Epoch 120/150\n",
      "3750/3750 [==============================] - 227s 60ms/step - loss: 0.0358 - accuracy: 0.9856 - val_loss: 0.6733 - val_accuracy: 0.9017\n",
      "Epoch 121/150\n",
      "3750/3750 [==============================] - 227s 60ms/step - loss: 0.0406 - accuracy: 0.9841 - val_loss: 0.6662 - val_accuracy: 0.9013\n",
      "Epoch 122/150\n",
      "3750/3750 [==============================] - 227s 60ms/step - loss: 0.0382 - accuracy: 0.9855 - val_loss: 0.6280 - val_accuracy: 0.9089\n",
      "Epoch 123/150\n",
      "3750/3750 [==============================] - 227s 61ms/step - loss: 0.0390 - accuracy: 0.9851 - val_loss: 0.6163 - val_accuracy: 0.9080\n",
      "Epoch 124/150\n",
      "3750/3750 [==============================] - 229s 61ms/step - loss: 0.0547 - accuracy: 0.9799 - val_loss: 0.6529 - val_accuracy: 0.8970\n",
      "Epoch 125/150\n",
      "3750/3750 [==============================] - 229s 61ms/step - loss: 0.0334 - accuracy: 0.9861 - val_loss: 0.6281 - val_accuracy: 0.9093\n",
      "Epoch 126/150\n",
      "3750/3750 [==============================] - 229s 61ms/step - loss: 0.0301 - accuracy: 0.9879 - val_loss: 0.6720 - val_accuracy: 0.9038\n",
      "Epoch 127/150\n",
      "3750/3750 [==============================] - 229s 61ms/step - loss: 0.0355 - accuracy: 0.9862 - val_loss: 0.7196 - val_accuracy: 0.8953\n",
      "Epoch 128/150\n",
      "3750/3750 [==============================] - 227s 61ms/step - loss: 0.0386 - accuracy: 0.9848 - val_loss: 0.6397 - val_accuracy: 0.9110\n",
      "Epoch 129/150\n",
      "3750/3750 [==============================] - 226s 60ms/step - loss: 1.0678 - accuracy: 0.7066 - val_loss: 1.1640 - val_accuracy: 0.6887\n",
      "Epoch 130/150\n",
      "3750/3750 [==============================] - 228s 61ms/step - loss: 1.0194 - accuracy: 0.6689 - val_loss: 0.9286 - val_accuracy: 0.7530\n",
      "Epoch 131/150\n",
      "3750/3750 [==============================] - 229s 61ms/step - loss: 0.4344 - accuracy: 0.8601 - val_loss: 0.6070 - val_accuracy: 0.8781\n",
      "Epoch 132/150\n",
      "3750/3750 [==============================] - 229s 61ms/step - loss: 0.1523 - accuracy: 0.9459 - val_loss: 0.5803 - val_accuracy: 0.8948\n",
      "Epoch 133/150\n",
      "3750/3750 [==============================] - 229s 61ms/step - loss: 0.0555 - accuracy: 0.9773 - val_loss: 0.5969 - val_accuracy: 0.8965\n",
      "Epoch 134/150\n",
      "3750/3750 [==============================] - 227s 61ms/step - loss: 0.0421 - accuracy: 0.9827 - val_loss: 0.6056 - val_accuracy: 0.9028\n",
      "Epoch 135/150\n",
      "3750/3750 [==============================] - 226s 60ms/step - loss: 0.0421 - accuracy: 0.9832 - val_loss: 0.5832 - val_accuracy: 0.9049\n",
      "Epoch 136/150\n",
      "3750/3750 [==============================] - 227s 60ms/step - loss: 0.0348 - accuracy: 0.9850 - val_loss: 0.6068 - val_accuracy: 0.9082\n",
      "Epoch 137/150\n",
      "3750/3750 [==============================] - 227s 61ms/step - loss: 0.0413 - accuracy: 0.9837 - val_loss: 0.6645 - val_accuracy: 0.8962\n",
      "Epoch 138/150\n",
      "3750/3750 [==============================] - 227s 61ms/step - loss: 0.0362 - accuracy: 0.9858 - val_loss: 0.6338 - val_accuracy: 0.9072\n",
      "Epoch 139/150\n",
      "3750/3750 [==============================] - 227s 61ms/step - loss: 0.0364 - accuracy: 0.9862 - val_loss: 0.6224 - val_accuracy: 0.9092\n",
      "Epoch 140/150\n",
      "3750/3750 [==============================] - 227s 60ms/step - loss: 0.3219 - accuracy: 0.9126 - val_loss: 1.6166 - val_accuracy: 0.5993\n",
      "Epoch 141/150\n",
      "3750/3750 [==============================] - 227s 61ms/step - loss: 0.8061 - accuracy: 0.7577 - val_loss: 0.7099 - val_accuracy: 0.8202\n",
      "Epoch 142/150\n",
      "3750/3750 [==============================] - 227s 61ms/step - loss: 0.2994 - accuracy: 0.8998 - val_loss: 0.5631 - val_accuracy: 0.8864\n",
      "Epoch 143/150\n",
      "3750/3750 [==============================] - 227s 61ms/step - loss: 0.0989 - accuracy: 0.9614 - val_loss: 0.5595 - val_accuracy: 0.9049\n",
      "Epoch 144/150\n",
      "3750/3750 [==============================] - 227s 61ms/step - loss: 0.0408 - accuracy: 0.9822 - val_loss: 0.5660 - val_accuracy: 0.9105\n",
      "Epoch 145/150\n",
      "3750/3750 [==============================] - 227s 61ms/step - loss: 0.0373 - accuracy: 0.9847 - val_loss: 3.1752 - val_accuracy: 0.4778\n",
      "Epoch 146/150\n",
      "3750/3750 [==============================] - 227s 61ms/step - loss: 0.0417 - accuracy: 0.9837 - val_loss: 0.6012 - val_accuracy: 0.9071\n",
      "Epoch 147/150\n",
      "3750/3750 [==============================] - 228s 61ms/step - loss: 0.0358 - accuracy: 0.9854 - val_loss: 0.6070 - val_accuracy: 0.9075\n",
      "Epoch 148/150\n",
      "3750/3750 [==============================] - 227s 61ms/step - loss: 0.0348 - accuracy: 0.9858 - val_loss: 0.5669 - val_accuracy: 0.9131\n",
      "Epoch 149/150\n",
      "3750/3750 [==============================] - 228s 61ms/step - loss: 0.0366 - accuracy: 0.9853 - val_loss: 0.6071 - val_accuracy: 0.9079\n",
      "Epoch 150/150\n",
      "3750/3750 [==============================] - 227s 61ms/step - loss: 0.0364 - accuracy: 0.9851 - val_loss: 0.5997 - val_accuracy: 0.9096\n"
     ]
    }
   ],
   "source": [
    "from tensorflow import keras\n",
    "K.clear_session()\n",
    "model_final.compile(loss={'ctc': lambda y_true, y_pred: y_pred}, optimizer=keras.optimizers.Adam(learning_rate=0.001),\n",
    "                  metrics=['accuracy'])#, dtype='float16'\n",
    "\n",
    "\n",
    "history = model_final.fit(x=[train_x, train_y, train_input_len, train_label_len], y=train_output, \n",
    "                validation_data=([test_x, test_y, test_input_len, test_label_len], test_output),\n",
    "                epochs=150, batch_size=16)"
   ]
  },
  {
   "cell_type": "code",
   "execution_count": 26,
   "metadata": {},
   "outputs": [
    {
     "data": {
      "application/vnd.plotly.v1+json": {
       "config": {
        "plotlyServerURL": "https://plot.ly"
       },
       "data": [
        {
         "line": {
          "color": "blue"
         },
         "mode": "lines",
         "name": "Train",
         "type": "scatter",
         "x": [
          1,
          2,
          3,
          4,
          5,
          6,
          7,
          8,
          9,
          10,
          11,
          12,
          13,
          14,
          15,
          16,
          17,
          18,
          19,
          20,
          21,
          22,
          23,
          24,
          25,
          26,
          27,
          28,
          29,
          30,
          31,
          32,
          33,
          34,
          35,
          36,
          37,
          38,
          39,
          40,
          41,
          42,
          43,
          44,
          45,
          46,
          47,
          48,
          49,
          50,
          51,
          52,
          53,
          54,
          55,
          56,
          57,
          58,
          59,
          60,
          61,
          62,
          63,
          64,
          65,
          66,
          67,
          68,
          69,
          70,
          71,
          72,
          73,
          74,
          75,
          76,
          77,
          78,
          79,
          80,
          81,
          82,
          83,
          84,
          85,
          86,
          87,
          88,
          89,
          90,
          91,
          92,
          93,
          94,
          95,
          96,
          97,
          98,
          99,
          100,
          101,
          102,
          103,
          104,
          105,
          106,
          107,
          108,
          109,
          110,
          111,
          112,
          113,
          114,
          115,
          116,
          117,
          118,
          119,
          120,
          121,
          122,
          123,
          124,
          125,
          126,
          127,
          128,
          129,
          130,
          131,
          132,
          133,
          134,
          135,
          136,
          137,
          138,
          139,
          140,
          141,
          142,
          143,
          144,
          145,
          146,
          147,
          148,
          149,
          150
         ],
         "xaxis": "x",
         "y": [
          0,
          0.018033333122730255,
          0.19998332858085632,
          0.4557499885559082,
          0.5978666543960571,
          0.6671833395957947,
          0.7041000127792358,
          0.7419333457946777,
          0.7644000053405762,
          0.7880499958992004,
          0.804183304309845,
          0.810616672039032,
          0.8229333162307739,
          0.8321499824523926,
          0.8422999978065491,
          0.8510833382606506,
          0.857283353805542,
          0.8640000224113464,
          0.8678833246231079,
          0.8736333250999451,
          0.8795333504676819,
          0.8812666535377502,
          0.8873166441917419,
          0.8891000151634216,
          0.8936333060264587,
          0.8974666595458984,
          0.8982833623886108,
          0.9020166397094727,
          0.9041833281517029,
          0.9087666869163513,
          0.9087166786193848,
          0.9138500094413757,
          0.9155833125114441,
          0.9211666584014893,
          0.9196500182151794,
          0.918583333492279,
          0.9254666566848755,
          0.9257166385650635,
          0.9275000095367432,
          0.9298999905586243,
          0.9308000206947327,
          0.9351000189781189,
          0.9346833229064941,
          0.9369500279426575,
          0.9375333189964294,
          0.9380666613578796,
          0.9404333233833313,
          0.9416166543960571,
          0.9426166415214539,
          0.9445499777793884,
          0.947350025177002,
          0.9487000107765198,
          0.9485999941825867,
          0.949916660785675,
          0.9518333077430725,
          0.9529500007629395,
          0.9523000121116638,
          0.9541833400726318,
          0.9579833149909973,
          0.958050012588501,
          0.9602166414260864,
          0.9606000185012817,
          0.9610333442687988,
          0.9620333313941956,
          0.9630333185195923,
          0.9637333154678345,
          0.9624999761581421,
          0.9668333530426025,
          0.9649333357810974,
          0.9689499735832214,
          0.9674999713897705,
          0.9686999917030334,
          0.9693166613578796,
          0.9688166379928589,
          0.9715499877929688,
          0.9735833406448364,
          0.9736833572387695,
          0.9735000133514404,
          0.9745833277702332,
          0.9744499921798706,
          0.9754666686058044,
          0.9761499762535095,
          0.9776666760444641,
          0.9763500094413757,
          0.9783666729927063,
          0.9768999814987183,
          0.9773833155632019,
          0.9787499904632568,
          0.9337166547775269,
          0.9612833261489868,
          0.9794833064079285,
          0.9808666706085205,
          0.9782500267028809,
          0.9781833291053772,
          0.9787333607673645,
          0.984000027179718,
          0.9814500212669373,
          0.9797333478927612,
          0.9806666374206543,
          0.9810666441917419,
          0.9814666509628296,
          0.9796000123023987,
          0.9813166856765747,
          0.9814666509628296,
          0.9822499752044678,
          0.9812999963760376,
          0.9816499948501587,
          0.9818333387374878,
          0.9827166795730591,
          0.9829333424568176,
          0.9839333295822144,
          0.9825000166893005,
          0.9829000234603882,
          0.9841333627700806,
          0.9835500121116638,
          0.9848999977111816,
          0.9841333627700806,
          0.9837666749954224,
          0.9847666621208191,
          0.9856333136558533,
          0.9840999841690063,
          0.9854833483695984,
          0.9850833415985107,
          0.9798666834831238,
          0.9861000180244446,
          0.9879000186920166,
          0.9862333536148071,
          0.9848499894142151,
          0.70660001039505,
          0.6688833236694336,
          0.8600833415985107,
          0.9459333419799805,
          0.9772666692733765,
          0.9827333092689514,
          0.9831833243370056,
          0.9850333333015442,
          0.9837333559989929,
          0.9857666492462158,
          0.9861833453178406,
          0.9126333594322205,
          0.7577333450317383,
          0.8998166918754578,
          0.9613999724388123,
          0.9822499752044678,
          0.9847333431243896,
          0.9836999773979187,
          0.9853833317756653,
          0.9857833385467529,
          0.9852666854858398,
          0.9851333498954773
         ],
         "yaxis": "y"
        },
        {
         "line": {
          "color": "orange"
         },
         "mode": "lines",
         "name": "Validation",
         "type": "scatter",
         "x": [
          1,
          2,
          3,
          4,
          5,
          6,
          7,
          8,
          9,
          10,
          11,
          12,
          13,
          14,
          15,
          16,
          17,
          18,
          19,
          20,
          21,
          22,
          23,
          24,
          25,
          26,
          27,
          28,
          29,
          30,
          31,
          32,
          33,
          34,
          35,
          36,
          37,
          38,
          39,
          40,
          41,
          42,
          43,
          44,
          45,
          46,
          47,
          48,
          49,
          50,
          51,
          52,
          53,
          54,
          55,
          56,
          57,
          58,
          59,
          60,
          61,
          62,
          63,
          64,
          65,
          66,
          67,
          68,
          69,
          70,
          71,
          72,
          73,
          74,
          75,
          76,
          77,
          78,
          79,
          80,
          81,
          82,
          83,
          84,
          85,
          86,
          87,
          88,
          89,
          90,
          91,
          92,
          93,
          94,
          95,
          96,
          97,
          98,
          99,
          100,
          101,
          102,
          103,
          104,
          105,
          106,
          107,
          108,
          109,
          110,
          111,
          112,
          113,
          114,
          115,
          116,
          117,
          118,
          119,
          120,
          121,
          122,
          123,
          124,
          125,
          126,
          127,
          128,
          129,
          130,
          131,
          132,
          133,
          134,
          135,
          136,
          137,
          138,
          139,
          140,
          141,
          142,
          143,
          144,
          145,
          146,
          147,
          148,
          149,
          150
         ],
         "xaxis": "x",
         "y": [
          0,
          0.02630000002682209,
          0.08009999990463257,
          0.25519999861717224,
          0.6162999868392944,
          0.033900000154972076,
          0.7122499942779541,
          0.6671000123023987,
          0.7301499843597412,
          0.5522500276565552,
          0.6862499713897705,
          0.6137499809265137,
          0.7959499955177307,
          0.7826499938964844,
          0.728950023651123,
          0.8197000026702881,
          0.7574999928474426,
          0.8087499737739563,
          0.23070000112056732,
          0.8423500061035156,
          0.8491500020027161,
          0.8477500081062317,
          0.8458499908447266,
          0.8502500057220459,
          0.8517000079154968,
          0.8443499803543091,
          0.8392000198364258,
          0.5367000102996826,
          0.7267500162124634,
          0.7698500156402588,
          0.8700500130653381,
          0.8676499724388123,
          0.8614500164985657,
          0.8772000074386597,
          0.8572999835014343,
          0.8687499761581421,
          0.8307499885559082,
          0.8627499938011169,
          0.8674499988555908,
          0.8743500113487244,
          0.8641499876976013,
          0.8744999766349792,
          0.4048500061035156,
          0.776449978351593,
          0.8730499744415283,
          0.8680999875068665,
          0.878000020980835,
          0.19519999623298645,
          0.8744999766349792,
          0.8822000026702881,
          0.8812999725341797,
          0.8684999942779541,
          0.8813999891281128,
          0.8715999722480774,
          0.8784499764442444,
          0.8763499855995178,
          0.849399983882904,
          0.8805500268936157,
          0.8844000101089478,
          0.8899499773979187,
          0.8881999850273132,
          0.8787000179290771,
          0.8867999911308289,
          0.8750500082969666,
          0.8891000151634216,
          0.8897500038146973,
          0.8896999955177307,
          0.8859500288963318,
          0.8895999789237976,
          0.8913000226020813,
          0.8839499950408936,
          0.8799999952316284,
          0.8870000243186951,
          0.8944500088691711,
          0.8874499797821045,
          0.8566499948501587,
          0.880299985408783,
          0.8891000151634216,
          0.8922500014305115,
          0.8640000224113464,
          0.8895000219345093,
          0.9000999927520752,
          0.8977500200271606,
          0.9029499888420105,
          0.8956000208854675,
          0.8939999938011169,
          0.8903499841690063,
          0.8903999924659729,
          0.880649983882904,
          0.8985999822616577,
          0.9085500240325928,
          0.8223999738693237,
          0.8999000191688538,
          0.8938500285148621,
          0.9056500196456909,
          0.9068499803543091,
          0.8999500274658203,
          0.8984000086784363,
          0.8913999795913696,
          0.9046499729156494,
          0.9089000225067139,
          0.9005500078201294,
          0.9032999873161316,
          0.9004999995231628,
          0.9025499820709229,
          0.9049000144004822,
          0.900950014591217,
          0.9004499912261963,
          0.8594499826431274,
          0.9014999866485596,
          0.8995500206947327,
          0.8903499841690063,
          0.8984500169754028,
          0.9117000102996826,
          0.9055500030517578,
          0.9054499864578247,
          0.8787500262260437,
          0.9050999879837036,
          0.9020000100135803,
          0.9016500115394592,
          0.9012500047683716,
          0.9088500142097473,
          0.9079999923706055,
          0.8970000147819519,
          0.909250020980835,
          0.9037500023841858,
          0.8952500224113464,
          0.9109500050544739,
          0.6886500120162964,
          0.7529500126838684,
          0.8780500292778015,
          0.8948000073432922,
          0.8964999914169312,
          0.9028499722480774,
          0.9049000144004822,
          0.9081500172615051,
          0.8962000012397766,
          0.9071999788284302,
          0.9091500043869019,
          0.5993000268936157,
          0.8202000260353088,
          0.8864499926567078,
          0.9049000144004822,
          0.9104999899864197,
          0.4778499901294708,
          0.9071000218391418,
          0.9075000286102295,
          0.913100004196167,
          0.9078999757766724,
          0.9095500111579895
         ],
         "yaxis": "y"
        },
        {
         "line": {
          "color": "blue"
         },
         "mode": "lines",
         "name": "Train",
         "showlegend": false,
         "type": "scatter",
         "x": [
          1,
          2,
          3,
          4,
          5,
          6,
          7,
          8,
          9,
          10,
          11,
          12,
          13,
          14,
          15,
          16,
          17,
          18,
          19,
          20,
          21,
          22,
          23,
          24,
          25,
          26,
          27,
          28,
          29,
          30,
          31,
          32,
          33,
          34,
          35,
          36,
          37,
          38,
          39,
          40,
          41,
          42,
          43,
          44,
          45,
          46,
          47,
          48,
          49,
          50,
          51,
          52,
          53,
          54,
          55,
          56,
          57,
          58,
          59,
          60,
          61,
          62,
          63,
          64,
          65,
          66,
          67,
          68,
          69,
          70,
          71,
          72,
          73,
          74,
          75,
          76,
          77,
          78,
          79,
          80,
          81,
          82,
          83,
          84,
          85,
          86,
          87,
          88,
          89,
          90,
          91,
          92,
          93,
          94,
          95,
          96,
          97,
          98,
          99,
          100,
          101,
          102,
          103,
          104,
          105,
          106,
          107,
          108,
          109,
          110,
          111,
          112,
          113,
          114,
          115,
          116,
          117,
          118,
          119,
          120,
          121,
          122,
          123,
          124,
          125,
          126,
          127,
          128,
          129,
          130,
          131,
          132,
          133,
          134,
          135,
          136,
          137,
          138,
          139,
          140,
          141,
          142,
          143,
          144,
          145,
          146,
          147,
          148,
          149,
          150
         ],
         "xaxis": "x2",
         "y": [
          7.818653106689453,
          4.507194995880127,
          2.3999104499816895,
          1.6448829174041748,
          1.276826024055481,
          1.0729554891586304,
          0.9632693529129028,
          0.838104248046875,
          0.7666501998901367,
          0.6990148425102234,
          0.649163544178009,
          0.6151320338249207,
          0.5817645788192749,
          0.5429460406303406,
          0.5044097304344177,
          0.47959113121032715,
          0.45434561371803284,
          0.43431246280670166,
          0.4176424741744995,
          0.39963412284851074,
          0.37728971242904663,
          0.3627566993236542,
          0.3487645387649536,
          0.34045419096946716,
          0.31825077533721924,
          0.3126910626888275,
          0.30206939578056335,
          0.28817445039749146,
          0.28018131852149963,
          0.2667519152164459,
          0.26270031929016113,
          0.24472245573997498,
          0.23976826667785645,
          0.21796606481075287,
          0.22299392521381378,
          0.22705109417438507,
          0.20603469014167786,
          0.2060820311307907,
          0.1965019255876541,
          0.19357939064502716,
          0.18503430485725403,
          0.1773023009300232,
          0.173662468791008,
          0.1678246557712555,
          0.16596998274326324,
          0.16417869925498962,
          0.1589135378599167,
          0.1501159816980362,
          0.1465698778629303,
          0.1402660459280014,
          0.13727711141109467,
          0.13206976652145386,
          0.12924833595752716,
          0.12837494909763336,
          0.12368081510066986,
          0.12191664427518845,
          0.12316177785396576,
          0.11540459096431732,
          0.10488185286521912,
          0.10472259670495987,
          0.1004701778292656,
          0.1002291738986969,
          0.09941337257623672,
          0.09762071818113327,
          0.0921829342842102,
          0.09256190061569214,
          0.09467188268899918,
          0.08290798962116241,
          0.08694621920585632,
          0.07781524211168289,
          0.08329091966152191,
          0.07745397835969925,
          0.07783946394920349,
          0.07845426350831985,
          0.06956612318754196,
          0.06710774451494217,
          0.0664282888174057,
          0.06604918837547302,
          0.06289543211460114,
          0.06500519812107086,
          0.06121544539928436,
          0.060835663229227066,
          0.056454241275787354,
          0.059747859835624695,
          0.05411364883184433,
          0.05835200473666191,
          0.05772325396537781,
          0.05314943194389343,
          0.20951910316944122,
          0.09937763959169388,
          0.0501084104180336,
          0.04671967774629593,
          0.054911158978939056,
          0.055489640682935715,
          0.05302242934703827,
          0.0414830781519413,
          0.04440968856215477,
          0.05255068838596344,
          0.047623250633478165,
          0.048444416373968124,
          0.0476328581571579,
          0.05065708979964256,
          0.046102918684482574,
          0.04597511887550354,
          0.046561870723962784,
          0.047281261533498764,
          0.046063389629125595,
          0.04795970395207405,
          0.042897891253232956,
          0.044892363250255585,
          0.04156279191374779,
          0.043198421597480774,
          0.04269866272807121,
          0.04072795435786247,
          0.0406595878303051,
          0.03838219493627548,
          0.041452061384916306,
          0.04283495992422104,
          0.04030768945813179,
          0.03584934026002884,
          0.040630485862493515,
          0.03821462765336037,
          0.03900159150362015,
          0.05469485744833946,
          0.033393774181604385,
          0.030136633664369583,
          0.035481881350278854,
          0.03863697871565819,
          1.0678229331970215,
          1.0194344520568848,
          0.4344003200531006,
          0.15228666365146637,
          0.05547809600830078,
          0.0420873649418354,
          0.04212294891476631,
          0.034812960773706436,
          0.041275717318058014,
          0.03616338223218918,
          0.03638095408678055,
          0.3219406008720398,
          0.8060992360115051,
          0.2994283139705658,
          0.09886670112609863,
          0.040832433849573135,
          0.03726937249302864,
          0.041664618998765945,
          0.035811759531497955,
          0.034772343933582306,
          0.03657666593790054,
          0.0364154651761055
         ],
         "yaxis": "y2"
        },
        {
         "line": {
          "color": "orange"
         },
         "mode": "lines",
         "name": "Validation",
         "showlegend": false,
         "type": "scatter",
         "x": [
          1,
          2,
          3,
          4,
          5,
          6,
          7,
          8,
          9,
          10,
          11,
          12,
          13,
          14,
          15,
          16,
          17,
          18,
          19,
          20,
          21,
          22,
          23,
          24,
          25,
          26,
          27,
          28,
          29,
          30,
          31,
          32,
          33,
          34,
          35,
          36,
          37,
          38,
          39,
          40,
          41,
          42,
          43,
          44,
          45,
          46,
          47,
          48,
          49,
          50,
          51,
          52,
          53,
          54,
          55,
          56,
          57,
          58,
          59,
          60,
          61,
          62,
          63,
          64,
          65,
          66,
          67,
          68,
          69,
          70,
          71,
          72,
          73,
          74,
          75,
          76,
          77,
          78,
          79,
          80,
          81,
          82,
          83,
          84,
          85,
          86,
          87,
          88,
          89,
          90,
          91,
          92,
          93,
          94,
          95,
          96,
          97,
          98,
          99,
          100,
          101,
          102,
          103,
          104,
          105,
          106,
          107,
          108,
          109,
          110,
          111,
          112,
          113,
          114,
          115,
          116,
          117,
          118,
          119,
          120,
          121,
          122,
          123,
          124,
          125,
          126,
          127,
          128,
          129,
          130,
          131,
          132,
          133,
          134,
          135,
          136,
          137,
          138,
          139,
          140,
          141,
          142,
          143,
          144,
          145,
          146,
          147,
          148,
          149,
          150
         ],
         "xaxis": "x2",
         "y": [
          11.656731605529785,
          4.078164100646973,
          4.998173713684082,
          3.0352602005004883,
          1.2687602043151855,
          5.387696266174316,
          0.9987505674362183,
          1.2397727966308594,
          0.9414485096931458,
          1.9718809127807617,
          1.1324048042297363,
          1.5020191669464111,
          0.7712265849113464,
          0.8171104192733765,
          1.013450026512146,
          0.669834315776825,
          1.0068553686141968,
          0.7437419295310974,
          4.131502151489258,
          0.6071763038635254,
          0.5965175032615662,
          0.6078822612762451,
          0.5933173894882202,
          0.6038342118263245,
          0.617794930934906,
          0.6637701988220215,
          0.6672906875610352,
          2.5480799674987793,
          1.1613188982009888,
          1.0792073011398315,
          0.5483644008636475,
          0.5678117871284485,
          0.5964080095291138,
          0.5404068827629089,
          0.6196814179420471,
          0.5785276889801025,
          0.7098222374916077,
          0.6166309714317322,
          0.6082785129547119,
          0.6033685803413391,
          0.6291579008102417,
          0.5793958306312561,
          4.546015739440918,
          0.9157398343086243,
          0.6203458309173584,
          0.6568674445152283,
          0.5900392532348633,
          6.3493876457214355,
          0.6137549877166748,
          0.5613383054733276,
          0.6016274690628052,
          0.637442409992218,
          0.587864339351654,
          0.6493991017341614,
          0.6230165362358093,
          0.6206651926040649,
          0.7476648092269897,
          0.6109535098075867,
          0.58121657371521,
          0.5690814852714539,
          0.5861433744430542,
          0.6714984774589539,
          0.6095445156097412,
          0.6737608909606934,
          0.6118530631065369,
          0.5893144607543945,
          0.5946722626686096,
          0.6340407133102417,
          0.6391081213951111,
          0.6389250755310059,
          0.6713043451309204,
          0.7015315294265747,
          0.6965560913085938,
          0.6267866492271423,
          0.6420055627822876,
          0.8084626197814941,
          0.6781478524208069,
          0.6439372301101685,
          0.6667454242706299,
          0.7865679264068604,
          0.6722710728645325,
          0.6120641827583313,
          0.62417072057724,
          0.6030870676040649,
          0.6557803153991699,
          0.6559856534004211,
          0.6574531197547913,
          0.6556099653244019,
          0.6128594279289246,
          0.5651425123214722,
          0.5513604283332825,
          1.0140736103057861,
          0.6073189973831177,
          0.62160325050354,
          0.5723547339439392,
          0.5869420766830444,
          0.6441745758056641,
          0.6316569447517395,
          0.6888331770896912,
          0.6196755170822144,
          0.6145960688591003,
          0.6359303593635559,
          0.6075658798217773,
          0.6472851634025574,
          0.6376949548721313,
          0.6112757921218872,
          0.6531464457511902,
          0.6143501400947571,
          0.8605334758758545,
          0.6096484065055847,
          0.6506351828575134,
          0.7238425016403198,
          0.6472498774528503,
          0.5904592871665955,
          0.619867205619812,
          0.6207846403121948,
          0.7102044224739075,
          0.6132411956787109,
          0.6360639929771423,
          0.6733262538909912,
          0.6662094593048096,
          0.6279904246330261,
          0.6163449883460999,
          0.652879536151886,
          0.6281384229660034,
          0.6720483303070068,
          0.7195544242858887,
          0.6396593451499939,
          1.1639899015426636,
          0.9286141395568848,
          0.6070387959480286,
          0.580274224281311,
          0.5968610644340515,
          0.6055806875228882,
          0.5831506848335266,
          0.6067701578140259,
          0.6645463109016418,
          0.6337845921516418,
          0.6224341988563538,
          1.6166250705718994,
          0.7099499106407166,
          0.5631418228149414,
          0.5594819784164429,
          0.5659531354904175,
          3.175198554992676,
          0.6011819839477539,
          0.6069501042366028,
          0.5668826103210449,
          0.6071051955223083,
          0.5997493267059326
         ],
         "yaxis": "y2"
        }
       ],
       "layout": {
        "annotations": [
         {
          "font": {
           "size": 16
          },
          "showarrow": false,
          "text": "Model accuracy",
          "x": 0.225,
          "xanchor": "center",
          "xref": "paper",
          "y": 1,
          "yanchor": "bottom",
          "yref": "paper"
         },
         {
          "font": {
           "size": 16
          },
          "showarrow": false,
          "text": "Model loss",
          "x": 0.775,
          "xanchor": "center",
          "xref": "paper",
          "y": 1,
          "yanchor": "bottom",
          "yref": "paper"
         }
        ],
        "legend": {
         "x": 0.85,
         "y": 1
        },
        "template": {
         "data": {
          "bar": [
           {
            "error_x": {
             "color": "#2a3f5f"
            },
            "error_y": {
             "color": "#2a3f5f"
            },
            "marker": {
             "line": {
              "color": "#E5ECF6",
              "width": 0.5
             },
             "pattern": {
              "fillmode": "overlay",
              "size": 10,
              "solidity": 0.2
             }
            },
            "type": "bar"
           }
          ],
          "barpolar": [
           {
            "marker": {
             "line": {
              "color": "#E5ECF6",
              "width": 0.5
             },
             "pattern": {
              "fillmode": "overlay",
              "size": 10,
              "solidity": 0.2
             }
            },
            "type": "barpolar"
           }
          ],
          "carpet": [
           {
            "aaxis": {
             "endlinecolor": "#2a3f5f",
             "gridcolor": "white",
             "linecolor": "white",
             "minorgridcolor": "white",
             "startlinecolor": "#2a3f5f"
            },
            "baxis": {
             "endlinecolor": "#2a3f5f",
             "gridcolor": "white",
             "linecolor": "white",
             "minorgridcolor": "white",
             "startlinecolor": "#2a3f5f"
            },
            "type": "carpet"
           }
          ],
          "choropleth": [
           {
            "colorbar": {
             "outlinewidth": 0,
             "ticks": ""
            },
            "type": "choropleth"
           }
          ],
          "contour": [
           {
            "colorbar": {
             "outlinewidth": 0,
             "ticks": ""
            },
            "colorscale": [
             [
              0,
              "#0d0887"
             ],
             [
              0.1111111111111111,
              "#46039f"
             ],
             [
              0.2222222222222222,
              "#7201a8"
             ],
             [
              0.3333333333333333,
              "#9c179e"
             ],
             [
              0.4444444444444444,
              "#bd3786"
             ],
             [
              0.5555555555555556,
              "#d8576b"
             ],
             [
              0.6666666666666666,
              "#ed7953"
             ],
             [
              0.7777777777777778,
              "#fb9f3a"
             ],
             [
              0.8888888888888888,
              "#fdca26"
             ],
             [
              1,
              "#f0f921"
             ]
            ],
            "type": "contour"
           }
          ],
          "contourcarpet": [
           {
            "colorbar": {
             "outlinewidth": 0,
             "ticks": ""
            },
            "type": "contourcarpet"
           }
          ],
          "heatmap": [
           {
            "colorbar": {
             "outlinewidth": 0,
             "ticks": ""
            },
            "colorscale": [
             [
              0,
              "#0d0887"
             ],
             [
              0.1111111111111111,
              "#46039f"
             ],
             [
              0.2222222222222222,
              "#7201a8"
             ],
             [
              0.3333333333333333,
              "#9c179e"
             ],
             [
              0.4444444444444444,
              "#bd3786"
             ],
             [
              0.5555555555555556,
              "#d8576b"
             ],
             [
              0.6666666666666666,
              "#ed7953"
             ],
             [
              0.7777777777777778,
              "#fb9f3a"
             ],
             [
              0.8888888888888888,
              "#fdca26"
             ],
             [
              1,
              "#f0f921"
             ]
            ],
            "type": "heatmap"
           }
          ],
          "heatmapgl": [
           {
            "colorbar": {
             "outlinewidth": 0,
             "ticks": ""
            },
            "colorscale": [
             [
              0,
              "#0d0887"
             ],
             [
              0.1111111111111111,
              "#46039f"
             ],
             [
              0.2222222222222222,
              "#7201a8"
             ],
             [
              0.3333333333333333,
              "#9c179e"
             ],
             [
              0.4444444444444444,
              "#bd3786"
             ],
             [
              0.5555555555555556,
              "#d8576b"
             ],
             [
              0.6666666666666666,
              "#ed7953"
             ],
             [
              0.7777777777777778,
              "#fb9f3a"
             ],
             [
              0.8888888888888888,
              "#fdca26"
             ],
             [
              1,
              "#f0f921"
             ]
            ],
            "type": "heatmapgl"
           }
          ],
          "histogram": [
           {
            "marker": {
             "pattern": {
              "fillmode": "overlay",
              "size": 10,
              "solidity": 0.2
             }
            },
            "type": "histogram"
           }
          ],
          "histogram2d": [
           {
            "colorbar": {
             "outlinewidth": 0,
             "ticks": ""
            },
            "colorscale": [
             [
              0,
              "#0d0887"
             ],
             [
              0.1111111111111111,
              "#46039f"
             ],
             [
              0.2222222222222222,
              "#7201a8"
             ],
             [
              0.3333333333333333,
              "#9c179e"
             ],
             [
              0.4444444444444444,
              "#bd3786"
             ],
             [
              0.5555555555555556,
              "#d8576b"
             ],
             [
              0.6666666666666666,
              "#ed7953"
             ],
             [
              0.7777777777777778,
              "#fb9f3a"
             ],
             [
              0.8888888888888888,
              "#fdca26"
             ],
             [
              1,
              "#f0f921"
             ]
            ],
            "type": "histogram2d"
           }
          ],
          "histogram2dcontour": [
           {
            "colorbar": {
             "outlinewidth": 0,
             "ticks": ""
            },
            "colorscale": [
             [
              0,
              "#0d0887"
             ],
             [
              0.1111111111111111,
              "#46039f"
             ],
             [
              0.2222222222222222,
              "#7201a8"
             ],
             [
              0.3333333333333333,
              "#9c179e"
             ],
             [
              0.4444444444444444,
              "#bd3786"
             ],
             [
              0.5555555555555556,
              "#d8576b"
             ],
             [
              0.6666666666666666,
              "#ed7953"
             ],
             [
              0.7777777777777778,
              "#fb9f3a"
             ],
             [
              0.8888888888888888,
              "#fdca26"
             ],
             [
              1,
              "#f0f921"
             ]
            ],
            "type": "histogram2dcontour"
           }
          ],
          "mesh3d": [
           {
            "colorbar": {
             "outlinewidth": 0,
             "ticks": ""
            },
            "type": "mesh3d"
           }
          ],
          "parcoords": [
           {
            "line": {
             "colorbar": {
              "outlinewidth": 0,
              "ticks": ""
             }
            },
            "type": "parcoords"
           }
          ],
          "pie": [
           {
            "automargin": true,
            "type": "pie"
           }
          ],
          "scatter": [
           {
            "fillpattern": {
             "fillmode": "overlay",
             "size": 10,
             "solidity": 0.2
            },
            "type": "scatter"
           }
          ],
          "scatter3d": [
           {
            "line": {
             "colorbar": {
              "outlinewidth": 0,
              "ticks": ""
             }
            },
            "marker": {
             "colorbar": {
              "outlinewidth": 0,
              "ticks": ""
             }
            },
            "type": "scatter3d"
           }
          ],
          "scattercarpet": [
           {
            "marker": {
             "colorbar": {
              "outlinewidth": 0,
              "ticks": ""
             }
            },
            "type": "scattercarpet"
           }
          ],
          "scattergeo": [
           {
            "marker": {
             "colorbar": {
              "outlinewidth": 0,
              "ticks": ""
             }
            },
            "type": "scattergeo"
           }
          ],
          "scattergl": [
           {
            "marker": {
             "colorbar": {
              "outlinewidth": 0,
              "ticks": ""
             }
            },
            "type": "scattergl"
           }
          ],
          "scattermapbox": [
           {
            "marker": {
             "colorbar": {
              "outlinewidth": 0,
              "ticks": ""
             }
            },
            "type": "scattermapbox"
           }
          ],
          "scatterpolar": [
           {
            "marker": {
             "colorbar": {
              "outlinewidth": 0,
              "ticks": ""
             }
            },
            "type": "scatterpolar"
           }
          ],
          "scatterpolargl": [
           {
            "marker": {
             "colorbar": {
              "outlinewidth": 0,
              "ticks": ""
             }
            },
            "type": "scatterpolargl"
           }
          ],
          "scatterternary": [
           {
            "marker": {
             "colorbar": {
              "outlinewidth": 0,
              "ticks": ""
             }
            },
            "type": "scatterternary"
           }
          ],
          "surface": [
           {
            "colorbar": {
             "outlinewidth": 0,
             "ticks": ""
            },
            "colorscale": [
             [
              0,
              "#0d0887"
             ],
             [
              0.1111111111111111,
              "#46039f"
             ],
             [
              0.2222222222222222,
              "#7201a8"
             ],
             [
              0.3333333333333333,
              "#9c179e"
             ],
             [
              0.4444444444444444,
              "#bd3786"
             ],
             [
              0.5555555555555556,
              "#d8576b"
             ],
             [
              0.6666666666666666,
              "#ed7953"
             ],
             [
              0.7777777777777778,
              "#fb9f3a"
             ],
             [
              0.8888888888888888,
              "#fdca26"
             ],
             [
              1,
              "#f0f921"
             ]
            ],
            "type": "surface"
           }
          ],
          "table": [
           {
            "cells": {
             "fill": {
              "color": "#EBF0F8"
             },
             "line": {
              "color": "white"
             }
            },
            "header": {
             "fill": {
              "color": "#C8D4E3"
             },
             "line": {
              "color": "white"
             }
            },
            "type": "table"
           }
          ]
         },
         "layout": {
          "annotationdefaults": {
           "arrowcolor": "#2a3f5f",
           "arrowhead": 0,
           "arrowwidth": 1
          },
          "autotypenumbers": "strict",
          "coloraxis": {
           "colorbar": {
            "outlinewidth": 0,
            "ticks": ""
           }
          },
          "colorscale": {
           "diverging": [
            [
             0,
             "#8e0152"
            ],
            [
             0.1,
             "#c51b7d"
            ],
            [
             0.2,
             "#de77ae"
            ],
            [
             0.3,
             "#f1b6da"
            ],
            [
             0.4,
             "#fde0ef"
            ],
            [
             0.5,
             "#f7f7f7"
            ],
            [
             0.6,
             "#e6f5d0"
            ],
            [
             0.7,
             "#b8e186"
            ],
            [
             0.8,
             "#7fbc41"
            ],
            [
             0.9,
             "#4d9221"
            ],
            [
             1,
             "#276419"
            ]
           ],
           "sequential": [
            [
             0,
             "#0d0887"
            ],
            [
             0.1111111111111111,
             "#46039f"
            ],
            [
             0.2222222222222222,
             "#7201a8"
            ],
            [
             0.3333333333333333,
             "#9c179e"
            ],
            [
             0.4444444444444444,
             "#bd3786"
            ],
            [
             0.5555555555555556,
             "#d8576b"
            ],
            [
             0.6666666666666666,
             "#ed7953"
            ],
            [
             0.7777777777777778,
             "#fb9f3a"
            ],
            [
             0.8888888888888888,
             "#fdca26"
            ],
            [
             1,
             "#f0f921"
            ]
           ],
           "sequentialminus": [
            [
             0,
             "#0d0887"
            ],
            [
             0.1111111111111111,
             "#46039f"
            ],
            [
             0.2222222222222222,
             "#7201a8"
            ],
            [
             0.3333333333333333,
             "#9c179e"
            ],
            [
             0.4444444444444444,
             "#bd3786"
            ],
            [
             0.5555555555555556,
             "#d8576b"
            ],
            [
             0.6666666666666666,
             "#ed7953"
            ],
            [
             0.7777777777777778,
             "#fb9f3a"
            ],
            [
             0.8888888888888888,
             "#fdca26"
            ],
            [
             1,
             "#f0f921"
            ]
           ]
          },
          "colorway": [
           "#636efa",
           "#EF553B",
           "#00cc96",
           "#ab63fa",
           "#FFA15A",
           "#19d3f3",
           "#FF6692",
           "#B6E880",
           "#FF97FF",
           "#FECB52"
          ],
          "font": {
           "color": "#2a3f5f"
          },
          "geo": {
           "bgcolor": "white",
           "lakecolor": "white",
           "landcolor": "#E5ECF6",
           "showlakes": true,
           "showland": true,
           "subunitcolor": "white"
          },
          "hoverlabel": {
           "align": "left"
          },
          "hovermode": "closest",
          "mapbox": {
           "style": "light"
          },
          "paper_bgcolor": "white",
          "plot_bgcolor": "#E5ECF6",
          "polar": {
           "angularaxis": {
            "gridcolor": "white",
            "linecolor": "white",
            "ticks": ""
           },
           "bgcolor": "#E5ECF6",
           "radialaxis": {
            "gridcolor": "white",
            "linecolor": "white",
            "ticks": ""
           }
          },
          "scene": {
           "xaxis": {
            "backgroundcolor": "#E5ECF6",
            "gridcolor": "white",
            "gridwidth": 2,
            "linecolor": "white",
            "showbackground": true,
            "ticks": "",
            "zerolinecolor": "white"
           },
           "yaxis": {
            "backgroundcolor": "#E5ECF6",
            "gridcolor": "white",
            "gridwidth": 2,
            "linecolor": "white",
            "showbackground": true,
            "ticks": "",
            "zerolinecolor": "white"
           },
           "zaxis": {
            "backgroundcolor": "#E5ECF6",
            "gridcolor": "white",
            "gridwidth": 2,
            "linecolor": "white",
            "showbackground": true,
            "ticks": "",
            "zerolinecolor": "white"
           }
          },
          "shapedefaults": {
           "line": {
            "color": "#2a3f5f"
           }
          },
          "ternary": {
           "aaxis": {
            "gridcolor": "white",
            "linecolor": "white",
            "ticks": ""
           },
           "baxis": {
            "gridcolor": "white",
            "linecolor": "white",
            "ticks": ""
           },
           "bgcolor": "#E5ECF6",
           "caxis": {
            "gridcolor": "white",
            "linecolor": "white",
            "ticks": ""
           }
          },
          "title": {
           "x": 0.05
          },
          "xaxis": {
           "automargin": true,
           "gridcolor": "white",
           "linecolor": "white",
           "ticks": "",
           "title": {
            "standoff": 15
           },
           "zerolinecolor": "white",
           "zerolinewidth": 2
          },
          "yaxis": {
           "automargin": true,
           "gridcolor": "white",
           "linecolor": "white",
           "ticks": "",
           "title": {
            "standoff": 15
           },
           "zerolinecolor": "white",
           "zerolinewidth": 2
          }
         }
        },
        "title": {
         "text": "Model Training History"
        },
        "xaxis": {
         "anchor": "y",
         "domain": [
          0,
          0.45
         ],
         "title": {
          "text": "Epoch"
         }
        },
        "xaxis2": {
         "anchor": "y2",
         "domain": [
          0.55,
          1
         ]
        },
        "yaxis": {
         "anchor": "x",
         "domain": [
          0,
          1
         ],
         "title": {
          "text": "Value"
         }
        },
        "yaxis2": {
         "anchor": "x2",
         "domain": [
          0,
          1
         ]
        }
       }
      }
     },
     "metadata": {},
     "output_type": "display_data"
    }
   ],
   "source": [
    "import plotly.graph_objects as go\n",
    "from plotly.subplots import make_subplots\n",
    "\n",
    "fig = make_subplots(rows=1, cols=2, subplot_titles=(\"Model accuracy\", \"Model loss\"))\n",
    "\n",
    "# Add the first subplot for accuracy\n",
    "fig.add_trace(go.Scatter(x=list(range(1, len(history.history['accuracy']) + 1)),\n",
    "                         y=history.history['accuracy'], mode='lines',\n",
    "                         name='Train', line=dict(color='blue')), row=1, col=1)\n",
    "fig.add_trace(go.Scatter(x=list(range(1, len(history.history['val_accuracy']) + 1)),\n",
    "                         y=history.history['val_accuracy'], mode='lines',\n",
    "                         name='Validation', line=dict(color='orange')), row=1, col=1)\n",
    "\n",
    "# Add the second subplot for loss\n",
    "fig.add_trace(go.Scatter(x=list(range(1, len(history.history['loss']) + 1)),\n",
    "                         y=history.history['loss'], mode='lines',\n",
    "                         name='Train', line=dict(color='blue'), showlegend=False), row=1, col=2)\n",
    "fig.add_trace(go.Scatter(x=list(range(1, len(history.history['val_loss']) + 1)),\n",
    "                         y=history.history['val_loss'], mode='lines',\n",
    "                         name='Validation', line=dict(color='orange'), showlegend=False), row=1, col=2)\n",
    "\n",
    "fig.update_layout(title=\"Model Training History\",\n",
    "                  xaxis_title=\"Epoch\",\n",
    "                  yaxis_title=\"Value\",\n",
    "                  legend=dict(x=0.85, y=1))\n",
    "\n",
    "fig.show()"
   ]
  },
  {
   "cell_type": "code",
   "execution_count": 16,
   "metadata": {},
   "outputs": [
    {
     "name": "stdout",
     "output_type": "stream",
     "text": [
      "Epoch 1/150\n",
      "3750/3750 [==============================] - 245s 62ms/step - loss: 8.4358 - accuracy: 0.0000e+00 - val_loss: 8.6032 - val_accuracy: 0.0000e+00\n",
      "Epoch 2/150\n",
      "3750/3750 [==============================] - 231s 61ms/step - loss: 6.5265 - accuracy: 0.0000e+00 - val_loss: 7.5877 - val_accuracy: 0.0000e+00\n",
      "Epoch 3/150\n",
      "3750/3750 [==============================] - 236s 63ms/step - loss: 5.8647 - accuracy: 9.0000e-04 - val_loss: 5.9739 - val_accuracy: 5.0000e-05\n",
      "Epoch 4/150\n",
      "3750/3750 [==============================] - 230s 61ms/step - loss: 5.1673 - accuracy: 0.0066 - val_loss: 4.7375 - val_accuracy: 0.0104\n",
      "Epoch 5/150\n",
      "3750/3750 [==============================] - 230s 61ms/step - loss: 4.2910 - accuracy: 0.0155 - val_loss: 4.0121 - val_accuracy: 0.0154\n",
      "Epoch 6/150\n",
      "3750/3750 [==============================] - 230s 61ms/step - loss: 3.1788 - accuracy: 0.0264 - val_loss: 3.1643 - val_accuracy: 0.0430\n",
      "Epoch 7/150\n",
      "3750/3750 [==============================] - 230s 61ms/step - loss: 1.8463 - accuracy: 0.3338 - val_loss: 1.6688 - val_accuracy: 0.4699\n",
      "Epoch 8/150\n",
      "3750/3750 [==============================] - 230s 61ms/step - loss: 1.3966 - accuracy: 0.5454 - val_loss: 1.4467 - val_accuracy: 0.5848\n",
      "Epoch 9/150\n",
      "3750/3750 [==============================] - 230s 61ms/step - loss: 1.1433 - accuracy: 0.6388 - val_loss: 1.5936 - val_accuracy: 0.5391\n",
      "Epoch 10/150\n",
      "3750/3750 [==============================] - 227s 61ms/step - loss: 1.0051 - accuracy: 0.6899 - val_loss: 1.8654 - val_accuracy: 0.5328\n",
      "Epoch 11/150\n",
      "3750/3750 [==============================] - 229s 61ms/step - loss: 0.9162 - accuracy: 0.7199 - val_loss: 2.4103 - val_accuracy: 0.3353\n",
      "Epoch 12/150\n",
      "3750/3750 [==============================] - 231s 62ms/step - loss: 0.8415 - accuracy: 0.7426 - val_loss: 0.8900 - val_accuracy: 0.7715\n",
      "Epoch 13/150\n",
      "3750/3750 [==============================] - 231s 62ms/step - loss: 0.7812 - accuracy: 0.7611 - val_loss: 0.8793 - val_accuracy: 0.7720\n",
      "Epoch 14/150\n",
      "3750/3750 [==============================] - 230s 61ms/step - loss: 0.7375 - accuracy: 0.7739 - val_loss: 0.8891 - val_accuracy: 0.7671\n",
      "Epoch 15/150\n",
      "3750/3750 [==============================] - 231s 62ms/step - loss: 0.6981 - accuracy: 0.7871 - val_loss: 0.8901 - val_accuracy: 0.7725\n",
      "Epoch 16/150\n",
      "3750/3750 [==============================] - 231s 62ms/step - loss: 0.6619 - accuracy: 0.7958 - val_loss: 1.3012 - val_accuracy: 0.6127\n",
      "Epoch 17/150\n",
      "3750/3750 [==============================] - 230s 61ms/step - loss: 0.6178 - accuracy: 0.8091 - val_loss: 1.1139 - val_accuracy: 0.7053\n",
      "Epoch 18/150\n",
      "3750/3750 [==============================] - 230s 61ms/step - loss: 0.6018 - accuracy: 0.8123 - val_loss: 0.7826 - val_accuracy: 0.8100\n",
      "Epoch 19/150\n",
      "3750/3750 [==============================] - 229s 61ms/step - loss: 0.5686 - accuracy: 0.8235 - val_loss: 0.7537 - val_accuracy: 0.8069\n",
      "Epoch 20/150\n",
      "3750/3750 [==============================] - 229s 61ms/step - loss: 0.5483 - accuracy: 0.8293 - val_loss: 2.5805 - val_accuracy: 0.4372\n",
      "Epoch 21/150\n",
      "3750/3750 [==============================] - 226s 60ms/step - loss: 0.5222 - accuracy: 0.8340 - val_loss: 0.6970 - val_accuracy: 0.8162\n",
      "Epoch 22/150\n",
      "3750/3750 [==============================] - 227s 60ms/step - loss: 0.4962 - accuracy: 0.8421 - val_loss: 0.7444 - val_accuracy: 0.8130\n",
      "Epoch 23/150\n",
      "3750/3750 [==============================] - 227s 60ms/step - loss: 0.4777 - accuracy: 0.8477 - val_loss: 0.7859 - val_accuracy: 0.7901\n",
      "Epoch 24/150\n",
      "3750/3750 [==============================] - 227s 61ms/step - loss: 0.4563 - accuracy: 0.8531 - val_loss: 1.0852 - val_accuracy: 0.6959\n",
      "Epoch 25/150\n",
      "3750/3750 [==============================] - 227s 60ms/step - loss: 0.4409 - accuracy: 0.8555 - val_loss: 0.7650 - val_accuracy: 0.8099\n",
      "Epoch 26/150\n",
      "3750/3750 [==============================] - 227s 60ms/step - loss: 0.4191 - accuracy: 0.8634 - val_loss: 0.6698 - val_accuracy: 0.8163\n",
      "Epoch 27/150\n",
      "3750/3750 [==============================] - 226s 60ms/step - loss: 0.4037 - accuracy: 0.8648 - val_loss: 0.6709 - val_accuracy: 0.8366\n",
      "Epoch 28/150\n",
      "3750/3750 [==============================] - 226s 60ms/step - loss: 0.3879 - accuracy: 0.8710 - val_loss: 0.7693 - val_accuracy: 0.8127\n",
      "Epoch 29/150\n",
      "3750/3750 [==============================] - 227s 60ms/step - loss: 0.3874 - accuracy: 0.8697 - val_loss: 0.6947 - val_accuracy: 0.8304\n",
      "Epoch 30/150\n",
      "3750/3750 [==============================] - 227s 60ms/step - loss: 0.3589 - accuracy: 0.8772 - val_loss: 0.6856 - val_accuracy: 0.8410\n",
      "Epoch 31/150\n",
      "3750/3750 [==============================] - 227s 60ms/step - loss: 0.3501 - accuracy: 0.8804 - val_loss: 0.7197 - val_accuracy: 0.8256\n",
      "Epoch 32/150\n",
      "3750/3750 [==============================] - 227s 60ms/step - loss: 0.3420 - accuracy: 0.8825 - val_loss: 0.7013 - val_accuracy: 0.8244\n",
      "Epoch 33/150\n",
      "3750/3750 [==============================] - 227s 60ms/step - loss: 0.3297 - accuracy: 0.8866 - val_loss: 3.5039 - val_accuracy: 0.3844\n",
      "Epoch 34/150\n",
      "3750/3750 [==============================] - 227s 61ms/step - loss: 0.3145 - accuracy: 0.8899 - val_loss: 0.6901 - val_accuracy: 0.8439\n",
      "Epoch 35/150\n",
      "3750/3750 [==============================] - 227s 60ms/step - loss: 0.3041 - accuracy: 0.8936 - val_loss: 0.7213 - val_accuracy: 0.8244\n",
      "Epoch 36/150\n",
      "3750/3750 [==============================] - 227s 60ms/step - loss: 0.2958 - accuracy: 0.8950 - val_loss: 0.8112 - val_accuracy: 0.7955\n",
      "Epoch 37/150\n",
      "3750/3750 [==============================] - 227s 60ms/step - loss: 0.2855 - accuracy: 0.8981 - val_loss: 0.9766 - val_accuracy: 0.7635\n",
      "Epoch 38/150\n",
      "3750/3750 [==============================] - 227s 61ms/step - loss: 0.2886 - accuracy: 0.8965 - val_loss: 0.7056 - val_accuracy: 0.8311\n",
      "Epoch 39/150\n",
      "3750/3750 [==============================] - 227s 60ms/step - loss: 0.2811 - accuracy: 0.8995 - val_loss: 0.7029 - val_accuracy: 0.8396\n",
      "Epoch 40/150\n",
      "3750/3750 [==============================] - 226s 60ms/step - loss: 0.2618 - accuracy: 0.9051 - val_loss: 0.7102 - val_accuracy: 0.8402\n",
      "Epoch 41/150\n",
      "3750/3750 [==============================] - 227s 61ms/step - loss: 0.2508 - accuracy: 0.9074 - val_loss: 0.6900 - val_accuracy: 0.8418\n",
      "Epoch 42/150\n",
      "3750/3750 [==============================] - 227s 60ms/step - loss: 0.2563 - accuracy: 0.9076 - val_loss: 0.6806 - val_accuracy: 0.8372\n",
      "Epoch 43/150\n",
      "3750/3750 [==============================] - 227s 60ms/step - loss: 0.2438 - accuracy: 0.9116 - val_loss: 0.7218 - val_accuracy: 0.8418\n",
      "Epoch 44/150\n",
      "3750/3750 [==============================] - 227s 60ms/step - loss: 0.2301 - accuracy: 0.9135 - val_loss: 0.7381 - val_accuracy: 0.8402\n",
      "Epoch 45/150\n",
      "3750/3750 [==============================] - 227s 60ms/step - loss: 0.2306 - accuracy: 0.9144 - val_loss: 0.6496 - val_accuracy: 0.8558\n",
      "Epoch 46/150\n",
      "3750/3750 [==============================] - 227s 60ms/step - loss: 0.2207 - accuracy: 0.9179 - val_loss: 0.7810 - val_accuracy: 0.8284\n",
      "Epoch 47/150\n",
      "3750/3750 [==============================] - 227s 61ms/step - loss: 0.2221 - accuracy: 0.9168 - val_loss: 0.6721 - val_accuracy: 0.8442\n",
      "Epoch 48/150\n",
      "3750/3750 [==============================] - 227s 60ms/step - loss: 0.2112 - accuracy: 0.9204 - val_loss: 0.7322 - val_accuracy: 0.8378\n",
      "Epoch 49/150\n",
      "3750/3750 [==============================] - 226s 60ms/step - loss: 0.2074 - accuracy: 0.9217 - val_loss: 0.7352 - val_accuracy: 0.8367\n",
      "Epoch 50/150\n",
      "3750/3750 [==============================] - 227s 61ms/step - loss: 0.2035 - accuracy: 0.9228 - val_loss: 0.7253 - val_accuracy: 0.8511\n",
      "Epoch 51/150\n",
      "3750/3750 [==============================] - 227s 60ms/step - loss: 0.1987 - accuracy: 0.9241 - val_loss: 0.8090 - val_accuracy: 0.8274\n",
      "Epoch 52/150\n",
      "3750/3750 [==============================] - 227s 60ms/step - loss: 0.1895 - accuracy: 0.9276 - val_loss: 0.6627 - val_accuracy: 0.8563\n",
      "Epoch 53/150\n",
      "3750/3750 [==============================] - 227s 60ms/step - loss: 0.1936 - accuracy: 0.9265 - val_loss: 0.6964 - val_accuracy: 0.8578\n",
      "Epoch 54/150\n",
      "3750/3750 [==============================] - 227s 61ms/step - loss: 0.1809 - accuracy: 0.9301 - val_loss: 0.7405 - val_accuracy: 0.8504\n",
      "Epoch 55/150\n",
      "3750/3750 [==============================] - 227s 60ms/step - loss: 0.1887 - accuracy: 0.9286 - val_loss: 0.7552 - val_accuracy: 0.8450\n",
      "Epoch 56/150\n",
      "3750/3750 [==============================] - 227s 61ms/step - loss: 0.1735 - accuracy: 0.9309 - val_loss: 0.7884 - val_accuracy: 0.8515\n",
      "Epoch 57/150\n",
      "3750/3750 [==============================] - 227s 61ms/step - loss: 0.1745 - accuracy: 0.9328 - val_loss: 0.7192 - val_accuracy: 0.8581\n",
      "Epoch 58/150\n",
      "3750/3750 [==============================] - 227s 61ms/step - loss: 0.1614 - accuracy: 0.9358 - val_loss: 0.7661 - val_accuracy: 0.8576\n",
      "Epoch 59/150\n",
      "3750/3750 [==============================] - 227s 60ms/step - loss: 0.1571 - accuracy: 0.9383 - val_loss: 0.6932 - val_accuracy: 0.8508\n",
      "Epoch 60/150\n",
      "3750/3750 [==============================] - 227s 60ms/step - loss: 0.1621 - accuracy: 0.9373 - val_loss: 0.7277 - val_accuracy: 0.8534\n",
      "Epoch 61/150\n",
      "3750/3750 [==============================] - 227s 61ms/step - loss: 0.1620 - accuracy: 0.9384 - val_loss: 0.7206 - val_accuracy: 0.8617\n",
      "Epoch 62/150\n",
      "3750/3750 [==============================] - 231s 62ms/step - loss: 0.1566 - accuracy: 0.9404 - val_loss: 0.7299 - val_accuracy: 0.8608\n",
      "Epoch 63/150\n",
      "3750/3750 [==============================] - 227s 61ms/step - loss: 0.1492 - accuracy: 0.9417 - val_loss: 0.6960 - val_accuracy: 0.8647\n",
      "Epoch 64/150\n",
      "3750/3750 [==============================] - 227s 60ms/step - loss: 0.1525 - accuracy: 0.9411 - val_loss: 0.6942 - val_accuracy: 0.8608\n",
      "Epoch 65/150\n",
      "3750/3750 [==============================] - 227s 60ms/step - loss: 0.1427 - accuracy: 0.9444 - val_loss: 0.7393 - val_accuracy: 0.8623\n",
      "Epoch 66/150\n",
      "3750/3750 [==============================] - 227s 60ms/step - loss: 0.1392 - accuracy: 0.9455 - val_loss: 0.7317 - val_accuracy: 0.8672\n",
      "Epoch 67/150\n",
      "3750/3750 [==============================] - 227s 60ms/step - loss: 0.1434 - accuracy: 0.9448 - val_loss: 0.7425 - val_accuracy: 0.8553\n",
      "Epoch 68/150\n",
      "3750/3750 [==============================] - 227s 61ms/step - loss: 0.1436 - accuracy: 0.9435 - val_loss: 1.6096 - val_accuracy: 0.7133\n",
      "Epoch 69/150\n",
      "3750/3750 [==============================] - 227s 60ms/step - loss: 0.1390 - accuracy: 0.9447 - val_loss: 0.7096 - val_accuracy: 0.8506\n",
      "Epoch 70/150\n",
      "3750/3750 [==============================] - 227s 61ms/step - loss: 0.1337 - accuracy: 0.9470 - val_loss: 0.7538 - val_accuracy: 0.8500\n",
      "Epoch 71/150\n",
      "3750/3750 [==============================] - 227s 60ms/step - loss: 0.1343 - accuracy: 0.9484 - val_loss: 0.6934 - val_accuracy: 0.8658\n",
      "Epoch 72/150\n",
      "3750/3750 [==============================] - 227s 60ms/step - loss: 0.1296 - accuracy: 0.9495 - val_loss: 0.7394 - val_accuracy: 0.8587\n",
      "Epoch 73/150\n",
      "3750/3750 [==============================] - 227s 61ms/step - loss: 0.1280 - accuracy: 0.9497 - val_loss: 0.6917 - val_accuracy: 0.8618\n",
      "Epoch 74/150\n",
      "3750/3750 [==============================] - 227s 61ms/step - loss: 0.1267 - accuracy: 0.9498 - val_loss: 0.7269 - val_accuracy: 0.8643\n",
      "Epoch 75/150\n",
      "3750/3750 [==============================] - 227s 61ms/step - loss: 0.1271 - accuracy: 0.9507 - val_loss: 0.7381 - val_accuracy: 0.8582\n",
      "Epoch 76/150\n",
      "3750/3750 [==============================] - 227s 61ms/step - loss: 0.1182 - accuracy: 0.9523 - val_loss: 0.7403 - val_accuracy: 0.8606\n",
      "Epoch 77/150\n",
      "3750/3750 [==============================] - 227s 61ms/step - loss: 0.1218 - accuracy: 0.9533 - val_loss: 0.7147 - val_accuracy: 0.8664\n",
      "Epoch 78/150\n",
      "3750/3750 [==============================] - 227s 61ms/step - loss: 0.1230 - accuracy: 0.9520 - val_loss: 0.7877 - val_accuracy: 0.8588\n",
      "Epoch 79/150\n",
      "3750/3750 [==============================] - 227s 61ms/step - loss: 0.1163 - accuracy: 0.9537 - val_loss: 0.8528 - val_accuracy: 0.8367\n",
      "Epoch 80/150\n",
      "3750/3750 [==============================] - 227s 61ms/step - loss: 0.1212 - accuracy: 0.9525 - val_loss: 0.7081 - val_accuracy: 0.8684\n",
      "Epoch 81/150\n",
      "3750/3750 [==============================] - 227s 61ms/step - loss: 0.1116 - accuracy: 0.9564 - val_loss: 0.8176 - val_accuracy: 0.8513\n",
      "Epoch 82/150\n",
      "3750/3750 [==============================] - 227s 61ms/step - loss: 0.1177 - accuracy: 0.9546 - val_loss: 3.6044 - val_accuracy: 0.5403\n",
      "Epoch 83/150\n",
      "3750/3750 [==============================] - 227s 60ms/step - loss: 0.1128 - accuracy: 0.9565 - val_loss: 0.8111 - val_accuracy: 0.8527\n",
      "Epoch 84/150\n",
      "3750/3750 [==============================] - 227s 61ms/step - loss: 0.1077 - accuracy: 0.9569 - val_loss: 0.7462 - val_accuracy: 0.8629\n",
      "Epoch 85/150\n",
      "3750/3750 [==============================] - 227s 61ms/step - loss: 0.1095 - accuracy: 0.9574 - val_loss: 0.7452 - val_accuracy: 0.8652\n",
      "Epoch 86/150\n",
      "3750/3750 [==============================] - 227s 61ms/step - loss: 0.1089 - accuracy: 0.9577 - val_loss: 0.7169 - val_accuracy: 0.8680\n",
      "Epoch 87/150\n",
      "3750/3750 [==============================] - 227s 61ms/step - loss: 0.1127 - accuracy: 0.9559 - val_loss: 0.7497 - val_accuracy: 0.8644\n",
      "Epoch 88/150\n",
      "3750/3750 [==============================] - 227s 61ms/step - loss: 0.1096 - accuracy: 0.9580 - val_loss: 0.7298 - val_accuracy: 0.8748\n",
      "Epoch 89/150\n",
      "3750/3750 [==============================] - 227s 61ms/step - loss: 0.1030 - accuracy: 0.9597 - val_loss: 0.6869 - val_accuracy: 0.8738\n",
      "Epoch 90/150\n",
      "3750/3750 [==============================] - 227s 61ms/step - loss: 0.1020 - accuracy: 0.9596 - val_loss: 0.7122 - val_accuracy: 0.8693\n",
      "Epoch 91/150\n",
      "3750/3750 [==============================] - 227s 61ms/step - loss: 0.1049 - accuracy: 0.9604 - val_loss: 0.7071 - val_accuracy: 0.8643\n",
      "Epoch 92/150\n",
      "3750/3750 [==============================] - 227s 60ms/step - loss: 0.1004 - accuracy: 0.9605 - val_loss: 0.7734 - val_accuracy: 0.8658\n",
      "Epoch 93/150\n",
      "3750/3750 [==============================] - 227s 61ms/step - loss: 0.0991 - accuracy: 0.9608 - val_loss: 0.7803 - val_accuracy: 0.8613\n",
      "Epoch 94/150\n",
      "3750/3750 [==============================] - 227s 61ms/step - loss: 0.0996 - accuracy: 0.9611 - val_loss: 0.7797 - val_accuracy: 0.8645\n",
      "Epoch 95/150\n",
      "3750/3750 [==============================] - 227s 61ms/step - loss: 0.0941 - accuracy: 0.9625 - val_loss: 0.7564 - val_accuracy: 0.8714\n",
      "Epoch 96/150\n",
      "3750/3750 [==============================] - 227s 61ms/step - loss: 0.0981 - accuracy: 0.9617 - val_loss: 0.7624 - val_accuracy: 0.8594\n",
      "Epoch 97/150\n",
      "3750/3750 [==============================] - 227s 61ms/step - loss: 0.0945 - accuracy: 0.9631 - val_loss: 0.8433 - val_accuracy: 0.8525\n",
      "Epoch 98/150\n",
      "3750/3750 [==============================] - 227s 61ms/step - loss: 0.1013 - accuracy: 0.9610 - val_loss: 0.7576 - val_accuracy: 0.8717\n",
      "Epoch 99/150\n",
      "3750/3750 [==============================] - 227s 60ms/step - loss: 0.0972 - accuracy: 0.9631 - val_loss: 0.7717 - val_accuracy: 0.8716\n",
      "Epoch 100/150\n",
      "3750/3750 [==============================] - 227s 61ms/step - loss: 0.0891 - accuracy: 0.9637 - val_loss: 0.7361 - val_accuracy: 0.8706\n",
      "Epoch 101/150\n",
      "3750/3750 [==============================] - 227s 61ms/step - loss: 0.0914 - accuracy: 0.9652 - val_loss: 0.7867 - val_accuracy: 0.8626\n",
      "Epoch 102/150\n",
      "3750/3750 [==============================] - 227s 61ms/step - loss: 0.0951 - accuracy: 0.9629 - val_loss: 0.7623 - val_accuracy: 0.8668\n",
      "Epoch 103/150\n",
      "3750/3750 [==============================] - 227s 61ms/step - loss: 0.0925 - accuracy: 0.9646 - val_loss: 0.7443 - val_accuracy: 0.8732\n",
      "Epoch 104/150\n",
      "3750/3750 [==============================] - 227s 61ms/step - loss: 0.0895 - accuracy: 0.9653 - val_loss: 0.7331 - val_accuracy: 0.8718\n",
      "Epoch 105/150\n",
      "3750/3750 [==============================] - 227s 61ms/step - loss: 0.0850 - accuracy: 0.9673 - val_loss: 0.7345 - val_accuracy: 0.8720\n",
      "Epoch 106/150\n",
      "3750/3750 [==============================] - 227s 61ms/step - loss: 0.0839 - accuracy: 0.9668 - val_loss: 0.7302 - val_accuracy: 0.8755\n",
      "Epoch 107/150\n",
      "3750/3750 [==============================] - 227s 61ms/step - loss: 0.0902 - accuracy: 0.9659 - val_loss: 0.7867 - val_accuracy: 0.8695\n",
      "Epoch 108/150\n",
      "3750/3750 [==============================] - 227s 61ms/step - loss: 0.0878 - accuracy: 0.9672 - val_loss: 0.7628 - val_accuracy: 0.8723\n",
      "Epoch 109/150\n",
      "3750/3750 [==============================] - 227s 61ms/step - loss: 0.0840 - accuracy: 0.9672 - val_loss: 0.7581 - val_accuracy: 0.8753\n",
      "Epoch 110/150\n",
      "3750/3750 [==============================] - 227s 61ms/step - loss: 0.0857 - accuracy: 0.9664 - val_loss: 0.9417 - val_accuracy: 0.8371\n",
      "Epoch 111/150\n",
      "3750/3750 [==============================] - 227s 61ms/step - loss: 0.0853 - accuracy: 0.9661 - val_loss: 1.1004 - val_accuracy: 0.8081\n",
      "Epoch 112/150\n",
      "3750/3750 [==============================] - 227s 61ms/step - loss: 0.0844 - accuracy: 0.9673 - val_loss: 0.7332 - val_accuracy: 0.8747\n",
      "Epoch 113/150\n",
      "3750/3750 [==============================] - 227s 61ms/step - loss: 0.0840 - accuracy: 0.9676 - val_loss: 0.8102 - val_accuracy: 0.8564\n",
      "Epoch 114/150\n",
      "3750/3750 [==============================] - 227s 61ms/step - loss: 0.0829 - accuracy: 0.9683 - val_loss: 0.8711 - val_accuracy: 0.8524\n",
      "Epoch 115/150\n",
      "3750/3750 [==============================] - 227s 61ms/step - loss: 0.0783 - accuracy: 0.9696 - val_loss: 0.7507 - val_accuracy: 0.8702\n",
      "Epoch 116/150\n",
      "3750/3750 [==============================] - 227s 61ms/step - loss: 0.0818 - accuracy: 0.9682 - val_loss: 0.7914 - val_accuracy: 0.8708\n",
      "Epoch 117/150\n",
      "3750/3750 [==============================] - 227s 61ms/step - loss: 0.0858 - accuracy: 0.9670 - val_loss: 0.7546 - val_accuracy: 0.8714\n",
      "Epoch 118/150\n",
      "3750/3750 [==============================] - 228s 61ms/step - loss: 0.0756 - accuracy: 0.9701 - val_loss: 0.7772 - val_accuracy: 0.8659\n",
      "Epoch 119/150\n",
      "3750/3750 [==============================] - 227s 61ms/step - loss: 0.0810 - accuracy: 0.9698 - val_loss: 0.8411 - val_accuracy: 0.8597\n",
      "Epoch 120/150\n",
      "3750/3750 [==============================] - 230s 61ms/step - loss: 0.0795 - accuracy: 0.9693 - val_loss: 0.7927 - val_accuracy: 0.8734\n",
      "Epoch 121/150\n",
      "3750/3750 [==============================] - 230s 61ms/step - loss: 0.0808 - accuracy: 0.9690 - val_loss: 0.7641 - val_accuracy: 0.8776\n",
      "Epoch 122/150\n",
      "3750/3750 [==============================] - 230s 61ms/step - loss: 0.0769 - accuracy: 0.9697 - val_loss: 0.7230 - val_accuracy: 0.8826\n",
      "Epoch 123/150\n",
      "3750/3750 [==============================] - 230s 61ms/step - loss: 0.0740 - accuracy: 0.9715 - val_loss: 0.7173 - val_accuracy: 0.8783\n",
      "Epoch 124/150\n",
      "3750/3750 [==============================] - 228s 61ms/step - loss: 0.0751 - accuracy: 0.9710 - val_loss: 0.7627 - val_accuracy: 0.8770\n",
      "Epoch 125/150\n",
      "3750/3750 [==============================] - 227s 61ms/step - loss: 0.0776 - accuracy: 0.9701 - val_loss: 0.7599 - val_accuracy: 0.8751\n",
      "Epoch 126/150\n",
      "3750/3750 [==============================] - 228s 61ms/step - loss: 0.0821 - accuracy: 0.9690 - val_loss: 0.7632 - val_accuracy: 0.8727\n",
      "Epoch 127/150\n",
      "3750/3750 [==============================] - 227s 61ms/step - loss: 0.0756 - accuracy: 0.9704 - val_loss: 1.8110 - val_accuracy: 0.7354\n",
      "Epoch 128/150\n",
      "3750/3750 [==============================] - 228s 61ms/step - loss: 0.0814 - accuracy: 0.9696 - val_loss: 0.7596 - val_accuracy: 0.8798\n",
      "Epoch 129/150\n",
      "3750/3750 [==============================] - 227s 61ms/step - loss: 0.0783 - accuracy: 0.9700 - val_loss: 0.7223 - val_accuracy: 0.8748\n",
      "Epoch 130/150\n",
      "3750/3750 [==============================] - 231s 62ms/step - loss: 0.0791 - accuracy: 0.9693 - val_loss: 0.7678 - val_accuracy: 0.8780\n",
      "Epoch 131/150\n",
      "3750/3750 [==============================] - 230s 61ms/step - loss: 0.0743 - accuracy: 0.9716 - val_loss: 0.7571 - val_accuracy: 0.8727\n",
      "Epoch 132/150\n",
      "3750/3750 [==============================] - 230s 61ms/step - loss: 0.0775 - accuracy: 0.9707 - val_loss: 0.7029 - val_accuracy: 0.8789\n",
      "Epoch 133/150\n",
      "3750/3750 [==============================] - 230s 61ms/step - loss: 0.0755 - accuracy: 0.9711 - val_loss: 0.7506 - val_accuracy: 0.8725\n",
      "Epoch 134/150\n",
      "3750/3750 [==============================] - 227s 60ms/step - loss: 0.0752 - accuracy: 0.9709 - val_loss: 0.7569 - val_accuracy: 0.8735\n",
      "Epoch 135/150\n",
      "3750/3750 [==============================] - 227s 61ms/step - loss: 0.0745 - accuracy: 0.9724 - val_loss: 0.8108 - val_accuracy: 0.8621\n",
      "Epoch 136/150\n",
      "3750/3750 [==============================] - 227s 61ms/step - loss: 0.0730 - accuracy: 0.9722 - val_loss: 0.7557 - val_accuracy: 0.8784\n",
      "Epoch 137/150\n",
      "3750/3750 [==============================] - 227s 61ms/step - loss: 0.0747 - accuracy: 0.9709 - val_loss: 0.7583 - val_accuracy: 0.8741\n",
      "Epoch 138/150\n",
      "3750/3750 [==============================] - 227s 61ms/step - loss: 0.0763 - accuracy: 0.9712 - val_loss: 0.7556 - val_accuracy: 0.8763\n",
      "Epoch 139/150\n",
      "3750/3750 [==============================] - 229s 61ms/step - loss: 0.0760 - accuracy: 0.9709 - val_loss: 0.8099 - val_accuracy: 0.8680\n",
      "Epoch 140/150\n",
      "3750/3750 [==============================] - 230s 61ms/step - loss: 0.0717 - accuracy: 0.9724 - val_loss: 0.7582 - val_accuracy: 0.8752\n",
      "Epoch 141/150\n",
      "3750/3750 [==============================] - 230s 61ms/step - loss: 0.0701 - accuracy: 0.9723 - val_loss: 0.7659 - val_accuracy: 0.8752\n",
      "Epoch 142/150\n",
      "3750/3750 [==============================] - 231s 62ms/step - loss: 0.0716 - accuracy: 0.9729 - val_loss: 0.7568 - val_accuracy: 0.8774\n",
      "Epoch 143/150\n",
      "3750/3750 [==============================] - 231s 62ms/step - loss: 0.0692 - accuracy: 0.9731 - val_loss: 0.7709 - val_accuracy: 0.8766\n",
      "Epoch 144/150\n",
      "3750/3750 [==============================] - 230s 61ms/step - loss: 0.0737 - accuracy: 0.9717 - val_loss: 0.7640 - val_accuracy: 0.8794\n",
      "Epoch 145/150\n",
      "3750/3750 [==============================] - 230s 61ms/step - loss: 0.0719 - accuracy: 0.9720 - val_loss: 0.7127 - val_accuracy: 0.8794\n",
      "Epoch 146/150\n",
      "3750/3750 [==============================] - 229s 61ms/step - loss: 0.0751 - accuracy: 0.9718 - val_loss: 0.7504 - val_accuracy: 0.8763\n",
      "Epoch 147/150\n",
      "3750/3750 [==============================] - 228s 61ms/step - loss: 0.0731 - accuracy: 0.9721 - val_loss: 0.8026 - val_accuracy: 0.8710\n",
      "Epoch 148/150\n",
      "3750/3750 [==============================] - 228s 61ms/step - loss: 0.0722 - accuracy: 0.9726 - val_loss: 0.7606 - val_accuracy: 0.8765\n",
      "Epoch 149/150\n",
      "3750/3750 [==============================] - 229s 61ms/step - loss: 0.0781 - accuracy: 0.9699 - val_loss: 0.7719 - val_accuracy: 0.8753\n",
      "Epoch 150/150\n",
      "3750/3750 [==============================] - 229s 61ms/step - loss: 0.0663 - accuracy: 0.9752 - val_loss: 0.9408 - val_accuracy: 0.8456\n"
     ]
    }
   ],
   "source": [
    "from tensorflow import keras\n",
    "K.clear_session()\n",
    "model_final.compile(loss={'ctc': lambda y_true, y_pred: y_pred}, optimizer=keras.optimizers.Adam(learning_rate=0.001),\n",
    "                  metrics=['accuracy'])#, dtype='float16'\n",
    "\n",
    "\n",
    "history = model_final.fit(x=[train_x, train_y, train_input_len, train_label_len], y=train_output, \n",
    "                validation_data=([test_x, test_y, test_input_len, test_label_len], test_output),\n",
    "                epochs=150, batch_size=16)"
   ]
  },
  {
   "cell_type": "code",
   "execution_count": 17,
   "metadata": {},
   "outputs": [
    {
     "data": {
      "application/vnd.plotly.v1+json": {
       "config": {
        "plotlyServerURL": "https://plot.ly"
       },
       "data": [
        {
         "line": {
          "color": "blue"
         },
         "mode": "lines",
         "name": "Train",
         "type": "scatter",
         "x": [
          1,
          2,
          3,
          4,
          5,
          6,
          7,
          8,
          9,
          10,
          11,
          12,
          13,
          14,
          15,
          16,
          17,
          18,
          19,
          20,
          21,
          22,
          23,
          24,
          25,
          26,
          27,
          28,
          29,
          30,
          31,
          32,
          33,
          34,
          35,
          36,
          37,
          38,
          39,
          40,
          41,
          42,
          43,
          44,
          45,
          46,
          47,
          48,
          49,
          50,
          51,
          52,
          53,
          54,
          55,
          56,
          57,
          58,
          59,
          60,
          61,
          62,
          63,
          64,
          65,
          66,
          67,
          68,
          69,
          70,
          71,
          72,
          73,
          74,
          75,
          76,
          77,
          78,
          79,
          80,
          81,
          82,
          83,
          84,
          85,
          86,
          87,
          88,
          89,
          90,
          91,
          92,
          93,
          94,
          95,
          96,
          97,
          98,
          99,
          100,
          101,
          102,
          103,
          104,
          105,
          106,
          107,
          108,
          109,
          110,
          111,
          112,
          113,
          114,
          115,
          116,
          117,
          118,
          119,
          120,
          121,
          122,
          123,
          124,
          125,
          126,
          127,
          128,
          129,
          130,
          131,
          132,
          133,
          134,
          135,
          136,
          137,
          138,
          139,
          140,
          141,
          142,
          143,
          144,
          145,
          146,
          147,
          148,
          149,
          150
         ],
         "xaxis": "x",
         "y": [
          0,
          0,
          0.0008999999845400453,
          0.006599999964237213,
          0.015533333644270897,
          0.026383332908153534,
          0.33383333683013916,
          0.5453500151634216,
          0.6387500166893005,
          0.6899333596229553,
          0.7198500037193298,
          0.7425833344459534,
          0.7610833048820496,
          0.7738500237464905,
          0.7871000170707703,
          0.7957666516304016,
          0.809066653251648,
          0.812333345413208,
          0.8235166668891907,
          0.8292833566665649,
          0.8339999914169312,
          0.84211665391922,
          0.847683310508728,
          0.8531333208084106,
          0.85548335313797,
          0.8634499907493591,
          0.8648333549499512,
          0.870983362197876,
          0.8696500062942505,
          0.877216637134552,
          0.8804333209991455,
          0.8825333118438721,
          0.8865500092506409,
          0.8899000287055969,
          0.8936499953269958,
          0.8950499892234802,
          0.8981000185012817,
          0.8965333104133606,
          0.8995166420936584,
          0.9051166772842407,
          0.9073666930198669,
          0.9075833559036255,
          0.911633312702179,
          0.9134833216667175,
          0.9144166707992554,
          0.9178833365440369,
          0.9167500138282776,
          0.9204333424568176,
          0.9217166900634766,
          0.9228166937828064,
          0.9240999817848206,
          0.927566647529602,
          0.9264666438102722,
          0.9301166534423828,
          0.9285500049591064,
          0.930899977684021,
          0.932783305644989,
          0.9358000159263611,
          0.9383000135421753,
          0.937333345413208,
          0.9383666515350342,
          0.940416693687439,
          0.9416999816894531,
          0.9410666823387146,
          0.944350004196167,
          0.9455000162124634,
          0.944766640663147,
          0.9435166716575623,
          0.9447333216667175,
          0.9470000267028809,
          0.9484166502952576,
          0.9495000243186951,
          0.9496833086013794,
          0.9498166441917419,
          0.9507166743278503,
          0.9523333311080933,
          0.95333331823349,
          0.9519833326339722,
          0.9537166953086853,
          0.9524666666984558,
          0.9563833475112915,
          0.95455002784729,
          0.9564833045005798,
          0.9569000005722046,
          0.9573833346366882,
          0.9577000141143799,
          0.9558833241462708,
          0.9580333232879639,
          0.9597499966621399,
          0.9595833420753479,
          0.9604499936103821,
          0.9605000019073486,
          0.9607999920845032,
          0.9611499905586243,
          0.9625499844551086,
          0.961650013923645,
          0.9630666375160217,
          0.9609666466712952,
          0.963100016117096,
          0.9636666774749756,
          0.9651666879653931,
          0.9628666639328003,
          0.9646000266075134,
          0.9653499722480774,
          0.967283308506012,
          0.9667999744415283,
          0.9659166932106018,
          0.9672166705131531,
          0.9671833515167236,
          0.9664499759674072,
          0.9661499857902527,
          0.9672999978065491,
          0.9675666689872742,
          0.9683333039283752,
          0.9696166515350342,
          0.9681833386421204,
          0.967033326625824,
          0.9701166749000549,
          0.9698166847229004,
          0.9693166613578796,
          0.9690499901771545,
          0.9696999788284302,
          0.9714833498001099,
          0.9710166454315186,
          0.9700999855995178,
          0.9689833521842957,
          0.9704166650772095,
          0.9695500135421753,
          0.9699833393096924,
          0.9693166613578796,
          0.9715999960899353,
          0.9707499742507935,
          0.9710666537284851,
          0.970883309841156,
          0.9724000096321106,
          0.9722166657447815,
          0.9708999991416931,
          0.9711666703224182,
          0.9709333181381226,
          0.9723666906356812,
          0.9723166823387146,
          0.9728999733924866,
          0.9730666875839233,
          0.9717333316802979,
          0.9720333218574524,
          0.9717666506767273,
          0.9720500111579895,
          0.9726333618164062,
          0.9698833227157593,
          0.9751833081245422
         ],
         "yaxis": "y"
        },
        {
         "line": {
          "color": "orange"
         },
         "mode": "lines",
         "name": "Validation",
         "type": "scatter",
         "x": [
          1,
          2,
          3,
          4,
          5,
          6,
          7,
          8,
          9,
          10,
          11,
          12,
          13,
          14,
          15,
          16,
          17,
          18,
          19,
          20,
          21,
          22,
          23,
          24,
          25,
          26,
          27,
          28,
          29,
          30,
          31,
          32,
          33,
          34,
          35,
          36,
          37,
          38,
          39,
          40,
          41,
          42,
          43,
          44,
          45,
          46,
          47,
          48,
          49,
          50,
          51,
          52,
          53,
          54,
          55,
          56,
          57,
          58,
          59,
          60,
          61,
          62,
          63,
          64,
          65,
          66,
          67,
          68,
          69,
          70,
          71,
          72,
          73,
          74,
          75,
          76,
          77,
          78,
          79,
          80,
          81,
          82,
          83,
          84,
          85,
          86,
          87,
          88,
          89,
          90,
          91,
          92,
          93,
          94,
          95,
          96,
          97,
          98,
          99,
          100,
          101,
          102,
          103,
          104,
          105,
          106,
          107,
          108,
          109,
          110,
          111,
          112,
          113,
          114,
          115,
          116,
          117,
          118,
          119,
          120,
          121,
          122,
          123,
          124,
          125,
          126,
          127,
          128,
          129,
          130,
          131,
          132,
          133,
          134,
          135,
          136,
          137,
          138,
          139,
          140,
          141,
          142,
          143,
          144,
          145,
          146,
          147,
          148,
          149,
          150
         ],
         "xaxis": "x",
         "y": [
          0,
          0,
          0.00004999999873689376,
          0.010400000028312206,
          0.015350000001490116,
          0.043049998581409454,
          0.46985000371932983,
          0.5848000049591064,
          0.5391499996185303,
          0.532800018787384,
          0.3352999985218048,
          0.7715499997138977,
          0.7719500064849854,
          0.7671499848365784,
          0.7725499868392944,
          0.6127499938011169,
          0.705299973487854,
          0.8100000023841858,
          0.806850016117096,
          0.4371500015258789,
          0.8161500096321106,
          0.8130000233650208,
          0.7900500297546387,
          0.695900022983551,
          0.8099499940872192,
          0.8162500262260437,
          0.8366000056266785,
          0.812749981880188,
          0.8304499983787537,
          0.8410000205039978,
          0.8256000280380249,
          0.824400007724762,
          0.38440001010894775,
          0.8439000248908997,
          0.824400007724762,
          0.7954999804496765,
          0.763450026512146,
          0.8311499953269958,
          0.8396000266075134,
          0.8402000069618225,
          0.8417999744415283,
          0.8371999859809875,
          0.8417500257492065,
          0.8402000069618225,
          0.8557999730110168,
          0.8283500075340271,
          0.8441500067710876,
          0.8377500176429749,
          0.8367499709129333,
          0.8511000275611877,
          0.8273500204086304,
          0.8562999963760376,
          0.8578000068664551,
          0.850350022315979,
          0.8450499773025513,
          0.8514500260353088,
          0.8580999970436096,
          0.8575500249862671,
          0.8507999777793884,
          0.8533999919891357,
          0.8616999983787537,
          0.8608499765396118,
          0.8646500110626221,
          0.8607500195503235,
          0.8623499870300293,
          0.8671500086784363,
          0.8552500009536743,
          0.7133499979972839,
          0.850600004196167,
          0.8500000238418579,
          0.8658000230789185,
          0.8586500287055969,
          0.8617500066757202,
          0.864300012588501,
          0.8581500053405762,
          0.8605999946594238,
          0.8664000034332275,
          0.8587999939918518,
          0.8367499709129333,
          0.8683500289916992,
          0.8513000011444092,
          0.5403000116348267,
          0.8526999950408936,
          0.86285001039505,
          0.8652499914169312,
          0.8679500222206116,
          0.8643500208854675,
          0.874750018119812,
          0.8737999796867371,
          0.8693000078201294,
          0.864300012588501,
          0.8658499717712402,
          0.861299991607666,
          0.8644999861717224,
          0.871399998664856,
          0.8593500256538391,
          0.8524500131607056,
          0.871749997138977,
          0.871649980545044,
          0.8706499934196472,
          0.8626000285148621,
          0.8667500019073486,
          0.873199999332428,
          0.8718000054359436,
          0.871999979019165,
          0.8755000233650208,
          0.8694999814033508,
          0.8722500205039978,
          0.8752999901771545,
          0.837149977684021,
          0.8081499934196472,
          0.8746500015258789,
          0.8564000129699707,
          0.852400004863739,
          0.8702499866485596,
          0.8707500100135803,
          0.871399998664856,
          0.8658999800682068,
          0.859749972820282,
          0.873449981212616,
          0.8775500059127808,
          0.8825500011444092,
          0.8783000111579895,
          0.8769999742507935,
          0.8750500082969666,
          0.8727499842643738,
          0.7353500127792358,
          0.8798499703407288,
          0.8748499751091003,
          0.878000020980835,
          0.8726999759674072,
          0.8789499998092651,
          0.8725000023841858,
          0.8735499978065491,
          0.8621000051498413,
          0.8784000277519226,
          0.8740500211715698,
          0.8762500286102295,
          0.8679500222206116,
          0.875249981880188,
          0.875249981880188,
          0.8774499893188477,
          0.8766000270843506,
          0.8794000148773193,
          0.8794000148773193,
          0.8762500286102295,
          0.8709999918937683,
          0.8764500021934509,
          0.8753499984741211,
          0.8456000089645386
         ],
         "yaxis": "y"
        },
        {
         "line": {
          "color": "blue"
         },
         "mode": "lines",
         "name": "Train",
         "showlegend": false,
         "type": "scatter",
         "x": [
          1,
          2,
          3,
          4,
          5,
          6,
          7,
          8,
          9,
          10,
          11,
          12,
          13,
          14,
          15,
          16,
          17,
          18,
          19,
          20,
          21,
          22,
          23,
          24,
          25,
          26,
          27,
          28,
          29,
          30,
          31,
          32,
          33,
          34,
          35,
          36,
          37,
          38,
          39,
          40,
          41,
          42,
          43,
          44,
          45,
          46,
          47,
          48,
          49,
          50,
          51,
          52,
          53,
          54,
          55,
          56,
          57,
          58,
          59,
          60,
          61,
          62,
          63,
          64,
          65,
          66,
          67,
          68,
          69,
          70,
          71,
          72,
          73,
          74,
          75,
          76,
          77,
          78,
          79,
          80,
          81,
          82,
          83,
          84,
          85,
          86,
          87,
          88,
          89,
          90,
          91,
          92,
          93,
          94,
          95,
          96,
          97,
          98,
          99,
          100,
          101,
          102,
          103,
          104,
          105,
          106,
          107,
          108,
          109,
          110,
          111,
          112,
          113,
          114,
          115,
          116,
          117,
          118,
          119,
          120,
          121,
          122,
          123,
          124,
          125,
          126,
          127,
          128,
          129,
          130,
          131,
          132,
          133,
          134,
          135,
          136,
          137,
          138,
          139,
          140,
          141,
          142,
          143,
          144,
          145,
          146,
          147,
          148,
          149,
          150
         ],
         "xaxis": "x2",
         "y": [
          8.435827255249023,
          6.526525497436523,
          5.864663124084473,
          5.167269706726074,
          4.291043281555176,
          3.1788012981414795,
          1.8463319540023804,
          1.3965837955474854,
          1.1433066129684448,
          1.0051212310791016,
          0.9162341952323914,
          0.8414987921714783,
          0.7811816930770874,
          0.7375397682189941,
          0.6981098055839539,
          0.6619033813476562,
          0.6178185939788818,
          0.6017693877220154,
          0.5685997605323792,
          0.5482757091522217,
          0.5222477912902832,
          0.49624836444854736,
          0.47768473625183105,
          0.45632946491241455,
          0.44087621569633484,
          0.4190530776977539,
          0.40367811918258667,
          0.3879007399082184,
          0.3873640298843384,
          0.35893407464027405,
          0.3501262664794922,
          0.34199583530426025,
          0.3297173082828522,
          0.31445708870887756,
          0.304103285074234,
          0.29581448435783386,
          0.28545862436294556,
          0.2885575294494629,
          0.28110650181770325,
          0.26176849007606506,
          0.25077304244041443,
          0.2562911808490753,
          0.24380964040756226,
          0.2301381379365921,
          0.2305884212255478,
          0.22074788808822632,
          0.2220892459154129,
          0.2111520767211914,
          0.20743967592716217,
          0.20350942015647888,
          0.1986743062734604,
          0.18949483335018158,
          0.19358640909194946,
          0.18088948726654053,
          0.18873316049575806,
          0.17352353036403656,
          0.1744774878025055,
          0.1614282876253128,
          0.1570739895105362,
          0.16214454174041748,
          0.16200576722621918,
          0.15659870207309723,
          0.14922194182872772,
          0.15251025557518005,
          0.14272654056549072,
          0.1391667276620865,
          0.14337804913520813,
          0.14364415407180786,
          0.1389835625886917,
          0.13367241621017456,
          0.1343230903148651,
          0.1296396255493164,
          0.12795202434062958,
          0.12668167054653168,
          0.1270589828491211,
          0.11817324161529541,
          0.1217997819185257,
          0.1230015680193901,
          0.11629726737737656,
          0.12124766409397125,
          0.11156370490789413,
          0.1177353784441948,
          0.11280211061239243,
          0.10773549973964691,
          0.10954450070858002,
          0.10887943208217621,
          0.11273063719272614,
          0.10955062508583069,
          0.10303526371717453,
          0.1020301952958107,
          0.10487815737724304,
          0.10040365904569626,
          0.0991249606013298,
          0.09961242973804474,
          0.09413886815309525,
          0.09811834245920181,
          0.09451133757829666,
          0.10133440047502518,
          0.09715712070465088,
          0.08907519280910492,
          0.09142178297042847,
          0.0950646623969078,
          0.09251312911510468,
          0.08952517062425613,
          0.08496372401714325,
          0.08386987447738647,
          0.09016170352697372,
          0.08780550956726074,
          0.08397659659385681,
          0.0857296735048294,
          0.0852603167295456,
          0.08440719544887543,
          0.08395565301179886,
          0.08285117894411087,
          0.07832341641187668,
          0.08181041479110718,
          0.08584358543157578,
          0.07564878463745117,
          0.08095955848693848,
          0.07951878011226654,
          0.08078882098197937,
          0.076936736702919,
          0.07402162253856659,
          0.07510346919298172,
          0.0776200219988823,
          0.0820806473493576,
          0.07557988166809082,
          0.08141732215881348,
          0.07828240096569061,
          0.07909255474805832,
          0.07432162761688232,
          0.07750232517719269,
          0.0754762515425682,
          0.0751643031835556,
          0.07454808801412582,
          0.07297386229038239,
          0.07472380250692368,
          0.07632313668727875,
          0.07602193206548691,
          0.07173794507980347,
          0.07010907679796219,
          0.07161297649145126,
          0.06921475380659103,
          0.07367929816246033,
          0.07193499058485031,
          0.07512204349040985,
          0.07306475937366486,
          0.07217792421579361,
          0.07811731845140457,
          0.06633184850215912
         ],
         "yaxis": "y2"
        },
        {
         "line": {
          "color": "orange"
         },
         "mode": "lines",
         "name": "Validation",
         "showlegend": false,
         "type": "scatter",
         "x": [
          1,
          2,
          3,
          4,
          5,
          6,
          7,
          8,
          9,
          10,
          11,
          12,
          13,
          14,
          15,
          16,
          17,
          18,
          19,
          20,
          21,
          22,
          23,
          24,
          25,
          26,
          27,
          28,
          29,
          30,
          31,
          32,
          33,
          34,
          35,
          36,
          37,
          38,
          39,
          40,
          41,
          42,
          43,
          44,
          45,
          46,
          47,
          48,
          49,
          50,
          51,
          52,
          53,
          54,
          55,
          56,
          57,
          58,
          59,
          60,
          61,
          62,
          63,
          64,
          65,
          66,
          67,
          68,
          69,
          70,
          71,
          72,
          73,
          74,
          75,
          76,
          77,
          78,
          79,
          80,
          81,
          82,
          83,
          84,
          85,
          86,
          87,
          88,
          89,
          90,
          91,
          92,
          93,
          94,
          95,
          96,
          97,
          98,
          99,
          100,
          101,
          102,
          103,
          104,
          105,
          106,
          107,
          108,
          109,
          110,
          111,
          112,
          113,
          114,
          115,
          116,
          117,
          118,
          119,
          120,
          121,
          122,
          123,
          124,
          125,
          126,
          127,
          128,
          129,
          130,
          131,
          132,
          133,
          134,
          135,
          136,
          137,
          138,
          139,
          140,
          141,
          142,
          143,
          144,
          145,
          146,
          147,
          148,
          149,
          150
         ],
         "xaxis": "x2",
         "y": [
          8.603153228759766,
          7.5876946449279785,
          5.973945140838623,
          4.73749303817749,
          4.012095928192139,
          3.1643309593200684,
          1.6687767505645752,
          1.4466578960418701,
          1.5936039686203003,
          1.8653730154037476,
          2.4102962017059326,
          0.8900150656700134,
          0.8792816400527954,
          0.889141321182251,
          0.890056848526001,
          1.301221489906311,
          1.1139053106307983,
          0.7825852632522583,
          0.7536728382110596,
          2.5805087089538574,
          0.6970226764678955,
          0.744380533695221,
          0.7859084606170654,
          1.085207462310791,
          0.7650424838066101,
          0.6697583198547363,
          0.6709268689155579,
          0.7692868113517761,
          0.694688618183136,
          0.685614287853241,
          0.7197018265724182,
          0.7012529373168945,
          3.503906726837158,
          0.6900784373283386,
          0.721308708190918,
          0.8112266659736633,
          0.9765523672103882,
          0.7056251168251038,
          0.7029057741165161,
          0.7102067470550537,
          0.6899990439414978,
          0.6805735230445862,
          0.7218081951141357,
          0.7380890250205994,
          0.6496093273162842,
          0.7809553742408752,
          0.6720739603042603,
          0.7321773171424866,
          0.7352188229560852,
          0.725318968296051,
          0.8090459704399109,
          0.6626508831977844,
          0.6963682174682617,
          0.7405318021774292,
          0.7551875114440918,
          0.7884019613265991,
          0.7192140817642212,
          0.766092836856842,
          0.693160355091095,
          0.7277425527572632,
          0.7206454277038574,
          0.7298591732978821,
          0.6960180401802063,
          0.694219172000885,
          0.7393243908882141,
          0.7317498326301575,
          0.7425217032432556,
          1.609628677368164,
          0.7095804810523987,
          0.7538334727287292,
          0.6933963298797607,
          0.7394176721572876,
          0.6917315721511841,
          0.7268657684326172,
          0.7380825281143188,
          0.7402696013450623,
          0.714733898639679,
          0.7877311110496521,
          0.8527616262435913,
          0.7081451416015625,
          0.817558765411377,
          3.604398488998413,
          0.8110657334327698,
          0.746249258518219,
          0.7452282309532166,
          0.7168909907341003,
          0.7497214674949646,
          0.7297506332397461,
          0.6868782043457031,
          0.712204098701477,
          0.7071075439453125,
          0.7733820676803589,
          0.7802545428276062,
          0.779684841632843,
          0.7564340829849243,
          0.7623546123504639,
          0.8432772755622864,
          0.7575514912605286,
          0.7716878056526184,
          0.7361308932304382,
          0.7866539359092712,
          0.7623022198677063,
          0.7443493008613586,
          0.7331202626228333,
          0.7344667911529541,
          0.7301753163337708,
          0.7866553664207458,
          0.7628393769264221,
          0.7580977082252502,
          0.9416832327842712,
          1.1003793478012085,
          0.7332345247268677,
          0.8102321028709412,
          0.8711104393005371,
          0.7507156133651733,
          0.7914246320724487,
          0.7545644044876099,
          0.7772412300109863,
          0.8411187529563904,
          0.7926883697509766,
          0.7640809416770935,
          0.7229886054992676,
          0.717267632484436,
          0.7627119421958923,
          0.7599117159843445,
          0.7632409930229187,
          1.8110443353652954,
          0.7595865726470947,
          0.722339391708374,
          0.7677610516548157,
          0.7571215629577637,
          0.7028738856315613,
          0.7505720257759094,
          0.756864070892334,
          0.8108094334602356,
          0.7557017803192139,
          0.758280336856842,
          0.7556458711624146,
          0.8099027276039124,
          0.7581596970558167,
          0.7658776044845581,
          0.7567787766456604,
          0.7709320187568665,
          0.763952374458313,
          0.712652862071991,
          0.750440776348114,
          0.8025704622268677,
          0.7605611085891724,
          0.7719217538833618,
          0.9407768845558167
         ],
         "yaxis": "y2"
        }
       ],
       "layout": {
        "annotations": [
         {
          "font": {
           "size": 16
          },
          "showarrow": false,
          "text": "Model accuracy",
          "x": 0.225,
          "xanchor": "center",
          "xref": "paper",
          "y": 1,
          "yanchor": "bottom",
          "yref": "paper"
         },
         {
          "font": {
           "size": 16
          },
          "showarrow": false,
          "text": "Model loss",
          "x": 0.775,
          "xanchor": "center",
          "xref": "paper",
          "y": 1,
          "yanchor": "bottom",
          "yref": "paper"
         }
        ],
        "legend": {
         "x": 0.85,
         "y": 1
        },
        "template": {
         "data": {
          "bar": [
           {
            "error_x": {
             "color": "#2a3f5f"
            },
            "error_y": {
             "color": "#2a3f5f"
            },
            "marker": {
             "line": {
              "color": "#E5ECF6",
              "width": 0.5
             },
             "pattern": {
              "fillmode": "overlay",
              "size": 10,
              "solidity": 0.2
             }
            },
            "type": "bar"
           }
          ],
          "barpolar": [
           {
            "marker": {
             "line": {
              "color": "#E5ECF6",
              "width": 0.5
             },
             "pattern": {
              "fillmode": "overlay",
              "size": 10,
              "solidity": 0.2
             }
            },
            "type": "barpolar"
           }
          ],
          "carpet": [
           {
            "aaxis": {
             "endlinecolor": "#2a3f5f",
             "gridcolor": "white",
             "linecolor": "white",
             "minorgridcolor": "white",
             "startlinecolor": "#2a3f5f"
            },
            "baxis": {
             "endlinecolor": "#2a3f5f",
             "gridcolor": "white",
             "linecolor": "white",
             "minorgridcolor": "white",
             "startlinecolor": "#2a3f5f"
            },
            "type": "carpet"
           }
          ],
          "choropleth": [
           {
            "colorbar": {
             "outlinewidth": 0,
             "ticks": ""
            },
            "type": "choropleth"
           }
          ],
          "contour": [
           {
            "colorbar": {
             "outlinewidth": 0,
             "ticks": ""
            },
            "colorscale": [
             [
              0,
              "#0d0887"
             ],
             [
              0.1111111111111111,
              "#46039f"
             ],
             [
              0.2222222222222222,
              "#7201a8"
             ],
             [
              0.3333333333333333,
              "#9c179e"
             ],
             [
              0.4444444444444444,
              "#bd3786"
             ],
             [
              0.5555555555555556,
              "#d8576b"
             ],
             [
              0.6666666666666666,
              "#ed7953"
             ],
             [
              0.7777777777777778,
              "#fb9f3a"
             ],
             [
              0.8888888888888888,
              "#fdca26"
             ],
             [
              1,
              "#f0f921"
             ]
            ],
            "type": "contour"
           }
          ],
          "contourcarpet": [
           {
            "colorbar": {
             "outlinewidth": 0,
             "ticks": ""
            },
            "type": "contourcarpet"
           }
          ],
          "heatmap": [
           {
            "colorbar": {
             "outlinewidth": 0,
             "ticks": ""
            },
            "colorscale": [
             [
              0,
              "#0d0887"
             ],
             [
              0.1111111111111111,
              "#46039f"
             ],
             [
              0.2222222222222222,
              "#7201a8"
             ],
             [
              0.3333333333333333,
              "#9c179e"
             ],
             [
              0.4444444444444444,
              "#bd3786"
             ],
             [
              0.5555555555555556,
              "#d8576b"
             ],
             [
              0.6666666666666666,
              "#ed7953"
             ],
             [
              0.7777777777777778,
              "#fb9f3a"
             ],
             [
              0.8888888888888888,
              "#fdca26"
             ],
             [
              1,
              "#f0f921"
             ]
            ],
            "type": "heatmap"
           }
          ],
          "heatmapgl": [
           {
            "colorbar": {
             "outlinewidth": 0,
             "ticks": ""
            },
            "colorscale": [
             [
              0,
              "#0d0887"
             ],
             [
              0.1111111111111111,
              "#46039f"
             ],
             [
              0.2222222222222222,
              "#7201a8"
             ],
             [
              0.3333333333333333,
              "#9c179e"
             ],
             [
              0.4444444444444444,
              "#bd3786"
             ],
             [
              0.5555555555555556,
              "#d8576b"
             ],
             [
              0.6666666666666666,
              "#ed7953"
             ],
             [
              0.7777777777777778,
              "#fb9f3a"
             ],
             [
              0.8888888888888888,
              "#fdca26"
             ],
             [
              1,
              "#f0f921"
             ]
            ],
            "type": "heatmapgl"
           }
          ],
          "histogram": [
           {
            "marker": {
             "pattern": {
              "fillmode": "overlay",
              "size": 10,
              "solidity": 0.2
             }
            },
            "type": "histogram"
           }
          ],
          "histogram2d": [
           {
            "colorbar": {
             "outlinewidth": 0,
             "ticks": ""
            },
            "colorscale": [
             [
              0,
              "#0d0887"
             ],
             [
              0.1111111111111111,
              "#46039f"
             ],
             [
              0.2222222222222222,
              "#7201a8"
             ],
             [
              0.3333333333333333,
              "#9c179e"
             ],
             [
              0.4444444444444444,
              "#bd3786"
             ],
             [
              0.5555555555555556,
              "#d8576b"
             ],
             [
              0.6666666666666666,
              "#ed7953"
             ],
             [
              0.7777777777777778,
              "#fb9f3a"
             ],
             [
              0.8888888888888888,
              "#fdca26"
             ],
             [
              1,
              "#f0f921"
             ]
            ],
            "type": "histogram2d"
           }
          ],
          "histogram2dcontour": [
           {
            "colorbar": {
             "outlinewidth": 0,
             "ticks": ""
            },
            "colorscale": [
             [
              0,
              "#0d0887"
             ],
             [
              0.1111111111111111,
              "#46039f"
             ],
             [
              0.2222222222222222,
              "#7201a8"
             ],
             [
              0.3333333333333333,
              "#9c179e"
             ],
             [
              0.4444444444444444,
              "#bd3786"
             ],
             [
              0.5555555555555556,
              "#d8576b"
             ],
             [
              0.6666666666666666,
              "#ed7953"
             ],
             [
              0.7777777777777778,
              "#fb9f3a"
             ],
             [
              0.8888888888888888,
              "#fdca26"
             ],
             [
              1,
              "#f0f921"
             ]
            ],
            "type": "histogram2dcontour"
           }
          ],
          "mesh3d": [
           {
            "colorbar": {
             "outlinewidth": 0,
             "ticks": ""
            },
            "type": "mesh3d"
           }
          ],
          "parcoords": [
           {
            "line": {
             "colorbar": {
              "outlinewidth": 0,
              "ticks": ""
             }
            },
            "type": "parcoords"
           }
          ],
          "pie": [
           {
            "automargin": true,
            "type": "pie"
           }
          ],
          "scatter": [
           {
            "fillpattern": {
             "fillmode": "overlay",
             "size": 10,
             "solidity": 0.2
            },
            "type": "scatter"
           }
          ],
          "scatter3d": [
           {
            "line": {
             "colorbar": {
              "outlinewidth": 0,
              "ticks": ""
             }
            },
            "marker": {
             "colorbar": {
              "outlinewidth": 0,
              "ticks": ""
             }
            },
            "type": "scatter3d"
           }
          ],
          "scattercarpet": [
           {
            "marker": {
             "colorbar": {
              "outlinewidth": 0,
              "ticks": ""
             }
            },
            "type": "scattercarpet"
           }
          ],
          "scattergeo": [
           {
            "marker": {
             "colorbar": {
              "outlinewidth": 0,
              "ticks": ""
             }
            },
            "type": "scattergeo"
           }
          ],
          "scattergl": [
           {
            "marker": {
             "colorbar": {
              "outlinewidth": 0,
              "ticks": ""
             }
            },
            "type": "scattergl"
           }
          ],
          "scattermapbox": [
           {
            "marker": {
             "colorbar": {
              "outlinewidth": 0,
              "ticks": ""
             }
            },
            "type": "scattermapbox"
           }
          ],
          "scatterpolar": [
           {
            "marker": {
             "colorbar": {
              "outlinewidth": 0,
              "ticks": ""
             }
            },
            "type": "scatterpolar"
           }
          ],
          "scatterpolargl": [
           {
            "marker": {
             "colorbar": {
              "outlinewidth": 0,
              "ticks": ""
             }
            },
            "type": "scatterpolargl"
           }
          ],
          "scatterternary": [
           {
            "marker": {
             "colorbar": {
              "outlinewidth": 0,
              "ticks": ""
             }
            },
            "type": "scatterternary"
           }
          ],
          "surface": [
           {
            "colorbar": {
             "outlinewidth": 0,
             "ticks": ""
            },
            "colorscale": [
             [
              0,
              "#0d0887"
             ],
             [
              0.1111111111111111,
              "#46039f"
             ],
             [
              0.2222222222222222,
              "#7201a8"
             ],
             [
              0.3333333333333333,
              "#9c179e"
             ],
             [
              0.4444444444444444,
              "#bd3786"
             ],
             [
              0.5555555555555556,
              "#d8576b"
             ],
             [
              0.6666666666666666,
              "#ed7953"
             ],
             [
              0.7777777777777778,
              "#fb9f3a"
             ],
             [
              0.8888888888888888,
              "#fdca26"
             ],
             [
              1,
              "#f0f921"
             ]
            ],
            "type": "surface"
           }
          ],
          "table": [
           {
            "cells": {
             "fill": {
              "color": "#EBF0F8"
             },
             "line": {
              "color": "white"
             }
            },
            "header": {
             "fill": {
              "color": "#C8D4E3"
             },
             "line": {
              "color": "white"
             }
            },
            "type": "table"
           }
          ]
         },
         "layout": {
          "annotationdefaults": {
           "arrowcolor": "#2a3f5f",
           "arrowhead": 0,
           "arrowwidth": 1
          },
          "autotypenumbers": "strict",
          "coloraxis": {
           "colorbar": {
            "outlinewidth": 0,
            "ticks": ""
           }
          },
          "colorscale": {
           "diverging": [
            [
             0,
             "#8e0152"
            ],
            [
             0.1,
             "#c51b7d"
            ],
            [
             0.2,
             "#de77ae"
            ],
            [
             0.3,
             "#f1b6da"
            ],
            [
             0.4,
             "#fde0ef"
            ],
            [
             0.5,
             "#f7f7f7"
            ],
            [
             0.6,
             "#e6f5d0"
            ],
            [
             0.7,
             "#b8e186"
            ],
            [
             0.8,
             "#7fbc41"
            ],
            [
             0.9,
             "#4d9221"
            ],
            [
             1,
             "#276419"
            ]
           ],
           "sequential": [
            [
             0,
             "#0d0887"
            ],
            [
             0.1111111111111111,
             "#46039f"
            ],
            [
             0.2222222222222222,
             "#7201a8"
            ],
            [
             0.3333333333333333,
             "#9c179e"
            ],
            [
             0.4444444444444444,
             "#bd3786"
            ],
            [
             0.5555555555555556,
             "#d8576b"
            ],
            [
             0.6666666666666666,
             "#ed7953"
            ],
            [
             0.7777777777777778,
             "#fb9f3a"
            ],
            [
             0.8888888888888888,
             "#fdca26"
            ],
            [
             1,
             "#f0f921"
            ]
           ],
           "sequentialminus": [
            [
             0,
             "#0d0887"
            ],
            [
             0.1111111111111111,
             "#46039f"
            ],
            [
             0.2222222222222222,
             "#7201a8"
            ],
            [
             0.3333333333333333,
             "#9c179e"
            ],
            [
             0.4444444444444444,
             "#bd3786"
            ],
            [
             0.5555555555555556,
             "#d8576b"
            ],
            [
             0.6666666666666666,
             "#ed7953"
            ],
            [
             0.7777777777777778,
             "#fb9f3a"
            ],
            [
             0.8888888888888888,
             "#fdca26"
            ],
            [
             1,
             "#f0f921"
            ]
           ]
          },
          "colorway": [
           "#636efa",
           "#EF553B",
           "#00cc96",
           "#ab63fa",
           "#FFA15A",
           "#19d3f3",
           "#FF6692",
           "#B6E880",
           "#FF97FF",
           "#FECB52"
          ],
          "font": {
           "color": "#2a3f5f"
          },
          "geo": {
           "bgcolor": "white",
           "lakecolor": "white",
           "landcolor": "#E5ECF6",
           "showlakes": true,
           "showland": true,
           "subunitcolor": "white"
          },
          "hoverlabel": {
           "align": "left"
          },
          "hovermode": "closest",
          "mapbox": {
           "style": "light"
          },
          "paper_bgcolor": "white",
          "plot_bgcolor": "#E5ECF6",
          "polar": {
           "angularaxis": {
            "gridcolor": "white",
            "linecolor": "white",
            "ticks": ""
           },
           "bgcolor": "#E5ECF6",
           "radialaxis": {
            "gridcolor": "white",
            "linecolor": "white",
            "ticks": ""
           }
          },
          "scene": {
           "xaxis": {
            "backgroundcolor": "#E5ECF6",
            "gridcolor": "white",
            "gridwidth": 2,
            "linecolor": "white",
            "showbackground": true,
            "ticks": "",
            "zerolinecolor": "white"
           },
           "yaxis": {
            "backgroundcolor": "#E5ECF6",
            "gridcolor": "white",
            "gridwidth": 2,
            "linecolor": "white",
            "showbackground": true,
            "ticks": "",
            "zerolinecolor": "white"
           },
           "zaxis": {
            "backgroundcolor": "#E5ECF6",
            "gridcolor": "white",
            "gridwidth": 2,
            "linecolor": "white",
            "showbackground": true,
            "ticks": "",
            "zerolinecolor": "white"
           }
          },
          "shapedefaults": {
           "line": {
            "color": "#2a3f5f"
           }
          },
          "ternary": {
           "aaxis": {
            "gridcolor": "white",
            "linecolor": "white",
            "ticks": ""
           },
           "baxis": {
            "gridcolor": "white",
            "linecolor": "white",
            "ticks": ""
           },
           "bgcolor": "#E5ECF6",
           "caxis": {
            "gridcolor": "white",
            "linecolor": "white",
            "ticks": ""
           }
          },
          "title": {
           "x": 0.05
          },
          "xaxis": {
           "automargin": true,
           "gridcolor": "white",
           "linecolor": "white",
           "ticks": "",
           "title": {
            "standoff": 15
           },
           "zerolinecolor": "white",
           "zerolinewidth": 2
          },
          "yaxis": {
           "automargin": true,
           "gridcolor": "white",
           "linecolor": "white",
           "ticks": "",
           "title": {
            "standoff": 15
           },
           "zerolinecolor": "white",
           "zerolinewidth": 2
          }
         }
        },
        "title": {
         "text": "Model Training History"
        },
        "xaxis": {
         "anchor": "y",
         "domain": [
          0,
          0.45
         ],
         "title": {
          "text": "Epoch"
         }
        },
        "xaxis2": {
         "anchor": "y2",
         "domain": [
          0.55,
          1
         ]
        },
        "yaxis": {
         "anchor": "x",
         "domain": [
          0,
          1
         ],
         "title": {
          "text": "Value"
         }
        },
        "yaxis2": {
         "anchor": "x2",
         "domain": [
          0,
          1
         ]
        }
       }
      }
     },
     "metadata": {},
     "output_type": "display_data"
    }
   ],
   "source": [
    "import plotly.graph_objects as go\n",
    "from plotly.subplots import make_subplots\n",
    "\n",
    "fig = make_subplots(rows=1, cols=2, subplot_titles=(\"Model accuracy\", \"Model loss\"))\n",
    "\n",
    "# Add the first subplot for accuracy\n",
    "fig.add_trace(go.Scatter(x=list(range(1, len(history.history['accuracy']) + 1)),\n",
    "                         y=history.history['accuracy'], mode='lines',\n",
    "                         name='Train', line=dict(color='blue')), row=1, col=1)\n",
    "fig.add_trace(go.Scatter(x=list(range(1, len(history.history['val_accuracy']) + 1)),\n",
    "                         y=history.history['val_accuracy'], mode='lines',\n",
    "                         name='Validation', line=dict(color='orange')), row=1, col=1)\n",
    "\n",
    "# Add the second subplot for loss\n",
    "fig.add_trace(go.Scatter(x=list(range(1, len(history.history['loss']) + 1)),\n",
    "                         y=history.history['loss'], mode='lines',\n",
    "                         name='Train', line=dict(color='blue'), showlegend=False), row=1, col=2)\n",
    "fig.add_trace(go.Scatter(x=list(range(1, len(history.history['val_loss']) + 1)),\n",
    "                         y=history.history['val_loss'], mode='lines',\n",
    "                         name='Validation', line=dict(color='orange'), showlegend=False), row=1, col=2)\n",
    "\n",
    "fig.update_layout(title=\"Model Training History\",\n",
    "                  xaxis_title=\"Epoch\",\n",
    "                  yaxis_title=\"Value\",\n",
    "                  legend=dict(x=0.85, y=1))\n",
    "\n",
    "fig.show()"
   ]
  },
  {
   "cell_type": "code",
   "execution_count": 19,
   "metadata": {},
   "outputs": [],
   "source": [
    "preds = model.predict(valid_x)\n",
    "decoded = K.get_value(K.ctc_decode(preds, input_length=np.ones(preds.shape[0])*preds.shape[1], \n",
    "                                   greedy=True)[0][0])\n",
    "\n",
    "prediction = []\n",
    "for i in range(valid_size):\n",
    "    prediction.append(num_to_label(decoded[i]))"
   ]
  },
  {
   "cell_type": "code",
   "execution_count": 20,
   "metadata": {},
   "outputs": [],
   "source": [
    "y_true = []\n",
    "for i in range(20000):\n",
    "    y_true.append(str(data.loc[i+80000, 'Value']))"
   ]
  },
  {
   "cell_type": "code",
   "execution_count": 21,
   "metadata": {},
   "outputs": [
    {
     "name": "stdout",
     "output_type": "stream",
     "text": [
      "Correct characters predicted : 89.86%\n",
      "Correct words predicted      : 80.01%\n"
     ]
    }
   ],
   "source": [
    "correct_char = 0\n",
    "total_char = 0\n",
    "correct = 0\n",
    "\n",
    "for i in range(valid_size):\n",
    "    pr = prediction[i]\n",
    "    tr = y_true[i]\n",
    "    total_char += len(tr)\n",
    "    \n",
    "    for j in range(min(len(tr), len(pr))):\n",
    "        if tr[j] == pr[j]:\n",
    "            correct_char += 1\n",
    "            \n",
    "    if pr == tr :\n",
    "        correct += 1 \n",
    "    \n",
    "print('Correct characters predicted : %.2f%%' %(correct_char*100/total_char))\n",
    "print('Correct words predicted      : %.2f%%' %(correct*100/valid_size))"
   ]
  },
  {
   "cell_type": "code",
   "execution_count": 22,
   "metadata": {},
   "outputs": [
    {
     "name": "stdout",
     "output_type": "stream",
     "text": [
      "Label:-790; Predicted:-790\n"
     ]
    },
    {
     "data": {
      "image/png": "[encoded data removed]",
      "text/plain": [
       "<PIL.Image.Image image mode=L size=64x32>"
      ]
     },
     "metadata": {},
     "output_type": "display_data"
    },
    {
     "name": "stdout",
     "output_type": "stream",
     "text": [
      "Label:2110; Predicted:110\n"
     ]
    },
    {
     "data": {
      "image/png": "[encoded data removed]",
      "text/plain": [
       "<PIL.Image.Image image mode=L size=64x32>"
      ]
     },
     "metadata": {},
     "output_type": "display_data"
    },
    {
     "name": "stdout",
     "output_type": "stream",
     "text": [
      "Label:3306; Predicted:3306\n"
     ]
    },
    {
     "data": {
      "image/png": "[encoded data removed]",
      "text/plain": [
       "<PIL.Image.Image image mode=L size=64x32>"
      ]
     },
     "metadata": {},
     "output_type": "display_data"
    },
    {
     "name": "stdout",
     "output_type": "stream",
     "text": [
      "Label:2629; Predicted:2629\n"
     ]
    },
    {
     "data": {
      "image/png": "[encoded data removed]",
      "text/plain": [
       "<PIL.Image.Image image mode=L size=64x32>"
      ]
     },
     "metadata": {},
     "output_type": "display_data"
    },
    {
     "name": "stdout",
     "output_type": "stream",
     "text": [
      "Label:2787; Predicted:2787\n"
     ]
    },
    {
     "data": {
      "image/png": "[encoded data removed]",
      "text/plain": [
       "<PIL.Image.Image image mode=L size=64x32>"
      ]
     },
     "metadata": {},
     "output_type": "display_data"
    },
    {
     "name": "stdout",
     "output_type": "stream",
     "text": [
      "Label:3162; Predicted:3162\n"
     ]
    },
    {
     "data": {
      "image/png": "[encoded data removed]",
      "text/plain": [
       "<PIL.Image.Image image mode=L size=64x32>"
      ]
     },
     "metadata": {},
     "output_type": "display_data"
    },
    {
     "name": "stdout",
     "output_type": "stream",
     "text": [
      "Label:2469; Predicted:2469\n"
     ]
    },
    {
     "data": {
      "image/png": "[encoded data removed]",
      "text/plain": [
       "<PIL.Image.Image image mode=L size=64x32>"
      ]
     },
     "metadata": {},
     "output_type": "display_data"
    },
    {
     "name": "stdout",
     "output_type": "stream",
     "text": [
      "Label:3486; Predicted:3486\n"
     ]
    },
    {
     "data": {
      "image/png": "[encoded data removed]",
      "text/plain": [
       "<PIL.Image.Image image mode=L size=64x32>"
      ]
     },
     "metadata": {},
     "output_type": "display_data"
    },
    {
     "name": "stdout",
     "output_type": "stream",
     "text": [
      "Label:778; Predicted:772\n"
     ]
    },
    {
     "data": {
      "image/png": "[encoded data removed]",
      "text/plain": [
       "<PIL.Image.Image image mode=L size=64x32>"
      ]
     },
     "metadata": {},
     "output_type": "display_data"
    },
    {
     "name": "stdout",
     "output_type": "stream",
     "text": [
      "Label:2891; Predicted:2897\n"
     ]
    },
    {
     "data": {
      "image/png": "[encoded data removed]",
      "text/plain": [
       "<PIL.Image.Image image mode=L size=64x32>"
      ]
     },
     "metadata": {},
     "output_type": "display_data"
    }
   ],
   "source": [
    "for id_n in np.random.randint(0, len(y_true),10):\n",
    "    image_data = (np.squeeze(valid_x[id_n]) * 255).astype('uint8')\n",
    "    image = Image.fromarray(image_data, 'L')\n",
    "    title = f\"Label:{y_true[id_n]}; Predicted:{prediction[id_n]}\"\n",
    "    print(title)\n",
    "    display(image)\n",
    "\n"
   ]
  }
 ],
 "metadata": {
  "kernelspec": {
   "display_name": "anacondaTensorflow",
   "language": "python",
   "name": "python3"
  },
  "language_info": {
   "codemirror_mode": {
    "name": "ipython",
    "version": 3
   },
   "file_extension": ".py",
   "mimetype": "text/x-python",
   "name": "python",
   "nbconvert_exporter": "python",
   "pygments_lexer": "ipython3",
   "version": "3.8.17"
  }
 },
 "nbformat": 4,
 "nbformat_minor": 2
}
