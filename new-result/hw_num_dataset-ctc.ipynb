{
 "cells": [
  {
   "cell_type": "code",
   "execution_count": 1,
   "metadata": {},
   "outputs": [],
   "source": [
    "import cv2\n",
    "import numpy as np\n",
    "import pandas as pd\n",
    "filename = 'E:/pythonfile/recognition/handwritten_numbers/hw_numbers_dataset/'\n",
    "data = pd.read_csv( filename + 'annotation.csv')\n"
   ]
  },
  {
   "cell_type": "code",
   "execution_count": 2,
   "metadata": {},
   "outputs": [],
   "source": [
    "\n",
    "x_data = [] #handwritten numbers dataset\n",
    "for i in range(len(data)):\n",
    "    img_dir = filename+data.loc[i, 'FileName']+'.jpg'\n",
    "    image = cv2.imread(img_dir, cv2.IMREAD_GRAYSCALE)\n",
    "    image = image/255.\n",
    "    x_data.append(image)\n"
   ]
  },
  {
   "cell_type": "code",
   "execution_count": 3,
   "metadata": {},
   "outputs": [],
   "source": [
    "x_data = np.array(x_data).reshape(-1, 32, 64, 1)"
   ]
  },
  {
   "cell_type": "code",
   "execution_count": 4,
   "metadata": {},
   "outputs": [],
   "source": [
    "train_x =x_data[:60000]\n",
    "test_x= x_data[60000:80000]\n",
    "valid_x= x_data[80000:]"
   ]
  },
  {
   "cell_type": "code",
   "execution_count": 5,
   "metadata": {},
   "outputs": [],
   "source": [
    "train_size = 60000\n",
    "test_size= 20000\n",
    "valid_size= 20000"
   ]
  },
  {
   "cell_type": "code",
   "execution_count": 6,
   "metadata": {},
   "outputs": [],
   "source": [
    "for i in range(len(data)):\n",
    "    data.loc[i,'Value'] = str(data.loc[i,'Value']).replace(\".\", \"\")"
   ]
  },
  {
   "cell_type": "code",
   "execution_count": 7,
   "metadata": {},
   "outputs": [],
   "source": [
    "str_len = []\n",
    "for i in range(len(data)):\n",
    "    str_len.append(len(data.loc[i,'Value']))"
   ]
  },
  {
   "cell_type": "code",
   "execution_count": 8,
   "metadata": {},
   "outputs": [],
   "source": [
    "alphabets = u\"0123456789-\"\n",
    "max_str_len = max(str_len) # max length of input labels 5\n",
    "num_of_characters = len(alphabets) + 1 # +1 for ctc pseudo blank\n",
    "num_of_timestamps = 16 # max length of predicted labels\n",
    "\n",
    "\n",
    "def label_to_num(label):\n",
    "    label_num = []\n",
    "    for ch in label:\n",
    "        label_num.append(alphabets.find(ch))\n",
    "        \n",
    "    return np.array(label_num)\n",
    "\n",
    "def num_to_label(num):\n",
    "    ret = \"\"\n",
    "    for ch in num:\n",
    "        if ch == -1:  # CTC Blank\n",
    "            break\n",
    "        else:\n",
    "            ret+=alphabets[ch]\n",
    "    return ret"
   ]
  },
  {
   "cell_type": "code",
   "execution_count": 9,
   "metadata": {},
   "outputs": [
    {
     "name": "stdout",
     "output_type": "stream",
     "text": [
      "True label :  2549 \n",
      "train_y :  [ 2.  5.  4.  9. -1.] \n",
      "train_label_len :  [4.] \n",
      "train_input_len :  [16.]\n"
     ]
    }
   ],
   "source": [
    "train_y = np.ones([train_size, max_str_len]) * -1\n",
    "train_label_len = np.zeros([train_size, 1])\n",
    "train_input_len = np.ones([train_size, 1]) * num_of_timestamps\n",
    "train_output = np.zeros([train_size])\n",
    "\n",
    "for i in data.index[:train_size]:\n",
    "    train_label_len[i] = len(data.loc[i, 'Value'])\n",
    "    train_y[i, 0:len(data.loc[i, 'Value'])]= label_to_num(data.loc[i, 'Value'])\n",
    "print('True label : ',data.loc[100, 'Value'] , '\\ntrain_y : ',train_y[100],\n",
    "      '\\ntrain_label_len : ',train_label_len[100],'\\ntrain_input_len : ',train_input_len[100]) "
   ]
  },
  {
   "cell_type": "code",
   "execution_count": 10,
   "metadata": {},
   "outputs": [
    {
     "name": "stdout",
     "output_type": "stream",
     "text": [
      "True label :  1939 \n",
      "train_y :  [ 1.  9.  3.  9. -1.] \n",
      "train_label_len :  [4.] \n",
      "train_input_len :  [16.]\n"
     ]
    }
   ],
   "source": [
    "test_y = np.ones([test_size, max_str_len]) * -1\n",
    "test_label_len = np.zeros([test_size, 1])\n",
    "test_input_len = np.ones([test_size, 1]) * num_of_timestamps\n",
    "test_output = np.zeros([test_size])\n",
    "\n",
    "for i in data.index[train_size:train_size+test_size]:\n",
    "    test_label_len[i-60000] = len(data.loc[i, 'Value'])\n",
    "    test_y[i-60000, 0:len(data.loc[i, 'Value'])]= label_to_num(data.loc[i, 'Value']) \n",
    "print('True label : ',data.loc[60100, 'Value'] , '\\ntrain_y : ',test_y[100],\n",
    "      '\\ntrain_label_len : ',test_label_len[100],'\\ntrain_input_len : ',test_input_len[100]) "
   ]
  },
  {
   "cell_type": "code",
   "execution_count": 11,
   "metadata": {},
   "outputs": [
    {
     "name": "stdout",
     "output_type": "stream",
     "text": [
      "True label :  -630 \n",
      "train_y :  [10.  6.  3.  0. -1.] \n",
      "train_label_len :  [4.] \n",
      "train_input_len :  [16.]\n"
     ]
    }
   ],
   "source": [
    "valid_y = np.ones([valid_size, max_str_len]) * -1\n",
    "valid_label_len = np.zeros([valid_size, 1])\n",
    "valid_input_len = np.ones([valid_size, 1]) * num_of_timestamps\n",
    "valid_output = np.zeros([valid_size])\n",
    "\n",
    "for i in data.index[train_size+test_size:]:\n",
    "    valid_label_len[i-80000] = len(data.loc[i, 'Value'])\n",
    "    valid_y[i-80000, 0:len(data.loc[i, 'Value'])]= label_to_num(data.loc[i, 'Value']) \n",
    "print('True label : ',data.loc[80100, 'Value'] , '\\ntrain_y : ',valid_y[100],\n",
    "      '\\ntrain_label_len : ',valid_label_len[100],'\\ntrain_input_len : ',valid_input_len[100]) "
   ]
  },
  {
   "cell_type": "code",
   "execution_count": 12,
   "metadata": {},
   "outputs": [
    {
     "name": "stdout",
     "output_type": "stream",
     "text": [
      "Label:1478\n"
     ]
    },
    {
     "data": {
      "image/png": "[encoded data removed]",
      "text/plain": [
       "<PIL.Image.Image image mode=L size=64x32>"
      ]
     },
     "metadata": {},
     "output_type": "display_data"
    },
    {
     "name": "stdout",
     "output_type": "stream",
     "text": [
      "Label:198\n"
     ]
    },
    {
     "data": {
      "image/png": "[encoded data removed]",
      "text/plain": [
       "<PIL.Image.Image image mode=L size=64x32>"
      ]
     },
     "metadata": {},
     "output_type": "display_data"
    },
    {
     "name": "stdout",
     "output_type": "stream",
     "text": [
      "Label:648\n"
     ]
    },
    {
     "data": {
      "image/png": "[encoded data removed]",
      "text/plain": [
       "<PIL.Image.Image image mode=L size=64x32>"
      ]
     },
     "metadata": {},
     "output_type": "display_data"
    },
    {
     "name": "stdout",
     "output_type": "stream",
     "text": [
      "Label:3581\n"
     ]
    },
    {
     "data": {
      "image/png": "[encoded data removed]",
      "text/plain": [
       "<PIL.Image.Image image mode=L size=64x32>"
      ]
     },
     "metadata": {},
     "output_type": "display_data"
    },
    {
     "name": "stdout",
     "output_type": "stream",
     "text": [
      "Label:392\n"
     ]
    },
    {
     "data": {
      "image/png": "[encoded data removed]",
      "text/plain": [
       "<PIL.Image.Image image mode=L size=64x32>"
      ]
     },
     "metadata": {},
     "output_type": "display_data"
    },
    {
     "name": "stdout",
     "output_type": "stream",
     "text": [
      "Label:1819\n"
     ]
    },
    {
     "data": {
      "image/png": "[encoded data removed]",
      "text/plain": [
       "<PIL.Image.Image image mode=L size=64x32>"
      ]
     },
     "metadata": {},
     "output_type": "display_data"
    },
    {
     "name": "stdout",
     "output_type": "stream",
     "text": [
      "Label:3097\n"
     ]
    },
    {
     "data": {
      "image/png": "[encoded data removed]",
      "text/plain": [
       "<PIL.Image.Image image mode=L size=64x32>"
      ]
     },
     "metadata": {},
     "output_type": "display_data"
    },
    {
     "name": "stdout",
     "output_type": "stream",
     "text": [
      "Label:-724\n"
     ]
    },
    {
     "data": {
      "image/png": "[encoded data removed]",
      "text/plain": [
       "<PIL.Image.Image image mode=L size=64x32>"
      ]
     },
     "metadata": {},
     "output_type": "display_data"
    },
    {
     "name": "stdout",
     "output_type": "stream",
     "text": [
      "Label:475\n"
     ]
    },
    {
     "data": {
      "image/png": "[encoded data removed]",
      "text/plain": [
       "<PIL.Image.Image image mode=L size=64x32>"
      ]
     },
     "metadata": {},
     "output_type": "display_data"
    },
    {
     "name": "stdout",
     "output_type": "stream",
     "text": [
      "Label:419\n"
     ]
    },
    {
     "data": {
      "image/png": "[encoded data removed]",
      "text/plain": [
       "<PIL.Image.Image image mode=L size=64x32>"
      ]
     },
     "metadata": {},
     "output_type": "display_data"
    }
   ],
   "source": [
    "from PIL import Image\n",
    "from IPython.display import display\n",
    "\n",
    "def image_see(n):\n",
    "    image_data = (np.squeeze(x_data[n]) * 255).astype('uint8')\n",
    "    image = Image.fromarray(image_data, 'L')\n",
    "    title = f\"Label:{data.loc[n,'Value']}\"\n",
    "    print(title)\n",
    "    display(image)\n",
    "for id_n in np.random.randint(0, len(data),10):\n",
    "    image_see(id_n)\n"
   ]
  },
  {
   "cell_type": "code",
   "execution_count": 15,
   "metadata": {},
   "outputs": [
    {
     "name": "stdout",
     "output_type": "stream",
     "text": [
      "Model: \"functional_1\"\n",
      "_________________________________________________________________\n",
      "Layer (type)                 Output Shape              Param #   \n",
      "=================================================================\n",
      "input (InputLayer)           [(None, 32, 64, 1)]       0         \n",
      "_________________________________________________________________\n",
      "conv2d_10 (Conv2D)           (None, 32, 64, 128)       1280      \n",
      "_________________________________________________________________\n",
      "activation_10 (Activation)   (None, 32, 64, 128)       0         \n",
      "_________________________________________________________________\n",
      "batch_normalization_10 (Batc (None, 32, 64, 128)       512       \n",
      "_________________________________________________________________\n",
      "conv2d_11 (Conv2D)           (None, 32, 64, 128)       147584    \n",
      "_________________________________________________________________\n",
      "activation_11 (Activation)   (None, 32, 64, 128)       0         \n",
      "_________________________________________________________________\n",
      "batch_normalization_11 (Batc (None, 32, 64, 128)       512       \n",
      "_________________________________________________________________\n",
      "max3 (MaxPooling2D)          (None, 32, 32, 128)       0         \n",
      "_________________________________________________________________\n",
      "dropout_5 (Dropout)          (None, 32, 32, 128)       0         \n",
      "_________________________________________________________________\n",
      "reshape (Reshape)            (None, 16, 8192)          0         \n",
      "_________________________________________________________________\n",
      "dense1 (Dense)               (None, 16, 64)            524352    \n",
      "_________________________________________________________________\n",
      "lstm1 (Bidirectional)        (None, 16, 256)           197632    \n",
      "_________________________________________________________________\n",
      "lstm2 (Bidirectional)        (None, 16, 128)           164352    \n",
      "_________________________________________________________________\n",
      "dense2 (Dense)               (None, 16, 12)            1548      \n",
      "_________________________________________________________________\n",
      "softmax (Activation)         (None, 16, 12)            0         \n",
      "=================================================================\n",
      "Total params: 1,037,772\n",
      "Trainable params: 1,037,260\n",
      "Non-trainable params: 512\n",
      "_________________________________________________________________\n"
     ]
    }
   ],
   "source": [
    "import tensorflow as tf\n",
    "from keras import backend as K\n",
    "from keras.models import Model\n",
    "from keras.layers import Input, Conv2D, MaxPooling2D, Reshape, Bidirectional, LSTM, Dense, Lambda, Activation, BatchNormalization, Dropout\n",
    "from keras.optimizers import Adam\n",
    "\n",
    "input_data = Input(shape=(32, 64, 1), name='input')\n",
    "\n",
    "inner = Conv2D(32, (3, 3), activation='elu', padding='same')(input_data)  \n",
    "inner = Activation('elu')(inner)\n",
    "inner = BatchNormalization()(inner)\n",
    "'''\n",
    "inner = Conv2D(32, (3, 3), activation='elu', padding='same')(input_data)  \n",
    "inner = Activation('elu')(inner)\n",
    "inner = BatchNormalization()(inner)\n",
    "inner = MaxPooling2D(pool_size=(1, 2), name='max1')(inner)\n",
    "\n",
    "inner = Conv2D(64, (3, 3), activation='elu', padding='same')(input_data)  \n",
    "inner = Activation('elu')(inner)\n",
    "inner = BatchNormalization()(inner)\n",
    "'''\n",
    "\n",
    "inner = Conv2D(64, (3, 3), activation='elu', padding='same')(inner)\n",
    "inner = Activation('elu')(inner)\n",
    "inner = BatchNormalization()(inner)\n",
    "inner = MaxPooling2D(pool_size=(1, 2), name='max2')(inner)\n",
    "inner = Dropout(0.3)(inner)\n",
    "\n",
    "inner = Conv2D(128, (3, 3), activation='elu', padding='same')(input_data)  \n",
    "inner = Activation('elu')(inner)\n",
    "inner = BatchNormalization()(inner)\n",
    "inner = Conv2D(128, (3, 3), activation='elu', padding='same')(inner)\n",
    "inner = Activation('elu')(inner)\n",
    "inner = BatchNormalization()(inner)\n",
    "inner = MaxPooling2D(pool_size=(1, 2), name='max3')(inner)\n",
    "inner = Dropout(0.3)(inner)\n",
    "\n",
    "# CNN to RNN\n",
    "inner = Reshape(target_shape=((16,128*64)), name='reshape')(inner)\n",
    "inner = Dense(64, activation=\"softmax\", name='dense1')(inner)\n",
    "## RNN\n",
    "inner = Bidirectional(LSTM(128, return_sequences=True, dropout=0.25), name = 'lstm1')(inner)\n",
    "inner = Bidirectional(LSTM(64, return_sequences=True, dropout=0.25), name = 'lstm2')(inner)\n",
    "\n",
    "## OUTPUT\n",
    "inner = Dense(num_of_characters,name='dense2')(inner)\n",
    "y_pred = Activation('softmax', name='softmax')(inner)\n",
    "\n",
    "model = Model(inputs=input_data, outputs=y_pred)\n",
    "model.summary()"
   ]
  },
  {
   "cell_type": "code",
   "execution_count": 16,
   "metadata": {},
   "outputs": [],
   "source": [
    "# the ctc loss function\n",
    "def ctc_lambda_func(args):\n",
    "    y_pred, labels, input_length, label_length = args\n",
    "    # the 2 is critical here since the first couple outputs of the RNN\n",
    "    # tend to be garbage\n",
    "    #y_pred = y_pred[:, 2:, :]\n",
    "    return K.ctc_batch_cost(labels, y_pred, input_length, label_length)"
   ]
  },
  {
   "cell_type": "code",
   "execution_count": 17,
   "metadata": {},
   "outputs": [],
   "source": [
    "labels = Input(name='gtruth_labels', shape=[max_str_len], dtype='float32')\n",
    "input_length = Input(name='input_length', shape=[1], dtype='int64')\n",
    "label_length = Input(name='label_length', shape=[1], dtype='int64')\n",
    "\n",
    "ctc_loss = Lambda(ctc_lambda_func, output_shape=(1,), name='ctc')([y_pred, labels, input_length, label_length])\n",
    "model_final = Model(inputs=[input_data, labels, input_length, label_length], outputs=ctc_loss)"
   ]
  },
  {
   "cell_type": "code",
   "execution_count": 18,
   "metadata": {},
   "outputs": [
    {
     "name": "stdout",
     "output_type": "stream",
     "text": [
      "Epoch 1/150\n",
      "150/150 [==============================] - 1225s 8s/step - loss: 10.6629 - accuracy: 0.0000e+00 - val_loss: 12.9363 - val_accuracy: 0.0000e+00\n",
      "Epoch 2/150\n",
      "150/150 [==============================] - 1179s 8s/step - loss: 9.3364 - accuracy: 0.0000e+00 - val_loss: 9.0551 - val_accuracy: 0.0000e+00\n",
      "Epoch 3/150\n",
      "150/150 [==============================] - 1169s 8s/step - loss: 8.9643 - accuracy: 0.0000e+00 - val_loss: 9.4280 - val_accuracy: 0.0000e+00\n",
      "Epoch 4/150\n",
      "150/150 [==============================] - 1174s 8s/step - loss: 8.8066 - accuracy: 0.0000e+00 - val_loss: 8.6675 - val_accuracy: 0.0000e+00\n",
      "Epoch 5/150\n",
      "150/150 [==============================] - 1173s 8s/step - loss: 8.5883 - accuracy: 0.0000e+00 - val_loss: 8.7821 - val_accuracy: 0.0000e+00\n",
      "Epoch 6/150\n",
      "150/150 [==============================] - 1174s 8s/step - loss: 8.1288 - accuracy: 0.0000e+00 - val_loss: 8.3993 - val_accuracy: 0.0000e+00\n",
      "Epoch 7/150\n",
      "150/150 [==============================] - 1174s 8s/step - loss: 7.7623 - accuracy: 0.0000e+00 - val_loss: 8.1944 - val_accuracy: 0.0000e+00\n",
      "Epoch 8/150\n",
      "150/150 [==============================] - 1172s 8s/step - loss: 7.6020 - accuracy: 0.0000e+00 - val_loss: 9.2440 - val_accuracy: 0.0000e+00\n",
      "Epoch 9/150\n",
      "150/150 [==============================] - 1166s 8s/step - loss: 7.4375 - accuracy: 0.0000e+00 - val_loss: 8.3635 - val_accuracy: 0.0000e+00\n",
      "Epoch 10/150\n",
      "150/150 [==============================] - 1167s 8s/step - loss: 7.2601 - accuracy: 0.0000e+00 - val_loss: 7.7462 - val_accuracy: 0.0000e+00\n",
      "Epoch 11/150\n",
      "150/150 [==============================] - 1178s 8s/step - loss: 7.0854 - accuracy: 0.0000e+00 - val_loss: 8.3227 - val_accuracy: 0.0000e+00\n",
      "Epoch 12/150\n",
      "150/150 [==============================] - 1170s 8s/step - loss: 6.9389 - accuracy: 0.0000e+00 - val_loss: 11.0770 - val_accuracy: 0.0000e+00\n",
      "Epoch 13/150\n",
      "150/150 [==============================] - 1171s 8s/step - loss: 6.8126 - accuracy: 0.0000e+00 - val_loss: 6.9728 - val_accuracy: 0.0000e+00\n",
      "Epoch 14/150\n",
      "150/150 [==============================] - 1167s 8s/step - loss: 6.6772 - accuracy: 0.0000e+00 - val_loss: 8.5438 - val_accuracy: 0.0000e+00\n",
      "Epoch 15/150\n",
      "150/150 [==============================] - 1166s 8s/step - loss: 6.5484 - accuracy: 0.0000e+00 - val_loss: 8.2906 - val_accuracy: 0.0000e+00\n",
      "Epoch 16/150\n",
      "150/150 [==============================] - 1171s 8s/step - loss: 6.4399 - accuracy: 0.0000e+00 - val_loss: 7.6804 - val_accuracy: 0.0000e+00\n",
      "Epoch 17/150\n",
      "150/150 [==============================] - 1166s 8s/step - loss: 6.3497 - accuracy: 0.0000e+00 - val_loss: 8.8513 - val_accuracy: 0.0000e+00\n",
      "Epoch 18/150\n",
      "150/150 [==============================] - 1167s 8s/step - loss: 6.2547 - accuracy: 0.0000e+00 - val_loss: 8.5082 - val_accuracy: 0.0000e+00\n",
      "Epoch 19/150\n",
      "150/150 [==============================] - 1172s 8s/step - loss: 6.1721 - accuracy: 1.6667e-05 - val_loss: 6.3663 - val_accuracy: 1.5000e-04\n",
      "Epoch 20/150\n",
      "150/150 [==============================] - 1203s 8s/step - loss: 6.0943 - accuracy: 1.0000e-04 - val_loss: 9.8520 - val_accuracy: 0.0000e+00\n",
      "Epoch 21/150\n",
      "150/150 [==============================] - 1198s 8s/step - loss: 6.0229 - accuracy: 4.6667e-04 - val_loss: 6.5725 - val_accuracy: 4.5000e-04\n",
      "Epoch 22/150\n",
      "150/150 [==============================] - 1198s 8s/step - loss: 5.9528 - accuracy: 7.3333e-04 - val_loss: 9.1065 - val_accuracy: 0.0000e+00\n",
      "Epoch 23/150\n",
      "150/150 [==============================] - 1202s 8s/step - loss: 5.8768 - accuracy: 0.0013 - val_loss: 6.8869 - val_accuracy: 3.5000e-04\n",
      "Epoch 24/150\n",
      "150/150 [==============================] - 1227s 8s/step - loss: 5.7946 - accuracy: 0.0020 - val_loss: 6.3447 - val_accuracy: 3.0000e-04\n",
      "Epoch 25/150\n",
      "150/150 [==============================] - 1196s 8s/step - loss: 5.7251 - accuracy: 0.0025 - val_loss: 6.2786 - val_accuracy: 0.0022\n",
      "Epoch 26/150\n",
      "150/150 [==============================] - 1198s 8s/step - loss: 5.6497 - accuracy: 0.0030 - val_loss: 8.8286 - val_accuracy: 0.0000e+00\n",
      "Epoch 27/150\n",
      "150/150 [==============================] - 1195s 8s/step - loss: 5.5726 - accuracy: 0.0038 - val_loss: 10.1528 - val_accuracy: 0.0000e+00\n",
      "Epoch 28/150\n",
      "150/150 [==============================] - 1196s 8s/step - loss: 5.4820 - accuracy: 0.0041 - val_loss: 7.3614 - val_accuracy: 8.5000e-04\n",
      "Epoch 29/150\n",
      "150/150 [==============================] - 1195s 8s/step - loss: 5.4137 - accuracy: 0.0046 - val_loss: 5.7681 - val_accuracy: 0.0030\n",
      "Epoch 30/150\n",
      "150/150 [==============================] - 1192s 8s/step - loss: 5.3087 - accuracy: 0.0048 - val_loss: 6.4483 - val_accuracy: 0.0033\n",
      "Epoch 31/150\n",
      "150/150 [==============================] - 1193s 8s/step - loss: 5.2509 - accuracy: 0.0052 - val_loss: 5.2882 - val_accuracy: 0.0053\n",
      "Epoch 32/150\n",
      "150/150 [==============================] - 1195s 8s/step - loss: 5.1446 - accuracy: 0.0060 - val_loss: 8.3703 - val_accuracy: 3.0000e-04\n",
      "Epoch 33/150\n",
      "150/150 [==============================] - 1194s 8s/step - loss: 5.0587 - accuracy: 0.0066 - val_loss: 10.6469 - val_accuracy: 5.0000e-05\n",
      "Epoch 34/150\n",
      "150/150 [==============================] - 1193s 8s/step - loss: 4.9616 - accuracy: 0.0077 - val_loss: 6.9822 - val_accuracy: 0.0017\n",
      "Epoch 35/150\n",
      "150/150 [==============================] - 1194s 8s/step - loss: 4.9063 - accuracy: 0.0080 - val_loss: 8.4394 - val_accuracy: 5.5000e-04\n",
      "Epoch 36/150\n",
      "150/150 [==============================] - 1193s 8s/step - loss: 4.7801 - accuracy: 0.0091 - val_loss: 5.4722 - val_accuracy: 0.0062\n",
      "Epoch 37/150\n",
      "150/150 [==============================] - 1193s 8s/step - loss: 4.6741 - accuracy: 0.0098 - val_loss: 4.9343 - val_accuracy: 0.0058\n",
      "Epoch 38/150\n",
      "150/150 [==============================] - 1195s 8s/step - loss: 4.3917 - accuracy: 0.0106 - val_loss: 4.8440 - val_accuracy: 0.0063\n",
      "Epoch 39/150\n",
      "150/150 [==============================] - 1194s 8s/step - loss: 4.1901 - accuracy: 0.0132 - val_loss: 4.4830 - val_accuracy: 0.0133\n",
      "Epoch 40/150\n",
      "150/150 [==============================] - 1193s 8s/step - loss: 4.0692 - accuracy: 0.0156 - val_loss: 4.1536 - val_accuracy: 0.0181\n",
      "Epoch 41/150\n",
      "150/150 [==============================] - 1195s 8s/step - loss: 3.9230 - accuracy: 0.0179 - val_loss: 4.0501 - val_accuracy: 0.0203\n",
      "Epoch 42/150\n",
      "150/150 [==============================] - 1196s 8s/step - loss: 3.7544 - accuracy: 0.0233 - val_loss: 4.3697 - val_accuracy: 0.0168\n",
      "Epoch 43/150\n",
      "150/150 [==============================] - 1196s 8s/step - loss: 3.5422 - accuracy: 0.0300 - val_loss: 4.5638 - val_accuracy: 0.0189\n",
      "Epoch 44/150\n",
      "150/150 [==============================] - 1196s 8s/step - loss: 3.2578 - accuracy: 0.0447 - val_loss: 6.0776 - val_accuracy: 0.0108\n",
      "Epoch 45/150\n",
      "150/150 [==============================] - 1194s 8s/step - loss: 2.8992 - accuracy: 0.0752 - val_loss: 3.3627 - val_accuracy: 0.0598\n",
      "Epoch 46/150\n",
      "150/150 [==============================] - 1193s 8s/step - loss: 2.5248 - accuracy: 0.1260 - val_loss: 2.7322 - val_accuracy: 0.1221\n",
      "Epoch 47/150\n",
      "150/150 [==============================] - 1196s 8s/step - loss: 2.2468 - accuracy: 0.1901 - val_loss: 2.4562 - val_accuracy: 0.2069\n",
      "Epoch 48/150\n",
      "150/150 [==============================] - 1196s 8s/step - loss: 2.0344 - accuracy: 0.2509 - val_loss: 2.0143 - val_accuracy: 0.2889\n",
      "Epoch 49/150\n",
      "150/150 [==============================] - 1194s 8s/step - loss: 1.8455 - accuracy: 0.3178 - val_loss: 2.0583 - val_accuracy: 0.2634\n",
      "Epoch 50/150\n",
      "150/150 [==============================] - 1195s 8s/step - loss: 1.7010 - accuracy: 0.3700 - val_loss: 2.8193 - val_accuracy: 0.2621\n",
      "Epoch 51/150\n",
      "150/150 [==============================] - 1195s 8s/step - loss: 1.5789 - accuracy: 0.4146 - val_loss: 1.7099 - val_accuracy: 0.4078\n",
      "Epoch 52/150\n",
      "150/150 [==============================] - 1200s 8s/step - loss: 1.4519 - accuracy: 0.4590 - val_loss: 1.5753 - val_accuracy: 0.4435\n",
      "Epoch 53/150\n",
      "150/150 [==============================] - 1194s 8s/step - loss: 1.3501 - accuracy: 0.4983 - val_loss: 1.4114 - val_accuracy: 0.5055\n",
      "Epoch 54/150\n",
      "150/150 [==============================] - 1194s 8s/step - loss: 1.2677 - accuracy: 0.5277 - val_loss: 1.4545 - val_accuracy: 0.5153\n",
      "Epoch 55/150\n",
      "150/150 [==============================] - 1194s 8s/step - loss: 1.1908 - accuracy: 0.5568 - val_loss: 1.3065 - val_accuracy: 0.5638\n",
      "Epoch 56/150\n",
      "150/150 [==============================] - 1194s 8s/step - loss: 1.1341 - accuracy: 0.5770 - val_loss: 1.6105 - val_accuracy: 0.4934\n",
      "Epoch 57/150\n",
      "150/150 [==============================] - 1194s 8s/step - loss: 1.0711 - accuracy: 0.6020 - val_loss: 1.3234 - val_accuracy: 0.5821\n",
      "Epoch 58/150\n",
      "150/150 [==============================] - 1193s 8s/step - loss: 1.0510 - accuracy: 0.6091 - val_loss: 1.1477 - val_accuracy: 0.6254\n",
      "Epoch 59/150\n",
      "150/150 [==============================] - 1193s 8s/step - loss: 0.9795 - accuracy: 0.6315 - val_loss: 1.2501 - val_accuracy: 0.5706\n",
      "Epoch 60/150\n",
      "150/150 [==============================] - 1194s 8s/step - loss: 0.9276 - accuracy: 0.6500 - val_loss: 1.3291 - val_accuracy: 0.5864\n",
      "Epoch 61/150\n",
      "150/150 [==============================] - 1194s 8s/step - loss: 0.9133 - accuracy: 0.6563 - val_loss: 1.2945 - val_accuracy: 0.5753\n",
      "Epoch 62/150\n",
      "150/150 [==============================] - 1195s 8s/step - loss: 0.8699 - accuracy: 0.6747 - val_loss: 1.1930 - val_accuracy: 0.6257\n",
      "Epoch 63/150\n",
      "150/150 [==============================] - 1194s 8s/step - loss: 0.8149 - accuracy: 0.6930 - val_loss: 0.9812 - val_accuracy: 0.6926\n",
      "Epoch 64/150\n",
      "150/150 [==============================] - 1194s 8s/step - loss: 0.7964 - accuracy: 0.6997 - val_loss: 1.1167 - val_accuracy: 0.6607\n",
      "Epoch 65/150\n",
      "150/150 [==============================] - 1194s 8s/step - loss: 0.7699 - accuracy: 0.7084 - val_loss: 1.0978 - val_accuracy: 0.6689\n",
      "Epoch 66/150\n",
      "150/150 [==============================] - 1194s 8s/step - loss: 0.7513 - accuracy: 0.7151 - val_loss: 1.1907 - val_accuracy: 0.6193\n",
      "Epoch 67/150\n",
      "150/150 [==============================] - 1192s 8s/step - loss: 0.7205 - accuracy: 0.7255 - val_loss: 0.9950 - val_accuracy: 0.6643\n",
      "Epoch 68/150\n",
      "150/150 [==============================] - 1198s 8s/step - loss: 0.6970 - accuracy: 0.7328 - val_loss: 0.9954 - val_accuracy: 0.6960\n",
      "Epoch 69/150\n",
      "150/150 [==============================] - 1194s 8s/step - loss: 0.6853 - accuracy: 0.7374 - val_loss: 1.0030 - val_accuracy: 0.6970\n",
      "Epoch 70/150\n",
      "150/150 [==============================] - 1194s 8s/step - loss: 0.6554 - accuracy: 0.7483 - val_loss: 1.1692 - val_accuracy: 0.6331\n",
      "Epoch 71/150\n",
      "150/150 [==============================] - 1196s 8s/step - loss: 0.6329 - accuracy: 0.7546 - val_loss: 1.2162 - val_accuracy: 0.5883\n",
      "Epoch 72/150\n",
      "150/150 [==============================] - 1198s 8s/step - loss: 0.6783 - accuracy: 0.7390 - val_loss: 0.9307 - val_accuracy: 0.7312\n",
      "Epoch 73/150\n",
      "150/150 [==============================] - 1194s 8s/step - loss: 0.6115 - accuracy: 0.7642 - val_loss: 0.8918 - val_accuracy: 0.7370\n",
      "Epoch 74/150\n",
      "150/150 [==============================] - 1209s 8s/step - loss: 0.5901 - accuracy: 0.7710 - val_loss: 1.7599 - val_accuracy: 0.5522\n",
      "Epoch 75/150\n",
      "150/150 [==============================] - 1205s 8s/step - loss: 0.5654 - accuracy: 0.7819 - val_loss: 0.8385 - val_accuracy: 0.7476\n",
      "Epoch 76/150\n",
      "150/150 [==============================] - 1204s 8s/step - loss: 0.5520 - accuracy: 0.7845 - val_loss: 0.9260 - val_accuracy: 0.7329\n",
      "Epoch 77/150\n",
      "150/150 [==============================] - 1205s 8s/step - loss: 0.5337 - accuracy: 0.7936 - val_loss: 1.0440 - val_accuracy: 0.6961\n",
      "Epoch 78/150\n",
      "150/150 [==============================] - 1204s 8s/step - loss: 0.5216 - accuracy: 0.7976 - val_loss: 0.8919 - val_accuracy: 0.7449\n",
      "Epoch 79/150\n",
      "150/150 [==============================] - 1207s 8s/step - loss: 0.5157 - accuracy: 0.7973 - val_loss: 1.1378 - val_accuracy: 0.6941\n",
      "Epoch 80/150\n",
      "150/150 [==============================] - 1204s 8s/step - loss: 0.4984 - accuracy: 0.8046 - val_loss: 0.8474 - val_accuracy: 0.7647\n",
      "Epoch 81/150\n",
      "150/150 [==============================] - 1211s 8s/step - loss: 0.4883 - accuracy: 0.8071 - val_loss: 0.9036 - val_accuracy: 0.7520\n",
      "Epoch 82/150\n",
      "150/150 [==============================] - 1204s 8s/step - loss: 0.4843 - accuracy: 0.8100 - val_loss: 0.9321 - val_accuracy: 0.7211\n",
      "Epoch 83/150\n",
      "150/150 [==============================] - 1203s 8s/step - loss: 0.4709 - accuracy: 0.8128 - val_loss: 0.9697 - val_accuracy: 0.7311\n",
      "Epoch 84/150\n",
      "150/150 [==============================] - 1204s 8s/step - loss: 0.4558 - accuracy: 0.8181 - val_loss: 0.8705 - val_accuracy: 0.7527\n",
      "Epoch 85/150\n",
      "150/150 [==============================] - 1205s 8s/step - loss: 0.4860 - accuracy: 0.8090 - val_loss: 0.8631 - val_accuracy: 0.7618\n",
      "Epoch 86/150\n",
      "150/150 [==============================] - 1206s 8s/step - loss: 0.4468 - accuracy: 0.8227 - val_loss: 0.8758 - val_accuracy: 0.7566\n",
      "Epoch 87/150\n",
      "150/150 [==============================] - 1206s 8s/step - loss: 0.4276 - accuracy: 0.8300 - val_loss: 0.9842 - val_accuracy: 0.7317\n",
      "Epoch 88/150\n",
      "150/150 [==============================] - 1207s 8s/step - loss: 0.4240 - accuracy: 0.8280 - val_loss: 1.4077 - val_accuracy: 0.6307\n",
      "Epoch 89/150\n",
      "150/150 [==============================] - 1204s 8s/step - loss: 0.4178 - accuracy: 0.8317 - val_loss: 0.8813 - val_accuracy: 0.7712\n",
      "Epoch 90/150\n",
      "150/150 [==============================] - 1205s 8s/step - loss: 0.4054 - accuracy: 0.8360 - val_loss: 0.8284 - val_accuracy: 0.7809\n",
      "Epoch 91/150\n",
      "150/150 [==============================] - 1206s 8s/step - loss: 0.4131 - accuracy: 0.8340 - val_loss: 0.8767 - val_accuracy: 0.7569\n",
      "Epoch 92/150\n",
      "150/150 [==============================] - 1205s 8s/step - loss: 0.3907 - accuracy: 0.8439 - val_loss: 0.8672 - val_accuracy: 0.7843\n",
      "Epoch 93/150\n",
      "150/150 [==============================] - 1205s 8s/step - loss: 0.3977 - accuracy: 0.8393 - val_loss: 1.4793 - val_accuracy: 0.6728\n",
      "Epoch 94/150\n",
      "150/150 [==============================] - 1207s 8s/step - loss: 0.3892 - accuracy: 0.8418 - val_loss: 0.9275 - val_accuracy: 0.7584\n",
      "Epoch 95/150\n",
      "150/150 [==============================] - 1208s 8s/step - loss: 0.3987 - accuracy: 0.8395 - val_loss: 0.9356 - val_accuracy: 0.7532\n",
      "Epoch 96/150\n",
      "150/150 [==============================] - 1204s 8s/step - loss: 0.3744 - accuracy: 0.8477 - val_loss: 0.8318 - val_accuracy: 0.7986\n",
      "Epoch 97/150\n",
      "150/150 [==============================] - 1204s 8s/step - loss: 0.3625 - accuracy: 0.8529 - val_loss: 1.1185 - val_accuracy: 0.7336\n",
      "Epoch 98/150\n",
      "150/150 [==============================] - 1204s 8s/step - loss: 0.3573 - accuracy: 0.8541 - val_loss: 1.1541 - val_accuracy: 0.7291\n",
      "Epoch 99/150\n",
      "150/150 [==============================] - 1204s 8s/step - loss: 0.3491 - accuracy: 0.8585 - val_loss: 1.0571 - val_accuracy: 0.7473\n",
      "Epoch 100/150\n",
      "150/150 [==============================] - 1204s 8s/step - loss: 0.3407 - accuracy: 0.8597 - val_loss: 0.8995 - val_accuracy: 0.7515\n",
      "Epoch 101/150\n",
      "150/150 [==============================] - 1202s 8s/step - loss: 0.3396 - accuracy: 0.8619 - val_loss: 0.9624 - val_accuracy: 0.7630\n",
      "Epoch 102/150\n",
      "150/150 [==============================] - 1204s 8s/step - loss: 0.3280 - accuracy: 0.8638 - val_loss: 0.8181 - val_accuracy: 0.7824\n",
      "Epoch 103/150\n",
      "150/150 [==============================] - 1204s 8s/step - loss: 0.3308 - accuracy: 0.8617 - val_loss: 1.7809 - val_accuracy: 0.6187\n",
      "Epoch 104/150\n",
      "150/150 [==============================] - 1203s 8s/step - loss: 0.3147 - accuracy: 0.8700 - val_loss: 0.7886 - val_accuracy: 0.7947\n",
      "Epoch 105/150\n",
      "150/150 [==============================] - 1205s 8s/step - loss: 0.3159 - accuracy: 0.8704 - val_loss: 0.7952 - val_accuracy: 0.8069\n",
      "Epoch 106/150\n",
      "150/150 [==============================] - 1203s 8s/step - loss: 0.3031 - accuracy: 0.8738 - val_loss: 0.8054 - val_accuracy: 0.8022\n",
      "Epoch 107/150\n",
      "150/150 [==============================] - 1224s 8s/step - loss: 0.3046 - accuracy: 0.8724 - val_loss: 1.0862 - val_accuracy: 0.7452\n",
      "Epoch 108/150\n",
      "150/150 [==============================] - 1204s 8s/step - loss: 0.3844 - accuracy: 0.8436 - val_loss: 1.1110 - val_accuracy: 0.7084\n",
      "Epoch 109/150\n",
      "150/150 [==============================] - 1201s 8s/step - loss: 0.6746 - accuracy: 0.7383 - val_loss: 16.1435 - val_accuracy: 0.0083\n",
      "Epoch 110/150\n",
      "150/150 [==============================] - 1203s 8s/step - loss: 0.4852 - accuracy: 0.8094 - val_loss: 0.8877 - val_accuracy: 0.7689\n",
      "Epoch 111/150\n",
      "150/150 [==============================] - 1202s 8s/step - loss: 0.3943 - accuracy: 0.8388 - val_loss: 1.0153 - val_accuracy: 0.7602\n",
      "Epoch 112/150\n",
      "150/150 [==============================] - 1201s 8s/step - loss: 0.3607 - accuracy: 0.8532 - val_loss: 1.0520 - val_accuracy: 0.7305\n",
      "Epoch 113/150\n",
      "150/150 [==============================] - 1202s 8s/step - loss: 0.2945 - accuracy: 0.8767 - val_loss: 0.7640 - val_accuracy: 0.8046\n",
      "Epoch 114/150\n",
      "150/150 [==============================] - 1203s 8s/step - loss: 0.2871 - accuracy: 0.8782 - val_loss: 0.8247 - val_accuracy: 0.7939\n",
      "Epoch 115/150\n",
      "150/150 [==============================] - 1204s 8s/step - loss: 0.2840 - accuracy: 0.8802 - val_loss: 0.8248 - val_accuracy: 0.8033\n",
      "Epoch 116/150\n",
      "150/150 [==============================] - 1202s 8s/step - loss: 0.2897 - accuracy: 0.8794 - val_loss: 1.3200 - val_accuracy: 0.7163\n",
      "Epoch 117/150\n",
      "150/150 [==============================] - 1204s 8s/step - loss: 0.2749 - accuracy: 0.8836 - val_loss: 0.7765 - val_accuracy: 0.8091\n",
      "Epoch 118/150\n",
      "150/150 [==============================] - 1203s 8s/step - loss: 0.2780 - accuracy: 0.8839 - val_loss: 0.9712 - val_accuracy: 0.7483\n",
      "Epoch 119/150\n",
      "150/150 [==============================] - 1204s 8s/step - loss: 0.2692 - accuracy: 0.8855 - val_loss: 0.9057 - val_accuracy: 0.7702\n",
      "Epoch 120/150\n",
      "150/150 [==============================] - 1204s 8s/step - loss: 0.2620 - accuracy: 0.8893 - val_loss: 0.7916 - val_accuracy: 0.8049\n",
      "Epoch 121/150\n",
      "150/150 [==============================] - 1202s 8s/step - loss: 0.2546 - accuracy: 0.8925 - val_loss: 0.8169 - val_accuracy: 0.8011\n",
      "Epoch 122/150\n",
      "150/150 [==============================] - 1202s 8s/step - loss: 0.2611 - accuracy: 0.8892 - val_loss: 0.9464 - val_accuracy: 0.7792\n",
      "Epoch 123/150\n",
      "150/150 [==============================] - 1202s 8s/step - loss: 0.2585 - accuracy: 0.8912 - val_loss: 0.9419 - val_accuracy: 0.7726\n",
      "Epoch 124/150\n",
      "150/150 [==============================] - 1201s 8s/step - loss: 0.2586 - accuracy: 0.8894 - val_loss: 2.0542 - val_accuracy: 0.6113\n",
      "Epoch 125/150\n",
      "150/150 [==============================] - 1203s 8s/step - loss: 0.2576 - accuracy: 0.8908 - val_loss: 1.3230 - val_accuracy: 0.6294\n",
      "Epoch 126/150\n",
      "150/150 [==============================] - 1202s 8s/step - loss: 0.2484 - accuracy: 0.8929 - val_loss: 0.8244 - val_accuracy: 0.8095\n",
      "Epoch 127/150\n",
      "150/150 [==============================] - 1200s 8s/step - loss: 0.2793 - accuracy: 0.8822 - val_loss: 2.5604 - val_accuracy: 0.5307\n",
      "Epoch 128/150\n",
      "150/150 [==============================] - 1202s 8s/step - loss: 0.4223 - accuracy: 0.8312 - val_loss: 1.5563 - val_accuracy: 0.6503\n",
      "Epoch 129/150\n",
      "150/150 [==============================] - 1201s 8s/step - loss: 0.3596 - accuracy: 0.8521 - val_loss: 0.8427 - val_accuracy: 0.8001\n",
      "Epoch 130/150\n",
      "150/150 [==============================] - 1200s 8s/step - loss: 0.3740 - accuracy: 0.8479 - val_loss: 0.8505 - val_accuracy: 0.7873\n",
      "Epoch 131/150\n",
      "150/150 [==============================] - 1203s 8s/step - loss: 0.3167 - accuracy: 0.8659 - val_loss: 0.8863 - val_accuracy: 0.7670\n",
      "Epoch 132/150\n",
      "150/150 [==============================] - 1202s 8s/step - loss: 0.3410 - accuracy: 0.8581 - val_loss: 13.2188 - val_accuracy: 0.0187\n",
      "Epoch 133/150\n",
      "150/150 [==============================] - 1202s 8s/step - loss: 0.4457 - accuracy: 0.8207 - val_loss: 0.9171 - val_accuracy: 0.7782\n",
      "Epoch 134/150\n",
      "150/150 [==============================] - 1203s 8s/step - loss: 0.3250 - accuracy: 0.8654 - val_loss: 0.8841 - val_accuracy: 0.7919\n",
      "Epoch 135/150\n",
      "150/150 [==============================] - 1202s 8s/step - loss: 0.3034 - accuracy: 0.8727 - val_loss: 1.2776 - val_accuracy: 0.7129\n",
      "Epoch 136/150\n",
      "150/150 [==============================] - 1201s 8s/step - loss: 0.2842 - accuracy: 0.8784 - val_loss: 0.7849 - val_accuracy: 0.8171\n",
      "Epoch 137/150\n",
      "150/150 [==============================] - 1202s 8s/step - loss: 0.3127 - accuracy: 0.8701 - val_loss: 1.2165 - val_accuracy: 0.6753\n",
      "Epoch 138/150\n",
      "150/150 [==============================] - 1203s 8s/step - loss: 0.2971 - accuracy: 0.8748 - val_loss: 0.9625 - val_accuracy: 0.7530\n",
      "Epoch 139/150\n",
      "150/150 [==============================] - 1204s 8s/step - loss: 0.3081 - accuracy: 0.8744 - val_loss: 3.5123 - val_accuracy: 0.4539\n",
      "Epoch 140/150\n",
      "150/150 [==============================] - 1203s 8s/step - loss: 0.3972 - accuracy: 0.8395 - val_loss: 21.0136 - val_accuracy: 0.0016\n",
      "Epoch 141/150\n",
      "150/150 [==============================] - 1202s 8s/step - loss: 0.3340 - accuracy: 0.8591 - val_loss: 1.6407 - val_accuracy: 0.6532\n",
      "Epoch 142/150\n",
      "150/150 [==============================] - 1202s 8s/step - loss: 0.3408 - accuracy: 0.8590 - val_loss: 0.7807 - val_accuracy: 0.8055\n",
      "Epoch 143/150\n",
      "150/150 [==============================] - 1203s 8s/step - loss: 0.2554 - accuracy: 0.8888 - val_loss: 1.1525 - val_accuracy: 0.7450\n",
      "Epoch 144/150\n",
      "150/150 [==============================] - 1201s 8s/step - loss: 0.2829 - accuracy: 0.8792 - val_loss: 0.8750 - val_accuracy: 0.7966\n",
      "Epoch 145/150\n",
      "150/150 [==============================] - 1205s 8s/step - loss: 0.2808 - accuracy: 0.8818 - val_loss: 1.2082 - val_accuracy: 0.7157\n",
      "Epoch 146/150\n",
      "150/150 [==============================] - 1203s 8s/step - loss: 0.2831 - accuracy: 0.8801 - val_loss: 1.5245 - val_accuracy: 0.6271\n",
      "Epoch 147/150\n",
      "150/150 [==============================] - 1205s 8s/step - loss: 0.2694 - accuracy: 0.8861 - val_loss: 0.8175 - val_accuracy: 0.7975\n",
      "Epoch 148/150\n",
      "150/150 [==============================] - 1206s 8s/step - loss: 0.2673 - accuracy: 0.8871 - val_loss: 0.7857 - val_accuracy: 0.8023\n",
      "Epoch 149/150\n",
      "150/150 [==============================] - 1204s 8s/step - loss: 0.3007 - accuracy: 0.8738 - val_loss: 1.1498 - val_accuracy: 0.7548\n",
      "Epoch 150/150\n",
      "150/150 [==============================] - 1205s 8s/step - loss: 0.2766 - accuracy: 0.8802 - val_loss: 0.9273 - val_accuracy: 0.7880\n"
     ]
    }
   ],
   "source": [
    "# the loss calculation occurs elsewhere, so we use a dummy lambda function for the loss\n",
    "from tensorflow import keras\n",
    "model_final.compile(loss={'ctc': lambda y_true, y_pred: y_pred}, optimizer=keras.optimizers.Adam(learning_rate=0.001),\n",
    "                  metrics=['accuracy'])\n",
    "\n",
    "\n",
    "history = model_final.fit(x=[train_x, train_y, train_input_len, train_label_len], y=train_output, \n",
    "                validation_data=([test_x, test_y, test_input_len, test_label_len], test_output),\n",
    "                epochs=150, verbose=1, batch_size=400)"
   ]
  },
  {
   "cell_type": "code",
   "execution_count": 19,
   "metadata": {},
   "outputs": [
    {
     "data": {
      "application/vnd.plotly.v1+json": {
       "config": {
        "plotlyServerURL": "https://plot.ly"
       },
       "data": [
        {
         "line": {
          "color": "blue"
         },
         "mode": "lines",
         "name": "Train",
         "type": "scatter",
         "x": [
          1,
          2,
          3,
          4,
          5,
          6,
          7,
          8,
          9,
          10,
          11,
          12,
          13,
          14,
          15,
          16,
          17,
          18,
          19,
          20,
          21,
          22,
          23,
          24,
          25,
          26,
          27,
          28,
          29,
          30,
          31,
          32,
          33,
          34,
          35,
          36,
          37,
          38,
          39,
          40,
          41,
          42,
          43,
          44,
          45,
          46,
          47,
          48,
          49,
          50,
          51,
          52,
          53,
          54,
          55,
          56,
          57,
          58,
          59,
          60,
          61,
          62,
          63,
          64,
          65,
          66,
          67,
          68,
          69,
          70,
          71,
          72,
          73,
          74,
          75,
          76,
          77,
          78,
          79,
          80,
          81,
          82,
          83,
          84,
          85,
          86,
          87,
          88,
          89,
          90,
          91,
          92,
          93,
          94,
          95,
          96,
          97,
          98,
          99,
          100,
          101,
          102,
          103,
          104,
          105,
          106,
          107,
          108,
          109,
          110,
          111,
          112,
          113,
          114,
          115,
          116,
          117,
          118,
          119,
          120,
          121,
          122,
          123,
          124,
          125,
          126,
          127,
          128,
          129,
          130,
          131,
          132,
          133,
          134,
          135,
          136,
          137,
          138,
          139,
          140,
          141,
          142,
          143,
          144,
          145,
          146,
          147,
          148,
          149,
          150
         ],
         "xaxis": "x",
         "y": [
          0,
          0,
          0,
          0,
          0,
          0,
          0,
          0,
          0,
          0,
          0,
          0,
          0,
          0,
          0,
          0,
          0,
          0,
          0.000016666666851961054,
          0.00009999999747378752,
          0.0004666666791308671,
          0.000733333348762244,
          0.0013166667195037007,
          0.002033333294093609,
          0.0024666667450219393,
          0.0030333332251757383,
          0.0038333332631736994,
          0.004100000020116568,
          0.004566666670143604,
          0.004783333279192448,
          0.005150000099092722,
          0.005966666620224714,
          0.006550000049173832,
          0.00774999987334013,
          0.008016666397452354,
          0.009050000458955765,
          0.00976666621863842,
          0.010599999688565731,
          0.013166666962206364,
          0.015583333559334278,
          0.017916666343808174,
          0.023266667500138283,
          0.02995000034570694,
          0.04466666653752327,
          0.07519999891519547,
          0.12603333592414856,
          0.19005000591278076,
          0.25093331933021545,
          0.3177666664123535,
          0.3700166642665863,
          0.4146166741847992,
          0.45899999141693115,
          0.49834999442100525,
          0.5277000069618225,
          0.5568333268165588,
          0.5769500136375427,
          0.6019999980926514,
          0.6091333627700806,
          0.6315000057220459,
          0.6500499844551086,
          0.6562666893005371,
          0.6747166514396667,
          0.6930000185966492,
          0.699733316898346,
          0.708383321762085,
          0.7150999903678894,
          0.7254833579063416,
          0.7328166961669922,
          0.7373999953269958,
          0.748283326625824,
          0.7545666694641113,
          0.7390000224113464,
          0.7641666531562805,
          0.7709833383560181,
          0.7819166779518127,
          0.784500002861023,
          0.793583333492279,
          0.7975833415985107,
          0.7973333597183228,
          0.8045833110809326,
          0.8070833086967468,
          0.8100166916847229,
          0.8128499984741211,
          0.8180500268936157,
          0.8089666962623596,
          0.8227499723434448,
          0.830049991607666,
          0.8280333280563354,
          0.831683337688446,
          0.8359500169754028,
          0.8340499997138977,
          0.8439000248908997,
          0.8392666578292847,
          0.841783344745636,
          0.8394666910171509,
          0.8477166891098022,
          0.8528500199317932,
          0.8540666699409485,
          0.8585000038146973,
          0.8597000241279602,
          0.8619333505630493,
          0.8637999892234802,
          0.8617166876792908,
          0.8699833154678345,
          0.8704166412353516,
          0.8737833499908447,
          0.8724166750907898,
          0.8436499834060669,
          0.7382833361625671,
          0.8093500137329102,
          0.8388000130653381,
          0.8532166481018066,
          0.876716673374176,
          0.8781833052635193,
          0.8802333474159241,
          0.8794333338737488,
          0.8835999965667725,
          0.883899986743927,
          0.8854666948318481,
          0.8893499970436096,
          0.8924999833106995,
          0.8891833424568176,
          0.8911666870117188,
          0.8893666863441467,
          0.89083331823349,
          0.8928666710853577,
          0.8822333216667175,
          0.8312000036239624,
          0.852066695690155,
          0.8478666543960571,
          0.865933358669281,
          0.8581166863441467,
          0.8206666707992554,
          0.8653833270072937,
          0.8727333545684814,
          0.8783666491508484,
          0.8700500130653381,
          0.8747833371162415,
          0.8744333386421204,
          0.8394833207130432,
          0.8590666651725769,
          0.8590166568756104,
          0.8888166546821594,
          0.8792333602905273,
          0.8818333148956299,
          0.880050003528595,
          0.8860666751861572,
          0.88714998960495,
          0.8738166689872742,
          0.8802000284194946
         ],
         "yaxis": "y"
        },
        {
         "line": {
          "color": "orange"
         },
         "mode": "lines",
         "name": "Validation",
         "type": "scatter",
         "x": [
          1,
          2,
          3,
          4,
          5,
          6,
          7,
          8,
          9,
          10,
          11,
          12,
          13,
          14,
          15,
          16,
          17,
          18,
          19,
          20,
          21,
          22,
          23,
          24,
          25,
          26,
          27,
          28,
          29,
          30,
          31,
          32,
          33,
          34,
          35,
          36,
          37,
          38,
          39,
          40,
          41,
          42,
          43,
          44,
          45,
          46,
          47,
          48,
          49,
          50,
          51,
          52,
          53,
          54,
          55,
          56,
          57,
          58,
          59,
          60,
          61,
          62,
          63,
          64,
          65,
          66,
          67,
          68,
          69,
          70,
          71,
          72,
          73,
          74,
          75,
          76,
          77,
          78,
          79,
          80,
          81,
          82,
          83,
          84,
          85,
          86,
          87,
          88,
          89,
          90,
          91,
          92,
          93,
          94,
          95,
          96,
          97,
          98,
          99,
          100,
          101,
          102,
          103,
          104,
          105,
          106,
          107,
          108,
          109,
          110,
          111,
          112,
          113,
          114,
          115,
          116,
          117,
          118,
          119,
          120,
          121,
          122,
          123,
          124,
          125,
          126,
          127,
          128,
          129,
          130,
          131,
          132,
          133,
          134,
          135,
          136,
          137,
          138,
          139,
          140,
          141,
          142,
          143,
          144,
          145,
          146,
          147,
          148,
          149,
          150
         ],
         "xaxis": "x",
         "y": [
          0,
          0,
          0,
          0,
          0,
          0,
          0,
          0,
          0,
          0,
          0,
          0,
          0,
          0,
          0,
          0,
          0,
          0,
          0.0001500000071246177,
          0,
          0.00044999999227002263,
          0,
          0.0003499999875202775,
          0.0003000000142492354,
          0.0022499999031424522,
          0,
          0,
          0.0008500000112690032,
          0.003000000026077032,
          0.0032999999821186066,
          0.0052999998442828655,
          0.0003000000142492354,
          0.00004999999873689376,
          0.0017000000225380063,
          0.0005499999970197678,
          0.006200000178068876,
          0.005799999926239252,
          0.006300000008195639,
          0.013299999758601189,
          0.018050000071525574,
          0.0203000009059906,
          0.016750000417232513,
          0.01889999955892563,
          0.01080000028014183,
          0.05979999899864197,
          0.12205000221729279,
          0.20694999396800995,
          0.28894999623298645,
          0.2633500099182129,
          0.2621000111103058,
          0.40779998898506165,
          0.4435499906539917,
          0.5055000185966492,
          0.515250027179718,
          0.5637500286102295,
          0.49344998598098755,
          0.582099974155426,
          0.6254000067710876,
          0.5706499814987183,
          0.5863999724388123,
          0.5752999782562256,
          0.6256999969482422,
          0.6926000118255615,
          0.6607000231742859,
          0.6688500046730042,
          0.6193000078201294,
          0.6643000245094299,
          0.6960499882698059,
          0.6969500184059143,
          0.6331499814987183,
          0.5883499979972839,
          0.731249988079071,
          0.7369999885559082,
          0.5522000193595886,
          0.7475500106811523,
          0.73294997215271,
          0.6960999965667725,
          0.7448999881744385,
          0.6940500140190125,
          0.7646999955177307,
          0.75204998254776,
          0.7210500240325928,
          0.7311000227928162,
          0.7527499794960022,
          0.7618499994277954,
          0.7566499710083008,
          0.7317000031471252,
          0.6306999921798706,
          0.7712000012397766,
          0.7809000015258789,
          0.7569000124931335,
          0.7843499779701233,
          0.6728000044822693,
          0.7583500146865845,
          0.7531999945640564,
          0.7986000180244446,
          0.7336000204086304,
          0.7291499972343445,
          0.7473499774932861,
          0.7515000104904175,
          0.7630000114440918,
          0.7824000120162964,
          0.6186500191688538,
          0.794700026512146,
          0.8069000244140625,
          0.8021500110626221,
          0.7452499866485596,
          0.7084000110626221,
          0.008349999785423279,
          0.7688999772071838,
          0.760200023651123,
          0.7304999828338623,
          0.8046000003814697,
          0.7938500046730042,
          0.8033000230789185,
          0.7162500023841858,
          0.8090500235557556,
          0.7482500076293945,
          0.7701500058174133,
          0.8049499988555908,
          0.8010500073432922,
          0.77920001745224,
          0.772599995136261,
          0.6113499999046326,
          0.6293500065803528,
          0.8095499873161316,
          0.5307000279426575,
          0.6503000259399414,
          0.8001499772071838,
          0.7873499989509583,
          0.7669500112533569,
          0.018650000914931297,
          0.7781999707221985,
          0.7918999791145325,
          0.7129499912261963,
          0.8171499967575073,
          0.6753000020980835,
          0.7529500126838684,
          0.4539499878883362,
          0.001550000044517219,
          0.6531500220298767,
          0.8054999709129333,
          0.7450000047683716,
          0.7966499924659729,
          0.715749979019165,
          0.6271499991416931,
          0.7974500060081482,
          0.802299976348877,
          0.7548499703407288,
          0.7880499958992004
         ],
         "yaxis": "y"
        },
        {
         "line": {
          "color": "blue"
         },
         "mode": "lines",
         "name": "Train",
         "showlegend": false,
         "type": "scatter",
         "x": [
          1,
          2,
          3,
          4,
          5,
          6,
          7,
          8,
          9,
          10,
          11,
          12,
          13,
          14,
          15,
          16,
          17,
          18,
          19,
          20,
          21,
          22,
          23,
          24,
          25,
          26,
          27,
          28,
          29,
          30,
          31,
          32,
          33,
          34,
          35,
          36,
          37,
          38,
          39,
          40,
          41,
          42,
          43,
          44,
          45,
          46,
          47,
          48,
          49,
          50,
          51,
          52,
          53,
          54,
          55,
          56,
          57,
          58,
          59,
          60,
          61,
          62,
          63,
          64,
          65,
          66,
          67,
          68,
          69,
          70,
          71,
          72,
          73,
          74,
          75,
          76,
          77,
          78,
          79,
          80,
          81,
          82,
          83,
          84,
          85,
          86,
          87,
          88,
          89,
          90,
          91,
          92,
          93,
          94,
          95,
          96,
          97,
          98,
          99,
          100,
          101,
          102,
          103,
          104,
          105,
          106,
          107,
          108,
          109,
          110,
          111,
          112,
          113,
          114,
          115,
          116,
          117,
          118,
          119,
          120,
          121,
          122,
          123,
          124,
          125,
          126,
          127,
          128,
          129,
          130,
          131,
          132,
          133,
          134,
          135,
          136,
          137,
          138,
          139,
          140,
          141,
          142,
          143,
          144,
          145,
          146,
          147,
          148,
          149,
          150
         ],
         "xaxis": "x2",
         "y": [
          10.66289234161377,
          9.336437225341797,
          8.96429443359375,
          8.80662727355957,
          8.588319778442383,
          8.128808975219727,
          7.762339115142822,
          7.602015495300293,
          7.437498092651367,
          7.260074138641357,
          7.085402488708496,
          6.938906669616699,
          6.812551975250244,
          6.677182674407959,
          6.548361778259277,
          6.439920902252197,
          6.349737644195557,
          6.254735946655273,
          6.172100067138672,
          6.094295978546143,
          6.022927284240723,
          5.952816009521484,
          5.876804351806641,
          5.794645309448242,
          5.725141525268555,
          5.64974308013916,
          5.572608470916748,
          5.481980323791504,
          5.413691520690918,
          5.3087334632873535,
          5.2509026527404785,
          5.1446027755737305,
          5.058740615844727,
          4.961637020111084,
          4.906304359436035,
          4.780064105987549,
          4.674131393432617,
          4.391695022583008,
          4.190148830413818,
          4.069238662719727,
          3.9229705333709717,
          3.7543721199035645,
          3.5422074794769287,
          3.2578225135803223,
          2.899212121963501,
          2.5247628688812256,
          2.246795654296875,
          2.034355878829956,
          1.845474362373352,
          1.7010003328323364,
          1.5789271593093872,
          1.4518595933914185,
          1.35013747215271,
          1.2676509618759155,
          1.1907920837402344,
          1.1341191530227661,
          1.0711013078689575,
          1.0510101318359375,
          0.9794818758964539,
          0.927584171295166,
          0.9132614135742188,
          0.8698855042457581,
          0.8149473667144775,
          0.7963638305664062,
          0.769909679889679,
          0.7512981295585632,
          0.7205289602279663,
          0.697037398815155,
          0.6852756142616272,
          0.6554450988769531,
          0.6329247951507568,
          0.6782861351966858,
          0.6115161180496216,
          0.5900822281837463,
          0.5654438138008118,
          0.5519919991493225,
          0.5336859822273254,
          0.5215875506401062,
          0.5157228708267212,
          0.49838942289352417,
          0.4883434474468231,
          0.4843349754810333,
          0.47092363238334656,
          0.45582592487335205,
          0.48604875802993774,
          0.4468115568161011,
          0.4276013970375061,
          0.4239952266216278,
          0.4177851378917694,
          0.4054422080516815,
          0.41307851672172546,
          0.39069443941116333,
          0.3977278172969818,
          0.38917919993400574,
          0.3986690640449524,
          0.3744323253631592,
          0.36254772543907166,
          0.35730430483818054,
          0.3490999639034271,
          0.34069472551345825,
          0.33957013487815857,
          0.3280005156993866,
          0.33077889680862427,
          0.3146611750125885,
          0.3158597946166992,
          0.303120493888855,
          0.3046253025531769,
          0.38436681032180786,
          0.6745800971984863,
          0.48516568541526794,
          0.3943067789077759,
          0.36070331931114197,
          0.2944594621658325,
          0.28714698553085327,
          0.28404533863067627,
          0.289685994386673,
          0.274890273809433,
          0.2780023217201233,
          0.26919642090797424,
          0.2620190978050232,
          0.25455358624458313,
          0.2611324191093445,
          0.2585340142250061,
          0.2586215138435364,
          0.25755077600479126,
          0.24841713905334473,
          0.279297798871994,
          0.4223407208919525,
          0.3596043288707733,
          0.37400153279304504,
          0.31674328446388245,
          0.3409508764743805,
          0.4457070231437683,
          0.32497379183769226,
          0.3034314513206482,
          0.2842237949371338,
          0.31266507506370544,
          0.297143816947937,
          0.30806803703308105,
          0.3972291052341461,
          0.3339618742465973,
          0.3407864272594452,
          0.25535503029823303,
          0.2829098403453827,
          0.28075358271598816,
          0.28313562273979187,
          0.26935186982154846,
          0.2672765552997589,
          0.3007148206233978,
          0.27664023637771606
         ],
         "yaxis": "y2"
        },
        {
         "line": {
          "color": "orange"
         },
         "mode": "lines",
         "name": "Validation",
         "showlegend": false,
         "type": "scatter",
         "x": [
          1,
          2,
          3,
          4,
          5,
          6,
          7,
          8,
          9,
          10,
          11,
          12,
          13,
          14,
          15,
          16,
          17,
          18,
          19,
          20,
          21,
          22,
          23,
          24,
          25,
          26,
          27,
          28,
          29,
          30,
          31,
          32,
          33,
          34,
          35,
          36,
          37,
          38,
          39,
          40,
          41,
          42,
          43,
          44,
          45,
          46,
          47,
          48,
          49,
          50,
          51,
          52,
          53,
          54,
          55,
          56,
          57,
          58,
          59,
          60,
          61,
          62,
          63,
          64,
          65,
          66,
          67,
          68,
          69,
          70,
          71,
          72,
          73,
          74,
          75,
          76,
          77,
          78,
          79,
          80,
          81,
          82,
          83,
          84,
          85,
          86,
          87,
          88,
          89,
          90,
          91,
          92,
          93,
          94,
          95,
          96,
          97,
          98,
          99,
          100,
          101,
          102,
          103,
          104,
          105,
          106,
          107,
          108,
          109,
          110,
          111,
          112,
          113,
          114,
          115,
          116,
          117,
          118,
          119,
          120,
          121,
          122,
          123,
          124,
          125,
          126,
          127,
          128,
          129,
          130,
          131,
          132,
          133,
          134,
          135,
          136,
          137,
          138,
          139,
          140,
          141,
          142,
          143,
          144,
          145,
          146,
          147,
          148,
          149,
          150
         ],
         "xaxis": "x2",
         "y": [
          12.936273574829102,
          9.055058479309082,
          9.428049087524414,
          8.66752815246582,
          8.782102584838867,
          8.399250030517578,
          8.1943941116333,
          9.243998527526855,
          8.363465309143066,
          7.746243000030518,
          8.322656631469727,
          11.076970100402832,
          6.972841262817383,
          8.543793678283691,
          8.29061222076416,
          7.680387496948242,
          8.851313591003418,
          8.508171081542969,
          6.366331577301025,
          9.851975440979004,
          6.572469711303711,
          9.106494903564453,
          6.886903285980225,
          6.344699382781982,
          6.278608322143555,
          8.828567504882812,
          10.152751922607422,
          7.361392021179199,
          5.768100261688232,
          6.4483232498168945,
          5.288237571716309,
          8.370295524597168,
          10.646869659423828,
          6.982245922088623,
          8.439420700073242,
          5.472218036651611,
          4.934268474578857,
          4.844000816345215,
          4.483005523681641,
          4.153553485870361,
          4.050143718719482,
          4.369670867919922,
          4.563797950744629,
          6.077605247497559,
          3.3626601696014404,
          2.7321832180023193,
          2.456197738647461,
          2.0143444538116455,
          2.0583410263061523,
          2.819324493408203,
          1.709881067276001,
          1.5752924680709839,
          1.4113903045654297,
          1.454463243484497,
          1.3064897060394287,
          1.610458493232727,
          1.3234028816223145,
          1.1476880311965942,
          1.2501178979873657,
          1.3290507793426514,
          1.2944642305374146,
          1.193022608757019,
          0.9811884760856628,
          1.1167155504226685,
          1.0977786779403687,
          1.190669059753418,
          0.9950001835823059,
          0.9953721761703491,
          1.0030336380004883,
          1.1691783666610718,
          1.2162493467330933,
          0.93072509765625,
          0.8917646408081055,
          1.7598521709442139,
          0.8384726643562317,
          0.9260437488555908,
          1.0439859628677368,
          0.8919029235839844,
          1.1378093957901,
          0.8474217653274536,
          0.9035937786102295,
          0.9321195483207703,
          0.9697260856628418,
          0.8705059289932251,
          0.8630737066268921,
          0.8757506012916565,
          0.9841654300689697,
          1.4077014923095703,
          0.8813097476959229,
          0.8284396529197693,
          0.8766891360282898,
          0.8671968579292297,
          1.4793243408203125,
          0.9274961948394775,
          0.9355820417404175,
          0.8317822217941284,
          1.1185179948806763,
          1.1541324853897095,
          1.057112216949463,
          0.8994501233100891,
          0.962375283241272,
          0.8180556297302246,
          1.780868411064148,
          0.7885933518409729,
          0.795168399810791,
          0.8054423332214355,
          1.086186408996582,
          1.111029028892517,
          16.143489837646484,
          0.8876558542251587,
          1.0152692794799805,
          1.0520256757736206,
          0.7640395760536194,
          0.8246700167655945,
          0.824834942817688,
          1.319974660873413,
          0.7764806151390076,
          0.9711707234382629,
          0.9057110548019409,
          0.7915844321250916,
          0.8169270157814026,
          0.9464427828788757,
          0.9418651461601257,
          2.0542147159576416,
          1.322953462600708,
          0.8244364261627197,
          2.560378313064575,
          1.5562665462493896,
          0.8426867127418518,
          0.8504924774169922,
          0.8863425850868225,
          13.2188138961792,
          0.9171324968338013,
          0.8840968608856201,
          1.277574062347412,
          0.784869372844696,
          1.2165427207946777,
          0.962530255317688,
          3.512298107147217,
          21.013553619384766,
          1.6407421827316284,
          0.7807049751281738,
          1.1524862051010132,
          0.8750179409980774,
          1.2081701755523682,
          1.5245062112808228,
          0.817493200302124,
          0.7856763005256653,
          1.1497764587402344,
          0.9272699952125549
         ],
         "yaxis": "y2"
        }
       ],
       "layout": {
        "annotations": [
         {
          "font": {
           "size": 16
          },
          "showarrow": false,
          "text": "Model accuracy",
          "x": 0.225,
          "xanchor": "center",
          "xref": "paper",
          "y": 1,
          "yanchor": "bottom",
          "yref": "paper"
         },
         {
          "font": {
           "size": 16
          },
          "showarrow": false,
          "text": "Model loss",
          "x": 0.775,
          "xanchor": "center",
          "xref": "paper",
          "y": 1,
          "yanchor": "bottom",
          "yref": "paper"
         }
        ],
        "legend": {
         "x": 0.85,
         "y": 1
        },
        "template": {
         "data": {
          "bar": [
           {
            "error_x": {
             "color": "#2a3f5f"
            },
            "error_y": {
             "color": "#2a3f5f"
            },
            "marker": {
             "line": {
              "color": "#E5ECF6",
              "width": 0.5
             },
             "pattern": {
              "fillmode": "overlay",
              "size": 10,
              "solidity": 0.2
             }
            },
            "type": "bar"
           }
          ],
          "barpolar": [
           {
            "marker": {
             "line": {
              "color": "#E5ECF6",
              "width": 0.5
             },
             "pattern": {
              "fillmode": "overlay",
              "size": 10,
              "solidity": 0.2
             }
            },
            "type": "barpolar"
           }
          ],
          "carpet": [
           {
            "aaxis": {
             "endlinecolor": "#2a3f5f",
             "gridcolor": "white",
             "linecolor": "white",
             "minorgridcolor": "white",
             "startlinecolor": "#2a3f5f"
            },
            "baxis": {
             "endlinecolor": "#2a3f5f",
             "gridcolor": "white",
             "linecolor": "white",
             "minorgridcolor": "white",
             "startlinecolor": "#2a3f5f"
            },
            "type": "carpet"
           }
          ],
          "choropleth": [
           {
            "colorbar": {
             "outlinewidth": 0,
             "ticks": ""
            },
            "type": "choropleth"
           }
          ],
          "contour": [
           {
            "colorbar": {
             "outlinewidth": 0,
             "ticks": ""
            },
            "colorscale": [
             [
              0,
              "#0d0887"
             ],
             [
              0.1111111111111111,
              "#46039f"
             ],
             [
              0.2222222222222222,
              "#7201a8"
             ],
             [
              0.3333333333333333,
              "#9c179e"
             ],
             [
              0.4444444444444444,
              "#bd3786"
             ],
             [
              0.5555555555555556,
              "#d8576b"
             ],
             [
              0.6666666666666666,
              "#ed7953"
             ],
             [
              0.7777777777777778,
              "#fb9f3a"
             ],
             [
              0.8888888888888888,
              "#fdca26"
             ],
             [
              1,
              "#f0f921"
             ]
            ],
            "type": "contour"
           }
          ],
          "contourcarpet": [
           {
            "colorbar": {
             "outlinewidth": 0,
             "ticks": ""
            },
            "type": "contourcarpet"
           }
          ],
          "heatmap": [
           {
            "colorbar": {
             "outlinewidth": 0,
             "ticks": ""
            },
            "colorscale": [
             [
              0,
              "#0d0887"
             ],
             [
              0.1111111111111111,
              "#46039f"
             ],
             [
              0.2222222222222222,
              "#7201a8"
             ],
             [
              0.3333333333333333,
              "#9c179e"
             ],
             [
              0.4444444444444444,
              "#bd3786"
             ],
             [
              0.5555555555555556,
              "#d8576b"
             ],
             [
              0.6666666666666666,
              "#ed7953"
             ],
             [
              0.7777777777777778,
              "#fb9f3a"
             ],
             [
              0.8888888888888888,
              "#fdca26"
             ],
             [
              1,
              "#f0f921"
             ]
            ],
            "type": "heatmap"
           }
          ],
          "heatmapgl": [
           {
            "colorbar": {
             "outlinewidth": 0,
             "ticks": ""
            },
            "colorscale": [
             [
              0,
              "#0d0887"
             ],
             [
              0.1111111111111111,
              "#46039f"
             ],
             [
              0.2222222222222222,
              "#7201a8"
             ],
             [
              0.3333333333333333,
              "#9c179e"
             ],
             [
              0.4444444444444444,
              "#bd3786"
             ],
             [
              0.5555555555555556,
              "#d8576b"
             ],
             [
              0.6666666666666666,
              "#ed7953"
             ],
             [
              0.7777777777777778,
              "#fb9f3a"
             ],
             [
              0.8888888888888888,
              "#fdca26"
             ],
             [
              1,
              "#f0f921"
             ]
            ],
            "type": "heatmapgl"
           }
          ],
          "histogram": [
           {
            "marker": {
             "pattern": {
              "fillmode": "overlay",
              "size": 10,
              "solidity": 0.2
             }
            },
            "type": "histogram"
           }
          ],
          "histogram2d": [
           {
            "colorbar": {
             "outlinewidth": 0,
             "ticks": ""
            },
            "colorscale": [
             [
              0,
              "#0d0887"
             ],
             [
              0.1111111111111111,
              "#46039f"
             ],
             [
              0.2222222222222222,
              "#7201a8"
             ],
             [
              0.3333333333333333,
              "#9c179e"
             ],
             [
              0.4444444444444444,
              "#bd3786"
             ],
             [
              0.5555555555555556,
              "#d8576b"
             ],
             [
              0.6666666666666666,
              "#ed7953"
             ],
             [
              0.7777777777777778,
              "#fb9f3a"
             ],
             [
              0.8888888888888888,
              "#fdca26"
             ],
             [
              1,
              "#f0f921"
             ]
            ],
            "type": "histogram2d"
           }
          ],
          "histogram2dcontour": [
           {
            "colorbar": {
             "outlinewidth": 0,
             "ticks": ""
            },
            "colorscale": [
             [
              0,
              "#0d0887"
             ],
             [
              0.1111111111111111,
              "#46039f"
             ],
             [
              0.2222222222222222,
              "#7201a8"
             ],
             [
              0.3333333333333333,
              "#9c179e"
             ],
             [
              0.4444444444444444,
              "#bd3786"
             ],
             [
              0.5555555555555556,
              "#d8576b"
             ],
             [
              0.6666666666666666,
              "#ed7953"
             ],
             [
              0.7777777777777778,
              "#fb9f3a"
             ],
             [
              0.8888888888888888,
              "#fdca26"
             ],
             [
              1,
              "#f0f921"
             ]
            ],
            "type": "histogram2dcontour"
           }
          ],
          "mesh3d": [
           {
            "colorbar": {
             "outlinewidth": 0,
             "ticks": ""
            },
            "type": "mesh3d"
           }
          ],
          "parcoords": [
           {
            "line": {
             "colorbar": {
              "outlinewidth": 0,
              "ticks": ""
             }
            },
            "type": "parcoords"
           }
          ],
          "pie": [
           {
            "automargin": true,
            "type": "pie"
           }
          ],
          "scatter": [
           {
            "fillpattern": {
             "fillmode": "overlay",
             "size": 10,
             "solidity": 0.2
            },
            "type": "scatter"
           }
          ],
          "scatter3d": [
           {
            "line": {
             "colorbar": {
              "outlinewidth": 0,
              "ticks": ""
             }
            },
            "marker": {
             "colorbar": {
              "outlinewidth": 0,
              "ticks": ""
             }
            },
            "type": "scatter3d"
           }
          ],
          "scattercarpet": [
           {
            "marker": {
             "colorbar": {
              "outlinewidth": 0,
              "ticks": ""
             }
            },
            "type": "scattercarpet"
           }
          ],
          "scattergeo": [
           {
            "marker": {
             "colorbar": {
              "outlinewidth": 0,
              "ticks": ""
             }
            },
            "type": "scattergeo"
           }
          ],
          "scattergl": [
           {
            "marker": {
             "colorbar": {
              "outlinewidth": 0,
              "ticks": ""
             }
            },
            "type": "scattergl"
           }
          ],
          "scattermapbox": [
           {
            "marker": {
             "colorbar": {
              "outlinewidth": 0,
              "ticks": ""
             }
            },
            "type": "scattermapbox"
           }
          ],
          "scatterpolar": [
           {
            "marker": {
             "colorbar": {
              "outlinewidth": 0,
              "ticks": ""
             }
            },
            "type": "scatterpolar"
           }
          ],
          "scatterpolargl": [
           {
            "marker": {
             "colorbar": {
              "outlinewidth": 0,
              "ticks": ""
             }
            },
            "type": "scatterpolargl"
           }
          ],
          "scatterternary": [
           {
            "marker": {
             "colorbar": {
              "outlinewidth": 0,
              "ticks": ""
             }
            },
            "type": "scatterternary"
           }
          ],
          "surface": [
           {
            "colorbar": {
             "outlinewidth": 0,
             "ticks": ""
            },
            "colorscale": [
             [
              0,
              "#0d0887"
             ],
             [
              0.1111111111111111,
              "#46039f"
             ],
             [
              0.2222222222222222,
              "#7201a8"
             ],
             [
              0.3333333333333333,
              "#9c179e"
             ],
             [
              0.4444444444444444,
              "#bd3786"
             ],
             [
              0.5555555555555556,
              "#d8576b"
             ],
             [
              0.6666666666666666,
              "#ed7953"
             ],
             [
              0.7777777777777778,
              "#fb9f3a"
             ],
             [
              0.8888888888888888,
              "#fdca26"
             ],
             [
              1,
              "#f0f921"
             ]
            ],
            "type": "surface"
           }
          ],
          "table": [
           {
            "cells": {
             "fill": {
              "color": "#EBF0F8"
             },
             "line": {
              "color": "white"
             }
            },
            "header": {
             "fill": {
              "color": "#C8D4E3"
             },
             "line": {
              "color": "white"
             }
            },
            "type": "table"
           }
          ]
         },
         "layout": {
          "annotationdefaults": {
           "arrowcolor": "#2a3f5f",
           "arrowhead": 0,
           "arrowwidth": 1
          },
          "autotypenumbers": "strict",
          "coloraxis": {
           "colorbar": {
            "outlinewidth": 0,
            "ticks": ""
           }
          },
          "colorscale": {
           "diverging": [
            [
             0,
             "#8e0152"
            ],
            [
             0.1,
             "#c51b7d"
            ],
            [
             0.2,
             "#de77ae"
            ],
            [
             0.3,
             "#f1b6da"
            ],
            [
             0.4,
             "#fde0ef"
            ],
            [
             0.5,
             "#f7f7f7"
            ],
            [
             0.6,
             "#e6f5d0"
            ],
            [
             0.7,
             "#b8e186"
            ],
            [
             0.8,
             "#7fbc41"
            ],
            [
             0.9,
             "#4d9221"
            ],
            [
             1,
             "#276419"
            ]
           ],
           "sequential": [
            [
             0,
             "#0d0887"
            ],
            [
             0.1111111111111111,
             "#46039f"
            ],
            [
             0.2222222222222222,
             "#7201a8"
            ],
            [
             0.3333333333333333,
             "#9c179e"
            ],
            [
             0.4444444444444444,
             "#bd3786"
            ],
            [
             0.5555555555555556,
             "#d8576b"
            ],
            [
             0.6666666666666666,
             "#ed7953"
            ],
            [
             0.7777777777777778,
             "#fb9f3a"
            ],
            [
             0.8888888888888888,
             "#fdca26"
            ],
            [
             1,
             "#f0f921"
            ]
           ],
           "sequentialminus": [
            [
             0,
             "#0d0887"
            ],
            [
             0.1111111111111111,
             "#46039f"
            ],
            [
             0.2222222222222222,
             "#7201a8"
            ],
            [
             0.3333333333333333,
             "#9c179e"
            ],
            [
             0.4444444444444444,
             "#bd3786"
            ],
            [
             0.5555555555555556,
             "#d8576b"
            ],
            [
             0.6666666666666666,
             "#ed7953"
            ],
            [
             0.7777777777777778,
             "#fb9f3a"
            ],
            [
             0.8888888888888888,
             "#fdca26"
            ],
            [
             1,
             "#f0f921"
            ]
           ]
          },
          "colorway": [
           "#636efa",
           "#EF553B",
           "#00cc96",
           "#ab63fa",
           "#FFA15A",
           "#19d3f3",
           "#FF6692",
           "#B6E880",
           "#FF97FF",
           "#FECB52"
          ],
          "font": {
           "color": "#2a3f5f"
          },
          "geo": {
           "bgcolor": "white",
           "lakecolor": "white",
           "landcolor": "#E5ECF6",
           "showlakes": true,
           "showland": true,
           "subunitcolor": "white"
          },
          "hoverlabel": {
           "align": "left"
          },
          "hovermode": "closest",
          "mapbox": {
           "style": "light"
          },
          "paper_bgcolor": "white",
          "plot_bgcolor": "#E5ECF6",
          "polar": {
           "angularaxis": {
            "gridcolor": "white",
            "linecolor": "white",
            "ticks": ""
           },
           "bgcolor": "#E5ECF6",
           "radialaxis": {
            "gridcolor": "white",
            "linecolor": "white",
            "ticks": ""
           }
          },
          "scene": {
           "xaxis": {
            "backgroundcolor": "#E5ECF6",
            "gridcolor": "white",
            "gridwidth": 2,
            "linecolor": "white",
            "showbackground": true,
            "ticks": "",
            "zerolinecolor": "white"
           },
           "yaxis": {
            "backgroundcolor": "#E5ECF6",
            "gridcolor": "white",
            "gridwidth": 2,
            "linecolor": "white",
            "showbackground": true,
            "ticks": "",
            "zerolinecolor": "white"
           },
           "zaxis": {
            "backgroundcolor": "#E5ECF6",
            "gridcolor": "white",
            "gridwidth": 2,
            "linecolor": "white",
            "showbackground": true,
            "ticks": "",
            "zerolinecolor": "white"
           }
          },
          "shapedefaults": {
           "line": {
            "color": "#2a3f5f"
           }
          },
          "ternary": {
           "aaxis": {
            "gridcolor": "white",
            "linecolor": "white",
            "ticks": ""
           },
           "baxis": {
            "gridcolor": "white",
            "linecolor": "white",
            "ticks": ""
           },
           "bgcolor": "#E5ECF6",
           "caxis": {
            "gridcolor": "white",
            "linecolor": "white",
            "ticks": ""
           }
          },
          "title": {
           "x": 0.05
          },
          "xaxis": {
           "automargin": true,
           "gridcolor": "white",
           "linecolor": "white",
           "ticks": "",
           "title": {
            "standoff": 15
           },
           "zerolinecolor": "white",
           "zerolinewidth": 2
          },
          "yaxis": {
           "automargin": true,
           "gridcolor": "white",
           "linecolor": "white",
           "ticks": "",
           "title": {
            "standoff": 15
           },
           "zerolinecolor": "white",
           "zerolinewidth": 2
          }
         }
        },
        "title": {
         "text": "Model Training History"
        },
        "xaxis": {
         "anchor": "y",
         "domain": [
          0,
          0.45
         ],
         "title": {
          "text": "Epoch"
         }
        },
        "xaxis2": {
         "anchor": "y2",
         "domain": [
          0.55,
          1
         ]
        },
        "yaxis": {
         "anchor": "x",
         "domain": [
          0,
          1
         ],
         "title": {
          "text": "Value"
         }
        },
        "yaxis2": {
         "anchor": "x2",
         "domain": [
          0,
          1
         ]
        }
       }
      }
     },
     "metadata": {},
     "output_type": "display_data"
    }
   ],
   "source": [
    "import plotly.graph_objects as go\n",
    "from plotly.subplots import make_subplots\n",
    "\n",
    "fig = make_subplots(rows=1, cols=2, subplot_titles=(\"Model accuracy\", \"Model loss\"))\n",
    "\n",
    "# Add the first subplot for accuracy\n",
    "fig.add_trace(go.Scatter(x=list(range(1, len(history.history['accuracy']) + 1)),\n",
    "                         y=history.history['accuracy'], mode='lines',\n",
    "                         name='Train', line=dict(color='blue')), row=1, col=1)\n",
    "fig.add_trace(go.Scatter(x=list(range(1, len(history.history['val_accuracy']) + 1)),\n",
    "                         y=history.history['val_accuracy'], mode='lines',\n",
    "                         name='Validation', line=dict(color='orange')), row=1, col=1)\n",
    "\n",
    "# Add the second subplot for loss\n",
    "fig.add_trace(go.Scatter(x=list(range(1, len(history.history['loss']) + 1)),\n",
    "                         y=history.history['loss'], mode='lines',\n",
    "                         name='Train', line=dict(color='blue'), showlegend=False), row=1, col=2)\n",
    "fig.add_trace(go.Scatter(x=list(range(1, len(history.history['val_loss']) + 1)),\n",
    "                         y=history.history['val_loss'], mode='lines',\n",
    "                         name='Validation', line=dict(color='orange'), showlegend=False), row=1, col=2)\n",
    "\n",
    "fig.update_layout(title=\"Model Training History\",\n",
    "                  xaxis_title=\"Epoch\",\n",
    "                  yaxis_title=\"Value\",\n",
    "                  legend=dict(x=0.85, y=1))\n",
    "\n",
    "fig.show()"
   ]
  },
  {
   "cell_type": "code",
   "execution_count": 20,
   "metadata": {},
   "outputs": [
    {
     "name": "stdout",
     "output_type": "stream",
     "text": [
      "WARNING:tensorflow:From d:\\APP\\ANACONDA\\Anaconda3\\envs\\anacondaTensorflow\\lib\\site-packages\\tensorflow\\python\\util\\dispatch.py:201: sparse_to_dense (from tensorflow.python.ops.sparse_ops) is deprecated and will be removed in a future version.\n",
      "Instructions for updating:\n",
      "Create a `tf.sparse.SparseTensor` and use `tf.sparse.to_dense` instead.\n"
     ]
    }
   ],
   "source": [
    "preds = model.predict(valid_x)\n",
    "decoded = K.get_value(K.ctc_decode(preds, input_length=np.ones(preds.shape[0])*preds.shape[1], \n",
    "                                   greedy=True)[0][0])\n",
    "\n",
    "prediction = []\n",
    "for i in range(valid_size):\n",
    "    prediction.append(num_to_label(decoded[i]))"
   ]
  },
  {
   "cell_type": "code",
   "execution_count": 21,
   "metadata": {},
   "outputs": [],
   "source": [
    "y_true = []\n",
    "for i in range(20000):\n",
    "    y_true.append(str(data.loc[i+80000, 'Value']))"
   ]
  },
  {
   "cell_type": "code",
   "execution_count": 22,
   "metadata": {},
   "outputs": [
    {
     "name": "stdout",
     "output_type": "stream",
     "text": [
      "Correct characters predicted : 86.17%\n",
      "Correct words predicted      : 67.41%\n"
     ]
    }
   ],
   "source": [
    "correct_char = 0\n",
    "total_char = 0\n",
    "correct = 0\n",
    "\n",
    "for i in range(valid_size):\n",
    "    pr = prediction[i]\n",
    "    tr = y_true[i]\n",
    "    total_char += len(tr)\n",
    "    \n",
    "    for j in range(min(len(tr), len(pr))):\n",
    "        if tr[j] == pr[j]:\n",
    "            correct_char += 1\n",
    "            \n",
    "    if pr == tr :\n",
    "        correct += 1 \n",
    "    \n",
    "print('Correct characters predicted : %.2f%%' %(correct_char*100/total_char))\n",
    "print('Correct words predicted      : %.2f%%' %(correct*100/valid_size))"
   ]
  },
  {
   "cell_type": "code",
   "execution_count": 23,
   "metadata": {},
   "outputs": [
    {
     "name": "stdout",
     "output_type": "stream",
     "text": [
      "Label:540; Predicted:540\n"
     ]
    },
    {
     "data": {
      "image/png": "[encoded data removed]",
      "text/plain": [
       "<PIL.Image.Image image mode=L size=64x32>"
      ]
     },
     "metadata": {},
     "output_type": "display_data"
    },
    {
     "name": "stdout",
     "output_type": "stream",
     "text": [
      "Label:456; Predicted:456\n"
     ]
    },
    {
     "data": {
      "image/png": "[encoded data removed]",
      "text/plain": [
       "<PIL.Image.Image image mode=L size=64x32>"
      ]
     },
     "metadata": {},
     "output_type": "display_data"
    },
    {
     "name": "stdout",
     "output_type": "stream",
     "text": [
      "Label:570; Predicted:570\n"
     ]
    },
    {
     "data": {
      "image/png": "[encoded data removed]",
      "text/plain": [
       "<PIL.Image.Image image mode=L size=64x32>"
      ]
     },
     "metadata": {},
     "output_type": "display_data"
    },
    {
     "name": "stdout",
     "output_type": "stream",
     "text": [
      "Label:2823; Predicted:2822\n"
     ]
    },
    {
     "data": {
      "image/png": "[encoded data removed]",
      "text/plain": [
       "<PIL.Image.Image image mode=L size=64x32>"
      ]
     },
     "metadata": {},
     "output_type": "display_data"
    },
    {
     "name": "stdout",
     "output_type": "stream",
     "text": [
      "Label:811; Predicted:811\n"
     ]
    },
    {
     "data": {
      "image/png": "[encoded data removed]",
      "text/plain": [
       "<PIL.Image.Image image mode=L size=64x32>"
      ]
     },
     "metadata": {},
     "output_type": "display_data"
    },
    {
     "name": "stdout",
     "output_type": "stream",
     "text": [
      "Label:243; Predicted:2293\n"
     ]
    },
    {
     "data": {
      "image/png": "[encoded data removed]",
      "text/plain": [
       "<PIL.Image.Image image mode=L size=64x32>"
      ]
     },
     "metadata": {},
     "output_type": "display_data"
    },
    {
     "name": "stdout",
     "output_type": "stream",
     "text": [
      "Label:2511; Predicted:2511\n"
     ]
    },
    {
     "data": {
      "image/png": "[encoded data removed]",
      "text/plain": [
       "<PIL.Image.Image image mode=L size=64x32>"
      ]
     },
     "metadata": {},
     "output_type": "display_data"
    },
    {
     "name": "stdout",
     "output_type": "stream",
     "text": [
      "Label:425; Predicted:425\n"
     ]
    },
    {
     "data": {
      "image/png": "[encoded data removed]",
      "text/plain": [
       "<PIL.Image.Image image mode=L size=64x32>"
      ]
     },
     "metadata": {},
     "output_type": "display_data"
    },
    {
     "name": "stdout",
     "output_type": "stream",
     "text": [
      "Label:-107; Predicted:-107\n"
     ]
    },
    {
     "data": {
      "image/png": "[encoded data removed]",
      "text/plain": [
       "<PIL.Image.Image image mode=L size=64x32>"
      ]
     },
     "metadata": {},
     "output_type": "display_data"
    },
    {
     "name": "stdout",
     "output_type": "stream",
     "text": [
      "Label:2868; Predicted:2865\n"
     ]
    },
    {
     "data": {
      "image/png": "[encoded data removed]",
      "text/plain": [
       "<PIL.Image.Image image mode=L size=64x32>"
      ]
     },
     "metadata": {},
     "output_type": "display_data"
    }
   ],
   "source": [
    "for id_n in np.random.randint(0, len(y_true),10):\n",
    "    image_data = (np.squeeze(valid_x[id_n]) * 255).astype('uint8')\n",
    "    image = Image.fromarray(image_data, 'L')\n",
    "    title = f\"Label:{y_true[id_n]}; Predicted:{prediction[id_n]}\"\n",
    "    print(title)\n",
    "    display(image)\n",
    "\n"
   ]
  }
 ],
 "metadata": {
  "kernelspec": {
   "display_name": "anacondaTensorflow",
   "language": "python",
   "name": "python3"
  },
  "language_info": {
   "codemirror_mode": {
    "name": "ipython",
    "version": 3
   },
   "file_extension": ".py",
   "mimetype": "text/x-python",
   "name": "python",
   "nbconvert_exporter": "python",
   "pygments_lexer": "ipython3",
   "version": "3.8.17"
  }
 },
 "nbformat": 4,
 "nbformat_minor": 2
}
