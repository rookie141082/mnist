{
 "cells": [
  {
   "cell_type": "code",
   "execution_count": 1,
   "metadata": {},
   "outputs": [],
   "source": [
    "import numpy as np\n",
    "import tensorflow as tf\n",
    "from tensorflow.keras.datasets import mnist\n",
    "\n",
    "(x_train, y_train), (x_test, y_test) = mnist.load_data()\n",
    "\n",
    "x_train = x_train.reshape(-1, 28, 28, 1) / 255.0\n",
    "x_test = x_test.reshape(-1, 28, 28, 1) / 255.0\n",
    "\n",
    "def generate_random_number(number,x_data,y_data):\n",
    "    num_samples = number\n",
    "    data_numb=np.zeros((num_samples, 28, 100, 1), dtype = np.float32)\n",
    "    data_labe=np.empty((num_samples, 1), dtype = np.chararray)\n",
    "    for i in range(num_samples):\n",
    "        digit1 = np.random.choice(y_data)\n",
    "        digit2 = np.random.choice(y_data)\n",
    "        digit3 = np.random.choice(y_data)\n",
    "        digit4 = np.random.choice(y_data)\n",
    "        digit5 = np.random.choice(y_data)\n",
    "        \n",
    "        length = np.random.randint(1, 6)\n",
    "        canvas = np.zeros((28, 100, 1), dtype=np.float32)\n",
    "        labe = np.zeros(length,dtype=np.int_)\n",
    "        \n",
    "        lent_front = 0\n",
    "        for n in range(length):\n",
    "            digit_labe =[digit1, digit2, digit3, digit4, digit5]\n",
    "            digit = digit_labe[n]\n",
    "            id=np.random.choice(np.where(y_train == digit)[0])\n",
    "            if n==0:\n",
    "                lent_front = 28*n\n",
    "                x_data_front = np.zeros((28, lent_front, 1), dtype=np.float32)\n",
    "                x_data_after = np.zeros((28, 72-lent_front, 1), dtype=np.float32)\n",
    "            else:\n",
    "                numb=np.random.randint(8,18)\n",
    "                lent_front = lent_front+numb\n",
    "                x_data_front = np.zeros((28, lent_front, 1), dtype=np.float32)\n",
    "                x_data_after = np.zeros((28, 72-lent_front, 1), dtype=np.float32)\n",
    "            canvas_add = np.concatenate([x_data_front, x_data[id]], 1)\n",
    "            canvas_add = np.concatenate([canvas_add, x_data_after],  1)\n",
    "            canvas += canvas_add\n",
    "            labe[n] = y_data[id]\n",
    "            \n",
    "        datalabe = [str(x) for x in labe]\n",
    "        data_labe[i] = ''.join(datalabe)\n",
    "        data_numb[i]=canvas \n",
    "    print('end')\n",
    "    return data_numb, data_labe"
   ]
  },
  {
   "cell_type": "code",
   "execution_count": 2,
   "metadata": {},
   "outputs": [],
   "source": [
    "\n",
    "def get_label(y_lab):\n",
    "    max_length = max(len(sublist[0]) for sublist in y_lab)\n",
    "    lab_list = [[int(char) if len(char) == 1 else 11 for char in sublist[0]] + [10] * (max_length - len(sublist[0])) for sublist in y_lab]\n",
    "    lab = np.array(lab_list)\n",
    "    return lab"
   ]
  },
  {
   "cell_type": "code",
   "execution_count": 3,
   "metadata": {},
   "outputs": [
    {
     "name": "stdout",
     "output_type": "stream",
     "text": [
      "end\n"
     ]
    }
   ],
   "source": [
    "\n",
    "x_data_random , y_data_random = generate_random_number(100000,x_train, y_train)\n",
    "y_data_ran_ctc = get_label(y_data_random)"
   ]
  },
  {
   "cell_type": "code",
   "execution_count": 4,
   "metadata": {},
   "outputs": [],
   "source": [
    "from tensorflow.keras.utils import to_categorical\n",
    "y_data_ran = to_categorical(y_data_ran_ctc, num_classes=11)"
   ]
  },
  {
   "cell_type": "code",
   "execution_count": 5,
   "metadata": {},
   "outputs": [],
   "source": [
    "x_train_ran , y_train_ran, y_train_ran_ctc, y_train_random = x_data_random[:60000] , y_data_ran[:60000] , y_data_ran_ctc[:60000] , y_data_random[:60000]\n",
    "x_test_ran , y_test_ran, y_test_ran_ctc, y_test_random= x_data_random[60000:80000] , y_data_ran[60000:80000] , y_data_ran_ctc[60000:80000] , y_data_random[60000:80000]\n",
    "x_verify_ran , y_verify_ran, y_verify_ran_ctc, y_verify_random = x_data_random[80000:] , y_data_ran[80000:] , y_data_ran_ctc[80000:] , y_data_random[80000:]"
   ]
  },
  {
   "cell_type": "code",
   "execution_count": 6,
   "metadata": {},
   "outputs": [
    {
     "name": "stdout",
     "output_type": "stream",
     "text": [
      "Label:48187\n"
     ]
    },
    {
     "data": {
      "image/png": "[encoded data removed]",
      "text/plain": [
       "<PIL.Image.Image image mode=L size=100x28>"
      ]
     },
     "metadata": {},
     "output_type": "display_data"
    },
    {
     "name": "stdout",
     "output_type": "stream",
     "text": [
      "Label:4\n"
     ]
    },
    {
     "data": {
      "image/png": "[encoded data removed]",
      "text/plain": [
       "<PIL.Image.Image image mode=L size=100x28>"
      ]
     },
     "metadata": {},
     "output_type": "display_data"
    },
    {
     "name": "stdout",
     "output_type": "stream",
     "text": [
      "Label:36128\n"
     ]
    },
    {
     "data": {
      "image/png": "[encoded data removed]",
      "text/plain": [
       "<PIL.Image.Image image mode=L size=100x28>"
      ]
     },
     "metadata": {},
     "output_type": "display_data"
    },
    {
     "name": "stdout",
     "output_type": "stream",
     "text": [
      "Label:70\n"
     ]
    },
    {
     "data": {
      "image/png": "[encoded data removed]",
      "text/plain": [
       "<PIL.Image.Image image mode=L size=100x28>"
      ]
     },
     "metadata": {},
     "output_type": "display_data"
    },
    {
     "name": "stdout",
     "output_type": "stream",
     "text": [
      "Label:28\n"
     ]
    },
    {
     "data": {
      "image/png": "[encoded data removed]",
      "text/plain": [
       "<PIL.Image.Image image mode=L size=100x28>"
      ]
     },
     "metadata": {},
     "output_type": "display_data"
    },
    {
     "name": "stdout",
     "output_type": "stream",
     "text": [
      "Label:1756\n"
     ]
    },
    {
     "data": {
      "image/png": "[encoded data removed]",
      "text/plain": [
       "<PIL.Image.Image image mode=L size=100x28>"
      ]
     },
     "metadata": {},
     "output_type": "display_data"
    },
    {
     "name": "stdout",
     "output_type": "stream",
     "text": [
      "Label:71141\n"
     ]
    },
    {
     "data": {
      "image/png": "[encoded data removed]",
      "text/plain": [
       "<PIL.Image.Image image mode=L size=100x28>"
      ]
     },
     "metadata": {},
     "output_type": "display_data"
    },
    {
     "name": "stdout",
     "output_type": "stream",
     "text": [
      "Label:756\n"
     ]
    },
    {
     "data": {
      "image/png": "[encoded data removed]",
      "text/plain": [
       "<PIL.Image.Image image mode=L size=100x28>"
      ]
     },
     "metadata": {},
     "output_type": "display_data"
    },
    {
     "name": "stdout",
     "output_type": "stream",
     "text": [
      "Label:4\n"
     ]
    },
    {
     "data": {
      "image/png": "[encoded data removed]",
      "text/plain": [
       "<PIL.Image.Image image mode=L size=100x28>"
      ]
     },
     "metadata": {},
     "output_type": "display_data"
    },
    {
     "name": "stdout",
     "output_type": "stream",
     "text": [
      "Label:11\n"
     ]
    },
    {
     "data": {
      "image/png": "[encoded data removed]",
      "text/plain": [
       "<PIL.Image.Image image mode=L size=100x28>"
      ]
     },
     "metadata": {},
     "output_type": "display_data"
    }
   ],
   "source": [
    "from PIL import Image\n",
    "from IPython.display import display\n",
    "\n",
    "for id_n in np.random.randint(0, len(y_train_random),10):\n",
    "    image_data = (np.squeeze(x_train_ran[id_n]) * 255).astype('uint8')\n",
    "    image = Image.fromarray(image_data, 'L')\n",
    "    \n",
    "    title = f\"Label:{y_train_random[id_n][0]}\"\n",
    "    print(title)\n",
    "    display(image)"
   ]
  },
  {
   "cell_type": "code",
   "execution_count": 7,
   "metadata": {},
   "outputs": [],
   "source": [
    "max_str_len = 5 # max length of input labels\n",
    "num_of_characters = 11 # +1 for ctc pseudo blank\n",
    "num_of_timestamps = 64 # max length of predicted labels"
   ]
  },
  {
   "cell_type": "code",
   "execution_count": 8,
   "metadata": {},
   "outputs": [
    {
     "name": "stdout",
     "output_type": "stream",
     "text": [
      "True label :  ['23390'] \n",
      "train_y :  [2 3 3 9 0] \n",
      "train_label_len :  [5.] \n",
      "train_input_len :  [64.]\n"
     ]
    }
   ],
   "source": [
    "train_label_len = np.zeros([len(y_train_random), 1])\n",
    "train_input_len = np.ones([len(y_train_random), 1]) * num_of_timestamps\n",
    "train_output = np.zeros([len(y_train_random)])\n",
    "\n",
    "for i in range(len(y_train_random)):\n",
    "    train_label_len[i] = len(y_train_random[i][0]) \n",
    "\n",
    "print('True label : ',y_train_random[100] , '\\ntrain_y : ',y_train_ran_ctc[100],'\\ntrain_label_len : ',train_label_len [100], \n",
    "      '\\ntrain_input_len : ', train_input_len[100])"
   ]
  },
  {
   "cell_type": "code",
   "execution_count": 9,
   "metadata": {},
   "outputs": [
    {
     "name": "stdout",
     "output_type": "stream",
     "text": [
      "True label :  ['4'] \n",
      "test_y :  [ 4 10 10 10 10] \n",
      "test_label_len :  [1.] \n",
      "test_input_len :  [64.]\n"
     ]
    }
   ],
   "source": [
    "test_label_len = np.zeros([len(y_test_random), 1])\n",
    "#test_input_len = np.ones([len(y_test_random), 1]) * (num_of_timestamps-2)\n",
    "test_input_len = np.ones([len(y_test_random), 1]) * num_of_timestamps\n",
    "test_output = np.zeros([len(y_test_random)])\n",
    "\n",
    "for i in range(len(y_test_random)):\n",
    "    test_label_len[i] = len(y_test_random[i][0]) \n",
    "\n",
    "print('True label : ',y_test_random[10] , '\\ntest_y : ',y_test_ran_ctc[10],'\\ntest_label_len : ',test_label_len [10], \n",
    "      '\\ntest_input_len : ', test_input_len[10])"
   ]
  },
  {
   "cell_type": "code",
   "execution_count": 10,
   "metadata": {},
   "outputs": [
    {
     "name": "stdout",
     "output_type": "stream",
     "text": [
      "True label :  ['92011'] \n",
      "verify_y :  [9 2 0 1 1] \n",
      "verify_label_len :  [5.] \n",
      "verify_input_len :  [64.]\n"
     ]
    }
   ],
   "source": [
    "verify_label_len = np.zeros([len(y_verify_random), 1])\n",
    "verify_input_len = np.ones([len(y_verify_random), 1]) * num_of_timestamps\n",
    "verify_output = np.zeros([len(y_verify_random)])\n",
    "\n",
    "for i in range(len(y_verify_random)):\n",
    "    verify_label_len[i] = len(y_verify_random[i][0]) \n",
    "\n",
    "print('True label : ',y_verify_random[1] , '\\nverify_y : ',y_verify_ran_ctc[1],'\\nverify_label_len : ',verify_label_len [1], \n",
    "      '\\nverify_input_len : ', verify_input_len[1])"
   ]
  },
  {
   "cell_type": "code",
   "execution_count": 13,
   "metadata": {},
   "outputs": [
    {
     "name": "stdout",
     "output_type": "stream",
     "text": [
      "Model: \"model\"\n",
      "_________________________________________________________________\n",
      "Layer (type)                 Output Shape              Param #   \n",
      "=================================================================\n",
      "input (InputLayer)           [(None, 28, 100, 1)]      0         \n",
      "_________________________________________________________________\n",
      "conv2d_16 (Conv2D)           (None, 28, 100, 16)       160       \n",
      "_________________________________________________________________\n",
      "activation_16 (Activation)   (None, 28, 100, 16)       0         \n",
      "_________________________________________________________________\n",
      "batch_normalization_16 (Batc (None, 28, 100, 16)       64        \n",
      "_________________________________________________________________\n",
      "conv2d_17 (Conv2D)           (None, 28, 100, 32)       4640      \n",
      "_________________________________________________________________\n",
      "activation_17 (Activation)   (None, 28, 100, 32)       0         \n",
      "_________________________________________________________________\n",
      "batch_normalization_17 (Batc (None, 28, 100, 32)       128       \n",
      "_________________________________________________________________\n",
      "max1 (MaxPooling2D)          (None, 28, 50, 32)        0         \n",
      "_________________________________________________________________\n",
      "conv2d_18 (Conv2D)           (None, 28, 50, 32)        9248      \n",
      "_________________________________________________________________\n",
      "activation_18 (Activation)   (None, 28, 50, 32)        0         \n",
      "_________________________________________________________________\n",
      "batch_normalization_18 (Batc (None, 28, 50, 32)        128       \n",
      "_________________________________________________________________\n",
      "conv2d_19 (Conv2D)           (None, 28, 50, 64)        18496     \n",
      "_________________________________________________________________\n",
      "activation_19 (Activation)   (None, 28, 50, 64)        0         \n",
      "_________________________________________________________________\n",
      "batch_normalization_19 (Batc (None, 28, 50, 64)        256       \n",
      "_________________________________________________________________\n",
      "max3 (MaxPooling2D)          (None, 28, 25, 64)        0         \n",
      "_________________________________________________________________\n",
      "conv2d_20 (Conv2D)           (None, 28, 25, 64)        36928     \n",
      "_________________________________________________________________\n",
      "activation_20 (Activation)   (None, 28, 25, 64)        0         \n",
      "_________________________________________________________________\n",
      "batch_normalization_20 (Batc (None, 28, 25, 64)        256       \n",
      "_________________________________________________________________\n",
      "conv2d_21 (Conv2D)           (None, 28, 25, 128)       73856     \n",
      "_________________________________________________________________\n",
      "activation_21 (Activation)   (None, 28, 25, 128)       0         \n",
      "_________________________________________________________________\n",
      "batch_normalization_21 (Batc (None, 28, 25, 128)       512       \n",
      "_________________________________________________________________\n",
      "max4 (MaxPooling2D)          (None, 28, 12, 128)       0         \n",
      "_________________________________________________________________\n",
      "conv2d_22 (Conv2D)           (None, 28, 12, 128)       147584    \n",
      "_________________________________________________________________\n",
      "activation_22 (Activation)   (None, 28, 12, 128)       0         \n",
      "_________________________________________________________________\n",
      "batch_normalization_22 (Batc (None, 28, 12, 128)       512       \n",
      "_________________________________________________________________\n",
      "conv2d_23 (Conv2D)           (None, 28, 12, 256)       295168    \n",
      "_________________________________________________________________\n",
      "activation_23 (Activation)   (None, 28, 12, 256)       0         \n",
      "_________________________________________________________________\n",
      "batch_normalization_23 (Batc (None, 28, 12, 256)       1024      \n",
      "_________________________________________________________________\n",
      "max2 (MaxPooling2D)          (None, 28, 6, 256)        0         \n",
      "_________________________________________________________________\n",
      "dropout_2 (Dropout)          (None, 28, 6, 256)        0         \n",
      "_________________________________________________________________\n",
      "reshape (Reshape)            (None, 64, 672)           0         \n",
      "_________________________________________________________________\n",
      "dense1 (Dense)               (None, 64, 64)            43072     \n",
      "_________________________________________________________________\n",
      "lstm1 (Bidirectional)        (None, 64, 512)           494592    \n",
      "_________________________________________________________________\n",
      "lstm2 (Bidirectional)        (None, 64, 1024)          3151872   \n",
      "_________________________________________________________________\n",
      "dense2 (Dense)               (None, 64, 11)            11275     \n",
      "_________________________________________________________________\n",
      "softmax (Activation)         (None, 64, 11)            0         \n",
      "=================================================================\n",
      "Total params: 4,289,771\n",
      "Trainable params: 4,288,331\n",
      "Non-trainable params: 1,440\n",
      "_________________________________________________________________\n"
     ]
    }
   ],
   "source": [
    "import tensorflow as tf\n",
    "\n",
    "from tensorflow.keras import regularizers\n",
    "from tensorflow.keras import backend as K\n",
    "from tensorflow.keras.models import Model\n",
    "from tensorflow.keras.layers import Input, Conv2D, MaxPooling2D, Reshape, Bidirectional, GRU, Dense, Lambda, Activation, BatchNormalization, Dropout\n",
    "from tensorflow.keras.optimizers import Adam\n",
    "\n",
    "def ConvBlock(layout,filters):\n",
    "        inner = Conv2D(filters, (3, 3), activation='elu', padding='same')(layout)  \n",
    "        inner = Activation('elu')(inner)\n",
    "        layout = BatchNormalization()(inner)\n",
    "        return layout\n",
    "\n",
    "input_data = Input(shape=(28, 100, 1), name='input')\n",
    "\n",
    "inner = ConvBlock(input_data,16) \n",
    "inner = ConvBlock(inner,32) \n",
    "inner = MaxPooling2D(pool_size=(1, 2), name='max1')(inner)\n",
    "inner = ConvBlock(inner,32) \n",
    "inner = ConvBlock(inner,64) \n",
    "inner = MaxPooling2D(pool_size=(1, 2), name='max3')(inner)\n",
    "inner = ConvBlock(inner,64) \n",
    "inner = ConvBlock(inner,128) \n",
    "inner = MaxPooling2D(pool_size=(1, 2), name='max4')(inner)\n",
    "inner = ConvBlock(inner,128)\n",
    "inner = ConvBlock(inner,256)  \n",
    "inner = MaxPooling2D(pool_size=(1, 2), name='max2')(inner)\n",
    "inner = Dropout(0.2)(inner)\n",
    "\n",
    "# CNN to RNN\n",
    "inner = Reshape(target_shape=((64,28*24)), name='reshape')(inner)\n",
    "inner = Dense(64, activation=\"softmax\", name='dense1', kernel_regularizer = regularizers.l2(0.01))(inner)#\n",
    "\n",
    "## RNN\n",
    "inner = Bidirectional(GRU(256, return_sequences=True, dropout=0.2), name = 'lstm1')(inner)\n",
    "inner = Bidirectional(GRU(512, return_sequences=True, dropout=0.2), name = 'lstm2')(inner)\n",
    "\n",
    "## OUTPUT\n",
    "inner = Dense(num_of_characters, kernel_regularizer = regularizers.l2(0.01),name='dense2')(inner)\n",
    "y_pred = Activation('softmax', name='softmax')(inner)\n",
    "\n",
    "model = Model(inputs=input_data, outputs=y_pred)\n",
    "model.summary()"
   ]
  },
  {
   "cell_type": "code",
   "execution_count": 14,
   "metadata": {},
   "outputs": [],
   "source": [
    "# the ctc loss function\n",
    "def ctc_lambda_func(args):\n",
    "    y_pred, labels, input_length, label_length = args\n",
    "    # the 2 is critical here since the first couple outputs of the RNN\n",
    "    # tend to be garbage\n",
    "    #y_pred = y_pred[:, 2:, :]\n",
    "    return K.ctc_batch_cost(labels, y_pred, input_length, label_length)"
   ]
  },
  {
   "cell_type": "code",
   "execution_count": 15,
   "metadata": {},
   "outputs": [],
   "source": [
    "\n",
    "labels = Input(name='gtruth_labels', shape=[max_str_len], dtype='float32')\n",
    "input_length = Input(name='input_length', shape=[1], dtype='int64')\n",
    "label_length = Input(name='label_length', shape=[1], dtype='int64')\n",
    "\n",
    "ctc_loss = Lambda(ctc_lambda_func, output_shape=(1,), name='ctc')([y_pred, labels, input_length, label_length])\n",
    "model_final = Model(inputs=[input_data, labels, input_length, label_length], outputs=ctc_loss)"
   ]
  },
  {
   "cell_type": "code",
   "execution_count": 15,
   "metadata": {},
   "outputs": [
    {
     "name": "stdout",
     "output_type": "stream",
     "text": [
      "Epoch 1/100\n",
      "3750/3750 [==============================] - 241s 62ms/step - loss: 9.0745 - accuracy: 0.0000e+00 - val_loss: 6.6030 - val_accuracy: 0.0000e+00\n",
      "Epoch 2/100\n",
      "3750/3750 [==============================] - 233s 62ms/step - loss: 5.8336 - accuracy: 0.0278 - val_loss: 4.6103 - val_accuracy: 0.0975\n",
      "Epoch 3/100\n",
      "3750/3750 [==============================] - 233s 62ms/step - loss: 4.2682 - accuracy: 0.1396 - val_loss: 3.5682 - val_accuracy: 0.1949\n",
      "Epoch 4/100\n",
      "3750/3750 [==============================] - 234s 62ms/step - loss: 3.5038 - accuracy: 0.2012 - val_loss: 2.9845 - val_accuracy: 0.2299\n",
      "Epoch 5/100\n",
      "3750/3750 [==============================] - 231s 62ms/step - loss: 3.0071 - accuracy: 0.2451 - val_loss: 2.6462 - val_accuracy: 0.2907\n",
      "Epoch 6/100\n",
      "3750/3750 [==============================] - 234s 62ms/step - loss: 2.6408 - accuracy: 0.3011 - val_loss: 2.3561 - val_accuracy: 0.3344\n",
      "Epoch 7/100\n",
      "3750/3750 [==============================] - 234s 63ms/step - loss: 2.3289 - accuracy: 0.3541 - val_loss: 2.1097 - val_accuracy: 0.3961\n",
      "Epoch 8/100\n",
      "3750/3750 [==============================] - 235s 63ms/step - loss: 2.0619 - accuracy: 0.3974 - val_loss: 1.8794 - val_accuracy: 0.4349\n",
      "Epoch 9/100\n",
      "3750/3750 [==============================] - 231s 62ms/step - loss: 1.8417 - accuracy: 0.4366 - val_loss: 1.7118 - val_accuracy: 0.4992\n",
      "Epoch 10/100\n",
      "3750/3750 [==============================] - 235s 63ms/step - loss: 1.6612 - accuracy: 0.4738 - val_loss: 1.5915 - val_accuracy: 0.5092\n",
      "Epoch 11/100\n",
      "3750/3750 [==============================] - 235s 63ms/step - loss: 1.5063 - accuracy: 0.5067 - val_loss: 1.6179 - val_accuracy: 0.5220\n",
      "Epoch 12/100\n",
      "3750/3750 [==============================] - 235s 63ms/step - loss: 1.3817 - accuracy: 0.5361 - val_loss: 1.4544 - val_accuracy: 0.5508\n",
      "Epoch 13/100\n",
      "3750/3750 [==============================] - 234s 62ms/step - loss: 1.2762 - accuracy: 0.5584 - val_loss: 1.4020 - val_accuracy: 0.5768\n",
      "Epoch 14/100\n",
      "3750/3750 [==============================] - 229s 61ms/step - loss: 1.1790 - accuracy: 0.5774 - val_loss: 1.3109 - val_accuracy: 0.6028\n",
      "Epoch 15/100\n",
      "3750/3750 [==============================] - 230s 61ms/step - loss: 1.0885 - accuracy: 0.5984 - val_loss: 1.3118 - val_accuracy: 0.5985\n",
      "Epoch 16/100\n",
      "3750/3750 [==============================] - 230s 61ms/step - loss: 1.0153 - accuracy: 0.6159 - val_loss: 1.3142 - val_accuracy: 0.6135\n",
      "Epoch 17/100\n",
      "3750/3750 [==============================] - 230s 61ms/step - loss: 0.9408 - accuracy: 0.6360 - val_loss: 1.2755 - val_accuracy: 0.6298\n",
      "Epoch 18/100\n",
      "3750/3750 [==============================] - 230s 61ms/step - loss: 0.8731 - accuracy: 0.6540 - val_loss: 1.2119 - val_accuracy: 0.6471\n",
      "Epoch 19/100\n",
      "3750/3750 [==============================] - 230s 61ms/step - loss: 0.8073 - accuracy: 0.6712 - val_loss: 1.2724 - val_accuracy: 0.6376\n",
      "Epoch 20/100\n",
      "3750/3750 [==============================] - 230s 61ms/step - loss: 0.7494 - accuracy: 0.6909 - val_loss: 1.1969 - val_accuracy: 0.6690\n",
      "Epoch 21/100\n",
      "3750/3750 [==============================] - 230s 61ms/step - loss: 0.7013 - accuracy: 0.7081 - val_loss: 1.1844 - val_accuracy: 0.6817\n",
      "Epoch 22/100\n",
      "3750/3750 [==============================] - 230s 61ms/step - loss: 0.6544 - accuracy: 0.7226 - val_loss: 1.2175 - val_accuracy: 0.6790\n",
      "Epoch 23/100\n",
      "3750/3750 [==============================] - 230s 61ms/step - loss: 0.6149 - accuracy: 0.7358 - val_loss: 1.1893 - val_accuracy: 0.6873\n",
      "Epoch 24/100\n",
      "3750/3750 [==============================] - 228s 61ms/step - loss: 0.5787 - accuracy: 0.7493 - val_loss: 1.1662 - val_accuracy: 0.6956\n",
      "Epoch 25/100\n",
      "3750/3750 [==============================] - 227s 61ms/step - loss: 0.5387 - accuracy: 0.7623 - val_loss: 1.1918 - val_accuracy: 0.7046\n",
      "Epoch 26/100\n",
      "3750/3750 [==============================] - 228s 61ms/step - loss: 0.5023 - accuracy: 0.7774 - val_loss: 1.1764 - val_accuracy: 0.7013\n",
      "Epoch 27/100\n",
      "3750/3750 [==============================] - 227s 61ms/step - loss: 0.4763 - accuracy: 0.7887 - val_loss: 1.1969 - val_accuracy: 0.7105\n",
      "Epoch 28/100\n",
      "3750/3750 [==============================] - 227s 61ms/step - loss: 0.4456 - accuracy: 0.7992 - val_loss: 1.1795 - val_accuracy: 0.7167\n",
      "Epoch 29/100\n",
      "3750/3750 [==============================] - 227s 61ms/step - loss: 0.4300 - accuracy: 0.8072 - val_loss: 1.2011 - val_accuracy: 0.7243\n",
      "Epoch 30/100\n",
      "3750/3750 [==============================] - 228s 61ms/step - loss: 0.4004 - accuracy: 0.8193 - val_loss: 1.2357 - val_accuracy: 0.7191\n",
      "Epoch 31/100\n",
      "3750/3750 [==============================] - 227s 61ms/step - loss: 0.3764 - accuracy: 0.8271 - val_loss: 1.1415 - val_accuracy: 0.7364\n",
      "Epoch 32/100\n",
      "3750/3750 [==============================] - 230s 61ms/step - loss: 0.3640 - accuracy: 0.8347 - val_loss: 1.1792 - val_accuracy: 0.7380\n",
      "Epoch 33/100\n",
      "3750/3750 [==============================] - 229s 61ms/step - loss: 0.3421 - accuracy: 0.8415 - val_loss: 1.1668 - val_accuracy: 0.7470\n",
      "Epoch 34/100\n",
      "3750/3750 [==============================] - 230s 61ms/step - loss: 0.3259 - accuracy: 0.8496 - val_loss: 1.1930 - val_accuracy: 0.7486\n",
      "Epoch 35/100\n",
      "3750/3750 [==============================] - 230s 61ms/step - loss: 0.3089 - accuracy: 0.8584 - val_loss: 1.2129 - val_accuracy: 0.7448\n",
      "Epoch 36/100\n",
      "3750/3750 [==============================] - 230s 61ms/step - loss: 0.2966 - accuracy: 0.8620 - val_loss: 1.1914 - val_accuracy: 0.7519\n",
      "Epoch 37/100\n",
      "3750/3750 [==============================] - 230s 61ms/step - loss: 0.2825 - accuracy: 0.8700 - val_loss: 1.1925 - val_accuracy: 0.7545\n",
      "Epoch 38/100\n",
      "3750/3750 [==============================] - 230s 61ms/step - loss: 0.2739 - accuracy: 0.8755 - val_loss: 1.1741 - val_accuracy: 0.7581\n",
      "Epoch 39/100\n",
      "3750/3750 [==============================] - 229s 61ms/step - loss: 0.2643 - accuracy: 0.8783 - val_loss: 1.1935 - val_accuracy: 0.7548\n",
      "Epoch 40/100\n",
      "3750/3750 [==============================] - 230s 61ms/step - loss: 0.2470 - accuracy: 0.8855 - val_loss: 1.2007 - val_accuracy: 0.7588\n",
      "Epoch 41/100\n",
      "3750/3750 [==============================] - 230s 61ms/step - loss: 0.2412 - accuracy: 0.8893 - val_loss: 1.1925 - val_accuracy: 0.7645\n",
      "Epoch 42/100\n",
      "3750/3750 [==============================] - 230s 61ms/step - loss: 0.2275 - accuracy: 0.8952 - val_loss: 1.1736 - val_accuracy: 0.7641\n",
      "Epoch 43/100\n",
      "3750/3750 [==============================] - 230s 61ms/step - loss: 0.2277 - accuracy: 0.8949 - val_loss: 1.2201 - val_accuracy: 0.7600\n",
      "Epoch 44/100\n",
      "3750/3750 [==============================] - 230s 61ms/step - loss: 0.2153 - accuracy: 0.9004 - val_loss: 1.1610 - val_accuracy: 0.7684\n",
      "Epoch 45/100\n",
      "3750/3750 [==============================] - 230s 61ms/step - loss: 0.2019 - accuracy: 0.9061 - val_loss: 1.1914 - val_accuracy: 0.7742\n",
      "Epoch 46/100\n",
      "3750/3750 [==============================] - 230s 61ms/step - loss: 0.1985 - accuracy: 0.9082 - val_loss: 1.2068 - val_accuracy: 0.7710\n",
      "Epoch 47/100\n",
      "3750/3750 [==============================] - 231s 62ms/step - loss: 0.1980 - accuracy: 0.9094 - val_loss: 1.1889 - val_accuracy: 0.7655\n",
      "Epoch 48/100\n",
      "3750/3750 [==============================] - 231s 62ms/step - loss: 0.1856 - accuracy: 0.9129 - val_loss: 1.1923 - val_accuracy: 0.7738\n",
      "Epoch 49/100\n",
      "3750/3750 [==============================] - 231s 62ms/step - loss: 0.1831 - accuracy: 0.9167 - val_loss: 1.1868 - val_accuracy: 0.7783\n",
      "Epoch 50/100\n",
      "3750/3750 [==============================] - 231s 62ms/step - loss: 0.1738 - accuracy: 0.9188 - val_loss: 1.2025 - val_accuracy: 0.7739\n",
      "Epoch 51/100\n",
      "3750/3750 [==============================] - 231s 62ms/step - loss: 0.1737 - accuracy: 0.9211 - val_loss: 1.1739 - val_accuracy: 0.7821\n",
      "Epoch 52/100\n",
      "3750/3750 [==============================] - 231s 62ms/step - loss: 0.1643 - accuracy: 0.9250 - val_loss: 1.1868 - val_accuracy: 0.7746\n",
      "Epoch 53/100\n",
      "3750/3750 [==============================] - 231s 62ms/step - loss: 0.1615 - accuracy: 0.9261 - val_loss: 1.2080 - val_accuracy: 0.7821\n",
      "Epoch 54/100\n",
      "3750/3750 [==============================] - 231s 62ms/step - loss: 0.1556 - accuracy: 0.9283 - val_loss: 1.2126 - val_accuracy: 0.7809\n",
      "Epoch 55/100\n",
      "3750/3750 [==============================] - 232s 62ms/step - loss: 0.1502 - accuracy: 0.9308 - val_loss: 1.2059 - val_accuracy: 0.7845\n",
      "Epoch 56/100\n",
      "3750/3750 [==============================] - 231s 62ms/step - loss: 0.1460 - accuracy: 0.9333 - val_loss: 1.1914 - val_accuracy: 0.7891\n",
      "Epoch 57/100\n",
      "3750/3750 [==============================] - 231s 61ms/step - loss: 0.1496 - accuracy: 0.9322 - val_loss: 1.1894 - val_accuracy: 0.7868\n",
      "Epoch 58/100\n",
      "3750/3750 [==============================] - 231s 62ms/step - loss: 0.1393 - accuracy: 0.9362 - val_loss: 1.1972 - val_accuracy: 0.7868\n",
      "Epoch 59/100\n",
      "3750/3750 [==============================] - 231s 62ms/step - loss: 0.1422 - accuracy: 0.9359 - val_loss: 1.1469 - val_accuracy: 0.7921\n",
      "Epoch 60/100\n",
      "3750/3750 [==============================] - 231s 62ms/step - loss: 0.1363 - accuracy: 0.9382 - val_loss: 1.1927 - val_accuracy: 0.7880\n",
      "Epoch 61/100\n",
      "3750/3750 [==============================] - 231s 62ms/step - loss: 0.1348 - accuracy: 0.9392 - val_loss: 1.1509 - val_accuracy: 0.7908\n",
      "Epoch 62/100\n",
      "3750/3750 [==============================] - 231s 62ms/step - loss: 0.1255 - accuracy: 0.9429 - val_loss: 1.1586 - val_accuracy: 0.7921\n",
      "Epoch 63/100\n",
      "3750/3750 [==============================] - 231s 62ms/step - loss: 0.1263 - accuracy: 0.9438 - val_loss: 1.2314 - val_accuracy: 0.7891\n",
      "Epoch 64/100\n",
      "3750/3750 [==============================] - 231s 62ms/step - loss: 0.1267 - accuracy: 0.9438 - val_loss: 1.2045 - val_accuracy: 0.7949\n",
      "Epoch 65/100\n",
      "3750/3750 [==============================] - 231s 62ms/step - loss: 0.1206 - accuracy: 0.9445 - val_loss: 1.1873 - val_accuracy: 0.7948\n",
      "Epoch 66/100\n",
      "3750/3750 [==============================] - 231s 62ms/step - loss: 0.1164 - accuracy: 0.9475 - val_loss: 1.1828 - val_accuracy: 0.7976\n",
      "Epoch 67/100\n",
      "3750/3750 [==============================] - 232s 62ms/step - loss: 0.1121 - accuracy: 0.9485 - val_loss: 1.1466 - val_accuracy: 0.7987\n",
      "Epoch 68/100\n",
      "3750/3750 [==============================] - 231s 61ms/step - loss: 0.1127 - accuracy: 0.9504 - val_loss: 1.1969 - val_accuracy: 0.7969\n",
      "Epoch 69/100\n",
      "3750/3750 [==============================] - 231s 62ms/step - loss: 0.1114 - accuracy: 0.9494 - val_loss: 1.1954 - val_accuracy: 0.8001\n",
      "Epoch 70/100\n",
      "3750/3750 [==============================] - 231s 62ms/step - loss: 0.1109 - accuracy: 0.9510 - val_loss: 1.1754 - val_accuracy: 0.8016\n",
      "Epoch 71/100\n",
      "3750/3750 [==============================] - 231s 62ms/step - loss: 0.1091 - accuracy: 0.9512 - val_loss: 1.2068 - val_accuracy: 0.7971\n",
      "Epoch 72/100\n",
      "3750/3750 [==============================] - 231s 62ms/step - loss: 0.0999 - accuracy: 0.9556 - val_loss: 1.2091 - val_accuracy: 0.7989\n",
      "Epoch 73/100\n",
      "3750/3750 [==============================] - 231s 62ms/step - loss: 0.1046 - accuracy: 0.9540 - val_loss: 1.1750 - val_accuracy: 0.8019\n",
      "Epoch 74/100\n",
      "3750/3750 [==============================] - 231s 62ms/step - loss: 0.1033 - accuracy: 0.9537 - val_loss: 1.1787 - val_accuracy: 0.8023\n",
      "Epoch 75/100\n",
      "3750/3750 [==============================] - 231s 62ms/step - loss: 0.0967 - accuracy: 0.9567 - val_loss: 1.1916 - val_accuracy: 0.8043\n",
      "Epoch 76/100\n",
      "3750/3750 [==============================] - 232s 62ms/step - loss: 0.1000 - accuracy: 0.9563 - val_loss: 1.1664 - val_accuracy: 0.8042\n",
      "Epoch 77/100\n",
      "3750/3750 [==============================] - 232s 62ms/step - loss: 0.0983 - accuracy: 0.9576 - val_loss: 1.2083 - val_accuracy: 0.8016\n",
      "Epoch 78/100\n",
      "3750/3750 [==============================] - 232s 62ms/step - loss: 0.0972 - accuracy: 0.9567 - val_loss: 1.1650 - val_accuracy: 0.8074\n",
      "Epoch 79/100\n",
      "3750/3750 [==============================] - 231s 62ms/step - loss: 0.0922 - accuracy: 0.9591 - val_loss: 1.2241 - val_accuracy: 0.8027\n",
      "Epoch 80/100\n",
      "3750/3750 [==============================] - 231s 62ms/step - loss: 0.0860 - accuracy: 0.9611 - val_loss: 1.1761 - val_accuracy: 0.8073\n",
      "Epoch 81/100\n",
      "3750/3750 [==============================] - 232s 62ms/step - loss: 0.0890 - accuracy: 0.9614 - val_loss: 1.1652 - val_accuracy: 0.8069\n",
      "Epoch 82/100\n",
      "3750/3750 [==============================] - 232s 62ms/step - loss: 0.0905 - accuracy: 0.9607 - val_loss: 1.1653 - val_accuracy: 0.8067\n",
      "Epoch 83/100\n",
      "3750/3750 [==============================] - 232s 62ms/step - loss: 0.0848 - accuracy: 0.9632 - val_loss: 1.1996 - val_accuracy: 0.8088\n",
      "Epoch 84/100\n",
      "3750/3750 [==============================] - 231s 62ms/step - loss: 0.0832 - accuracy: 0.9628 - val_loss: 1.2168 - val_accuracy: 0.8077\n",
      "Epoch 85/100\n",
      "3750/3750 [==============================] - 232s 62ms/step - loss: 0.0870 - accuracy: 0.9623 - val_loss: 1.1710 - val_accuracy: 0.8105\n",
      "Epoch 86/100\n",
      "3750/3750 [==============================] - 231s 62ms/step - loss: 0.0821 - accuracy: 0.9638 - val_loss: 1.1935 - val_accuracy: 0.8087\n",
      "Epoch 87/100\n",
      "3750/3750 [==============================] - 232s 62ms/step - loss: 0.0832 - accuracy: 0.9639 - val_loss: 1.1749 - val_accuracy: 0.8141\n",
      "Epoch 88/100\n",
      "3750/3750 [==============================] - 231s 62ms/step - loss: 0.0803 - accuracy: 0.9656 - val_loss: 1.1848 - val_accuracy: 0.8084\n",
      "Epoch 89/100\n",
      "3750/3750 [==============================] - 231s 62ms/step - loss: 0.0779 - accuracy: 0.9654 - val_loss: 1.1378 - val_accuracy: 0.8173\n",
      "Epoch 90/100\n",
      "3750/3750 [==============================] - 232s 62ms/step - loss: 0.0786 - accuracy: 0.9657 - val_loss: 1.2018 - val_accuracy: 0.8117\n",
      "Epoch 91/100\n",
      "3750/3750 [==============================] - 231s 62ms/step - loss: 0.0750 - accuracy: 0.9667 - val_loss: 1.1912 - val_accuracy: 0.8105\n",
      "Epoch 92/100\n",
      "3750/3750 [==============================] - 231s 62ms/step - loss: 0.0786 - accuracy: 0.9661 - val_loss: 1.1910 - val_accuracy: 0.8097\n",
      "Epoch 93/100\n",
      "3750/3750 [==============================] - 232s 62ms/step - loss: 0.0740 - accuracy: 0.9676 - val_loss: 1.1520 - val_accuracy: 0.8153\n",
      "Epoch 94/100\n",
      "3750/3750 [==============================] - 231s 62ms/step - loss: 0.0763 - accuracy: 0.9659 - val_loss: 1.2239 - val_accuracy: 0.8098\n",
      "Epoch 95/100\n",
      "3750/3750 [==============================] - 231s 62ms/step - loss: 0.0721 - accuracy: 0.9689 - val_loss: 1.1597 - val_accuracy: 0.8184\n",
      "Epoch 96/100\n",
      "3750/3750 [==============================] - 231s 62ms/step - loss: 0.0724 - accuracy: 0.9689 - val_loss: 1.1538 - val_accuracy: 0.8184\n",
      "Epoch 97/100\n",
      "3750/3750 [==============================] - 231s 62ms/step - loss: 0.0731 - accuracy: 0.9686 - val_loss: 1.1523 - val_accuracy: 0.8181\n",
      "Epoch 98/100\n",
      "3750/3750 [==============================] - 233s 62ms/step - loss: 0.0724 - accuracy: 0.9689 - val_loss: 1.1708 - val_accuracy: 0.8138\n",
      "Epoch 99/100\n",
      "3750/3750 [==============================] - 229s 61ms/step - loss: 0.0644 - accuracy: 0.9715 - val_loss: 1.1611 - val_accuracy: 0.8195\n",
      "Epoch 100/100\n",
      "3750/3750 [==============================] - 229s 61ms/step - loss: 0.0669 - accuracy: 0.9707 - val_loss: 1.1619 - val_accuracy: 0.8140\n"
     ]
    }
   ],
   "source": [
    "# the loss calculation occurs elsewhere, so we use a dummy lambda function for the loss\n",
    "from tensorflow import keras\n",
    "from tensorflow.keras.callbacks import ReduceLROnPlateau \n",
    "model_final.compile(loss={'ctc': lambda y_true, y_pred: y_pred}, optimizer=keras.optimizers.Adam(learning_rate=0.0001),\n",
    "                  metrics=['accuracy'])\n",
    "\n",
    "\n",
    "history = model_final.fit(x=[x_train_ran, y_train_ran_ctc, train_input_len, train_label_len], y=train_output, \n",
    "                validation_data=([x_test_ran, y_test_ran_ctc, test_input_len, test_label_len], test_output),\n",
    "                epochs=100, verbose=1, batch_size=16)"
   ]
  },
  {
   "cell_type": "code",
   "execution_count": 21,
   "metadata": {},
   "outputs": [
    {
     "data": {
      "application/vnd.plotly.v1+json": {
       "config": {
        "plotlyServerURL": "https://plot.ly"
       },
       "data": [
        {
         "line": {
          "color": "blue"
         },
         "mode": "lines",
         "name": "Train",
         "type": "scatter",
         "x": [
          1,
          2,
          3,
          4,
          5,
          6,
          7,
          8,
          9,
          10,
          11,
          12,
          13,
          14,
          15,
          16,
          17,
          18,
          19,
          20,
          21,
          22,
          23,
          24,
          25,
          26,
          27,
          28,
          29,
          30,
          31,
          32,
          33,
          34,
          35,
          36,
          37,
          38,
          39,
          40,
          41,
          42,
          43,
          44,
          45,
          46,
          47,
          48,
          49,
          50,
          51,
          52,
          53,
          54,
          55,
          56,
          57,
          58,
          59,
          60,
          61,
          62,
          63,
          64,
          65,
          66,
          67,
          68,
          69,
          70,
          71,
          72,
          73,
          74,
          75,
          76,
          77,
          78,
          79,
          80,
          81,
          82,
          83,
          84,
          85,
          86,
          87,
          88,
          89,
          90,
          91,
          92,
          93,
          94,
          95,
          96,
          97,
          98,
          99,
          100
         ],
         "xaxis": "x",
         "y": [
          0,
          0.02775000035762787,
          0.13956665992736816,
          0.2011999934911728,
          0.24513334035873413,
          0.3011166751384735,
          0.35413333773612976,
          0.3973666727542877,
          0.436599999666214,
          0.47378334403038025,
          0.5067499876022339,
          0.5361166596412659,
          0.5583999752998352,
          0.5774166584014893,
          0.5983833074569702,
          0.6158833503723145,
          0.6359500288963318,
          0.654033362865448,
          0.6712499856948853,
          0.6908833384513855,
          0.708133339881897,
          0.7226333618164062,
          0.7358166575431824,
          0.7492666840553284,
          0.7622666954994202,
          0.7773500084877014,
          0.7886999845504761,
          0.7991999983787537,
          0.8071833252906799,
          0.8193333148956299,
          0.8271333575248718,
          0.8347333073616028,
          0.8415166735649109,
          0.8496000170707703,
          0.8583833575248718,
          0.8619999885559082,
          0.8699666857719421,
          0.8754666447639465,
          0.8783000111579895,
          0.8854666948318481,
          0.8892999887466431,
          0.8952166438102722,
          0.8949000239372253,
          0.900433361530304,
          0.9060999751091003,
          0.9081500172615051,
          0.9094499945640564,
          0.912933349609375,
          0.916700005531311,
          0.918833315372467,
          0.9211000204086304,
          0.9249833226203918,
          0.9260833263397217,
          0.9283499717712402,
          0.930816650390625,
          0.9333000183105469,
          0.9321500062942505,
          0.9362499713897705,
          0.9359333515167236,
          0.9381666779518127,
          0.9391833543777466,
          0.9428666830062866,
          0.9437500238418579,
          0.9437666535377502,
          0.9444833397865295,
          0.9475499987602234,
          0.9484999775886536,
          0.9503666758537292,
          0.9493666887283325,
          0.9510499835014343,
          0.9511500000953674,
          0.9556000232696533,
          0.9539999961853027,
          0.9536833167076111,
          0.9567333459854126,
          0.9563166499137878,
          0.9575666785240173,
          0.9567333459854126,
          0.9590833187103271,
          0.9610833525657654,
          0.9613833427429199,
          0.9606666564941406,
          0.9631666541099548,
          0.9628000259399414,
          0.9622833132743835,
          0.9637500047683716,
          0.9638500213623047,
          0.965583324432373,
          0.965399980545044,
          0.9656500220298767,
          0.9666666388511658,
          0.9661166667938232,
          0.9675666689872742,
          0.9659000039100647,
          0.9689000248908997,
          0.9689499735832214,
          0.9685999751091003,
          0.9688833355903625,
          0.9715333580970764,
          0.9707000255584717
         ],
         "yaxis": "y"
        },
        {
         "line": {
          "color": "orange"
         },
         "mode": "lines",
         "name": "Validation",
         "type": "scatter",
         "x": [
          1,
          2,
          3,
          4,
          5,
          6,
          7,
          8,
          9,
          10,
          11,
          12,
          13,
          14,
          15,
          16,
          17,
          18,
          19,
          20,
          21,
          22,
          23,
          24,
          25,
          26,
          27,
          28,
          29,
          30,
          31,
          32,
          33,
          34,
          35,
          36,
          37,
          38,
          39,
          40,
          41,
          42,
          43,
          44,
          45,
          46,
          47,
          48,
          49,
          50,
          51,
          52,
          53,
          54,
          55,
          56,
          57,
          58,
          59,
          60,
          61,
          62,
          63,
          64,
          65,
          66,
          67,
          68,
          69,
          70,
          71,
          72,
          73,
          74,
          75,
          76,
          77,
          78,
          79,
          80,
          81,
          82,
          83,
          84,
          85,
          86,
          87,
          88,
          89,
          90,
          91,
          92,
          93,
          94,
          95,
          96,
          97,
          98,
          99,
          100
         ],
         "xaxis": "x",
         "y": [
          0,
          0.09749999642372131,
          0.19494999945163727,
          0.22994999587535858,
          0.29065001010894775,
          0.3343999981880188,
          0.39605000615119934,
          0.4348999857902527,
          0.49915000796318054,
          0.5091500282287598,
          0.5220000147819519,
          0.5508000254631042,
          0.5767999887466431,
          0.6028000116348267,
          0.5985000133514404,
          0.6134999990463257,
          0.6298499703407288,
          0.6471499800682068,
          0.6376000046730042,
          0.6690499782562256,
          0.6816999912261963,
          0.6789500117301941,
          0.6873000264167786,
          0.6955999732017517,
          0.7046499848365784,
          0.7012500166893005,
          0.7105000019073486,
          0.7166500091552734,
          0.7242500185966492,
          0.7190999984741211,
          0.7364000082015991,
          0.7380499839782715,
          0.746999979019165,
          0.7486000061035156,
          0.7447500228881836,
          0.7519000172615051,
          0.7544500231742859,
          0.7580500245094299,
          0.7548499703407288,
          0.7588000297546387,
          0.7644500136375427,
          0.7641000151634216,
          0.7600499987602234,
          0.7684000134468079,
          0.7742499709129333,
          0.7709500193595886,
          0.7654500007629395,
          0.7738000154495239,
          0.7782999873161316,
          0.7738500237464905,
          0.7821000218391418,
          0.7746000289916992,
          0.7821499705314636,
          0.7809000015258789,
          0.784500002861023,
          0.7891499996185303,
          0.7867500185966492,
          0.7867500185966492,
          0.7921000123023987,
          0.7879999876022339,
          0.7908499836921692,
          0.7921000123023987,
          0.7890999913215637,
          0.7949000000953674,
          0.7947999835014343,
          0.7975500226020813,
          0.7986999750137329,
          0.7968500256538391,
          0.8001499772071838,
          0.8016499876976013,
          0.7971000075340271,
          0.7989000082015991,
          0.8018500208854675,
          0.8022500276565552,
          0.8042500019073486,
          0.8041999936103821,
          0.8015999794006348,
          0.807449996471405,
          0.8026999831199646,
          0.8073499798774719,
          0.8069000244140625,
          0.8067499995231628,
          0.8088499903678894,
          0.8077499866485596,
          0.8105499744415283,
          0.808650016784668,
          0.8141000270843506,
          0.8083500266075134,
          0.817300021648407,
          0.8117499947547913,
          0.8105499744415283,
          0.8096500039100647,
          0.8153499960899353,
          0.8098499774932861,
          0.8184499740600586,
          0.8184000253677368,
          0.8180999755859375,
          0.8138499855995178,
          0.8194500207901001,
          0.8139500021934509
         ],
         "yaxis": "y"
        },
        {
         "line": {
          "color": "blue"
         },
         "mode": "lines",
         "name": "Train",
         "showlegend": false,
         "type": "scatter",
         "x": [
          1,
          2,
          3,
          4,
          5,
          6,
          7,
          8,
          9,
          10,
          11,
          12,
          13,
          14,
          15,
          16,
          17,
          18,
          19,
          20,
          21,
          22,
          23,
          24,
          25,
          26,
          27,
          28,
          29,
          30,
          31,
          32,
          33,
          34,
          35,
          36,
          37,
          38,
          39,
          40,
          41,
          42,
          43,
          44,
          45,
          46,
          47,
          48,
          49,
          50,
          51,
          52,
          53,
          54,
          55,
          56,
          57,
          58,
          59,
          60,
          61,
          62,
          63,
          64,
          65,
          66,
          67,
          68,
          69,
          70,
          71,
          72,
          73,
          74,
          75,
          76,
          77,
          78,
          79,
          80,
          81,
          82,
          83,
          84,
          85,
          86,
          87,
          88,
          89,
          90,
          91,
          92,
          93,
          94,
          95,
          96,
          97,
          98,
          99,
          100
         ],
         "xaxis": "x2",
         "y": [
          9.074519157409668,
          5.833574295043945,
          4.268180847167969,
          3.5037801265716553,
          3.0070700645446777,
          2.6407508850097656,
          2.328923463821411,
          2.061912775039673,
          1.8416796922683716,
          1.6612234115600586,
          1.5063015222549438,
          1.381739616394043,
          1.2762322425842285,
          1.1790491342544556,
          1.0884830951690674,
          1.0152593851089478,
          0.9407861828804016,
          0.8730771541595459,
          0.807263195514679,
          0.7493557929992676,
          0.7012904286384583,
          0.6543941497802734,
          0.6149196624755859,
          0.578732967376709,
          0.5386502742767334,
          0.5022873282432556,
          0.47631412744522095,
          0.4456324279308319,
          0.42999860644340515,
          0.40038764476776123,
          0.37641453742980957,
          0.3639581799507141,
          0.3420882821083069,
          0.32591086626052856,
          0.30889713764190674,
          0.29656466841697693,
          0.28249621391296387,
          0.2738916575908661,
          0.26425161957740784,
          0.24698638916015625,
          0.2412499338388443,
          0.22746732831001282,
          0.22768904268741608,
          0.21529728174209595,
          0.20193921029567719,
          0.1985418200492859,
          0.1979828029870987,
          0.18560995161533356,
          0.18309693038463593,
          0.17376871407032013,
          0.1737116277217865,
          0.16428683698177338,
          0.16148503124713898,
          0.15563087165355682,
          0.1502399444580078,
          0.14597885310649872,
          0.14958441257476807,
          0.13925442099571228,
          0.14215871691703796,
          0.13626129925251007,
          0.1348114311695099,
          0.12547095119953156,
          0.12632840871810913,
          0.12665416300296783,
          0.1205875426530838,
          0.11636273562908173,
          0.11209684610366821,
          0.11270438134670258,
          0.11143635958433151,
          0.11089137941598892,
          0.10910060256719589,
          0.09986580908298492,
          0.10457373410463333,
          0.10328540205955505,
          0.09669113904237747,
          0.10001810640096664,
          0.09825924783945084,
          0.09723727405071259,
          0.09216517955064774,
          0.08598115295171738,
          0.08899065107107162,
          0.09050893038511276,
          0.08484198153018951,
          0.0832383930683136,
          0.0869704931974411,
          0.08209049701690674,
          0.08320014923810959,
          0.08032289892435074,
          0.07785018533468246,
          0.07855644822120667,
          0.07501985132694244,
          0.07863227277994156,
          0.07399753481149673,
          0.07633261382579803,
          0.07212598621845245,
          0.07238125056028366,
          0.07306201756000519,
          0.07238195091485977,
          0.06439732015132904,
          0.06692909449338913
         ],
         "yaxis": "y2"
        },
        {
         "line": {
          "color": "orange"
         },
         "mode": "lines",
         "name": "Validation",
         "showlegend": false,
         "type": "scatter",
         "x": [
          1,
          2,
          3,
          4,
          5,
          6,
          7,
          8,
          9,
          10,
          11,
          12,
          13,
          14,
          15,
          16,
          17,
          18,
          19,
          20,
          21,
          22,
          23,
          24,
          25,
          26,
          27,
          28,
          29,
          30,
          31,
          32,
          33,
          34,
          35,
          36,
          37,
          38,
          39,
          40,
          41,
          42,
          43,
          44,
          45,
          46,
          47,
          48,
          49,
          50,
          51,
          52,
          53,
          54,
          55,
          56,
          57,
          58,
          59,
          60,
          61,
          62,
          63,
          64,
          65,
          66,
          67,
          68,
          69,
          70,
          71,
          72,
          73,
          74,
          75,
          76,
          77,
          78,
          79,
          80,
          81,
          82,
          83,
          84,
          85,
          86,
          87,
          88,
          89,
          90,
          91,
          92,
          93,
          94,
          95,
          96,
          97,
          98,
          99,
          100
         ],
         "xaxis": "x2",
         "y": [
          6.602964878082275,
          4.610343933105469,
          3.5682308673858643,
          2.984506130218506,
          2.64622163772583,
          2.3560707569122314,
          2.1096959114074707,
          1.8794186115264893,
          1.711780071258545,
          1.5914907455444336,
          1.6178834438323975,
          1.4544248580932617,
          1.402016282081604,
          1.3109227418899536,
          1.3118282556533813,
          1.3141584396362305,
          1.275504231452942,
          1.2118664979934692,
          1.2724311351776123,
          1.1968698501586914,
          1.1843528747558594,
          1.2174677848815918,
          1.189279317855835,
          1.1661871671676636,
          1.1917705535888672,
          1.1763898134231567,
          1.1968814134597778,
          1.1795296669006348,
          1.2011338472366333,
          1.2357045412063599,
          1.1414873600006104,
          1.1791683435440063,
          1.1668436527252197,
          1.1929875612258911,
          1.2129418849945068,
          1.1914297342300415,
          1.1925221681594849,
          1.1740754842758179,
          1.1934512853622437,
          1.2006981372833252,
          1.1925444602966309,
          1.173628330230713,
          1.2201335430145264,
          1.1609678268432617,
          1.1914103031158447,
          1.206755518913269,
          1.1888830661773682,
          1.192291259765625,
          1.1867867708206177,
          1.2025073766708374,
          1.1739073991775513,
          1.1868116855621338,
          1.2080196142196655,
          1.212625503540039,
          1.2059240341186523,
          1.1914401054382324,
          1.189417839050293,
          1.1972242593765259,
          1.146929383277893,
          1.1926631927490234,
          1.1509066820144653,
          1.158602237701416,
          1.2313774824142456,
          1.2045024633407593,
          1.1873072385787964,
          1.1827648878097534,
          1.1466261148452759,
          1.1969175338745117,
          1.1953859329223633,
          1.1753721237182617,
          1.2067930698394775,
          1.2090634107589722,
          1.1749693155288696,
          1.1787198781967163,
          1.1915550231933594,
          1.1663912534713745,
          1.208306074142456,
          1.165009617805481,
          1.224138617515564,
          1.176142692565918,
          1.1652095317840576,
          1.1652921438217163,
          1.199590802192688,
          1.2167774438858032,
          1.170969843864441,
          1.1934633255004883,
          1.1748663187026978,
          1.184756875038147,
          1.1377774477005005,
          1.2018014192581177,
          1.1912102699279785,
          1.1910220384597778,
          1.152010440826416,
          1.223909854888916,
          1.1597418785095215,
          1.1538113355636597,
          1.1523191928863525,
          1.1708149909973145,
          1.1611442565917969,
          1.1618598699569702
         ],
         "yaxis": "y2"
        }
       ],
       "layout": {
        "annotations": [
         {
          "font": {
           "size": 16
          },
          "showarrow": false,
          "text": "Model accuracy",
          "x": 0.225,
          "xanchor": "center",
          "xref": "paper",
          "y": 1,
          "yanchor": "bottom",
          "yref": "paper"
         },
         {
          "font": {
           "size": 16
          },
          "showarrow": false,
          "text": "Model loss",
          "x": 0.775,
          "xanchor": "center",
          "xref": "paper",
          "y": 1,
          "yanchor": "bottom",
          "yref": "paper"
         }
        ],
        "legend": {
         "x": 0.85,
         "y": 1
        },
        "template": {
         "data": {
          "bar": [
           {
            "error_x": {
             "color": "#2a3f5f"
            },
            "error_y": {
             "color": "#2a3f5f"
            },
            "marker": {
             "line": {
              "color": "#E5ECF6",
              "width": 0.5
             },
             "pattern": {
              "fillmode": "overlay",
              "size": 10,
              "solidity": 0.2
             }
            },
            "type": "bar"
           }
          ],
          "barpolar": [
           {
            "marker": {
             "line": {
              "color": "#E5ECF6",
              "width": 0.5
             },
             "pattern": {
              "fillmode": "overlay",
              "size": 10,
              "solidity": 0.2
             }
            },
            "type": "barpolar"
           }
          ],
          "carpet": [
           {
            "aaxis": {
             "endlinecolor": "#2a3f5f",
             "gridcolor": "white",
             "linecolor": "white",
             "minorgridcolor": "white",
             "startlinecolor": "#2a3f5f"
            },
            "baxis": {
             "endlinecolor": "#2a3f5f",
             "gridcolor": "white",
             "linecolor": "white",
             "minorgridcolor": "white",
             "startlinecolor": "#2a3f5f"
            },
            "type": "carpet"
           }
          ],
          "choropleth": [
           {
            "colorbar": {
             "outlinewidth": 0,
             "ticks": ""
            },
            "type": "choropleth"
           }
          ],
          "contour": [
           {
            "colorbar": {
             "outlinewidth": 0,
             "ticks": ""
            },
            "colorscale": [
             [
              0,
              "#0d0887"
             ],
             [
              0.1111111111111111,
              "#46039f"
             ],
             [
              0.2222222222222222,
              "#7201a8"
             ],
             [
              0.3333333333333333,
              "#9c179e"
             ],
             [
              0.4444444444444444,
              "#bd3786"
             ],
             [
              0.5555555555555556,
              "#d8576b"
             ],
             [
              0.6666666666666666,
              "#ed7953"
             ],
             [
              0.7777777777777778,
              "#fb9f3a"
             ],
             [
              0.8888888888888888,
              "#fdca26"
             ],
             [
              1,
              "#f0f921"
             ]
            ],
            "type": "contour"
           }
          ],
          "contourcarpet": [
           {
            "colorbar": {
             "outlinewidth": 0,
             "ticks": ""
            },
            "type": "contourcarpet"
           }
          ],
          "heatmap": [
           {
            "colorbar": {
             "outlinewidth": 0,
             "ticks": ""
            },
            "colorscale": [
             [
              0,
              "#0d0887"
             ],
             [
              0.1111111111111111,
              "#46039f"
             ],
             [
              0.2222222222222222,
              "#7201a8"
             ],
             [
              0.3333333333333333,
              "#9c179e"
             ],
             [
              0.4444444444444444,
              "#bd3786"
             ],
             [
              0.5555555555555556,
              "#d8576b"
             ],
             [
              0.6666666666666666,
              "#ed7953"
             ],
             [
              0.7777777777777778,
              "#fb9f3a"
             ],
             [
              0.8888888888888888,
              "#fdca26"
             ],
             [
              1,
              "#f0f921"
             ]
            ],
            "type": "heatmap"
           }
          ],
          "heatmapgl": [
           {
            "colorbar": {
             "outlinewidth": 0,
             "ticks": ""
            },
            "colorscale": [
             [
              0,
              "#0d0887"
             ],
             [
              0.1111111111111111,
              "#46039f"
             ],
             [
              0.2222222222222222,
              "#7201a8"
             ],
             [
              0.3333333333333333,
              "#9c179e"
             ],
             [
              0.4444444444444444,
              "#bd3786"
             ],
             [
              0.5555555555555556,
              "#d8576b"
             ],
             [
              0.6666666666666666,
              "#ed7953"
             ],
             [
              0.7777777777777778,
              "#fb9f3a"
             ],
             [
              0.8888888888888888,
              "#fdca26"
             ],
             [
              1,
              "#f0f921"
             ]
            ],
            "type": "heatmapgl"
           }
          ],
          "histogram": [
           {
            "marker": {
             "pattern": {
              "fillmode": "overlay",
              "size": 10,
              "solidity": 0.2
             }
            },
            "type": "histogram"
           }
          ],
          "histogram2d": [
           {
            "colorbar": {
             "outlinewidth": 0,
             "ticks": ""
            },
            "colorscale": [
             [
              0,
              "#0d0887"
             ],
             [
              0.1111111111111111,
              "#46039f"
             ],
             [
              0.2222222222222222,
              "#7201a8"
             ],
             [
              0.3333333333333333,
              "#9c179e"
             ],
             [
              0.4444444444444444,
              "#bd3786"
             ],
             [
              0.5555555555555556,
              "#d8576b"
             ],
             [
              0.6666666666666666,
              "#ed7953"
             ],
             [
              0.7777777777777778,
              "#fb9f3a"
             ],
             [
              0.8888888888888888,
              "#fdca26"
             ],
             [
              1,
              "#f0f921"
             ]
            ],
            "type": "histogram2d"
           }
          ],
          "histogram2dcontour": [
           {
            "colorbar": {
             "outlinewidth": 0,
             "ticks": ""
            },
            "colorscale": [
             [
              0,
              "#0d0887"
             ],
             [
              0.1111111111111111,
              "#46039f"
             ],
             [
              0.2222222222222222,
              "#7201a8"
             ],
             [
              0.3333333333333333,
              "#9c179e"
             ],
             [
              0.4444444444444444,
              "#bd3786"
             ],
             [
              0.5555555555555556,
              "#d8576b"
             ],
             [
              0.6666666666666666,
              "#ed7953"
             ],
             [
              0.7777777777777778,
              "#fb9f3a"
             ],
             [
              0.8888888888888888,
              "#fdca26"
             ],
             [
              1,
              "#f0f921"
             ]
            ],
            "type": "histogram2dcontour"
           }
          ],
          "mesh3d": [
           {
            "colorbar": {
             "outlinewidth": 0,
             "ticks": ""
            },
            "type": "mesh3d"
           }
          ],
          "parcoords": [
           {
            "line": {
             "colorbar": {
              "outlinewidth": 0,
              "ticks": ""
             }
            },
            "type": "parcoords"
           }
          ],
          "pie": [
           {
            "automargin": true,
            "type": "pie"
           }
          ],
          "scatter": [
           {
            "fillpattern": {
             "fillmode": "overlay",
             "size": 10,
             "solidity": 0.2
            },
            "type": "scatter"
           }
          ],
          "scatter3d": [
           {
            "line": {
             "colorbar": {
              "outlinewidth": 0,
              "ticks": ""
             }
            },
            "marker": {
             "colorbar": {
              "outlinewidth": 0,
              "ticks": ""
             }
            },
            "type": "scatter3d"
           }
          ],
          "scattercarpet": [
           {
            "marker": {
             "colorbar": {
              "outlinewidth": 0,
              "ticks": ""
             }
            },
            "type": "scattercarpet"
           }
          ],
          "scattergeo": [
           {
            "marker": {
             "colorbar": {
              "outlinewidth": 0,
              "ticks": ""
             }
            },
            "type": "scattergeo"
           }
          ],
          "scattergl": [
           {
            "marker": {
             "colorbar": {
              "outlinewidth": 0,
              "ticks": ""
             }
            },
            "type": "scattergl"
           }
          ],
          "scattermapbox": [
           {
            "marker": {
             "colorbar": {
              "outlinewidth": 0,
              "ticks": ""
             }
            },
            "type": "scattermapbox"
           }
          ],
          "scatterpolar": [
           {
            "marker": {
             "colorbar": {
              "outlinewidth": 0,
              "ticks": ""
             }
            },
            "type": "scatterpolar"
           }
          ],
          "scatterpolargl": [
           {
            "marker": {
             "colorbar": {
              "outlinewidth": 0,
              "ticks": ""
             }
            },
            "type": "scatterpolargl"
           }
          ],
          "scatterternary": [
           {
            "marker": {
             "colorbar": {
              "outlinewidth": 0,
              "ticks": ""
             }
            },
            "type": "scatterternary"
           }
          ],
          "surface": [
           {
            "colorbar": {
             "outlinewidth": 0,
             "ticks": ""
            },
            "colorscale": [
             [
              0,
              "#0d0887"
             ],
             [
              0.1111111111111111,
              "#46039f"
             ],
             [
              0.2222222222222222,
              "#7201a8"
             ],
             [
              0.3333333333333333,
              "#9c179e"
             ],
             [
              0.4444444444444444,
              "#bd3786"
             ],
             [
              0.5555555555555556,
              "#d8576b"
             ],
             [
              0.6666666666666666,
              "#ed7953"
             ],
             [
              0.7777777777777778,
              "#fb9f3a"
             ],
             [
              0.8888888888888888,
              "#fdca26"
             ],
             [
              1,
              "#f0f921"
             ]
            ],
            "type": "surface"
           }
          ],
          "table": [
           {
            "cells": {
             "fill": {
              "color": "#EBF0F8"
             },
             "line": {
              "color": "white"
             }
            },
            "header": {
             "fill": {
              "color": "#C8D4E3"
             },
             "line": {
              "color": "white"
             }
            },
            "type": "table"
           }
          ]
         },
         "layout": {
          "annotationdefaults": {
           "arrowcolor": "#2a3f5f",
           "arrowhead": 0,
           "arrowwidth": 1
          },
          "autotypenumbers": "strict",
          "coloraxis": {
           "colorbar": {
            "outlinewidth": 0,
            "ticks": ""
           }
          },
          "colorscale": {
           "diverging": [
            [
             0,
             "#8e0152"
            ],
            [
             0.1,
             "#c51b7d"
            ],
            [
             0.2,
             "#de77ae"
            ],
            [
             0.3,
             "#f1b6da"
            ],
            [
             0.4,
             "#fde0ef"
            ],
            [
             0.5,
             "#f7f7f7"
            ],
            [
             0.6,
             "#e6f5d0"
            ],
            [
             0.7,
             "#b8e186"
            ],
            [
             0.8,
             "#7fbc41"
            ],
            [
             0.9,
             "#4d9221"
            ],
            [
             1,
             "#276419"
            ]
           ],
           "sequential": [
            [
             0,
             "#0d0887"
            ],
            [
             0.1111111111111111,
             "#46039f"
            ],
            [
             0.2222222222222222,
             "#7201a8"
            ],
            [
             0.3333333333333333,
             "#9c179e"
            ],
            [
             0.4444444444444444,
             "#bd3786"
            ],
            [
             0.5555555555555556,
             "#d8576b"
            ],
            [
             0.6666666666666666,
             "#ed7953"
            ],
            [
             0.7777777777777778,
             "#fb9f3a"
            ],
            [
             0.8888888888888888,
             "#fdca26"
            ],
            [
             1,
             "#f0f921"
            ]
           ],
           "sequentialminus": [
            [
             0,
             "#0d0887"
            ],
            [
             0.1111111111111111,
             "#46039f"
            ],
            [
             0.2222222222222222,
             "#7201a8"
            ],
            [
             0.3333333333333333,
             "#9c179e"
            ],
            [
             0.4444444444444444,
             "#bd3786"
            ],
            [
             0.5555555555555556,
             "#d8576b"
            ],
            [
             0.6666666666666666,
             "#ed7953"
            ],
            [
             0.7777777777777778,
             "#fb9f3a"
            ],
            [
             0.8888888888888888,
             "#fdca26"
            ],
            [
             1,
             "#f0f921"
            ]
           ]
          },
          "colorway": [
           "#636efa",
           "#EF553B",
           "#00cc96",
           "#ab63fa",
           "#FFA15A",
           "#19d3f3",
           "#FF6692",
           "#B6E880",
           "#FF97FF",
           "#FECB52"
          ],
          "font": {
           "color": "#2a3f5f"
          },
          "geo": {
           "bgcolor": "white",
           "lakecolor": "white",
           "landcolor": "#E5ECF6",
           "showlakes": true,
           "showland": true,
           "subunitcolor": "white"
          },
          "hoverlabel": {
           "align": "left"
          },
          "hovermode": "closest",
          "mapbox": {
           "style": "light"
          },
          "paper_bgcolor": "white",
          "plot_bgcolor": "#E5ECF6",
          "polar": {
           "angularaxis": {
            "gridcolor": "white",
            "linecolor": "white",
            "ticks": ""
           },
           "bgcolor": "#E5ECF6",
           "radialaxis": {
            "gridcolor": "white",
            "linecolor": "white",
            "ticks": ""
           }
          },
          "scene": {
           "xaxis": {
            "backgroundcolor": "#E5ECF6",
            "gridcolor": "white",
            "gridwidth": 2,
            "linecolor": "white",
            "showbackground": true,
            "ticks": "",
            "zerolinecolor": "white"
           },
           "yaxis": {
            "backgroundcolor": "#E5ECF6",
            "gridcolor": "white",
            "gridwidth": 2,
            "linecolor": "white",
            "showbackground": true,
            "ticks": "",
            "zerolinecolor": "white"
           },
           "zaxis": {
            "backgroundcolor": "#E5ECF6",
            "gridcolor": "white",
            "gridwidth": 2,
            "linecolor": "white",
            "showbackground": true,
            "ticks": "",
            "zerolinecolor": "white"
           }
          },
          "shapedefaults": {
           "line": {
            "color": "#2a3f5f"
           }
          },
          "ternary": {
           "aaxis": {
            "gridcolor": "white",
            "linecolor": "white",
            "ticks": ""
           },
           "baxis": {
            "gridcolor": "white",
            "linecolor": "white",
            "ticks": ""
           },
           "bgcolor": "#E5ECF6",
           "caxis": {
            "gridcolor": "white",
            "linecolor": "white",
            "ticks": ""
           }
          },
          "title": {
           "x": 0.05
          },
          "xaxis": {
           "automargin": true,
           "gridcolor": "white",
           "linecolor": "white",
           "ticks": "",
           "title": {
            "standoff": 15
           },
           "zerolinecolor": "white",
           "zerolinewidth": 2
          },
          "yaxis": {
           "automargin": true,
           "gridcolor": "white",
           "linecolor": "white",
           "ticks": "",
           "title": {
            "standoff": 15
           },
           "zerolinecolor": "white",
           "zerolinewidth": 2
          }
         }
        },
        "title": {
         "text": "Model Training History"
        },
        "xaxis": {
         "anchor": "y",
         "domain": [
          0,
          0.45
         ],
         "title": {
          "text": "Epoch"
         }
        },
        "xaxis2": {
         "anchor": "y2",
         "domain": [
          0.55,
          1
         ]
        },
        "yaxis": {
         "anchor": "x",
         "domain": [
          0,
          1
         ],
         "title": {
          "text": "Value"
         }
        },
        "yaxis2": {
         "anchor": "x2",
         "domain": [
          0,
          1
         ]
        }
       }
      }
     },
     "metadata": {},
     "output_type": "display_data"
    }
   ],
   "source": [
    "import plotly.graph_objects as go\n",
    "from plotly.subplots import make_subplots\n",
    "\n",
    "fig = make_subplots(rows=1, cols=2, subplot_titles=(\"Model accuracy\", \"Model loss\"))\n",
    "\n",
    "# Add the first subplot for accuracy\n",
    "fig.add_trace(go.Scatter(x=list(range(1, len(history.history['accuracy']) + 1)),\n",
    "                         y=history.history['accuracy'], mode='lines',\n",
    "                         name='Train', line=dict(color='blue')), row=1, col=1)\n",
    "fig.add_trace(go.Scatter(x=list(range(1, len(history.history['val_accuracy']) + 1)),\n",
    "                         y=history.history['val_accuracy'], mode='lines',\n",
    "                         name='Validation', line=dict(color='orange')), row=1, col=1)\n",
    "\n",
    "# Add the second subplot for loss\n",
    "fig.add_trace(go.Scatter(x=list(range(1, len(history.history['loss']) + 1)),\n",
    "                         y=history.history['loss'], mode='lines',\n",
    "                         name='Train', line=dict(color='blue'), showlegend=False), row=1, col=2)\n",
    "fig.add_trace(go.Scatter(x=list(range(1, len(history.history['val_loss']) + 1)),\n",
    "                         y=history.history['val_loss'], mode='lines',\n",
    "                         name='Validation', line=dict(color='orange'), showlegend=False), row=1, col=2)\n",
    "\n",
    "fig.update_layout(title=\"Model Training History\",\n",
    "                  xaxis_title=\"Epoch\",\n",
    "                  yaxis_title=\"Value\",\n",
    "                  legend=dict(x=0.85, y=1))\n",
    "\n",
    "fig.show()"
   ]
  },
  {
   "cell_type": "code",
   "execution_count": null,
   "metadata": {},
   "outputs": [
    {
     "name": "stdout",
     "output_type": "stream",
     "text": [
      "Epoch 1/120\n",
      "3750/3750 [==============================] - 274s 71ms/step - loss: 7.8393 - accuracy: 0.0450 - val_loss: 4.5982 - val_accuracy: 0.1654\n",
      "Epoch 2/120\n",
      "3750/3750 [==============================] - 266s 71ms/step - loss: 3.7549 - accuracy: 0.2201 - val_loss: 2.8519 - val_accuracy: 0.3059\n",
      "Epoch 3/120\n",
      "3750/3750 [==============================] - 264s 71ms/step - loss: 2.6572 - accuracy: 0.3325 - val_loss: 2.2082 - val_accuracy: 0.3812\n",
      "Epoch 4/120\n",
      "3750/3750 [==============================] - 264s 70ms/step - loss: 2.0251 - accuracy: 0.4218 - val_loss: 1.6993 - val_accuracy: 0.4943\n",
      "Epoch 5/120\n",
      "3750/3750 [==============================] - 264s 71ms/step - loss: 1.6100 - accuracy: 0.4988 - val_loss: 1.3827 - val_accuracy: 0.5587\n",
      "Epoch 6/120\n",
      "3750/3750 [==============================] - 264s 70ms/step - loss: 1.3284 - accuracy: 0.5622 - val_loss: 1.2379 - val_accuracy: 0.6026\n",
      "Epoch 7/120\n",
      "3750/3750 [==============================] - 264s 70ms/step - loss: 1.1285 - accuracy: 0.6183 - val_loss: 1.1012 - val_accuracy: 0.6587\n",
      "Epoch 8/120\n",
      "3750/3750 [==============================] - 267s 71ms/step - loss: 0.9840 - accuracy: 0.6625 - val_loss: 0.9821 - val_accuracy: 0.6972\n",
      "Epoch 9/120\n",
      "3750/3750 [==============================] - 267s 71ms/step - loss: 0.8678 - accuracy: 0.7018 - val_loss: 1.0656 - val_accuracy: 0.6617\n",
      "Epoch 10/120\n",
      "3750/3750 [==============================] - 266s 71ms/step - loss: 0.7702 - accuracy: 0.7345 - val_loss: 0.8746 - val_accuracy: 0.7321\n",
      "Epoch 11/120\n",
      "3750/3750 [==============================] - 264s 70ms/step - loss: 0.6942 - accuracy: 0.7603 - val_loss: 0.8302 - val_accuracy: 0.7498\n",
      "Epoch 12/120\n",
      "3750/3750 [==============================] - 264s 70ms/step - loss: 0.6363 - accuracy: 0.7832 - val_loss: 0.7948 - val_accuracy: 0.7718\n",
      "Epoch 13/120\n",
      "3750/3750 [==============================] - 264s 70ms/step - loss: 0.5782 - accuracy: 0.8026 - val_loss: 0.8448 - val_accuracy: 0.7708\n",
      "Epoch 14/120\n",
      "3750/3750 [==============================] - 264s 70ms/step - loss: 0.5286 - accuracy: 0.8230 - val_loss: 0.7503 - val_accuracy: 0.7929\n",
      "Epoch 15/120\n",
      "3750/3750 [==============================] - 265s 71ms/step - loss: 0.4924 - accuracy: 0.8356 - val_loss: 0.7727 - val_accuracy: 0.7837\n",
      "Epoch 16/120\n",
      "3750/3750 [==============================] - 265s 71ms/step - loss: 0.4503 - accuracy: 0.8514 - val_loss: 0.7781 - val_accuracy: 0.7817\n",
      "Epoch 17/120\n",
      "3750/3750 [==============================] - 267s 71ms/step - loss: 0.4217 - accuracy: 0.8634 - val_loss: 0.7491 - val_accuracy: 0.8084\n",
      "Epoch 18/120\n",
      "3750/3750 [==============================] - 267s 71ms/step - loss: 0.3948 - accuracy: 0.8723 - val_loss: 0.7546 - val_accuracy: 0.8018\n",
      "Epoch 19/120\n",
      "3750/3750 [==============================] - 267s 71ms/step - loss: 0.3752 - accuracy: 0.8818 - val_loss: 0.8004 - val_accuracy: 0.8008\n",
      "Epoch 20/120\n",
      "3750/3750 [==============================] - 266s 71ms/step - loss: 0.3523 - accuracy: 0.8892 - val_loss: 0.6901 - val_accuracy: 0.8242\n",
      "Epoch 21/120\n",
      "3750/3750 [==============================] - 264s 70ms/step - loss: 0.3339 - accuracy: 0.8981 - val_loss: 0.6987 - val_accuracy: 0.8212\n",
      "Epoch 22/120\n",
      "3750/3750 [==============================] - 264s 70ms/step - loss: 0.3176 - accuracy: 0.9042 - val_loss: 0.7331 - val_accuracy: 0.8189\n",
      "Epoch 23/120\n",
      "3750/3750 [==============================] - 264s 70ms/step - loss: 0.3046 - accuracy: 0.9106 - val_loss: 0.7376 - val_accuracy: 0.8159\n",
      "Epoch 24/120\n",
      "3750/3750 [==============================] - 264s 70ms/step - loss: 0.2941 - accuracy: 0.9126 - val_loss: 0.6756 - val_accuracy: 0.8342\n",
      "Epoch 25/120\n",
      "3750/3750 [==============================] - 264s 70ms/step - loss: 0.2780 - accuracy: 0.9204 - val_loss: 0.6572 - val_accuracy: 0.8429\n",
      "Epoch 26/120\n",
      "3750/3750 [==============================] - 263s 70ms/step - loss: 0.2702 - accuracy: 0.9212 - val_loss: 0.6521 - val_accuracy: 0.8406\n",
      "Epoch 27/120\n",
      "3750/3750 [==============================] - 263s 70ms/step - loss: 0.2587 - accuracy: 0.9275 - val_loss: 0.7087 - val_accuracy: 0.8284\n",
      "Epoch 28/120\n",
      "3750/3750 [==============================] - 264s 70ms/step - loss: 0.2527 - accuracy: 0.9295 - val_loss: 0.6742 - val_accuracy: 0.8383\n",
      "Epoch 29/120\n",
      "3750/3750 [==============================] - 264s 70ms/step - loss: 0.2431 - accuracy: 0.9334 - val_loss: 0.6824 - val_accuracy: 0.8356\n",
      "Epoch 30/120\n",
      "3750/3750 [==============================] - 264s 70ms/step - loss: 0.2352 - accuracy: 0.9366 - val_loss: 0.6512 - val_accuracy: 0.8429\n",
      "Epoch 31/120\n",
      "3750/3750 [==============================] - 263s 70ms/step - loss: 0.2296 - accuracy: 0.9380 - val_loss: 0.6536 - val_accuracy: 0.8453\n",
      "Epoch 32/120\n",
      "3750/3750 [==============================] - 263s 70ms/step - loss: 0.2212 - accuracy: 0.9422 - val_loss: 0.6605 - val_accuracy: 0.8378\n",
      "Epoch 33/120\n",
      "3750/3750 [==============================] - 263s 70ms/step - loss: 0.2161 - accuracy: 0.9440 - val_loss: 0.6248 - val_accuracy: 0.8508\n",
      "Epoch 34/120\n",
      "3750/3750 [==============================] - 263s 70ms/step - loss: 0.2079 - accuracy: 0.9469 - val_loss: 0.6558 - val_accuracy: 0.8476\n",
      "Epoch 35/120\n",
      "3750/3750 [==============================] - 262s 70ms/step - loss: 0.2040 - accuracy: 0.9485 - val_loss: 0.6714 - val_accuracy: 0.8413\n",
      "Epoch 36/120\n",
      "3750/3750 [==============================] - 263s 70ms/step - loss: 0.2010 - accuracy: 0.9498 - val_loss: 0.6557 - val_accuracy: 0.8461\n",
      "Epoch 37/120\n",
      "3750/3750 [==============================] - 264s 70ms/step - loss: 0.1980 - accuracy: 0.9501 - val_loss: 0.6187 - val_accuracy: 0.8528\n",
      "Epoch 38/120\n",
      "3750/3750 [==============================] - 264s 70ms/step - loss: 0.1875 - accuracy: 0.9547 - val_loss: 0.6453 - val_accuracy: 0.8463\n",
      "Epoch 39/120\n",
      "3750/3750 [==============================] - 264s 70ms/step - loss: 0.1861 - accuracy: 0.9552 - val_loss: 0.6354 - val_accuracy: 0.8560\n",
      "Epoch 40/120\n",
      "3750/3750 [==============================] - 264s 70ms/step - loss: 0.1826 - accuracy: 0.9567 - val_loss: 0.5956 - val_accuracy: 0.8569\n",
      "Epoch 41/120\n",
      "3750/3750 [==============================] - 263s 70ms/step - loss: 0.1809 - accuracy: 0.9575 - val_loss: 0.6469 - val_accuracy: 0.8459\n",
      "Epoch 42/120\n",
      "3750/3750 [==============================] - 262s 70ms/step - loss: 0.1803 - accuracy: 0.9571 - val_loss: 0.7045 - val_accuracy: 0.8342\n",
      "Epoch 43/120\n",
      "3750/3750 [==============================] - 262s 70ms/step - loss: 0.1752 - accuracy: 0.9579 - val_loss: 0.6261 - val_accuracy: 0.8535\n",
      "Epoch 44/120\n",
      "3750/3750 [==============================] - 264s 70ms/step - loss: 0.1702 - accuracy: 0.9603 - val_loss: 0.6298 - val_accuracy: 0.8540\n",
      "Epoch 45/120\n",
      "3750/3750 [==============================] - 263s 70ms/step - loss: 0.1703 - accuracy: 0.9604 - val_loss: 0.6021 - val_accuracy: 0.8577\n",
      "Epoch 46/120\n",
      "3750/3750 [==============================] - 264s 70ms/step - loss: 0.1637 - accuracy: 0.9628 - val_loss: 0.6190 - val_accuracy: 0.8557\n",
      "Epoch 47/120\n",
      "3750/3750 [==============================] - 264s 70ms/step - loss: 0.1611 - accuracy: 0.9645 - val_loss: 0.6277 - val_accuracy: 0.8532\n",
      "Epoch 48/120\n",
      "3750/3750 [==============================] - 263s 70ms/step - loss: 0.1615 - accuracy: 0.9645 - val_loss: 0.5978 - val_accuracy: 0.8617\n",
      "Epoch 49/120\n",
      "3750/3750 [==============================] - 264s 70ms/step - loss: 0.1525 - accuracy: 0.9682 - val_loss: 0.5834 - val_accuracy: 0.8653\n",
      "Epoch 50/120\n",
      "3750/3750 [==============================] - 264s 70ms/step - loss: 0.1546 - accuracy: 0.9675 - val_loss: 0.6240 - val_accuracy: 0.8555\n",
      "Epoch 51/120\n",
      "3750/3750 [==============================] - 264s 70ms/step - loss: 0.1520 - accuracy: 0.9673 - val_loss: 0.6317 - val_accuracy: 0.8544\n",
      "Epoch 52/120\n",
      "3750/3750 [==============================] - 263s 70ms/step - loss: 0.1522 - accuracy: 0.9672 - val_loss: 0.6353 - val_accuracy: 0.8564\n",
      "Epoch 53/120\n",
      "3750/3750 [==============================] - 265s 71ms/step - loss: 0.1456 - accuracy: 0.9686 - val_loss: 0.6008 - val_accuracy: 0.8601\n",
      "Epoch 54/120\n",
      "3750/3750 [==============================] - 265s 71ms/step - loss: 0.1466 - accuracy: 0.9688 - val_loss: 0.6087 - val_accuracy: 0.8590\n",
      "Epoch 55/120\n",
      "3750/3750 [==============================] - 266s 71ms/step - loss: 0.1427 - accuracy: 0.9705 - val_loss: 0.5805 - val_accuracy: 0.8655\n",
      "Epoch 56/120\n",
      "3750/3750 [==============================] - 265s 71ms/step - loss: 0.1404 - accuracy: 0.9712 - val_loss: 0.5848 - val_accuracy: 0.8669\n",
      "Epoch 57/120\n",
      "3750/3750 [==============================] - 266s 71ms/step - loss: 0.1421 - accuracy: 0.9703 - val_loss: 0.6106 - val_accuracy: 0.8584\n",
      "Epoch 58/120\n",
      "3750/3750 [==============================] - 264s 70ms/step - loss: 0.1374 - accuracy: 0.9733 - val_loss: 0.5667 - val_accuracy: 0.8709\n",
      "Epoch 59/120\n",
      "3750/3750 [==============================] - 263s 70ms/step - loss: 0.1391 - accuracy: 0.9715 - val_loss: 0.5953 - val_accuracy: 0.8615\n",
      "Epoch 60/120\n",
      "3750/3750 [==============================] - 264s 70ms/step - loss: 0.1380 - accuracy: 0.9715 - val_loss: 0.6352 - val_accuracy: 0.8468\n",
      "Epoch 61/120\n",
      "3750/3750 [==============================] - 263s 70ms/step - loss: 0.1347 - accuracy: 0.9733 - val_loss: 0.6054 - val_accuracy: 0.8593\n",
      "Epoch 62/120\n",
      "3750/3750 [==============================] - 263s 70ms/step - loss: 0.1315 - accuracy: 0.9742 - val_loss: 0.5764 - val_accuracy: 0.8700\n",
      "Epoch 63/120\n",
      "3750/3750 [==============================] - 263s 70ms/step - loss: 0.1321 - accuracy: 0.9737 - val_loss: 0.5853 - val_accuracy: 0.8691\n",
      "Epoch 64/120\n",
      "3750/3750 [==============================] - 264s 70ms/step - loss: 0.1300 - accuracy: 0.9746 - val_loss: 0.5579 - val_accuracy: 0.8719\n",
      "Epoch 65/120\n",
      "3750/3750 [==============================] - 263s 70ms/step - loss: 0.1280 - accuracy: 0.9757 - val_loss: 0.5729 - val_accuracy: 0.8661\n",
      "Epoch 66/120\n",
      "3750/3750 [==============================] - 264s 70ms/step - loss: 0.1263 - accuracy: 0.9757 - val_loss: 0.5740 - val_accuracy: 0.8717\n",
      "Epoch 67/120\n",
      "3750/3750 [==============================] - 263s 70ms/step - loss: 0.1294 - accuracy: 0.9750 - val_loss: 0.5826 - val_accuracy: 0.8714\n",
      "Epoch 68/120\n",
      "3750/3750 [==============================] - 265s 71ms/step - loss: 0.1250 - accuracy: 0.9760 - val_loss: 0.5718 - val_accuracy: 0.8704\n",
      "Epoch 69/120\n",
      "3750/3750 [==============================] - 266s 71ms/step - loss: 0.1231 - accuracy: 0.9773 - val_loss: 0.5654 - val_accuracy: 0.8694\n",
      "Epoch 70/120\n",
      "3750/3750 [==============================] - 265s 71ms/step - loss: 0.1222 - accuracy: 0.9767 - val_loss: 0.5899 - val_accuracy: 0.8705\n",
      "Epoch 71/120\n",
      "3750/3750 [==============================] - 264s 70ms/step - loss: 0.1228 - accuracy: 0.9771 - val_loss: 0.5736 - val_accuracy: 0.8706\n",
      "Epoch 72/120\n",
      "3750/3750 [==============================] - 266s 71ms/step - loss: 0.1201 - accuracy: 0.9778 - val_loss: 0.5368 - val_accuracy: 0.8737\n",
      "Epoch 73/120\n",
      "3750/3750 [==============================] - 264s 70ms/step - loss: 0.1194 - accuracy: 0.9785 - val_loss: 0.5634 - val_accuracy: 0.8715\n",
      "Epoch 74/120\n",
      "3750/3750 [==============================] - 265s 71ms/step - loss: 0.1197 - accuracy: 0.9777 - val_loss: 0.5623 - val_accuracy: 0.8740\n",
      "Epoch 75/120\n",
      "3750/3750 [==============================] - 266s 71ms/step - loss: 0.1157 - accuracy: 0.9793 - val_loss: 0.5369 - val_accuracy: 0.8770\n",
      "Epoch 76/120\n",
      "3750/3750 [==============================] - 266s 71ms/step - loss: 0.1126 - accuracy: 0.9802 - val_loss: 0.5901 - val_accuracy: 0.8687\n",
      "Epoch 77/120\n",
      "3750/3750 [==============================] - 265s 71ms/step - loss: 0.1155 - accuracy: 0.9793 - val_loss: 0.5481 - val_accuracy: 0.8765\n",
      "Epoch 78/120\n",
      "3750/3750 [==============================] - 264s 70ms/step - loss: 0.1154 - accuracy: 0.9794 - val_loss: 0.5601 - val_accuracy: 0.8770\n",
      "Epoch 79/120\n",
      "3750/3750 [==============================] - 263s 70ms/step - loss: 0.1122 - accuracy: 0.9798 - val_loss: 0.5665 - val_accuracy: 0.8729\n",
      "Epoch 80/120\n",
      "3750/3750 [==============================] - 263s 70ms/step - loss: 0.1121 - accuracy: 0.9801 - val_loss: 0.5983 - val_accuracy: 0.8667\n",
      "Epoch 81/120\n",
      "3750/3750 [==============================] - 263s 70ms/step - loss: 0.1140 - accuracy: 0.9784 - val_loss: 0.5198 - val_accuracy: 0.8839\n",
      "Epoch 82/120\n",
      "3750/3750 [==============================] - 265s 71ms/step - loss: 0.1089 - accuracy: 0.9813 - val_loss: 0.5539 - val_accuracy: 0.8765\n",
      "Epoch 83/120\n",
      "3750/3750 [==============================] - 265s 71ms/step - loss: 0.1082 - accuracy: 0.9814 - val_loss: 0.5563 - val_accuracy: 0.8752\n",
      "Epoch 84/120\n",
      "3750/3750 [==============================] - 265s 71ms/step - loss: 0.1087 - accuracy: 0.9808 - val_loss: 0.5299 - val_accuracy: 0.8767\n",
      "Epoch 85/120\n",
      "3750/3750 [==============================] - 263s 70ms/step - loss: 0.1108 - accuracy: 0.9801 - val_loss: 0.5508 - val_accuracy: 0.8742\n",
      "Epoch 86/120\n",
      "3750/3750 [==============================] - 263s 70ms/step - loss: 0.1055 - accuracy: 0.9827 - val_loss: 0.6075 - val_accuracy: 0.8743\n",
      "Epoch 87/120\n",
      "3750/3750 [==============================] - 262s 70ms/step - loss: 0.1066 - accuracy: 0.9815 - val_loss: 0.5330 - val_accuracy: 0.8752\n",
      "Epoch 88/120\n",
      "3750/3750 [==============================] - 262s 70ms/step - loss: 0.1071 - accuracy: 0.9822 - val_loss: 0.5908 - val_accuracy: 0.8726\n",
      "Epoch 89/120\n",
      "3750/3750 [==============================] - 260s 69ms/step - loss: 0.1039 - accuracy: 0.9827 - val_loss: 0.5549 - val_accuracy: 0.8771\n",
      "Epoch 90/120\n",
      "3750/3750 [==============================] - 259s 69ms/step - loss: 0.1055 - accuracy: 0.9822 - val_loss: 0.5387 - val_accuracy: 0.8772\n",
      "Epoch 91/120\n",
      "3750/3750 [==============================] - 258s 69ms/step - loss: 0.1044 - accuracy: 0.9828 - val_loss: 0.5816 - val_accuracy: 0.8691\n",
      "Epoch 92/120\n",
      "3750/3750 [==============================] - 256s 68ms/step - loss: 0.1028 - accuracy: 0.9831 - val_loss: 0.5634 - val_accuracy: 0.8726\n",
      "Epoch 93/120\n",
      "3750/3750 [==============================] - 256s 68ms/step - loss: 0.1020 - accuracy: 0.9830 - val_loss: 0.6055 - val_accuracy: 0.8672\n",
      "Epoch 94/120\n",
      "3750/3750 [==============================] - 256s 68ms/step - loss: 0.1022 - accuracy: 0.9831 - val_loss: 0.5576 - val_accuracy: 0.8737\n",
      "Epoch 95/120\n",
      "3750/3750 [==============================] - 256s 68ms/step - loss: 0.1008 - accuracy: 0.9839 - val_loss: 0.5168 - val_accuracy: 0.8857\n",
      "Epoch 96/120\n",
      "3750/3750 [==============================] - 255s 68ms/step - loss: 0.0989 - accuracy: 0.9840 - val_loss: 0.5458 - val_accuracy: 0.8774\n",
      "Epoch 97/120\n",
      "3750/3750 [==============================] - 255s 68ms/step - loss: 0.1006 - accuracy: 0.9835 - val_loss: 0.5390 - val_accuracy: 0.8821\n",
      "Epoch 98/120\n",
      "3750/3750 [==============================] - 255s 68ms/step - loss: 0.0989 - accuracy: 0.9845 - val_loss: 0.5362 - val_accuracy: 0.8788\n",
      "Epoch 99/120\n",
      "3750/3750 [==============================] - 255s 68ms/step - loss: 0.0991 - accuracy: 0.9845 - val_loss: 0.5106 - val_accuracy: 0.8839\n",
      "Epoch 100/120\n",
      "3750/3750 [==============================] - 255s 68ms/step - loss: 0.0973 - accuracy: 0.9852 - val_loss: 0.5465 - val_accuracy: 0.8813\n",
      "Epoch 101/120\n",
      "3750/3750 [==============================] - 255s 68ms/step - loss: 0.0965 - accuracy: 0.9855 - val_loss: 0.5750 - val_accuracy: 0.8681\n",
      "Epoch 102/120\n",
      "3750/3750 [==============================] - 255s 68ms/step - loss: 0.0983 - accuracy: 0.9844 - val_loss: 0.5335 - val_accuracy: 0.8820\n",
      "Epoch 103/120\n",
      "3750/3750 [==============================] - 254s 68ms/step - loss: 0.0961 - accuracy: 0.9851 - val_loss: 0.5178 - val_accuracy: 0.8856\n",
      "Epoch 104/120\n",
      "3750/3750 [==============================] - 254s 68ms/step - loss: 0.0944 - accuracy: 0.9858 - val_loss: 0.5257 - val_accuracy: 0.8815\n",
      "Epoch 105/120\n",
      "3750/3750 [==============================] - 254s 68ms/step - loss: 0.0960 - accuracy: 0.9848 - val_loss: 0.5025 - val_accuracy: 0.8873\n",
      "Epoch 106/120\n",
      "3750/3750 [==============================] - 254s 68ms/step - loss: 0.0956 - accuracy: 0.9844 - val_loss: 0.5240 - val_accuracy: 0.8815\n",
      "Epoch 107/120\n",
      "3750/3750 [==============================] - 254s 68ms/step - loss: 0.0956 - accuracy: 0.9853 - val_loss: 0.5388 - val_accuracy: 0.8828\n",
      "Epoch 108/120\n",
      "3750/3750 [==============================] - 255s 68ms/step - loss: 0.0934 - accuracy: 0.9852 - val_loss: 0.5324 - val_accuracy: 0.8857\n",
      "Epoch 109/120\n",
      "3750/3750 [==============================] - 257s 69ms/step - loss: 0.0945 - accuracy: 0.9854 - val_loss: 0.5146 - val_accuracy: 0.8842\n",
      "Epoch 110/120\n",
      "3750/3750 [==============================] - 263s 70ms/step - loss: 0.0909 - accuracy: 0.9870 - val_loss: 0.4998 - val_accuracy: 0.8893\n",
      "Epoch 111/120\n",
      "3750/3750 [==============================] - 260s 69ms/step - loss: 0.0925 - accuracy: 0.9863 - val_loss: 0.5090 - val_accuracy: 0.8884\n",
      "Epoch 112/120\n",
      "3750/3750 [==============================] - 261s 70ms/step - loss: 0.0934 - accuracy: 0.9855 - val_loss: 0.5256 - val_accuracy: 0.8830\n",
      "Epoch 113/120\n",
      "3750/3750 [==============================] - 259s 69ms/step - loss: 0.0916 - accuracy: 0.9862 - val_loss: 0.5336 - val_accuracy: 0.8860\n",
      "Epoch 114/120\n",
      "3750/3750 [==============================] - 260s 69ms/step - loss: 0.0926 - accuracy: 0.9857 - val_loss: 0.5031 - val_accuracy: 0.8859\n",
      "Epoch 115/120\n",
      "3750/3750 [==============================] - 260s 69ms/step - loss: 0.0910 - accuracy: 0.9863 - val_loss: 0.5422 - val_accuracy: 0.8839\n",
      "Epoch 116/120\n",
      "3750/3750 [==============================] - 261s 70ms/step - loss: 0.0891 - accuracy: 0.9870 - val_loss: 0.5537 - val_accuracy: 0.8791\n",
      "Epoch 117/120\n",
      "3750/3750 [==============================] - 261s 70ms/step - loss: 0.0921 - accuracy: 0.9859 - val_loss: 0.5117 - val_accuracy: 0.8880\n",
      "Epoch 118/120\n",
      "3750/3750 [==============================] - 261s 70ms/step - loss: 0.0884 - accuracy: 0.9875 - val_loss: 0.4967 - val_accuracy: 0.8885\n",
      "Epoch 119/120\n",
      "3750/3750 [==============================] - 261s 70ms/step - loss: 0.0897 - accuracy: 0.9866 - val_loss: 0.5040 - val_accuracy: 0.8882\n",
      "Epoch 120/120\n",
      "3750/3750 [==============================] - 261s 70ms/step - loss: 0.0913 - accuracy: 0.9865 - val_loss: 0.5019 - val_accuracy: 0.8873\n"
     ]
    }
   ],
   "source": [
    "# the loss calculation occurs elsewhere, so we use a dummy lambda function for the loss\n",
    "from tensorflow import keras\n",
    "from tensorflow.keras.callbacks import ReduceLROnPlateau \n",
    "model_final.compile(loss={'ctc': lambda y_true, y_pred: y_pred}, optimizer=keras.optimizers.Adam(learning_rate=0.0001),\n",
    "                  metrics=['accuracy'])\n",
    "\n",
    "\n",
    "history = model_final.fit(x=[x_train_ran, y_train_ran_ctc, train_input_len, train_label_len], y=train_output, \n",
    "                validation_data=([x_test_ran, y_test_ran_ctc, test_input_len, test_label_len], test_output),\n",
    "                epochs=150, verbose=1, batch_size=16)"
   ]
  },
  {
   "cell_type": "code",
   "execution_count": null,
   "metadata": {},
   "outputs": [
    {
     "data": {
      "application/vnd.plotly.v1+json": {
       "config": {
        "plotlyServerURL": "https://plot.ly"
       },
       "data": [
        {
         "line": {
          "color": "blue"
         },
         "mode": "lines",
         "name": "Train",
         "type": "scatter",
         "x": [
          1,
          2,
          3,
          4,
          5,
          6,
          7,
          8,
          9,
          10,
          11,
          12,
          13,
          14,
          15,
          16,
          17,
          18,
          19,
          20,
          21,
          22,
          23,
          24,
          25,
          26,
          27,
          28,
          29,
          30,
          31,
          32,
          33,
          34,
          35,
          36,
          37,
          38,
          39,
          40,
          41,
          42,
          43,
          44,
          45,
          46,
          47,
          48,
          49,
          50,
          51,
          52,
          53,
          54,
          55,
          56,
          57,
          58,
          59,
          60,
          61,
          62,
          63,
          64,
          65,
          66,
          67,
          68,
          69,
          70,
          71,
          72,
          73,
          74,
          75,
          76,
          77,
          78,
          79,
          80,
          81,
          82,
          83,
          84,
          85,
          86,
          87,
          88,
          89,
          90,
          91,
          92,
          93,
          94,
          95,
          96,
          97,
          98,
          99,
          100,
          101,
          102,
          103,
          104,
          105,
          106,
          107,
          108,
          109,
          110,
          111,
          112,
          113,
          114,
          115,
          116,
          117,
          118,
          119,
          120
         ],
         "xaxis": "x",
         "y": [
          0.04501666501164436,
          0.22014999389648438,
          0.3324500024318695,
          0.4218499958515167,
          0.4988333284854889,
          0.5622000098228455,
          0.6182666420936584,
          0.6624666452407837,
          0.7017666697502136,
          0.7345166802406311,
          0.7603499889373779,
          0.7832333445549011,
          0.802649974822998,
          0.8230166435241699,
          0.8356166481971741,
          0.8514166474342346,
          0.8634166717529297,
          0.8723166584968567,
          0.881766676902771,
          0.8892499804496765,
          0.8981333374977112,
          0.9041500091552734,
          0.9105833172798157,
          0.9126166701316833,
          0.9203500151634216,
          0.9211833477020264,
          0.9275333285331726,
          0.9295166730880737,
          0.9333666563034058,
          0.9365833401679993,
          0.9379500150680542,
          0.9422000050544739,
          0.9439833164215088,
          0.9469166398048401,
          0.9485499858856201,
          0.949833333492279,
          0.9501166939735413,
          0.9546833038330078,
          0.9551666378974915,
          0.9566500186920166,
          0.9575166702270508,
          0.9571166634559631,
          0.9579499959945679,
          0.960349977016449,
          0.960433304309845,
          0.9627666473388672,
          0.9644500017166138,
          0.9645000100135803,
          0.9682166576385498,
          0.9674833416938782,
          0.9672999978065491,
          0.9672499895095825,
          0.9685500264167786,
          0.9688000082969666,
          0.9704833626747131,
          0.9712333083152771,
          0.9702833294868469,
          0.9732666611671448,
          0.9715499877929688,
          0.9714833498001099,
          0.9733333587646484,
          0.9742333292961121,
          0.9737499952316284,
          0.974566638469696,
          0.975683331489563,
          0.9757333397865295,
          0.9750499725341797,
          0.9759666919708252,
          0.9772666692733765,
          0.9767333269119263,
          0.977066695690155,
          0.9777666926383972,
          0.9785166382789612,
          0.9776999950408936,
          0.9792666435241699,
          0.9801833629608154,
          0.9792666435241699,
          0.9794166684150696,
          0.9798333048820496,
          0.9801499843597412,
          0.9783666729927063,
          0.9812666773796082,
          0.9814333319664001,
          0.9807666540145874,
          0.9801499843597412,
          0.9827333092689514,
          0.9815499782562256,
          0.9821666479110718,
          0.9826833605766296,
          0.9821666479110718,
          0.9828166961669922,
          0.9831333160400391,
          0.9829666614532471,
          0.9830666780471802,
          0.9838666915893555,
          0.984000027179718,
          0.9834833145141602,
          0.9844666719436646,
          0.9845166802406311,
          0.9851833581924438,
          0.9854833483695984,
          0.9844333529472351,
          0.9851166605949402,
          0.9857666492462158,
          0.9847999811172485,
          0.9843666553497314,
          0.9853000044822693,
          0.9852499961853027,
          0.9853833317756653,
          0.9870166778564453,
          0.9863499999046326,
          0.9855166673660278,
          0.9862333536148071,
          0.9857333302497864,
          0.986299991607666,
          0.9869666695594788,
          0.9858666658401489,
          0.9874500036239624,
          0.9865833520889282,
          0.9865333437919617
         ],
         "yaxis": "y"
        },
        {
         "line": {
          "color": "orange"
         },
         "mode": "lines",
         "name": "Validation",
         "type": "scatter",
         "x": [
          1,
          2,
          3,
          4,
          5,
          6,
          7,
          8,
          9,
          10,
          11,
          12,
          13,
          14,
          15,
          16,
          17,
          18,
          19,
          20,
          21,
          22,
          23,
          24,
          25,
          26,
          27,
          28,
          29,
          30,
          31,
          32,
          33,
          34,
          35,
          36,
          37,
          38,
          39,
          40,
          41,
          42,
          43,
          44,
          45,
          46,
          47,
          48,
          49,
          50,
          51,
          52,
          53,
          54,
          55,
          56,
          57,
          58,
          59,
          60,
          61,
          62,
          63,
          64,
          65,
          66,
          67,
          68,
          69,
          70,
          71,
          72,
          73,
          74,
          75,
          76,
          77,
          78,
          79,
          80,
          81,
          82,
          83,
          84,
          85,
          86,
          87,
          88,
          89,
          90,
          91,
          92,
          93,
          94,
          95,
          96,
          97,
          98,
          99,
          100,
          101,
          102,
          103,
          104,
          105,
          106,
          107,
          108,
          109,
          110,
          111,
          112,
          113,
          114,
          115,
          116,
          117,
          118,
          119,
          120
         ],
         "xaxis": "x",
         "y": [
          0.16535000503063202,
          0.3059000074863434,
          0.3811500072479248,
          0.49434998631477356,
          0.558650016784668,
          0.602649986743927,
          0.6587499976158142,
          0.6972000002861023,
          0.6616500020027161,
          0.7321000099182129,
          0.749750018119812,
          0.7717999815940857,
          0.770799994468689,
          0.792900025844574,
          0.7836999893188477,
          0.7816500067710876,
          0.8083999752998352,
          0.8017500042915344,
          0.8008000254631042,
          0.8242499828338623,
          0.8212000131607056,
          0.8188999891281128,
          0.8159499764442444,
          0.8341500163078308,
          0.8428500294685364,
          0.8406000137329102,
          0.8284000158309937,
          0.8382999897003174,
          0.8356000185012817,
          0.8429499864578247,
          0.8452500104904175,
          0.8378000259399414,
          0.8507999777793884,
          0.847599983215332,
          0.8412500023841858,
          0.8460999727249146,
          0.8528000116348267,
          0.8463000059127808,
          0.8560000061988831,
          0.8568500280380249,
          0.8458999991416931,
          0.8342000246047974,
          0.8534500002861023,
          0.8539999723434448,
          0.8577499985694885,
          0.855650007724762,
          0.8532000184059143,
          0.8616999983787537,
          0.8652999997138977,
          0.8555499911308289,
          0.854449987411499,
          0.8563500046730042,
          0.8600999712944031,
          0.8589500188827515,
          0.8655499815940857,
          0.8668500185012817,
          0.8584499955177307,
          0.8708999752998352,
          0.8614500164985657,
          0.846750020980835,
          0.859250009059906,
          0.8700000047683716,
          0.8690999746322632,
          0.8718500137329102,
          0.8660500049591064,
          0.8716999888420105,
          0.871399998664856,
          0.8704000115394592,
          0.8694499731063843,
          0.8705000281333923,
          0.8706499934196472,
          0.8736500144004822,
          0.8714500069618225,
          0.8739500045776367,
          0.8769500255584717,
          0.8687499761581421,
          0.8764500021934509,
          0.87704998254776,
          0.8729000091552734,
          0.8666999936103821,
          0.883899986743927,
          0.8764500021934509,
          0.8751500248908997,
          0.8767499923706055,
          0.8741999864578247,
          0.8743000030517578,
          0.875249981880188,
          0.8726000189781189,
          0.8770999908447266,
          0.8772000074386597,
          0.8690999746322632,
          0.8725500106811523,
          0.8671500086784363,
          0.8736500144004822,
          0.8857499957084656,
          0.8774499893188477,
          0.8821499943733215,
          0.878849983215332,
          0.8839499950408936,
          0.8812999725341797,
          0.868149995803833,
          0.8820000290870667,
          0.8855999708175659,
          0.8815000057220459,
          0.8873000144958496,
          0.8815000057220459,
          0.8828499913215637,
          0.8857499957084656,
          0.8841500282287598,
          0.8893499970436096,
          0.8884000182151794,
          0.8830000162124634,
          0.8859999775886536,
          0.8859000205993652,
          0.883899986743927,
          0.8791000247001648,
          0.8879500031471252,
          0.8884999752044678,
          0.8882499933242798,
          0.8873000144958496
         ],
         "yaxis": "y"
        },
        {
         "line": {
          "color": "blue"
         },
         "mode": "lines",
         "name": "Train",
         "showlegend": false,
         "type": "scatter",
         "x": [
          1,
          2,
          3,
          4,
          5,
          6,
          7,
          8,
          9,
          10,
          11,
          12,
          13,
          14,
          15,
          16,
          17,
          18,
          19,
          20,
          21,
          22,
          23,
          24,
          25,
          26,
          27,
          28,
          29,
          30,
          31,
          32,
          33,
          34,
          35,
          36,
          37,
          38,
          39,
          40,
          41,
          42,
          43,
          44,
          45,
          46,
          47,
          48,
          49,
          50,
          51,
          52,
          53,
          54,
          55,
          56,
          57,
          58,
          59,
          60,
          61,
          62,
          63,
          64,
          65,
          66,
          67,
          68,
          69,
          70,
          71,
          72,
          73,
          74,
          75,
          76,
          77,
          78,
          79,
          80,
          81,
          82,
          83,
          84,
          85,
          86,
          87,
          88,
          89,
          90,
          91,
          92,
          93,
          94,
          95,
          96,
          97,
          98,
          99,
          100,
          101,
          102,
          103,
          104,
          105,
          106,
          107,
          108,
          109,
          110,
          111,
          112,
          113,
          114,
          115,
          116,
          117,
          118,
          119,
          120
         ],
         "xaxis": "x2",
         "y": [
          7.839324951171875,
          3.7549054622650146,
          2.6572000980377197,
          2.0250704288482666,
          1.6100434064865112,
          1.3284287452697754,
          1.1285420656204224,
          0.9839961528778076,
          0.8677816390991211,
          0.7702427506446838,
          0.6942123174667358,
          0.6363013386726379,
          0.5782477259635925,
          0.5286315679550171,
          0.49239853024482727,
          0.4502829313278198,
          0.42174839973449707,
          0.3947959542274475,
          0.37524405121803284,
          0.3523443937301636,
          0.3338891565799713,
          0.31755539774894714,
          0.3045673370361328,
          0.2940753996372223,
          0.27802911400794983,
          0.2701531648635864,
          0.25870415568351746,
          0.2526702880859375,
          0.2431393563747406,
          0.2352163940668106,
          0.2296050488948822,
          0.22121009230613708,
          0.21609200537204742,
          0.20786352455615997,
          0.20395371317863464,
          0.20103494822978973,
          0.1979866325855255,
          0.18754860758781433,
          0.18606504797935486,
          0.18264785408973694,
          0.1808968335390091,
          0.18032963573932648,
          0.17518383264541626,
          0.17022594809532166,
          0.17034009099006653,
          0.16371189057826996,
          0.161136195063591,
          0.161466583609581,
          0.15250147879123688,
          0.15461711585521698,
          0.15197011828422546,
          0.1522362232208252,
          0.14558956027030945,
          0.1466073840856552,
          0.14274680614471436,
          0.1404215693473816,
          0.14209094643592834,
          0.13742615282535553,
          0.139054074883461,
          0.1379976123571396,
          0.1347053498029709,
          0.13153256475925446,
          0.1321340948343277,
          0.13000519573688507,
          0.12798087298870087,
          0.12627950310707092,
          0.12944616377353668,
          0.12498567998409271,
          0.12307453900575638,
          0.1221727728843689,
          0.12281062453985214,
          0.12008592486381531,
          0.11937539279460907,
          0.1196608915925026,
          0.11565999686717987,
          0.11260809004306793,
          0.11552194505929947,
          0.11544167250394821,
          0.11223895847797394,
          0.11209908872842789,
          0.11398870497941971,
          0.10885962098836899,
          0.10820548981428146,
          0.10867910087108612,
          0.11075127869844437,
          0.10554280132055283,
          0.10663953423500061,
          0.10707562416791916,
          0.10385369509458542,
          0.10554829239845276,
          0.10438671708106995,
          0.10275010764598846,
          0.10201472043991089,
          0.10215141624212265,
          0.10080372542142868,
          0.0989169254899025,
          0.100576251745224,
          0.09886214882135391,
          0.0990990474820137,
          0.097291961312294,
          0.09649233520030975,
          0.09830292314291,
          0.09609294682741165,
          0.0944218561053276,
          0.09595518559217453,
          0.09558989852666855,
          0.09557422995567322,
          0.09344042092561722,
          0.09454698115587234,
          0.09087672829627991,
          0.09248626977205276,
          0.09342001378536224,
          0.0916043370962143,
          0.09261775016784668,
          0.09095199406147003,
          0.08909904956817627,
          0.09208126366138458,
          0.08844422549009323,
          0.08966893702745438,
          0.09134280681610107
         ],
         "yaxis": "y2"
        },
        {
         "line": {
          "color": "orange"
         },
         "mode": "lines",
         "name": "Validation",
         "showlegend": false,
         "type": "scatter",
         "x": [
          1,
          2,
          3,
          4,
          5,
          6,
          7,
          8,
          9,
          10,
          11,
          12,
          13,
          14,
          15,
          16,
          17,
          18,
          19,
          20,
          21,
          22,
          23,
          24,
          25,
          26,
          27,
          28,
          29,
          30,
          31,
          32,
          33,
          34,
          35,
          36,
          37,
          38,
          39,
          40,
          41,
          42,
          43,
          44,
          45,
          46,
          47,
          48,
          49,
          50,
          51,
          52,
          53,
          54,
          55,
          56,
          57,
          58,
          59,
          60,
          61,
          62,
          63,
          64,
          65,
          66,
          67,
          68,
          69,
          70,
          71,
          72,
          73,
          74,
          75,
          76,
          77,
          78,
          79,
          80,
          81,
          82,
          83,
          84,
          85,
          86,
          87,
          88,
          89,
          90,
          91,
          92,
          93,
          94,
          95,
          96,
          97,
          98,
          99,
          100,
          101,
          102,
          103,
          104,
          105,
          106,
          107,
          108,
          109,
          110,
          111,
          112,
          113,
          114,
          115,
          116,
          117,
          118,
          119,
          120
         ],
         "xaxis": "x2",
         "y": [
          4.59824275970459,
          2.851940393447876,
          2.2081589698791504,
          1.699251413345337,
          1.3827084302902222,
          1.2379268407821655,
          1.101210117340088,
          0.9820965528488159,
          1.065649151802063,
          0.8745565414428711,
          0.8301709890365601,
          0.7948468327522278,
          0.8448201417922974,
          0.7502806782722473,
          0.7726887464523315,
          0.7780516743659973,
          0.7491293549537659,
          0.7545872926712036,
          0.8003976345062256,
          0.6900778412818909,
          0.6987246870994568,
          0.7330645322799683,
          0.7375749349594116,
          0.675640344619751,
          0.6572012305259705,
          0.6521191596984863,
          0.708694577217102,
          0.6741824150085449,
          0.6823824048042297,
          0.6511879563331604,
          0.6536024212837219,
          0.6605256795883179,
          0.6248456239700317,
          0.655776858329773,
          0.6714192032814026,
          0.6556991934776306,
          0.6186922192573547,
          0.6453283429145813,
          0.6354105472564697,
          0.5955702662467957,
          0.6468755006790161,
          0.7045395374298096,
          0.6260673999786377,
          0.629812479019165,
          0.6020706295967102,
          0.6189886331558228,
          0.6276574730873108,
          0.5978240370750427,
          0.583363950252533,
          0.6239811778068542,
          0.6317232251167297,
          0.6353119015693665,
          0.6008477807044983,
          0.6087418794631958,
          0.5805327296257019,
          0.5847569108009338,
          0.6105766892433167,
          0.566677987575531,
          0.5953494906425476,
          0.6352073550224304,
          0.6054137349128723,
          0.5763524174690247,
          0.5852711200714111,
          0.5578901767730713,
          0.5728774666786194,
          0.5739933252334595,
          0.5826448202133179,
          0.5718131065368652,
          0.5654090046882629,
          0.5899133682250977,
          0.5735679268836975,
          0.5368013381958008,
          0.5634372234344482,
          0.562319278717041,
          0.5368523001670837,
          0.5900865793228149,
          0.548088788986206,
          0.5601139664649963,
          0.5664517879486084,
          0.5982785224914551,
          0.519844651222229,
          0.5538508892059326,
          0.5563423037528992,
          0.5298752784729004,
          0.5508102774620056,
          0.6075343489646912,
          0.5329973101615906,
          0.5908263325691223,
          0.5549099445343018,
          0.5387018918991089,
          0.5815630555152893,
          0.563437819480896,
          0.6054896116256714,
          0.5575912594795227,
          0.516772449016571,
          0.5457696318626404,
          0.5389825701713562,
          0.5362207293510437,
          0.5105604529380798,
          0.546546459197998,
          0.5750032663345337,
          0.5335002541542053,
          0.5177831649780273,
          0.5257299542427063,
          0.5024826526641846,
          0.5239828824996948,
          0.5387569069862366,
          0.5323582291603088,
          0.5146180391311646,
          0.4998012185096741,
          0.5089775323867798,
          0.5255977511405945,
          0.5336206555366516,
          0.5031086802482605,
          0.542174220085144,
          0.5536746978759766,
          0.5116738080978394,
          0.4967086911201477,
          0.5040072798728943,
          0.5019240975379944
         ],
         "yaxis": "y2"
        }
       ],
       "layout": {
        "annotations": [
         {
          "font": {
           "size": 16
          },
          "showarrow": false,
          "text": "Model accuracy",
          "x": 0.225,
          "xanchor": "center",
          "xref": "paper",
          "y": 1,
          "yanchor": "bottom",
          "yref": "paper"
         },
         {
          "font": {
           "size": 16
          },
          "showarrow": false,
          "text": "Model loss",
          "x": 0.775,
          "xanchor": "center",
          "xref": "paper",
          "y": 1,
          "yanchor": "bottom",
          "yref": "paper"
         }
        ],
        "legend": {
         "x": 0.85,
         "y": 1
        },
        "template": {
         "data": {
          "bar": [
           {
            "error_x": {
             "color": "#2a3f5f"
            },
            "error_y": {
             "color": "#2a3f5f"
            },
            "marker": {
             "line": {
              "color": "#E5ECF6",
              "width": 0.5
             },
             "pattern": {
              "fillmode": "overlay",
              "size": 10,
              "solidity": 0.2
             }
            },
            "type": "bar"
           }
          ],
          "barpolar": [
           {
            "marker": {
             "line": {
              "color": "#E5ECF6",
              "width": 0.5
             },
             "pattern": {
              "fillmode": "overlay",
              "size": 10,
              "solidity": 0.2
             }
            },
            "type": "barpolar"
           }
          ],
          "carpet": [
           {
            "aaxis": {
             "endlinecolor": "#2a3f5f",
             "gridcolor": "white",
             "linecolor": "white",
             "minorgridcolor": "white",
             "startlinecolor": "#2a3f5f"
            },
            "baxis": {
             "endlinecolor": "#2a3f5f",
             "gridcolor": "white",
             "linecolor": "white",
             "minorgridcolor": "white",
             "startlinecolor": "#2a3f5f"
            },
            "type": "carpet"
           }
          ],
          "choropleth": [
           {
            "colorbar": {
             "outlinewidth": 0,
             "ticks": ""
            },
            "type": "choropleth"
           }
          ],
          "contour": [
           {
            "colorbar": {
             "outlinewidth": 0,
             "ticks": ""
            },
            "colorscale": [
             [
              0,
              "#0d0887"
             ],
             [
              0.1111111111111111,
              "#46039f"
             ],
             [
              0.2222222222222222,
              "#7201a8"
             ],
             [
              0.3333333333333333,
              "#9c179e"
             ],
             [
              0.4444444444444444,
              "#bd3786"
             ],
             [
              0.5555555555555556,
              "#d8576b"
             ],
             [
              0.6666666666666666,
              "#ed7953"
             ],
             [
              0.7777777777777778,
              "#fb9f3a"
             ],
             [
              0.8888888888888888,
              "#fdca26"
             ],
             [
              1,
              "#f0f921"
             ]
            ],
            "type": "contour"
           }
          ],
          "contourcarpet": [
           {
            "colorbar": {
             "outlinewidth": 0,
             "ticks": ""
            },
            "type": "contourcarpet"
           }
          ],
          "heatmap": [
           {
            "colorbar": {
             "outlinewidth": 0,
             "ticks": ""
            },
            "colorscale": [
             [
              0,
              "#0d0887"
             ],
             [
              0.1111111111111111,
              "#46039f"
             ],
             [
              0.2222222222222222,
              "#7201a8"
             ],
             [
              0.3333333333333333,
              "#9c179e"
             ],
             [
              0.4444444444444444,
              "#bd3786"
             ],
             [
              0.5555555555555556,
              "#d8576b"
             ],
             [
              0.6666666666666666,
              "#ed7953"
             ],
             [
              0.7777777777777778,
              "#fb9f3a"
             ],
             [
              0.8888888888888888,
              "#fdca26"
             ],
             [
              1,
              "#f0f921"
             ]
            ],
            "type": "heatmap"
           }
          ],
          "heatmapgl": [
           {
            "colorbar": {
             "outlinewidth": 0,
             "ticks": ""
            },
            "colorscale": [
             [
              0,
              "#0d0887"
             ],
             [
              0.1111111111111111,
              "#46039f"
             ],
             [
              0.2222222222222222,
              "#7201a8"
             ],
             [
              0.3333333333333333,
              "#9c179e"
             ],
             [
              0.4444444444444444,
              "#bd3786"
             ],
             [
              0.5555555555555556,
              "#d8576b"
             ],
             [
              0.6666666666666666,
              "#ed7953"
             ],
             [
              0.7777777777777778,
              "#fb9f3a"
             ],
             [
              0.8888888888888888,
              "#fdca26"
             ],
             [
              1,
              "#f0f921"
             ]
            ],
            "type": "heatmapgl"
           }
          ],
          "histogram": [
           {
            "marker": {
             "pattern": {
              "fillmode": "overlay",
              "size": 10,
              "solidity": 0.2
             }
            },
            "type": "histogram"
           }
          ],
          "histogram2d": [
           {
            "colorbar": {
             "outlinewidth": 0,
             "ticks": ""
            },
            "colorscale": [
             [
              0,
              "#0d0887"
             ],
             [
              0.1111111111111111,
              "#46039f"
             ],
             [
              0.2222222222222222,
              "#7201a8"
             ],
             [
              0.3333333333333333,
              "#9c179e"
             ],
             [
              0.4444444444444444,
              "#bd3786"
             ],
             [
              0.5555555555555556,
              "#d8576b"
             ],
             [
              0.6666666666666666,
              "#ed7953"
             ],
             [
              0.7777777777777778,
              "#fb9f3a"
             ],
             [
              0.8888888888888888,
              "#fdca26"
             ],
             [
              1,
              "#f0f921"
             ]
            ],
            "type": "histogram2d"
           }
          ],
          "histogram2dcontour": [
           {
            "colorbar": {
             "outlinewidth": 0,
             "ticks": ""
            },
            "colorscale": [
             [
              0,
              "#0d0887"
             ],
             [
              0.1111111111111111,
              "#46039f"
             ],
             [
              0.2222222222222222,
              "#7201a8"
             ],
             [
              0.3333333333333333,
              "#9c179e"
             ],
             [
              0.4444444444444444,
              "#bd3786"
             ],
             [
              0.5555555555555556,
              "#d8576b"
             ],
             [
              0.6666666666666666,
              "#ed7953"
             ],
             [
              0.7777777777777778,
              "#fb9f3a"
             ],
             [
              0.8888888888888888,
              "#fdca26"
             ],
             [
              1,
              "#f0f921"
             ]
            ],
            "type": "histogram2dcontour"
           }
          ],
          "mesh3d": [
           {
            "colorbar": {
             "outlinewidth": 0,
             "ticks": ""
            },
            "type": "mesh3d"
           }
          ],
          "parcoords": [
           {
            "line": {
             "colorbar": {
              "outlinewidth": 0,
              "ticks": ""
             }
            },
            "type": "parcoords"
           }
          ],
          "pie": [
           {
            "automargin": true,
            "type": "pie"
           }
          ],
          "scatter": [
           {
            "fillpattern": {
             "fillmode": "overlay",
             "size": 10,
             "solidity": 0.2
            },
            "type": "scatter"
           }
          ],
          "scatter3d": [
           {
            "line": {
             "colorbar": {
              "outlinewidth": 0,
              "ticks": ""
             }
            },
            "marker": {
             "colorbar": {
              "outlinewidth": 0,
              "ticks": ""
             }
            },
            "type": "scatter3d"
           }
          ],
          "scattercarpet": [
           {
            "marker": {
             "colorbar": {
              "outlinewidth": 0,
              "ticks": ""
             }
            },
            "type": "scattercarpet"
           }
          ],
          "scattergeo": [
           {
            "marker": {
             "colorbar": {
              "outlinewidth": 0,
              "ticks": ""
             }
            },
            "type": "scattergeo"
           }
          ],
          "scattergl": [
           {
            "marker": {
             "colorbar": {
              "outlinewidth": 0,
              "ticks": ""
             }
            },
            "type": "scattergl"
           }
          ],
          "scattermapbox": [
           {
            "marker": {
             "colorbar": {
              "outlinewidth": 0,
              "ticks": ""
             }
            },
            "type": "scattermapbox"
           }
          ],
          "scatterpolar": [
           {
            "marker": {
             "colorbar": {
              "outlinewidth": 0,
              "ticks": ""
             }
            },
            "type": "scatterpolar"
           }
          ],
          "scatterpolargl": [
           {
            "marker": {
             "colorbar": {
              "outlinewidth": 0,
              "ticks": ""
             }
            },
            "type": "scatterpolargl"
           }
          ],
          "scatterternary": [
           {
            "marker": {
             "colorbar": {
              "outlinewidth": 0,
              "ticks": ""
             }
            },
            "type": "scatterternary"
           }
          ],
          "surface": [
           {
            "colorbar": {
             "outlinewidth": 0,
             "ticks": ""
            },
            "colorscale": [
             [
              0,
              "#0d0887"
             ],
             [
              0.1111111111111111,
              "#46039f"
             ],
             [
              0.2222222222222222,
              "#7201a8"
             ],
             [
              0.3333333333333333,
              "#9c179e"
             ],
             [
              0.4444444444444444,
              "#bd3786"
             ],
             [
              0.5555555555555556,
              "#d8576b"
             ],
             [
              0.6666666666666666,
              "#ed7953"
             ],
             [
              0.7777777777777778,
              "#fb9f3a"
             ],
             [
              0.8888888888888888,
              "#fdca26"
             ],
             [
              1,
              "#f0f921"
             ]
            ],
            "type": "surface"
           }
          ],
          "table": [
           {
            "cells": {
             "fill": {
              "color": "#EBF0F8"
             },
             "line": {
              "color": "white"
             }
            },
            "header": {
             "fill": {
              "color": "#C8D4E3"
             },
             "line": {
              "color": "white"
             }
            },
            "type": "table"
           }
          ]
         },
         "layout": {
          "annotationdefaults": {
           "arrowcolor": "#2a3f5f",
           "arrowhead": 0,
           "arrowwidth": 1
          },
          "autotypenumbers": "strict",
          "coloraxis": {
           "colorbar": {
            "outlinewidth": 0,
            "ticks": ""
           }
          },
          "colorscale": {
           "diverging": [
            [
             0,
             "#8e0152"
            ],
            [
             0.1,
             "#c51b7d"
            ],
            [
             0.2,
             "#de77ae"
            ],
            [
             0.3,
             "#f1b6da"
            ],
            [
             0.4,
             "#fde0ef"
            ],
            [
             0.5,
             "#f7f7f7"
            ],
            [
             0.6,
             "#e6f5d0"
            ],
            [
             0.7,
             "#b8e186"
            ],
            [
             0.8,
             "#7fbc41"
            ],
            [
             0.9,
             "#4d9221"
            ],
            [
             1,
             "#276419"
            ]
           ],
           "sequential": [
            [
             0,
             "#0d0887"
            ],
            [
             0.1111111111111111,
             "#46039f"
            ],
            [
             0.2222222222222222,
             "#7201a8"
            ],
            [
             0.3333333333333333,
             "#9c179e"
            ],
            [
             0.4444444444444444,
             "#bd3786"
            ],
            [
             0.5555555555555556,
             "#d8576b"
            ],
            [
             0.6666666666666666,
             "#ed7953"
            ],
            [
             0.7777777777777778,
             "#fb9f3a"
            ],
            [
             0.8888888888888888,
             "#fdca26"
            ],
            [
             1,
             "#f0f921"
            ]
           ],
           "sequentialminus": [
            [
             0,
             "#0d0887"
            ],
            [
             0.1111111111111111,
             "#46039f"
            ],
            [
             0.2222222222222222,
             "#7201a8"
            ],
            [
             0.3333333333333333,
             "#9c179e"
            ],
            [
             0.4444444444444444,
             "#bd3786"
            ],
            [
             0.5555555555555556,
             "#d8576b"
            ],
            [
             0.6666666666666666,
             "#ed7953"
            ],
            [
             0.7777777777777778,
             "#fb9f3a"
            ],
            [
             0.8888888888888888,
             "#fdca26"
            ],
            [
             1,
             "#f0f921"
            ]
           ]
          },
          "colorway": [
           "#636efa",
           "#EF553B",
           "#00cc96",
           "#ab63fa",
           "#FFA15A",
           "#19d3f3",
           "#FF6692",
           "#B6E880",
           "#FF97FF",
           "#FECB52"
          ],
          "font": {
           "color": "#2a3f5f"
          },
          "geo": {
           "bgcolor": "white",
           "lakecolor": "white",
           "landcolor": "#E5ECF6",
           "showlakes": true,
           "showland": true,
           "subunitcolor": "white"
          },
          "hoverlabel": {
           "align": "left"
          },
          "hovermode": "closest",
          "mapbox": {
           "style": "light"
          },
          "paper_bgcolor": "white",
          "plot_bgcolor": "#E5ECF6",
          "polar": {
           "angularaxis": {
            "gridcolor": "white",
            "linecolor": "white",
            "ticks": ""
           },
           "bgcolor": "#E5ECF6",
           "radialaxis": {
            "gridcolor": "white",
            "linecolor": "white",
            "ticks": ""
           }
          },
          "scene": {
           "xaxis": {
            "backgroundcolor": "#E5ECF6",
            "gridcolor": "white",
            "gridwidth": 2,
            "linecolor": "white",
            "showbackground": true,
            "ticks": "",
            "zerolinecolor": "white"
           },
           "yaxis": {
            "backgroundcolor": "#E5ECF6",
            "gridcolor": "white",
            "gridwidth": 2,
            "linecolor": "white",
            "showbackground": true,
            "ticks": "",
            "zerolinecolor": "white"
           },
           "zaxis": {
            "backgroundcolor": "#E5ECF6",
            "gridcolor": "white",
            "gridwidth": 2,
            "linecolor": "white",
            "showbackground": true,
            "ticks": "",
            "zerolinecolor": "white"
           }
          },
          "shapedefaults": {
           "line": {
            "color": "#2a3f5f"
           }
          },
          "ternary": {
           "aaxis": {
            "gridcolor": "white",
            "linecolor": "white",
            "ticks": ""
           },
           "baxis": {
            "gridcolor": "white",
            "linecolor": "white",
            "ticks": ""
           },
           "bgcolor": "#E5ECF6",
           "caxis": {
            "gridcolor": "white",
            "linecolor": "white",
            "ticks": ""
           }
          },
          "title": {
           "x": 0.05
          },
          "xaxis": {
           "automargin": true,
           "gridcolor": "white",
           "linecolor": "white",
           "ticks": "",
           "title": {
            "standoff": 15
           },
           "zerolinecolor": "white",
           "zerolinewidth": 2
          },
          "yaxis": {
           "automargin": true,
           "gridcolor": "white",
           "linecolor": "white",
           "ticks": "",
           "title": {
            "standoff": 15
           },
           "zerolinecolor": "white",
           "zerolinewidth": 2
          }
         }
        },
        "title": {
         "text": "Model Training History"
        },
        "xaxis": {
         "anchor": "y",
         "domain": [
          0,
          0.45
         ],
         "title": {
          "text": "Epoch"
         }
        },
        "xaxis2": {
         "anchor": "y2",
         "domain": [
          0.55,
          1
         ]
        },
        "yaxis": {
         "anchor": "x",
         "domain": [
          0,
          1
         ],
         "title": {
          "text": "Value"
         }
        },
        "yaxis2": {
         "anchor": "x2",
         "domain": [
          0,
          1
         ]
        }
       }
      }
     },
     "metadata": {},
     "output_type": "display_data"
    }
   ],
   "source": [
    "import plotly.graph_objects as go\n",
    "from plotly.subplots import make_subplots\n",
    "\n",
    "fig = make_subplots(rows=1, cols=2, subplot_titles=(\"Model accuracy\", \"Model loss\"))\n",
    "\n",
    "# Add the first subplot for accuracy\n",
    "fig.add_trace(go.Scatter(x=list(range(1, len(history.history['accuracy']) + 1)),\n",
    "                         y=history.history['accuracy'], mode='lines',\n",
    "                         name='Train', line=dict(color='blue')), row=1, col=1)\n",
    "fig.add_trace(go.Scatter(x=list(range(1, len(history.history['val_accuracy']) + 1)),\n",
    "                         y=history.history['val_accuracy'], mode='lines',\n",
    "                         name='Validation', line=dict(color='orange')), row=1, col=1)\n",
    "\n",
    "# Add the second subplot for loss\n",
    "fig.add_trace(go.Scatter(x=list(range(1, len(history.history['loss']) + 1)),\n",
    "                         y=history.history['loss'], mode='lines',\n",
    "                         name='Train', line=dict(color='blue'), showlegend=False), row=1, col=2)\n",
    "fig.add_trace(go.Scatter(x=list(range(1, len(history.history['val_loss']) + 1)),\n",
    "                         y=history.history['val_loss'], mode='lines',\n",
    "                         name='Validation', line=dict(color='orange'), showlegend=False), row=1, col=2)\n",
    "\n",
    "fig.update_layout(title=\"Model Training History\",\n",
    "                  xaxis_title=\"Epoch\",\n",
    "                  yaxis_title=\"Value\",\n",
    "                  legend=dict(x=0.85, y=1))\n",
    "\n",
    "fig.show()"
   ]
  },
  {
   "cell_type": "code",
   "execution_count": 20,
   "metadata": {},
   "outputs": [],
   "source": [
    "preds = model.predict(x_verify_ran)\n",
    "decoded = K.get_value(K.ctc_decode(preds, input_length=np.ones(preds.shape[0])*preds.shape[1], \n",
    "                                   greedy=True)[0][0])\n",
    "\n",
    "alphabets = u\"0123456789 \"\n",
    "\n",
    "def num_to_label(num):\n",
    "    ret = \"\"\n",
    "    for ch in num:\n",
    "        if ch == -1:  # CTC Blank\n",
    "            break\n",
    "        else:\n",
    "            ret+=alphabets[ch]\n",
    "    return ret\n",
    "\n",
    "prediction = []\n",
    "for i in range(len(y_verify_ran)):\n",
    "    prediction.append(num_to_label(decoded[i]))"
   ]
  },
  {
   "cell_type": "code",
   "execution_count": 21,
   "metadata": {},
   "outputs": [],
   "source": [
    "y_true = []\n",
    "for i in range(20000):\n",
    "    y_true.append(y_verify_random[i][0])"
   ]
  },
  {
   "cell_type": "code",
   "execution_count": 22,
   "metadata": {},
   "outputs": [
    {
     "name": "stdout",
     "output_type": "stream",
     "text": [
      "Correct characters predicted : 96.26%\n",
      "Correct words predicted      : 89.91%\n"
     ]
    }
   ],
   "source": [
    "correct_char = 0\n",
    "total_char = 0\n",
    "correct = 0\n",
    "valid_size=len(y_verify_random)\n",
    "\n",
    "for i in range(valid_size):\n",
    "    pr = prediction[i]\n",
    "    tr = y_true[i]\n",
    "    total_char += len(tr)\n",
    "    \n",
    "    for j in range(min(len(tr), len(pr))):\n",
    "        if tr[j] == pr[j]:\n",
    "            correct_char += 1\n",
    "            \n",
    "    if pr == tr :\n",
    "        correct += 1 \n",
    "    \n",
    "print('Correct characters predicted : %.2f%%' %(correct_char*100/total_char))\n",
    "print('Correct words predicted      : %.2f%%' %(correct*100/valid_size))"
   ]
  },
  {
   "cell_type": "code",
   "execution_count": 23,
   "metadata": {},
   "outputs": [
    {
     "name": "stdout",
     "output_type": "stream",
     "text": [
      "Label:7; Predicted:7\n"
     ]
    },
    {
     "data": {
      "image/png": "[encoded data removed]",
      "text/plain": [
       "<PIL.Image.Image image mode=L size=100x28>"
      ]
     },
     "metadata": {},
     "output_type": "display_data"
    },
    {
     "name": "stdout",
     "output_type": "stream",
     "text": [
      "Label:88; Predicted:88\n"
     ]
    },
    {
     "data": {
      "image/png": "[encoded data removed]",
      "text/plain": [
       "<PIL.Image.Image image mode=L size=100x28>"
      ]
     },
     "metadata": {},
     "output_type": "display_data"
    },
    {
     "name": "stdout",
     "output_type": "stream",
     "text": [
      "Label:797; Predicted:797\n"
     ]
    },
    {
     "data": {
      "image/png": "[encoded data removed]",
      "text/plain": [
       "<PIL.Image.Image image mode=L size=100x28>"
      ]
     },
     "metadata": {},
     "output_type": "display_data"
    },
    {
     "name": "stdout",
     "output_type": "stream",
     "text": [
      "Label:86880; Predicted:86880\n"
     ]
    },
    {
     "data": {
      "image/png": "[encoded data removed]",
      "text/plain": [
       "<PIL.Image.Image image mode=L size=100x28>"
      ]
     },
     "metadata": {},
     "output_type": "display_data"
    },
    {
     "name": "stdout",
     "output_type": "stream",
     "text": [
      "Label:33617; Predicted:33617\n"
     ]
    },
    {
     "data": {
      "image/png": "[encoded data removed]",
      "text/plain": [
       "<PIL.Image.Image image mode=L size=100x28>"
      ]
     },
     "metadata": {},
     "output_type": "display_data"
    },
    {
     "name": "stdout",
     "output_type": "stream",
     "text": [
      "Label:2; Predicted:2\n"
     ]
    },
    {
     "data": {
      "image/png": "[encoded data removed]",
      "text/plain": [
       "<PIL.Image.Image image mode=L size=100x28>"
      ]
     },
     "metadata": {},
     "output_type": "display_data"
    },
    {
     "name": "stdout",
     "output_type": "stream",
     "text": [
      "Label:259; Predicted:259\n"
     ]
    },
    {
     "data": {
      "image/png": "[encoded data removed]",
      "text/plain": [
       "<PIL.Image.Image image mode=L size=100x28>"
      ]
     },
     "metadata": {},
     "output_type": "display_data"
    },
    {
     "name": "stdout",
     "output_type": "stream",
     "text": [
      "Label:36; Predicted:36\n"
     ]
    },
    {
     "data": {
      "image/png": "[encoded data removed]",
      "text/plain": [
       "<PIL.Image.Image image mode=L size=100x28>"
      ]
     },
     "metadata": {},
     "output_type": "display_data"
    },
    {
     "name": "stdout",
     "output_type": "stream",
     "text": [
      "Label:3; Predicted:3\n"
     ]
    },
    {
     "data": {
      "image/png": "[encoded data removed]",
      "text/plain": [
       "<PIL.Image.Image image mode=L size=100x28>"
      ]
     },
     "metadata": {},
     "output_type": "display_data"
    },
    {
     "name": "stdout",
     "output_type": "stream",
     "text": [
      "Label:0; Predicted:0\n"
     ]
    },
    {
     "data": {
      "image/png": "[encoded data removed]",
      "text/plain": [
       "<PIL.Image.Image image mode=L size=100x28>"
      ]
     },
     "metadata": {},
     "output_type": "display_data"
    }
   ],
   "source": [
    "for id_n in np.random.randint(0, len(y_true),10):\n",
    "    image_data = (np.squeeze(x_verify_ran[id_n]) * 255).astype('uint8')\n",
    "    image = Image.fromarray(image_data, 'L')\n",
    "    title = f\"Label:{y_true[id_n]}; Predicted:{prediction[id_n]}\"\n",
    "    print(title)\n",
    "    display(image)"
   ]
  }
 ],
 "metadata": {
  "kernelspec": {
   "display_name": "anacondaTensorflow",
   "language": "python",
   "name": "python3"
  },
  "language_info": {
   "codemirror_mode": {
    "name": "ipython",
    "version": 3
   },
   "file_extension": ".py",
   "mimetype": "text/x-python",
   "name": "python",
   "nbconvert_exporter": "python",
   "pygments_lexer": "ipython3",
   "version": "3.8.17"
  }
 },
 "nbformat": 4,
 "nbformat_minor": 2
}
